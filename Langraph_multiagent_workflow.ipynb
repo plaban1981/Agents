{
  "nbformat": 4,
  "nbformat_minor": 0,
  "metadata": {
    "colab": {
      "provenance": [],
      "authorship_tag": "ABX9TyOtBj8wIvx+2scrgDq6EV4/",
      "include_colab_link": true
    },
    "kernelspec": {
      "name": "python3",
      "display_name": "Python 3"
    },
    "language_info": {
      "name": "python"
    }
  },
  "cells": [
    {
      "cell_type": "markdown",
      "metadata": {
        "id": "view-in-github",
        "colab_type": "text"
      },
      "source": [
        "<a href=\"https://colab.research.google.com/github/plaban1981/Agents/blob/main/Langraph_multiagent_workflow.ipynb\" target=\"_parent\"><img src=\"https://colab.research.google.com/assets/colab-badge.svg\" alt=\"Open In Colab\"/></a>"
      ]
    },
    {
      "cell_type": "code",
      "execution_count": 3,
      "metadata": {
        "colab": {
          "base_uri": "https://localhost:8080/"
        },
        "id": "sqheUtzfhFVL",
        "outputId": "46ca5641-7e6d-4204-9b5f-1d3c6bb1930e"
      },
      "outputs": [
        {
          "output_type": "stream",
          "name": "stdout",
          "text": [
            "\u001b[2K     \u001b[90m━━━━━━━━━━━━━━━━━━━━━━━━━━━━━━━━━━━━━━━━\u001b[0m \u001b[32m43.5/43.5 kB\u001b[0m \u001b[31m2.4 MB/s\u001b[0m eta \u001b[36m0:00:00\u001b[0m\n",
            "\u001b[2K   \u001b[90m━━━━━━━━━━━━━━━━━━━━━━━━━━━━━━━━━━━━━━━━\u001b[0m \u001b[32m1.0/1.0 MB\u001b[0m \u001b[31m21.1 MB/s\u001b[0m eta \u001b[36m0:00:00\u001b[0m\n",
            "\u001b[2K   \u001b[90m━━━━━━━━━━━━━━━━━━━━━━━━━━━━━━━━━━━━━━━━\u001b[0m \u001b[32m423.3/423.3 kB\u001b[0m \u001b[31m22.3 MB/s\u001b[0m eta \u001b[36m0:00:00\u001b[0m\n",
            "\u001b[2K   \u001b[90m━━━━━━━━━━━━━━━━━━━━━━━━━━━━━━━━━━━━━━━━\u001b[0m \u001b[32m2.5/2.5 MB\u001b[0m \u001b[31m46.6 MB/s\u001b[0m eta \u001b[36m0:00:00\u001b[0m\n",
            "\u001b[2K   \u001b[90m━━━━━━━━━━━━━━━━━━━━━━━━━━━━━━━━━━━━━━━━\u001b[0m \u001b[32m61.3/61.3 kB\u001b[0m \u001b[31m4.3 MB/s\u001b[0m eta \u001b[36m0:00:00\u001b[0m\n",
            "\u001b[2K   \u001b[90m━━━━━━━━━━━━━━━━━━━━━━━━━━━━━━━━━━━━━━━━\u001b[0m \u001b[32m142.4/142.4 kB\u001b[0m \u001b[31m10.9 MB/s\u001b[0m eta \u001b[36m0:00:00\u001b[0m\n",
            "\u001b[2K   \u001b[90m━━━━━━━━━━━━━━━━━━━━━━━━━━━━━━━━━━━━━━━━\u001b[0m \u001b[32m126.7/126.7 kB\u001b[0m \u001b[31m10.0 MB/s\u001b[0m eta \u001b[36m0:00:00\u001b[0m\n",
            "\u001b[2K   \u001b[90m━━━━━━━━━━━━━━━━━━━━━━━━━━━━━━━━━━━━━━━━\u001b[0m \u001b[32m42.0/42.0 kB\u001b[0m \u001b[31m2.7 MB/s\u001b[0m eta \u001b[36m0:00:00\u001b[0m\n",
            "\u001b[2K   \u001b[90m━━━━━━━━━━━━━━━━━━━━━━━━━━━━━━━━━━━━━━━━\u001b[0m \u001b[32m47.2/47.2 kB\u001b[0m \u001b[31m3.4 MB/s\u001b[0m eta \u001b[36m0:00:00\u001b[0m\n",
            "\u001b[2K   \u001b[90m━━━━━━━━━━━━━━━━━━━━━━━━━━━━━━━━━━━━━━━━\u001b[0m \u001b[32m1.2/1.2 MB\u001b[0m \u001b[31m14.2 MB/s\u001b[0m eta \u001b[36m0:00:00\u001b[0m\n",
            "\u001b[2K   \u001b[90m━━━━━━━━━━━━━━━━━━━━━━━━━━━━━━━━━━━━━━━━\u001b[0m \u001b[32m194.8/194.8 kB\u001b[0m \u001b[31m11.1 MB/s\u001b[0m eta \u001b[36m0:00:00\u001b[0m\n",
            "\u001b[2K   \u001b[90m━━━━━━━━━━━━━━━━━━━━━━━━━━━━━━━━━━━━━━━━\u001b[0m \u001b[32m50.9/50.9 kB\u001b[0m \u001b[31m3.4 MB/s\u001b[0m eta \u001b[36m0:00:00\u001b[0m\n",
            "\u001b[2K   \u001b[90m━━━━━━━━━━━━━━━━━━━━━━━━━━━━━━━━━━━━━━━━\u001b[0m \u001b[32m223.6/223.6 kB\u001b[0m \u001b[31m13.8 MB/s\u001b[0m eta \u001b[36m0:00:00\u001b[0m\n",
            "\u001b[?25h"
          ]
        }
      ],
      "source": [
        "%pip install -qU langchain langchain-core langchain-groq langchain-community langchain-openai langgraph-supervisor langgraph"
      ]
    },
    {
      "cell_type": "code",
      "source": [
        "from google.colab import userdata\n",
        "import os\n",
        "os.environ['OPENAI_API_KEY'] = userdata.get('OPENAI_API_KEY')\n",
        "os.environ[\"GROQ_API_KEY\"] = userdata.get('GROQ_API_KEY')"
      ],
      "metadata": {
        "id": "NC7JW92elUBn"
      },
      "execution_count": 4,
      "outputs": []
    },
    {
      "cell_type": "code",
      "source": [
        "from langchain_groq import ChatGroq\n",
        "groq_model=ChatGroq(model=\"deepseek-r1-distill-llama-70b\",temperature=0.6)"
      ],
      "metadata": {
        "id": "1aqSL7fspVUa"
      },
      "execution_count": 5,
      "outputs": []
    },
    {
      "cell_type": "markdown",
      "source": [
        "### Create Pydantic Model"
      ],
      "metadata": {
        "id": "i6q5rOFkuyOV"
      }
    },
    {
      "cell_type": "code",
      "source": [
        "from typing import List\n",
        "from pydantic import BaseModel, Field\n",
        "#\n",
        "class TaskEstimate(BaseModel):\n",
        "  task_name:str=Field(...,description=\"Name ofg the Task\")\n",
        "  estimated_hours:float= Field(...,description=\"Estimated hours for the task in hours\")\n",
        "  required_resources:List[str]=Field(...,description=\"List of resources required for the completion of the task\")\n",
        "#"
      ],
      "metadata": {
        "id": "UXbNQdcEuxZh"
      },
      "execution_count": 6,
      "outputs": []
    },
    {
      "cell_type": "markdown",
      "source": [
        "### Define  Tools"
      ],
      "metadata": {
        "id": "CbZrqdfkuaC8"
      }
    },
    {
      "cell_type": "markdown",
      "source": [
        "#### Task Planning"
      ],
      "metadata": {
        "id": "wx0DcCWhCinx"
      }
    },
    {
      "cell_type": "code",
      "source": [
        "from langchain_core.prompts import PromptTemplate\n",
        "from langchain_core.output_parsers import JsonOutputParser,StrOutputParser\n",
        "#\n",
        "def planningTool(project_type,project_requirements,team_mbers,objective):\n",
        "  \"\"\"Task Planner Function tool that helps to plan tasks\"\"\"\n",
        "  prompt = \"\"\"Carefully analyze the project requirements for the Project : {project_type} and break them down into individual tasks.\n",
        "  Define each task's scope in detail,set achievable timelines and ensure that all the dependencies are accounted for:\n",
        "\n",
        "  Project Objective: {objective}\n",
        "\n",
        "  Project Requirement:\n",
        "  {project_requirements}\n",
        "\n",
        "  Team Members:\n",
        "  {team_members}\n",
        "\n",
        "  The final output should be a comprehensive list of taks with detailed scope,timelines,description,dependencies and deliverables.\n",
        "  Your final OUTPUT must include a Gnatt Chart or similar timeline visualization specific to {project_type} project.\n",
        "  \"\"\"\n",
        "  final_prompt = PromptTemplate(input_variables=[\"project_type\",\"project_requirements\",\"team_members\",\"objective\"],template=prompt)\n",
        "  chain = final_prompt | groq_model | StrOutputParser()\n",
        "  response = chain.invoke({\"project_type\":project_type,\"project_requirements\":project_requirements,\"team_members\":team_mbers,\"objective\":objective})\n",
        "  return response"
      ],
      "metadata": {
        "id": "ryji3SeQucTF"
      },
      "execution_count": 29,
      "outputs": []
    },
    {
      "cell_type": "code",
      "source": [
        "project_type =\"website\"\n",
        "objective = \"Create a website for a small business\"\n",
        "team_mbers =\"\"\"\n",
        "- John Doe (Project Manager)\n",
        "- Alice (Software Engineer)\n",
        "- Bob Smith (FrontEnd Designer)\n",
        "- Victor (QA Engineer)\n",
        "- Tom Hardy (QA Engineer)\n",
        "\"\"\"\n",
        "project_requirements=\"\"\"\n",
        "- Create a responsive design that works well on desktop and mobile app\n",
        "- Implement a modern visually appealing user interface with a cleann look\n",
        "- Develop a user friendly navigation system with intutive menu structure\n",
        "- Include an 'About Us' page highlighting the company's history and values\n",
        "- Design a 'Services' page showcasing the business offerings with descriptions\n",
        "- create a 'contact us' page with form and integrated map for communication\n",
        "- Implement a 'blog' section for sharing industry news and company updates\n",
        "- Ensure fast uploading time and optimize for Search Engines(SEO)\n",
        "- Integrate Social media links and sharing capabilities\n",
        "- Include testimonials section to showcase customer feedback and build trust\n",
        "\"\"\""
      ],
      "metadata": {
        "id": "k6RlkpoWyEKg"
      },
      "execution_count": 30,
      "outputs": []
    },
    {
      "cell_type": "code",
      "source": [
        "res = planningTool(project_type,project_requirements,team_mbers,objective)"
      ],
      "metadata": {
        "id": "E73iMEbE2Dxd"
      },
      "execution_count": 31,
      "outputs": []
    },
    {
      "cell_type": "code",
      "source": [
        "print(res.split(\"</think>\")[-1])"
      ],
      "metadata": {
        "colab": {
          "base_uri": "https://localhost:8080/"
        },
        "id": "ZQD82aDL2L0x",
        "outputId": "89ee694f-973c-40e6-e2dd-608606b6ff5d"
      },
      "execution_count": 13,
      "outputs": [
        {
          "output_type": "stream",
          "name": "stdout",
          "text": [
            "\n",
            "\n",
            "### Project Plan for Small Business Website Development\n",
            "\n",
            "#### **Project Overview**\n",
            "The objective is to create a responsive, modern website for a small business, incorporating key features such as SEO optimization, social media integration, and a user-friendly interface. The project is divided into phases, each with specific tasks, timelines, and deliverables.\n",
            "\n",
            "#### **Project Phases and Tasks**\n",
            "\n",
            "1. **Planning Phase**\n",
            "   - **Task 1.1: Project Plan and Requirements Gathering**\n",
            "     - **Scope:** Define project scope, timeline, budget, and resources.\n",
            "     - **Timeline:** Week 1\n",
            "     - **Dependency:** None\n",
            "     - **Deliverable:** Project plan document.\n",
            "\n",
            "2. **Design Phase**\n",
            "   - **Task 2.1: Wireframes**\n",
            "     - **Scope:** Create layout for each page.\n",
            "     - **Timeline:** Week 2\n",
            "     - **Dependency:** Task 1.1\n",
            "     - **Deliverable:** Wireframe documents.\n",
            "   - **Task 2.2: Design Mockups**\n",
            "     - **Scope:** Visual design incorporating brand identity.\n",
            "     - **Timeline:** Week 3\n",
            "     - **Dependency:** Task 2.1\n",
            "     - **Deliverable:** Design mockups.\n",
            "\n",
            "3. **Development Phase**\n",
            "   - **Task 3.1: Frontend Development**\n",
            "     - **Scope:** Responsive design, compatibility, navigation.\n",
            "     - **Timeline:** Weeks 4-5\n",
            "     - **Dependency:** Task 2.2\n",
            "     - **Deliverable:** Functional frontend.\n",
            "   - **Task 3.2: Backend Development**\n",
            "     - **Scope:** CMS setup, SEO, database integration.\n",
            "     - **Timeline:** Weeks 6-7\n",
            "     - **Dependency:** Task 3.1\n",
            "     - **Deliverable:** Backend setup with SEO.\n",
            "   - **Task 3.3: Contact Form and Map Integration**\n",
            "     - **Scope:** Form with validation, integrated map.\n",
            "     - **Timeline:** Week 8\n",
            "     - **Dependency:** Task 3.2\n",
            "     - **Deliverable:** Functional form and map.\n",
            "\n",
            "4. **Quality Assurance (QA) Phase**\n",
            "   - **Task 4.1: Testing**\n",
            "     - **Scope:** Test responsiveness, functionality, SEO, performance, security.\n",
            "     - **Timeline:** Weeks 9-10\n",
            "     - **Dependency:** Task 3.3\n",
            "     - **Deliverable:** Test reports and fixes.\n",
            "\n",
            "5. **Deployment Phase**\n",
            "   - **Task 5.1: Deployment**\n",
            "     - **Scope:** Hosting setup, domain configuration, caching, SSL.\n",
            "     - **Timeline:** Week 11\n",
            "     - **Dependency:** Task 4.1\n",
            "     - **Deliverable:** Live website.\n",
            "\n",
            "6. **Post-Launch Phase**\n",
            "   - **Task 6.1: Monitoring and Maintenance**\n",
            "     - **Scope:** Ongoing support, updates, analytics.\n",
            "     - **Timeline:** Weeks 12-13\n",
            "     - **Dependency:** Task 5.1\n",
            "     - **Deliverable:** Maintenance report.\n",
            "\n",
            "#### **Gantt Chart Timeline**\n",
            "\n",
            "| Task                                 | Start Week | End Week |\n",
            "|--------------------------------------|------------|----------|\n",
            "| Project Plan and Requirements        | 1          | 1        |\n",
            "| Wireframes                           | 2          | 2        |\n",
            "| Design Mockups                       | 3          | 3        |\n",
            "| Frontend Development                 | 4          | 5        |\n",
            "| Backend Development                   | 6          | 7        |\n",
            "| Contact Form and Map Integration      | 8          | 8        |\n",
            "| QA Testing                           | 9          | 10       |\n",
            "| Deployment                           | 11         | 11       |\n",
            "| Monitoring and Maintenance           | 12         | 13       |\n",
            "\n",
            "#### **Key Considerations**\n",
            "- **SEO Integration:** Ensured throughout development with meta tags and optimized images.\n",
            "- **Social Media Integration:** Links and share buttons integrated during frontend development.\n",
            "- **Testimonials Section:** Included as a dedicated section for trust-building.\n",
            "- **Content Integration:** Assumed client provides content, integrated during deployment.\n",
            "\n",
            "This structured approach ensures all project requirements are met efficiently, with clear timelines and dependencies, leading to a successful website launch.\n"
          ]
        }
      ]
    },
    {
      "cell_type": "code",
      "source": [
        "from langchain_openai import ChatOpenAI\n",
        "#\n",
        "openai_llm = ChatOpenAI(model=\"gpt-4o-mini\",temperature=0)\n"
      ],
      "metadata": {
        "id": "kMr1wcLx4YAj"
      },
      "execution_count": 21,
      "outputs": []
    },
    {
      "cell_type": "code",
      "source": [
        "from langgraph.prebuilt import create_react_agent\n",
        "task_planning_agent = create_react_agent(model=groq_model,\n",
        "                                         tools=[planningTool],\n",
        "                                         name=\"Task_Planner\",\n",
        "                                         prompt=\"\"\"You are expert Task Planner\"\"\")"
      ],
      "metadata": {
        "id": "YumtyClP2REU"
      },
      "execution_count": 35,
      "outputs": []
    },
    {
      "cell_type": "code",
      "source": [
        "task_planning_agent"
      ],
      "metadata": {
        "colab": {
          "base_uri": "https://localhost:8080/",
          "height": 266
        },
        "id": "v_CqKPM24C3h",
        "outputId": "71def690-33dc-4c70-9c3c-00f7c8eb91bb"
      },
      "execution_count": 36,
      "outputs": [
        {
          "output_type": "execute_result",
          "data": {
            "text/plain": [
              "<langgraph.graph.state.CompiledStateGraph object at 0x7a8da5dafad0>"
            ],
            "image/png": "[encoded data removed]"
          },
          "metadata": {},
          "execution_count": 36
        }
      ]
    },
    {
      "cell_type": "code",
      "source": [
        "task_planning_agent.invoke({\"project_type\":project_type,\"project_requirements\":project_requirements,\"team_members\":team_mbers,\"objective\":objective})"
      ],
      "metadata": {
        "colab": {
          "base_uri": "https://localhost:8080/"
        },
        "id": "AGzPVg9w4E1p",
        "outputId": "c351a1fa-db00-4763-a29a-3e9817c28138"
      },
      "execution_count": 37,
      "outputs": [
        {
          "output_type": "execute_result",
          "data": {
            "text/plain": [
              "{'messages': [AIMessage(content='', additional_kwargs={'tool_calls': [{'id': 'call_40m6', 'function': {'arguments': '{\\n    \"objective\": \"Develop a new web application\",\\n    \"project_requirements\": [\"User authentication\", \"Data storage\", \"API integration\"],\\n    \"project_type\": \"Software Development\",\\n    \"team_members\": [\"Frontend Developer\", \"Backend Developer\", \"Designer\"]\\n  }', 'name': 'planningTool'}, 'type': 'function'}]}, response_metadata={'token_usage': {'completion_tokens': 299, 'prompt_tokens': 154, 'total_tokens': 453, 'completion_time': 1.087272727, 'prompt_time': 0.013260055, 'queue_time': 1.005828519, 'total_time': 1.100532782}, 'model_name': 'deepseek-r1-distill-llama-70b', 'system_fingerprint': 'fp_fc872c073e', 'finish_reason': 'tool_calls', 'logprobs': None}, name='Task_Planner', id='run-f9d8d5b0-6b0b-4ecc-b024-c4ace4d08f6b-0', tool_calls=[{'name': 'planningTool', 'args': {'objective': 'Develop a new web application', 'project_requirements': ['User authentication', 'Data storage', 'API integration'], 'project_type': 'Software Development', 'team_members': ['Frontend Developer', 'Backend Developer', 'Designer']}, 'id': 'call_40m6', 'type': 'tool_call'}], usage_metadata={'input_tokens': 154, 'output_tokens': 299, 'total_tokens': 453}),\n",
              "  ToolMessage(content=\"Error: 1 validation error for planningTool\\nteam_mbers\\n  Field required [type=missing, input_value={'objective': 'Develop a ...Developer', 'Designer']}, input_type=dict]\\n    For further information visit https://errors.pydantic.dev/2.11/v/missing\\n Please fix your mistakes.\", name='planningTool', id='36f08f77-b539-4390-a95d-ba5c4e0a48ae', tool_call_id='call_40m6', status='error'),\n",
              "  AIMessage(content='', additional_kwargs={'tool_calls': [{'id': 'call_wn9g', 'function': {'arguments': '{\"objective\":\"Develop a new web application\",\"project_requirements\":[\"User authentication\",\"Data storage\",\"API integration\"],\"project_type\":\"Software Development\",\"team_mbers\":[\"Frontend Developer\",\"Backend Developer\",\"Designer\"]}', 'name': 'planningTool'}, 'type': 'function'}]}, response_metadata={'token_usage': {'completion_tokens': 321, 'prompt_tokens': 313, 'total_tokens': 634, 'completion_time': 1.167272727, 'prompt_time': 0.023546608, 'queue_time': 0.235250559, 'total_time': 1.190819335}, 'model_name': 'deepseek-r1-distill-llama-70b', 'system_fingerprint': 'fp_454c494f52', 'finish_reason': 'tool_calls', 'logprobs': None}, name='Task_Planner', id='run-23082f6f-44ed-4915-a612-24cdecb53162-0', tool_calls=[{'name': 'planningTool', 'args': {'objective': 'Develop a new web application', 'project_requirements': ['User authentication', 'Data storage', 'API integration'], 'project_type': 'Software Development', 'team_mbers': ['Frontend Developer', 'Backend Developer', 'Designer']}, 'id': 'call_wn9g', 'type': 'tool_call'}], usage_metadata={'input_tokens': 313, 'output_tokens': 321, 'total_tokens': 634}),\n",
              "  ToolMessage(content=\"<think>\\nOkay, so I need to help the user break down their software development project into individual tasks. The project is about developing a new web application with specific requirements: user authentication, data storage, and API integration. The team has a frontend developer, backend developer, and a designer. The user wants a detailed task list with scope, timelines, dependencies, and deliverables, plus a Gantt chart.\\n\\nFirst, I should start by understanding each requirement and how they fit into the project. User authentication is crucial, so that needs to be tackled early. Data storage is next because without a solid backend, the frontend can't function properly. API integration comes after that, as it depends on the backend being set up.\\n\\nI should consider the team members' roles. The designer will handle the UI/UX, so their tasks should come first before the frontend developer can start coding. The backend developer will work on setting up the server, database, and API integration. The frontend developer will focus on the client-side, integrating the backend work.\\n\\nI need to outline each task with a detailed scope, set realistic timelines, and map out dependencies. For example, the designer can't start prototyping until the requirements are gathered. Similarly, the frontend can't start until the design is finalized and the backend is ready with user authentication and data storage.\\n\\nI should also think about the order of tasks. Starting with project planning and requirements gathering makes sense. Then moving on to design, followed by backend development, then frontend, and finally testing and deployment.\\n\\nFor the Gantt chart, I'll need to visualize the timeline, showing the sequence and dependencies. Each task will have a start and end date, and I'll use arrows to show dependencies between tasks.\\n\\nI should also make sure to include deliverables for each task so the team knows what's expected. For example, after the design phase, the designer should deliver wireframes and mockups.\\n\\nI might have missed some details, like considering potential risks or integration testing, but the user's requirements don't mention those, so I'll stick to what's provided. I'll make sure the timelines are achievable, allowing some buffer time between tasks.\\n\\nFinally, I'll summarize the tasks, ensuring that each one is clearly defined and that the overall project flow makes sense. This should help the team stay organized and on track.\\n</think>\\n\\n### Project: Software Development - Web Application\\n\\n### Project Objective:\\nDevelop a new web application with the following functionalities:\\n- User Authentication\\n- Data Storage\\n- API Integration\\n\\n### Team Members:\\n- Frontend Developer\\n- Backend Developer\\n- Designer\\n\\n### Task Breakdown with Scope, Timelines, Dependencies, and Deliverables\\n\\n---\\n\\n#### **1. Project Planning and Requirements Gathering**\\n- **Scope:** \\n  - Define project scope, objectives, and deliverables.\\n  - Identify target audience and user personas.\\n  - Gather and document functional and non-functional requirements.\\n  - Create a high-level project timeline and resource allocation plan.\\n- **Timeline:** 3 Days\\n- **Dependencies:** None\\n- **Deliverables:**\\n  - Project Plan Document\\n  - Requirements Document\\n  - Stakeholder Sign-off\\n\\n---\\n\\n#### **2. Wireframing and UI/UX Design**\\n- **Scope:** \\n  - Create low-fidelity wireframes for key pages (e.g., Home, Login, Dashboard).\\n  - Develop high-fidelity mockups based on wireframes.\\n  - Design a consistent UI/UX that aligns with the brand guidelines.\\n- **Timeline:** 5 Days\\n- **Dependencies:** Project Planning and Requirements Gathering\\n- **Deliverables:**\\n  - Wireframes\\n  - High-Fidelity Mockups\\n  - Design Style Guide\\n\\n---\\n\\n#### **3. Backend Development - User Authentication**\\n- **Scope:** \\n  - Design and implement user authentication functionality (Login, Registration, Forgot Password).\\n  - Integrate an authentication library or framework (e.g., OAuth, JWT).\\n  - Set up user roles and permissions.\\n- **Timeline:** 7 Days\\n- **Dependencies:** Project Planning and Requirements Gathering\\n- **Deliverables:**\\n  - Authentication API Documentation\\n  - Unit Tests for Authentication\\n  - Deployed Authentication Service\\n\\n---\\n\\n#### **4. Backend Development - Data Storage**\\n- **Scope:** \\n  - Design and implement the database schema.\\n  - Set up the database (e.g., MySQL, MongoDB).\\n  - Implement CRUD operations for data storage and retrieval.\\n- **Timeline:** 7 Days\\n- **Dependencies:** Backend Development - User Authentication\\n- **Deliverables:**\\n  - Database Schema\\n  - CRUD API Documentation\\n  - Unit Tests for Data Storage\\n\\n---\\n\\n#### **5. Backend Development - API Integration**\\n- **Scope:** \\n  - Identify and integrate third-party APIs as per requirements.\\n  - Implement API endpoints for data exchange.\\n  - Handle API rate limits, errors, and retries.\\n- **Timeline:** 7 Days\\n- **Dependencies:** Backend Development - Data Storage\\n- **Deliverables:**\\n  - API Integration Documentation\\n  - Unit Tests for API Integration\\n  - Deployed API Service\\n\\n---\\n\\n#### **6. Frontend Development - User Authentication**\\n- **Scope:** \\n  - Implement user authentication UI (Login, Registration, Forgot Password).\\n  - Integrate frontend with backend authentication APIs.\\n  - Add form validation and error handling.\\n- **Timeline:** 5 Days\\n- **Dependencies:** Wireframing and UI/UX Design, Backend Development - User Authentication\\n- **Deliverables:**\\n  - Authentication UI\\n  - Integrated Authentication Flow\\n  - Unit Tests for Authentication UI\\n\\n---\\n\\n#### **7. Frontend Development - Data Storage and API Integration**\\n- **Scope:** \\n  - Implement UI components for data storage and retrieval.\\n  - Integrate frontend with backend APIs for data exchange.\\n  - Add loading states, error messages, and success notifications.\\n- **Timeline:** 7 Days\\n- **Dependencies:** Frontend Development - User Authentication, Backend Development - Data Storage, Backend Development - API Integration\\n- **Deliverables:**\\n  - Data Storage and API Integration UI\\n  - Integrated Data Flow\\n  - Unit Tests for Data Storage and API Integration\\n\\n---\\n\\n#### **8. Testing and Quality Assurance**\\n- **Scope:** \\n  - Conduct unit testing, integration testing, and end-to-end testing.\\n  - Identify and fix bugs.\\n  - Ensure cross-browser compatibility and responsiveness.\\n- **Timeline:** 5 Days\\n- **Dependencies:** Frontend Development - Data Storage and API Integration\\n- **Deliverables:**\\n  - Test Cases\\n  - Test Reports\\n  - Bug Fix List\\n\\n---\\n\\n#### **9. Deployment and Launch**\\n- **Scope:** \\n  - Set up production environment (e.g., AWS, Heroku).\\n  - Deploy the application.\\n  - Configure CI/CD pipelines for future updates.\\n- **Timeline:** 3 Days\\n- **Dependencies:** Testing and Quality Assurance\\n- **Deliverables:**\\n  - Deployed Application\\n  - Deployment Documentation\\n  - Post-Launch Monitoring Plan\\n\\n---\\n\\n### Gantt Chart Visualization\\n\\nBelow is a high-level Gantt chart for the project timeline:\\n\\n| Task                                      | Start Date | End Date   | Duration | Dependencies                                 |\\n|-------------------------------------------|------------|------------|---------|--------------------------------------------|\\n| Project Planning and Requirements Gathering | Day 1      | Day 3      | 3 Days  | None                                       |\\n| Wireframing and UI/UX Design              | Day 4      | Day 8      | 5 Days  | Project Planning and Requirements Gathering |\\n| Backend Development - User Authentication   | Day 4      | Day 10     | 7 Days  | Project Planning and Requirements Gathering |\\n| Backend Development - Data Storage          | Day 11     | Day 17     | 7 Days  | Backend Development - User Authentication   |\\n| Backend Development - API Integration      | Day 18     | Day 24     | 7 Days  | Backend Development - Data Storage          |\\n| Frontend Development - User Authentication | Day 9      | Day 13     | 5 Days  | Wireframing and UI/UX Design, Backend Development - User Authentication |\\n| Frontend Development - Data Storage and API Integration | Day 14     | Day 20     | 7 Days  | Frontend Development - User Authentication, Backend Development - Data Storage, Backend Development - API Integration |\\n| Testing and Quality Assurance              | Day 21     | Day 25     | 5 Days  | Frontend Development - Data Storage and API Integration |\\n| Deployment and Launch                      | Day 26     | Day 28     | 3 Days  | Testing and Quality Assurance              |\\n\\n---\\n\\n### Notes:\\n- The timeline assumes a 5-day workweek (Monday to Friday).\\n- Dependencies are critical and must be completed before the dependent task can begin.\\n- The project manager should ensure regular stand-ups and progress updates to keep the project on track.\\n\\nThis plan provides a clear roadmap for the development of the web application, ensuring all requirements are met within the specified timelines.\", name='planningTool', id='d062437a-5f82-408c-ae19-c9a71bf4607f', tool_call_id='call_wn9g'),\n",
              "  AIMessage(content='\\n\\n<tool_call>{\"id\":\"call_wn9g\",\"name\":\"planningTool\",\"arguments\":{\"objective\":\"Develop a new web application\",\"project_requirements\":[\"User authentication\",\"Data storage\",\"API integration\"],\"project_type\":\"Software Development\",\"team_mbers\":[\"Frontend Developer\",\"Backend Developer\",\"Designer\"]}}<｜tool▁calls▁end｜>', additional_kwargs={}, response_metadata={'token_usage': {'completion_tokens': 73, 'prompt_tokens': 2271, 'total_tokens': 2344, 'completion_time': 0.265454545, 'prompt_time': 0.100663695, 'queue_time': 0.23697982, 'total_time': 0.36611824}, 'model_name': 'deepseek-r1-distill-llama-70b', 'system_fingerprint': 'fp_2834edf0f4', 'finish_reason': 'stop', 'logprobs': None}, name='Task_Planner', id='run-473f542a-f070-44db-bf3c-9d9852a7ceb4-0', usage_metadata={'input_tokens': 2271, 'output_tokens': 73, 'total_tokens': 2344})]}"
            ]
          },
          "metadata": {},
          "execution_count": 37
        }
      ]
    },
    {
      "cell_type": "markdown",
      "source": [
        "#### Time Estimation Agent"
      ],
      "metadata": {
        "id": "fCk1yl8HCoCT"
      }
    },
    {
      "cell_type": "code",
      "source": [
        "from langchain_core.prompts import PromptTemplate\n",
        "from langchain_core.output_parsers import JsonOutputParser,StrOutputParser\n",
        "#\n",
        "def estimationTool(project_type):\n",
        "  \"\"\"Resource and Time Estimation Function tool that helps to estimate time,resources and effort reuired to complete a project\"\"\"\n",
        "  prompt = \"\"\"Carefully analyze the project requirements for the Project : {project_type} and break them down into individual tasks.\n",
        "  Define each task's scope in detail,set achievable timelines and ensure that all the dependencies are accounted for:\n",
        "\n",
        "  Project Objective: {objective}\n",
        "\n",
        "  Project Requirement:\n",
        "  {project_requirements}\n",
        "\n",
        "  Team Members:\n",
        "  {team_members}\n",
        "\n",
        "  The final output should be a comprehensive list of taks with detailed scope,timelines,description,dependencies and deliverables.\n",
        "  Your final OUTPUT must include a Gnatt Chart or similar timeline visualization specific to {project_type} project.\n",
        "  \"\"\"\n",
        "  final_prompt = PromptTemplate(input_variables=[\"project_type\",\"project_requirements\",\"team_members\",\"objective\"],template=prompt)\n",
        "  chain = final_prompt | groq_model | StrOutputParser()\n",
        "  response = chain.invoke({\"project_type\":project_type,\"project_requirements\":project_requirements,\"team_members\":team_mbers,\"objective\":objective})\n",
        "  return response"
      ],
      "metadata": {
        "id": "8YfyhXHGC9HE"
      },
      "execution_count": null,
      "outputs": []
    }
  ]
}