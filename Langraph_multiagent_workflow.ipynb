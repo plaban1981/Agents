{
  "nbformat": 4,
  "nbformat_minor": 0,
  "metadata": {
    "colab": {
      "provenance": [],
      "authorship_tag": "ABX9TyMtHsUqmcOitRXEtr7mNSjH",
      "include_colab_link": true
    },
    "kernelspec": {
      "name": "python3",
      "display_name": "Python 3"
    },
    "language_info": {
      "name": "python"
    }
  },
  "cells": [
    {
      "cell_type": "markdown",
      "metadata": {
        "id": "view-in-github",
        "colab_type": "text"
      },
      "source": [
        "<a href=\"https://colab.research.google.com/github/plaban1981/Agents/blob/main/Langraph_multiagent_workflow.ipynb\" target=\"_parent\"><img src=\"https://colab.research.google.com/assets/colab-badge.svg\" alt=\"Open In Colab\"/></a>"
      ]
    },
    {
      "cell_type": "code",
      "execution_count": 1,
      "metadata": {
        "colab": {
          "base_uri": "https://localhost:8080/"
        },
        "id": "sqheUtzfhFVL",
        "outputId": "b3c6c809-576d-4865-99d5-6fdd831ffe62"
      },
      "outputs": [
        {
          "output_type": "stream",
          "name": "stdout",
          "text": [
            "\u001b[2K     \u001b[90m━━━━━━━━━━━━━━━━━━━━━━━━━━━━━━━━━━━━━━━━\u001b[0m \u001b[32m43.5/43.5 kB\u001b[0m \u001b[31m894.3 kB/s\u001b[0m eta \u001b[36m0:00:00\u001b[0m\n",
            "\u001b[2K   \u001b[90m━━━━━━━━━━━━━━━━━━━━━━━━━━━━━━━━━━━━━━━━\u001b[0m \u001b[32m1.0/1.0 MB\u001b[0m \u001b[31m14.0 MB/s\u001b[0m eta \u001b[36m0:00:00\u001b[0m\n",
            "\u001b[2K   \u001b[90m━━━━━━━━━━━━━━━━━━━━━━━━━━━━━━━━━━━━━━━━\u001b[0m \u001b[32m423.3/423.3 kB\u001b[0m \u001b[31m10.7 MB/s\u001b[0m eta \u001b[36m0:00:00\u001b[0m\n",
            "\u001b[2K   \u001b[90m━━━━━━━━━━━━━━━━━━━━━━━━━━━━━━━━━━━━━━━━\u001b[0m \u001b[32m2.5/2.5 MB\u001b[0m \u001b[31m11.1 MB/s\u001b[0m eta \u001b[36m0:00:00\u001b[0m\n",
            "\u001b[2K   \u001b[90m━━━━━━━━━━━━━━━━━━━━━━━━━━━━━━━━━━━━━━━━\u001b[0m \u001b[32m61.3/61.3 kB\u001b[0m \u001b[31m1.8 MB/s\u001b[0m eta \u001b[36m0:00:00\u001b[0m\n",
            "\u001b[2K   \u001b[90m━━━━━━━━━━━━━━━━━━━━━━━━━━━━━━━━━━━━━━━━\u001b[0m \u001b[32m142.4/142.4 kB\u001b[0m \u001b[31m6.3 MB/s\u001b[0m eta \u001b[36m0:00:00\u001b[0m\n",
            "\u001b[2K   \u001b[90m━━━━━━━━━━━━━━━━━━━━━━━━━━━━━━━━━━━━━━━━\u001b[0m \u001b[32m126.7/126.7 kB\u001b[0m \u001b[31m4.1 MB/s\u001b[0m eta \u001b[36m0:00:00\u001b[0m\n",
            "\u001b[2K   \u001b[90m━━━━━━━━━━━━━━━━━━━━━━━━━━━━━━━━━━━━━━━━\u001b[0m \u001b[32m42.0/42.0 kB\u001b[0m \u001b[31m1.3 MB/s\u001b[0m eta \u001b[36m0:00:00\u001b[0m\n",
            "\u001b[2K   \u001b[90m━━━━━━━━━━━━━━━━━━━━━━━━━━━━━━━━━━━━━━━━\u001b[0m \u001b[32m47.2/47.2 kB\u001b[0m \u001b[31m1.3 MB/s\u001b[0m eta \u001b[36m0:00:00\u001b[0m\n",
            "\u001b[2K   \u001b[90m━━━━━━━━━━━━━━━━━━━━━━━━━━━━━━━━━━━━━━━━\u001b[0m \u001b[32m1.2/1.2 MB\u001b[0m \u001b[31m20.6 MB/s\u001b[0m eta \u001b[36m0:00:00\u001b[0m\n",
            "\u001b[2K   \u001b[90m━━━━━━━━━━━━━━━━━━━━━━━━━━━━━━━━━━━━━━━━\u001b[0m \u001b[32m194.8/194.8 kB\u001b[0m \u001b[31m10.1 MB/s\u001b[0m eta \u001b[36m0:00:00\u001b[0m\n",
            "\u001b[2K   \u001b[90m━━━━━━━━━━━━━━━━━━━━━━━━━━━━━━━━━━━━━━━━\u001b[0m \u001b[32m50.9/50.9 kB\u001b[0m \u001b[31m1.9 MB/s\u001b[0m eta \u001b[36m0:00:00\u001b[0m\n",
            "\u001b[2K   \u001b[90m━━━━━━━━━━━━━━━━━━━━━━━━━━━━━━━━━━━━━━━━\u001b[0m \u001b[32m223.6/223.6 kB\u001b[0m \u001b[31m10.2 MB/s\u001b[0m eta \u001b[36m0:00:00\u001b[0m\n",
            "\u001b[?25h"
          ]
        }
      ],
      "source": [
        "%pip install -qU langchain langchain-core langchain-groq langchain-community langchain-openai langgraph-supervisor langgraph"
      ]
    },
    {
      "cell_type": "code",
      "source": [
        "from google.colab import userdata\n",
        "import os\n",
        "os.environ['OPENAI_API_KEY'] = userdata.get('OPENAI_API_KEY')\n",
        "os.environ[\"GROQ_API_KEY\"] = userdata.get('GROQ_API_KEY')"
      ],
      "metadata": {
        "id": "NC7JW92elUBn"
      },
      "execution_count": 2,
      "outputs": []
    },
    {
      "cell_type": "code",
      "source": [
        "from langchain_groq import ChatGroq\n",
        "groq_model=ChatGroq(model=\"deepseek-r1-distill-llama-70b\",temperature=0.6)"
      ],
      "metadata": {
        "id": "1aqSL7fspVUa"
      },
      "execution_count": 3,
      "outputs": []
    },
    {
      "cell_type": "markdown",
      "source": [
        "### Create Pydantic Model"
      ],
      "metadata": {
        "id": "i6q5rOFkuyOV"
      }
    },
    {
      "cell_type": "code",
      "source": [
        "from typing import List\n",
        "from pydantic import BaseModel, Field\n",
        "#\n",
        "class TaskEstimate(BaseModel):\n",
        "  task_name:str=Field(...,description=\"Name ofg the Task\")\n",
        "  estimated_hours:float= Field(...,description=\"Estimated hours for the task in hours\")\n",
        "  required_resources:List[str]=Field(...,description=\"List of resources required for the completion of the task\")\n",
        "#"
      ],
      "metadata": {
        "id": "UXbNQdcEuxZh"
      },
      "execution_count": 4,
      "outputs": []
    },
    {
      "cell_type": "markdown",
      "source": [
        "### Define  Tools"
      ],
      "metadata": {
        "id": "CbZrqdfkuaC8"
      }
    },
    {
      "cell_type": "markdown",
      "source": [
        "#### Task Planning"
      ],
      "metadata": {
        "id": "wx0DcCWhCinx"
      }
    },
    {
      "cell_type": "code",
      "source": [
        "from langchain_core.prompts import PromptTemplate\n",
        "from langchain_core.output_parsers import JsonOutputParser,StrOutputParser\n",
        "#\n",
        "def planningTool(project_type,project_requirements,team_mbers,objective):\n",
        "  \"\"\"Task Planner Function tool that helps to plan tasks\"\"\"\n",
        "  prompt = \"\"\"Carefully analyze the project requirements for the Project : {project_type} and break them down into individual tasks.\n",
        "  Define each task's scope in detail,set achievable timelines and ensure that all the dependencies are accounted for:\n",
        "\n",
        "  Project Objective: {objective}\n",
        "\n",
        "  Project Requirement:\n",
        "  {project_requirements}\n",
        "\n",
        "  Team Members:\n",
        "  {team_members}\n",
        "\n",
        "  The final output should be a comprehensive list of taks with detailed scope,timelines,description,dependencies and deliverables.\n",
        "  Your final OUTPUT must include a Gnatt Chart or similar timeline visualization specific to {project_type} project.\n",
        "  \"\"\"\n",
        "  final_prompt = PromptTemplate(input_variables=[\"project_type\",\"project_requirements\",\"team_members\",\"objective\"],template=prompt)\n",
        "  chain = final_prompt | groq_model | StrOutputParser()\n",
        "  response = chain.invoke({\"project_type\":project_type,\"project_requirements\":project_requirements,\"team_members\":team_mbers,\"objective\":objective})\n",
        "  return response"
      ],
      "metadata": {
        "id": "ryji3SeQucTF"
      },
      "execution_count": 5,
      "outputs": []
    },
    {
      "cell_type": "code",
      "source": [
        "project_type =\"website\"\n",
        "objective = \"Create a website for a small business\"\n",
        "team_mbers =\"\"\"\n",
        "- John Doe (Project Manager)\n",
        "- Alice (Software Engineer)\n",
        "- Bob Smith (FrontEnd Designer)\n",
        "- Victor (QA Engineer)\n",
        "- Tom Hardy (QA Engineer)\n",
        "\"\"\"\n",
        "project_requirements=\"\"\"\n",
        "- Create a responsive design that works well on desktop and mobile app\n",
        "- Implement a modern visually appealing user interface with a cleann look\n",
        "- Develop a user friendly navigation system with intutive menu structure\n",
        "- Include an 'About Us' page highlighting the company's history and values\n",
        "- Design a 'Services' page showcasing the business offerings with descriptions\n",
        "- create a 'contact us' page with form and integrated map for communication\n",
        "- Implement a 'blog' section for sharing industry news and company updates\n",
        "- Ensure fast uploading time and optimize for Search Engines(SEO)\n",
        "- Integrate Social media links and sharing capabilities\n",
        "- Include testimonials section to showcase customer feedback and build trust\n",
        "\"\"\""
      ],
      "metadata": {
        "id": "k6RlkpoWyEKg"
      },
      "execution_count": 6,
      "outputs": []
    },
    {
      "cell_type": "code",
      "source": [
        "res = planningTool(project_type,project_requirements,team_mbers,objective)"
      ],
      "metadata": {
        "id": "E73iMEbE2Dxd"
      },
      "execution_count": null,
      "outputs": []
    },
    {
      "cell_type": "code",
      "source": [
        "print(res.split(\"</think>\")[-1])"
      ],
      "metadata": {
        "colab": {
          "base_uri": "https://localhost:8080/"
        },
        "id": "ZQD82aDL2L0x",
        "outputId": "89ee694f-973c-40e6-e2dd-608606b6ff5d"
      },
      "execution_count": null,
      "outputs": [
        {
          "output_type": "stream",
          "name": "stdout",
          "text": [
            "\n",
            "\n",
            "### Project Plan for Small Business Website Development\n",
            "\n",
            "#### **Project Overview**\n",
            "The objective is to create a responsive, modern website for a small business, incorporating key features such as SEO optimization, social media integration, and a user-friendly interface. The project is divided into phases, each with specific tasks, timelines, and deliverables.\n",
            "\n",
            "#### **Project Phases and Tasks**\n",
            "\n",
            "1. **Planning Phase**\n",
            "   - **Task 1.1: Project Plan and Requirements Gathering**\n",
            "     - **Scope:** Define project scope, timeline, budget, and resources.\n",
            "     - **Timeline:** Week 1\n",
            "     - **Dependency:** None\n",
            "     - **Deliverable:** Project plan document.\n",
            "\n",
            "2. **Design Phase**\n",
            "   - **Task 2.1: Wireframes**\n",
            "     - **Scope:** Create layout for each page.\n",
            "     - **Timeline:** Week 2\n",
            "     - **Dependency:** Task 1.1\n",
            "     - **Deliverable:** Wireframe documents.\n",
            "   - **Task 2.2: Design Mockups**\n",
            "     - **Scope:** Visual design incorporating brand identity.\n",
            "     - **Timeline:** Week 3\n",
            "     - **Dependency:** Task 2.1\n",
            "     - **Deliverable:** Design mockups.\n",
            "\n",
            "3. **Development Phase**\n",
            "   - **Task 3.1: Frontend Development**\n",
            "     - **Scope:** Responsive design, compatibility, navigation.\n",
            "     - **Timeline:** Weeks 4-5\n",
            "     - **Dependency:** Task 2.2\n",
            "     - **Deliverable:** Functional frontend.\n",
            "   - **Task 3.2: Backend Development**\n",
            "     - **Scope:** CMS setup, SEO, database integration.\n",
            "     - **Timeline:** Weeks 6-7\n",
            "     - **Dependency:** Task 3.1\n",
            "     - **Deliverable:** Backend setup with SEO.\n",
            "   - **Task 3.3: Contact Form and Map Integration**\n",
            "     - **Scope:** Form with validation, integrated map.\n",
            "     - **Timeline:** Week 8\n",
            "     - **Dependency:** Task 3.2\n",
            "     - **Deliverable:** Functional form and map.\n",
            "\n",
            "4. **Quality Assurance (QA) Phase**\n",
            "   - **Task 4.1: Testing**\n",
            "     - **Scope:** Test responsiveness, functionality, SEO, performance, security.\n",
            "     - **Timeline:** Weeks 9-10\n",
            "     - **Dependency:** Task 3.3\n",
            "     - **Deliverable:** Test reports and fixes.\n",
            "\n",
            "5. **Deployment Phase**\n",
            "   - **Task 5.1: Deployment**\n",
            "     - **Scope:** Hosting setup, domain configuration, caching, SSL.\n",
            "     - **Timeline:** Week 11\n",
            "     - **Dependency:** Task 4.1\n",
            "     - **Deliverable:** Live website.\n",
            "\n",
            "6. **Post-Launch Phase**\n",
            "   - **Task 6.1: Monitoring and Maintenance**\n",
            "     - **Scope:** Ongoing support, updates, analytics.\n",
            "     - **Timeline:** Weeks 12-13\n",
            "     - **Dependency:** Task 5.1\n",
            "     - **Deliverable:** Maintenance report.\n",
            "\n",
            "#### **Gantt Chart Timeline**\n",
            "\n",
            "| Task                                 | Start Week | End Week |\n",
            "|--------------------------------------|------------|----------|\n",
            "| Project Plan and Requirements        | 1          | 1        |\n",
            "| Wireframes                           | 2          | 2        |\n",
            "| Design Mockups                       | 3          | 3        |\n",
            "| Frontend Development                 | 4          | 5        |\n",
            "| Backend Development                   | 6          | 7        |\n",
            "| Contact Form and Map Integration      | 8          | 8        |\n",
            "| QA Testing                           | 9          | 10       |\n",
            "| Deployment                           | 11         | 11       |\n",
            "| Monitoring and Maintenance           | 12         | 13       |\n",
            "\n",
            "#### **Key Considerations**\n",
            "- **SEO Integration:** Ensured throughout development with meta tags and optimized images.\n",
            "- **Social Media Integration:** Links and share buttons integrated during frontend development.\n",
            "- **Testimonials Section:** Included as a dedicated section for trust-building.\n",
            "- **Content Integration:** Assumed client provides content, integrated during deployment.\n",
            "\n",
            "This structured approach ensures all project requirements are met efficiently, with clear timelines and dependencies, leading to a successful website launch.\n"
          ]
        }
      ]
    },
    {
      "cell_type": "code",
      "source": [
        "from langchain_openai import ChatOpenAI\n",
        "#\n",
        "openai_llm = ChatOpenAI(model=\"gpt-4o-mini\",temperature=0)\n"
      ],
      "metadata": {
        "id": "kMr1wcLx4YAj"
      },
      "execution_count": 7,
      "outputs": []
    },
    {
      "cell_type": "code",
      "source": [
        "from langgraph.prebuilt import create_react_agent\n",
        "task_planning_agent = create_react_agent(model=groq_model,\n",
        "                                         tools=[planningTool],\n",
        "                                         name=\"Task_Planner\",\n",
        "                                         prompt=\"\"\"You are expert Task Planner\"\"\")"
      ],
      "metadata": {
        "id": "YumtyClP2REU"
      },
      "execution_count": 8,
      "outputs": []
    },
    {
      "cell_type": "code",
      "source": [
        "task_planning_agent"
      ],
      "metadata": {
        "colab": {
          "base_uri": "https://localhost:8080/",
          "height": 266
        },
        "id": "v_CqKPM24C3h",
        "outputId": "82aa5e68-d650-454c-b066-7657a796881e"
      },
      "execution_count": 9,
      "outputs": [
        {
          "output_type": "execute_result",
          "data": {
            "text/plain": [
              "<langgraph.graph.state.CompiledStateGraph object at 0x7af1d3a2b1d0>"
            ],
            "image/png": "[encoded data removed]"
          },
          "metadata": {},
          "execution_count": 9
        }
      ]
    },
    {
      "cell_type": "code",
      "source": [
        "task_planning_agent.invoke({\"project_type\":project_type,\"project_requirements\":project_requirements,\"team_members\":team_mbers,\"objective\":objective})"
      ],
      "metadata": {
        "colab": {
          "base_uri": "https://localhost:8080/"
        },
        "id": "AGzPVg9w4E1p",
        "outputId": "c351a1fa-db00-4763-a29a-3e9817c28138"
      },
      "execution_count": null,
      "outputs": [
        {
          "output_type": "execute_result",
          "data": {
            "text/plain": [
              "{'messages': [AIMessage(content='', additional_kwargs={'tool_calls': [{'id': 'call_40m6', 'function': {'arguments': '{\\n    \"objective\": \"Develop a new web application\",\\n    \"project_requirements\": [\"User authentication\", \"Data storage\", \"API integration\"],\\n    \"project_type\": \"Software Development\",\\n    \"team_members\": [\"Frontend Developer\", \"Backend Developer\", \"Designer\"]\\n  }', 'name': 'planningTool'}, 'type': 'function'}]}, response_metadata={'token_usage': {'completion_tokens': 299, 'prompt_tokens': 154, 'total_tokens': 453, 'completion_time': 1.087272727, 'prompt_time': 0.013260055, 'queue_time': 1.005828519, 'total_time': 1.100532782}, 'model_name': 'deepseek-r1-distill-llama-70b', 'system_fingerprint': 'fp_fc872c073e', 'finish_reason': 'tool_calls', 'logprobs': None}, name='Task_Planner', id='run-f9d8d5b0-6b0b-4ecc-b024-c4ace4d08f6b-0', tool_calls=[{'name': 'planningTool', 'args': {'objective': 'Develop a new web application', 'project_requirements': ['User authentication', 'Data storage', 'API integration'], 'project_type': 'Software Development', 'team_members': ['Frontend Developer', 'Backend Developer', 'Designer']}, 'id': 'call_40m6', 'type': 'tool_call'}], usage_metadata={'input_tokens': 154, 'output_tokens': 299, 'total_tokens': 453}),\n",
              "  ToolMessage(content=\"Error: 1 validation error for planningTool\\nteam_mbers\\n  Field required [type=missing, input_value={'objective': 'Develop a ...Developer', 'Designer']}, input_type=dict]\\n    For further information visit https://errors.pydantic.dev/2.11/v/missing\\n Please fix your mistakes.\", name='planningTool', id='36f08f77-b539-4390-a95d-ba5c4e0a48ae', tool_call_id='call_40m6', status='error'),\n",
              "  AIMessage(content='', additional_kwargs={'tool_calls': [{'id': 'call_wn9g', 'function': {'arguments': '{\"objective\":\"Develop a new web application\",\"project_requirements\":[\"User authentication\",\"Data storage\",\"API integration\"],\"project_type\":\"Software Development\",\"team_mbers\":[\"Frontend Developer\",\"Backend Developer\",\"Designer\"]}', 'name': 'planningTool'}, 'type': 'function'}]}, response_metadata={'token_usage': {'completion_tokens': 321, 'prompt_tokens': 313, 'total_tokens': 634, 'completion_time': 1.167272727, 'prompt_time': 0.023546608, 'queue_time': 0.235250559, 'total_time': 1.190819335}, 'model_name': 'deepseek-r1-distill-llama-70b', 'system_fingerprint': 'fp_454c494f52', 'finish_reason': 'tool_calls', 'logprobs': None}, name='Task_Planner', id='run-23082f6f-44ed-4915-a612-24cdecb53162-0', tool_calls=[{'name': 'planningTool', 'args': {'objective': 'Develop a new web application', 'project_requirements': ['User authentication', 'Data storage', 'API integration'], 'project_type': 'Software Development', 'team_mbers': ['Frontend Developer', 'Backend Developer', 'Designer']}, 'id': 'call_wn9g', 'type': 'tool_call'}], usage_metadata={'input_tokens': 313, 'output_tokens': 321, 'total_tokens': 634}),\n",
              "  ToolMessage(content=\"<think>\\nOkay, so I need to help the user break down their software development project into individual tasks. The project is about developing a new web application with specific requirements: user authentication, data storage, and API integration. The team has a frontend developer, backend developer, and a designer. The user wants a detailed task list with scope, timelines, dependencies, and deliverables, plus a Gantt chart.\\n\\nFirst, I should start by understanding each requirement and how they fit into the project. User authentication is crucial, so that needs to be tackled early. Data storage is next because without a solid backend, the frontend can't function properly. API integration comes after that, as it depends on the backend being set up.\\n\\nI should consider the team members' roles. The designer will handle the UI/UX, so their tasks should come first before the frontend developer can start coding. The backend developer will work on setting up the server, database, and API integration. The frontend developer will focus on the client-side, integrating the backend work.\\n\\nI need to outline each task with a detailed scope, set realistic timelines, and map out dependencies. For example, the designer can't start prototyping until the requirements are gathered. Similarly, the frontend can't start until the design is finalized and the backend is ready with user authentication and data storage.\\n\\nI should also think about the order of tasks. Starting with project planning and requirements gathering makes sense. Then moving on to design, followed by backend development, then frontend, and finally testing and deployment.\\n\\nFor the Gantt chart, I'll need to visualize the timeline, showing the sequence and dependencies. Each task will have a start and end date, and I'll use arrows to show dependencies between tasks.\\n\\nI should also make sure to include deliverables for each task so the team knows what's expected. For example, after the design phase, the designer should deliver wireframes and mockups.\\n\\nI might have missed some details, like considering potential risks or integration testing, but the user's requirements don't mention those, so I'll stick to what's provided. I'll make sure the timelines are achievable, allowing some buffer time between tasks.\\n\\nFinally, I'll summarize the tasks, ensuring that each one is clearly defined and that the overall project flow makes sense. This should help the team stay organized and on track.\\n</think>\\n\\n### Project: Software Development - Web Application\\n\\n### Project Objective:\\nDevelop a new web application with the following functionalities:\\n- User Authentication\\n- Data Storage\\n- API Integration\\n\\n### Team Members:\\n- Frontend Developer\\n- Backend Developer\\n- Designer\\n\\n### Task Breakdown with Scope, Timelines, Dependencies, and Deliverables\\n\\n---\\n\\n#### **1. Project Planning and Requirements Gathering**\\n- **Scope:** \\n  - Define project scope, objectives, and deliverables.\\n  - Identify target audience and user personas.\\n  - Gather and document functional and non-functional requirements.\\n  - Create a high-level project timeline and resource allocation plan.\\n- **Timeline:** 3 Days\\n- **Dependencies:** None\\n- **Deliverables:**\\n  - Project Plan Document\\n  - Requirements Document\\n  - Stakeholder Sign-off\\n\\n---\\n\\n#### **2. Wireframing and UI/UX Design**\\n- **Scope:** \\n  - Create low-fidelity wireframes for key pages (e.g., Home, Login, Dashboard).\\n  - Develop high-fidelity mockups based on wireframes.\\n  - Design a consistent UI/UX that aligns with the brand guidelines.\\n- **Timeline:** 5 Days\\n- **Dependencies:** Project Planning and Requirements Gathering\\n- **Deliverables:**\\n  - Wireframes\\n  - High-Fidelity Mockups\\n  - Design Style Guide\\n\\n---\\n\\n#### **3. Backend Development - User Authentication**\\n- **Scope:** \\n  - Design and implement user authentication functionality (Login, Registration, Forgot Password).\\n  - Integrate an authentication library or framework (e.g., OAuth, JWT).\\n  - Set up user roles and permissions.\\n- **Timeline:** 7 Days\\n- **Dependencies:** Project Planning and Requirements Gathering\\n- **Deliverables:**\\n  - Authentication API Documentation\\n  - Unit Tests for Authentication\\n  - Deployed Authentication Service\\n\\n---\\n\\n#### **4. Backend Development - Data Storage**\\n- **Scope:** \\n  - Design and implement the database schema.\\n  - Set up the database (e.g., MySQL, MongoDB).\\n  - Implement CRUD operations for data storage and retrieval.\\n- **Timeline:** 7 Days\\n- **Dependencies:** Backend Development - User Authentication\\n- **Deliverables:**\\n  - Database Schema\\n  - CRUD API Documentation\\n  - Unit Tests for Data Storage\\n\\n---\\n\\n#### **5. Backend Development - API Integration**\\n- **Scope:** \\n  - Identify and integrate third-party APIs as per requirements.\\n  - Implement API endpoints for data exchange.\\n  - Handle API rate limits, errors, and retries.\\n- **Timeline:** 7 Days\\n- **Dependencies:** Backend Development - Data Storage\\n- **Deliverables:**\\n  - API Integration Documentation\\n  - Unit Tests for API Integration\\n  - Deployed API Service\\n\\n---\\n\\n#### **6. Frontend Development - User Authentication**\\n- **Scope:** \\n  - Implement user authentication UI (Login, Registration, Forgot Password).\\n  - Integrate frontend with backend authentication APIs.\\n  - Add form validation and error handling.\\n- **Timeline:** 5 Days\\n- **Dependencies:** Wireframing and UI/UX Design, Backend Development - User Authentication\\n- **Deliverables:**\\n  - Authentication UI\\n  - Integrated Authentication Flow\\n  - Unit Tests for Authentication UI\\n\\n---\\n\\n#### **7. Frontend Development - Data Storage and API Integration**\\n- **Scope:** \\n  - Implement UI components for data storage and retrieval.\\n  - Integrate frontend with backend APIs for data exchange.\\n  - Add loading states, error messages, and success notifications.\\n- **Timeline:** 7 Days\\n- **Dependencies:** Frontend Development - User Authentication, Backend Development - Data Storage, Backend Development - API Integration\\n- **Deliverables:**\\n  - Data Storage and API Integration UI\\n  - Integrated Data Flow\\n  - Unit Tests for Data Storage and API Integration\\n\\n---\\n\\n#### **8. Testing and Quality Assurance**\\n- **Scope:** \\n  - Conduct unit testing, integration testing, and end-to-end testing.\\n  - Identify and fix bugs.\\n  - Ensure cross-browser compatibility and responsiveness.\\n- **Timeline:** 5 Days\\n- **Dependencies:** Frontend Development - Data Storage and API Integration\\n- **Deliverables:**\\n  - Test Cases\\n  - Test Reports\\n  - Bug Fix List\\n\\n---\\n\\n#### **9. Deployment and Launch**\\n- **Scope:** \\n  - Set up production environment (e.g., AWS, Heroku).\\n  - Deploy the application.\\n  - Configure CI/CD pipelines for future updates.\\n- **Timeline:** 3 Days\\n- **Dependencies:** Testing and Quality Assurance\\n- **Deliverables:**\\n  - Deployed Application\\n  - Deployment Documentation\\n  - Post-Launch Monitoring Plan\\n\\n---\\n\\n### Gantt Chart Visualization\\n\\nBelow is a high-level Gantt chart for the project timeline:\\n\\n| Task                                      | Start Date | End Date   | Duration | Dependencies                                 |\\n|-------------------------------------------|------------|------------|---------|--------------------------------------------|\\n| Project Planning and Requirements Gathering | Day 1      | Day 3      | 3 Days  | None                                       |\\n| Wireframing and UI/UX Design              | Day 4      | Day 8      | 5 Days  | Project Planning and Requirements Gathering |\\n| Backend Development - User Authentication   | Day 4      | Day 10     | 7 Days  | Project Planning and Requirements Gathering |\\n| Backend Development - Data Storage          | Day 11     | Day 17     | 7 Days  | Backend Development - User Authentication   |\\n| Backend Development - API Integration      | Day 18     | Day 24     | 7 Days  | Backend Development - Data Storage          |\\n| Frontend Development - User Authentication | Day 9      | Day 13     | 5 Days  | Wireframing and UI/UX Design, Backend Development - User Authentication |\\n| Frontend Development - Data Storage and API Integration | Day 14     | Day 20     | 7 Days  | Frontend Development - User Authentication, Backend Development - Data Storage, Backend Development - API Integration |\\n| Testing and Quality Assurance              | Day 21     | Day 25     | 5 Days  | Frontend Development - Data Storage and API Integration |\\n| Deployment and Launch                      | Day 26     | Day 28     | 3 Days  | Testing and Quality Assurance              |\\n\\n---\\n\\n### Notes:\\n- The timeline assumes a 5-day workweek (Monday to Friday).\\n- Dependencies are critical and must be completed before the dependent task can begin.\\n- The project manager should ensure regular stand-ups and progress updates to keep the project on track.\\n\\nThis plan provides a clear roadmap for the development of the web application, ensuring all requirements are met within the specified timelines.\", name='planningTool', id='d062437a-5f82-408c-ae19-c9a71bf4607f', tool_call_id='call_wn9g'),\n",
              "  AIMessage(content='\\n\\n<tool_call>{\"id\":\"call_wn9g\",\"name\":\"planningTool\",\"arguments\":{\"objective\":\"Develop a new web application\",\"project_requirements\":[\"User authentication\",\"Data storage\",\"API integration\"],\"project_type\":\"Software Development\",\"team_mbers\":[\"Frontend Developer\",\"Backend Developer\",\"Designer\"]}}<｜tool▁calls▁end｜>', additional_kwargs={}, response_metadata={'token_usage': {'completion_tokens': 73, 'prompt_tokens': 2271, 'total_tokens': 2344, 'completion_time': 0.265454545, 'prompt_time': 0.100663695, 'queue_time': 0.23697982, 'total_time': 0.36611824}, 'model_name': 'deepseek-r1-distill-llama-70b', 'system_fingerprint': 'fp_2834edf0f4', 'finish_reason': 'stop', 'logprobs': None}, name='Task_Planner', id='run-473f542a-f070-44db-bf3c-9d9852a7ceb4-0', usage_metadata={'input_tokens': 2271, 'output_tokens': 73, 'total_tokens': 2344})]}"
            ]
          },
          "metadata": {},
          "execution_count": 37
        }
      ]
    },
    {
      "cell_type": "markdown",
      "source": [
        "#### Time Estimation Agent"
      ],
      "metadata": {
        "id": "fCk1yl8HCoCT"
      }
    },
    {
      "cell_type": "code",
      "source": [
        "from langchain_core.prompts import PromptTemplate\n",
        "from langchain_core.output_parsers import JsonOutputParser,StrOutputParser\n",
        "#\n",
        "def estimationTool(project_type):\n",
        "  \"\"\"Resource and Time Estimation Function tool that helps to estimate time,resources and effort reuired to complete a project\"\"\"\n",
        "  prompt = \"\"\"Thoroughly evaluate each task  in the {project_type} to estimate time,resources and effort reuired to complete the project.\n",
        "  Use hiostorical data,task,complexity and available resources to provide a realistic estimate.\n",
        "  The Output should be a detailed estimation report outlining the time,resources and effort required for each task in the {project_type} project.\n",
        "  Take into consideration the report from the Task Planner Function tool.The report MUST include a summary of any risks or uncertainties  with the estimations encountered during the estimation process.\n",
        "  \"\"\"\n",
        "  final_prompt = PromptTemplate(input_variables=[\"project_type\"],template=prompt)\n",
        "  chain = final_prompt | groq_model | StrOutputParser()\n",
        "  response = chain.invoke({\"project_type\":project_type})\n",
        "  return response"
      ],
      "metadata": {
        "id": "8YfyhXHGC9HE"
      },
      "execution_count": 10,
      "outputs": []
    },
    {
      "cell_type": "code",
      "source": [
        "estimation_planning_agent = create_react_agent(model=groq_model,\n",
        "                                         tools=[planningTool],\n",
        "                                         name=\"Task_estimation\",\n",
        "                                         prompt=\"\"\"You are expert Task estimator proficient in estimating time,resouce and effort required to complete a project based on the Task Planner Function tool\"\"\")"
      ],
      "metadata": {
        "id": "txiPvTPQnX-0"
      },
      "execution_count": 11,
      "outputs": []
    },
    {
      "cell_type": "code",
      "source": [
        "estimation_planning_agent"
      ],
      "metadata": {
        "colab": {
          "base_uri": "https://localhost:8080/",
          "height": 266
        },
        "id": "_J_S8jq0nsS2",
        "outputId": "b3051730-1e18-43bf-de99-0930567f0d25"
      },
      "execution_count": 12,
      "outputs": [
        {
          "output_type": "execute_result",
          "data": {
            "text/plain": [
              "<langgraph.graph.state.CompiledStateGraph object at 0x7af1dc822510>"
            ],
            "image/png": "[encoded data removed]"
          },
          "metadata": {},
          "execution_count": 12
        }
      ]
    },
    {
      "cell_type": "code",
      "source": [
        "from langgraph_supervisor import create_supervisor\n",
        "project_planning_workflow  = create_supervisor([task_planning_agent,estimation_planning_agent],\n",
        "                                               model=groq_model,\n",
        "                                               #output_mode=\"last_message\",\n",
        "                                               prompt=(\"You are a Veteran Project Manager managing Task Planning and Estimatiom\"\n",
        "                                               \"For Task Planning use task_planner_agent and produce detailed should be a comprehensive list of taks with detailed scope,timelines,description,dependencies and deliverables.\"\n",
        "                                               \"Then use estimation_planning_agent to use the output from task_planner_agent to produce estimation fror time,resources and effort required to complete the project\")\n",
        "                                               )"
      ],
      "metadata": {
        "id": "f3Hcw6Brnx1X"
      },
      "execution_count": 26,
      "outputs": []
    },
    {
      "cell_type": "code",
      "source": [
        "app = project_planning_workflow.compile()"
      ],
      "metadata": {
        "id": "24W4qusYpdSv"
      },
      "execution_count": 27,
      "outputs": []
    },
    {
      "cell_type": "markdown",
      "source": [
        "### Visualize Multiagent Workflow"
      ],
      "metadata": {
        "id": "ZRZ0Qb6utTd1"
      }
    },
    {
      "cell_type": "code",
      "source": [
        "from IPython.display import Image,display\n",
        "print(app.get_graph().draw_mermaid())"
      ],
      "metadata": {
        "colab": {
          "base_uri": "https://localhost:8080/"
        },
        "id": "O1gAKEwwsMAW",
        "outputId": "c710f127-57a1-49a6-c3b3-fd174f4132d4"
      },
      "execution_count": 46,
      "outputs": [
        {
          "output_type": "stream",
          "name": "stdout",
          "text": [
            "---\n",
            "config:\n",
            "  flowchart:\n",
            "    curve: linear\n",
            "---\n",
            "graph TD;\n",
            "\t__start__([<p>__start__</p>]):::first\n",
            "\tsupervisor(supervisor)\n",
            "\tTask_Planner(Task_Planner)\n",
            "\tTask_estimation(Task_estimation)\n",
            "\t__end__([<p>__end__</p>]):::last\n",
            "\tTask_Planner --> supervisor;\n",
            "\tTask_estimation --> supervisor;\n",
            "\t__start__ --> supervisor;\n",
            "\tsupervisor -.-> Task_Planner;\n",
            "\tsupervisor -.-> Task_estimation;\n",
            "\tsupervisor -.-> __end__;\n",
            "\tclassDef default fill:#f2f0ff,line-height:1.2\n",
            "\tclassDef first fill-opacity:0\n",
            "\tclassDef last fill:#bfb6fc\n",
            "\n"
          ]
        }
      ]
    },
    {
      "cell_type": "markdown",
      "source": [
        "![image.png](data:image/png;base64,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)"
      ],
      "metadata": {
        "id": "MM3DDvzdtGRZ"
      }
    },
    {
      "cell_type": "code",
      "source": [
        "result = app.invoke({\"project_type\":project_type,\"project_requirements\":project_requirements,\"team_members\":team_mbers,\"objective\":objective})"
      ],
      "metadata": {
        "id": "ro5a-4_FpiwP"
      },
      "execution_count": 20,
      "outputs": []
    },
    {
      "cell_type": "code",
      "source": [
        "result"
      ],
      "metadata": {
        "colab": {
          "base_uri": "https://localhost:8080/"
        },
        "id": "9kvL6JZjpja3",
        "outputId": "b1b94149-7670-4dd1-e17f-92f1090c004e"
      },
      "execution_count": 21,
      "outputs": [
        {
          "output_type": "execute_result",
          "data": {
            "text/plain": [
              "{'messages': [AIMessage(content='', additional_kwargs={'tool_calls': [{'id': 'call_tcw3', 'function': {'arguments': '{}', 'name': 'transfer_to_task_planner'}, 'type': 'function'}]}, response_metadata={'token_usage': {'completion_tokens': 734, 'prompt_tokens': 225, 'total_tokens': 959, 'completion_time': 2.736432776, 'prompt_time': 0.013657795, 'queue_time': 0.202302345, 'total_time': 2.750090571}, 'model_name': 'deepseek-r1-distill-llama-70b', 'system_fingerprint': 'fp_1bbe7845ec', 'finish_reason': 'tool_calls', 'logprobs': None}, name='supervisor', id='run-a155d1d7-4257-4451-a418-313a033e7010-0', tool_calls=[{'name': 'transfer_to_task_planner', 'args': {}, 'id': 'call_tcw3', 'type': 'tool_call'}], usage_metadata={'input_tokens': 225, 'output_tokens': 734, 'total_tokens': 959}),\n",
              "  ToolMessage(content='Successfully transferred to Task_Planner', name='transfer_to_task_planner', id='ea412ca2-d2fe-44d7-a379-e21f7def8377', tool_call_id='call_tcw3'),\n",
              "  AIMessage(content='Hello! How can I assist you with your task planning today?', additional_kwargs={}, response_metadata={'token_usage': {'completion_tokens': 190, 'prompt_tokens': 218, 'total_tokens': 408, 'completion_time': 0.690909091, 'prompt_time': 0.011665638, 'queue_time': 0.194627417, 'total_time': 0.702574729}, 'model_name': 'deepseek-r1-distill-llama-70b', 'system_fingerprint': 'fp_454c494f52', 'finish_reason': 'stop', 'logprobs': None}, name='Task_Planner', id='run-ebef76bc-75d7-4d98-8ffe-a21e80626e6e-0', usage_metadata={'input_tokens': 218, 'output_tokens': 190, 'total_tokens': 408}),\n",
              "  AIMessage(content='Transferring back to supervisor', additional_kwargs={}, response_metadata={'__is_handoff_back': True}, name='Task_Planner', id='f3b5f14f-7e38-4558-b28e-a59bbb6aa1d2', tool_calls=[{'name': 'transfer_back_to_supervisor', 'args': {}, 'id': 'f79be339-4ac4-4e93-9715-760a9adab567', 'type': 'tool_call'}]),\n",
              "  ToolMessage(content='Successfully transferred back to supervisor', name='transfer_back_to_supervisor', id='7a4dc948-619e-4779-b5f4-92af5840fbbd', tool_call_id='f79be339-4ac4-4e93-9715-760a9adab567'),\n",
              "  AIMessage(content='<tool_call>{\"id\":\"call_tcw1\",\"name\":\"transfer_to_task_planner\",\"arguments\":{}}<｜tool▁calls▁end｜>', additional_kwargs={}, response_metadata={'token_usage': {'completion_tokens': 266, 'prompt_tokens': 385, 'total_tokens': 651, 'completion_time': 0.967272727, 'prompt_time': 0.016590701, 'queue_time': 0.19456507299999998, 'total_time': 0.983863428}, 'model_name': 'deepseek-r1-distill-llama-70b', 'system_fingerprint': 'fp_454c494f52', 'finish_reason': 'stop', 'logprobs': None}, name='supervisor', id='run-6c478e5b-9b45-426d-8a96-b747eba987a5-0', usage_metadata={'input_tokens': 385, 'output_tokens': 266, 'total_tokens': 651})]}"
            ]
          },
          "metadata": {},
          "execution_count": 21
        }
      ]
    },
    {
      "cell_type": "code",
      "source": [
        "prompt = f\"\"\"Based on the information provided below\n",
        "\n",
        "\"project_type\":{project_type},\n",
        "\"project_requirements\":{project_requirements},\n",
        "\"team_members\":{team_mbers},\n",
        "\"objective\":{objective}\n",
        "\n",
        "The final output should have the following:\n",
        "1. The final output should be a comprehensive list of taks with detailed scope,timelines,description,dependencies and deliverables.\n",
        "2. Your final OUTPUT must include a Gnatt Chart or similar timeline visualization specific to {project_type} project.\n",
        "3. A detailed estimation report outlining the time,resources and effort required for each task in the {project_type} project.\n",
        "4. Take into consideration the report from the Task Planner Function tool.The report MUST include a summary of any risks or uncertainties  with the estimations encountered during the estimation process.\n",
        "\"\"\""
      ],
      "metadata": {
        "id": "AbdJk_xBp6oo"
      },
      "execution_count": 28,
      "outputs": []
    },
    {
      "cell_type": "markdown",
      "source": [
        "### Invoke Multiagent Workflow"
      ],
      "metadata": {
        "id": "79t9dwtAtaMF"
      }
    },
    {
      "cell_type": "code",
      "source": [
        "result = app.invoke({\"messages\":\"user\",\"content\":prompt})"
      ],
      "metadata": {
        "id": "aLXwdFgbrCk8"
      },
      "execution_count": 29,
      "outputs": []
    },
    {
      "cell_type": "code",
      "source": [
        "result"
      ],
      "metadata": {
        "colab": {
          "base_uri": "https://localhost:8080/"
        },
        "id": "Qok7cGsCrMVQ",
        "outputId": "c2c67b80-33da-436b-b034-09b7962b284c"
      },
      "execution_count": 30,
      "outputs": [
        {
          "output_type": "execute_result",
          "data": {
            "text/plain": [
              "{'messages': [HumanMessage(content='user', additional_kwargs={}, response_metadata={}, id='a6994720-40fd-48fb-94d1-2e6e05c4ac8b'),\n",
              "  AIMessage(content='', additional_kwargs={'tool_calls': [{'id': 'call_d2vn', 'function': {'arguments': '{}', 'name': 'transfer_to_task_planner'}, 'type': 'function'}]}, response_metadata={'token_usage': {'completion_tokens': 315, 'prompt_tokens': 227, 'total_tokens': 542, 'completion_time': 1.145454545, 'prompt_time': 0.01376726, 'queue_time': 0.24120362699999998, 'total_time': 1.159221805}, 'model_name': 'deepseek-r1-distill-llama-70b', 'system_fingerprint': 'fp_1bbe7845ec', 'finish_reason': 'tool_calls', 'logprobs': None}, name='supervisor', id='run-fbc5b6f8-ccc3-433c-a244-18f2cb3a7987-0', tool_calls=[{'name': 'transfer_to_task_planner', 'args': {}, 'id': 'call_d2vn', 'type': 'tool_call'}], usage_metadata={'input_tokens': 227, 'output_tokens': 315, 'total_tokens': 542}),\n",
              "  ToolMessage(content='Successfully transferred to Task_Planner', name='transfer_to_task_planner', id='59111199-612a-4aa9-8df9-fd5811d45b7f', tool_call_id='call_d2vn'),\n",
              "  AIMessage(content=\"To plan the development of a fitness tracking mobile app, we will follow a structured approach to ensure the project is completed efficiently and effectively. Here's the detailed plan:\\n\\n### 1. **Project Scope and Objectives**\\n   - **Primary Objective:** Develop a mobile app that allows users to track their fitness goals effectively.\\n   - **Key Features:**\\n     - User registration and profile management.\\n     - Setting and tracking fitness goals.\\n     - Activity tracking with integration capabilities for wearables and apps like Google Fit.\\n     - User-friendly interface with an intuitive UI/UX design.\\n   - **Target Audience:** Fitness enthusiasts and general users interested in monitoring their activity levels.\\n\\n### 2. **Project Phases and Timelines**\\n   - **Phase 1: Requirements Gathering (2 weeks)**\\n     - Define target audience, app features, and compatibility requirements (iOS and Android).\\n     - Ensure data security and privacy compliance.\\n   - **Phase 2: Design (4 weeks)**\\n     - Create wireframes and mockups for the app's UI/UX.\\n     - Develop a visually appealing and user-friendly design.\\n   - **Phase 3: Development (12 weeks)**\\n     - Front-end and back-end development, including integration with third-party services.\\n     - Implement user authentication, data tracking, and cloud syncing.\\n   - **Phase 4: Testing (4 weeks)**\\n     - Conduct thorough testing, including automated testing for efficiency.\\n     - Identify and resolve bugs promptly.\\n   - **Phase 5: Deployment (2 weeks)**\\n     - Prepare and publish the app on the App Store and Google Play.\\n     - Ensure all metadata, screenshots, and descriptions are ready.\\n   - **Buffer Time:** Allocate additional weeks for unexpected delays or issues.\\n\\n### 3. **Team Roles and Responsibilities**\\n   - **Project Manager:** Oversee timelines, resources, and ensure project milestones are met.\\n   - **Developers (2):** Responsible for coding the front-end and back-end of the app.\\n   - **Designer (1):** Create the UI/UX design and ensure a smooth user experience.\\n   - **Tester (1):** Conduct testing phases and ensure the app is bug-free.\\n\\n### 4. **Tools and Communication**\\n   - **Project Management:** Use Jira or Trello for task tracking and project management.\\n   - **Version Control:** Utilize Git with repositories on GitHub or Bitbucket.\\n   - **Communication:** Implement Slack or Microsoft Teams for regular updates and team communication.\\n\\n### 5. **Risk Management**\\n   - **Team Member Departure:** Ensure cross-training and knowledge sharing among team members.\\n   - **Scope Creep:** Manage stakeholder expectations and adhere to the initial scope unless necessary changes arise.\\n   - **Quality Assurance:** Integrate testing early in the development phase and use automated testing tools.\\n\\n### 6. **Post-Deployment Strategy**\\n   - **Support and Updates:** Plan for ongoing support to address any post-launch issues.\\n   - **User Feedback:** Incorporate a feedback mechanism within the app for continuous improvement.\\n\\n### 7. **Final Steps**\\n   - **Deployment:** Publish the app on both platforms with all necessary metadata.\\n   - **Launch:** Coordinate a soft launch to gather initial user feedback before the full launch.\\n\\nBy following this structured plan, we aim to deliver a high-quality fitness tracking app that meets user needs and expectations.\", additional_kwargs={}, response_metadata={'token_usage': {'completion_tokens': 1440, 'prompt_tokens': 220, 'total_tokens': 1660, 'completion_time': 5.236363636, 'prompt_time': 0.013319113, 'queue_time': 0.241595006, 'total_time': 5.249682749}, 'model_name': 'deepseek-r1-distill-llama-70b', 'system_fingerprint': 'fp_1bbe7845ec', 'finish_reason': 'stop', 'logprobs': None}, name='Task_Planner', id='run-844b91cd-1961-4715-8f1d-dca157e80618-0', usage_metadata={'input_tokens': 220, 'output_tokens': 1440, 'total_tokens': 1660}),\n",
              "  AIMessage(content='Transferring back to supervisor', additional_kwargs={}, response_metadata={'__is_handoff_back': True}, name='Task_Planner', id='d055e713-bb45-4d81-b308-a5b9f32839b5', tool_calls=[{'name': 'transfer_back_to_supervisor', 'args': {}, 'id': '16556d54-55f0-4a4f-9edf-5e25e594ea19', 'type': 'tool_call'}]),\n",
              "  ToolMessage(content='Successfully transferred back to supervisor', name='transfer_back_to_supervisor', id='4ba37992-e8cd-4a1c-a8b6-bce7947cad47', tool_call_id='16556d54-55f0-4a4f-9edf-5e25e594ea19'),\n",
              "  AIMessage(content=\"Based on the thought process and the initial plan provided, here is a refined and organized approach to managing the task planning and estimation for developing a fitness tracking mobile app:\\n\\n### 1. **Project Scope and Objectives**\\n   - **Primary Objective:** Develop a mobile app that allows users to track their fitness goals effectively.\\n   - **Key Features:**\\n     - User registration and profile management.\\n     - Setting and tracking fitness goals.\\n     - Activity tracking with integration capabilities for wearables and apps like Google Fit.\\n     - User-friendly interface with an intuitive UI/UX design.\\n     - Additional Considerations: Social sharing and community support features.\\n   - **Target Audience:** Fitness enthusiasts and general users interested in monitoring their activity levels.\\n\\n### 2. **Project Phases and Timelines**\\n   - **Phase 1: Requirements Gathering (4 weeks)**\\n     - Define target audience, app features, and compatibility requirements (iOS and Android).\\n     - Ensure data security and privacy compliance.\\n     - Engage stakeholders to validate requirements.\\n   - **Phase 2: Design (6 weeks)**\\n     - Create wireframes and mockups for the app's UI/UX.\\n     - Develop a visually appealing and user-friendly design.\\n     - Conduct design reviews and iterate based on feedback.\\n   - **Phase 3: Development (16 weeks)**\\n     - Front-end and back-end development, including integration with third-party services.\\n     - Implement user authentication, data tracking, and cloud syncing.\\n     - Conduct unit testing and code reviews.\\n   - **Phase 4: Testing (6 weeks)**\\n     - Conduct thorough testing, including automated testing for efficiency.\\n     - Identify and resolve bugs promptly.\\n     - Perform user acceptance testing (UAT).\\n   - **Phase 5: Deployment (4 weeks)**\\n     - Prepare and publish the app on the App Store and Google Play.\\n     - Ensure all metadata, screenshots, and descriptions are ready.\\n     - Plan for a soft launch to gather initial user feedback.\\n   - **Buffer Time:** Allocate additional weeks for unexpected delays or issues.\\n\\n### 3. **Team Roles and Responsibilities**\\n   - **Project Manager:** Oversee timelines, resources, and ensure project milestones are met.\\n   - **Developers (3):** Responsible for coding the front-end and back-end of the app, ensuring integration with third-party services.\\n   - **Designer (1):** Create the UI/UX design and ensure a smooth user experience.\\n   - **Testers (2):** Conduct testing phases, including automated and manual testing, and ensure the app is bug-free.\\n   - **Quality Assurance (QA) Engineer (1):** Focus on overall quality assurance and compliance.\\n\\n### 4. **Tools and Communication**\\n   - **Project Management:** Use Jira or Trello for task tracking and project management.\\n   - **Version Control:** Utilize Git with repositories on GitHub or Bitbucket.\\n   - **Communication:** Implement Slack or Microsoft Teams for regular updates and team communication.\\n   - **Training:** Ensure all team members are comfortable with the chosen tools.\\n\\n### 5. **Risk Management**\\n   - **Team Member Departure:** Ensure cross-training and knowledge sharing among team members.\\n   - **Scope Creep:** Manage stakeholder expectations and adhere to the initial scope unless necessary changes arise.\\n   - **Quality Assurance:** Integrate testing early in the development phase and use automated testing tools.\\n   - **Technical Debt:** Regularly review and address technical debt to maintain code quality.\\n   - **Integration Challenges:** Plan for contingencies and have backup solutions for third-party integrations.\\n\\n### 6. **Post-Deployment Strategy**\\n   - **Support and Updates:** Plan for ongoing support to address any post-launch issues.\\n   - **User Feedback:** Incorporate a feedback mechanism within the app for continuous improvement.\\n   - **Marketing and User Acquisition:** Consider future phases for marketing strategies.\\n\\n### 7. **Final Steps**\\n   - **Deployment:** Publish the app on both platforms with all necessary metadata.\\n   - **Soft Launch:** Coordinate a soft launch to gather initial user feedback before the full launch.\\n   - **Review and Adjust:** Based on feedback, make necessary adjustments and plan for future updates.\\n\\nBy following this refined plan, we aim to deliver a high-quality fitness tracking app that meets user needs and expectations, while also being prepared for potential challenges and ensuring long-term success.\", additional_kwargs={}, response_metadata={'token_usage': {'completion_tokens': 1575, 'prompt_tokens': 1067, 'total_tokens': 2642, 'completion_time': 5.727272727, 'prompt_time': 0.053480181, 'queue_time': 0.23602237199999998, 'total_time': 5.780752908}, 'model_name': 'deepseek-r1-distill-llama-70b', 'system_fingerprint': 'fp_454c494f52', 'finish_reason': 'stop', 'logprobs': None}, name='supervisor', id='run-35857918-016e-4f1b-b2d9-554f8e9634ef-0', usage_metadata={'input_tokens': 1067, 'output_tokens': 1575, 'total_tokens': 2642})]}"
            ]
          },
          "metadata": {},
          "execution_count": 30
        }
      ]
    },
    {
      "cell_type": "markdown",
      "source": [
        "### Final Output from the workflow"
      ],
      "metadata": {
        "id": "OYCSK0TGtp7F"
      }
    },
    {
      "cell_type": "code",
      "source": [
        "print(result['messages'][-1].content)"
      ],
      "metadata": {
        "colab": {
          "base_uri": "https://localhost:8080/"
        },
        "id": "2-9bsKNLrNKQ",
        "outputId": "bdaaece7-11f3-4f0d-d7a7-c32a9d815677"
      },
      "execution_count": 39,
      "outputs": [
        {
          "output_type": "stream",
          "name": "stdout",
          "text": [
            "Based on the thought process and the initial plan provided, here is a refined and organized approach to managing the task planning and estimation for developing a fitness tracking mobile app:\n",
            "\n",
            "### 1. **Project Scope and Objectives**\n",
            "   - **Primary Objective:** Develop a mobile app that allows users to track their fitness goals effectively.\n",
            "   - **Key Features:**\n",
            "     - User registration and profile management.\n",
            "     - Setting and tracking fitness goals.\n",
            "     - Activity tracking with integration capabilities for wearables and apps like Google Fit.\n",
            "     - User-friendly interface with an intuitive UI/UX design.\n",
            "     - Additional Considerations: Social sharing and community support features.\n",
            "   - **Target Audience:** Fitness enthusiasts and general users interested in monitoring their activity levels.\n",
            "\n",
            "### 2. **Project Phases and Timelines**\n",
            "   - **Phase 1: Requirements Gathering (4 weeks)**\n",
            "     - Define target audience, app features, and compatibility requirements (iOS and Android).\n",
            "     - Ensure data security and privacy compliance.\n",
            "     - Engage stakeholders to validate requirements.\n",
            "   - **Phase 2: Design (6 weeks)**\n",
            "     - Create wireframes and mockups for the app's UI/UX.\n",
            "     - Develop a visually appealing and user-friendly design.\n",
            "     - Conduct design reviews and iterate based on feedback.\n",
            "   - **Phase 3: Development (16 weeks)**\n",
            "     - Front-end and back-end development, including integration with third-party services.\n",
            "     - Implement user authentication, data tracking, and cloud syncing.\n",
            "     - Conduct unit testing and code reviews.\n",
            "   - **Phase 4: Testing (6 weeks)**\n",
            "     - Conduct thorough testing, including automated testing for efficiency.\n",
            "     - Identify and resolve bugs promptly.\n",
            "     - Perform user acceptance testing (UAT).\n",
            "   - **Phase 5: Deployment (4 weeks)**\n",
            "     - Prepare and publish the app on the App Store and Google Play.\n",
            "     - Ensure all metadata, screenshots, and descriptions are ready.\n",
            "     - Plan for a soft launch to gather initial user feedback.\n",
            "   - **Buffer Time:** Allocate additional weeks for unexpected delays or issues.\n",
            "\n",
            "### 3. **Team Roles and Responsibilities**\n",
            "   - **Project Manager:** Oversee timelines, resources, and ensure project milestones are met.\n",
            "   - **Developers (3):** Responsible for coding the front-end and back-end of the app, ensuring integration with third-party services.\n",
            "   - **Designer (1):** Create the UI/UX design and ensure a smooth user experience.\n",
            "   - **Testers (2):** Conduct testing phases, including automated and manual testing, and ensure the app is bug-free.\n",
            "   - **Quality Assurance (QA) Engineer (1):** Focus on overall quality assurance and compliance.\n",
            "\n",
            "### 4. **Tools and Communication**\n",
            "   - **Project Management:** Use Jira or Trello for task tracking and project management.\n",
            "   - **Version Control:** Utilize Git with repositories on GitHub or Bitbucket.\n",
            "   - **Communication:** Implement Slack or Microsoft Teams for regular updates and team communication.\n",
            "   - **Training:** Ensure all team members are comfortable with the chosen tools.\n",
            "\n",
            "### 5. **Risk Management**\n",
            "   - **Team Member Departure:** Ensure cross-training and knowledge sharing among team members.\n",
            "   - **Scope Creep:** Manage stakeholder expectations and adhere to the initial scope unless necessary changes arise.\n",
            "   - **Quality Assurance:** Integrate testing early in the development phase and use automated testing tools.\n",
            "   - **Technical Debt:** Regularly review and address technical debt to maintain code quality.\n",
            "   - **Integration Challenges:** Plan for contingencies and have backup solutions for third-party integrations.\n",
            "\n",
            "### 6. **Post-Deployment Strategy**\n",
            "   - **Support and Updates:** Plan for ongoing support to address any post-launch issues.\n",
            "   - **User Feedback:** Incorporate a feedback mechanism within the app for continuous improvement.\n",
            "   - **Marketing and User Acquisition:** Consider future phases for marketing strategies.\n",
            "\n",
            "### 7. **Final Steps**\n",
            "   - **Deployment:** Publish the app on both platforms with all necessary metadata.\n",
            "   - **Soft Launch:** Coordinate a soft launch to gather initial user feedback before the full launch.\n",
            "   - **Review and Adjust:** Based on feedback, make necessary adjustments and plan for future updates.\n",
            "\n",
            "By following this refined plan, we aim to deliver a high-quality fitness tracking app that meets user needs and expectations, while also being prepared for potential challenges and ensuring long-term success.\n"
          ]
        }
      ]
    },
    {
      "cell_type": "code",
      "source": [
        "from IPython.display import Markdown,display\n",
        "display(Markdown(result['messages'][-1].content))"
      ],
      "metadata": {
        "colab": {
          "base_uri": "https://localhost:8080/",
          "height": 1000
        },
        "id": "Y_lFxm3MrqOX",
        "outputId": "ab2ef65f-b6cd-4073-c6bb-9680a293c665"
      },
      "execution_count": 50,
      "outputs": [
        {
          "output_type": "display_data",
          "data": {
            "text/plain": [
              "<IPython.core.display.Markdown object>"
            ],
            "text/markdown": "Based on the thought process and the initial plan provided, here is a refined and organized approach to managing the task planning and estimation for developing a fitness tracking mobile app:\n\n### 1. **Project Scope and Objectives**\n   - **Primary Objective:** Develop a mobile app that allows users to track their fitness goals effectively.\n   - **Key Features:**\n     - User registration and profile management.\n     - Setting and tracking fitness goals.\n     - Activity tracking with integration capabilities for wearables and apps like Google Fit.\n     - User-friendly interface with an intuitive UI/UX design.\n     - Additional Considerations: Social sharing and community support features.\n   - **Target Audience:** Fitness enthusiasts and general users interested in monitoring their activity levels.\n\n### 2. **Project Phases and Timelines**\n   - **Phase 1: Requirements Gathering (4 weeks)**\n     - Define target audience, app features, and compatibility requirements (iOS and Android).\n     - Ensure data security and privacy compliance.\n     - Engage stakeholders to validate requirements.\n   - **Phase 2: Design (6 weeks)**\n     - Create wireframes and mockups for the app's UI/UX.\n     - Develop a visually appealing and user-friendly design.\n     - Conduct design reviews and iterate based on feedback.\n   - **Phase 3: Development (16 weeks)**\n     - Front-end and back-end development, including integration with third-party services.\n     - Implement user authentication, data tracking, and cloud syncing.\n     - Conduct unit testing and code reviews.\n   - **Phase 4: Testing (6 weeks)**\n     - Conduct thorough testing, including automated testing for efficiency.\n     - Identify and resolve bugs promptly.\n     - Perform user acceptance testing (UAT).\n   - **Phase 5: Deployment (4 weeks)**\n     - Prepare and publish the app on the App Store and Google Play.\n     - Ensure all metadata, screenshots, and descriptions are ready.\n     - Plan for a soft launch to gather initial user feedback.\n   - **Buffer Time:** Allocate additional weeks for unexpected delays or issues.\n\n### 3. **Team Roles and Responsibilities**\n   - **Project Manager:** Oversee timelines, resources, and ensure project milestones are met.\n   - **Developers (3):** Responsible for coding the front-end and back-end of the app, ensuring integration with third-party services.\n   - **Designer (1):** Create the UI/UX design and ensure a smooth user experience.\n   - **Testers (2):** Conduct testing phases, including automated and manual testing, and ensure the app is bug-free.\n   - **Quality Assurance (QA) Engineer (1):** Focus on overall quality assurance and compliance.\n\n### 4. **Tools and Communication**\n   - **Project Management:** Use Jira or Trello for task tracking and project management.\n   - **Version Control:** Utilize Git with repositories on GitHub or Bitbucket.\n   - **Communication:** Implement Slack or Microsoft Teams for regular updates and team communication.\n   - **Training:** Ensure all team members are comfortable with the chosen tools.\n\n### 5. **Risk Management**\n   - **Team Member Departure:** Ensure cross-training and knowledge sharing among team members.\n   - **Scope Creep:** Manage stakeholder expectations and adhere to the initial scope unless necessary changes arise.\n   - **Quality Assurance:** Integrate testing early in the development phase and use automated testing tools.\n   - **Technical Debt:** Regularly review and address technical debt to maintain code quality.\n   - **Integration Challenges:** Plan for contingencies and have backup solutions for third-party integrations.\n\n### 6. **Post-Deployment Strategy**\n   - **Support and Updates:** Plan for ongoing support to address any post-launch issues.\n   - **User Feedback:** Incorporate a feedback mechanism within the app for continuous improvement.\n   - **Marketing and User Acquisition:** Consider future phases for marketing strategies.\n\n### 7. **Final Steps**\n   - **Deployment:** Publish the app on both platforms with all necessary metadata.\n   - **Soft Launch:** Coordinate a soft launch to gather initial user feedback before the full launch.\n   - **Review and Adjust:** Based on feedback, make necessary adjustments and plan for future updates.\n\nBy following this refined plan, we aim to deliver a high-quality fitness tracking app that meets user needs and expectations, while also being prepared for potential challenges and ensuring long-term success."
          },
          "metadata": {}
        }
      ]
    }
  ]
}