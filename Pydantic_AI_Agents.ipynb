{
  "nbformat": 4,
  "nbformat_minor": 0,
  "metadata": {
    "colab": {
      "provenance": [],
      "include_colab_link": true
    },
    "kernelspec": {
      "name": "python3",
      "display_name": "Python 3"
    },
    "language_info": {
      "name": "python"
    },
    "widgets": {
      "application/vnd.jupyter.widget-state+json": {
        "aa6177341ad6439c96c059e433169420": {
          "model_module": "@jupyter-widgets/output",
          "model_name": "OutputModel",
          "model_module_version": "1.0.0",
          "state": {
            "_dom_classes": [],
            "_model_module": "@jupyter-widgets/output",
            "_model_module_version": "1.0.0",
            "_model_name": "OutputModel",
            "_view_count": null,
            "_view_module": "@jupyter-widgets/output",
            "_view_module_version": "1.0.0",
            "_view_name": "OutputView",
            "layout": "IPY_MODEL_1329031b2a6c437fae35175f8e7ccbb4",
            "msg_id": "",
            "outputs": [
              {
                "output_type": "display_data",
                "data": {
                  "text/plain": "This example demonstrates a simple Pydantic model for a user, validating input data and providing type hints:      \n\n\u001b[2mpython\u001b[0m\n\u001b[38;2;255;70;137;40mfrom\u001b[0m\u001b[38;2;248;248;242;40m \u001b[0m\u001b[38;2;248;248;242;40mpydantic\u001b[0m\u001b[38;2;248;248;242;40m \u001b[0m\u001b[38;2;255;70;137;40mimport\u001b[0m\u001b[38;2;248;248;242;40m \u001b[0m\u001b[38;2;248;248;242;40mBaseModel\u001b[0m\u001b[38;2;248;248;242;40m,\u001b[0m\u001b[38;2;248;248;242;40m \u001b[0m\u001b[38;2;248;248;242;40mValidationError\u001b[0m\u001b[40m                                                                    \u001b[0m\n\u001b[40m                                                                                                                   \u001b[0m\n\u001b[38;2;102;217;239;40mclass\u001b[0m\u001b[38;2;248;248;242;40m \u001b[0m\u001b[38;2;166;226;46;40mUser\u001b[0m\u001b[38;2;248;248;242;40m(\u001b[0m\u001b[38;2;248;248;242;40mBaseModel\u001b[0m\u001b[38;2;248;248;242;40m)\u001b[0m\u001b[38;2;248;248;242;40m:\u001b[0m\u001b[40m                                                                                             \u001b[0m\n\u001b[38;2;248;248;242;40m    \u001b[0m\u001b[38;2;248;248;242;40mid\u001b[0m\u001b[38;2;248;248;242;40m:\u001b[0m\u001b[38;2;248;248;242;40m \u001b[0m\u001b[38;2;248;248;242;40mint\u001b[0m\u001b[40m                                                                                                        \u001b[0m\n\u001b[38;2;248;248;242;40m    \u001b[0m\u001b[38;2;248;248;242;40mname\u001b[0m\u001b[38;2;248;248;242;40m:\u001b[0m\u001b[38;2;248;248;242;40m \u001b[0m\u001b[38;2;248;248;242;40mstr\u001b[0m\u001b[40m                                                                                                      \u001b[0m\n\u001b[38;2;248;248;242;40m    \u001b[0m\u001b[38;2;248;248;242;40msignup_ts\u001b[0m\u001b[38;2;248;248;242;40m:\u001b[0m\u001b[38;2;248;248;242;40m \u001b[0m\u001b[38;2;248;248;242;40mfloat\u001b[0m\u001b[38;2;248;248;242;40m \u001b[0m\u001b[38;2;255;70;137;40m|\u001b[0m\u001b[38;2;248;248;242;40m \u001b[0m\u001b[38;2;102;217;239;40mNone\u001b[0m\u001b[38;2;248;248;242;40m \u001b[0m\u001b[38;2;255;70;137;40m=\u001b[0m\u001b[38;2;248;248;242;40m \u001b[0m\u001b[38;2;102;217;239;40mNone\u001b[0m\u001b[40m                                                                                 \u001b[0m\n\u001b[40m                                                                                                                   \u001b[0m\n\u001b[38;2;149;144;119;40m# Valid data\u001b[0m\u001b[40m                                                                                                       \u001b[0m\n\u001b[38;2;248;248;242;40mvalid_user_data\u001b[0m\u001b[38;2;248;248;242;40m \u001b[0m\u001b[38;2;255;70;137;40m=\u001b[0m\u001b[38;2;248;248;242;40m \u001b[0m\u001b[38;2;248;248;242;40m{\u001b[0m\u001b[40m                                                                                                \u001b[0m\n\u001b[38;2;248;248;242;40m    \u001b[0m\u001b[38;2;230;219;116;40m\"\u001b[0m\u001b[38;2;230;219;116;40mid\u001b[0m\u001b[38;2;230;219;116;40m\"\u001b[0m\u001b[38;2;248;248;242;40m:\u001b[0m\u001b[38;2;248;248;242;40m \u001b[0m\u001b[38;2;174;129;255;40m123\u001b[0m\u001b[38;2;248;248;242;40m,\u001b[0m\u001b[40m                                                                                                     \u001b[0m\n\u001b[38;2;248;248;242;40m    \u001b[0m\u001b[38;2;230;219;116;40m\"\u001b[0m\u001b[38;2;230;219;116;40mname\u001b[0m\u001b[38;2;230;219;116;40m\"\u001b[0m\u001b[38;2;248;248;242;40m:\u001b[0m\u001b[38;2;248;248;242;40m \u001b[0m\u001b[38;2;230;219;116;40m\"\u001b[0m\u001b[38;2;230;219;116;40mJohn Doe\u001b[0m\u001b[38;2;230;219;116;40m\"\u001b[0m\u001b[38;2;248;248;242;40m,\u001b[0m\u001b[40m                                                                                            \u001b[0m\n\u001b[38;2;248;248;242;40m    \u001b[0m\u001b[38;2;230;219;116;40m\"\u001b[0m\u001b[38;2;230;219;116;40msignup_ts\u001b[0m\u001b[38;2;230;219;116;40m\"\u001b[0m\u001b[38;2;248;248;242;40m:\u001b[0m\u001b[38;2;248;248;242;40m \u001b[0m\u001b[38;2;174;129;255;40m1678886400.0\u001b[0m\u001b[38;2;248;248;242;40m  \u001b[0m\u001b[38;2;149;144;119;40m# Example timestamp\u001b[0m\u001b[40m                                                                 \u001b[0m\n\u001b[38;2;248;248;242;40m}\u001b[0m\u001b[40m                                                                                                                  \u001b[0m\n\u001b[40m                                                                                                                   \u001b[0m\n\u001b[38;2;102;217;239;40mtry\u001b[0m\u001b[38;2;248;248;242;40m:\u001b[0m\u001b[40m                                                                                                               \u001b[0m\n\u001b[38;2;248;248;242;40m    \u001b[0m\u001b[38;2;248;248;242;40muser\u001b[0m\u001b[38;2;248;248;242;40m \u001b[0m\u001b[38;2;255;70;137;40m=\u001b[0m\u001b[38;2;248;248;242;40m \u001b[0m\u001b[38;2;248;248;242;40mUser\u001b[0m\u001b[38;2;248;248;242;40m(\u001b[0m\u001b[38;2;255;70;137;40m*\u001b[0m\u001b[38;2;255;70;137;40m*\u001b[0m\u001b[38;2;248;248;242;40mvalid_user_data\u001b[0m\u001b[38;2;248;248;242;40m)\u001b[0m\u001b[40m                                                                                 \u001b[0m\n\u001b[38;2;248;248;242;40m    \u001b[0m\u001b[38;2;248;248;242;40mprint\u001b[0m\u001b[38;2;248;248;242;40m(\u001b[0m\u001b[38;2;248;248;242;40muser\u001b[0m\u001b[38;2;248;248;242;40m)\u001b[0m\u001b[38;2;248;248;242;40m  \u001b[0m\u001b[38;2;149;144;119;40m# Output: id=123 name='John Doe' signup_ts=1678886400.0\u001b[0m\u001b[40m                                           \u001b[0m\n\u001b[38;2;248;248;242;40m    \u001b[0m\u001b[38;2;248;248;242;40mprint\u001b[0m\u001b[38;2;248;248;242;40m(\u001b[0m\u001b[38;2;248;248;242;40muser\u001b[0m\u001b[38;2;255;70;137;40m.\u001b[0m\u001b[38;2;248;248;242;40mdict\u001b[0m\u001b[38;2;248;248;242;40m(\u001b[0m\u001b[38;2;248;248;242;40m)\u001b[0m\u001b[38;2;248;248;242;40m)\u001b[0m\u001b[38;2;248;248;242;40m \u001b[0m\u001b[38;2;149;144;119;40m# Output: {'id': 123, 'name': 'John Doe', 'signup_ts': 1678886400.0}\u001b[0m\u001b[40m                        \u001b[0m\n\u001b[38;2;102;217;239;40mexcept\u001b[0m\u001b[38;2;248;248;242;40m \u001b[0m\u001b[38;2;248;248;242;40mValidationError\u001b[0m\u001b[38;2;248;248;242;40m \u001b[0m\u001b[38;2;102;217;239;40mas\u001b[0m\u001b[38;2;248;248;242;40m \u001b[0m\u001b[38;2;248;248;242;40me\u001b[0m\u001b[38;2;248;248;242;40m:\u001b[0m\u001b[40m                                                                                       \u001b[0m\n\u001b[38;2;248;248;242;40m    \u001b[0m\u001b[38;2;248;248;242;40mprint\u001b[0m\u001b[38;2;248;248;242;40m(\u001b[0m\u001b[38;2;248;248;242;40me\u001b[0m\u001b[38;2;248;248;242;40m)\u001b[0m\u001b[40m                                                                                                       \u001b[0m\n\u001b[40m                                                                                                                   \u001b[0m\n\u001b[38;2;149;144;119;40m# Invalid data - missing required field\u001b[0m\u001b[40m                                                                            \u001b[0m\n\u001b[38;2;248;248;242;40minvalid_user_data\u001b[0m\u001b[38;2;248;248;242;40m \u001b[0m\u001b[38;2;255;70;137;40m=\u001b[0m\u001b[38;2;248;248;242;40m \u001b[0m\u001b[38;2;248;248;242;40m{\u001b[0m\u001b[40m                                                                                              \u001b[0m\n\u001b[38;2;248;248;242;40m    \u001b[0m\u001b[38;2;230;219;116;40m\"\u001b[0m\u001b[38;2;230;219;116;40mname\u001b[0m\u001b[38;2;230;219;116;40m\"\u001b[0m\u001b[38;2;248;248;242;40m:\u001b[0m\u001b[38;2;248;248;242;40m \u001b[0m\u001b[38;2;230;219;116;40m\"\u001b[0m\u001b[38;2;230;219;116;40mJane Doe\u001b[0m\u001b[38;2;230;219;116;40m\"\u001b[0m\u001b[40m                                                                                             \u001b[0m\n\u001b[38;2;248;248;242;40m}\u001b[0m\u001b[40m                                                                                                                  \u001b[0m\n\u001b[40m                                                                                                                   \u001b[0m\n\u001b[38;2;102;217;239;40mtry\u001b[0m\u001b[38;2;248;248;242;40m:\u001b[0m\u001b[40m                                                                                                               \u001b[0m\n\u001b[2m/python\u001b[0m\n",
                  "text/html": "<pre style=\"white-space:pre;overflow-x:auto;line-height:normal;font-family:Menlo,'DejaVu Sans Mono',consolas,'Courier New',monospace\">This example demonstrates a simple Pydantic model for a user, validating input data and providing type hints:      \n\n<span style=\"color: #7f7f7f; text-decoration-color: #7f7f7f\">python</span>\n<span style=\"color: #ff4689; text-decoration-color: #ff4689; background-color: #000000\">from</span><span style=\"color: #f8f8f2; text-decoration-color: #f8f8f2; background-color: #000000\"> pydantic </span><span style=\"color: #ff4689; text-decoration-color: #ff4689; background-color: #000000\">import</span><span style=\"color: #f8f8f2; text-decoration-color: #f8f8f2; background-color: #000000\"> BaseModel, ValidationError</span><span style=\"background-color: #000000\">                                                                    </span>\n<span style=\"background-color: #000000\">                                                                                                                   </span>\n<span style=\"color: #66d9ef; text-decoration-color: #66d9ef; background-color: #000000\">class</span><span style=\"color: #f8f8f2; text-decoration-color: #f8f8f2; background-color: #000000\"> </span><span style=\"color: #a6e22e; text-decoration-color: #a6e22e; background-color: #000000\">User</span><span style=\"color: #f8f8f2; text-decoration-color: #f8f8f2; background-color: #000000\">(BaseModel):</span><span style=\"background-color: #000000\">                                                                                             </span>\n<span style=\"color: #f8f8f2; text-decoration-color: #f8f8f2; background-color: #000000\">    id: int</span><span style=\"background-color: #000000\">                                                                                                        </span>\n<span style=\"color: #f8f8f2; text-decoration-color: #f8f8f2; background-color: #000000\">    name: str</span><span style=\"background-color: #000000\">                                                                                                      </span>\n<span style=\"color: #f8f8f2; text-decoration-color: #f8f8f2; background-color: #000000\">    signup_ts: float </span><span style=\"color: #ff4689; text-decoration-color: #ff4689; background-color: #000000\">|</span><span style=\"color: #f8f8f2; text-decoration-color: #f8f8f2; background-color: #000000\"> </span><span style=\"color: #66d9ef; text-decoration-color: #66d9ef; background-color: #000000\">None</span><span style=\"color: #f8f8f2; text-decoration-color: #f8f8f2; background-color: #000000\"> </span><span style=\"color: #ff4689; text-decoration-color: #ff4689; background-color: #000000\">=</span><span style=\"color: #f8f8f2; text-decoration-color: #f8f8f2; background-color: #000000\"> </span><span style=\"color: #66d9ef; text-decoration-color: #66d9ef; background-color: #000000\">None</span><span style=\"background-color: #000000\">                                                                                 </span>\n<span style=\"background-color: #000000\">                                                                                                                   </span>\n<span style=\"color: #959077; text-decoration-color: #959077; background-color: #000000\"># Valid data</span><span style=\"background-color: #000000\">                                                                                                       </span>\n<span style=\"color: #f8f8f2; text-decoration-color: #f8f8f2; background-color: #000000\">valid_user_data </span><span style=\"color: #ff4689; text-decoration-color: #ff4689; background-color: #000000\">=</span><span style=\"color: #f8f8f2; text-decoration-color: #f8f8f2; background-color: #000000\"> {</span><span style=\"background-color: #000000\">                                                                                                </span>\n<span style=\"color: #f8f8f2; text-decoration-color: #f8f8f2; background-color: #000000\">    </span><span style=\"color: #e6db74; text-decoration-color: #e6db74; background-color: #000000\">\"id\"</span><span style=\"color: #f8f8f2; text-decoration-color: #f8f8f2; background-color: #000000\">: </span><span style=\"color: #ae81ff; text-decoration-color: #ae81ff; background-color: #000000\">123</span><span style=\"color: #f8f8f2; text-decoration-color: #f8f8f2; background-color: #000000\">,</span><span style=\"background-color: #000000\">                                                                                                     </span>\n<span style=\"color: #f8f8f2; text-decoration-color: #f8f8f2; background-color: #000000\">    </span><span style=\"color: #e6db74; text-decoration-color: #e6db74; background-color: #000000\">\"name\"</span><span style=\"color: #f8f8f2; text-decoration-color: #f8f8f2; background-color: #000000\">: </span><span style=\"color: #e6db74; text-decoration-color: #e6db74; background-color: #000000\">\"John Doe\"</span><span style=\"color: #f8f8f2; text-decoration-color: #f8f8f2; background-color: #000000\">,</span><span style=\"background-color: #000000\">                                                                                            </span>\n<span style=\"color: #f8f8f2; text-decoration-color: #f8f8f2; background-color: #000000\">    </span><span style=\"color: #e6db74; text-decoration-color: #e6db74; background-color: #000000\">\"signup_ts\"</span><span style=\"color: #f8f8f2; text-decoration-color: #f8f8f2; background-color: #000000\">: </span><span style=\"color: #ae81ff; text-decoration-color: #ae81ff; background-color: #000000\">1678886400.0</span><span style=\"color: #f8f8f2; text-decoration-color: #f8f8f2; background-color: #000000\">  </span><span style=\"color: #959077; text-decoration-color: #959077; background-color: #000000\"># Example timestamp</span><span style=\"background-color: #000000\">                                                                 </span>\n<span style=\"color: #f8f8f2; text-decoration-color: #f8f8f2; background-color: #000000\">}</span><span style=\"background-color: #000000\">                                                                                                                  </span>\n<span style=\"background-color: #000000\">                                                                                                                   </span>\n<span style=\"color: #66d9ef; text-decoration-color: #66d9ef; background-color: #000000\">try</span><span style=\"color: #f8f8f2; text-decoration-color: #f8f8f2; background-color: #000000\">:</span><span style=\"background-color: #000000\">                                                                                                               </span>\n<span style=\"color: #f8f8f2; text-decoration-color: #f8f8f2; background-color: #000000\">    user </span><span style=\"color: #ff4689; text-decoration-color: #ff4689; background-color: #000000\">=</span><span style=\"color: #f8f8f2; text-decoration-color: #f8f8f2; background-color: #000000\"> User(</span><span style=\"color: #ff4689; text-decoration-color: #ff4689; background-color: #000000\">**</span><span style=\"color: #f8f8f2; text-decoration-color: #f8f8f2; background-color: #000000\">valid_user_data)</span><span style=\"background-color: #000000\">                                                                                 </span>\n<span style=\"color: #f8f8f2; text-decoration-color: #f8f8f2; background-color: #000000\">    print(user)  </span><span style=\"color: #959077; text-decoration-color: #959077; background-color: #000000\"># Output: id=123 name='John Doe' signup_ts=1678886400.0</span><span style=\"background-color: #000000\">                                           </span>\n<span style=\"color: #f8f8f2; text-decoration-color: #f8f8f2; background-color: #000000\">    print(user</span><span style=\"color: #ff4689; text-decoration-color: #ff4689; background-color: #000000\">.</span><span style=\"color: #f8f8f2; text-decoration-color: #f8f8f2; background-color: #000000\">dict()) </span><span style=\"color: #959077; text-decoration-color: #959077; background-color: #000000\"># Output: {'id': 123, 'name': 'John Doe', 'signup_ts': 1678886400.0}</span><span style=\"background-color: #000000\">                        </span>\n<span style=\"color: #66d9ef; text-decoration-color: #66d9ef; background-color: #000000\">except</span><span style=\"color: #f8f8f2; text-decoration-color: #f8f8f2; background-color: #000000\"> ValidationError </span><span style=\"color: #66d9ef; text-decoration-color: #66d9ef; background-color: #000000\">as</span><span style=\"color: #f8f8f2; text-decoration-color: #f8f8f2; background-color: #000000\"> e:</span><span style=\"background-color: #000000\">                                                                                       </span>\n<span style=\"color: #f8f8f2; text-decoration-color: #f8f8f2; background-color: #000000\">    print(e)</span><span style=\"background-color: #000000\">                                                                                                       </span>\n<span style=\"background-color: #000000\">                                                                                                                   </span>\n<span style=\"color: #959077; text-decoration-color: #959077; background-color: #000000\"># Invalid data - missing required field</span><span style=\"background-color: #000000\">                                                                            </span>\n<span style=\"color: #f8f8f2; text-decoration-color: #f8f8f2; background-color: #000000\">invalid_user_data </span><span style=\"color: #ff4689; text-decoration-color: #ff4689; background-color: #000000\">=</span><span style=\"color: #f8f8f2; text-decoration-color: #f8f8f2; background-color: #000000\"> {</span><span style=\"background-color: #000000\">                                                                                              </span>\n<span style=\"color: #f8f8f2; text-decoration-color: #f8f8f2; background-color: #000000\">    </span><span style=\"color: #e6db74; text-decoration-color: #e6db74; background-color: #000000\">\"name\"</span><span style=\"color: #f8f8f2; text-decoration-color: #f8f8f2; background-color: #000000\">: </span><span style=\"color: #e6db74; text-decoration-color: #e6db74; background-color: #000000\">\"Jane Doe\"</span><span style=\"background-color: #000000\">                                                                                             </span>\n<span style=\"color: #f8f8f2; text-decoration-color: #f8f8f2; background-color: #000000\">}</span><span style=\"background-color: #000000\">                                                                                                                  </span>\n<span style=\"background-color: #000000\">                                                                                                                   </span>\n<span style=\"color: #66d9ef; text-decoration-color: #66d9ef; background-color: #000000\">try</span><span style=\"color: #f8f8f2; text-decoration-color: #f8f8f2; background-color: #000000\">:</span><span style=\"background-color: #000000\">                                                                                                               </span>\n<span style=\"color: #7f7f7f; text-decoration-color: #7f7f7f\">/python</span>\n</pre>\n"
                },
                "metadata": {}
              }
            ]
          }
        },
        "1329031b2a6c437fae35175f8e7ccbb4": {
          "model_module": "@jupyter-widgets/base",
          "model_name": "LayoutModel",
          "model_module_version": "1.2.0",
          "state": {
            "_model_module": "@jupyter-widgets/base",
            "_model_module_version": "1.2.0",
            "_model_name": "LayoutModel",
            "_view_count": null,
            "_view_module": "@jupyter-widgets/base",
            "_view_module_version": "1.2.0",
            "_view_name": "LayoutView",
            "align_content": null,
            "align_items": null,
            "align_self": null,
            "border": null,
            "bottom": null,
            "display": null,
            "flex": null,
            "flex_flow": null,
            "grid_area": null,
            "grid_auto_columns": null,
            "grid_auto_flow": null,
            "grid_auto_rows": null,
            "grid_column": null,
            "grid_gap": null,
            "grid_row": null,
            "grid_template_areas": null,
            "grid_template_columns": null,
            "grid_template_rows": null,
            "height": null,
            "justify_content": null,
            "justify_items": null,
            "left": null,
            "margin": null,
            "max_height": null,
            "max_width": null,
            "min_height": null,
            "min_width": null,
            "object_fit": null,
            "object_position": null,
            "order": null,
            "overflow": null,
            "overflow_x": null,
            "overflow_y": null,
            "padding": null,
            "right": null,
            "top": null,
            "visibility": null,
            "width": null
          }
        },
        "402757fec43049cda25b6063e42f6a67": {
          "model_module": "@jupyter-widgets/output",
          "model_name": "OutputModel",
          "model_module_version": "1.0.0",
          "state": {
            "_dom_classes": [],
            "_model_module": "@jupyter-widgets/output",
            "_model_module_version": "1.0.0",
            "_model_name": "OutputModel",
            "_view_count": null,
            "_view_module": "@jupyter-widgets/output",
            "_view_module_version": "1.0.0",
            "_view_name": "OutputView",
            "layout": "IPY_MODEL_a398fc2e52c3454fa62275335a742f7c",
            "msg_id": "",
            "outputs": [
              {
                "output_type": "display_data",
                "data": {
                  "text/plain": "Certainly! Pydantic is a data validation and settings management library for Python that utilizes Python type      \nannotations. It is particularly useful for validating complex data structures, such as those encountered in        \nconfigurations, API responses, or forms.                                                                           \n\nHere's a simple example demonstrating how to define a data model using Pydantic and validate input data:           \n\n\u001b[2mpython\u001b[0m\n\u001b[38;2;255;70;137;40mfrom\u001b[0m\u001b[38;2;248;248;242;40m \u001b[0m\u001b[38;2;248;248;242;40mpydantic\u001b[0m\u001b[38;2;248;248;242;40m \u001b[0m\u001b[38;2;255;70;137;40mimport\u001b[0m\u001b[38;2;248;248;242;40m \u001b[0m\u001b[38;2;248;248;242;40mBaseModel\u001b[0m\u001b[38;2;248;248;242;40m,\u001b[0m\u001b[38;2;248;248;242;40m \u001b[0m\u001b[38;2;248;248;242;40mEmailStr\u001b[0m\u001b[38;2;248;248;242;40m,\u001b[0m\u001b[38;2;248;248;242;40m \u001b[0m\u001b[38;2;248;248;242;40mconint\u001b[0m\u001b[40m                                                                   \u001b[0m\n\u001b[40m                                                                                                                   \u001b[0m\n\u001b[38;2;149;144;119;40m# Define a Pydantic model\u001b[0m\u001b[40m                                                                                          \u001b[0m\n\u001b[38;2;102;217;239;40mclass\u001b[0m\u001b[38;2;248;248;242;40m \u001b[0m\u001b[38;2;166;226;46;40mUser\u001b[0m\u001b[38;2;248;248;242;40m(\u001b[0m\u001b[38;2;248;248;242;40mBaseModel\u001b[0m\u001b[38;2;248;248;242;40m)\u001b[0m\u001b[38;2;248;248;242;40m:\u001b[0m\u001b[40m                                                                                             \u001b[0m\n\u001b[38;2;248;248;242;40m    \u001b[0m\u001b[38;2;248;248;242;40mid\u001b[0m\u001b[38;2;248;248;242;40m:\u001b[0m\u001b[38;2;248;248;242;40m \u001b[0m\u001b[38;2;248;248;242;40mconint\u001b[0m\u001b[38;2;248;248;242;40m(\u001b[0m\u001b[38;2;248;248;242;40mge\u001b[0m\u001b[38;2;255;70;137;40m=\u001b[0m\u001b[38;2;174;129;255;40m0\u001b[0m\u001b[38;2;248;248;242;40m)\u001b[0m\u001b[38;2;248;248;242;40m  \u001b[0m\u001b[38;2;149;144;119;40m# id must be a non-negative integer\u001b[0m\u001b[40m                                                          \u001b[0m\n\u001b[38;2;248;248;242;40m    \u001b[0m\u001b[38;2;248;248;242;40mname\u001b[0m\u001b[38;2;248;248;242;40m:\u001b[0m\u001b[38;2;248;248;242;40m \u001b[0m\u001b[38;2;248;248;242;40mstr\u001b[0m\u001b[40m                                                                                                      \u001b[0m\n\u001b[38;2;248;248;242;40m    \u001b[0m\u001b[38;2;248;248;242;40memail\u001b[0m\u001b[38;2;248;248;242;40m:\u001b[0m\u001b[38;2;248;248;242;40m \u001b[0m\u001b[38;2;248;248;242;40mEmailStr\u001b[0m\u001b[38;2;248;248;242;40m  \u001b[0m\u001b[38;2;149;144;119;40m# email must be a valid email address\u001b[0m\u001b[40m                                                         \u001b[0m\n\u001b[38;2;248;248;242;40m    \u001b[0m\u001b[38;2;248;248;242;40mage\u001b[0m\u001b[38;2;248;248;242;40m:\u001b[0m\u001b[38;2;248;248;242;40m \u001b[0m\u001b[38;2;248;248;242;40mconint\u001b[0m\u001b[38;2;248;248;242;40m(\u001b[0m\u001b[38;2;248;248;242;40mge\u001b[0m\u001b[38;2;255;70;137;40m=\u001b[0m\u001b[38;2;174;129;255;40m18\u001b[0m\u001b[38;2;248;248;242;40m)\u001b[0m\u001b[38;2;248;248;242;40m  \u001b[0m\u001b[38;2;149;144;119;40m# age must be an integer greater than or equal to 18\u001b[0m\u001b[40m                                       \u001b[0m\n\u001b[40m                                                                                                                   \u001b[0m\n\u001b[38;2;149;144;119;40m# Example input data\u001b[0m\u001b[40m                                                                                               \u001b[0m\n\u001b[38;2;248;248;242;40mdata\u001b[0m\u001b[38;2;248;248;242;40m \u001b[0m\u001b[38;2;255;70;137;40m=\u001b[0m\u001b[38;2;248;248;242;40m \u001b[0m\u001b[38;2;248;248;242;40m{\u001b[0m\u001b[40m                                                                                                           \u001b[0m\n\u001b[38;2;248;248;242;40m    \u001b[0m\u001b[38;2;230;219;116;40m\"\u001b[0m\u001b[38;2;230;219;116;40mid\u001b[0m\u001b[38;2;230;219;116;40m\"\u001b[0m\u001b[38;2;248;248;242;40m:\u001b[0m\u001b[38;2;248;248;242;40m \u001b[0m\u001b[38;2;174;129;255;40m1\u001b[0m\u001b[38;2;248;248;242;40m,\u001b[0m\u001b[40m                                                                                                       \u001b[0m\n\u001b[38;2;248;248;242;40m    \u001b[0m\u001b[38;2;230;219;116;40m\"\u001b[0m\u001b[38;2;230;219;116;40mname\u001b[0m\u001b[38;2;230;219;116;40m\"\u001b[0m\u001b[38;2;248;248;242;40m:\u001b[0m\u001b[38;2;248;248;242;40m \u001b[0m\u001b[38;2;230;219;116;40m\"\u001b[0m\u001b[38;2;230;219;116;40mAlice\u001b[0m\u001b[38;2;230;219;116;40m\"\u001b[0m\u001b[38;2;248;248;242;40m,\u001b[0m\u001b[40m                                                                                               \u001b[0m\n\u001b[38;2;248;248;242;40m    \u001b[0m\u001b[38;2;230;219;116;40m\"\u001b[0m\u001b[38;2;230;219;116;40memail\u001b[0m\u001b[38;2;230;219;116;40m\"\u001b[0m\u001b[38;2;248;248;242;40m:\u001b[0m\u001b[38;2;248;248;242;40m \u001b[0m\u001b[38;2;230;219;116;40m\"\u001b[0m\u001b[38;2;230;219;116;40malice@example.com\u001b[0m\u001b[38;2;230;219;116;40m\"\u001b[0m\u001b[38;2;248;248;242;40m,\u001b[0m\u001b[40m                                                                                  \u001b[0m\n\u001b[38;2;248;248;242;40m    \u001b[0m\u001b[38;2;230;219;116;40m\"\u001b[0m\u001b[38;2;230;219;116;40mage\u001b[0m\u001b[38;2;230;219;116;40m\"\u001b[0m\u001b[38;2;248;248;242;40m:\u001b[0m\u001b[38;2;248;248;242;40m \u001b[0m\u001b[38;2;174;129;255;40m25\u001b[0m\u001b[40m                                                                                                      \u001b[0m\n\u001b[38;2;248;248;242;40m}\u001b[0m\u001b[40m                                                                                                                  \u001b[0m\n\u001b[40m                                                                                                                   \u001b[0m\n\u001b[38;2;149;144;119;40m# Create a User instance\u001b[0m\u001b[40m                                                                                           \u001b[0m\n\u001b[38;2;248;248;242;40muser\u001b[0m\u001b[38;2;248;248;242;40m \u001b[0m\u001b[38;2;255;70;137;40m=\u001b[0m\u001b[38;2;248;248;242;40m \u001b[0m\u001b[38;2;248;248;242;40mUser\u001b[0m\u001b[38;2;248;248;242;40m(\u001b[0m\u001b[38;2;255;70;137;40m*\u001b[0m\u001b[38;2;255;70;137;40m*\u001b[0m\u001b[38;2;248;248;242;40mdata\u001b[0m\u001b[38;2;248;248;242;40m)\u001b[0m\u001b[40m                                                                                                \u001b[0m\n\u001b[40m                                                                                                                   \u001b[0m\n\u001b[38;2;149;144;119;40m# Accessing the validated data\u001b[0m\u001b[40m                                                                                     \u001b[0m\n\u001b[38;2;248;248;242;40mprint\u001b[0m\u001b[38;2;248;248;242;40m(\u001b[0m\u001b[38;2;248;248;242;40muser\u001b[0m\u001b[38;2;248;248;242;40m)\u001b[0m\u001b[40m                                                                                                        \u001b[0m\n\u001b[38;2;248;248;242;40mprint\u001b[0m\u001b[38;2;248;248;242;40m(\u001b[0m\u001b[38;2;248;248;242;40muser\u001b[0m\u001b[38;2;255;70;137;40m.\u001b[0m\u001b[38;2;248;248;242;40mname\u001b[0m\u001b[38;2;248;248;242;40m)\u001b[0m\u001b[38;2;248;248;242;40m  \u001b[0m\u001b[38;2;149;144;119;40m# Output: Alice\u001b[0m\u001b[40m                                                                                  \u001b[0m\n\u001b[38;2;248;248;242;40mprint\u001b[0m\u001b[38;2;248;248;242;40m(\u001b[0m\u001b[38;2;248;248;242;40muser\u001b[0m\u001b[38;2;255;70;137;40m.\u001b[0m\u001b[38;2;248;248;242;40memail\u001b[0m\u001b[38;2;248;248;242;40m)\u001b[0m\u001b[38;2;248;248;242;40m  \u001b[0m\u001b[38;2;149;144;119;40m# Output: alice@example.com\u001b[0m\u001b[40m                                                                     \u001b[0m\n\u001b[40m                                                                                                                   \u001b[0m\n\u001b[38;2;149;144;119;40m# Uncommenting the following line will raise a validation error\u001b[0m\u001b[40m                                                    \u001b[0m\n\u001b[38;2;149;144;119;40m# invalid_user = User(id=-1, name=\"Bob\", email=\"bob@example.com\", age=17)\u001b[0m\u001b[40m                                          \u001b[0m\n\u001b[2m/python\u001b[0m\n\nIn this example, we define a \u001b[1;36;40mUser\u001b[0m class that inherits from \u001b[1;36;40mBaseModel\u001b[0m. The class specifies various fields with their\nexpected types and validation conditions. When we create an instance of \u001b[1;36;40mUser\u001b[0m with the given data, Pydantic         \nautomatically validates the input. If any of the constraints are violated (e.g.,                                   \n",
                  "text/html": "<pre style=\"white-space:pre;overflow-x:auto;line-height:normal;font-family:Menlo,'DejaVu Sans Mono',consolas,'Courier New',monospace\">Certainly! Pydantic is a data validation and settings management library for Python that utilizes Python type      \nannotations. It is particularly useful for validating complex data structures, such as those encountered in        \nconfigurations, API responses, or forms.                                                                           \n\nHere's a simple example demonstrating how to define a data model using Pydantic and validate input data:           \n\n<span style=\"color: #7f7f7f; text-decoration-color: #7f7f7f\">python</span>\n<span style=\"color: #ff4689; text-decoration-color: #ff4689; background-color: #000000\">from</span><span style=\"color: #f8f8f2; text-decoration-color: #f8f8f2; background-color: #000000\"> pydantic </span><span style=\"color: #ff4689; text-decoration-color: #ff4689; background-color: #000000\">import</span><span style=\"color: #f8f8f2; text-decoration-color: #f8f8f2; background-color: #000000\"> BaseModel, EmailStr, conint</span><span style=\"background-color: #000000\">                                                                   </span>\n<span style=\"background-color: #000000\">                                                                                                                   </span>\n<span style=\"color: #959077; text-decoration-color: #959077; background-color: #000000\"># Define a Pydantic model</span><span style=\"background-color: #000000\">                                                                                          </span>\n<span style=\"color: #66d9ef; text-decoration-color: #66d9ef; background-color: #000000\">class</span><span style=\"color: #f8f8f2; text-decoration-color: #f8f8f2; background-color: #000000\"> </span><span style=\"color: #a6e22e; text-decoration-color: #a6e22e; background-color: #000000\">User</span><span style=\"color: #f8f8f2; text-decoration-color: #f8f8f2; background-color: #000000\">(BaseModel):</span><span style=\"background-color: #000000\">                                                                                             </span>\n<span style=\"color: #f8f8f2; text-decoration-color: #f8f8f2; background-color: #000000\">    id: conint(ge</span><span style=\"color: #ff4689; text-decoration-color: #ff4689; background-color: #000000\">=</span><span style=\"color: #ae81ff; text-decoration-color: #ae81ff; background-color: #000000\">0</span><span style=\"color: #f8f8f2; text-decoration-color: #f8f8f2; background-color: #000000\">)  </span><span style=\"color: #959077; text-decoration-color: #959077; background-color: #000000\"># id must be a non-negative integer</span><span style=\"background-color: #000000\">                                                          </span>\n<span style=\"color: #f8f8f2; text-decoration-color: #f8f8f2; background-color: #000000\">    name: str</span><span style=\"background-color: #000000\">                                                                                                      </span>\n<span style=\"color: #f8f8f2; text-decoration-color: #f8f8f2; background-color: #000000\">    email: EmailStr  </span><span style=\"color: #959077; text-decoration-color: #959077; background-color: #000000\"># email must be a valid email address</span><span style=\"background-color: #000000\">                                                         </span>\n<span style=\"color: #f8f8f2; text-decoration-color: #f8f8f2; background-color: #000000\">    age: conint(ge</span><span style=\"color: #ff4689; text-decoration-color: #ff4689; background-color: #000000\">=</span><span style=\"color: #ae81ff; text-decoration-color: #ae81ff; background-color: #000000\">18</span><span style=\"color: #f8f8f2; text-decoration-color: #f8f8f2; background-color: #000000\">)  </span><span style=\"color: #959077; text-decoration-color: #959077; background-color: #000000\"># age must be an integer greater than or equal to 18</span><span style=\"background-color: #000000\">                                       </span>\n<span style=\"background-color: #000000\">                                                                                                                   </span>\n<span style=\"color: #959077; text-decoration-color: #959077; background-color: #000000\"># Example input data</span><span style=\"background-color: #000000\">                                                                                               </span>\n<span style=\"color: #f8f8f2; text-decoration-color: #f8f8f2; background-color: #000000\">data </span><span style=\"color: #ff4689; text-decoration-color: #ff4689; background-color: #000000\">=</span><span style=\"color: #f8f8f2; text-decoration-color: #f8f8f2; background-color: #000000\"> {</span><span style=\"background-color: #000000\">                                                                                                           </span>\n<span style=\"color: #f8f8f2; text-decoration-color: #f8f8f2; background-color: #000000\">    </span><span style=\"color: #e6db74; text-decoration-color: #e6db74; background-color: #000000\">\"id\"</span><span style=\"color: #f8f8f2; text-decoration-color: #f8f8f2; background-color: #000000\">: </span><span style=\"color: #ae81ff; text-decoration-color: #ae81ff; background-color: #000000\">1</span><span style=\"color: #f8f8f2; text-decoration-color: #f8f8f2; background-color: #000000\">,</span><span style=\"background-color: #000000\">                                                                                                       </span>\n<span style=\"color: #f8f8f2; text-decoration-color: #f8f8f2; background-color: #000000\">    </span><span style=\"color: #e6db74; text-decoration-color: #e6db74; background-color: #000000\">\"name\"</span><span style=\"color: #f8f8f2; text-decoration-color: #f8f8f2; background-color: #000000\">: </span><span style=\"color: #e6db74; text-decoration-color: #e6db74; background-color: #000000\">\"Alice\"</span><span style=\"color: #f8f8f2; text-decoration-color: #f8f8f2; background-color: #000000\">,</span><span style=\"background-color: #000000\">                                                                                               </span>\n<span style=\"color: #f8f8f2; text-decoration-color: #f8f8f2; background-color: #000000\">    </span><span style=\"color: #e6db74; text-decoration-color: #e6db74; background-color: #000000\">\"email\"</span><span style=\"color: #f8f8f2; text-decoration-color: #f8f8f2; background-color: #000000\">: </span><span style=\"color: #e6db74; text-decoration-color: #e6db74; background-color: #000000\">\"alice@example.com\"</span><span style=\"color: #f8f8f2; text-decoration-color: #f8f8f2; background-color: #000000\">,</span><span style=\"background-color: #000000\">                                                                                  </span>\n<span style=\"color: #f8f8f2; text-decoration-color: #f8f8f2; background-color: #000000\">    </span><span style=\"color: #e6db74; text-decoration-color: #e6db74; background-color: #000000\">\"age\"</span><span style=\"color: #f8f8f2; text-decoration-color: #f8f8f2; background-color: #000000\">: </span><span style=\"color: #ae81ff; text-decoration-color: #ae81ff; background-color: #000000\">25</span><span style=\"background-color: #000000\">                                                                                                      </span>\n<span style=\"color: #f8f8f2; text-decoration-color: #f8f8f2; background-color: #000000\">}</span><span style=\"background-color: #000000\">                                                                                                                  </span>\n<span style=\"background-color: #000000\">                                                                                                                   </span>\n<span style=\"color: #959077; text-decoration-color: #959077; background-color: #000000\"># Create a User instance</span><span style=\"background-color: #000000\">                                                                                           </span>\n<span style=\"color: #f8f8f2; text-decoration-color: #f8f8f2; background-color: #000000\">user </span><span style=\"color: #ff4689; text-decoration-color: #ff4689; background-color: #000000\">=</span><span style=\"color: #f8f8f2; text-decoration-color: #f8f8f2; background-color: #000000\"> User(</span><span style=\"color: #ff4689; text-decoration-color: #ff4689; background-color: #000000\">**</span><span style=\"color: #f8f8f2; text-decoration-color: #f8f8f2; background-color: #000000\">data)</span><span style=\"background-color: #000000\">                                                                                                </span>\n<span style=\"background-color: #000000\">                                                                                                                   </span>\n<span style=\"color: #959077; text-decoration-color: #959077; background-color: #000000\"># Accessing the validated data</span><span style=\"background-color: #000000\">                                                                                     </span>\n<span style=\"color: #f8f8f2; text-decoration-color: #f8f8f2; background-color: #000000\">print(user)</span><span style=\"background-color: #000000\">                                                                                                        </span>\n<span style=\"color: #f8f8f2; text-decoration-color: #f8f8f2; background-color: #000000\">print(user</span><span style=\"color: #ff4689; text-decoration-color: #ff4689; background-color: #000000\">.</span><span style=\"color: #f8f8f2; text-decoration-color: #f8f8f2; background-color: #000000\">name)  </span><span style=\"color: #959077; text-decoration-color: #959077; background-color: #000000\"># Output: Alice</span><span style=\"background-color: #000000\">                                                                                  </span>\n<span style=\"color: #f8f8f2; text-decoration-color: #f8f8f2; background-color: #000000\">print(user</span><span style=\"color: #ff4689; text-decoration-color: #ff4689; background-color: #000000\">.</span><span style=\"color: #f8f8f2; text-decoration-color: #f8f8f2; background-color: #000000\">email)  </span><span style=\"color: #959077; text-decoration-color: #959077; background-color: #000000\"># Output: alice@example.com</span><span style=\"background-color: #000000\">                                                                     </span>\n<span style=\"background-color: #000000\">                                                                                                                   </span>\n<span style=\"color: #959077; text-decoration-color: #959077; background-color: #000000\"># Uncommenting the following line will raise a validation error</span><span style=\"background-color: #000000\">                                                    </span>\n<span style=\"color: #959077; text-decoration-color: #959077; background-color: #000000\"># invalid_user = User(id=-1, name=\"Bob\", email=\"bob@example.com\", age=17)</span><span style=\"background-color: #000000\">                                          </span>\n<span style=\"color: #7f7f7f; text-decoration-color: #7f7f7f\">/python</span>\n\nIn this example, we define a <span style=\"color: #008080; text-decoration-color: #008080; background-color: #000000; font-weight: bold\">User</span> class that inherits from <span style=\"color: #008080; text-decoration-color: #008080; background-color: #000000; font-weight: bold\">BaseModel</span>. The class specifies various fields with their\nexpected types and validation conditions. When we create an instance of <span style=\"color: #008080; text-decoration-color: #008080; background-color: #000000; font-weight: bold\">User</span> with the given data, Pydantic         \nautomatically validates the input. If any of the constraints are violated (e.g.,                                   \n</pre>\n"
                },
                "metadata": {}
              }
            ]
          }
        },
        "a398fc2e52c3454fa62275335a742f7c": {
          "model_module": "@jupyter-widgets/base",
          "model_name": "LayoutModel",
          "model_module_version": "1.2.0",
          "state": {
            "_model_module": "@jupyter-widgets/base",
            "_model_module_version": "1.2.0",
            "_model_name": "LayoutModel",
            "_view_count": null,
            "_view_module": "@jupyter-widgets/base",
            "_view_module_version": "1.2.0",
            "_view_name": "LayoutView",
            "align_content": null,
            "align_items": null,
            "align_self": null,
            "border": null,
            "bottom": null,
            "display": null,
            "flex": null,
            "flex_flow": null,
            "grid_area": null,
            "grid_auto_columns": null,
            "grid_auto_flow": null,
            "grid_auto_rows": null,
            "grid_column": null,
            "grid_gap": null,
            "grid_row": null,
            "grid_template_areas": null,
            "grid_template_columns": null,
            "grid_template_rows": null,
            "height": null,
            "justify_content": null,
            "justify_items": null,
            "left": null,
            "margin": null,
            "max_height": null,
            "max_width": null,
            "min_height": null,
            "min_width": null,
            "object_fit": null,
            "object_position": null,
            "order": null,
            "overflow": null,
            "overflow_x": null,
            "overflow_y": null,
            "padding": null,
            "right": null,
            "top": null,
            "visibility": null,
            "width": null
          }
        },
        "7bd9e078fe824979b0ac9b930ec77ddd": {
          "model_module": "@jupyter-widgets/output",
          "model_name": "OutputModel",
          "model_module_version": "1.0.0",
          "state": {
            "_dom_classes": [],
            "_model_module": "@jupyter-widgets/output",
            "_model_module_version": "1.0.0",
            "_model_name": "OutputModel",
            "_view_count": null,
            "_view_module": "@jupyter-widgets/output",
            "_view_module_version": "1.0.0",
            "_view_name": "OutputView",
            "layout": "IPY_MODEL_67b778d4848f4586bce0dfdcbd061345",
            "msg_id": "",
            "outputs": [
              {
                "output_type": "display_data",
                "data": {
                  "text/plain": "┏━━━━━━━━━━━━━━━━━━━━━━━━━━━━━━━━━━━━━━━━━━━━━━━━━━━━━━━━━━━━━━━━━━━━━━━━━━━━━━━━━━━━━━━━━━━━━━━━━━━━━━━━━━━━━━━━━┓\n┃                              \u001b[1mUsing Pydantic for Data Validation and Serialization\u001b[0m                               ┃\n┗━━━━━━━━━━━━━━━━━━━━━━━━━━━━━━━━━━━━━━━━━━━━━━━━━━━━━━━━━━━━━━━━━━━━━━━━━━━━━━━━━━━━━━━━━━━━━━━━━━━━━━━━━━━━━━━━━┛\n\nPydantic is a Python library that provides runtime data validation and serialization. Here's a simple example of   \nhow to use it:                                                                                                     \n\n                                                 \u001b[1mInstall Pydantic\u001b[0m                                                  \n\nBefore you start, make sure you have Pydantic installed. You can install it using pip:                             \n\n\u001b[2mbash\u001b[0m\n\u001b[38;2;248;248;242;40mpip\u001b[0m\u001b[38;2;248;248;242;40m \u001b[0m\u001b[38;2;248;248;242;40minstall\u001b[0m\u001b[38;2;248;248;242;40m \u001b[0m\u001b[38;2;248;248;242;40mpydantic\u001b[0m\u001b[40m                                                                                               \u001b[0m\n\u001b[2m/bash\u001b[0m\n\n                                              \u001b[1mDefine a Pydantic Model\u001b[0m                                              \n\n\u001b[2mpython\u001b[0m\n\u001b[38;2;255;70;137;40mfrom\u001b[0m\u001b[38;2;248;248;242;40m \u001b[0m\u001b[38;2;248;248;242;40mpydantic\u001b[0m\u001b[38;2;248;248;242;40m \u001b[0m\u001b[38;2;255;70;137;40mimport\u001b[0m\u001b[38;2;248;248;242;40m \u001b[0m\u001b[38;2;248;248;242;40mBaseModel\u001b[0m\u001b[40m                                                                                     \u001b[0m\n\u001b[40m                                                                                                                   \u001b[0m\n\u001b[38;2;102;217;239;40mclass\u001b[0m\u001b[38;2;248;248;242;40m \u001b[0m\u001b[38;2;166;226;46;40mUser\u001b[0m\u001b[38;2;248;248;242;40m(\u001b[0m\u001b[38;2;248;248;242;40mBaseModel\u001b[0m\u001b[38;2;248;248;242;40m)\u001b[0m\u001b[38;2;248;248;242;40m:\u001b[0m\u001b[40m                                                                                             \u001b[0m\n\u001b[38;2;248;248;242;40m    \u001b[0m\u001b[38;2;248;248;242;40mid\u001b[0m\u001b[38;2;248;248;242;40m:\u001b[0m\u001b[38;2;248;248;242;40m \u001b[0m\u001b[38;2;248;248;242;40mint\u001b[0m\u001b[40m                                                                                                        \u001b[0m\n\u001b[38;2;248;248;242;40m    \u001b[0m\u001b[38;2;248;248;242;40mname\u001b[0m\u001b[38;2;248;248;242;40m:\u001b[0m\u001b[38;2;248;248;242;40m \u001b[0m\u001b[38;2;248;248;242;40mstr\u001b[0m\u001b[40m                                                                                                      \u001b[0m\n\u001b[38;2;248;248;242;40m    \u001b[0m\u001b[38;2;248;248;242;40memail\u001b[0m\u001b[38;2;248;248;242;40m:\u001b[0m\u001b[38;2;248;248;242;40m \u001b[0m\u001b[38;2;248;248;242;40mstr\u001b[0m\u001b[40m                                                                                                     \u001b[0m\n\u001b[40m                                                                                                                   \u001b[0m\n\u001b[38;2;248;248;242;40m    \u001b[0m\u001b[38;2;102;217;239;40mclass\u001b[0m\u001b[38;2;248;248;242;40m \u001b[0m\u001b[38;2;166;226;46;40mConfig\u001b[0m\u001b[38;2;248;248;242;40m:\u001b[0m\u001b[40m                                                                                                  \u001b[0m\n\u001b[38;2;248;248;242;40m        \u001b[0m\u001b[38;2;248;248;242;40mschema_extra\u001b[0m\u001b[38;2;248;248;242;40m \u001b[0m\u001b[38;2;255;70;137;40m=\u001b[0m\u001b[38;2;248;248;242;40m \u001b[0m\u001b[38;2;248;248;242;40m{\u001b[0m\u001b[40m                                                                                           \u001b[0m\n\u001b[38;2;248;248;242;40m            \u001b[0m\u001b[38;2;230;219;116;40m\"\u001b[0m\u001b[38;2;230;219;116;40mexample\u001b[0m\u001b[38;2;230;219;116;40m\"\u001b[0m\u001b[38;2;248;248;242;40m:\u001b[0m\u001b[38;2;248;248;242;40m \u001b[0m\u001b[38;2;248;248;242;40m{\u001b[0m\u001b[40m                                                                                           \u001b[0m\n\u001b[38;2;248;248;242;40m                \u001b[0m\u001b[38;2;230;219;116;40m\"\u001b[0m\u001b[38;2;230;219;116;40mid\u001b[0m\u001b[38;2;230;219;116;40m\"\u001b[0m\u001b[38;2;248;248;242;40m:\u001b[0m\u001b[38;2;248;248;242;40m \u001b[0m\u001b[38;2;174;129;255;40m1\u001b[0m\u001b[38;2;248;248;242;40m,\u001b[0m\u001b[40m                                                                                           \u001b[0m\n\u001b[38;2;248;248;242;40m                \u001b[0m\u001b[38;2;230;219;116;40m\"\u001b[0m\u001b[38;2;230;219;116;40mname\u001b[0m\u001b[38;2;230;219;116;40m\"\u001b[0m\u001b[38;2;248;248;242;40m:\u001b[0m\u001b[38;2;248;248;242;40m \u001b[0m\u001b[38;2;230;219;116;40m\"\u001b[0m\u001b[38;2;230;219;116;40mJohn Doe\u001b[0m\u001b[38;2;230;219;116;40m\"\u001b[0m\u001b[38;2;248;248;242;40m,\u001b[0m\u001b[40m                                                                                \u001b[0m\n\u001b[38;2;248;248;242;40m                \u001b[0m\u001b[38;2;230;219;116;40m\"\u001b[0m\u001b[38;2;230;219;116;40memail\u001b[0m\u001b[38;2;230;219;116;40m\"\u001b[0m\u001b[38;2;248;248;242;40m:\u001b[0m\u001b[38;2;248;248;242;40m \u001b[0m\u001b[38;2;230;219;116;40m\"\u001b[0m\u001b[38;2;230;219;116;40mjohn@example.com\u001b[0m\u001b[38;2;230;219;116;40m\"\u001b[0m\u001b[40m                                                                        \u001b[0m\n\u001b[38;2;248;248;242;40m            \u001b[0m\u001b[38;2;248;248;242;40m}\u001b[0m\u001b[40m                                                                                                      \u001b[0m\n\u001b[38;2;248;248;242;40m        \u001b[0m\u001b[38;2;248;248;242;40m}\u001b[0m\u001b[40m                                                                                                          \u001b[0m\n\u001b[2m/python\u001b[0m\n\nIn this example, we define a \u001b[1;36;40mUser\u001b[0m model with three fields: \u001b[1;36;40mid\u001b[0m, \u001b[1;36;40mname\u001b[0m, and \u001b[1;36;40memail\u001b[0m. The \u001b[1;36;40mBaseModel\u001b[0m class from Pydantic  \nprovides the basic functionality for data validation and serialization.                                            \n\n                                              \u001b[1mCreate a User Instance\u001b[0m                                               \n\n\u001b[2mpython\u001b[0m\n\u001b[38;2;248;248;242;40muser\u001b[0m\u001b[38;2;248;248;242;40m \u001b[0m\u001b[38;2;255;70;137;40m=\u001b[0m\u001b[38;2;248;248;242;40m \u001b[0m\u001b[38;2;248;248;242;40mUser\u001b[0m\u001b[38;2;248;248;242;40m(\u001b[0m\u001b[38;2;248;248;242;40mid\u001b[0m\u001b[38;2;255;70;137;40m=\u001b[0m\u001b[38;2;174;129;255;40m1\u001b[0m\u001b[38;2;248;248;242;40m,\u001b[0m\u001b[38;2;248;248;242;40m \u001b[0m\u001b[38;2;248;248;242;40mname\u001b[0m\u001b[38;2;255;70;137;40m=\u001b[0m\u001b[38;2;230;219;116;40m\"\u001b[0m\u001b[38;2;230;219;116;40mJohn Doe\u001b[0m\u001b[38;2;230;219;116;40m\"\u001b[0m\u001b[38;2;248;248;242;40m,\u001b[0m\u001b[38;2;248;248;242;40m \u001b[0m\u001b[38;2;248;248;242;40memail\u001b[0m\u001b[38;2;255;70;137;40m=\u001b[0m\u001b[38;2;230;219;116;40m\"\u001b[0m\u001b[38;2;230;219;116;40mjohn@example.com\u001b[0m\u001b[38;2;230;219;116;40m\"\u001b[0m\u001b[38;2;248;248;242;40m)\u001b[0m\u001b[40m                                                       \u001b[0m\n\u001b[38;2;248;248;242;40mprint\u001b[0m\u001b[38;2;248;248;242;40m(\u001b[0m\u001b[38;2;248;248;242;40muser\u001b[0m\u001b[38;2;248;248;242;40m)\u001b[0m\u001b[40m                                                                                                        \u001b[0m\n\u001b[2m/python\u001b[0m\n\nOutput:                                                                                                            \n\n\u001b[2mjson\u001b[0m\n\u001b[38;2;237;0;126;40mi\u001b[0m\u001b[38;2;237;0;126;40md\u001b[0m\u001b[38;2;237;0;126;40m=\u001b[0m\u001b[38;2;174;129;255;40m1\u001b[0m\u001b[38;2;248;248;242;40m \u001b[0m\u001b[38;2;102;217;239;40mna\u001b[0m\u001b[38;2;237;0;126;40mm\u001b[0m\u001b[38;2;237;0;126;40me\u001b[0m\u001b[38;2;237;0;126;40m=\u001b[0m\u001b[38;2;237;0;126;40m'\u001b[0m\u001b[38;2;237;0;126;40mJ\u001b[0m\u001b[38;2;237;0;126;40mo\u001b[0m\u001b[38;2;237;0;126;40mh\u001b[0m\u001b[38;2;102;217;239;40mn\u001b[0m\u001b[38;2;248;248;242;40m \u001b[0m\u001b[38;2;237;0;126;40mD\u001b[0m\u001b[38;2;237;0;126;40mo\u001b[0m\u001b[38;2;237;0;126;40me\u001b[0m\u001b[38;2;237;0;126;40m'\u001b[0m\u001b[38;2;248;248;242;40m \u001b[0m\u001b[38;2;237;0;126;40me\u001b[0m\u001b[38;2;237;0;126;40mm\u001b[0m\u001b[38;2;237;0;126;40ma\u001b[0m\u001b[38;2;237;0;126;40mi\u001b[0m\u001b[38;2;237;0;126;40ml\u001b[0m\u001b[38;2;237;0;126;40m=\u001b[0m\u001b[38;2;237;0;126;40m'\u001b[0m\u001b[38;2;237;0;126;40mj\u001b[0m\u001b[38;2;237;0;126;40mo\u001b[0m\u001b[38;2;237;0;126;40mh\u001b[0m\u001b[38;2;102;217;239;40mn\u001b[0m\u001b[38;2;237;0;126;40m@\u001b[0m\u001b[38;2;237;0;126;40me\u001b[0m\u001b[38;2;237;0;126;40mx\u001b[0m\u001b[38;2;237;0;126;40ma\u001b[0m\u001b[38;2;237;0;126;40mm\u001b[0m\u001b[38;2;237;0;126;40mp\u001b[0m\u001b[38;2;237;0;126;40ml\u001b[0m\u001b[38;2;237;0;126;40me\u001b[0m\u001b[38;2;237;0;126;40m.\u001b[0m\u001b[38;2;237;0;126;40mc\u001b[0m\u001b[38;2;237;0;126;40mo\u001b[0m\u001b[38;2;237;0;126;40mm\u001b[0m\u001b[38;2;237;0;126;40m'\u001b[0m\u001b[40m                                                                      \u001b[0m\n\u001b[2m/json\u001b[0m\n\n                                                \u001b[1mValidate User Data\u001b[0m                                                 \n\nPydantic automatically validates the data when you create a new instance of the model. If the data is invalid, it  \nraises a \u001b[1;36;40mValidationError\u001b[0m.                                                                                          \n\n\u001b[2mpython\u001b[0m\n\u001b[38;2;102;217;239;40mtry\u001b[0m\u001b[38;2;248;248;242;40m:\u001b[0m\u001b[40m                                                                                                               \u001b[0m\n\u001b[38;2;248;248;242;40m    \u001b[0m\u001b[38;2;248;248;242;40minvalid_user\u001b[0m\u001b[38;2;248;248;242;40m \u001b[0m\u001b[38;2;255;70;137;40m=\u001b[0m\u001b[38;2;248;248;242;40m \u001b[0m\u001b[38;2;248;248;242;40mUser\u001b[0m\u001b[38;2;248;248;242;40m(\u001b[0m\u001b[38;2;248;248;242;40mid\u001b[0m\u001b[38;2;255;70;137;40m=\u001b[0m\u001b[38;2;230;219;116;40m\"\u001b[0m\u001b[38;2;230;219;116;40mabc\u001b[0m\u001b[38;2;230;219;116;40m\"\u001b[0m\u001b[38;2;248;248;242;40m,\u001b[0m\u001b[38;2;248;248;242;40m \u001b[0m\u001b[38;2;248;248;242;40mname\u001b[0m\u001b[38;2;255;70;137;40m=\u001b[0m\u001b[38;2;230;219;116;40m\"\u001b[0m\u001b[38;2;230;219;116;40mJohn Doe\u001b[0m\u001b[38;2;230;219;116;40m\"\u001b[0m\u001b[38;2;248;248;242;40m,\u001b[0m\u001b[38;2;248;248;242;40m \u001b[0m\u001b[38;2;248;248;242;40memail\u001b[0m\u001b[38;2;255;70;137;40m=\u001b[0m\u001b[38;2;230;219;116;40m\"\u001b[0m\u001b[38;2;230;219;116;40mjohn@example.com\u001b[0m\u001b[38;2;230;219;116;40m\"\u001b[0m\u001b[38;2;248;248;242;40m)\u001b[0m\u001b[40m                                       \u001b[0m\n\u001b[38;2;102;217;239;40mexcept\u001b[0m\u001b[38;2;248;248;242;40m \u001b[0m\u001b[38;2;166;226;46;40mException\u001b[0m\u001b[38;2;248;248;242;40m \u001b[0m\u001b[38;2;102;217;239;40mas\u001b[0m\u001b[38;2;248;248;242;40m \u001b[0m\u001b[38;2;248;248;242;40me\u001b[0m\u001b[38;2;248;248;242;40m:\u001b[0m\u001b[40m                                                                                             \u001b[0m\n\u001b[38;2;248;248;242;40m    \u001b[0m\u001b[38;2;248;248;242;40mprint\u001b[0m\u001b[38;2;248;248;242;40m(\u001b[0m\u001b[38;2;248;248;242;40me\u001b[0m\u001b[38;2;248;248;242;40m)\u001b[0m\u001b[40m                                                                                                       \u001b[0m\n\u001b[2m/python\u001b[0m\n\nOutput:                                                                                                            \n\n\u001b[2mtext\u001b[0m\n\u001b[38;2;248;248;242;40m1 validation error for User\u001b[0m\u001b[40m                                                                                        \u001b[0m\n\u001b[38;2;248;248;242;40mid\u001b[0m\u001b[40m                                                                                                                 \u001b[0m\n\u001b[38;2;248;248;242;40m  value is not a valid integer (type=type_error.integer)\u001b[0m\u001b[40m                                                           \u001b[0m\n\u001b[2m/text\u001b[0m\n\n                                            \u001b[1mSerialize User Data to JSON\u001b[0m                                            \n\nPydantic models can be easily serialized to JSON using the \u001b[1;36;40mjson()\u001b[0m method.                                          \n\n\u001b[2mpython\u001b[0m\n\u001b[38;2;255;70;137;40mimport\u001b[0m\u001b[38;2;248;248;242;40m \u001b[0m\u001b[38;2;248;248;242;40mjson\u001b[0m\u001b[40m                                                                                                        \u001b[0m\n\u001b[40m                                                                                                                   \u001b[0m\n\u001b[38;2;248;248;242;40muser_json\u001b[0m\u001b[38;2;248;248;242;40m \u001b[0m\u001b[38;2;255;70;137;40m=\u001b[0m\u001b[38;2;248;248;242;40m \u001b[0m\u001b[38;2;248;248;242;40muser\u001b[0m\u001b[38;2;255;70;137;40m.\u001b[0m\u001b[38;2;248;248;242;40mjson\u001b[0m\u001b[38;2;248;248;242;40m(\u001b[0m\u001b[38;2;248;248;242;40m)\u001b[0m\u001b[40m                                                                                            \u001b[0m\n\u001b[38;2;248;248;242;40mprint\u001b[0m\u001b[38;2;248;248;242;40m(\u001b[0m\u001b[38;2;248;248;242;40muser_json\u001b[0m\u001b[38;2;248;248;242;40m)\u001b[0m\u001b[40m                                                                                                   \u001b[0m\n\u001b[2m/python\u001b[0m\n\nOutput:                                                                                                            \n\n\u001b[2mjson\u001b[0m\n\u001b[38;2;248;248;242;40m{\u001b[0m\u001b[38;2;255;70;137;40m\"id\"\u001b[0m\u001b[38;2;248;248;242;40m:\u001b[0m\u001b[38;2;248;248;242;40m \u001b[0m\u001b[38;2;174;129;255;40m1\u001b[0m\u001b[38;2;248;248;242;40m,\u001b[0m\u001b[38;2;248;248;242;40m \u001b[0m\u001b[38;2;255;70;137;40m\"name\"\u001b[0m\u001b[38;2;248;248;242;40m:\u001b[0m\u001b[38;2;248;248;242;40m \u001b[0m\u001b[38;2;230;219;116;40m\"John Doe\"\u001b[0m\u001b[38;2;248;248;242;40m,\u001b[0m\u001b[38;2;248;248;242;40m \u001b[0m\u001b[38;2;255;70;137;40m\"email\"\u001b[0m\u001b[38;2;248;248;242;40m:\u001b[0m\u001b[38;2;248;248;242;40m \u001b[0m\u001b[38;2;230;219;116;40m\"john@example.com\"\u001b[0m\u001b[38;2;248;248;242;40m}\u001b[0m\u001b[40m                                                         \u001b[0m\n\u001b[2m/json\u001b[0m\n\nThis is a basic example of how to use Pydantic for data validation and serialization. Pydantic provides many more  \nfeatures, such as support for nested models, custom validation, and more.                                          \n",
                  "text/html": "<pre style=\"white-space:pre;overflow-x:auto;line-height:normal;font-family:Menlo,'DejaVu Sans Mono',consolas,'Courier New',monospace\">┏━━━━━━━━━━━━━━━━━━━━━━━━━━━━━━━━━━━━━━━━━━━━━━━━━━━━━━━━━━━━━━━━━━━━━━━━━━━━━━━━━━━━━━━━━━━━━━━━━━━━━━━━━━━━━━━━━┓\n┃                              <span style=\"font-weight: bold\">Using Pydantic for Data Validation and Serialization</span>                               ┃\n┗━━━━━━━━━━━━━━━━━━━━━━━━━━━━━━━━━━━━━━━━━━━━━━━━━━━━━━━━━━━━━━━━━━━━━━━━━━━━━━━━━━━━━━━━━━━━━━━━━━━━━━━━━━━━━━━━━┛\n\nPydantic is a Python library that provides runtime data validation and serialization. Here's a simple example of   \nhow to use it:                                                                                                     \n\n                                                 <span style=\"font-weight: bold\">Install Pydantic</span>                                                  \n\nBefore you start, make sure you have Pydantic installed. You can install it using pip:                             \n\n<span style=\"color: #7f7f7f; text-decoration-color: #7f7f7f\">bash</span>\n<span style=\"color: #f8f8f2; text-decoration-color: #f8f8f2; background-color: #000000\">pip install pydantic</span><span style=\"background-color: #000000\">                                                                                               </span>\n<span style=\"color: #7f7f7f; text-decoration-color: #7f7f7f\">/bash</span>\n\n                                              <span style=\"font-weight: bold\">Define a Pydantic Model</span>                                              \n\n<span style=\"color: #7f7f7f; text-decoration-color: #7f7f7f\">python</span>\n<span style=\"color: #ff4689; text-decoration-color: #ff4689; background-color: #000000\">from</span><span style=\"color: #f8f8f2; text-decoration-color: #f8f8f2; background-color: #000000\"> pydantic </span><span style=\"color: #ff4689; text-decoration-color: #ff4689; background-color: #000000\">import</span><span style=\"color: #f8f8f2; text-decoration-color: #f8f8f2; background-color: #000000\"> BaseModel</span><span style=\"background-color: #000000\">                                                                                     </span>\n<span style=\"background-color: #000000\">                                                                                                                   </span>\n<span style=\"color: #66d9ef; text-decoration-color: #66d9ef; background-color: #000000\">class</span><span style=\"color: #f8f8f2; text-decoration-color: #f8f8f2; background-color: #000000\"> </span><span style=\"color: #a6e22e; text-decoration-color: #a6e22e; background-color: #000000\">User</span><span style=\"color: #f8f8f2; text-decoration-color: #f8f8f2; background-color: #000000\">(BaseModel):</span><span style=\"background-color: #000000\">                                                                                             </span>\n<span style=\"color: #f8f8f2; text-decoration-color: #f8f8f2; background-color: #000000\">    id: int</span><span style=\"background-color: #000000\">                                                                                                        </span>\n<span style=\"color: #f8f8f2; text-decoration-color: #f8f8f2; background-color: #000000\">    name: str</span><span style=\"background-color: #000000\">                                                                                                      </span>\n<span style=\"color: #f8f8f2; text-decoration-color: #f8f8f2; background-color: #000000\">    email: str</span><span style=\"background-color: #000000\">                                                                                                     </span>\n<span style=\"background-color: #000000\">                                                                                                                   </span>\n<span style=\"color: #f8f8f2; text-decoration-color: #f8f8f2; background-color: #000000\">    </span><span style=\"color: #66d9ef; text-decoration-color: #66d9ef; background-color: #000000\">class</span><span style=\"color: #f8f8f2; text-decoration-color: #f8f8f2; background-color: #000000\"> </span><span style=\"color: #a6e22e; text-decoration-color: #a6e22e; background-color: #000000\">Config</span><span style=\"color: #f8f8f2; text-decoration-color: #f8f8f2; background-color: #000000\">:</span><span style=\"background-color: #000000\">                                                                                                  </span>\n<span style=\"color: #f8f8f2; text-decoration-color: #f8f8f2; background-color: #000000\">        schema_extra </span><span style=\"color: #ff4689; text-decoration-color: #ff4689; background-color: #000000\">=</span><span style=\"color: #f8f8f2; text-decoration-color: #f8f8f2; background-color: #000000\"> {</span><span style=\"background-color: #000000\">                                                                                           </span>\n<span style=\"color: #f8f8f2; text-decoration-color: #f8f8f2; background-color: #000000\">            </span><span style=\"color: #e6db74; text-decoration-color: #e6db74; background-color: #000000\">\"example\"</span><span style=\"color: #f8f8f2; text-decoration-color: #f8f8f2; background-color: #000000\">: {</span><span style=\"background-color: #000000\">                                                                                           </span>\n<span style=\"color: #f8f8f2; text-decoration-color: #f8f8f2; background-color: #000000\">                </span><span style=\"color: #e6db74; text-decoration-color: #e6db74; background-color: #000000\">\"id\"</span><span style=\"color: #f8f8f2; text-decoration-color: #f8f8f2; background-color: #000000\">: </span><span style=\"color: #ae81ff; text-decoration-color: #ae81ff; background-color: #000000\">1</span><span style=\"color: #f8f8f2; text-decoration-color: #f8f8f2; background-color: #000000\">,</span><span style=\"background-color: #000000\">                                                                                           </span>\n<span style=\"color: #f8f8f2; text-decoration-color: #f8f8f2; background-color: #000000\">                </span><span style=\"color: #e6db74; text-decoration-color: #e6db74; background-color: #000000\">\"name\"</span><span style=\"color: #f8f8f2; text-decoration-color: #f8f8f2; background-color: #000000\">: </span><span style=\"color: #e6db74; text-decoration-color: #e6db74; background-color: #000000\">\"John Doe\"</span><span style=\"color: #f8f8f2; text-decoration-color: #f8f8f2; background-color: #000000\">,</span><span style=\"background-color: #000000\">                                                                                </span>\n<span style=\"color: #f8f8f2; text-decoration-color: #f8f8f2; background-color: #000000\">                </span><span style=\"color: #e6db74; text-decoration-color: #e6db74; background-color: #000000\">\"email\"</span><span style=\"color: #f8f8f2; text-decoration-color: #f8f8f2; background-color: #000000\">: </span><span style=\"color: #e6db74; text-decoration-color: #e6db74; background-color: #000000\">\"john@example.com\"</span><span style=\"background-color: #000000\">                                                                        </span>\n<span style=\"color: #f8f8f2; text-decoration-color: #f8f8f2; background-color: #000000\">            }</span><span style=\"background-color: #000000\">                                                                                                      </span>\n<span style=\"color: #f8f8f2; text-decoration-color: #f8f8f2; background-color: #000000\">        }</span><span style=\"background-color: #000000\">                                                                                                          </span>\n<span style=\"color: #7f7f7f; text-decoration-color: #7f7f7f\">/python</span>\n\nIn this example, we define a <span style=\"color: #008080; text-decoration-color: #008080; background-color: #000000; font-weight: bold\">User</span> model with three fields: <span style=\"color: #008080; text-decoration-color: #008080; background-color: #000000; font-weight: bold\">id</span>, <span style=\"color: #008080; text-decoration-color: #008080; background-color: #000000; font-weight: bold\">name</span>, and <span style=\"color: #008080; text-decoration-color: #008080; background-color: #000000; font-weight: bold\">email</span>. The <span style=\"color: #008080; text-decoration-color: #008080; background-color: #000000; font-weight: bold\">BaseModel</span> class from Pydantic  \nprovides the basic functionality for data validation and serialization.                                            \n\n                                              <span style=\"font-weight: bold\">Create a User Instance</span>                                               \n\n<span style=\"color: #7f7f7f; text-decoration-color: #7f7f7f\">python</span>\n<span style=\"color: #f8f8f2; text-decoration-color: #f8f8f2; background-color: #000000\">user </span><span style=\"color: #ff4689; text-decoration-color: #ff4689; background-color: #000000\">=</span><span style=\"color: #f8f8f2; text-decoration-color: #f8f8f2; background-color: #000000\"> User(id</span><span style=\"color: #ff4689; text-decoration-color: #ff4689; background-color: #000000\">=</span><span style=\"color: #ae81ff; text-decoration-color: #ae81ff; background-color: #000000\">1</span><span style=\"color: #f8f8f2; text-decoration-color: #f8f8f2; background-color: #000000\">, name</span><span style=\"color: #ff4689; text-decoration-color: #ff4689; background-color: #000000\">=</span><span style=\"color: #e6db74; text-decoration-color: #e6db74; background-color: #000000\">\"John Doe\"</span><span style=\"color: #f8f8f2; text-decoration-color: #f8f8f2; background-color: #000000\">, email</span><span style=\"color: #ff4689; text-decoration-color: #ff4689; background-color: #000000\">=</span><span style=\"color: #e6db74; text-decoration-color: #e6db74; background-color: #000000\">\"john@example.com\"</span><span style=\"color: #f8f8f2; text-decoration-color: #f8f8f2; background-color: #000000\">)</span><span style=\"background-color: #000000\">                                                       </span>\n<span style=\"color: #f8f8f2; text-decoration-color: #f8f8f2; background-color: #000000\">print(user)</span><span style=\"background-color: #000000\">                                                                                                        </span>\n<span style=\"color: #7f7f7f; text-decoration-color: #7f7f7f\">/python</span>\n\nOutput:                                                                                                            \n\n<span style=\"color: #7f7f7f; text-decoration-color: #7f7f7f\">json</span>\n<span style=\"color: #ed007e; text-decoration-color: #ed007e; background-color: #000000\">id=</span><span style=\"color: #ae81ff; text-decoration-color: #ae81ff; background-color: #000000\">1</span><span style=\"color: #f8f8f2; text-decoration-color: #f8f8f2; background-color: #000000\"> </span><span style=\"color: #66d9ef; text-decoration-color: #66d9ef; background-color: #000000\">na</span><span style=\"color: #ed007e; text-decoration-color: #ed007e; background-color: #000000\">me='Joh</span><span style=\"color: #66d9ef; text-decoration-color: #66d9ef; background-color: #000000\">n</span><span style=\"color: #f8f8f2; text-decoration-color: #f8f8f2; background-color: #000000\"> </span><span style=\"color: #ed007e; text-decoration-color: #ed007e; background-color: #000000\">Doe'</span><span style=\"color: #f8f8f2; text-decoration-color: #f8f8f2; background-color: #000000\"> </span><span style=\"color: #ed007e; text-decoration-color: #ed007e; background-color: #000000\">email='joh</span><span style=\"color: #66d9ef; text-decoration-color: #66d9ef; background-color: #000000\">n</span><span style=\"color: #ed007e; text-decoration-color: #ed007e; background-color: #000000\">@example.com'</span><span style=\"background-color: #000000\">                                                                      </span>\n<span style=\"color: #7f7f7f; text-decoration-color: #7f7f7f\">/json</span>\n\n                                                <span style=\"font-weight: bold\">Validate User Data</span>                                                 \n\nPydantic automatically validates the data when you create a new instance of the model. If the data is invalid, it  \nraises a <span style=\"color: #008080; text-decoration-color: #008080; background-color: #000000; font-weight: bold\">ValidationError</span>.                                                                                          \n\n<span style=\"color: #7f7f7f; text-decoration-color: #7f7f7f\">python</span>\n<span style=\"color: #66d9ef; text-decoration-color: #66d9ef; background-color: #000000\">try</span><span style=\"color: #f8f8f2; text-decoration-color: #f8f8f2; background-color: #000000\">:</span><span style=\"background-color: #000000\">                                                                                                               </span>\n<span style=\"color: #f8f8f2; text-decoration-color: #f8f8f2; background-color: #000000\">    invalid_user </span><span style=\"color: #ff4689; text-decoration-color: #ff4689; background-color: #000000\">=</span><span style=\"color: #f8f8f2; text-decoration-color: #f8f8f2; background-color: #000000\"> User(id</span><span style=\"color: #ff4689; text-decoration-color: #ff4689; background-color: #000000\">=</span><span style=\"color: #e6db74; text-decoration-color: #e6db74; background-color: #000000\">\"abc\"</span><span style=\"color: #f8f8f2; text-decoration-color: #f8f8f2; background-color: #000000\">, name</span><span style=\"color: #ff4689; text-decoration-color: #ff4689; background-color: #000000\">=</span><span style=\"color: #e6db74; text-decoration-color: #e6db74; background-color: #000000\">\"John Doe\"</span><span style=\"color: #f8f8f2; text-decoration-color: #f8f8f2; background-color: #000000\">, email</span><span style=\"color: #ff4689; text-decoration-color: #ff4689; background-color: #000000\">=</span><span style=\"color: #e6db74; text-decoration-color: #e6db74; background-color: #000000\">\"john@example.com\"</span><span style=\"color: #f8f8f2; text-decoration-color: #f8f8f2; background-color: #000000\">)</span><span style=\"background-color: #000000\">                                       </span>\n<span style=\"color: #66d9ef; text-decoration-color: #66d9ef; background-color: #000000\">except</span><span style=\"color: #f8f8f2; text-decoration-color: #f8f8f2; background-color: #000000\"> </span><span style=\"color: #a6e22e; text-decoration-color: #a6e22e; background-color: #000000\">Exception</span><span style=\"color: #f8f8f2; text-decoration-color: #f8f8f2; background-color: #000000\"> </span><span style=\"color: #66d9ef; text-decoration-color: #66d9ef; background-color: #000000\">as</span><span style=\"color: #f8f8f2; text-decoration-color: #f8f8f2; background-color: #000000\"> e:</span><span style=\"background-color: #000000\">                                                                                             </span>\n<span style=\"color: #f8f8f2; text-decoration-color: #f8f8f2; background-color: #000000\">    print(e)</span><span style=\"background-color: #000000\">                                                                                                       </span>\n<span style=\"color: #7f7f7f; text-decoration-color: #7f7f7f\">/python</span>\n\nOutput:                                                                                                            \n\n<span style=\"color: #7f7f7f; text-decoration-color: #7f7f7f\">text</span>\n<span style=\"color: #f8f8f2; text-decoration-color: #f8f8f2; background-color: #000000\">1 validation error for User</span><span style=\"background-color: #000000\">                                                                                        </span>\n<span style=\"color: #f8f8f2; text-decoration-color: #f8f8f2; background-color: #000000\">id</span><span style=\"background-color: #000000\">                                                                                                                 </span>\n<span style=\"color: #f8f8f2; text-decoration-color: #f8f8f2; background-color: #000000\">  value is not a valid integer (type=type_error.integer)</span><span style=\"background-color: #000000\">                                                           </span>\n<span style=\"color: #7f7f7f; text-decoration-color: #7f7f7f\">/text</span>\n\n                                            <span style=\"font-weight: bold\">Serialize User Data to JSON</span>                                            \n\nPydantic models can be easily serialized to JSON using the <span style=\"color: #008080; text-decoration-color: #008080; background-color: #000000; font-weight: bold\">json()</span> method.                                          \n\n<span style=\"color: #7f7f7f; text-decoration-color: #7f7f7f\">python</span>\n<span style=\"color: #ff4689; text-decoration-color: #ff4689; background-color: #000000\">import</span><span style=\"color: #f8f8f2; text-decoration-color: #f8f8f2; background-color: #000000\"> json</span><span style=\"background-color: #000000\">                                                                                                        </span>\n<span style=\"background-color: #000000\">                                                                                                                   </span>\n<span style=\"color: #f8f8f2; text-decoration-color: #f8f8f2; background-color: #000000\">user_json </span><span style=\"color: #ff4689; text-decoration-color: #ff4689; background-color: #000000\">=</span><span style=\"color: #f8f8f2; text-decoration-color: #f8f8f2; background-color: #000000\"> user</span><span style=\"color: #ff4689; text-decoration-color: #ff4689; background-color: #000000\">.</span><span style=\"color: #f8f8f2; text-decoration-color: #f8f8f2; background-color: #000000\">json()</span><span style=\"background-color: #000000\">                                                                                            </span>\n<span style=\"color: #f8f8f2; text-decoration-color: #f8f8f2; background-color: #000000\">print(user_json)</span><span style=\"background-color: #000000\">                                                                                                   </span>\n<span style=\"color: #7f7f7f; text-decoration-color: #7f7f7f\">/python</span>\n\nOutput:                                                                                                            \n\n<span style=\"color: #7f7f7f; text-decoration-color: #7f7f7f\">json</span>\n<span style=\"color: #f8f8f2; text-decoration-color: #f8f8f2; background-color: #000000\">{</span><span style=\"color: #ff4689; text-decoration-color: #ff4689; background-color: #000000\">\"id\"</span><span style=\"color: #f8f8f2; text-decoration-color: #f8f8f2; background-color: #000000\">: </span><span style=\"color: #ae81ff; text-decoration-color: #ae81ff; background-color: #000000\">1</span><span style=\"color: #f8f8f2; text-decoration-color: #f8f8f2; background-color: #000000\">, </span><span style=\"color: #ff4689; text-decoration-color: #ff4689; background-color: #000000\">\"name\"</span><span style=\"color: #f8f8f2; text-decoration-color: #f8f8f2; background-color: #000000\">: </span><span style=\"color: #e6db74; text-decoration-color: #e6db74; background-color: #000000\">\"John Doe\"</span><span style=\"color: #f8f8f2; text-decoration-color: #f8f8f2; background-color: #000000\">, </span><span style=\"color: #ff4689; text-decoration-color: #ff4689; background-color: #000000\">\"email\"</span><span style=\"color: #f8f8f2; text-decoration-color: #f8f8f2; background-color: #000000\">: </span><span style=\"color: #e6db74; text-decoration-color: #e6db74; background-color: #000000\">\"john@example.com\"</span><span style=\"color: #f8f8f2; text-decoration-color: #f8f8f2; background-color: #000000\">}</span><span style=\"background-color: #000000\">                                                         </span>\n<span style=\"color: #7f7f7f; text-decoration-color: #7f7f7f\">/json</span>\n\nThis is a basic example of how to use Pydantic for data validation and serialization. Pydantic provides many more  \nfeatures, such as support for nested models, custom validation, and more.                                          \n</pre>\n"
                },
                "metadata": {}
              }
            ]
          }
        },
        "67b778d4848f4586bce0dfdcbd061345": {
          "model_module": "@jupyter-widgets/base",
          "model_name": "LayoutModel",
          "model_module_version": "1.2.0",
          "state": {
            "_model_module": "@jupyter-widgets/base",
            "_model_module_version": "1.2.0",
            "_model_name": "LayoutModel",
            "_view_count": null,
            "_view_module": "@jupyter-widgets/base",
            "_view_module_version": "1.2.0",
            "_view_name": "LayoutView",
            "align_content": null,
            "align_items": null,
            "align_self": null,
            "border": null,
            "bottom": null,
            "display": null,
            "flex": null,
            "flex_flow": null,
            "grid_area": null,
            "grid_auto_columns": null,
            "grid_auto_flow": null,
            "grid_auto_rows": null,
            "grid_column": null,
            "grid_gap": null,
            "grid_row": null,
            "grid_template_areas": null,
            "grid_template_columns": null,
            "grid_template_rows": null,
            "height": null,
            "justify_content": null,
            "justify_items": null,
            "left": null,
            "margin": null,
            "max_height": null,
            "max_width": null,
            "min_height": null,
            "min_width": null,
            "object_fit": null,
            "object_position": null,
            "order": null,
            "overflow": null,
            "overflow_x": null,
            "overflow_y": null,
            "padding": null,
            "right": null,
            "top": null,
            "visibility": null,
            "width": null
          }
        }
      }
    }
  },
  "cells": [
    {
      "cell_type": "markdown",
      "metadata": {
        "id": "view-in-github",
        "colab_type": "text"
      },
      "source": [
        "<a href=\"https://colab.research.google.com/github/plaban1981/Agents/blob/main/Pydantic_AI_Agents.ipynb\" target=\"_parent\"><img src=\"https://colab.research.google.com/assets/colab-badge.svg\" alt=\"Open In Colab\"/></a>"
      ]
    },
    {
      "cell_type": "markdown",
      "source": [
        "# PydanticAI\n"
      ],
      "metadata": {
        "id": "icSdHIfj8GMc"
      }
    },
    {
      "cell_type": "markdown",
      "source": [
        "![pydanti.ai.jpg](data:image/jpeg;base64,/9j/4AAQSkZJRgABAQAAAQABAAD/4gHYSUNDX1BST0ZJTEUAAQEAAAHIAAAAAAQwAABtbnRyUkdCIFhZWiAH4AABAAEAAAAAAABhY3NwAAAAAAAAAAAAAAAAAAAAAAAAAAAAAAAAAAAAAQAA9tYAAQAAAADTLQAAAAAAAAAAAAAAAAAAAAAAAAAAAAAAAAAAAAAAAAAAAAAAAAAAAAAAAAAAAAAAAAAAAAlkZXNjAAAA8AAAACRyWFlaAAABFAAAABRnWFlaAAABKAAAABRiWFlaAAABPAAAABR3dHB0AAABUAAAABRyVFJDAAABZAAAAChnVFJDAAABZAAAAChiVFJDAAABZAAAAChjcHJ0AAABjAAAADxtbHVjAAAAAAAAAAEAAAAMZW5VUwAAAAgAAAAcAHMAUgBHAEJYWVogAAAAAAAAb6IAADj1AAADkFhZWiAAAAAAAABimQAAt4UAABjaWFlaIAAAAAAAACSgAAAPhAAAts9YWVogAAAAAAAA9tYAAQAAAADTLXBhcmEAAAAAAAQAAAACZmYAAPKnAAANWQAAE9AAAApbAAAAAAAAAABtbHVjAAAAAAAAAAEAAAAMZW5VUwAAACAAAAAcAEcAbwBvAGcAbABlACAASQBuAGMALgAgADIAMAAxADb/2wBDAAMCAgICAgMCAgIDAwMDBAYEBAQEBAgGBgUGCQgKCgkICQkKDA8MCgsOCwkJDRENDg8QEBEQCgwSExIQEw8QEBD/2wBDAQMDAwQDBAgEBAgQCwkLEBAQEBAQEBAQEBAQEBAQEBAQEBAQEBAQEBAQEBAQEBAQEBAQEBAQEBAQEBAQEBAQEBD/wAARCAJSA00DASIAAhEBAxEB/8QAHgABAAICAwEBAQAAAAAAAAAAAAcIBQYDBAkCAQr/xAB7EAAABQMDAgIDBwsKDA8IEAcAAQIDBAUGEQcIEhMhFDEiQVEJFTJSYXGRFhcYIzNygaGxwdMZQldYc5KWorLCJDRDU1RilaPD0dLkJTU3OFZjdYKEk5Sks7TER0h0g4altcUmJyg2RFVkZmd2habU1eHwRXeHl8bW8f/EABwBAQACAwEBAQAAAAAAAAAAAAADBQECBgQHCP/EAFARAAIBAwICBQUKBw4GAwEAAAABAgMEEQUhEjEGE0FRYSJxgZGhFDJSYpOxwdLT8BUjQlNyw9EHMzQ1VGNzgpKisrPC4RYlQ0RFgySj4/H/2gAMAwEAAhEDEQA/APVMAAAAAAAAAAAAAAAAAAAAAAAAAAAAAAAAAAAAAAAAAAAH4r4JjiHKr4JjiMyLzMvwgAAEpIAAAAAAAaiTjOA5Jzj8wLfkAAZI/IAAAAAAAAAAAAAAAAAAAAAAAAAAAH0j4Q5Bxo+EOQAAAAAAAAAAAAAAAAAAAAAAAAAAAAAAAAAAAAAAAAAAAAAAAAAAAAAAAAAAAAAAAAAAAAAAAAAAAAAAAAAAAAAAAAAAAAAAAAAAAAAAAAAAAAAAAAAAAAAAAAAAAAAAAAAAAAAAAAAAAAAAAAAAAB8O56auPnjsKq7kdwly2pqlSNKbUrcC3HXaeVTeqdRYW6wta3ODbGE4wWEOGZ5znj2Fq1llJl8g1K+7Hot5W5V6NVKXDknUIbkclOtEpRGaFEg+XmRkajwfqyPPd0+toygpYbXM2jJQfEyO7L1qgybxjWjUJ/iGKkxyjyzLihEgu/T8zwSi7l37GWPWJsJaTwWSyY87tG9TqQ3SI9rV2G174segtS0+nzQeDznvyJRY9pC2+leqkeryEW/WJR+IWeIzqzL7Z7EGfrMcboOuzt6n4Nvs8SbxJ9pGqsq8nJR9RLY/DUkjIjURGfkPzqF6iMxEepWsEil1Nm1bLpsir1+clSIsWKSVqUaTLktRq9BtpJ9lOryWSMkkox3Sz2mx1tXtW6jSamxY9jU56qXPUyW3BhsOEhbq045OKWZGTLCMlzeMj7+ikjVnEfXvYO6Kzbbd1EoWolIqdTpzRzJlBbiPtMuNJLktDb63lmpRER91J9LHq7CLdt+pWocnVy86zcdOiOVlT7VMkxZBo6jRM8uMdGTJSCM+ZpUkjQa1eljORZzU/W+zqNYiprMh2Z76R0NtsMNmp5zrFhDKEF6RvLzhKC7lk1HhKTMbptLYxlZwZvQrVSDrDpjSL8hN9I5jakyWjLBtPoUaVpMvkMhs1Bvi0bpmTqdbdzU2qSqYsm5rMSUh1cdRmZElZJM+J5SfY/YNC2zaaz9LtJoNBrURuJUpUmTVJcVtfNEVyQ6pzokr18EmSM+s0mfrFa/c7ST9efcUSUkX/shjn2LGT60vz/ENDJe0jLHmHJJfri88CI9x2sF06N2EmvWTp3WL0rs6WiDBp0CK66glKJR9R9TZHwaSlJ9zwWTT37iDLb3d67Whq9ZunG4LTC2qVGvtxMenS6FUVSHGHVYIkupNavJSkkZdvPJZwYYbBc8lJPyPI/cl7RSJe8PcNemrmoWj+kmjFCrdStCc42zNkTHGWG4ralJNT6jUXJxaumSEpMs4VnJEMzpfv0TU9FtQr+1Rs1FHr2m0tNPnU6KozRJecPiylBqyaDNzKFEfkZGfkALick+0h1p9Rg0yK5NqExmNHZI1OuurJCEEXrUo+xF8pihcne7usoOkytcbl0At9q0qiyS6VJamu9Vk1qImlvt8+XSUWS5kSTyZdu41zcxqheG46m7edKlTToEXVqNEq1dbgLUSDJfHLZGrPJKCJxRErJGriZ+RDOAXkomvGjFxVf6n6HqfbE+pGriUZmpNLcUfsSRH3PsfYhsVUvez6JWKfb1YuakwqpVjNMCG/LQh+UZefTQZ5Xj5CFW9U/c4dEq7pwdF0yoce2rrgNpVTK2ch81m8Rl3eVyM1EePMiyR9ywIG3LOak6Xa27bfqoIr3vahwH2MQlKL30lkom2/TWRGWTUk1KP1EoxnAPTc1EXr+UORe0U/wBM91utUbcBSdB9w+mVFtqZcsN2VSpNKkreQpSULWSVGalEoj6a057GSiLJYMfl9bl90Uq97tpGkeg9MK3bRNSXKrdLzsJVSNHLkcUjUglpPieDTyLy9pEGAWfvTUGy9OqN9UN8XJTqLTeqhgpUx4m0G4s8JSRn5mYzsaYxLjtyGXULbdSS21pPJKSfkZH6yPI8/dY919u6ubMoWrFyaTUWtPMXG1TplFqb7xx2pCORk42ttSVnlJ58y7GZGNyvbd3q1bWtdN2/6V6S0KuSp1vQ5lMbOS6wTLrjCXDN1XIkpYQRmXtMiIs5GMAuoS0q7EeR+irW2zdJqNfOrtzaEa12BTrauygxCnNe9rq3GHmsp5Z5KUXktBkZHgyP1C0pHks4GAfSPhDkHGj4Q5AAAAAAAAAAAAAAAAAAAAAAAAAAAAAAAAAAAAAAAAAAAAAAAAAAAAAAAAAAAAAAAAAAAAAAAAAAAAAAAAAAAAAAAAAAAAAAAAAAAAAAAAAAAAAAAAAAAAAAAAAAAAAAAAAAAAAAAAAAAAAAAAAAAAH4r4JjhURGWDHMr4JjgX3LsrAA88t7Wi8TTK54eplprlHHu6r9CVCZTlUWe4SlE8zj1OKLBo9p5L2CGKJrBqRQnHGZEaepNMfJBVCOwtaGXUmRkS1ERklRZLJGPQ67dvVQuqZ42Tq3dvUjVZFVp7bymHmIa059FCFN9yLJ45eXqHY0e0QqmmS6o7Ur3drPv3LkVCoRipkePHXJdMvtiSQnkXYiLBqPvkxz170ctr2r1mcb59JLaXFWzqKUcNPmmcWkGt1M1Z0aO9ojhNTIkdTNQYSr0mX0l6R9vUZYUXyGQyukVu0ZqTcV0qd8TVqhVH4z7rmDW1HZVwjsJz3JBIJKix58uXrHzbuhFqWdcU+v2kqbAbqy3HJlP6pLiLNfwsNmR8SPv2I8dzGqVDRTVKhVWQ9ppetMRAdIm22KsmU28wgvJHVjrSbqE+SCWnklOE8jIsi6tVUUOGr2GlWUZVJSgsLuMHrrZWk9t3rTdXuE+Lc0KaypUWmuJxWX/JiKts0nzdWriRGnCiLJmePPedKdCaJQJEO+7rS9U7sW2p8/EPE7Hpbj3pONRGyIkISRmZcsGsy/XeofmnWg71HrrN9aj3Cm5bmiNqahGmN0IVOSo8r8Ozk8KUWCU6ozWflki7CX0pQj4KSL5h6MvGDRRXM+FJJssJ5K5e08jzL0L1YvbbRq1q7OqOgN+3GxdteNyK7T6c4SEpadfPOTQfIjJ0jIy9g9OD4n54P1j86bfb0U9vIYMnn5uX1R1n190MpdwWRphqDa9Lp1xnHuWlNEpqpSIJNpMlo4pJXTyak9i7HxM8kWBEcbTyPUtd9Hbo0m2/X3a9uRq9GVLqFb8S+/KWhxHNxZOKV020l5KPiSjNXbsPWA0oPzIu4/ODec8SGU2gU52gWnctE3ObhqvWreqMCn1OrsuQZMiMptqSknXzNTajLCiwZZMs+ZCDaRoJe+oNmbpLYdo0ujSKpc7FRpDlSaOMzONmU84RIcXhOFERJJXlkyzkenPFB47F2Gu35Ylsaj2rU7Ku+mInUisMKjymFGZckn5GRl3IyMiMlF3IyyMA83dUNb9X6rs4laR1vQWvUT3kpcWFWLgqBJagGwytBJNjJem44aUESSMyLueTG13ZorqTc23Hbtrlo9TffG69P6FT3/AHvz9slR+CHPQT+uVySeUlgzStWO5d5aa9zc03WmJRKvqZqBU7UhP9Zm3X6uZxEFnJJ8s4+bB49YthQ6NTKDSYdDpUBqJAgR240ZhtJJQ02hJJSgiLyIiIi/ANmCit3b09wGqdqr050g263tQL4qKUxl1CUwpLMBWcLcQpaCSXyKX2Ij7kY6uo2m+rMXcXtiXdqarddRosd47hrjcVTjCH1ZNXJaUklKSM8FnHYh6BdNvGOKfoH7hGc4LI1yCm2vNo3RUd+OiNx023ajIpNNp8lMye1FcXHYM0vEROLIuKTPJYyfrIVwk2pc8zU3UKka/wCi2pOoF31Ca8u2ChSpDNJSwZq4nybUSEt9knnJlgsYIy7+q/FHc+Jdw6bXxUhkHkSjS3U0tgdQtddgXCdYXfqH0wCpzpvm108ciRxzxI/X5CyFmWbdrPuhtKuORbFVapDdhRoyp6oqyjpf8K2XDqGXElEZGWBeckoIsERYAkoI8kREAKcWfat0M+6UXld79u1JuiO2k3HbqK4q0xlucI3oE5jio/RMux+oxcdJ5LOR+GhszyaSyPrsAPpHwhyDjR8IcgAAAAAAAAAAAAAAAAAAAAAAAAAAAAAAAAAAAAAAAAAAAAAAAAAAAAAAAAAAAAAAAAAAAAAAAAAAAAAAAAAAAAAAAAAAAAAAAAAAAAAAAAAAAAANY1G1GtnSy1nrvu199uAy42z9oZNxalrPCSIi/D5mRdhLQoVLmpGjRi5Sk8JLm2yKtWp29OVarJRjFZbfJJGzjRafrpozVHOjD1StdS8mkkrqjLZmZHjsSlFny9Xq7+QiOt749GZ1IqMCnuXCxJeiOtx3zp6eKXFIMkn2cz2My+gR7pBf+1SBpVQLa1doVLbr8Rt9uU7Mt55108vOGn7chpSj9BSPI+2S8sduxtOh13C2nWvrerxcUUowjl4ak3LDW6WEtsc9zkbrpdazuIUbGvSxwyblOWFlOKSyuTeW+3kW6Zv2xpCeUe9KE6WCPKKiyosH5eSh+uX3Y7OOteVCRny5VFks/wAYVMrcv3PKcrroJxCzUajKExVWiPPq4mkkkXzDF06jbFlToKJMO6Go095KGpU7xbMX0uxcnO2E+s1Z7F3M8ZHph0St3HinTul4Ogvrnnl0quFLhjO2fiqz+oWtqOuGjlJL+jtUbWSeccUVVlxX71KjP8QzVoXzZ9/Uz34sy44FXiEZJWuK6SjbUZZ4rT8JCsd+KiI/kEfM7dNCbGoFTqdI05pTq2Yj0hL00lTVJNKDMjSbxr44wWDTj2iqunFj6laa6cW5uR0wXJltEiT9UNJM1cXGGpDrfVJJfDb4ERn2M0GRr7pzxgs9A0jVrepKzrThNSjGLqKKjKUlJqOzfDnhwm292tia713VdLuKcbujCUHGUpdW5NxjFxTlulxY4stJck9z0IAaxptqDQdUbMp16W84ZxpzeVtK+HHeLs40r+2SrJZ8j8y7GQ2ccZXoVLarKjWWJRbTT5prmjsKNancU41qTzGSTTXanyAAAiJQAAAACu9m6x7idSqGi7LH05tB2jSH3mo7kmqOJcUTbikGZl2+KO25dO9A1fatMrCSWPJU9ajz/wAcQ6GfRu4pVJUq1WlGUdmnUgmn3PfmUEOkVvVgqtKlVlF7pqnJprvW3In0BXR27t8mVKa0ssHBF2ScozP6fFkQ6K7v34+ktOltmesySmQ39BZmflMSR6MVJf8Ac0PlYftI5dJKcf8Atq/yUv2FmQFW5F7b9koI/rTWujv5tvMKP6PGGOo5fu/VpPJWllBMs49EmVH+KUJo9Eq0uV1b/LRIpdKqUedrX+SkWvAVMVqLvxSk1HpVRsEWezLZn9HiRw/XP32fsT0z/kZfpxuuh1w+VzQ+ViaPpdQXO2r/ACUi3CvgmOPJfEFV6VqxvYjzWF1jRSnzoaXCU+0030HXEetKXOsokH8poVj2GNx+vhr9+1Sqf8I2v0I81fore0niFSlPzVqf+qSPRR6UWdVZnTqx89Kp/piyd8l8QMl8XAgj6+Gv37VKp/wja/Qj9Trdr8pRJLalU8meO9yMkX09EQ/8NX/fT+Wo/aE3/Edj3VPka31CdQEJN6wbhXVcU7VpRHjPpXZFSX42h2WtT9xbpJMtrZpJR4yq9YRY+cuGRG+j15HnKl8vR+0N1r9pLlGp8jW+zJkH7kviCKWL93BPFlzbvBY7f1S9I5/yWDGe0a1MLVuzjuhdGKkyGZ0iBJhlJ8QTTrSsH9s4p5ZI0n8H1jz3GkXVtRdxLhcU0m4zhPDecZ4ZNrOH4HooarbXFZUI8Sk02lKE45SxnHFFcso3jJfEDJfEH10/lDp/KKwsj5yXxAyXxB9dP5Q6fygD5yXxAyXxB9dP5Q6fygD5yXxAyXxB9dP5Q6fygD5yXxAyXxB9dP5Q6fygD5yXxAyXxB9dP5Q6fygD5yXxAyXxB9dP5Q6fygD5yXxAyXxB9dP5Q6fygD8QZZ+Dgcg+Uowecj6AAAAAAAAAAAAAAAAAAAAAAAAAAAAAAAAAAAAAAAAAAAAAAAAAAAAAAAAAAAAAAAAAAAAAAAAAAAAAAAAAAAAAAAAAAAAAAAAAAAAAAAAAAAAEC73EpPQKpGZEZlPhGXyH1SE9CDN5sVc7Q6XCbPC5FTgNJPGe6nkkX5RfdFmo63aN/nI/Oij6TJy0a6S/Ny+Zm/6XNW9XLGtq8IlDpzMqp0qJNW63FQlZOLaSpWVEWc5NReftGz1Si0attJYrVJhT2kHySiUwh1JH7SJRGI12rTzqO36zZBqM+ER1jJnn7k+43/MErjyatGdrqNakm/InJLfuk0erS5QutPo1WlicIt7d6TMfDt6gU9aXYFDp8ZaPgqZjIQZfMZEK0b4ordVmaY0OelfvbUK441KNCiSZEZspwSsHg+K14P5PWLTjV9QdM7I1To7VBvuiJqUOO+UlpHXcZU26SVJJRKbUlXko+2cH6y7EPT0f1WOl6nSvbjLUc5xu94tZWWt1nPNHm17S5anptSyoYTljnstpJ4eE9njHJkE2pqNE0fbRo9qVdMOs2dUUrp9DuqLKQ4TDKyNKY0riZk2aU9iWfokRHn0SMyycHZDpM2w0uBeF69HiSmVNVVkk8TM1Fx4s4x6RmWPbn1jJVTZjoEmDLeh2lJQ8TDhtF76STJK+J8T7ud++D7mMptBraq1t+tk3XSW7BKTCXjPYm31kgu/9oaP/AN9h017qkadpPUdErTjLijGrmMYqTkpuMklKST8lqWMJt5SRzllpkql3DT9ZowlHhk6XlOTiouKccuMcryk1zaSw2zUts9twdM9XtUtKaDVKnKo1L965UZM55K1k64xl1Z8EpTkzUkskRGaUIznGRZIV10mcU7u31eUoiyUSAnt7CbaL8wsUKHpVKVS/jWqPMp06Um+9unHL9L3LzoxGNOxlSprEY1KqS7kqksL0LYAADmzogOCe6TEGQ8ajSTbS1ci8ywRnkc46Va/0mn/+Cu/yDG9NZmkazeItkN7L21I29W+ozLDkicovm8U4X5hsF67jtNrBuiZaNecq6p8Btp2R4Wmuvttk4nkgjUkj7mRjF7PWja26WkSkEk1FOUfy5mv4P6MDjsJ5H2UOqTJHlR0qin29WGT7H++Idhf0La41nUq1zFyjTc5YT4cvrYx54l2Sb5HI2Ne4t9H06lbSUZVFCOWuLC6py5Zj2xxzONW8jQBpam5V1zYy0/rXaRLI/o6fyDnRvE25r4l9cTiasdlUmcWPnPo4ErVmqUCmR0ruGo0+Iw4fFJzXkNoUfsLmZEfmNGrGo+3eNj33vCw3FF+tVKiuqLGf1pGZ+0eK3p6XdfvdpXf6NSL/AFJ7K9TU7b98uqK/SpyX64xH2XG3f9khj+58v9EOjD3haGO1OoR5l6xmITBtFDkFFlKOSRoyszSTWUcVej38/MdOqaw7OozinJ86zX1kZkamqH4gz9fmhlWRhXdbdkrrpE3TLblOrwREiz3DUpXkSSzHLJ+Qtaeg2tRZVhd49H2RWVNcuabw7619v2pun2XG3f8AZIY/ufL/AEQfZcbd/wBkhj+58v8ARDQV6qbNifbjNaXUt5bhGaSbsZOe3n2NkjP8BD7XqBtRdSaS0M5IPyUiwklkvaRk2RiT/h+x7bO6Xph9Qi/D172Xds/RP65stL3n6FSZNUaqt2lBaizTYhLKBMd8XHJps+t6LJ8MrU4niff0M+RkOvI3w6Cs3A1Rm6nWH4bjRuKqzdNWURtRFngpKjJ/kfl6LRl38xgkaibRmUk25o1HaUXml2xCNRfP9qMfh6p7MEvJjr03oyHTSazQqxi5JwZEeS6GfM/m/EN1oGn/AMiun6YfRTMPXb/+WWq9E/rmyx97GgD7ROO3DUY6jNRdNymPGosGZEfokZd8ZLv5GWcH2Hx9m3oD/wDHtT/uY7/iGETrFsjjklC6FbUZvyI1WY4lJev1Rh3mNadlS0t9JdpJIjIkkq13EcceXnHLAPQ7KP8A467f38KZha1eS/8AIWq+/wDSH63vn0QVNksOO1lDDXDovlBMyeyR8vRzlODx5+eRyOb5dCEJymXXHDz5Jpx5/Goh2mNYdnil9RmoWahaFEolHReBkffBkZsl37n9J+0ZtnXPbMh5KGLytRtayP0iZJJYL2q4YL8Ignp1jD/xtz6ZY/VE8NQvZ/8Akbf0Rz+tNW+zp0L+PcH9zy/yxFO1/cRZentFuWi16FXHjqVwP1KOcKAp8iQ4hCfSIj7H9r8hZqLrloShXGLqbaTRknHaosoLHs8y+gY6zbr212d4srKvWxKZ75uE7JRGrMZPVWnOFGk3PPufqEtOtZW9nXtVp1ZdZw85N+9bfPq1jn3PPgRVKN5cXlG5eoUXwcXKKXvkly6x55d6x4mV011ssfVaZUqda66i3LpSGnJDE6EuOskOZ4qIleZeif4hvwrtZ9+2W3ufviqFdtEKmVCg05LM3x7PQedRhJpS5y4qUWTyRHksCdKdddr1h8o1JuSlTXlZw3GmNuKPBZPskzPy7jm9a033HXToU5RhKEJb744optN4XJ57EdFo2ou7otV6kXNSnHbbPDJpNLL5rHazKgACjLoAAAAAAAAAAAAAAAAAAAAAAAAAAAAAAAAAAAAAAAAAAAAAAAAAAAAAAAAAAAAAAAAAAAAAAAAAAAAAAAAAAAAAAAAAAAAAAAAAAAAAAAAAAAAAAAAAAACCGdZNVtX5stO3G2bcK16fMXCcva6XXlQZ7zS1IfTT4cc0uym0KLj11OtNmpK0o545D1W1pUucuOFFc23hLPLfvfYllvDwtjVyUSdwFbbu1f3O6KTzqWp1i2Xd9nKd4KrltOP0pcVJ9k+IZlOPJbUo8ESlOpYLPpvN9szlY9829qFQEXDbr7ptdRcaTHkNGzJhyUHhyO+0r0m3UH2NJ/IZZIyM5LnT61tTVbaUHylF5Xmfan4NJhTTeO02AAAeE2AAAAAAAAIZ3Z/6k7f+7tL/AOsoEzCEd3kkoulsF7lhSbjphp8vMnc+vt6j8+wu+jactXtkvhx+cpukTS0m4b+A/mOxs8/1ulpkXwSOocT9Zl46R5l6vxiZhEO0mMcXbxZ7Rp48mZTmO/6+W8r1/fCXhr0jalrF21+dqf4mbdH046Rap/m4f4UAABTFucE3+k3/ANyX+QxWrYDUXJOklYp7jxK8HXneCfWhC2GT+jkSj+kWPrb3hqNPkcuPSiurzjOMIM8irXueqlfUXdicngqoyZF8vSHW6ZTUujl/J9kqPzyX0nK6lUcekFhFdsa3zRf0GyaKMKVum1klF8FsojZ/OoiMv5Jixwp7D0Vk6ya3axx2dX9RrBbhVCnoU7ZtUZp70vm05knXFsOOESeBceBo+GrPLtjLfqellupSdT101VrTyHOqmRW3qNUnSPCiP05FOWZ55GZ5yeSIx5Ok8+K+iu6nRX/1QZ6ujUOGyk++pVf/ANsy1gCqKfc9LHaSko2q94tKS4bqXEU2hNuJUfLOFN09OCPkf4sYx3+0bC/DO9al7o9aqcsyIswbi8IRkWcEZMJbIy7n28u5jnToC1Y0W1dXdMNVaRci9PL0pNxlb78qmVRuFIJS40hs1oUhZeZEZoXxXjisi5INRdxFNF2lX9RnFG1vI1mW3zy2TlQjSFJTguxnJZd5d898F2Mix2ydTNN9lW4gteb01dqc2s2tBpt2TagxXajUmWKpWIDcgluoNqAlDTjcxPUU4lSUoyvkWTNfOSks1IrxRpVeIN+DLw7QnEu7dbQUkjIiRMT39pTXyP8AIMZp24le7DVpJEeW6bRknn2+GQf5xzbMXEr2826kiPLb85J/P4p0/wA4xOlMlT27TV9PcyOJTSM1eeUMtJ+j/wDQdtdU8ahrPgp/58Di7apmw0fxcP8AImdzXy36PeOsujdo3DTWqhTJ79cdkR3fgOE1EbWRH+Hv5+oZxe07QByacxWnsXBtE10UyHktlgzPlgl/C74znyIh1dSFJVuV0dQZkZojXCsiP9aZxEFn5M4wM9uNuSs2jordFxW9UnKfUYcdo2JLeOTalPtpPGe2TJRl+EeaNzf8GnWNlWlT6yGNpSSzKtUWXh+b1Hplb2PHqF7eUY1OCWd4xbxGjTeFn0mGk7RNvchaVlp+2zg8mTc6SRK7eRl1O34MAe0PbuaeKtOmz7YM/fGWRn8vZ0h0om2461Ejy7o1r1QqJvNodXHOvdFglmWfgJR2xn2jn+xG0bkI4ViLXqt2xmbXJSvw+itJeXYbPVZ0nieqVn+ipv8AxVImq0uFRZhplFfpOC/w05HVl7UtrlPVwn2dEjK7dnq9MQf43x0JG3PZ7Ez4qk0RnB4PqXPJT+WQNhj7Rtu8XPT03YVn+uVCW5/KdMdl/avt/kNG0rTWnpIzI8tvPIV2PPmS8+obLX0ueo3T9n65mr0Jvlp9svb+pRpStCNlKVGlSLaIyPBkd2v5I/8AlIfWK2T/ABbZ/ha//wDiRv8A9jRoN+xfRf8Ai1f4xxK2vaBKUaj0ypeTPPZTpF/LG66Q0+2/uv7X/wChq9Aqdlja+r/8zR29DNlKXEmhFsGozwRHdbysmfbGDk9x3m9Atn72ejSrcXjz43C8eP7+M3P2kaATUtkiwmYpofQ8ZsSniNZJURmg8qMuKsYMiweD7GXmOrUdnO32ehhDNluQiafQ6s49QkZeSnzaUa1qwlXrNPFXbsohl69Qlz1C79j/AFqNVoVePKwtfav1TOuztv2oyMeHtmiu8vLhW31Z+h8ZKNtc23OpSiLYNNdI88eM+Qsz9vfqnkYmbso0CkzIkiPbk2IzHW4p6O1UpCkyCUkySlRrWakkkzJRcTIzNJZyWSM7so2/uY4W5UG8fFqb55+lRjD1mjPlqdyvPHPzVzZaRWhz062fmlj9SZ77FLb5+xrC/wCUyP0g5U7XNAUpJJaZUzBFju48Z/yxoUvY7p4bC2KTXKlT+TTiUrQ46o0rNWUHg3cGkixlOPSMskafIZCLs2s9iVMM7+vNuG4aPCNRamppxlJF6RLWrkTmT8sJTgu3c+40epU5ctVr+mMvoqs2WnTjz0yj6JR+mkjb07XtAkqJRaZUvJHnup0y/liPr0050/001z0ecsq1IdHXUahU0SFxSMjcJMYiSR5Py+2H+MbF9ijRmsHC1k1WimkjJJN3GRER+37l8vtGAr+0euT7ht2r0/XW+HkUd5xxTlUqSpEmOSiSWYq8ETajIsKyRkZERD02GoUFWfujUpyg4zi1JVMeVCUVndrm0zz31hXdJe59OhGSlB5i4Z8mcW+xdiaLIAKz6sadaj6Xab1y+KLuCvaZKpDKX0MTXW3G3MrSkyPKcl2P/wDeRYW2amdatuk1g1ks58FiTyIsErm2lWcfhHL3umQtreF1QqqpCUnHZSWGknupJdkjprPUZ3FeVtWpOnOKUt3F5TbWzTfajJgACpLQAAAAAAAAAAAAIy3KXVWbK0Rue5bfqLsGoxGo6Y8hrHNtTklpvJZI/Usy/CIypOkO4S47ZpFy0Tc5UkpqtPYnJZk08i4G6glknmlZ5IiVjOPV5C9sdFhdWivK9xGlFycFxKby0k372MsbSXMpL3WJ2107ShQlVkoqT4XFYTbS99JZ3T5FmgFXH9EN36VK8LuHiuFg8G4p1Bmfy4aPA6jmim9Uk/adeqSo8+Spj6Sx/wAmMe6PRyyly1Cj/f8AqHifSC8jzsKv9z6xa4BVBrRXeseetrzSU+zjNfVn/mxDsM6I7xlY6+4KCjv34PPK7fhZIZfRyzXPUaP9/wCqYXSG8f8A4+r/AHPrFpwFZGdDN1ysdfcilHfvwaWrt+FJDvMaD7k1H/RO6GY2Wf6nTjX2/CshBLQ7CPPUKXqqP/QTR1q+lysKnrp/XLGgK/s6Ba89jkbraz68pRRU/lN/8w7qNBtXy49TdDcysY5caa0Wfbj0zwIZaVp8eV9B/wBSr9mTR1S/f/YzX9al9cnMBCiNCtUCURubmLuUn1kmIyR/T3H05oNqI7jluUvYsfFQyn8hCP8ABthn+GR/sVPqEn4RvsfwOX9qn9YmkBCf1gdQf2yt8/3sPrA6g/tlb5/vYfg7T/5ZH+xU+qY/CF//ACOX9un9YmwBCf1gdQf2yt8/3sadrPZup+k+mNZv2FuDu2c9SUx+mw+2ySHDcfbaLkZJM/1+fwCe20W0vK8LehdxcptRS4ai3bwvye8huNYurSjO4rWklGCcn5VN7JZf5XcWdAdOjTHKhR4M90iJcmM08oi8iNSSM/yjuDnpRcW4vsL+MlJKS7QAAMGQAAAAAAAAAAAAAAAAAAAAAAAAAAAAAAAAAAAAAAAAAAAAAAAAAAAAAAAAAAAAAAhveJdtXsfbJqHcFBdWzUCpCoUd1CjSppclxEfqJUXdJp63Ij9RlkSRY1n0bT6zaHY1uxyZplAp7FOioIsfa2kEgjP2qPGTPzMzMz8xhdbdO06taQ3jpr1Gmnbjo0qBGedzwZkLbPounjvhDnBXb4o62hOp7Wrul9GvB5ootX6Zwa9T1FxcptWYPpzIriD7oUh5KyIj7mk0q8lELRty0xKH5M3xemMeD5p+vxNPy/Qb1LiRZ8V6DOjNSI0htTTzLqCWhxCiwpKkn2MjIzIyPsZCrelcWRo5unqOkjD77lJrdG68MnFmrlEQRqp2TPOVsJZqUQ1fCNliESjPgQtSK92wzE1Q3fV7UGiOpkUHTW3UWk5KQWW5FdeeW8+22sspV4ZhSULLsaXJJpxlJiTS6jjSuIz95wPPdnKUfTl/T2GJrdY55LCAACnJAAAAAAAACve+GV4PRyHIMlGhFwQlLJJ4M0kl1WCP1eQsIK1b+3Eo0YpiTI8uXHGSXz+Hkn+YdJ0Qjx67axfw0c70tlwaJctfAZJ23KGqDoXZDKiIjVSGXuxY7OFzL+UJHGraVwzp2mFn09STScWg09kyPzLjHQWPxDaRU6pU66+rVO+cn62y10yn1NlRp90Ir1JAAAeE9ph7yWpu0K44g8KTTZJkfyk0oV39z9hqb0qr04yIifuBxsu3cyRHYPOfWXp/iMWB1AUpNh3IpJmRlSJhkZeZH0ViG9jMHwmhLL/Dj42qy384+Fg0t5/vePwDrLGfV9GrtfCqUl7Jv6Dlr2HH0itH8GnUftivpMxokzx1h1pfwn06zARn19o6j/nflE1iFtEnM6vazs8fg1uCrOfbHP8AxCaRXdIM+7t/gUv8qBYaBj3Ft8Or/mzAAApC5Axd0f8AvZq//gEj/o1DKDoV5CXKHUW1llK4jyTL2kaDElF4qRfiiOqs05LwZCWyFxK9A6ekiPLdQmJP5+pn84wehzvW3WaxLyk8Eyjt/aqSX5hmNjv+oNE/3TmfyiGubeVLd3Q6yuGnsmQpGSLt2kGRfiIfRL2P/wA3W5eD9tWJwFnL/wCHoq8V7KUjctQnuW6rSePlPoU2tL+X0o6i/m/lGQ3drS3t2u9SzwRtw0/hOYwRfjMYe/8A/XdaW/7j1X/oXRlt3zXV26XejljCISvL2TWD/MK62SWo6OvCn/nzLC4ben6u/Gp/kQJiSlKUklJEREWCIvIiH6ADiDszQddtXqToNpRcGrVdpMypQLeYRIfixDSTziVOJRhJqMk59LPc/UNwolVarlFgVthpbTdQitSkIXjklK0EoiPHbJZFd/dH5TUXZdqUp1RJJyDHaLPtVKaIhvdmbgtAYtn0OK7rjp+hbNNjNqSq5oRGkyaSRkZdTsYAlsBRrVLU13XjcpVNIpW5g9NNKratiHXF1C3LgjU6XcL0hZkRtz1ZwwgkGlRNnj1H5kZQnQtwF9Uu+qptl0q3QSV2FcFwrYo+p91VRqdIgU+NDQ7UWYsx3ih9XUdbQ2rJkn0uJ9skB6oiGNXdYbmsvXLRvS6gx4Sod+T6mVVdebNTqI8WIbiSbPJEkzWacmZH2LHrHnhQN19c0T1FvXTnQ7XW4rwt24JFGo9DvDUernPgQprjzqJtSbdWlCDjp4KSX6w1oyZqLz3/AE9vOjVzf3pBQY+62XrdKp1KrLk+d0YyIMKY5GP0YpxkE0aVpSZmlK18eJdyyAPTcBCm8LW+r6AaG1W+bbagqrkiTFo9KcnrJESPKlOk0h99R9ibb5GtWe3o9x5sbj77qOmdYK37X3Z31qtctw2zXGL9kJrJO25Hdcpry2I8dhlPRZc5trUlBLM0pQfZOcAD2SEcbjdSapo/oTfOp1Ejxn6jbdEkz4jclJm0p5CPQJZEZGaeWMkRkKF3XplM0H286PbpEasai3HeDdRtfkU6tuHDZgPk2l2ExERhtLZt+jhXIzPuZmZiNdwm4mt6pbXKvf8AqDvFprVfvZlPvVpXazUVyPEhrdIjjzlJQt/mTZKUpTikESi4lnsQA9ZNO6xU7isG26/Wun74VKkxJcrpp4p6rjKVLwXqLJn2GwjX9PDZVYNtKjmRtHSIZoMvLj0U4GwACMty7PX0GvVHHlimKXjOPgqSrP4hnNG5Sp2kVkS1qI1u27TlLMiwXLwzefx5GN3DNdXQ6+E8sYoslXl7EZ/MObQRzq6J2MrjjFAhJ8/YykvzDoHvoC8Kz9sF+woVtrr8aK9k3+030AAc+XwAAAAAAAAAABB+8+R0dvNwt5x134LfnjP9FNq/D8ETTChQqbCj06nRGYsSK0hhhhhskNtNpIiShCS7JSRERERdiIhA2+JfDQaWnnjnU4acZ+F6Rnj5fLP4BYAX90uHQ7XxqVn/AHaKKK1alrVz4U6S/vVWBEW4fcTA2+w7Ycd0+ui8p921U6PTqZbrDb0pb5NLd+AtSclxQryPt8wl0VF90AjXuiXozX7IjXml2i3kuVLn2nb51mfAYVDebU6iObbiFfD4+mky7+3AoC9Jp0l1qrWo6Jy7o0TvnTpuGTZoeuluGy1JUtWCQ2bT618s4ySkpLuWDM+wlBSkoSalKIiIsmZn2Ih5oa7qvq8dF7nsugU3ddd1XuVylE3ULuthuJBpvTnsrNxhllllxtz5m1HhP60iMxsNH2I6fs7ro+np21dz+lcSy2a5WYUyfUHKZW6+bym0uyHFr4OvcTNZoI+2C7EWSMC1tma21a5dyGoOjkmFTEUa0aFSKvDnNGrrPKl9XqE4ZqNHEumnGCL15M/VKJXHbx0tVbKvU73uRklTPFI6BYPB5Xnj59vMeL+lmj14UXVCo21eGhGstetaVEkQYFp0anyYMCtuM1OZ4RmoTHFNpaiNoWSzyoyPkg+5ee76l7StU9N5ljwb8pNYpVj1Wo1G7KxS7DtBNzU2k1dwkNx4JwXCU2tCWGyInXELQa1OdjzkAeukWXFnR25kGS1IYdTybdaWS0LL2kZdjIRHYWqV03RuU1Q00lrjfU/ZtLojkJCGSJzxEpDy3TWvzPslBEXkWPlFA6DaOpFkWJCpcCwNw1H0num7JlSuJFGt6PTq7UOEZBR40el0/h73RHnErJRkSSVgvgkohYP3P2xapZmqOtL5aL3dp1QKu7RZNEgXG67IkGwUdwj5PuLc5OZ9JSOoo0GrieMYAFkNX9bIWkdwad0KbQXah9cC5m7bbeRIJsoa1suOE6ZGk+ZZbJPHJfCzntg+TRvWujazKvJNIo02B9RlzzLYkHJUkykOx+PJ1HE+yT5eR9+wrlvn22WpfV/6VX6ug3LVJlQvqlUuslDqs5LDNONDhKWTbLhFHPPEjeRxUXxu4iGxdqd9UyjbiLptu89XLQO07jqT9iUWkVaZHjy3WGErakKaWSlTuZpbbyo1ciSosmZmYA9JJ1cotMkR4lSq8KI/LVxjtPyENrdP2IJRkaj+Yd4eMVVsDU3Ui7Luvvcbaur0+7LqhQ41KpdK0ni1tLkFTCTQbEqYhSIKyUpZKJomltqJRmZn2L1j0LolRtrRuy7eq9Pq0CZTaJEivRqtMblzWlIbJPF51v0FuFjuae2fIAb0IZ3if63K7v8AgH/X44mYQzvE/wBbld3/AAD/AK/HF10b/jq0/paf+NFP0i/ie7/oqn+FklWK8qRZNvSFZy7SoizyeTybKT8xnBq2lbiXtMLQdSRkS6DT1FnzwcdA2kV15HguKke6T+csLSXFb05d8V8wAAHmPQAAAAAAAAAAAAFfN39XOCejNFk1yvU2l3PqjTqBUyo1cmUl6SxJp9QShpT8R1p3h1yYXxJZEZtpznA2B/adpHJz4ioalO5+PqjcyvyzwBMYCDH9l2g8nPiI19u5+PqPcSvyzh0Hth22uT/TFvXY7n49+V5X5ZgAsEArc97nhtPkf0xYtcdz8e8ayr8sodB73NPZpI/pjSyY7n+uXLVFflkACzb0mNHx15DbefLmsiz9I6jtwUFj7tW4DePjSUF+UxWpr3MjZZHVzjaRuNLI8kpNdqB9/bg3jI/wkZDtNe5ubO2fuemNQT97dFWR/JkkALAO3vZbH3a76I399UGi/KodR3U/TVj7tqHbLf31Wjl+VYhZn3PHaSweWtPK0k/kvSul+SYO8zsM2ux/uNkV1P8A5a13/wDGACT39aNHYxZk6sWa0WSL067FT3M8F5rHVd190JY+7a1WG3j41xwy/K4NFTsh22IIklZ9dMiMlER3lWzLJHkj7y/UZEY7rWzrb+z9ztmvF/5YVo/+1gDYndym3Nj7tr9pw399dUEvyujqObqtr7J4d3IaXIP2HeFPI/8Aph0W9pmhjX3O3q6X/lbWD/7UOyja5osjsmhVz+FVWP8A7SAC92O2FCFLTuD08dJJGZ9G44jpn8xIWZn+AfX2Vm2j9nixf7uR/wDKD7F/RX127VVffXJVD/LID7F7RD12nMV99Xagf5XwA+ys20fs72N/duP/AJQ+m91G2x5xLTWulkLWsySlKa0wZqM/IiIldzHGna1oUk1GVkuZUeTzV5x5PGP698hD6+xc0K/2Dmfz1Sb+mAHz9lftn/Z3sf8ADWmP8oPssNsheevthJ++r0YvyrH19i3oR/sESfz1KZ+lD7FvQf12C0fzz5f6UAfP2We10vh7itN0ff3PCT+VwczO6nbDI+4bjtL15+Ld9PP/AAo4/sW9Bf2PmP8Al0r9KPxW1jQNRYVp6wf/AA2V+lAGTY3F7fJX9La7aeO5+Jc8FX5HRk42smkM3Hg9VbPfz5dKuRVZ+hY1JzaVt4d+6abRVf8ADZX6UdN7ZntmkZ6+lUJefbNl/pQBKMO8bRqGPAXTSJOfLozml5+hQyyFocSS21kpJ9yMjyRiBZOw/aVMIylaMU1zPnymy/0oxv6nbszJZuNaHwGVn3NTFUntH9KXyAFjh8OutMNLeecS222k1LWo8JSku5mZn5EICibD9r9PMlU2yK5CMvLwl6VxjHzcJhDW9V9KbUtdi2Nuun9TuaGjWGrlErp1C6qtU1N0CAy5JnpYVLkPeHN5BtxTNBJJRSi5Z4pNPps7f3VWjSbwt233JLMn6EmzWT4Vk2uHrTqnrLIcc232rQk2qxINj6uLrU94CepCjS6VOhMGl6Wgj7E+pxlpRpWSDWRchqMPazuLoWodZ1OtLdTR6JVLiU25WYMXT5PvbUFoIkpcWwucri5xIkm6gyWZF3UffNnqbTafR6dFpFJgsQoMFlEaNGYbJtplpCSShCEl2SlKSIiIuxEQ7I98dXlauULKEYwaw8xjNtfGck99k9klndJGvV8XvmVl1F0A3c6gw5UBe8mDRoEpPF2n0SwygJcT60FKKcuS2R+RmhwjxkYu1Ly1Z2jW3T7Z1W0ptZellHQbKblsIpBpo7Jqz1p0F81PKI1KWt19ClY7qVyUrAtcPh5lqQ0uPIaQ604k0LQtJKSpJlgyMj8yMvUNo61UnTVvc04yp5zhRjB55ZTgl5WOTkpeKa2HVpPKe5xQJ8GqwY1Upc1iZDmNIkR5DDhONPNLIlJWhSckpJkZGRkeDI8jsCvG2aoqsO+9SNsrvJNNsiot1O0yV5Jok5CXyioMzNSkxXXTaI1dySttJZJORYceC+tfcdd008rZp98ZJOL9TWV2PY2jLiWQAAPIbAAAABWrf2yp7RqlccmaLkjGREWTUZxpJY/GLKiGN2FmV+9dLmIdt0N+rzIFZiTziMERuONo5JXxI/Xhf5fmHQdFa8LbWrarUeEprd7L1soelFCdzo9xSgstxey3fqJdpcJNNpkSnI48YrDbBcfLCUkXb6B2hWyr7rdSqY4pBbWbzMiIjI3jeQXnjzTGUX4xr7u8vVRx7pRdtlZSrJlwU7JWr5u0YvIeuHQ3Wrjy1CO/b1lP655Z9L9HoeQ5y2/m6n1S2YCp0bdnrvJd+0bZK28gzMiS3HmGr5skyf5BmoG5PcBMSa/sVK9j1c3n2D+hbGRip0N1WlvJQ+Vp/TIzT6X6XU965/J1Pqk836gnLFuNszMuVJmF6KTUf3FXkRdz+YVs287j9GtONGrbtK5bglQ6nGbkKdZKlyV81OSHHC4qSg0q7LIskY2+brbrPWKJMp7+2G5IjkyM6yS0VFt0m+aDIlYU2nOM+XYb1t0tKs2Nora9sXBFXGqMWO65IYWZGppTrzjvE8GfciWRYz2x6vIeqNvS0rSalDU48XFUg1GFWGdozTeUqmyylyXPmeWVxV1TVadbTpcPDTmnKdKeN5QaWG6e7w3zfLkaZt3rMa6dT9WruosScmh1eXSXYMiTFcYJ5SY7iXcJWRH2VjPyKSJ7ABzep3sdQuXXjHhWIxSznaMVFZeFltLL2W50Wm2crC3VGUuJ5k28Y3lJyeFl4SzhbsAACvPeB8rQlxCm1llKiNJl7SMfQACtu0C6rPtTRKPAuC7qNTn26nNNbcya0wtJE5julaiMvg5Gt7dLttZO5TVYzuOmmVcqBpphlKQZTT67h/aTI/tnbv6Oewm2Rtw0MlyHZT+mNFU48tTizJoyyozyfYjwXf2CGtCtK7Mpu5TUuKVuxkN2w/Dfo6DSZeDN1KlkaO/btgu+ew+kwv8AS9RpapdRdRSqQ4mmo7ZqRxjd58prPLbPafOp2OpafV021koONOXCmnLfFOWc7LGyeOe/gbhqI9w3f6UNpNJmulVUlF6yLw75kf0p/KM9u4/1u94fuUT/AK2yNe1NNTO7jSF/BGS4FVbIs98+HeLP8YbDu4/1u94fuUT/AK2yK+iv+YaM13U/8+ZYVv4Dq68an+RAmAAAcMdqYi6rPtK+6I/bV72vSLhpEk0qep9VhNS4zppUSkmpp1KkqwZEZZLsZEY0H7E7ax+1p0q/gbTv0IlUABGtz7advV6RaVBunRKyalHocbwdMafocc0Q45HkmmiJGENkfkksEXsHfqeg2h1bt2l2hW9G7HqNDoZGVMpsy34j8WFksH0WltmlvPr4kWRHWqG4G/3tXWtvm3q0qNXrwiwUVW4KpXZDrVJoERZmTXW6JG4685gzS0k0njuZkXcupqZrJr9oftkvvVDUu3LIk3haiFOQTo65KqVPaNTZIdU04onmzI1qJSDWfweyjIwBKNf0J0Vups2bl0otOpte96KSTUqkMOIKGhfUQwSTTgkJWRKSkiwRlksDnoei+kNsO0V62tL7VpK7bN9VIVBpDDHgDeTxeNngkuBrIsKMu5+vIy1q3H78WRSLtq5x4fjaWxUJJ8+LTPNolr9JR9klk+5n5EPw7+sRNtxbyVetBKgTlNJi1U6kz4N83VEhskPcuCjWoySnBnkzIiyYA7Nz2pa97UWRbd5W3Sq9SJZEUiBU4bcqM8RHkubThGlWDIj7l5kNVk7ftDJVtRrMc0fs1FAhvrlR6WzRY7UVp5aFIW4lpCCSSlIWtJnjuSjI/MapVN6O1ehwlT6zrhbUFCalIpJokvKbe8Sw503k9JSSWaUr7G5x4evljuNI0w3QUyj1fXesa0akUqJa1kXWyzSJ0hTTbbdPfgsvMtNmgiN5SjUo0kXJajVgs9gBPlU02sGtWzT7MqtoUqVQqS5Fdg09yMk2Iy4ykqYNCPJPA0pNOPLA12Dtu2+UtqtMU3RGxoiLibWzViZoEVHjW1nlSHTJGVpM+/E+2e+MjZNO76pWplmUu+qHT6rDp9YZ8RFbqcNUWQbRmfFamlekklERKLPcyMjGxgDhhw4lPiMwIEZqPGjNpZZZaSSUNoSWEpSRdiIiIiIhzAAA0LXtvq6J3ynljFAmq8vYyo/zD42/f6iNjf7hRP8AoyHNrr/qLX1/9Xah/wBAsQjpnsq2yXlpza131zTFBVqr0eHNmzYNXnwXX31soNa1HHfR3M8mfzmL/P8AyHH89/oKLH/PM/zX+stQAglrZfozBIiolT1IpBF5FC1GryMfNylmPtzaRap9mNY9cWC9RI1PrKsfv3zFAXpOYCAXtn1IcMjb3C6+skR5MkajTjz28vSM/wD9kOjJ2VUqT8LcxuKQXsRqRLIvowALGAKzL2IWk+WJuv8ArrMTklYlXst0skeSP0mj9ZEOVOwjSNztU711JqRespVyrPPz8UJAFlBqmq17y9NNNbm1BhWtOuR23aZIqRUuC4hD8pLSDWpKTWZF2SRmeMqwR8UrVhJwuj3PDaq53qlmVypqyZ5k3XVUkZn55S3IQk/wkOle/uee2uZp9c1D0+0jtenXLUaRLiUmp1VMicmHLcZUlp4+q4s/RWZKyWTLGcHjBgRxrhu10J3H6Aq+tneTb1UbqUN+RRJzZxqjHQaVnyUyr4ScGnK0GpBcklyyZELzjzY1U2UfWI00pl71/UM7hqdHaiW9ToUCkt02nQIquotfFvm446s1EX2xSyUo1OKWSjNPD0nHR338RWf6db9Uc9Zfx3efoUf1gAAHOHQgAFWKnrluS1mvu7rU2v29Y9Kt2xag7RqpdN4rff8AG1JtJKcjxIsdSVJSgzSSnXDweTwXbuBZ/wB8af4/3q8dH8b0uv4bqp6vSzjnwznjntnGMjsDz3vDVXVCi74LRqGntk25qde1W0vVSqhFpNwoh0yHLal85TnXWlw0oSpOOBlz9JJesStt03gX/rvrxUdNZ+n0C16fbFvPruOK9I8TKjVpqaqOppl9CibcY4pMyPgRnkvLyAFshhXLztZm8GLAdrUdNwyYC6o1TzM+quIhaW1Ol2xxJakl5+sUKgbsd12tOu7Wj+jdxWHRVNz7op0qbNpy5EUo0GWyhmU2RKUtb6W3CLjyJtSjMzIu2IgvbdpqzovuAo0zUG47ZuW8aAq4tPFXNU4q6ZTuJuQH2ZsliIhxRIQbpkaGyLJEWTLuYA9bgFNanuSqOjG3E7ztfVyka83hVKmg51UhvFIptI66iJby40BK32oTBERcEpNwzMiMyNXbYdou4269W74uiz7w1Qti5pdOgRqi3Cpll1egvQ0uKMjM/HlhxlXo8T7LPueMAC1IAAACGd4n+tyu7/gH/X44mYQzvE/1uV3f8A/6/HF10b/jq0/paf8AjRT9Iv4nu/6Kp/hZvOkf+pRZf/1ep3/Vmxto1DR5tLOkdkMpMzJFuU1JZ88FFbG3jw6h/C6v6UvnZ7bD+CUv0Y/MgAAPGesAAAAAAAAAAAqp7oQfh7O0vrZeduagouTPxfe2h1edy/B4bP4BasV23m0IrqodkWsaOZVap3FDNPt6tnV9vH8cTPpzXTujT217mNfM6vRoU81e3qsIXn+MANiAAAAAAAAAAAAAAAAAAAAAAAAAAAAAAAAAAAAAAAAAAAAEEzqiup746PQ31JWzb2lk6oMIPzQ7NqsZpSy/3sIi/CJ2EARTJO/ipJPOV6QQTT27ejWpWe/++SLTTEvx0u1U5e3C+Zs0n2ecn8AAVZuAAABV64VfUxv1oVTaUtKblt6JSFmWTIzeYqz7mT8iLNGh4L2meCyas2hFXdYTeb3jaYNIbRxmJhmlXM+XJlqsGZccYxwdX3z+AWiF1q+8LaffTj7G0R0+b84AAFKSAAAAAAAAAAAAAAAAAAAAAAAAAAAAAAEP3bt9l1u/6vqDbGqVxWrNrjUdqc3Tib4umy2SEGZn3+CRdjz3z7cCYAHsstQuNOnKdvLDksPZNNZTw001zSfoPHeWFvqEFC4jlJ5W7TTw1lNNPk2vSU11E0Vuila3aaUSZrXdsyRXU1JuPVnn8SYBsskoyZUR9ufMkn38jE1btEK+x1u9BZWZMRMnjueJbOTDXOydQqzddh35p1SabVJ1oyZzjkSbK6BOJkNIQWFewuJ57+wRdr/ee4SfpFctOvHRmmUujvMtJk1GNX2Xjjp6yDJXTzyXlRJT29uR3tnWr63caXXdWm3Ta4k5U4Sz1ze0fJbzHhwkvNu2cPd0aOjW+pUVTnionwtRnNY6pLeW6WJcWW359ki2IDXNOrtcvyxqHeblMKnnWYTcwopP9bpEsskXPinl2x6iGxj51Wozt6kqVRYlFtPzrZ8j6BRqwr041abzGSTXme6AAAjJClLVyXttQ3N6rXZeOj99XjZ+qcqBU6XXrRo6qquE4wx0lRZTSD6jZF24ngyPPbPfGL3MX9uM3CaAahMWvt+q1p2GugP8U3NGX9UtZfyXTbi05hSlR0ksiUanTUpSSwSCzkr1AAPLTVnZc5o/oNppfOkVJvV7VC5HIFBuuW1OmyHZsSfFWiQzIYNRoQ0lSkl8AiTxTnuWRwX5qDeFe2OUba5p7tU1kVcFEpdObq8uTaz0eHBfivtuPLS53U8tS0KNKUJyZKz6jIeqQADz222bdqVH2ra0Vq5tG2kX7WJ91tNSqjRMVJ9oyX0EtKcR1OCs5SSOxmee59xAu3XaruMu7VaXq5QbDs2Sq2KdbiY9N1Lg1BuDKk+9UYlvME2nBvtGjiSlJUSVH6jIewYACMNHrv15uGXVKZrRozSLOKnoa8JUqVcyKnGqalZ58Guk26yScF8Mu+e2RJ4AAAAAA0XXdSU6K30ajIi+p6eXf2mwsdnRptTOkFjMqMjNFt0xJ48slFbGM3EPJY0NvdasYOiyEdzx3Unj+cZ/TNnw+nFqMYSXTokFGE+XZhBdhdy20WPjVfsgv2lMt9ZfhSXtm/2GygACkLkAA4pMliHGdlyXCbZYQpxxZ+SUpLJn9BADlAVtpu7HUi6LapN42VtD1GqVGr0CPVKbLfqFLbJ+K+2lxpzi1IdWnkhSTwZEZZwZEfYY+bua3OuIUVG2Y1E3P1pTrida/kQVp/jAC0QCpydwG+CUskQ9mLPJRGZF9U8bGO3mp9TJevyPBn6i7GM/TtVt8LpEqXtOtgsH3S9fkeOZ/wDFofIvxgDvb521L0JdURlhurRFH83pl+cWBadafaQ+w4lxtxJLQtB5SpJ9yMjLzIUi3Xak7kqto1UoN5bVU0aE3LiOnUYN8wZ7TSuqSS5IUhlzBmrGSSeM+QulQ0pTRKelKSIiitEREXYi4EL+6qRnoltHfMalXseN1T7eT5cly7eaKK1hKGtXMtsSp0u1Z2dTs5rn28+zkzvAACgL0CC722Ubd7/uCtXFXrVqzLlzL6tciUu46jTodUcxjnIjxn0NrUZeasZP15E6AAIqsDa7oTpXdkC89OtPYFvVGm0l2ix/AmttoozjiXHOTeeK3FKSnLisrPBFkabdGwXa9eFdn3LW7HqJ1KqzZk6dIi3BPiqkqlGk321my8nLSjQR8PgkecYyebDgAId002jbf9Hrph3hprYaaFUIDMtiOTE2QpptEkmusRNrWpPpdBs/LsZGZeZ579G2zaO0HVOVrJT7bdK6Jj06Q5IcmOrb6ktDKJCiaNXAuSY7ZeXbvjGTEpgANKf0Z0zJ+q1Sh2bSbdrlXguU9+vUSCzCqiWV+ZIlNoJwjI8KLvjJEeB19JND9NtEaVMptgUNcd6qP+KqlSmSnZk+pSPW7JkvKU46rufmeCz2Ii7DfQAAAAABCe8uZEjbdrmZkymWnJbkBmOhaySp1wpjKzSgj+ErghasF3wlR+RGJsFct+TBvaIx3CI/tFdiuef+1vJ/nDoOilNVdctIt/8AUi/U0/oKHpRUdLRbqSX/AE5L1rH0kxaTIU3pXZraywpNv05Jl7DKM2NrGvadsHF0/tmMZHlmjwm+55PswghsIqb2XFc1Jd8n87LWyjw21NfFXzAAAeU9IAAAAAAAAAABE+sDTUrU7RSI8gltquqpqWk/I0/U9VEmX8ccu1d513bVpe0+s1uxLSpcJ1R+alsRkNKM/lygx86oenrHoy18Ss1d76KPKT/hA2vehojQ4n9hSqpBIvYTFRktY/iACVQAAAAAAAAAAAAAAAAAAAAAAAAAAAAAAAAAAAAAAAAAAABW/Ua7rJ0o3g0C+9RLvo9s0it6aVKlNTKrNbitOyY1Uhuk0lSzIlL4SVKJJd8EZ+oxZAcEuDBnoJudDYkJLuSXWyWRfSPZZXMbao3UTcZJxaTw9134fJ78jWUeJbEKzt7202nrNt7Xa2HFERniM8uR2L9zSrI4Ps5NsJkSmdQ5sgjzg41s1Z4jwRn5ojH6iM/wCcItPgQSNMKFHjkfmTTaUZ+ghX7fTrXP0g0TXTLZOaq69QJyLRoRU5px6aw7KQsnJTDTX2xxxpolqQSfN3pFn0hP1umfmqnykfsjGJ969X+5mj3m6AcDcTW7rWkvWiw68r8kIdVzfLtljq4zr4q8H5Zto1mMRfObkRJEIu9zc1op15WbculMKHcsWl2nNOpWedxMLbnSbXmuuqhqUpRqJ3prQ81zSpScJQRYIsC5QKrpvbSn8pH7IYn3r1f7lRmtQ9MNed4mlle0svem3IzblBrdSqKYjqjVE4NeGaN1tREpHI6ksiMyLODx5C3Ig3dbrbe2k9s0S3dH7ehXDqVelQODbtLlnhlTbKetMkOeknCG2En35ESVONmZGkjI5F0m1Lt3WPTW3NULUdNVLuSntTmUqMjWypRYWyvHbm2slIV/bIMR315C66uNOLjGEeFZeXzlLmlH4XcZjHhzntNtAAHgNgA6zFSp0pwmo0+M8tSeZJbdSozT7cEfl8o7IAAAAAAAAAAAAAOhPr1DpUyBTqpWYMOXVXVMQGJEhDbkt1KTWaGkqMjcUSUqUZJyeCM/Ih3wAAAAAAAAAAAAAAAARbuggTqnoNd8Kmwn5chyK0aGWGzcWoifbM8JLJngiMz+QjEpAPVY3TsbqldJZcJRljvw08ew8t9bK9tals3hTi457sprJXuwtyOmVo2Rb1qzYF1Mu0elRIS+VvyCJSm2koMywR+tJjNnu50eQ4Tb7twsmZZy5Q5Jdv3uRNIC0q32lV6kqlS2nmTbf41c3/6ytpWOqUacacLiGEkl+KfJf+whVzeBocyri7W6sgzLOFUWUR4/eD9+zD0CS11XrsmtEXnzo8wsfh6WBNIDT3To38nqfKx+xN/c+r/yin8lL7UhRG8rbqpRJVfbqCP9cqkzMF9DQ5fsxNuX7Iv/AJon/oBMw4VQ4ilGpUVkzM8mZoLJmHX6K/8At6vy0PsTHUayv+vS+Sl9sRAjeDtzcUSE6jJIz+NSpxF9Js4HL9lxt3/ZIY/ufL/RCWfBQ/7EZ/4sh8OUumPY61Oirx5cmUnj8Qddov5ir8rD7Ez1Os/nqXyU/tiKfsuNu/7JDH9z5f6IPsuNu/7JDH9z5f6ISn7y0b/4phf8Qj/EP1NGpCVEpNKhkZHkjJhOSP6A67RPzNX5WH2JjqdZ/PUvk5/akV/Zcbd/2SGP7ny/0Q+XN3u3VpPJWo7ZlnHo0yao/oJkS34KH/YjP/FkP1MOIlRKTFZIyPJGSCyRjHXaL+Yq/Kw+xM9TrH56l8lL7Yh5W8XbkSTMtQzUZF5FSJ2T/vI/fsvNCldmLjqT6vWluiTDMi9vdoTMAe6NGXK3qfLR+xRnqNXfOvT+Sl9sysGte4ixb+0ruK0LPhXJOqdWjeGipTRJBJWfNOe5p8sEfyixlsw3afbdKgPkZORoLDKyMsHyS2kj7H5eQyYCO9v7etbQtbWk4RjKUt5cTbaivgxxhR9pvZ2NxRuJ3VzUU5Sio7R4UknJ/ClnOQAAKktQND17rKrd0L1GuBC+KqZaVXmEr2G3DdXn+KN8ER7uHultl1KZz2m27LgH8pSE9HH4epgAd/bAwcXbTpLFMsGzY1Bb+iAyQk0aDt/b6Wg+m7XxLRo6fohtDfgAAAAES7raPNrugF2U+nQH5kk24rrbTDZrcPpymVqMiIjPslJmePURjXWd3+lFGpsaNOgXU26wy224lVGcTgyLB/CMvWWBPgC7tNStYWkbO8ouajKUlifD75RTT8mXwUUt1p11O7ld2lZQcoxi8w4veuTT99H4TK9K30aGpUaVKuEjI8GR04skf78fn2dOhfx7g/ueX+WJ/kQocvHiojL2PLqNkrH0jHSbNtCYZnLtWjvmrzNyC0rPfPrT7R64XnR9+/tKi81VP9Wjyzs9eXvLqm//AFNfrGQj9nToX8e4P7nl/ljlRvk0HUklKm1tBn+tVTjyX0GJXc0o0teVyd01tVZkWMqo0Yzx+8HXVovo6pRqVpNZpmZ5MzoMXJn+8E/urou+dvWX/sj9Uh9zdJlyuKX9iX1iN0b29AV8eVdqaM4zypjvo/Pgj/EOy3vQ29LVhV3ymyx5qpUrH4kGN4VoXoupRqPSe0smee1HjkX8kcKtANEVKNR6VWxkzz2prRF+QOu6Kv8A6Vdf14fVHU9J1/1aD/qz+sayzvB26PYItREpPGTJdLmpx8mTZwO6zuq2+v44alwCyWfTjyEflbL6Blk7fND0ZxpXbXpHk8wEH+Uu3zDmb0F0UaTxTpTaplnPpUplR/jSIpy6MfkRr/2qf1SWEekv5UqH9mp9Y6Le5PQhxXFOqFDI8Z9J40/lIdlO4LRBSSUWqls4Ms96g2R/RkdtvRHRlpPFOk1nGWc+lQ4yj/GgczWjmkTOejpXZ7efPjQ4pZ/iDzSeg/kqt64fsPRFa5+U6Xqn+0xb24jQ1guS9U7dMsGfoTUrPt97kY6Tul0AikZu6mU1XHz6bTznqz+tQeRtidK9MEqJSdOLXIyTxIyo8fJJ9nwPIcremunLKuTVgW2gzLGU0pgjx+9GsZ6GvfQqv+tBf6GbSjrb97Okv6s3/qRHz+8LbqwXfUMnDxnDdLmqz+Ho4/GIm3E6+6YayaVVOzbCl1eq1hb8R+OyzSX8KUl5OSMzT6PoczL2mWPWLTxrPtKGRFDtakMER5LpwWk4P8CRlUIQ2kkNoSlJeRJLBEPXZ6ppGm3NO6tqFRzg1JcVWOMp53SpcvT6TyXem6tqNvO1ua9NRmnF8NOWcNY2bqc/QdC3Iq4NvUuC4g0KjwmGlJPOUmlBFjv39QyIAOZnJzk5PtOkhFQiorsAAA1NgAAAAAAAAAACKtRfT100ia+KqvPfRCJP88Ns/o6XPs/1i77vYL/xdxVBH80L69PcJpU18WmXI99CIaf54/NtKs6dVhPxL/vpP0XTUwBKwAAAAAAAAAAAAAAAAAAAAAAAAAAAAAAAAAAAAAAAAAAAAAAADXdRJ/vVYFy1csEqBR5slKvimhhZ5L6BsQ0bXVxTWiOoTqPhItWrKL5yiOgCMth7L9H2702zJSzU7a9Sn0/J+ZNuPHKZT/vWpTaS+RJCwwg3a62mI7qbTW+zUa6KabZF6ictehuH/HWsTkAKY+6M7dLKvqxp2tNxVm5XqnRIlIt6FSmqopqmJak1qMTzpsoIlKdWl0kmZr4mTTR8eTaTKwugGg9r7c7CVpzZteuGp0n3xk1Jk63MRIdjqfUSltNmhCCS3z5KIsGfJazMzNRmNQ3wp6m22uN/1yt2yj6a9AL84ngAAAAB5laG6ObMqFsYtDUfVywKOu5q1BkLiSIi3EV6pVHrOJZbhG2snlvGZIJKW+xYIzLBGJV0U1Q3dVKj0PbpbEC3o962Xa0CoXfcd8LkzDjrlGs4sRLUdSVPSCZSnm4pwiyR9jPznzR/Z9tu0InJq+meldMgVRBGlupSnHZ0xlJ5ylp6Sta2knk8pQaSP1kOzqbtW0T1cuN27Lyt2pe+sqKiBNkUuvT6Yc6MgzNDUgorzZPJTyVjmRmWTIjwAK+2bvN3Aap1ZWh2mWn9kztU6RLqDNwVyTNfTbUOJFknHKY22k/EO9VaVJS0SspNJ5UZDcrl10190zjaf2Nd1U0xr9/XLf0Wg1JFIN9LUejuk4snjYU71GnjS2rBmZpzjsY3yubLtuVYj0NmBYbltuW7DXTqfJtmqS6PIbiLVzWytyI4hTiFLM1GSzV6RmecmZnjk7CtpzNnzLKhaRw4kWdKanPzWZ0r3zVIbWa0O+ONw5PIlKUf3THpH2wYAiDdvvV1d0V1yh6TaY27bNfemRqM7GhyUuE+6/LlPMKYW4lzCCPDKknxyRcjPJH24aduO32VrUW8NDysrR2n3LY9KRXaxcCFVKRTCjPNc2I7LBrS4bxmSiNal8fQUfEuxHL1B2AbU7ZrdLuWi6bvs1ekzmqk3OXW57r78lt0nUOPLW8ZumSyI/SyXq8uwlKnaO6f0u7rwvqHR3E1m+40eJXH1SnVFIZZbU22lKTVxbIkqV8AiznPmAKCWt7oFuq1ufiMaSaYSvD0SgQpVeqFGtE6ww/VnmEumwfXnxkxmMKIuzjjnYzwZDcLI1v3ya/6mytP7Quyw9PfDWbSavW3XKciqqpkt5byVnDJK1IdUo0FyQ84tKOOM8s5md/3OLaQ/FZgp0/qceKmI1BksRbkqUducy2Rk2mSTb6esaSPiSleljBZ7EJW0/0A0k0suGTcun1nxqHKl0iJQ1txFrSwUOMpamkJazxIyNxZmoi5KM+5mAPP25tWN1Gp8/blec2l2DOkwr4m0em1OTLkRDqVVZRJjuqlMMtKJhpSWlqI2uR5Mi4kQ3C5d+mtsOvVVq7a5Z+lbVsVRumTKbU7FuKquSVpWlCnnJbTaWWWHVGZtceSzSaTPuYuBF2yaRQqbalJh0SUzGsu437qo6SmuGbM95TqnFGZmZqQZvueifYsljyHZunbvpnfepFP1OvmHUrhn0bpOUqnVGpPPUqnvoziQzCNXRJ48/dFJUZYLGDAEjQpCZcNiWhRKS80lwlERkRkZEecH3Lz9fccwAAAAAAAAAAAAAAAAAAAAAAAAAAAAAAAAAAAAAAAAAAAAAAAAAACFd5bvS243SWfuz9Kj/gcqUVH84TUIM3rmZbc65j9dWLcT9Ncgl+cAb7ocnhorp+j4trUov8AmjY3YaZor20bsMv/AJs0v/qrY3MAAAAAAAAAAAAAAAAAAAAAAAAAAAAAAAAAAAAAAAAAAAAAAAAAAAAEU3ialblNMWyIjIrZutw8n5YdpJfzh+7akknTurqLyXf18r+m6KmYXX33NabJ9ln3ar/nVEL84/ds/paWuvf1+7Ltf/f3DUF/zgBKgAAAAAAAAAAAAAAAAAAAAAAAAAAAAAAAAAAAAAAAAAAAAAAADTNamClaN35FUklE9bNUbMj9eYrhDcxr+oVNKsWDctIVyxOo8yMfBRpV6bK09jLuR9/Mu4AibaetD7Oo01siJD9x0jgRFgiJNpUFOC/CRieRXDYlLTVNJKlXUKUpNSqkV1KlKNRmSKNTWe5n3P7j5mLHgCDd6SOrt+ntf1y5bTR9Nw04vzichC279vraJGzjPUu+zUfTctNITSAAAAAAAAAAAAAAAAAAAAAAAAAAAAAAAAAAAAAAAAAAAAAAAAAAAAAAAAAAAAAAAAAAAAAAAAAAAIN3rNm7tzrqUqNJlV7dVksZLFbgn6/mE5CFt4zfV2919OP/AOI0NX0VeGf5gBumiSuWjFgq9tsUo/8AmjY3UaJoI51dC9Onfj2nSFfTDaG9gAAAAAAAAAAAAAAAAAAAAAAAAAAAAAAAAiquaGaaagVSdXVXZe7jy5bqZKaZqDWGo7T6cpW2llqUTTJpPsaEJTjywXch6banQqN+6JOMe9RUvnlH5zDbXIlUBhbOtOmWNbcO1qPJqT8OD1Om5UZ702Qrm4pZ83nlKcX3UeOSjwWC8iIQ5e+yrSW/blqF01mr3a1Lqb8h99uPVSJnLx5cSlC0KJKTPB4LywQ9FrQsataUbis4QXJqHE351xLHrZrJyS2RPo+HHWmU8nXEoL2qMiIa7pvYNH0vsqmWHb8mY/TqShxuOuYtK3jSpxS8KNKUkeDWZF2LsRZyfcRXemzfTK9ruq95zZrsWdWXevIJNt27K9I8Gf2yXTXnVkZpI8OLV38sYTjNtb2VWvOFau4wWeGXA3nfbKT2yt+3uDckspbk7NPNPtk6w6hxB5wpCiMjx28yGBqGodgUmQqJVb5t+G+hxTSmpFTYbWlZZykyUojIyweS8+xjksa0otiWnTbQhTnZkels9Bp52LEjKNHIzIulEZZYQREfEibaSWCLsZ5M41unbg1cFzzLlgXmxSjmSly1R0WhQ5BJUpJ8jJ16Ip5SlKM1KUtajMzV5EfZaULKpWnC4q8MVnDw9/VFtZ58hJyS2RLtMqlMrUFqp0eoxZ8N8jNqRGeS604RGZGaVJMyPuRl2P1DUqzrjorbtQlUm4NYLJpk6Cs25UaZcERh1hRHg0rQtwjSeTIsGReYzdlW49aNswrekVT3xcidTMnwTETqcnFLL7UwhDacErHopLOMn3MzGn1/TXUafXpFVoGrEWkRXZCnkRDtaHINsjSZY6qjJajyeTUfc+/tC2o2Uq84Vp4gs4eWs77coSe674r6A3LCwvv6zfqJXaJc1Ji1626zBq1Mmo6sabBkIfYfR8ZDiDNKi7H3Ixpdc3CaIW3V5FAruqVuw6lEeVHkRHJqeqy4nOUrSXdJ9vXj1e0ht1s0+t0qhxoFxV1FZqDXPrTkw0xSdytRp+1JMyThJpT2Pvxz6xqFdtPWmZWH5dvaxUim05T6nGYci00ylIbMjw2p0pKOWDMjzxI+xZ9eVrSs5V5xryxBZw8tZ323VOTe3fGPo5CTljb7+01x64qJdu4fTCv25UWp9NmWNeLkeS0ZmhxKZ9BSZkZ+ZZz3GnaA6/6SWtpfS6LXrs8PUXKpV1rYTAlOmTjtQlPYyhsy+CZn5jdEtVqBuE03pd0VCFWKsmw7wceqTENcQlYqVAwlDPVWlJGlaSPJqPLZGRpI1Een7c7f1unaGWRU7Z1RtSnUyfR2J0WLMs96W62l4uphbqZ7ROd1meSQnzLzwec2tOylXnGvLEFnD4mu3bdU5N+mMfRyEnLCx9/aWBt24aPddGjXBQJZyYEwlKZdNpbZqIlGk/RWRKLuRl3IvIabW9fdMLfq8ih1Oo1rxkZ9cZxEe26nISbqc8kpW1HUheMH8EzLsY3O3o9fiUaNHuirQqnVEJMpMuFBVDYdVyPBoZU66aCxgsG4ruRnnvgtVr1G1zkVeY/bGo1iwKWsy8HGqFmS5j7Jds9R5FUZS5+u8m0eZeeDzi2p2Uq8415Yhvh8TXbtuqcm9vix9HINyxt9/abXQa7Tbmo8Wu0hb64cxHNo34zsdzGTL0m3UpWg8kfZSSMadWddbAoVVl0Wexdy5MJ1TLvhbLrMppS0ngyQ6zFUhz50KUWCM/IhuFvMXFGo0Zi7KnTqjVkJPxMqnQFwo7h8jwaGXHnlILjgjI3FZMjPJZwWp3DS9d36xKetS+rDg0pai8NHqFpzJUhpOCzzebqLSXDM8+TaMEZF3xk8W1OzlXnGtLEN8Pia7e/q5N7fFj6OQbljb7+026hVuDcdIi1ymplpizEdRopcJ6I8RZx6bLyUONn28lJI/kGn1fW+yqJVJtImUm+3H6e4bbyodg16WypRGRH03mYam3Syfm2pRGWTI8EZjbLcZuSPRYzN3VKmz6ukleJkU2E5EjOHyPjwZcddUjCeJHlxWTIz7EeC1S4abrw/WZLtqXpYUKkqWXh49QtiZKkNp4lnm63PaSszVk+zacEeO+MmtqVpKvONaXkrOHxNdvf1cm9vix9HIScsbff2m30KtQ7ipEWt09mc1HmN9RtE6A/CfSX9uw+hDrZ/2q0kfyDT6xrdZ1Dqs2jzaHf7r8BZturh2BXZbCjIyLLbzMNTbpd/NtSiMsnnBGNsttm5I9FjM3fUaZOq6SV4mRTYbkSMv0j48GnHXVJwniR5cVkyM+xHgtUuCm68P1iS7a16WFCpS1l4ZioWxMlSG04L4bqJ7SVmZ58kJwR+vGTW1K0lXnGtLyVnD4mu3v6uTe3xV6OQk5Y2+/tNxotXi16kxazCZmtMTGiebRNhPQ30pPyJbDyUOtq9qVpJReshp9a1rs6gVWbRp1Gvx1+Ari6uFYFdmMKPJF9reYhradLuXdtSi8/YeNrtxm42KLGZu2oU2dVkkrxMinQ3IsZZ8j48GnHXVI9HiR5cVkyM+2cFqlepevD9Xlu2xfNhQqWtX9CsT7UmSpDScF90dRUWkuHnPkhGMl547ralaSrSjWl5K5Pia7e/q5N7fFX0BuWNvv7Tb6LV4lfpMWtQGprUeY0TraJsJ6G+lJ+pbD6EOtq9qVpSovWQ02r652NQ6pMo8+nXuqRBdUy6qNYlcksqUk8H03moim3S9ikKURl3I8dxt9vs3AxR4zN1VCnzqqlJlJkU+GuJHcVk8GhpbrqkFjHY3Fd8nn1Fqlco+usirTHra1EsOBTFq/oOPOsyZLfZLt90dRVGkuH8LybR5l7O61p2cq0415YiuT4mu3vVOTe3xY/QJOWNvv7TbaFW4Nx0iLXKaiYmLMR1G0zIT0R4izj02X0ocbPt5LSR/INLrWvOndv1aTRan9VKZUR5Udw2bPrD7SlpzkkOtxVNuF2PuhRkZFkjG5W+xcEajRmLqqlPqNVQkykyqfBXCjuKyeDQyt55SCxgsG4ruRnnvgtTuCg64S6xKftjU2zqbS1qI4sWZZsiW+2WCyS3k1FpK++TIybR5kXfBma1p2cq8415Yhvh8TXb3qnJvb4sfRyEnLG339pt1DrVPuOkRa5SlvKiTGycaN+O5Hcx7FNupStB+1KkkZeshpFY3B6WUCrP0Sq1arsy40lyItKbcqTiDdRy5ElaY5oWXoqPKTMjIskZkNztuNcUOixo12ViDVKqgleIlwYCoTDpmozTxZU66aMJNJHlxWTIz7ZwWp3FbWtM2syJNs6rW9S6WpZKYiSrSXLebTxwaVPFMbJfpZMjJCcFgjzgzPNrTspV5xryxBZw+Jrt23VOTfpjH0chJyxt9/abZblx0i7KLGuGhSHH4MslG0tyO4wo+KjSeUOJStPdJl3IhplX3DaP0KqyaLV7v8NMiSXIjzaqfKMkuoNRKTyJvieDSruR4PHYxuVtQ7hgUSNEuqtxavVEc+vMiwThtO5WZp4sm45wwk0pP0zyZGfbOC1W4rU1fqFafl25q7TqRTVrJTMJy2ESltp44NJum+nl6WTzxL1F38zzbU7KVeca8sQWcPia7dt1Tk3t3xj6OQblhY+/tNvodcpdyUiLXaJLKTBmtk6w8SFJJaD9eFERl+EhpFX3FaH0CqyKHW9TaHCnRJLkR9h9/ipp5BmS0qyWCwaTLv2z85Dcrag12m0SNCuavN1mpN8+vObhlFS7lZmnDRKUScJNKfM88c+sancNmar1KsvzaFrSqjU9xzk1BTbsV820ccceos8q798mXyDFrSspV5xryxFZw+Jrt71Tk36Yx9HIScsbff2m4UC4KJdVHi3BblTj1GmzUmuPKjr5NupIzLKT9ZZI+406q7hdA6DVJlErutth02oU51TEyLMuKIw7HcSripDiFuEaTJXYyMvPsNttqn1mlUSNAuG4VVyoNc+tPVFbjm9lZmn7W36KcJMk9vPjk+5iLdYHa/p/SanqPdG42rWpa8WS0TjMa2oczok+6lhllsvDuvOKU660ksEozM/IiPstaVlKvONeWILOHlrO/eqcm9u+MfRyEnLG339pLVIrFJuClxa5QapEqVOnMpkRZkR9LzD7SiylaFpM0qSZdyMjMjGsztZ9HqXUZFHqeq9mxJ8R1TEiK/XYrbzLiTwpC0KWSkqIyMjIyyWBFlB3NHChQqFRdJNc9Q3yRn36TYfvO1KJRmpKszvBtkWDIskkiPGfXkR5ff2U90XHMqls6FX5ChyHjdYjz6xYzKY+Sx6JqjzXMnk8mpaz9JXyYWtGznWnG4niK5PL338IN+tR+gScsbL7+st5SKxSK/TmaxQarDqUCSRmzKiPpeZcIjMjNK0maTwZGXY/MjGKkah2BEmKp0u+bfZlIeVHUw5U2EuJdTnkg0mrJKLirJeZYP2CCLRvjeRa9tw6F9itRamqISyOVO1Jp8d541LUrKm4lMbYSfpY9BCS7ZPJ5M4qvSydzF2XPLuKq7UZzCZcg5PhaPedoSW23DThakqnUgnVGozUozW6o8qPuRYIlrRsalecLio4wWcPDed9uzPsXo5CTkksIvNCnQqlFRNp0xiVHczweYcJaFYPB4UXY+5GX4BxuzKZIJyEudHM18mlIJ1PLODIyx7fPsK52Jq5qTpXZsG169tF1dWxT0ucXae7bk9w+bilnlEKSy3gjWZFwaI8EWSM8mcWXfH2z3/cNYvnUzSrWezHJ7nXm++ek5uxzVgiUanmqdJzky5Ga3T9LvnsWFtQsalecK9Zxgs4ko8Wd9tsrGVuG5JJpbkj+5qNyz2h2pOmoSl2VJnpMyUZ8uhJXFyefLvHP29iLuLRivuwSiSre2j2BTZVPlwjNqoSmmpUdTLnReqMl5pZoURGRKbcQsjwWUqI/Ix3L22X6J37d1QvWtw6s3UanIOVI8JLSyhThpwZ9kZ7+Z5M+/cYtqFjOvOFxWlGCziShxN77ZXFHGVvzeOQbklsjK7rCJWlEFo/6rfNkI/+89MEwivmtVj0TTbQu0LEtxUtVNg6hWW0x4p83ncLuiC4ZGs+5kRqMi9hEReoZy5NpWkt03LMuupyLwanTpjk50od11CK0TrnLlwbadSlBemfwSL6DPOtGlZSqzjWqyUFnhagm33ZXGsZXi8GW5Y2RM4DC2daVJsa24Vq0Nye5BgEsmlT5z0x8+S1LPm88pTi+6jxyUeCwRdiIhWzUe8avpfuCuak0WqXPJp9WtujVlUNdbefZjy3ZlVQ6tpuQ9xYStLLJcGiSj7UXol659P0z8JValKhL3qysrGVxJb77PDz292e01lPgSbLWgACpJAAAAAAAAAAAAAAAAAAAAAAAAAAAAAAAAAAAAAAAAAAAAAAAAAAAAAAAAAAAAAAAAAAAIe3cJUrQC4jSyp00SqSvinGTJNSjGfmZF5F7RMIindQRfY93u+flFpxSv8AinUOfzAB39tj3iNuulkjOerZVDX9MFkxI4ivaktStsGkRLPKm7GoTSvvkwWUn+MjEqAAAAAAAAAAAAAAAAAAAAAAAAAAAAAAACAdnUp6RbepSHj7s6pXPj0cdlyurn8PUyXyGXzifh1afVKbVmPE0qoxpjPI09SO8lxOSPBllJmWSMjL8A99C7dK0rW/DnjcXnu4c+HbnvRq45kn3HaABoGsWuul+glHpVf1TuRNGgVmqM0iI8plbhKkOZNPLgRmlJEkzUo+xEWTHgNjfwGBvC/bK0+tmRed8XTTKHQoqUreqE6SllhJK7J9JR4MzMyIiLuZn2GrvbhtHIumj2sM69G4dmx3UsuVaXDkMNEpS0oSZEtslGk1KSRLIjSeex4AEjAIPg719sVcpNwVa1NWKVcJ2zSJNcnxaXydkJiMERuLSgyLOMkXn5mQzE3dBo/C0UpW4Eq89Js6sqhtxZMeOa3epJeSyhCm/NKkuK4qI/g4PPkAJYAaXB1s0aqaVqp2rVmSibPivo16KvgfsPDnY/kMctX1f0roVozb+qmolutW7TjSiVU01FpyO2tWOKDWkzI1q5JwkvSPkWCPJADbwGkaZ6z6c6vt1Jywa1KmnSHUMzG5dKlwHWjWnkg+nKabWpKiIzStJGk/UZjdwBEN5yk07cxY9Sd+5xtOb0dV8yahbpn+QZLbDBOmbbNKKeojJUeyaGhefM1FBZ5H9ORpO4ape8mosGtcuPg9JdQXc+zi7RF/zBLWltO96NMrRpPHj4Kg0+Pj2cI6E/mAEObvN3Stq31J8dPyuf6qPH+dV8F4fw3Q/wBpc58uv8mOPrz2rr+q6O/tf0/wq/zMfXuuv/co/wDt3/sAoXblv06qQKhUqrU1wmIPTTyS1zypZmRZL2dhZWVk72SpwW7y93hYSbe7aXJE9paVr6t1FDGcN7tJYSbbbeEsJN7l8v1XR39r+n+FX+Zh+q6O/tf0/wAKv8zFNW9EK+/S/f8AZrVIVS+PPrHJInOPnnpfDMvlwNar9u0ynUiJVqVVlTW33lsLM2uBEpJZPHtIe6eh3FOnOpOGFHnuvDks5fNcu8sK3R/UralOtWhwqO7y45a2WUs5a3W6yty9/wCq6O/tf0/wq/zMP1XR39r+n+FX+ZikGl+kd+6yV1229PaIqp1Blg5C2iWlGGyPBnkxIde2Rbmrdpb9XnaYznI8ZBuO+GUl1aUkWTPik84IiFY6dJbMpMss5+q6O/tf0/wq/wAzD9V0d/a/p/hV/mY88FoW2tTbiTSpJmSiMsGR+wfIz1MO4cTPRH9V0d/a/p/hV/mYfqujv7X9P8Kv8zHnzSKa/WapEpMZSSemPoYbNR9iUoyIs/SN21x0VujQS+FWFd8mG/PTEamc4izUjgs1EXcy8/RMY6qnnGBxMuh+q6O/tf0/wq/zMP1XR39r+n+FX+ZjzuAZ6mHcOJnoj+q6O/tf0/wq/wAzD9V0d/a/p/hV/mY87hn6zYV527b1IuyuW3OhUevEtVMmvN8WpZJxyNB+vHIvpDqYdw4mXy/VdHf2v6f4Vf5mH6ro7+1/T/Cr/MxT6/8Ab5eWnWllm6tVqbS3aTeqecJqPIJbzZGjmnmn5U+ePgn2PBiLxhUqb5IcTPRH9V0d/a/p/hV/mYfqujv7X9P8Kv8AMx53CTLu246w2LYcPUu57Qfh29OJpTMs1pMjJ0soMyLuWS9odVTXYMsuL+q6O/tf0/wq/wAzD9V0d/a/p/hV/mYpbpRoVqdrY/Pjab26qquUxKFySJ1KOBKMyL4R9/IfGq2iGpOik2FTtR7fVS36i0b0dBuJXzQR4M/RP2h1VPOBlnvHAknNgx5ho4G+0h3jnOOREePxiFN4E84GnNrmR46mo1mkf+8rkR3/AAYmSh/6SU//AMFa/kEK+78HlsaT206h5bRt33QHuacZT05PUyWSMu3D1kY8RIWQAAAAAAAAAAAAAAEMbq3OFk2eg/6rqbY6f/vDBP8AMJnEHbtXOFqafoz901VslP0VqMf5hOIADS7q0b03vWvndNzW2UuqKhs09Ukpb7RnHaW6ttBk2tJGSVPumR4z6Z/IN0Hnj7ojrLqTpvrRRKVaV8XLRqfKtePIVHptUdjNKe8XKSpZpQtJGo0pQRnjySXsHR9FtJu9b1BWdlV6ubTectbLfGxDXqRpw4pLJ6HAADnCYAAAAAAAAAAAAAAAADoV2vUW2KPLuC4qpFptNgtm9JlSXSbaaQXrUo+xez5zIhtCEqklCCy3yQO+Ar1W9zFauWqvW5pJa78h5tXE5MinvTJWD8llAaUg2En6lTX4nqwlRGRjqlpTuA1BLq3hekujRne6mplVcNaS9afCUpUVpJewnJUks+fIuw6GPRypQip6jVjRXPD3njvUVz8VnK7URdan7xZLA1Wu0SgseJrlZg05n+uS5CGU/SoyIaZN3DaDU9amZWs9kk6n4TSK7GW4XzpSsz/ENCpGy7SpiR74XJJqVZmKwa3WiYphn8nVhttSFF+6PLPufcxvtL2+6I0lxEhjS63JElosIlToKJkhPzOv81/xhh0NAobSq1aj74xjFf3m37Bmq+xIwkndrtriK4SNZ7ZSr2FK5H+Igj7tttMlZIRrTa6DP1vTCaL6VkRCUafSaXSWuhSqbFhtl24R2Utp+hJEO2PNKto62jQq/Kw+bqfpM4qd69X+5ElQ3abbKc4bTms1tSVF6oMrxn/QEsdMt4u3RXwL/eWXtRQ6iovpJgTOARr6Ol5VCrn+lh9ixip3r1f7kNI3ibbVK4u6oRIvyy4MuORfhcaSRDYaXuM0ArSkIpmtdjvOOdkt+/8AFS4f+8UslfiEiDAXFYFh3eg27tsmg1tKvNNRprMkj/4xJjPW6NN46qrFd/WQl7Oqj84xU716v9zLQKlTqrGTMpc+NMjr+C7HdS4g/mUkzIdkQjWtm2gk+Yur29bEqz6spHBFQtme7T3Wy/tUJM2ix6jNB49QwErT/dLpKRztOtSy1JpDBFmiXOlPjjQRHnhJNSTddV2LK3WkF58VeRzw0vTbza0u+GXdVjwehSjKcfTJxRhznH30fVuWNARVpBuEtrVGfKtKoU2VbF6UxKlT7fqGUvIJJkSltKUlJuILknOUpURKQZpJK0GqVRU3tjcadWdC6g4yXY+7safJp9jWU+w3jJTWUAAB5DYAAAAAAAAAAAAAAAAAAAivdakz2xasupLKo9lVmQki9rcN1ZfjSJUEf7hYfvjoFqXT8Z8TZ9ZZx7eUJ0vzgDE7VMFtz09ZLyj0OPHL/wAWRo/miVhD+0V/xO3KynSPP9Cvp/eyXS/MJgAAAAAAAAAAAAAAAAAAAAAAAAAAAAAAAFX9jCZbNP1KblPtOKkXWqcZttGgjU5HbSZ4NR9j6ZfQfc/VaAdCmV+hVpTqKNWoE9Uckm6UaSh02yVnjy4meM4PGfPBiztb6VCyuLVQyqnBl/B4Xnu7eXNek0lHMlLuO+KJ7pNMtS93uvNR02sIrRTbmmtAdg1J+5mJTrJVSqsmXOO2zxJT7MckmlSlYQbucKPsL2D8JKSM1EkiNXmePMVhueSFu6k3LV6vYOne6nWZFvI03XXKciuVGgtOxKbccRTTUJDiVJNmQ4mJzfZW8kuRukeFGnv1tVtR7yuCla0zZmuN83jblk/Ui/SE3hTve2JIXJqDbi5DsJDDJqZ+1FwUSEmaDUZZIyMetkVqjyUvOQm4bqVPmp5TRIURvJ7GasfrywRd+5YHQh2bZbNcqV2QLZpCatWkMt1CoNRW+vMSzkmidcIsrJGTJOTPHqAHnxqRu4hXbolqTa9f3HaT3K7ULMqbEK3bKtWptqS6bJ4UqW884hKUpJWSUhJH27l5HG247Sm/9vGmVsWVYlOeqOkOqdWtuoKjKWpf1N1xLrC3EoIyP7TJ45JJ4IlkeD8iV6zvxo8phcWSw28y4nittxJKSpPsMj7GQOxoz7ZMvx23G0mSiStBGRGXkeD9gAo7Qtu+gNW383BaruiNgqoVF02gyjpJ23D8Gcx+YvL5sdPgbnFGOZlyx2yIcotQtHSfXyVVr7obVG0atfVytpkeFgGVNpNSTTobdLW8y0ni20jLhIPjxSo0n2wRj1EKLFRIVMKO0l9SSQp0kESzSXkRq88DE2tctn3xRl1y0arTqvTZLzzC5ERSXG3HW1m26lRl5qSpBpMj8jLAAjGyt0+n+q19RLV0YpVWviB6fvvc9NjcKPS0pSZpSqU7xS+4ozIibZ5mWTM8YE1D4aZaYbSyw0httBYShCSIiL2EReQ+jMkkalGRERZMz9QAq3vUecjIkuMq4vSNJdQ4LJ/7a6zTSR/GIhaCLHbhxWYjJYbYbS2kvkIsF+QVQ3mVamVh2w5NHqMWdErjFRobb8Z5LrbniptMZMiUkzI++S+chbQAednuuv8A3KP/ALd/7AKj6e02hUyw64q4fBqqFVXFVCjSneCSYSszcdP5cdiL5Rbn3XQ8HpOfs9/f+wCltu3jZlRuGJNvmivoSRE0uTCWSumnGCUTa/RPHngXel1oW/4yW7w9s4znKe+H/udR0TrWVtdyrXVRRnso8WeHEsqTeFJNpbKMsReXlrBJ7NqWuVFTRGa8tTb7By2bhKG4bLFPL7owfbJqJXbI0+9KZbdS08hRLdVDKoU6a88bUZzl14ppIkuGXmSix3IZty7JrVzxrTi3lLXSjpjsZE3oGTXQcVz5G35Yx5l5ZGlXRdtjU24nJdlUuTLUynpJmS1E2TqsYUvpo7YP1dxb1NTVeHV1cY4UsqT2W3Zvn2LbwPousVNOp2sqV1NRg/xbznOyTfDjjeY5Xk+9e2ZtJFgPcwG3Hdba400eFroD6UnnGDMywJq0G0I3E6Layu6mat6nQYNkxymOTEybgW+hxtWTQjg52LuZH27+jj1itWw/Vaw9LdVq5ceodxsUSFMoz7DTzjTikqdUeSSRISoyFf7muSqVWr1JR1ubJiPy3VoJb6zSpJrMyPBn7MDmpQcpPHI+HvCexaSp6ZaS656Va36nWHTHm7ptO45FWi9Jw0tu0hx01kZt+RYb6x9v60XtGtFoBaVM2sWVdNRpzr2omqNzpgUAjkGgmIXUJHM2/JRGaPheyQj2B7nzeTVG12TYVVZORRdQKZKoM9gyNSVZbUtCjSXn8FSO/YicUYzW9XUhq0terOsWzH1LpWisCm0+AlRkpJymibdWvt68JZQr5WjDdS4V5zHZk37VGwtoug1+25ofIs+4Jtz4hSXrmamFmNIcURJUpoy9NOU8zQWCwZFkY3ezFsObvcpkXUqJWJVvuUeEUpikJ5Sne7vFCC8+54I8d/YMlrfcO0nWi+qFuOc1ok0qWyxE98LXTTXFzHnWlZSgnMcWzLOFKwtOEkZfLmaruU0Ad3yN6lSriiz7bfttFNjVsorqkQJf2z0zQpHLtyIs8e3LI1Wee/IyYuFoNoXrrp5eH1IaI3hppXLTpi5sGZVidJqclBGZ8uSSJRmRdy8++RHWiGjOiFS2u3FrXqbRqrNk0KqpaNEGX0lvNZL7WWexGefhGJysHcBpXZlzXjbOou7WpXpEvCBKYhy1QJCqfSEr5cUmR8jNwyVguBEnBYPAge2tTtMre2a39pL9Wcd6vS66blOjdB1K5cdKyJLpejxSRkWcGeQXFy8w2MvrPpdt+rG3y0dy2mVn1Og09yvN0qqUd2XzU+0lSyXhXkSvtSvSLz5fIJP3V17QyJtS0pW9p1Vji1aiylWq03UCSdLdXHZMlvnj7b3Ugzxj4J+0QZVNVdP39gtG0mauVhV2xrpXOdpnTc6iWDW+fPlx4YwtP67PcbFqRqBohrJtMsC3ZOppUG7dNqU6wmiP051xdQf6bSCSlwi4JSfSyR5Pz7kWBnDys95gx+ruhNERoNt8m2ouoKrt+OJiOIkzluR0vPE0RdNtXotka19+I3TUK0dlG3+8GdCb9sW4axP8JGXVrnRN4qjOuIyakNl3xjCsF8bA1LVrXqyfrE7eIdlXHGqFz6fOtzKhB6ThHGdaS0pJKNSSSfpIx6JmNz1RPZ1uL1Bha9XRrm7b0eTDY9/LXcprypi3Wk46bbqexZIiLKSVnGSMjPs37c9oKz6YabUbUrcFSLAsmVLnUOdWUojyJDJIdOGlfI1uJyZEZJLuPQe55ta1vqWtWgUy2alFoFNo7CLZkPQXG2OrFRj7WpSSIzM/YfqFVdqWoWg+kepd/wCqDledgRaZBks2fCqDanZb6nMkkzNCTSR8Sx3MvhF3PuYzOk3ujetZ6mUU9T7qp7lpvTCRU0IpEdBoYVnJkptvn27eQTUpPbsMrCI02SzK1Rt0lm0dE6XES7UlsTI7bykJcNLbnorSR4Vgy8jGM3m1Spz9yl/Rp1RlSGYdakNR23XlLSyjl8FBGeEl8hCZtN5m2q3931c1Vd1nhUy3KVUPfaj8IMhaJpvJUS2j9Dkg0mrOTIRRvKd0qrmrVQvzS/Uhq6mbokPVCYhuI4yUJxS+zeVkRq7d84GyeZ58DHYey1qz4NTtqlz6bNYlxnobSm3mHCcbWXAu5KTkjL5hXf3RFbkbb2mpIMiKBX4ElSs4NJF1CyXY/WZDCbNvrfR9WdUaVoKtn62kKLR0rRT3jcpaLgNtw5hRDyaC+19DqE36PP5cjJ+6ZqWxs5vKcjCTjPU9RLPyQa5bbaTP19zcIuxH5kPCSItKA+W1k42lwiMiWRKIj+UfQAAAAAAAAAAAAgPeA+lqgaXNKJeX9XLNbLigzLJVNtXfHkXo+Z9vIvMyE+CAN4asUrSNH9c1ftEvom8vzCfwAEdakbeNGNXaxHuDUiwoVdqESMUNl6Q66k0MktSySRIWRfCWo84z3+YSKPOX3UHVfVrTzUWzIenmol0W1Fl0V52QilVR2M084T5kRqShRZURY7mXkZdz9XT9ENKvNZ1WFnYVupqSUsSy1jCy1mO+5DcTjThxSWUejQAA5gmAAAAAAAAAAAAAAACvdRtj7IfWO56Fedbfj2npjOhxI9vQZnRdnz3Yrcg5kpSDJxLRIeShokmWTS6fIvSSdhBUW3tH3dUdR9WdQrKveoWhfNGvd+nxqpEUa23ozdPhISxIaM8LbJxCjIjyWc8krIuI6nozGnD3TXnU6pxglGeG+CUpxWdt1lcS4km1nKWSGtnZYz4Fqbfty37TpTNCtiiQaTToxYaiwmEstI+ZKSIs/L6xkRXJGr+4/SvMbVrRx+7qYwR5rdofb3VJI8FmMRZWrHdS1FGQXqIyyZbdZ+7TQK8n1U9nUCFSKi0smXoVazAcadMiPp8ncNrV3LshavpHmuujuppSuIR66HNzpvrF5245a/rJPJmNWHLl59iXwHHHkR5bCJMV9t5l1JKQ42olJUR+RkZdjIcgoGmnhkoAAGAAAAAAAAABja7clu2tBVVLmr1OpEJHwpM+UiO0n51rMiL6RHFw7krHp1Lfq1tw6jcERgsrqTSEwqS37FKqMs24yk/uS3FexJmZEfutdNu77+D021nGcbZ8W9l6WaynGPNmu7uqNSresZGvcA2YF06cSYtThTyMkKkRyfSh6E4f65DrbjiCLzJS+3wlEqexQfdVU9adVtCrsvq7HU21Y1KREOnUWG04j35kuymW23XXHkoedYaJw3EmbbKVrShRNqShLir6tOE60h0v16SV9JDotdsJ2OkWka1RTmp1YvDzwJKlJQz4OUm0spOTWc5IqclKcsLu+nc+wABx5OAAAAAAAAAAAAAAAAAAAaxqhF8bpndsMyz16FPax99HWX5xs4xd0seJtirxjLPVgSEfS2ogBEWyR/xO1yxH855x5Z/89fE4iAdhThu7RdOXT/qkGSv6Zj5ifgAAAAAAAAAAAAAAAAAAAAAAAAAAAAAAfKyI0KIzwWDyfsHjXs7qkyrou6lSkbm7tXFlsxGWtOqi5BhtkT8wyRIfN5nijBp48lngzd7YIh7LDTdNbCsKwo9aKw+PSuWrSLjmmUs3ydkyVem4kzM8JM0Hgi7djwPTSryp0alNLaWN+7DyatZaZ5e7hGHrR1ktyya3ZV4s0OVZTdSqEO9LxrlTj264qc8Sp89dKfcW8kiNJYNxLaeREakl5XB0zboe1DaXdeo9O1kf1OivMv1imyWJSn4BSHEk2xCp6DddUlo3TQkkm4tRqUee54FjXdNrIfv4tUHbfZVc/vSqhnPNxeVQVOdQ2TRy4GXMs5NOfMs4MyEdQtm+3umVmp1Sl2U5BiViow6xLo0WoSGaUqoRnSdaklDQsmUuEpKc4SRKx3Ix5jYoLt11V1X2wzrksW59Lr4i0vUa15t1OzLr6VMdj1mPFccqL8dk1K6jSjU2ZN5S7hOeI+dLKtr7ofpnbm1WxV1WdJ1+odNq9pV1auSLfXJbL34yZGRkTaT6qMeRuZM89z9J9W9CNLtc4tIham2377MUSU5KiJKQ6wZG4ytlxBqbUlRoW24pKk5wfbI2uiWrbluUulUai0aLFh0OKmFTm0oz4VhKSQSEKPJkXFJF598dwB5OaaTkXNdVg6casWzqhqY9Z9DuS31QLQqT8eZIehVjpNvPrTKYMkE0ZFlTvbJefYWYv5uuaD6T2ZrvYdgX/YNE09uZci5LUrlxuVR6fRJfFmS+5iXJJRt5Q4glLyjgrBJz3mKt7E9stw3LJu2o2TVEVKXLmTXXYVy1OFl6UtK3zLw8hBkSlJSfEj45LsQ2mzNruhmn9rXJZtrWSpmlXdHXFrTcupzJzkxpSVJNKnZLrjhFhavJReeQBT77MHVW3q7cG66tVd+Zt/umdPtWiQiYWa6cuK0oolSIiI8IkSEPNq7F8JvPkWMHtNsu6dZmrf0KuvVO8rHoVqWXTruVTbXqqqXMrc6ruvvuPvvoLqKZaJSUkhOC5Hkz8hel/btpBK0TRt4k2k27YbcBFOTTFSHck0lXJJ9Xl1OZKLlz5cs98jG6g7UNv2qSKD9WmnjMh+2IiYFKmQ6hLp8uNGSniTJSIrrbqkEWfRUoy7meMgDz83YXHe+mlYjaJUy+r51aoVu3dSksRpNdl++z/jYMw3qVJlwUk++lBtNOkRJN0kr49+xia9o+nNt0axr51mtPWuDU2nbcmQXbNt2ZUPeyiOpbUs/EtVF5yWcsuODU6lo8Z9DBiztt7WNv9oUOgW7bemlPgQrYrKbhpvTefN1FSSk0lJceNZuPucVGRm6peSwR5wQ+bs2u6MXff5aoSrafptzOxX4M+fSJz0BVTjOtm2tqWllSUyE8T7GsjMjSnB9gB5RaMVur6qRdu1hXtrAwhii3NSYcKxKfT5NOeRBXNadVNkSXCSqV1Ut5I2VGhBpSZGSuw9tCIiIiL1DzF3Y3ntbtq59PNBK9ovfaImiVabcmoZgLVIdt9FNkPNuxJ7MjqdE3UMLNS3WjT0lmrj01Y9FdMrxh6h6d21fdOo9TpUO4KXGqUaHUySUtll1sltk6SVrLlxMjP0jPv375IAfd36caeag+E+r2wrduXwHU8J770tiZ4fnx59PqpVw5cEZxjPFOfIhrv2OG3j9gbTr+C8H9EJFAZy0DRC0E0LSyUdOi9iE0SDbJBW5D48T8046eMfIOr9jht4/YG06/gvB/RCRQDLJKlapVx1km8csvOCOvscNvH7A2nX8F4P6IPscNvH7A2nX8F4P6ISKAcT7yM1O2dI9KbLme+NnaY2nQZec9emUWNFc8jL4TaCPyMy+Yz9ox9T0D0KrVRk1es6LWHPnzXlyJMqTbkN1591R5Uta1NmpSjMzMzM8mZjfADLBHX2OG3j9gbTr+C8H9EH2OG3j9gbTr+C8H9EJFAOJ94I6+xw28fsDadfwXg/og+xw28fsDadfwXg/ohIoBxPvBHX2OG3j9gbTr+C8H9EH2OG3j9gbTr+C8H9EJFAOJ94I6+xw28fsDadfwXg/og+xw28fsDadfwXg/ohIoBxPvBHX2OG3j9gbTr+C8H9EB7b9vBkZfWG077/8AzXg/ohIoBxPvBGjW2bbozFKGjQiwDbJPAjXbsRS8ffm2ajP5c5H7G20bdYkduM1oRp+pDSSSk3bbhuLMi9qlNmpR/KZmYkoA4n3gxluWxbdn0ePb1o29TKJSohcY8GnRG40dovYhtsiSn8BCAvdFqb767MNTIvEj4RIUnv8A7VPjO5/iCyAgXfg009s/1VbdNRZt93hxWaT5808O5H8bHb1+R9jGATlT1c4EZXtZQf8AFIdgfLTaWm0NILCUJJJfMQ+gAAAAAAAAAAABXreMavDaLoSoi56yWsR5LOSJ11X5hYUV53iH6WhyPjayW3+IpJ/mFhgAEfalaA6PawT4dU1LsWFXpVPZOPGckOOkbTZq5GkiQoi7n3EgigHum2qWpmnVz2IzYd73Nb7E6BNVIKk1RyKh5aXGyLkSFp5GRK8zLyV29Y6Poppt3q+q07OxrdVUkpYkm1jEW3ut90sENecacHKSyi/4AA5wmAAAAAAAAAAAAAAACu+0uoNy7h1mR10KcXqBVJRoJRGpLapDrbZmXmWUsEZCxAp9tx1r0V06qt3Uu+dX7MtyZNOHUfD1m4osV41PrkunknnCUZ8HG1d++FpPyUWej0zh/BF9nn+KS/tt/QRT/fI+kuCNfurT2w75ZJi9LLoddQRYSVRp7Ujj8xrSeD+UvIaZ9lXte/bI6W/wxp36YPsq9r37ZHS3+GNO/TCipVKtCaqUm4yXasp+tEjw9mYle0XR6nuvy7GTc1izJCuTki17jmQcn+5E4bX8Tv68js/Wj1ooq2EWjubrbkVkiLw9zW9AqnP751lMZ0/wrz8o7v2Ve179sjpb/DGnfpg+yr2vftkdLf4Y079MLV6/qc/3+fWf0kY1PV1ilgj6uC5bebb5jroc3YUyerrRtJrjgpPtweqVGeWXzGmYkj/CY4i1N3Bw5XSqm2JUlkjwbtHvOBIyXtIpKY5/Tgd37Kva9+2R0t/hjTv0wfZV7Xv2yOlv8Mad+mGq1OnLeraU5PvxOPshOK9hnh7pP2HDUdVtY0nih7Xbof7ec+4qJGLP/i5bp/iHVbvfdFU2jKHoJadHWfwV1S9zdx86I8NX4lDIfZV7Xv2yOlv8Mad+mD7Kva9+2R0t/hjTv0wR1GhFY9xU89+a32uPYOF/Cfs/YYIom9KpOrKXVtH6LHWhSU+CZqMx5BmkyJXJ3gkzSZ5L0MZIs5LJHiFaC7h7gU59Wu6aa9Hc8o9KoyqapsvYl6JIZUfzmRn8o3T7Kva9+2R0t/hjTv0wfZV7Xv2yOlv8Mad+mHoh0huqP8GpU4PvVKDfoclJrzp5MdXF8236TVqDtCtemTvfapX3cM+f2/ooo1PbkF80s46pf9//ABiRKHotpvQqmzXveFyrVeOfJmp1ya/VZbSva29KW4pv5kGkvUREXYYT7Kva9+2R0t/hjTv0w2KytZtH9SZ79K061Ws66ZsVnxD8ai12LOdaa5EnmpDK1GlOVEWTLGTIvWPNda7qd3nrqssYxt5Ka8VHCZmNOEeSIq35mpe2+vREFlUlxBJL2qQlbqS+lshYNpBNNoaLyQkkl+AQTvNiOVDSmm01tBKOdctNhcTPBH11Kax6/wCuCeR6b2S/AdpBfDrP1qkvoMR/fJej6QAAOeJQAAAAAAAAAAAAAAAAAADgnt9aDIaP9e0tP0kY5x+KIlEaT9ZYAFf9gaTTs60tM/19GNz98+4r84sCIM2MxjibQNJGjLHK1obv79PP+cJzAAAAAAAAAAAAAAAAAAAAAAAAAAAAAAAFZ9qMeREqVBbkNLZW5o3ZnNtxBktKkv1QySefIy6hkfbz9nkLLmZERmZ4IvMx1Y9Vpct1piJUorzj8cpbSG3kqUtgzwTqSI+6DyWFF2Fla30qFpXtlHKqcO/dwtvu8fA0lHMk+47YAArTcjnU3V6oWHclCsu2tL7kvi4Lgp9RqkeHSJNPjJZiwnIjbzjrk2SwkvTnRySlHNR5UeCIho8rW7c8ajKm7J62pPqOZfdEZ+npuuDYbqc47rtNE/HsO8i/59bx/mEugCuh607yVJSprZHAIzIjMndUYCcH7PRjqHCrWPeyr4Gy+hN/Iep0Rf8A2ZIsiAAraWr29zPfZ5QCL/8AmJFP/BD5XrDveShSk7NaCsyIzJJajxCz8ndkWUAAVrPWPe6XYtmVD+ctSYh4/B0Sz9IfXs3tI7K2O0lz5U6qQU/iOMf5RZQAB57a9ad7pNedQLSvmtbL49OTRGfe6uQ2NQ6S/wDVBSymR5aILzq2UqbbJ2OeePc0vvJ7EsxPZa57wCIuexZ8+5Z4al0g+3r80kLHAAK9N657qv6vscrBfueoFEV+Vwh2m9cdyZl9u2S3Sk/7S9bfV+WUQnsABB6dbte+Jc9mF8EeSySbqtwyxnv/APDy9Wf/ANPMdlOtetB/D2dahF81xWyf/rITOAAh1OtOrx/D2gakF81dtg//AFoOVOs+qh/D2jaml81Ytc//AFsJdAAQ7M3B1+gvUtd67ddR7bptUrFNohVOXMt99iPInS2okc3Exqm68aTefbIzQ2oyIzPGCMTEIT3YSyj2hYsc18Tl6o2S0RZ+FiuRHMf3vP4BNgAAAAAAAAAAAAAAAAAAAAAAACre/wA1GtSHpFO0eU9PqFyXV4OUul0iE5Nlx6LGnMPVCc600RqQwiO08XIy9JeEpyecZHXPdPVKfc56HbeqIi7NS5ziofUUX+h9HcIkm4t5fktTSVpUsi9FrKeofNbTL267edvVO0TpVQq9brsm7NQLoWmXdN1T/Sk1B8vJtGfuUdvPFtpOEpIvLIAky27koN4UCn3Ta9Wi1SkVaM3LhTYzhLafZWWUrSovMjIxkhWS5rbujaLWZ2omldClVzSSqS1z7rs+KRrft51xXJ+qUtHczYPKlvQy7EeVt8S5kVhLSu22r7tunXhZ1bi1ei1VgpEObFXzbeQfrI/UZGRkZHgyMjIyIyMgBlwAAAAAAAAAAV43hd5ugyPjay0D8UeYr8wsOK87vC5VfQBHxtZKN+KDUD/MLDAANC1M0I0k1jkQJWpllRK87S0ONxFPuup6SVmRrIuCk+ZpT5+wb6PP73VbVfUnS9/TE7A1GrtqpqaKyUoqZUX4pSTbOHw59I/S49RWM+XI8eZjo+iemXes6vSsbGr1VSfFiSbWMRbfvd90miGvONOm5SWUegIAA5wmAAAAAAAAAAAAAAAD+cvdQ2b2uE5uOh1anaNbvFKiUalKVRoXt79zPt+LsP6NB4IXtAhT96iqfPSlSadFpbHBRebsajx0EXzkpvP4B02g2rvqbtU8cdWlHPdlVEeG/rq2pSrNZ4U36tzDWHtQXPpzVRvurSIbjySUUKISebZH8daiMs/IRdvaNtLZZblYWldIumpwmULLqqfbQ9kvWScEnv8AL3E2jeKU0lmnsIQXbgSj+c+5jqP3VVp3QjQacLGgnWqy4VOWW1hZlLnz5JLlvnG2CX9yHSa3TrXaj1Cq+oox4nGO3E28Rj3pc23z2xnfKjXTr3OXSS9olRZlXbdEaTES103m3WDSalcs5Qbfl6JdsitW6LZ9fO2uYxUZUpNbtee6bMSrMtmjg53Mmnkd+CzIjMu5keDwfmReomghn1K0XE8cWO/78c26+2qPdW3HUOn1pttTMegTKg0pZfAfjtKeaUXsPm2kfi63/dH1nSelCtbio6lCUoRcXjZSS3i+aabzjk+R9X6Y9G9PoXdalZ01DhSxjPwU/aeG4ALhVSVpVtvsrSWhytBLX1Bk6iW1FuS4KjVm3XZi0SXFEUWEpKyKOtCC480kZmrBmQ/TTeFnvePnf0HybO+PT9/WU9AXYtvQbQTUPTu1KdU0VywZ90ajVeg0clUtEuokS0R/DR5bijRhtk19/wBcfPsRdzLUXNmtrUqj0Sm1/UmYi9LpuqrWdRaZGppLiuzIU1EZT7j5qyhnCuRlxNXpJwXYxji8rg7cJ+tJ/SjacVBJt/ff9jKqgLbK2Zaf3HU/AabapVappt+94Fj3WqfSURzYekvKZKXFInFc2uohSSQrCu2fIZGl7ONB6lIohNa2XObNYu6Xp+n/ANjrZKKtt8TS591wUbC05P4ZmZdi78ccaceJcv8A+fWXrM9XJ/fz59WH6inA9DPcWf8AV5vj/wCqJ/8AXY4jXSTYS1qNEqNNnXJc8Sst1CqU2PMZt8yozDkNS05dlOrT1eqps0klglGg/hCO9o976i6ZXpcVw6b6kUSzKnFp6G3ahWatFiQnGvFNcmnGXo7ypZKIj+1M8Hf1xK9E0nFUqRnB8L7E/WZUXF79+D223MIbdtuymXSI0uaiWsgyP1kdTZyX0fiyIw3lRN0D9Wp0ixodcn6TRoDqq/TrCmIj3ZMlcXOKCU6g8RTPpIMo2XyJbqsKwgikTcLMU/p7Y1ackIWTd8WlMcW0WEOF75RzMy5FkknnJeR+WfWQmoei6/iu2/Sqf6Dde/foPPXYNB3TI28xWdLJultOiIrVTKqs3TRq4qppqZyDN8njOQklmWUJJSfUkiV9sJYsDKpvug6yUUe7dv6Sz6PGh1lBmWPWZyVkXfPqFiQFOSFXJNE90eUZ8Lp0UWX+0PTo5/x4Tw6rNC90JjsttVC5rUlKQkkqehVKKlThkXdXFylkSTPzxkyL2mLWgAKq+9+9xH9OVKtq9vvfOt1X0daEkfKI27nkspkvV7HL0fBv2NjGC/rjHtyLWAAKq+F3M/8AwiRuMX8jEnTci/jMEf4x+eG18SZrdhbpFLMsGpufpwZY+9NZF7fIs/QQtWAAqoStdCMyP7KtoyPHctOV/wCPI+nHteFLUpiRuobSZmZIKNpuZJL2Ea0GePnPPyi1IACqyXdyBEooyNzDhqLBKlo00JKe5Hn0FEee2O5eRn68GXya94pkZUxGohH6jrCLP/H4ZX5BasABVTHuhq/9KDsVPs9/jbL6fCEr8Qy1HY90eSnjWZ+3PiXZJtsVt1wy/tlEbaTP5kpL5BZUABpGh9gStKdGrG0znTGJcq1bep9IkSGCMm3nmI6G1rRy78TUkzLPfBjdwAAAAAAAAAAAAAAAAAAAAAAAAAAAAAAAHWqa1N06U4kyJSWFmRmWSIySYrrtvjyIld09YUXSaTojbjamXEH1ErQsy7qyRdiUZGXHz9nkLIOutMNLeecS222k1LWo8JSku5mZn5EOvGq1Kmrabh1KK+qRHTLaS08lRuMK+C6nB90HksKLsLK0vpW9tVoKGVPG/djPh4mko5kn3HbAAFabkNXk5x3baWIz8KyLyL/ndCP+aJlEHXw7jeJpO3nzsu7y+mRRz/micQAAAAAAAAAAAAAAAAAAAAAAAAAAEB7v3eNH0pY/r+rtoJ/ezyX/ADBPgr5vBMzLRNkv6rrFbX8U31/zBYMAAAAAAAAAAAAAAAAABjrjuOg2jQp9z3RWIlKpNLYXKmTZbpNssNJLKlrUfYiIgB33HG2m1OurShCCNSlKPBJIvMzP1EKp6ya/XdqHMgafaBnJeYrrjrEapQnujLrhNnxeVCewfhKe0ZkT9UNJl/U4qXXVoUn91Ju66dcJEG02rZmppVabORRrMkuKiyK5GSrB1OurT6UKkpPGI33WSfoKLubIm3SfSGmaaRpVTmTffq6qylr34rbjCWlPE2WGo7DSfRjxGiM0tMI9FBGZmalqWtQGH0A2/wBv6IUJasxqhc9SaQiqVNpjpI4pM1JixmzMzZjNqWs0o5KUpSluOKcdcW4qWAAABUzUTTu/tql0ztatvdOVUrDqUhU29bBRkmmzP7pUKeRF9pWRFlaUlxwXdJowbNswAGpaX6qWRrDaUa8rErDc6C+RJdbPCX4rvElG08jOULIjI8eRkaVJNSVJUe2iomrugt9aI3q7r/thSbCXMquO1mmluR32jUaluNx0d3W+RqUplGHEKUpyOfI3Y8mdNE9dbM1wt0qpb0hMapxm21VGkuOpW9FNeeK0qT2dZXxVweR6KiIy9FaVoSBI4AAAAAACve7T0rk2+Nf/AEv01z6KbUf8YsIK9brD5Xtt8Z/+lKI5+9p83/GLCgANJ1J0U0n1h97vroWFSLl96Ot4H3wZ6nh+rw6nH2cum3n70huwpT7pFqfqXpx9bv63d+1O2vfH338Z4J5TfiOn4Pp8uJHnjzXj74xe9GdPutU1SlaWVXq6kuLEstYxFt7x33Sa27yKtOMIOUllF1gABREoAAAAAAAAAAAAAAAfz6bvXqppjvY1CmxCNEim3IuWwlZ5I2XEJcbT5F6JtrSXze3zH9BY8jd/exDW+8Nw13600JNIKzrgeiLTUJU1wzhqRCYbV4hKG1Kab6rayJwyNtKeJrUgu4ttKrVoy6mh75yjJY55jnGPHfZc32EFxTjUg1JZXJ+ZmqWFqnaOoNNbl0mpMtyuJG/DdWSXmlesjL1l8pdjEuHXqFSYMI6tW4EFL/TZbVJkoaSpasEksqMi7mKj/qfWvVOJqRc061rbivl1I9SqNQd97XW/U4VQZaciEkywZcnSPB+XY8b3Tfcnd0txwWqpSLi09qkN0stSY1xLfaUX9qtLRkf4DFv+6FcXXTGxtqF/DqurbfGllSysbdnZvhv0Hv8A3PtQ/wCAbq5uLWPWdbFJJvHDh53xz9nnPRXTuj0iz7aN6RVoKnZOH5D6Xk8CLHYiVnBkRZ7/ACmKbb+d5lnzLMn6KaW1tirzKsZM1moxHCWxHjkeVMoWXZa1GRErGSJPIvM+2hfqRe8HpdH3ysvp/E9/XuP0dEcP6j/u2/sixv7sufoR8G0b9ymzstWWr6jddfJPiS4eFZXLPlSylthbct88i51XpRdanxtxxKfN5zz7tlgpCJx073e6k6e2rR7TTb9m3GzbLi3rdl3BQmpsqirUrmZxXVYNOF+kRK5ER4xjBCbf1H/dt/ZFjf3Zc/Qh+o/7tv7Isb+7Ln6EfX3VptYbOV4XnOCvLG5vVJL9vTZ06JUZtuXZIvNiVLZNbr9SfU2pxTpkZEpBm0n0SIsd/wAHHee5PUy9pNBnzZUKDLtu4anc9OkQWDbcanTpKJDysmZ5InG08S9RdjyLFfqP+7b+yLG/uy5+hD9R/wB239kWN/dlz9CMqrTTTT5f7fsXqMyjKfvt/u/2v1kQV3erqtWJtMmwaJaNCXCuJi65yaRSCjFV6oyeUPzMKy535HxI0pyozxnBlq9O3Lai0s6UcZulf6D3s9fsflGM/wDRNwkEolel3a+1p9Hz8+4sP+o/7tv7Isb+7Ln6EP1H/dt/ZFjf3Zc/QjCqU0uFNY//AJ+xepGc1Pv6f2v1kXULfbq/Q3KZNOg2dUKlRJlSl0qoTaT1JEAp61LktNK5lxQo1q74NREeOWOwmf3IGzrQvbcFdMu77VpFacpVunUYB1CE3I8JKKYwRPNcyPg4RKMiUWDLJ9xif1H/AHbf2RY392XP0ImDZHpnI2N6sXLXNXLwtqsyazRFUaFSLQluViouTOu06TJstNlwUaG1mXM05x8pCS2sat9mjZU3OWOUU3t6OS8fSYzwvMi928BaomgVarDaDUuj1GjVMuJ4MiYqkVxZ/vEqEziBZ1s6o7jozcLUOhKsDTpbzb71BW8l6t1pLayWhEpaMtw2DMkGppBrdPiZGtJGZCehNqKha2NGxlJSqRnUlLhfEkpKmkuJbN+Q2+FtLK3zlKSHlScuzb6QAAKIkAAAAAAAAAAAAAAAAAAAAAAAAAAAAAAAAAAAAAAAAAAAAAAAAAAAAAAAMPeSnEWhXFtLShaabJNKlJ5ER9JWDMslkvkyQhDQ9p5m8NOG1KQSC0apyTTwMlckux++c+Xfyx+EWDkSI8SO7KlPtssMoU4444okoQgiyalGfYiIu5mY4Y9UpktxpqJUYry3mEymktvJUa2T8nEkR90Hnsouws7W+lb21SioZUu3u2a7vE0lHLTO0AAKw3IDvxSz3paSoSoiJNmXUaiMvMjep3l7O5EJ8Ff7zSpW97TM+qo0psO4zJHbBH4mCWS7Zyfz47F8uZd1A1EsjSu1Zl76iXNBoFCgcfETpi+LaDUokpLtkzMzMiIiIzMz7ADYwEFWFvi2r6mXPAs60NW4b1Wqp8aczNp02AmarOOLDklltt4zPsRIUZmfkJ1AABGe47VuZofo/W9SKdSWKnLpy4rMeK+4aG3HH5DbJcjLvgupnBeePUJIjOLdjtOuJIlLQlSiL1GZADkABGy9frDbvG+7HWxW11LTunw6nV0xqY5KNbMlClN+HbYJbryiJB5SlGcmWMgCSQHBBmM1CFHnx0upaktJeQTrSmlklRZLkhZEpJ4PuSiIy8jIc4AAMNdd2UqzKWir1hipusLksxSTT6ZInO83VkhJm3HQtZJyZclmXFJZMzIu4zGSxkAfoCHaxvC2yUO94um8zWa3nrlmTEU9qnQXFzHSkqUSSaV0ErJCuR4MlGWPXgTEAACuOt27Jq1tJ78uTS+ntSrntG6ItlkxWWVJjJqUh1hCHFJbWSlskUhKiwaTPHqG+6QVzXkqnVLS1yt63nX4jLcunXJbaXWqfUGlmZKaWw8tbjD6DLuXJSFJURpMu6SA0/dsjq1TQdn42sFFP97Dnr/miwIgXdMTarl0BQ4tKSPVuAeVHjuVJqhkX0kRfOYnoAAAAAAAAAAAAAAa1qNqHa+ldnVG+LvmLYp9PQR8GkdR+S6oyS1HYbLu684s0oQ2nupSiIvMAdu8Lxtmwbdl3Xd9XZptLhJI3X3MmZqUZJShCUkanHFKMkpQkjUpRklJGZkQrPd1fvrVm96bSnLWbk19lbdSoVnVA+dPtiPkzZrdxGg8OSjxyjwEmZpURYM1JW+zEju5JnVCnP7j6tXkwKJRMvRZc2CqRS9O2VLNkj6JF/olX3iURk2SVIjJXgz4niROM/Umg6QVXQ6ydEkU+twNXq+6/UqvNWuVLqcXwan3qgt8lEpx9R9L01kZEXoklKSSSQJs0200pendPlqKoSqzX6w6mVXK9O4nLqcgiwSlmRESG0l6LbSCJDacJSRd87gNVvG+qdQ7Vueq0So02dU7epkqcqH4hKzStppS0pcSk+SSM04PyGu6E6ufXL0QsPU+7XaXSJ93UiLNcYbd6bPiHUEZttdRRqPv5Fkz+cASYA4pMmPDjuy5b7bDDKDcddcUSUIQRZNSjPsREXczMV3jb89ELhvFmytNKZe+ochyWmG7OtS235tPYUauJrXJPi2baTPJuJNSSIjPPYAWNAdGXXKLT5ceBPq8KLKl9mGHpCEOOn7EpM8q/AOeZNhU9g5M+WzGZIySbjzhITkzwRZPtkz7ADnFZdeNt9eh189cNvS3aTesBa5b9OiOIabnqWpJvLQleG1OOJT9sYWaWpBklSlNPJRIRYtFeoTjs5hutQFOUw0lNQUlBqimpPIidLPoZLuXLHbuPunVik1eCVTpNUiTYZ8sSI76XGj4nhXpJMy7GR57gCKNANx1v6ywlUSqMJod605K01KjOktBqNtRJcdYJwkrNBKMiW2sidZUZJcSWUqXMYptvWte337t02runMiTSdS7xrpUyjVumyENsOvMx3FoVJWRKwokpNtLyUrNKVGhxDzJrYXJm3fcfNvqoSNJdXqV9TOqNDSaJkB5vooqSEpyciOnkoiPj6Sm0qWREfNtbjZksAT6AAAK87pD5akbe2vbqKhf0QJP+MWGFdtzx8tW9vLXtvpxf0Qnv8YsSAA1DUDSLTXVTwH1w7PgV33r6vg/FEo+j1OHPjgy8+mjP3pDbxUff1f9/WN9Qn1D3PWqP43308V72zDY6vDwvDnhRZxzVj2ZP2i56PWVxqOpU7a0qdXOWcSy1jEW3ut90mvSR1ZKEHKSyi3AAApiQAAAAAAAAAAAAAAAAAAI7naK0WFLfq2nFaqNjVCQtTr5UjgcCSszyo3oLqVR1GrvyWlCHDyfp57jQKrpJcNOnOVOo6R2vXpS/h1qyKk9a9Xcx5GpslpSo/lOWRZ9WDFgwFzba9e2/OXF58p+HlxcZ4XYuLHgRunFlcyueuWxgk39qvbBJ8ol22f7+Qmz/tpcNs1fvpZ+Xb1mOzB3E1SO74Y780WuV1Pw2kXOugzMe0or6ZHf5FOJ+cWDHXm06n1JroVGDHlN/EfaStP0GQ9f4Zsq38ItuL0xXtUFN+mb85jq5LkyImtzFIio5V+yKvGQXnIp9SplTYP5UlGlKeP8LRDnibtNvr6+lN1DapDmcGmswJVOwfzyG0J/CR4+Uby7plps+rm9p9bTivaqkxzP8aB24Nk2ZTFEum2jRYii8jYgNNmX0JIaTuNDqRy6FRP4s0l/eU37UMVF2r7+o0OpbrdtdKQa5OuFmuERZ/oWqtST+ho1GNVe327Z1vKi0S+na1JT26UOnvpyfyOPJbbP98OxsZhMtbR9LTU0hSnqC3IMzIj7uLWs/wCUJ3IiIsEWCEVK40WCzUt6sn/TRS9P4nPtRlqp2Ner/crsvd85V1G3ZWkNyTlH2QuYh1ba/lL3tZnLIvnQR/IPk783QXh6FEs1+isr8ls0dtk0fPIqMhCy/BAV+DyOxgD0fhmwob2tlFP48nNep4Rjq5P30voKUa72VqjRLRizL7uWZdNxXHUY9Ft60I9WXKdrE548mhTi2Wqcy2hpLrzjiqeZIbaXhae2Zk2lxNDLj0vo2pukdrMQXKpG6E1yUo36lEkNmZPQ3nV+mnpuci6ZcUYMjSkkqIaHv40krldsuZr1RdWbitWXpZaVfl06JR0tNOOzHmUGh0pOOo0X2km1knuttakEpBKc5yLtd23RNtFv3NbdH1ArNzUm4a4uuxE1VpvrxDcYaQtK3UEXWWtTfNTnFOTPPHlyUry3vSC/vafueU+Gn8CPkx82Fz8M5MxpRi89pNQAApSQAAAAAAAAAAAAAAAAAAAAAAAAAAAAAAAAAAAAAAAAAAAAAAAAAAAAAAAAAADW9SjcTpzdSmVJS4VEnGlSk8iI+gvBmWSyXyZIRLpM1Kb1FsAnHWlNo0hipMktmR8+vGyeeR4L5MZ+UxPUiRHiR3ZUp9tlhlCnHHHFElCEEWTUoz7ERF3MzHBHq1KlvNxotTiPPPR0y2223kqUtgzwTpER5NBn5KLsLO1vpW9tOioZUs792VjuNJRy8nbAAFYbkAXWfLfHp8j4mntwK+mZBIaJ7o9Gr1WsnSy3LbRS3J1W1NorDLdVaW7CW4XUUgn0IMlLb5ERqSRkZkXmQ3a5Uod33WMlaEqNnTatupyWeJnPhpyXsPBmX4TFgHGGXjQp1lCzbVzQakkfFXtL2GAK21fa9qnqvPpNc161pp8x62lrn29SrUtxFOg0yp9NSGphrkOPvPqa5ckoNSEZIspPArtW9fNbdSq3bmyq96dWWNSLeuIpl21WlpVGRWbfp6DktSWFIMjSqUaWUGku3IzL14L0fFctHNPLrrW6PVnXm+qBLpzbRRbOtNMtria6awknX5Def1jryzwfrJAAoDqxr5P1g08Yr95a8XxWbxkXJS5FS09odIdj2/bEAqggij1FZsFzfSaCLkp3l1MFgy7nldQtfrqvuy6hrMzq5qDU9SY1eJ+JalqzJUOk2JRo0s0LOpobSTanHG0GlXWPKzcwRcSMx63+Ch8HG/CM8XV9RxPTLC1e0/afYu/yD7eYZktKYkModbWWFIWklJUXsMj8wB5OWpodSz2ayt0FTvG9ahe9EuZ+XQidr0godFUmtdJfho6VEkuZGs1mrlk1n5DY7m0duO2tWtyTsrXbUeoyqTpnDrbj7s2M2dVNceUlLErix6bTfH0SbNB5zkzHp37207wioHgI3hVZ5MdJPTPJ5PKcY8xhbguCxLWrFLZuGXTYNTuiQmj08nWy6090kLcJhJkWVESUrVg+xERgDzRsTWi1NS7ckr3S7r7q0oo9oUqnwKJaFBnvUmXPj+BaUmpOuNpU/O6qlGaEII0p4l55PM7aobxqHb+2mAxpPedYotekP06gxq1fEJTVQi05x1DC688w6ROOslk8PKQSDcMiP2C6a6dT3H2pTkGOp5gsNOKaSamy9iTxkvwDk8PH6/iug31uPDqcS5cc5xnzxn1ADx21S1Bm25ULmpGnepGqN02bUbZgzfqkuaqS3Y1xVaNWIPWmQEOkRE2lLvT5N+gZdiyRZP1C15qVoxdA7slX/Wa1SLfk0NxiozqMhapsZl1HBTjXBKjJRcs5xgiIzPtkSK9ChyXEuyIjLq0FhKltko0l59jPy8i+gc3mAPLqwbire3l2lWhsl1SsvXl6S80y1b0awWilQ4qjLm5LrMFbaEYLJ85PpGZ+Rl5Rbe+qmo15X9qNcmq242DYd0sV9+jUG2m3blVWqOltzgz4GJT3mY6jcI0mSnUupWZ5Uacj2Tjxo8RomYrDbLZGZkhtJJSRn59iGDu+v2VYtJlX3eUyn0uFTkJ69SkoIjaSaiSkuWOXc1EREXmZ4AHlbqrL1mLTjcM3bFtMVWDS7noN016s1uQcGZDejQID6VeCJJ83HFpPmnmXDBl3yRl6CaIQ90NVepd4at6k6fzKFPp6ZCaPbtuSWVGp1CVNq8S/JUZEnPcuB59pCZvCwJTCyOKw4zKIluEbZGTuSLuojLv2x5jmQhLaSQhJJSksERFgiL2ACDNyh8r82/s+3U1Dn72i1T/GJ1EEbjT5an7fGvbqC6v6KLUf8YncAAAAAAQprVrPqbal+0HS3RvTOm3jcVWolQuGWU6tJgphw4z8VgjSlScOqcclYIjcbIumfc+/GOYu4HdTTm0FfGj7NDfS2nrNN2pWKoknO/IiXSlTEmnOMGWQBbEBVKPum15NpbdP0JbuSVlXSQxSbtpCV+n6JGuZQ+mk+PmZueZeoj7UuufXbV2Hu8vatwXru0pvV2LT3Ztn0moldqJcwoySIzjEhljomx4NbiCNUhJ5S1lalNtAest43hblgWxULxuyptwKTS2utIfXk8FkkpSki7qWpRpSlJEZqUpKSIzMiFR7Xoupu8S+abqxPdlWpY9JddKgyW3P6IYZWk0OHBMjNKpbqT4uT/SQynLUTkvnJGuO167tWtSrGoO/234tkW1PgsyLYoEVSyoVerh8kut1F5aubTxIMjahO4SpK1Ea3Fcm1Xwjx2IjDcWKw2yyygm2220klKEkWCSRF2IiLsREAPOBW1S/YG6uNtsjW6+9t0frKdSVMuxnXYiXUMm2dOW8ozSpJyCSvpqyZl6XfuNcrO3nc1ZOsd4WVp9SKnKtzTCzLgqGl81tpZcF1U0kmI28foG6z9vShOSURJT6jIeowADxz0l0CkrcteFbtj601i5aVCnS6lKf02g22xFfdiuJdblVJaDlzfScMiZNxw3PVjyHc0K2tXfrjpnb2ntS0evdNxNJYhV2+dQI7sOJbFNaWRlBoURxfJbvFODdJsiJRqMzLJY9gAAGi6sRqfT9G7kp06y6vecBuiPRHqHTsqm1Jk2+CmW/SSZrUkz8jz7O+BROnWhqbbcam0DYLUNw9HfW62R0y+af0LTpDBKLqJP32jk7kiyXCPzM/Psfn6TAAPHXUHR3UO5NTtUZ2v8Abmq1evOv1NdOp0K3dLodbiv05PaO7CqctK0w0cVdzZNtTeDMzUflJd1ac6i35UbktvVLb3qdfFdoVEhW9pzQKuy45btPQcBsnqnMqSTRFdkk4pZKUSueUESE5wafT8AB5c7PNqVJ1C1XdPcLp9Xp8KPYFuzGqdV2ZLNPdqDTaojhvtq4pddbSyRJSvOCWZ48jEi61aR2FZ2scLTq/dJb3a29wqQmpUW37Eo8yRS6jXVvGb5VBuCRu8iImzbQrCDwffzIegIADzEv+wK9qRTtI9OdEtu2qmilnU/UUpMWsSCXFqLDUlqR4uQhklOOwSSXwVuGSfticF5kJCj7R6vWtcr00ycvnUdMO3aPSrhsa96xIdnTKZUluueIYTNWSTeaNSEKNg15QalKQbaj5C/IACvujOvt0Q7yb2+bjYUah6ktMrcpNQa9GnXZFb+FIhrwRdYiwbjOCUWeRJSWUIsEIt3J2roxcmlFWla5zmKTb9FSVRbrhPnHmUaUg/tMqG8kjW3JSs0k2SCNS1GSOK+XBXU2tVnV2uaSRJms0Oc3VUzJDVOkVKCiDUZ1LSovCyZsVClJjyVo7rbIywZFkkmZpIDTdzvWXrbt0ZZcQkzvGW4fJJqI0phqyXYy74M8H6vYfkLHit+5RWdwW3Bn41y1Rf72EX+MWQAAarfGl1g6k+C+rm2Y1X97up4XrKWXS6nHnjiZefBHn7BtQq/vavG8rT+oz6kq5Xad4r3x8R71zlRupx8Nx54WnljkrHnjJ+WRbaHaV76/p29tU6ubziWWsYi3zW+6WCOrJRg21ktAAAKkkAAAAAAAAAAAAAAAAAAAAAAAAAAAA+HnCaaW6fkhJq+ggBDOytPHaVpGXttGmn9LKTE0iFdlSuW0nSL5LPphfQwkhNQAAAACEd7SjLadqi2nzet59j9+ZI/nCWrWllPtikTiPJSIEd3Pt5NpP84izeQwcrbTfEQiz4iLGZx7ecplP5xueilQKr6NWHViVyKbbNLkZ9vOK2r84A3QAAAAAAAAAAAAAAAAAAAAAAAAAAAcb77EVhyTJeQyyyg3HHHFElKEkWTMzPsREXrBLOyByAIE1C3jaZ2gw0u31t15MlxbMeouTWoFKecQZEpLUp3vLNPJOShtyVJ5Fki7jW06mblb6LnQLcrVPir+CVFtZEVSC+N4yvPxzWn2GmAZn54MvK/o9G76VNVq6VKD7ZvhXm7WvSkROtHOFv5iz4CsZaV6/wBwelXUVaWhXwl1bVidT3D++j0SnsNY9pE5j1YMh+/Y23i56b1oaduL+NJrlelO/wDGrd5Gfyjf8DWdPardLPxeGS9fGn60jHWSfKP39RZsBWM9EdZ6J9ttmBEhLT66VqrXoyS+VMWXGlxjP5DQWfWY+Pq63dadGS6pp3Ur0pzZl1PEogLf4l5mUqnqStR48iKmYM/1yQ/AEa/8FuIN9ilKMW/MuKS9bQ63Hvkyz4CCrE3k6QXPU2rXvF+o6c3O52TR7wjHTXXTzxy0t3CFZPGEmaXPSTlBGeBOnn3IVV7p13ps1Tu6bg3yytn4p8mvFZRJGcZrMWfoAA8RsAAAAAAAAAAAYi7rroFiWpWb3uqf4Gi2/AkVOoyemtzoxmG1OOL4II1KwlJnxSRqPyIjPsK+VvfhZNPfJimaR6nSkr7pl1Cioo8XB+SlKnOtOEXzNn8w3feAl9/bXfdOjuobVU4DdMM1oNRGmS+2wosEZeaXDLz9fr8htOg9SfrOh2ndYkqNT061KRJcM/M1LhtKM/pMAVuvzenHuWwLmp1Nk6OUpyZSJ0ZDNb1UZjzORsrThEZuG4bq8/BQSy5HgiURHkYTTTXO+V6h21NhP6GVHwunUaDxb1MdabwT7ZmanPe9ZIe9HuxxPBZPqHjB3gmORGYrz09bKIzaFLeW8ZEhKCLJmoz7EREWTMxrb1o6W19xuPIti1ait6OmU2hcKO8a2D7E4RGk8oP1KLsLO2vpULadBQynnfuysdxpKOZZItVuPvGH/T+n1my8eZUjUmnvGfzeJRH/AB4GGq2/XSW0eCdRqRULXNfkp2t0KelXf9aUKoPOHnJYygj+QTN9Z7SM+56W2h/cON/kDL0Wz7RtvH1O2tSKXxI0l4KC0xgj8y9BJCsNzzn3FbyaA3rAnWrQN+oSqpSNMKgwxOqFn1JUVKk1aE6pL3JpBmypsnWieJXTQ483lSTULA7VN86dd69S9Ob1sRuhXhUaY9VEHSKrFqUPoNceRyG23Dk05w+acNSW0mfqUZmRDi1z0lsnXLd7SNMtRYEidb9S0qnPTIzEtyMp0ma9TnkEa2zSok820EeDI+/bHmVjdO9MdPtJbcatLTWz6XblJaMleGgR0tk4viSTccV8J1wySWXFmpSsdzMAbOKb7lL/ANS9Sta39BtPafecq2rOpUOtXfHs2ox6fV6o5LcUmNDRKedaJhgkoUt1SFksyMkl6xcgQlqDtWt69NTXdWre1KvywrgqNPbpdZdtapMx0VWM2Zm2l5LrLmFoyZJcRxURGffODICsB72760Ks68Leou2J6h0XSas0ml1Viq3w7XKi549xKuCD4ry5wWZkZyFpJRpTgyP0Z0RuK1+tqkr1V1m0PtywtMYEB6oVJ566TnVmM0SDNn+h22CbNxauCekSzMjVjl274Gk+56WjTrc1aspd/VhdE1Lq1NqzC1GuRPp70Q0rNa5MhxxUha3Umo1KIvhGQnzVvR62daNMahpVd06qM02oNsJVLgPJaltOMrS426hSkqSSiWhJ90mXtIyAFdYW/quW1dVHVrro63p1aF00Oo1+jypdeRIqzcWIgl8pcFDZG0byTLgklmZK9E8mfaEd0+4i9NTaxpjXqnoTddk27GauO46HMq9ZRCm1NLFGkGn7VEdKTDP00mSuaVYP0T9YsLeHucejd/zma7fF66gXFcPB5iTXqpWEOzn46mlIbZTwaQyyhpSicQTTSPTSRq5ZPPXqfucWm9xTYdevLWDVW56/Fjz4fvrWa8iU54aXFXHWw20prpNNpJw1kSEEfIiyZl2AER2Pvg3cXrpTdOo1haJ2J9SWna3jn1msVuWpU2LGZQtcdlolKeVJ4ZM3nFGgzUWSMyPMx6l79IVqQJlS090lqd9Q7YpUWs3nPZq0anwqCw+0l1LPWf7SJXFRGTCC5HyTkyMxumnezvT/AE10NvDQSi3DXpNDvLxnipUpxpUpnxDCWVcDShKexIIyyk+5mIM1Z2FaT6ZaEal16rX3fFywIdKqlei0WrVhLdJj1Dw58ZJx2UNk64k0p4G6pZJwWCI+4Aujat4Ue7rLpV+U9a2aXV6azVWlPkSVIYcbJwjXgzIjJJ9+4qhW/dALhbOmX9beipPaS1O5I9rw7mqlcRDmVR9502vEwoXTUp2OhRGfI1kakkZkScHicdvNCbqu1rT+3K604bU2y6fDlIyaVGhcRKVFnzI8GYi173OfSSZbVFtqtahai11m1DilbB1arsuIoKGXUOEmMy0y20ZqJBINbqXF8ckSiAEZWlvg3W13Teg671rRSw6Ppsqtx6ZU5rtXfVOqDL00ovXhspMyYJClFnrGrlwUZdjLGP3X7q52tGi9TpunmjdySNO6hctKoqr7nSo8SHIcKoskZxo6lG/IaUpJoJwiIs+fkLKFtEsMtuUTbSddrK7fhympSJalNeKM0TSlkk8JJJlyLifbPH5e4jl/3NbS2dRo1uVbVvVeo0ejSI71u0qVcRKg0NLLxOITHjk2SFHjKOTpLVxPsZGXIAW3jpJEdpBeSUJIvoHIPlCSQhKCMzJJEXcfQArhuzuimWZfehVz1lqc5Bpl5TpUhMGC9MfNCKJPzwZZSpxZ9/JKT7ZPyIzHetbeXZ+obvR0u06uy8FG4pkkwJ9DjrJxOeSTbl1FlxKiweUmjkWD7dh29f0EvWnbwRqIsXnUTIjz3xQ5/wD/AN/AJKu7STSnUBZuX5plalyLPHpVajRph9iwXd1CvV2AGqnrDqW2ZG9tT1KNGDybVVtpSi/AdVL8RjSbg3xaa2ZLVCvy0Lktt1BmS0TZ9EcWhRER8TQxUHFcsGR4IjPA3P7EzbGbinFaB2IrmlKVIVQ46kGkjM+PA08cdzIyxgyPB5LsN3tjTnT2yU8LMsS3aAnyxTKWxFLyx/U0l6gBWrTC/outm9OJqtYNHuNdpRdLpVDlVCoUKXDjpmHVWXktpddQltxakYMiQpXoocz5C24AAA6jFJpcWdJqkamxWZs3j4mQ2ylLr/EiSnmsiyrBERFk+xFgdsABqWqmldja0WNUtOtRaI3VKJVEkTrRqNK0LSfJDjay7oWlREZGXzHkjMjrPZWo2q2028Iuj+s8qbd1hOtr+p250tKcmtRWyyZLJJGb3SR3da7uoSnqtdVrmiLcUa7f1gWvqZa8q0bvp5yoMk0OJU24pp+M+hRKafYdSZLaebWRKQ4kyUlREZGAMvSavSq/TItbodSi1CnzmkyIsuK6l1l9pRZStC0mZKSZdyMjwIM351+vWttL1EuG2a/VKJU4FPaejzqZMXFktGT7eeDqDJSDMslkvaI3tVWou1e+DtSX1a3Ta3KdejQWW0tMXGnHNx+Cn0WolYSXJT0IjSzMJK3mSbcNxInq8Lc003XaJVO1jrsmXal3xFRnZdNcJqS1xWXJJE4hXSdQtGFIcRlKkmlSckZACjO0jTW6dcrtt7VfS/WOfaVv0CY1JrkOTf8AU6/cs9xPwo0+K704kZtzvnLbivin6xKes/ujzlma0XLpFpxYkCtrstlJ1WXUF1M/FSsZOLGTAhSuKi7F1HuCOWS9WRNWpmz/AE1v1ymXHb9SrVi3zRI7MWDeNtSExKobTRJIm5CiLhJbMkkSkOJMsdiwNYrWxmlzbgr9ctncDqvZqLwdbl3LEtyqx4bVSmE2SHJJH0FKZW4RelwMi9hEQA7szefT2betFml6P3nWr+uihIuB+zIDTSZVGiGkzN2c8+ptuO3yI0pNeFKPyT54+Nr+8yHujVec+2tOp9Ho9rQ4TzMqdNQpyVIeZWtxg0ISZI4Ggi5EpRGR5wXkMfU9hFls1afUbJ1e1Ls+FV6HEoNXhUmrNKVUIsZKyQS5D7Lj6VKJxXI0rLPI/IQfs+2XW/duikau0jWnU+z4tVkTqRXaVblabisVJMKdIZbUtRtKWhRtkSFGhSeSS9QAxE33R+tUS7qfqJQtKJdRZuum0Ep1HKvy5LjSnpU6MpuK0pRRkudSOgiUlpBr5+kZ4ITvfW67XzRayqnrBrtoLblsWZDgGtmHDu3x9WVPcUlMeMoksJaLmpWFGkzJBEZ5VjB9SN7mho3S4tPj0O8rvinSmqaxCU4/Hd6KIVScnt/1IjNRrdUgzM/g47ZyZz/rforaGvunkvTm9HqjHhyHmZTEynPkzLhyWVktp9pZkZEtKiIyyRl7SAFUdPvdLKpOjT67qJpC83b0O3ZNxPVO3Wqq6mATZJ4RZHjoMZtS1mrBONOLbz68dy33b/vPr+tGpVOteoUrSunUysQ3ZMeLSdSodXrMdSU80pdjMpJKzNOeSW1KNGDyZkQ3fTrabTrQvD6vL11l1J1IqzMRyFDauirodgw23EmlZtxGm0NGpSTMjNZKyXq9Y+tItotjaZX2/qnVqtJui7em7Gp8qRCjQodIirVk2YUOM2hpnJYJS8KWrHdXcyAE7DTtU9VrO0etc7ovCVIMnn0QabToTJyJ9WnOdmYcOOn0n33D7JQn5VKNKUqUWN1m1nomj9GhcqZLuC6bgeVBtm2KcZHOrUwk8jQ2R9m2kFhTr6vtbSPSUfwSVq2kOityJuctcdeajFrupMlhbMGNHyqmWpEcL04dPSr9eosJdkn9sdxjKUeiYGNsLR699R70ga4bkW2kVKmOFJtSxWJBSKbbCu/CS8ovQl1IiM8v/AaMzJouxLE/AAArVuRVncvtqZ+NW64v97CR/jFlRWTccvO63bGz8apXKv8Aewmf8Ys2AA1q8tN7J1B8H9WNAaqfgOp4bqOLT0+fHnjgos54J8/YNlFcN4V3XZav1JfUvVq1C8V4/r+9s04/Pj4fjzwtPLHJWPPGT8si00a1rXt9Chbz4JvOJZxjCb5rvWxpUkoxbayWPAAFWbgAAAAAAAAAAAAAAAAAAAAAAAAAB1KuvpUma58SO4r6EmO2MbcquFuVVfxYT5/3swBD+x0m07RtKEtISgk21FSZJLBZIjyfzmeTP5ROQgXYgp1W0TTEnloWpFHNvKU8Swl9wiLGT8iIi/xeQnoAAAABFO6VKV6E3ISyyklQFKL5CnMGf5B9bVHHT21aYRn1kp2DatNp61YxlUdhLJ5+XLZ5+UfO6n0NvN9SPVFpapR/ITS0uGf8Ufm10zTovS4poNHgapXIBJPGUkxVpbJF27dibx2AErgAAAAAAAAAAAAAAAAAAAAAAAhrXTWyv2nUYWlOj9ARc2p9wx1PwYKsnFpUQj4qqM5RGXTYSrslJmRuL9FJ+Zl67GyrahWVCit3vlvCSXNtvZJLdtmspKCyzZ9U9abO0ojNs1eSUusy2FvwqSy822662gyJbzi3FJbjx0mZc33lIbTnBqyZJOBqfB1h3MSGKvU6fCTazyUvxHKky8VBjqI/6jAX0pFYXg0qS/K6UQzLk2yrBGredLNqVLotTTfus1cXf17POlKekzPShtPEXomloyInlI8kLcThv+otsEZpE/C+d/Y6Kur05dZV7ajWyfxFzxy3eM7ppxeFFwyqbz2Xd+0iym7btNCiSvqygv3pVZ0NyA/Vq+pL8hDDiCStqMlKUtwmzIvgRkNpI8HjJZEoMMojstx2uXBpJITyUajwRYLJn3P5z7j7Ac/c3txdtOvNyxyy9l5lyXmWxKoqPJAAAeY2AAAAxdx2tbN40p2hXdbtLrlNf+6w6lDbksL++bcI0n+EhDE3bZX9O0LqO1/UWXY7iMr+pmqG5U7blKyZmnw7ijdh8jwRqjLQREXwDE9gLCz1S6sU4UpeQ+cXiUH54vMX58ZXYaShGXMr3TN1MuxarGtPdDYzunNQkOdCLX23Tl25PXgzyiYRF4czIjVweJPEvNQ322tYCfuGHZ9/0Fq2qtWOS6E+zPKdS620STWXhJZIRyd4FyNlxCF8SNSSWgjUW81uh0W5aTKoNxUiHVKbObNmVDmMJeYfQfmlaFEaVF8hkKv39tPumyqJUI2glUXU7WlO+Mkae1iepDDchKycRIpE9XJynSULLm3nk3zMjVgiIhd2n4G1RuFSPUVJeLcM98W35Pip8UX8OnzI5dZDdbr2/f74Za4BDu2TWt/V2ypFPuqNIpl92lIKlXRSZsYosth8iy0+tjJ8EPt4cSacoNXUShSiRkTEOfvrKtp1xO1rrEovHh4Nd6a3T7U0yWMlNcSAAA8hsAAABBu9eXGg7cLgkzFNFHKqW+l3qllBoVWoSTI/nI8d+3twXcb3obHTF0T0+ioNBpZtaktkaMcTIojRdsdsfMIh90bkuw9m99yo6VKfakUNTJErj9tKswuB5wfbljJEWTLt28xYmkU5qj0mFSWPuUKO3GR96hJJL8RADW9ZCcVpDfCWcdQ7bqZIynl38K5jt6/mEfaaNTC1doynnWlIb0rpCV8WjTycOU5kyM1HgvR+D3PuXcTbIkR4kd2VKfbZYZQpxxxxRJQhBFk1KM+xERdzMxwx6pTJbqGIlRivOOMJlIQ28lSlMqPCXCIj7oPB4V5HgWdvfSo2s6ChlPO/dnHh4d/aaOOZZO0AAKw3K+VD0vdAKEXxNHasf01qB/iFgxXuXk/dA6X7E6OT/X7a3E/xCwgAqdae5jdXqRX7o+tttnteqW3btxz7fRU517FCXKVFeNtaia8OtSPL1kZezIk2+d2+gekkl+haxal0K1Lip1Oi1CoUpx515xsniVxJni2SpPdCy+1pNWCIzSnJCotr7ddWIVxahxL52yakXfT6xeNXq1M8Hq0iiUhcV941NmcRmahRLV3M1GgzPJZ8sCXdDNCbrnblri1d1Y0GpVtxys6j0u32n6kxWve11hbza225BpJXU6RMmpRJ/XY5KwZgCZKZu52y1anO1djW6048JmFFqK3509MNBR5HLoqy/wAMmo0KLiXpEZGRkR9hwWFuf021S1HjWlpxedpXFSZNKlTUzYNVdcldeO62l1vokx0+mlLrZms3iV6RYQZHyFT9rmze47f3Gwrz1i0fZlUyHblVahyKghiRHhzvfqStkyRyURrVGdSpKsdiM/IxtW9fbVrTfupNKq+g1nMopSLQnU6rlBqDFLOYTk+K69CSvklSXH2GnEEvHH1KURACzz+4rRyc9cFCs3U60rhuag02XUHaNArLD8kiYQZrJSG1GosGRErtks9xw6C6ySdYtC7V1Vm02n02q3HRffQ6amWZtoVg+xKNJq4ZLufEzLPkYr1QbZ1RiMQbZ0S2CWvpzS4tNep8iuXHVqe3LbjupJMhqO3CU6844siIyccWRKURcvWYiux9g1f0021ae3daWm1Qja7U64KfOq0pmrcJbcNUvjJjmrrEybRRT4mgskZZ8zMwBZymb+dtUC0WK1qNq3adCqzcJiZOgRJMqWlJOmsk+HNUdt2SX2tWeDWS7ZIslngv3RPZBrBAjbjdSUUWp0Wrtx5zdaqt0zYtJeRgiaUphchEYvIiNKmyyZdyzkQrsH2k33prd903PrdpTBi1A6FAh0OZNOLLcYWTsnrIaUhSzbM0myajLGckWTwZFH1k7ct1FQdpVn3pt7pNdpNr0p6Fa7l2VeIu36NJfkyFv1B+Ck3HJj5JU2ltHHBJT8JOQB6aUV6jyKRCet56G7TFMIOGuGtKmFM8S4G2afRNOMYx2wKL3z7o1f1v1q6kQ9P9N6VSrWuObbiCrd7OKqdWejr45jQI0Vb/AKXJGPQUWVeeO4lD3NJMuNtKt+kzZCH3aTVqzT+ohBIQomp7ycpSXZKfYRdiLsIy062b6/2PqbqprlYd3xbTvSr3jPl0uFVm2KhRa/R14W0h9LRm/GUa1LLmlSVljugywALDfZEzqZtXk7jL9sCfZk2LQHqs/b9TVyeZeIjJto+yVHzVw4kaUKwsspSfYYDafueq+rek1dr+tVJgWfd9jPuMXXCSZtsRUdIn23ySpa1JQplaT7qPuSu40bUq2dfN3Vm2tpTqPpLWtMaaV0c72lwq5FeJUSI11WFwHkmalpdf6eDNvKOB59RiH9evc56zTNQZk/Q6i1C4Svm0alRajV7irKpcqmVMkpNuUuQ+vqGl9olxlceXElZJOMgCwlj7w514Tot912FYOnukc1bhU+s3ldzcCr1VnH2uSxDUjg22tWOJOuko0mSsdyIWUo9ZpFw0qJXKBVIlSps9pMiLMiPJeZfaUWUrQtJmlSTLuRkeB5o7h9H9RLq0dhKpWwig2dVCqdDZr9WSqFU63KJt9pCiiIgIcWbXolzcdWguBH6B5yXpnBjtRIUeKwylltppKENpTxJBEWCIi9WABCevSc607eFey86mX/mCo/4hOYhHXlP/ALbu3x32XzPT9NvVT/EJuAAAAAAAAAAAAAAAAYO9LKtjUK25dp3hSWqjTJpJ6jSzNKkLSZKQ42tJkptxCiJSFpMlJURKSZGRGKsVWn6m7adS/qghyZNfiVxbcc+q42xHuz1E0/8ABbjV5CEpS2+rizOQgm1dN3BlcMYy5bZoF5UCda100iNVKTU2VR5cSSgltutn5kZfQZGXcjIjLBkAOjYN/Wrqba0S8LOqZTadL5I9JCm3WHkKNLrDzSiJbTzayUhbayJSVJMjIjIbCKXXRRNStoV6vX/RHZ1y2nU3m2p7rzqS8eyXBDTNRcUfFE9tPoR6grih9KW2JSiUTb4tpY9721qLa8G8LSqJTKbPQZtqNCkONrSZpW042oiU26hZKQttREpKkqSZEZGQAzvmOlSKLRqBD97qDSYVNiE4t3oRGEMt81qNS1cUkRZUozMz9ZmZmO6AAAAAAIu1s10p2lDdMtuiUR+67/uhao9s2rBcJMie6Rek66s+0eK2XpOvr9FCSPzPCTxmvu4eJpSqn2PZlGO7dTbm+02/bUdXpKM8/wBEyVEZdGOniozUZlyJCsGSUuLb+9BNCH9Nl1LUHUKtldWqN1pSq4K+4XottkfJECGky+0xGz8kkRczLkoi9FKAO1o1oxUrQqE3U3VKusXXqlcMdLFUrKGjRFp8UlckUymtK7sQ21d/jvLy66ZqNKUSuAAAAAAKvbjV/wDuw9rbPx5N2q/ewI/+MWhFV9xi/wD3bG1Jn4yr1V9FPimLUAANdu7T2zr88J9VtEbqPgep4fm44jhz48vgKLOeCfP2DYhXTd7eF1Wp9Sf1M1Osw/FeP6/vdNOPy4+H48/TTyxyVjzxk/LIs9Hta17ewoW8+CTzh5xjCb7PDY0qSUYtssWAAKw3AAAAAAAAAAAAAAAAAAAAAAAAAADEXerjadbV7KdJP+9KGXGFvU8WbXj9lMlf9EoAQ3sKXz2kaef2kSW3+9mvp/MJ+FetgCjVtIsTJ90nVUfRVJRfmFhQAAAAEV7re22DVx0vNmx64+XzoguqL8aR8bYlc9K3z4mkiu+70kR48iuKokXl8w590pEe2PV4j8jsOv5/ue+OttUI3dArVrP624EzLibP4yKhMemoV+FMgj/CAJZAAAAAAAAAAAAAAAAAAAAABCW47XyfplSJVuae0xFZvd6I280ypPJinofdJiM48WS5OPPqSywxySbzh4yhCHHEbDoNpB9ai1HHK/U3K7e1xOJqN13BIMlyKlONOMcsFhloj6bTZESUIT2SRqVmJdP0sXbWNM7mq59V29naxqzU3FFy5xY7TLFMZP18GWajENCfjR+Rd8jsJ90c2wyI79WptTvGoUOGSjl1yJZlUcgRiQeFm470OxJPOTxjsOm1WUdNtIadQWHLLnLtk4ycUv0VKMmlyfktrK2hp+XLjfoLPAOhQa9R7ookC5LeqDM+mVSM3LhymTyh5lxJKQtJ+wyMjGsav6uWpolZ31c3omcqmlPhU4/BtJccJ2S+hls8GpJcSUsjUeexEeCPyHMkxuwD8SolJJSfIyyQw6LspTl3O2Ulip++LMFNQU4dMkFENpSzQRFKNHQNzJd2yXzIu+MdwBmQAAAAAAABgr1vuzNN7efuy/7ppdvUaKpCHp9SlIjsIUtRJSRrWZFkzMiIvWZjQWt3e1R+OUlvcnpjwMsklV1wUr/eG7y/EAJbAfDLzMlluRHdQ406kloWg8pUkyyRkZeZGQ+wBV7d5p7dNIua0dxmlFWao132+6mhS33nEtxZ0OQ5mOxMzglsHJNDR5MuBS1OkfJpBCdNJ9R6Tq5pzQNRqKw5Hj1uITy4zuepEfSZofjr7FlbTqHG1dsZQeOww711WDrBVNRNCZsaY49RYjNPrjLzRIStidHUpCmVZMz9HkXLBYUnt5ZEPbIZNy0F6/NOLwq5T6xFqTtdnLIsJTNfqE+JKShJ/BSpVPQ+Rdy/orJGfIdXxx1TQW6n75bNJPtdObe3jwy5Z2itlzeIMcFXblL5y0wAA5QnAAAAgXfJCRUtttapriUqRLr1rx1EoiMjJdfp6T8/nE9CCN7MlMbb/KUoux3TaeTzjBFcFPUf4kmJ3AGnazJcXo/fSWjLmdtVMk5Tnv4VzHb1jRdKmZf111PPESiRpfayFOJbNKFuHJqWeOTPGMZMsmfpJ7+2aXXW2W1vPOJbbbSalrUeCSReZmfqIcbE2HJWbcaWy6om0OmlDhKPgvPBXb1HxVg/I8HjyFlQv3RtJ2yjni7e73vh8Xv7TRxzJM5gABWm5XyQWd/8E/Zo7LL6a1H/AMQsGK+vIIt/sN3vk9HpKfM8dq0z6vL1iwQAAAAAAAAAAAACJ9Zj3TrlMR9AYmlaoTsZSZT93yqih5p4zMiNtuK2pK04wfdSTyWPlEsAAIt2z6NSdBdG6LpvUawzVajFXJmVCYw0bbT0qQ+t500JPuSCU4ZFnvgiEpAAAAAAAAAAIW1+Tx1G0BkfF1Eeb/fW9WP8QmkQhuTf8Ndmgr2cf+2nHb/f0Sro/nCbwAAAAAAAAAAAAAAAAAAAcE6DCqcKRTalEYlxJbS2JEd9snG3W1EZKQtJ5JSTIzIyPsZGKkViwb92ZXvUNUdMIlSunR6q8XLntVkzem0Mklg50Qj7vIQgkkaTPmltBIM1IShce3wADEWldttX3bVOvCz61Fq9FqzCZMKbFXybebP1kfqMjyRkeDIyMjIjIyGXFea9pndm3e4qjqloFRJFYtSpvnNu7TmLgjeUf3So0YjMktTCLuuLkm5KSMkmh0kGqX9N9S7H1btOLe2ntwMVekyzUgnWyNK2XU9lsutqIltOpPsptZEpJ+ZEANnEB7idyE+xKpC0f0dozd16tXEnjTqWn02KY0ov6cmGRlxQkvSJBqTyxk1IRlZYvcfucqtqu1vSzQqAzcGodOpTtUq8lWFQLUgpbUs5U1fdPUNKTNtjupXZRpMuKHOzsn0gt+y9Hbe1PlvTK1fWo9FgXFctwVNwnZsqRKYQ+polYLg0hS8JQRFnGVZVkwBndvG3GJpAifel41pV2al3N9tuC5JJclrUeDNhjsXBkjSkuyU8uCfRQlLbbc1AAAAAAAAAAKq7hvS3x7VE/F+rP8dLbP8AmC1Qqrr76W+ra4n4n1XfjpDp/wAwWqAAa9dun9n314X6rKG1UfA9Tw/UWtPT58eWOJl58E+fsGwite8m9LrtD6kPqYq9ag+L98Ov72zTj8+Ph+PPC08sclY88ZPyyLTRrStf30Le3nwTecPljCb7PBYNKklGLbRZQAAVZuAAAAAAAAAAAAAAAAAAAAAAAAAAGDvn/wB5Nwf7lS/+hUM4MJe5Zsuvl7aXK/6JQAhH3PtXLaTZXySa2n6KxMIWJFcfc8l89otmK/8Al1fL6K3OIWOAAAAAarqvY56naW3jpqVV97DuygVChlO6HW8L4qOtnq9Pknnx58uPJOcYyXmIso2kG6K3bdpdq0DcdYtNp1GhMU+G1H0ydPpsstk2hOXKqrySkhPoACAnNJd3Tp+lvApDX7hpnFL+XLUPj6zG7BXw96Kk/uenVML+UsxYAABX/wCspuoPz3rT/wAGn9I/OQHopup/W7153++0+pB/kIhYAABX0tGd2iDy3vSSr5HdOKaf8lxI5mtKN3jJ9t3lBe/dtMmD/kTUifAAEJMaf7uWDSaty1hyeJ5w9pg6XL5D4VZP4h2Xbf3gstkUXVnSCUovW/YFTaM/3tYP8gmQABAr0DfchS/D3ZoM8klega7erLRqLBdzxNVg859vq+Yui837oWhZExM27uoweTXGrjZ59XYnFfKLEAAK3r/VGeRE2e3Dj6zMq7kdmJD90Fkn06nXNvMRtRYUbNKrcg8fMchv8osOAAqbtyRXY0fSijXPKhSqnTdKa5QjVCjLYb506owIrjfBa1nzSSWUrPlhS0qUSUEZITT3blYtVp2ltF1G3IaR3BqtpJEqU9UBmn1mZJK1DYluoWqTROSWpLPIlrNZE4pJZykyIhdCrvfWp1lJ2UZtwKNdB1ttWOxUO4vtEs8/7VWUNvuH5JbdSasZ5C0nmOi6Qw4qlKvHeM4tp+eTljzqMo58WQ0ns0eXm7DcFF1T1QsGkWHrfbFo6JlbaqvFnTpFWg0ytSkuKaXEV72qZkdRkiR9oNxrjkzMjPBDXL3tG6782OVG/XdxeoNw0ai3Ox4Bo4kmNTZsdyfH6SmVVHqzHmmTUrpuLX2MsGSiT39VkW/QW4iYDdEgJjJcU8lkoyCbJwzMzUScYyZmZmfn3HYmQINRiLgVCExJjOERLZebSttREeSykywfciHOkx59WvoJctV3m3TpHWtxmq52yuzKXccomq+cWfWXeotkiekR0N8W0ZMjS0lHIuBGZ47xrvFZuzapqKq0NBruuenN1aw3CkVeqVeZUHKSzIq7KH5RvK6jraEJPHJJGpBKUou49TygQEzPfFMJgpZtEz1ybT1OmR5JHLGeOe+PIci47DqjU4w2s1INszUkjM0n5p+b5AB5b7dqTc1/XZcWnOmW6ybVpUmzZLbztmLuKRTo1UyhceZJm1KS4hp01pNOGCSS0mpJpSWSH3Wdfdxmu1OuHUiHalcoNU26WtIZmwEIP+jLweSqO7IJtOeo2wx1HUoUX64slgyz6hRIUOAz4eDEZjNZzwabJCc+3BDkQyy0a1NtIQbiuSzSki5HjGT9p9iAHjXp9PuG4WYVBom6tV2XJWbcqz1ciWm5ctSfnE5BdwqouzJHg2EtrNJ822W1JURYT3IW62k7bafqxoVp1q3qfrPqjc9cnQodUYSV2S4sKCbZlwYbjsqSgySSCSpSiUpR8jM+4upGptOhpcREgRmEvGZuE20lJLP5cF3/AAj7hwodOjNwqfEZjR2S4tsstkhCC9hJLsRADiqdJpdagrplZpsWfDdx1I8plLra8HkspURkff2imuxrS3S+4qprVeVR08tedLRqnWI8B9+kR3HIjTPBKUNKUgzbTnJ4TgsmYuqOGPEixCWmJGaZJxRrWTaCTyUfmZ48z+UAeaNwasUW74F/1/WHcpqNb2qcCvVWl2hp1Z9TkxHoJsLUiChMCO2apK3cIWbjvJBpX6k5Hbb1WcuSv3JS97W4+8NNqjasGkxKValtVN+kSak8uC249N4RUG9LWt9S0JSgzQlSDLjkekvho/X8V0G+tx49TiXLj7M+eAXGjuOofcYbU41ngtSSNSc+eD9QAof7n7P1Jk63X85qmusOVydZluy3XKwz05y2SfmojKkpwWHjjk0a8kR8s575E46S06kx932u7tMkkpaabaz0plJ9mZL7EnmWPVlDDK8es3FH5mZnKmpV+0rTS31V1ymrqFVqL7dOpNMjERSarPcyTMZB/Lg1KUfotoStasJSoxT+sbddetR6JqWWlOsNOodeqFVhUq5pTkZbce5pEYlyZbKJSSU9EYbfnvRiNCFKNEXpnhOTPodNpyoabd3E3hTgox8X1tNv0JL0t7cpYim8zivvyZdalXpZ1erVRtyh3ZRqjVqQltVRgRJ7T0mGSzUSDebSo1Nko0KxyIs8Tx5GMyPNzZxtc1NhXtqvbN3fXG0NW/Ip8hli1WYSYc6H0loQ0zVnIz6nOiaVZJDqVK6vJSSXz42zo+0mzIKcVrVTWq4V+tdQ1OrTef8AexpDKS/ARDniUnABBVS2X6LVIzWufqK24ZkfU+uJXnlef+3S1+fkMFK2NWkSuVv686624ZZ4+9V9vt47f7Ylecew8l7SMgB2PdBUY2m3hN6SXCp82hz1JUWSNDNYhuLyXs4JULFCrd4bM9Rbqsmr6cP7v9Q5tuVxg4c6JXadTqo47HPGS66mUupXksktKiweOx472j+cAajrARq0kvdKTIjO3KkRZLJf0s4NC0UbeVqPW5TiDMj0/stgnCSZIM0nVFGkvlLqZPv5KT85zS88zHZXIkOoaaaSa1rWokpSkiyZmZ9iIi9Y68OrUqouusU+pxJLjKG3HEMvJWpCXC5NqURH2JRdyM/Mu5CyoXsqVlUtlDKl2928X3fFxz7TRxzJSO2AAK03IAkJWW/mnrNSeCtIJhEXHvkq1Hz3z8peoT+IDmc0786RlpRJXpFUcL7YMyrMPJeeclyL1eshPgAAAAAAAAAAAAAAAAAAAAAAAAAACA92DhsVPQuR8TV2jJ/fxJzf88T4IB3eoPwWj8oi/pbV61lGfs5yFtf4QT8AAAAAAAAAAAAAAAAAAAAAAAAhLUTbbKqd0TdQdEtSZ+lN11xPh7hm0ynszItaYxgnH4jpk34tGT6UosOJyZL6iD4lNoACu2qel9iaAbOtWaJYlOcYNyz65JmVCU8b86qVB2E6SpUuQr03nlrURmpXlnCSSkiSUvaTUpNB0rs2hoLCadb9OiEXsJuM2n8wib3QOrLouzfVCY2fpuUluIkvab8llnH4epgT7Biogwo8Jv4EdpDSfmSREX5ABzgAAAAAAAAAAqxrlwVvq22c0qM227l44PGDVSZXc+3fsk/Z6vZg7Tiq+tnpb69u3+1t13+NSah/ki1AADXbu09sy/PCfVdQI9T8D1PD9U1F0+fHljBl58E/QNiFVN9F/wB32N9RP1KV2t03xvvl4j3tnKjdTh4bjzwtPLHNWPPGT9ottCsa+pahTtbafBOWcPdYxFt8vBYI6slCDk1ktWAAKkkAAAAAAAAAAAAAAAAAAAAAAAAAADD3inlaNcT7abJL+9KGYGMuhPO2qsj40F8v72oAV79zkdNzaDaGcejUrhIvmOtzT/OLLisXubKuezuzl/Gn14//ADxMFnQAAAAAAAAAAAAAAAAAAAAAAAAAAAAAARLuH05Xd1uN3PSqCdaqlBjy2H6UjiS61SJTZIn00jPsSnEJQ42eS+3x2MmRZHxtw1OavW0/qZqVfKrVy3WWUqnLPDlVpzhKKHUVJwXFTqUKS6nBcJDMhsyLgJdFXtcdLtQNLLzb3C6DQF1ByM+5JuK2WyMzlsumRylx0pIzMneKVuNERn1UIfbJSydakdNpdSlqlt+CriSjLnTk9kpfBb7FLL323e+cJKGacJca9JaEBqOlmqlmax2dDvax6oiXCklxdaMyJ6I8REa2HkEZ8HE58u5GRkpJqSpKj24c9XoVLapKjWi4yi8NPZpkqaksoAACIyAAAAAAAAAAABhLzvO3dP7bmXZdVQKHToSSNaiSa1uLUZJQ02hJGpxxajSlCEkalKURERmY5Lru23LGoEu6LsqzNOpkJJKdfdyfczwlCUpI1LWozJKUJI1KUZJSRmZEK9Tbgq95ajw7gnW89WL3gNG/aVjOvcIttMOpwmq1p1JKSzJWg1GlHpLQlXBpC183Ct9L0x3rdWplU48+zOOxN7Ls4pPaCeXluMZRznw7Lmdl2tX3LqcS6K9RmYmrN3syYVkW1JWmQ1adLyRPT5XA+Jr49Nx9ZeajZioPuZqnSwrMpmntoUyz6Q466xTmjSp95XJ2S8tRrefcP1uOOqW4o/WpajGC0y0vKyV1C5birCrhvS4OCq1XHWun1CRnpxo7eT6EVrkom2iM/NSlGta1rVvg31a/hXfuehjgXdlJtZSUU91GOWo58p5lOXlSaSnDG75gAAUpIAAAAAAAGr6poW5pjd6G1JStVBqBJNRZIj8OvGSyWfpEW7bfFuXLc0iQ+04n6nLQaTwaNBkZU1SlZM1HnJryXlgu3fzE7uutMNLffdQ222k1rWtRElKSLJmZn5ERDgiVSmVBx1qBUY0lbJIU4ll5KzQS08kGoiPtySZGWfMu5Czt76VGyq2qhlTxv3bxfd8XHNczRxzJSO0AAKw3K5au6gae6Q7q7IvjUy8qRbFJn6d3LTGplTlJYbdkIqVGcS0k1H6SzSpaiSWTwlR+oxkHN+W0xK+nH1giTVf/ACClzpefm6LCsifQAEHwt5+gNTMipVUvOfny8Jp5cT+fm4QTHcd3U2ASOpEsfV6aXqNjSu48H+FUIiEyAAIMd3bWwg/tejGuT33umVXL+UyQ4F7vqGn4OgmvS/m02qP50CegAFf17xaOny28bgFfNpvP/wAQ4lby6QkjUe3LcJgux402nH+LGRYUABXRW9m2W/u2gGvrP7rpzNR/KIhxq3z2C3/TGkWsjH7tZT6PyqFjwAFa/s+NIElmRZ2o8ciMyPrWy4nBkeD/AFw+Fe6D7fWv6bK7I3t6tBdLH0ZFlwAFZFe6N7VWf6cu+sRvb1KBMPH71sxx/qluy1KuEjVySwr2OWxV8fSUUy/GIc31bq6rQdZKfoxYN73xRZFCp3Wqki0aWcx5NXltmunx3kmZEoiQ2lxTfcltvrwSlJIk2x2w6vua86C2dqtJipjzK1BUmc0gjJCZkd1ceTxI+5J6zLnEj9WABHsf3R3ZVJMiRrrTkZ/r1Lntfy2CGXib9dnM3HR3C2ijP9ekqZ/lpIT4AAqxrHrjojrZCsS19KdWLUu24WNRbTqjNJo9UZlTXI8erR3JLqWEKNw0NRyeecURYQ22tasJSZlacfmC9g/QAAAAAAAAAAAAAAAAAAAAAAAAAAFa/dEGym7V6/Q/XV6vQohF7f8ARSM4ZfQ2YsoK3771E7pbalLPyqd/UGHj28nzPH8UWQAAAAAAAAAAAAFVNZnUq346BsYXybZqi88D44VSqsXwsYz6PlnItWKr6v8Apb7ND/7RqZ/GpNc/yRagABq18aX2DqT4L6uLZi1f3u6nheuai6XU488cTLz4J+gbSKTe6TanX5pz9br6ibvr1C98fffxXvXUHIvW6fg+HPgpPLHNWM5xyP2i86N6bcavqlKztKnVzlxYlusYi2+W+6TXpIq01Tg5SWUXZAAFGSgAAAAAAAAAAAAAAAAAAAAAAAAAB0q2jqUWe38aK6X8Qx3RwzUdSG+38dpSfpIwBWP3MwzXsssN0/6pKrqv/PEwWiFXvcye+x/TVfx01df76rTD/OLQgAAAAAAAAAAAAAAAAAAAAAAAAAAAAAAAAACAtTNudfh3dM1n25XMxZ1+yGlFUIL6DVRLhPPIimsp+C5nP25Bci5LP4SuZdC092dYgVpNi61aPXHbF0pJRk1S2TqTUtCTwbsdlv8Aoh9OMGfh230pzxNzJYFjBhbtsu078o66Bedu0+s09S0udCYwlxKHE/BcRnuhaT7pWnCkn3IyMdBR1mlcU42+qU+sSWFNbVIruzykl2RlnHJNLYidNp5g8fMacxuU0KU6mPUtTKRQ5CzwlivqXSHjP2E3MS0rPyYyNupV+WNXTQVEvOhVDqnhHhaiy7yPBnguKjz2Iz/ANGe0ov62WVR9N9Un3qZjBUK8Yqq1EJPxESDWiYntgiNx54iwWE+ZHq1Staalzlf+zezbnUgyM5VuPUyaasHkl9OotxFJP18SUsy9RqG7sNNr7283jxnHK86mqaz+jKS8THFNc19/aT+ArGm3dv0AuK9tOoNrrIzPjR7cnsmj5CVS1qIserieC9Q0TWbVfQrRy2E15NB3FOS5K1MwYJ1666cl40NqccUXjH0oJDbTa3FmlKjIkmZkYx+BIdjqY7+rjj1qo0Os83r/ANi64CptBp15XjTI1w6a2trXJpFZZanQJ9a1MYjRHWHG0m2tvi9JfJCk4V3bz6RmMZW9t27q6ITzB6zwLb6xp4+Fuy4pkhpPIuWHkvRkGfHPmyZH5dvMs/gW0hvWuoxXok/7MZSY6yT5RLfTZ0KmxXZ1RmMRYzKeTjzzhIQgvapR9iL5xD1c3W6buS37f0oYqeqtxtGlHvdZzJTWGVKI+JyJ2SiR0kZESjW7yLPZJ+Qq7P8Acz9Va7V49cuvcE1cUqNngVap5T2+/mZoeSolfOrJ+ffuYlKl7Xdz1DpLNGpG4+DEhRG+EaJFp8iGw0XqSlEZ1skln4pEIJrR7R+Q5134pU4/PKUl8m/E2/GS8Pb9/aZym6G66awXhD1G15vBi1GYCT96rXtqR4hVN5ebninE8EScGaFPtoU5xUfScYIzI5/s6x7T0/oyaBZ1Dj0yETinloaypbzqjyt11xRmt1xR91LWalKPzMxXL7GXcY5/TW4Xre3+j7hb/wCiqiA+xX1qc/pnWknfnuO9Ul9CLgSQ89/rFzqEVTniNOPKEViKS8Ob5veTb3e+5mNOMN+0tUAqmjabqutJ+J1Poqzyf3Wo3nIyWe2edxeeMD6+xD1DX90v+y1/utNul7+VcYqzctUAqr9h1eq/ul6aaq+/tG4HD+lVxn+QPsM7lV90ufS1Xz2JVlfyq8YAtUAqmrZVWFmk1XDpd2PJkWns0+RYPt6VYP5/wD6+wmmH8Ot6Yfg07f8Az1QwBaoBVJ7Y++60ttNw6csqUkyJbenaspMy8y5VAyyXykY+/sHyPzuKw0/eWDj8s0wBY6+m1u2TcLTZkS10qWlJqLJEZsqxku2RC+0WG4mFctVdjGlUuJazZOmSi6qUW5Tz9Ej7cSNau5H58iPyGrubIGW0KddvG0WUII1KUmykoJJF5mZnL7EOtTtlVPqLKnqdqdbktBKLLkW2EGkiUklpLKZWPgLQZe0jI/WLO3v5ULKtaqOVPG/dhp93h3mjjmSl3FtQFVfsG3P1upcRH7nb6k/klDik7GKk62SYus0iKonG1GpqlvFlJKI1Jx4v9ckjTn1Zz6hWG5a8BVX7B6qF8DXOvNfuRTEfkmh9hBX/ANZuMvZr9xqNTb/kzwBaoBVNOyK70OqW3uq1PbSaSIkN3HWkER98n6NRLOcl2+Qcp7ML/ShSGd2up6ORGWTr1XWZfKXKoGALTgKwI2iaqtfcd3moSfvpc1z+VNMfatqmuCFNnF3mXs0lKsrJURbvJPEyx6ck8dzI8/Jj1gCzgCtSds24Nr7hvUu1H31Djufy3DHIW3Xc239w3x3Ij76z6Y5/LIwBZEBXL6wm7FvJMb7aylP61LmntEWRfhNHI/wnkcidEd3rfwd8Bufu2mtLP+StIAsSAr+1pHvAZ/78ajPfu2mMX+ZLSO/H053dMY57obLkfu2mCv5lUSAMVvDfbir0PdU4SDVrLbbZZQauRrTJTjt5djPufbsLCkRF2IsCAbj0I1x1Bq1lvaka3WdUKXZ11U+6kx6XYUiDIkvRTXxa6y6o8lCVE4rJ9IzI8H8hz+AAAAAAAAAAAAAAAAAAAAAAAAAAAAAAAAAAKz76Hf8AQXRiF6p+s9qRDL2kt10WYFZt7zfWe2+MfH1ythX7xuWv+YLMgAAAAAAAAAAACq+rPpb7dGv7Rlz+NSri/wAkWoFV9U/S33aTf2jDX8alXP8A5ItQAA0bU3RHSzWT3t+uZaEeu+9HW8F1nnW+j1eHUx01pznpo88/BG8igXurGrGpGl/1rvre6g162PfP378Z71VF6L4jp+B4c+mZcuPUXjPlyPHmY6Lonpd3rOsUbGxq9VUlxYllrGIyb3W+6TW3eQ15xp03KSyi/oAA50mAAAAAAAAAAAAAAAAAAAAAAAAAAD8Mslgx+gAK0e5ts+H2UaaM4xxYqP46lKMWXFdfc9Wuhs605bx5Rpx/TUJJixQAAAAAAAAAAAAAAAAAAAAAAAAAAAAAAAAAAAAAAAAAApRvg253Be1+W3q7J1mrFIhrn0Ow6XSKXAabchNVepswqi+Ulw15U5GkupNJNpzxQSjUlPE7riu+9i42rdtDThx1ClJe1Qtl5REZfc4cg57p/gahuH+AAbxts0drOgekdK0oq99ndrVDdkIgT107wbiIi3VONsLQTjhKNvkpJKI0lxJJElPHvKAAAAAAAAAAAAAAAAAAAAAAAAAOrVGlP0yWygyJTjDiSMyyWTSZeQr5sZaeRpZUXJEZ1hx2TReSHUmSi42xRkYMjIu5cOJ/Kk/LyKxo6tPqlMq7ByqVUYs1lKjQbkd5LiSUXmWUmZZ7l2Fjb30qNlWtVHKm4792Hn2+c0ccyUu47QAArjcAAAAAAAAAAAAAAAAAAAAAAAAAAAAAAAAAAAAAAAAAAAAAAAAAAAAAAAAAACuG8VnxFf28s+zWWju/vYU8xY8V73XNda8dvSMeWq8JX72mVA/zCwgAAAAAAAAAAAAqtqYfLfjpin4kaGfl7aXdn+IWpFVtRvS346e/2kalfxqXeX+SLUgAND1R0K0j1q97Prp2LT7j95ut4DxfP7R1uHU48VF8LpN5z8Uhvg88vdW9XNT9NKpprG061CuK10z49WXLOlVJ2KUk0qikjn01FyNOVYz5czx5mOk6I6Vd61rFKysavVVJcWJ5axiLb3W+6TW3eQ15xp03KSyj0NAAHNkwAAAAAAAAAAAAAAAAAAAAAAAAAAAAAV+2DJ4bRdO0/wDySWf0zXxYEQN9hVopGgIpFDm6g0SnMms2YNOv6tNRWOSjUom2Dkm22nkoz4pSRd/IYKZsE0emGZruy/zz/X64Uv8A6w25n8IAssAqufudmkKSJLF33IgiLBdSkW7J/wCnpa8/hBr3PjTSK6h+NcqXHG1EtC5dg2e6pKiPJHlNIT3AFoXp0KP93mMN4+O4Sfyjov3Xa0VJqk3LSmSSWTNyY2kiL8JiuLOwux4n9J1G1U48uel9r/zICR3GtltMjliPXrNSXy6X0D+awQAn36tbN/2W0b/l7X+UH1a2b/sto3/L2v8AKEEfYeo9VyWT+HTCi/ow+w8Qfnctll97phRC/K2YAnVF82S6k1N3jQ1kRmkzTUGTLJHgy+F5kZGX4B9fVrZv+y2i/wDL2v8AKEEFs3ikWPqotRJZM/Q0zoBdz8/OOYfYawD+Fd9AL7zTe3S/LEMATsi+LKcdUw3d9EU4lJKUgqg0aiI8kRmXLyPB/QY7CLntpz7ncNMV80ts/wA4gA9ltGWZm5eNKyZYPjp1bP54BjgXsdth5ZG9d8DhgyUSdOrTyZ9sHlVMP5fV6wBYxFao7n3OrQ1fM+g/zjmRNhO/c5bK/vXCMVoXsH06f/pi7HO/n07Asov5VEUOFfueOjL39NVV5/25suz0fyKKQAtGRkZZIyMvkH6Krfqb23lR5eircP2lbduNn/e6YkfSfc3NtP8AVaPLX97EpzX/AEcVIAtOAq+n3OHa9yNb1t1V1Rnk1e+JoMz9pmgkjsN+50bVEednVpXzXLUG/wCQ8QAswAri17nttTa8rHr5/NetcT/JlkOynYLtZQZGmx6/lJ5L/wBm9ePB+X9m/KALCgIBTsT2yI+BZ9wl81717/8AGDlTsd22o+Ba1yp+a+q8X/bQBPICCUbJNurajW3b91oUZERmm/rgI8F5eU35T+kc6Nmegjf3OnXqj73US4i/JOAE3iqO/wCbWdD07NaDNqTcUqnMq5qwUuRTZTbJcfI1H9sIjPuXci+EYkdvaLouz3ZVqC395qZcqfyTxzfYm6LuTaVOqEa9KqdFqUarwmKrqBcFQjNy47hOMunHkTVtLNK0keFJMj8jIyMyAEwgAAAAAAAAAAAAAAAAAAAAAAAAAK0+5/MSI+g5tyDLkmqG2SeBpNKW4cVsknkzyZcMGfb5iFlh0aRXKLcEQ59BrEKpRSWpo34chDzfNJ4UnkgzLJH5l6hZW97KjYVrVQypuDz3cPFty7c965dpo45kpd2TvAACtNwAAAAAAAAAAAAAAAAAAAAAAAAAAAAAAAAAAAAAAAAAAAAAAAAAAAAAAAAAAIH3NtdW9tv3by1SYP6KNVD/ADCeBCW45KTvHQQzLy1Ra/8AQVYE2gAAAAAAAAAAACq2oPE9+Ni4M+RRaJksdiI6Xe2MfQf0F557WpFVb/8A9fpZH/glC/8ARl7i1QACPdUtv+jmtcinytU7Dg3E7SUONwlSluF0UuGk1kkkKIu5oTn5iEhDzj91D1b1YsHUazKRp1qBdNtR3qI9JkppNVditvrN80kaktrLKiJHmZeR9j88dN0Q0q81rVqdpY1upqNSanlrGE87rfdbENxUjTpuUllHo4AAOZJgAAAAAAAAAAAAAAAAAAAAAAAAAAAAAAAAAAAAAAAAAAAAAAAAAAAAAAAAAAAAAAAAAAAAAAAAAAAAAAAAAAAAAAAAAAAAAAAAAAAAAAAr9sfiy4eispia42tabprqCNDRtlhM1xPkaj9aTPz8jL2ZOwI6tPqlMqzCpNKqMaayh1xhTkd5LiUuNqNK0GaTMiUlRGky8yMjIx76N5KnZVbVRypyg893Cp7cu3i71y7TVxzJSO0AAPAbAAAAAAAAAAAAAAAAAAAAAAAAAAAAAAAAAAAAAAAAAAAAAAAAAAalqrqVRdIbEqeodx0ysTaVR0JemIpUI5T7bPIiU70yMjNCCPkoy8kkZ+oAbaAh+DuasS5tRrE0+0+NN0/VvRZNxlUoMhPh4NNaIkpfc9ZmtxRNkjsZGSs44mQlKBXKLVH341MrEKY9FVwfbYkIcU0r2KJJmaT+cAd4B00VekuVFdHbqkRU9tHUXFJ9JvJR8Y0Z5EXy4HcAEIbk1cLr0GV/9KcYvpotWL84m8QRuic6VwaDuZ/7rNPT++plTT+cTuAAAAAAAAAAAAKq3/8A6/SyP/A6H/6MvYWqFVb/AP8AX6WR/wCBUT/0bewtUAAjvUjb3o3q9Vo1c1IsWHXZ0OOURh2Q88nptclK4kSFkXwlGecZ+ghIgozvPvrU6ia6R6HZd0XZBgotOnS3I9Iqy4rROuTJ6TWpBOoI1GlpJZwZ4QRH5EOh6M2N1qF91VnW6qaTfEm1tssZTT3yRVpRhHMlkvMAAOeJQAAAAAAAAAAAAAAAAAAAAAAAAAAAAAAAAAAAAAAAAAAAAAAAAAAAAAAAAAAAAAAAAAAAAAAAAAAAAAAAAAAAAAAAAAAAAAAAAAAAADF3RctGsy26ndtxylxqVRojs6a+llx42mG0mpa+DaVKMiSRmeCPsRjaEJVJKEFlvZJc2xyMoIS2sXBbsyg3tatNrkCTVaDf91++MBp9CpEJL1cnKZN5sj5IJxKTUjkRZIu2cZGhQN2GpGsLXiNvemzk2luGpLNTkQznmssmXJRdeNCb8s8TnLeL9eyk/RPC3nWt2dGTHZunXChWZUaoZpptLo9Gj12rzFf7XTijdyI/NXiFIT5rcSXcdlbdHbmnRqWN1KFOpJxeJSfEuHi5whGcmsN8sNc+9HmdZNqUctFi9SNcNJtIXYbGpV90y33aihxyK3LWolPJQZEo0kkjM8GovpGs0rdxtzrpPpouqVOnvsKbQUSNHkOSn1L5cSYjpbN18/QVkmkqx2zjJZie19uu5XU+I4/rvuHuml0mSwbSaZTafR41VcSZdjefYjKbimRmeWmlvkZH91I+w7tB9zp0jtyZLnwNSdUlP1HBzlO19pXjFFjCni6GHFFjzP2mN46Z0ZtKTpXt1KVZdtLyoPf41OL5dzks9vNJx1pPMY7ePP5zMap75LN0mep7VwaR6nG3VEOOxH1URthCkIMiNS23HSfaL0ix1Gk5wfsMYizfdEdJLt8WpdnXZS24Jt9Z2YqnNl6fLHBtUsnnPgHng2rHbPmWcqjYTo9HcORCqU9mQrzkO0G3pbh/OqTTXOX4cjPUjblcVlpd+oW8rPInuPURWdPacsnuOcEs6ecPyyeDx2yfb1D0t9EVb8EU3U+E3OPb3KMly8ee+MbGPx+fD0HUlb5tAEOQo1MrFTqEufzJuIUE4T3JOPR4zFM8zPJ4NHIjIjMjx3EqWDqEm/SnKRZ9wUNMLpYVVm46Ovz5fcyaecP0eHflx+EWM98Q/culcublWpO0vSy/mEpNPi6CmKifg/PhHntNpQfsxLM/m8z0W0NOtHbAuWR9j9flc0Iu6rm0h+2rop61U2rKbUako8PNMuvjmoiVBklxJS8H8Ih56mlaRc20o2ilGfPibVWK35ydN8UVjtdJ788czKnUT8rl6vn/AGlnb1u+5bZcitW9pZcd3HISs1rpUqmsNxjLGCcOZKZUfLJ44JX8E847Z+7Kui57l8Ydx6a1m0ij9PoFUpsF85PLly4+EfdJPHinPIyzzLGcHiIJVYtu8bhoenm73Qq10181uMUCtvwWqtb9QdWhs1oiSX0dSG+4aP6XeShSukkkLdwQl+y9MNN9N/GfW+sK37aKo9PxZUmnNRCf6fLhzJtJcuPNeM+XI/aKO7t6NlaqlVh+MaypJNprPNTVVxe23vNnlPDWSWLcnlcvv4fSfF7XDfdDVGTZmnibmJ1CzeUqsNQSZUWOJHzSZq5ZPuRdsD7sqt35WfGHe1ixLbJrp+FJmspnm/nlz5cW0EjjhGO6s8j8sd+C9tJNNtR32ZV82dTq09HaUwyuUg1KaQZ5Mknn0cn7Pk9hDnsvTOw9OvGfURbEOjlUOn4koxGRO9PlwyRmflzV9I8rqWXuPgUfxvfwvv7+sxy/m/2mcS4s9n38PpPm8KnqbBlRGrBs2260wtKjlu1e4n6YbR5LBIS1Ck9TtkzyaMdvPJ4+7LnalzSmHqJbFs0Y09PwaaLXZFS6meXPqG9DjcMehjBKzlWeOCz+XrppZWofgzu+jqnHA6nhzTLeYNHPjy+5LTnPBPnnyCy9NrO098Z9SVMfh+P6fiCcnSJBK4cuOOstXHHNXwcZz3zgsYdWz9ycHD+N7+F9/f1mOX834eIxLi8Pv4fScV7uaqtrjlpvDtR9Km1+IOtyZLRoX24cCZbVyLzzk04wWM57ctlq1MV4w9RWrYb+5+DKiuSF/G6nUN4i/tMYL42fUOve2lNl6hSGZVzxqot1lk2EnCrc6BlszM8KKM82Su5n3VkyyeB2LL05tjT/AMZ9TZ1n+j+n1iqNdnVEi4cuPDxTznT+GrPDHLtnOCxl1rX3H1a/fP0F3/C4+74nh4jEuLPYcV7M6qvOR/rc1K1IjZNr8QdbgyZJqX+t4dF1viXnnOfP1Y78tlRtTI/jD1FrVsT+XT8GVFpciJ0/hdTqG9Id559DGOOMKznJYXpp1b9+qhrrk+5YqoPU6R0W56lSOXPjnqeCfa6vwSxz5ccqxjkrP7ZentDsJMxNFqVzSymm2bnv1ctRq5o4csdM5r7pt55Hnhjlgs5wWMOvR9x9Vny/0I9/w+Li5eHhy3GHxZ+n6D4vKnanT34h6f3fbFEYQSvFlV7dkVNbp5Lj01NTYxN4LlnkS85Lyx3+7Lpuo1PTL+uDd9v11Tht+F96aA9TCZIuXPmTkuQbmcpxg04wfnntwXtpvTL6eYfqFyXZTFRm1NoKiXDMpqT5Hk1KTHcSS1eWDUR49XmeeayrAp9jeM8BcFz1MpvT5e/VclVHp8OWOn11q4Z5HnGM4TnyIZdan7k6viXF3dXHPP4fvvvjkMPiz9P0HFe9D1Hq6452Jf8ATrcQltaZBS6D74m4o8cVIPrtcMd8kZKI+3lg88tlUa/qR4z6uL5g3Eb3T8N4WilTyYxy55+3Oc+WU+zHE/PPb4vfT9i+DjG9dt1UU4qXEp95Ks5C58sd18PhmWO2fLJ+0x92XYrdleM6d2XPWimdP/TqprmdHhy+58i9HPLv7eKfYDrQ9x9XxrPd1cc8/h44vb4chjys/T9Bw3tbmoFcdYXZepCLYbQ0pDqFUZqd1FmfZZGtRccezvkc1lUC9qH4z6sb/K5uv0/D4pTULw+OXL7mZ8+WU+flx7eZjjvWwnLzdjOt3zddv+GQtHGiz0x0u8jLuslIVkyx2+cxyWXZD1m+M6t7XPcPjOnj36ltv9Dhy+58G0Y5cu+c54p8sdzrRdn1fHHPdwLi5/D4c+3lsMeVnHtOC97YvyvvMrtDU161kNtKQ4hukRpnUWZ9lmbxHjHsIc9lW7eNA8Z9Vmoci6Ov0/D9Wmx4nhuPLljopLlyyn4Xlx7eZjhvawpl4vMOxNRLttnotqbUmiSWG0u5P4SidZc9IvUZY8++e2OayrLn2h4zxt/3Pc3i+nw9+nYy/D8eWen0WWvhcizy5fBTjHfJ1Yuz4OOOe7gXFz+Hw5/vctvAY8rOPacN72vfFwuMKtHU2XaiWmlpWlilRZfVWfko+ulWMewsZyeRzWVbl32/4z6q9RJl09fp9DxFOixfDceXLHQQnlyyn4WccSx5mPi9rIqd3qjKp2pF1Wr0ELQsqIuGRP8ALGDX4iO9g04PBp4/CPOe2OSy7PqtppmJqeolzXV4o2zQda8HmPx5Z6fho7PwuRZ5cvgljHfJ1U7Pg44ebgXFz+Hw58ffctvAY8rOPacF72vfNwOsLtLU6VaqGmlJWhilRZfVWfkszfSeMewsevPyc1l27eFA8Z9Vmocm6ev0/D9amxonhuPLljopLlyyn4Xlx7eZjjvWyazdjsZylanXXaZMIWhxFFKAaZGTLBr8VGeMjLB4NBp8zzntjlsu0KzahTCq+pNzXb4rp9M60iAnw3Hlnp+EjMfC5Fnny+CnGO+TqZs+Djh+jweXz+Hwen33LbwGPK5HWve2b/rz7TlnamrtdtDKkLbTR483qOGfZZm73LHbsXYc1nW5eVIbntXrfhXS3JJCWUqpLMQmSLlzIybM+fLKfPy4/KY/Lzsut3VIjPUnVG6rUQwhSHGqMinKRIyZGRr8XFfURl3IuBp8++e2OSy7RrVqplprGpNy3ack0G2qtN09BxuPLJN+DisF6WSzz5fBLGO+Tq5tODjh5uDy+fw+D0+/5beAx5XI836bty1VpVrblNY9vFtzrTfr1Xl2/Qrfi0taJsilMupKS5DNakrYNxZvrSlCfSwRJ4+iNR0D23XFVLwotF0we1Zo9UgUOfBRdr2mEK0YtIXIjLbUqXIz4qprJRp4oNZqI8KJXY8epV6WXWbrdiuUrU66rUSwlaXG6KmAaZOTLBr8VFeMjLB44Gn4R5z2xy2XaNXtREtNW1GuW7Dkmg0KrSIKTj8c5JvwkZgvSyWeRK+CWMd8nVzZ8HHDzcC4+fw+D0++5beAx5XI87Nr2jeq0TWenfW20+00ix7ValsVXUV6y6011JmFNOJacmzm36i8tXLqKwhpOTMjPJEPRGyqfqVAKYWol221XOfT8GdGt5+lm1jlz6nVmyepnKMceHHCs8slx4r3saqXguOunal3ZapMtrbcTRFwyJ/ljBr8RHeMjLvg0Gnz75wWOay7OqVpJllUdQbmug5RoNKq0qIZx+PLJN+HYaL0uXfln4JYx3ydRe4+Djh5uBcXP4fDn+9y28BjyuXtIL3q/VomoaHvWrMorJp1RpaGSqEd1zM1caWllSjQtP2oiNwlJIuRmpODTxMlTnZbepjfjC1Fl2xI+5+DOix5DOPhdTqE8tf9pjB/Gz6hAe+a1V109GZJXNW6aStVLfgcYL7aEtqeW6lMlHJCjS+jJkhXkXI8krtifLKsl+zvGde+LnuI5nTwdaltvdDhy+58G0ceXLvnOeKfLAOpS9x8HFHi7uHyufwsfTy2GHxHBez+rLDzJ6cUq0prRtK6xVufJiqS5n0eJssukpOPPOD7fL27Fly9SpSZZaiW/bNMUg0eEOi1iROJ0j5c+oT0Vjp49HGOecnnjgs9e99Omr3dZddvS7qJ0WlNcKJV1w0ryfwlcS7qL1GOeyrDi2T4w49zXPWDm9PkdarD07p8OWOn1DMkZ5d8YzhOfIgdS29x8O3H+jLPPv4scvi+3cYfF4HFe9e1Foy2PqG0+g3IhTa1SDk10qepCixxSgjZcJee+TM0kXbzyeOWyq9e9b8YV52Ci2jY6fhzRVmpyZHLlywaEpNPHCfMu/Lt5GPi89OKJfb0V6sVm6ofhEqS2ii3NUKSlXIyMzWUN5vqH2LHPOO+MZPP3ZWnVvWD4z3im3JJOf0+sdZuapVcy4cuPA5r7vT+GeeHHl2zniWDqWfuPg4fxvfh9/f1mOX83+0YlxeH38PpPi8bwuO2JUVqj6WXLdbD6TU6/R5NNQUYyPGFplymFHkjyXAl+R+vGeSy7xql2FM99NO7mtRcQ2+KK14M+vy5Z6ZxZDyT48e+TL4ScZ744730vsnUU431X0uRMKIhxDRN1CTGLivHIlEy4kl/BL4Wcd8YyY+7K00sjTvxn1HUJNPOodPxKifddU70+XDJuKUfbmr6QdSydnw8P43vw+/v6zHL4n7RiXF4ffw+krBrXd8Kz981l1GdSa3OaapdHfUml0t+a5hMG8G+JIaSpRqM3iMix8FDivJCjKzli6mWvqKmcdutV1ldOU2mS3VqBPpa0mvlx4plstm4Xoq7o5EWO5itOs9n2jem+Ww6deNp0SuREwqQ0TVRprElJpXAu900n1EmZp6kVhZJPsSmkqIslkWftLTzT+wESWrEsa37bRM4eJTSKYxDJ7hnhzJpKeXHkrGfLkePMwb0/wByYSn13o4efpfLzbjy+LwMLqDrppDpTPYpmo2oFJt+VJjnKZbnOmg3GiM08i7YPukyx59hgKdD227hKtLu236xbN51CDFj0+ZKpNZ6y2GSW8tlt0mHPRLk4+aeREZ5VjyElVC36DVnSfqtEgTXUoNolyIyHFEg/NOVEfbufYdxlhmOgmo7KGkF5JQkkkX4CCF1Qt6KdtxxrdslNJc+5RT/AL3PcOLb3xg5AABWm4AAAAAAAAAAAAAAAAAAAAAAAAAAAAAAAAAAAAAAAAAAAAAAAAAAAAAAAAAAAAAAAAAAAAAAAAAAAAAAAAAAAAAAAAAAAAAAAAAfilJQk1KURJIsmZn2IgB0q3W6PbVHm3BcFSjU6m05hcmXLkuE20w0gsqWpR9iIiIzyIMqdsO7gunfGrzzlD0ipyCnQbWqCjilWSRxWifV+fE0MJxyRDX6PZK3sn9rTjLk1LtzUqowbsqKJtctGNOcbs21KYgnZl5VCOoyVPU2ZkRw2lpMmzcNLOUm+4rj0Rv1P0trmoE9i6NdXYk9DLqJVNtCMrqUmmOJPkhx4zIvHSUmRH1HEk2gy+1tpMuorqaFt+BYddVlwVH2/lR8IL4fwpvChuk+NYIG+seFuvvz++/mNE0XXqVVtOKRZGmbMO3qFFVKVKvN+IpSJS3ZLjqjpUJ5CDWhRuGaX3kpZTkumh9ODEx2HpbaOnhSZVGiyJdXqJ8qjWqk+qVUp6s5+3SF5UaSP4LZYbR5ISkuw24BV32q1Luc+rXBGbbaXOTbzmT5y820V2RRJGCjjIAAFUbgAAAB0K5QKDc9Lfoly0SBVqdJTxfhzoyH2HS9ikLI0qL5yHfAbRlKElKLw0OZDNx7eejRZlE07uhcKizGjZk2ncDSqvQJLZ4PgllxRPRfL0eg6lCTPl0lGREI+tzWm7NuVXhWNr5Q6pTrOluoi0u5pExVSiU5wzJKWXagaUqdjmeCQuSluQj9eTqCN5Npx1KrSqXXabJo1bpsWoQJrSmZMWUyl1l5tRYUhaFEaVJMuxkZYMXtvrfHB0NRh1tN8+yafwlLtl4yUttuRE6fbB4Z2W3G3W0utLStCyJSVJPJGR+RkfrH0KuTKvWtmVz0ykPKn1fRGvSPDQ+oa5Emz5J5MmErPKnIZkRmhCsqTxNCTySEO2diS4s+KzOgyWpMaS2l1l5pZLQ4hRZSpKi7GRkZGRl2MjHj1DTZWShWpy46U94y5ZxzTW+JLlJZfem003tCfFs+aOYAAVhuAAAAAAAAAAAAAAAAAAAAAAAAAAAAAAAAAAAAAAAAFfN5TZnRdJHy/qGsVnKP/fT0o/niwYgLeaXCwrImf2FqbZ8jPsxVmC/OJ9AAAAAAAAAAAAFVtRvR326fq+Miip/80Xwf5hakVV1N9HfNp2v/AHF/9E3qX84WqAAAAAAAAAAAAAAAAAAAAAAAAAAAAAAAAAAAAAAAAAAAAAAAAAAAAAAAAAAAAAAAAAAAAAAAAAAAAAAAAAAAAAAAAAAAAAAAAAAAAAAAABAG5W77juep0fbjpciPNua60nMr3KSptul0BtRE85IUj00JfWaGCSnC1pU6SDSoiUUo6qXw9p/ZkquU6npqNXkPMU2jQFKNJTKjJcSzGaUZd0oNxaTWrHooJavJJiMdt9gooN+6pXTUagurVt2pwKHUas6WFT5DEJuTIeSnybR1py2UoL4LcVpHckJMdDo9KFrTnqlVZ6v3kXylPMVl+EeJS+M1jlxYiqPifAu0kLTTSO39OUv1MnVVa5Kgy2zUa1IbSh11tsvQYZQn0I0ZvybjtkSEl39JRqWrehqWrLF9ydM7ma0wqzVMu33skKo0p2Oh9DcskGbeULI0qI1ERdyPzFQrp3+X1UNFtMato1ZUW5tTLnOQ7XbedSfKGzTEGdUI0kpJoXyTxRn45YJR4I6S4uKt1UdWtLMn98eCXJJbJbIkSUVhF6DcbJZNGtPMyNRJz3MvbgfQoTWdzemdzbm7b19euBTdi2FpDJuOW62RrWh2oyW20McC83ftXDh58uw03cJ7odpxrXt8viwaRbtVolUuK2ZU+jPIrVLn5bZNC1pkohSnXYbppyZIeQnODLOewhMnpQAqNbO/6wnItmxaHpzfdbteqz6dbH1ZNwEMUtdRe4tEhg3lpdkklZKJa20GRYMyNQsdqjqfZujljVPUS/qmcGjUpCVOrQ2pxxxalElDTaE91uLUaUpSXmZkANrAVwh70aZApdwXXqXolqHp9a1DpCquVXr8WKnrIJSUpZNlp5bjTyzWkkIUWVd/LA1zR33R3SDVa7qfacqiy7dVWafKqsGY9WqVPaRGjt9RzxaYcp1yEskEpXF5Cfgn3z2AFsgFP7l90n0+o1LduWlaSagT7amR6gu37hfhNQ6dXXobC33UMKWs3SQbba+LimsKMjLHrGz2NvWlapRKLcGm+2zVCr2tU3mG3rikRokKCy2syJx5HWfJx5tszVyWSCL0FYMwBZkBXGl73rMu+7G6HpdpVqVfVBTVGqRKu6iUMl0Rl5bvTUaX3HEqeShXw1NoNJF3yZCMrW3x2NpZrlrdY2vOpFRQmlXMyVAgt0iVMTBp3hGTcWao7KibaJasma1F3M8AC4d32nQ76tipWhckTxFNqsdUd9BKNKiI/JaFF3QtJkSkqLulSUmWDIhBe0+pXHZFXvLbTecjrTLDfZmUSSaCQUujSjWbS0EXbCXELM0pwlvqpZT2aIzn2hV2jXPRoNxW7VI1SpdSYRKhy4zhONPsrLKVoUXYyMjI8iEdc6kxpprro/quRNsx67Pk6dVhwmyNTrM9JPw8q/Wk3KiEefUTrhZ9Lv0Gj1JXVGtpTWVNOUfCcE5JrxlFOHjldxFUXC1Pu+Zk+gADnyUAAAAAAAAAAAAAAAAAAAAAAAAAAAAAAAAAAAAAAAAIC3uKJjQ9ion2KBeNqSDP2f6Nw0/zhPorv7oC8cXahd09PnCqFAl59nSrUFzP8UWIAAAAAAAAAAAAFVdVfR3u6cr9vvP/AOj7uL+eLVCqur3ob1NNV/G96vxRLlL+eLVAAAAAAAAAAAAAAAAAAAAAAAAAAAAAAAAAAAAAAAAAAAAAAAAAAAAAAAAAAAAAAAAAAAAAAAAAAAAAAAMZctw0u06FNuKsyCZhwGlPOqPzwXkRe0zPBEXtMZMR7rjp8WotkPU1ddk05uCpU5RNIJZP8EKwhRZLtk8/P6h7NPpUK91Tp3MuGDay+ex57qdSnRlOisyS2XiNI9WGNS6YqRIiNwpnd1DCVmfJkzwRln1l2z84kIVw2xWuVTpMG4SqLrC6YSE9JCSw6SiVkjP2Cx4sOkdpbWOo1KFt71Pl3eHieTR7itc2kalbm+3vAAK/bvt1UHbJbFJmQoEGr16rzCQxTJDy2jVFJKuq8SkpMvRV0yx/bij5lmWBARrbe4bSKv6ZHqv9XdJYt6MSW5s5x022WJHEjUzlZEalEZ4IiIzP1ZGJp+7zbbVKMmvwtXKKuGqc1Tcn1CcKQ4SjbQbZp5kSiQvCjLifE+4YGSYAGn23q7pvd931ewbbu2HOuGgpNVRp6CWl2OklEnJkoiIyyZFkjPzL2jSdZdb7agW/fdmWTqjRqFfdtUnxrzsuOt5umEom1JceLpqTg0uJx2V3UXY8GQAmYBUle6W9tObQ0KhV2ZRL9qOpVRbps+vQzVFYMlyUNk60gm08jJLmD9FBGaTPBEYsRZGrOnWo9QrNKsm6olVm29I8LVI7aVpciu5UnitK0kZHlKi+cjDBjJtwDU7b1V09vC6q3ZFsXRFqNbtwyTVYrCVmcRRngiWrjxzkj7Eeex+wxtgGSMNZsM3LpLPklmDFvpBSiPyy7SaiwwZ/8IeYx8uPYP3QP7bQbsqB91y76uXkft6VSejl/FZSX4Bktcraq906XVqJbbBPV6nJZrVFbzjnUYLyJUZGS7kSnWEIM/Yo+x+Q1javc1Lu7TqrV6ium5Cn3ZXahHNRYV0pc1yY3kvUfCSg8fKOi/fdEdSPOMlF+bMpJvzuTX9Uh5VMExit+kOyuztI9y2oW4amVJt87za4w6X4XgmmrdUS5aiXyPl1VpSrHEsdy75FkAHOkxSx73MjT8qTrRRKbeD1Pi6pVCHPpyW4CXConh3jkE0aFL4vtG+pRmjCC4YT6sjgqmwPVG8bUrlrXnr/AECFBm0N6jwKbalgQ6PCQpacE7J6a+q+ksEZNEtCSUkjLywd2gAFZNEtmC7Lqlr3VrJqXI1CrFjxih2rCapjNLotCaSjgSo8JrJKe49jecUpXsIjLInnUGxbY1Ks6p2VeFvU2t0upsm27CqLPVjuKLug1ERkfZREeUmSixkjI+46moeremGkkGLU9T7/AKDa0Wc6bEV2rTm4yXnCLJpQazLkZF3PA16k7oNtdfqMKj0LcDpzUqhUnkRokOJdEJ6Q+6s8JQhtDhqNRmZFjGQBVeB7lNZNUtm6l3TXqNR7luCC1BpybWo3h6VRWm30PpImXnFOzTUtpHNb7mVJ9EiSQ2gthupdy0Gs25fm4CkQaXOoMihxKbZliQqJGR1WzR1ZBoUbkhJEZH0eSE5Iu5C5wACl18+59XZqQm26hfeviqvUbWiu0mmRY1ut02kRKa5DcjrbaiIdWonlc0KN1Tqiw2SSSkhYbTfR9dq7e6JoZctZKf4C2kW7MnQUHH6qSY6SnGyPJoPB5Lz7jOaaapWxqvTKrVbXKYlui1qdQZbctom3ESorptudiM/RMyyk/WRkeC8ht4Aqha+1jczadjUbR+3t20WgWXb7SYUR6j2Sy3WnYSc8WlyXH1toWRGRdVDRKMyzjuY2nSjaW3prWNWqzOvd+4pmp0eLEOfUI5KmNNMwvD5fcIyJ5alGpxRklBZPyFhgAEf6A6Yy9F9GbR0qnV1usvWvTGqcqc3HNhL5IyRKJBqVx7YLHI/IRvv1ps2XtyqlUpKiTUqPVaXJguYybT7ktuMThfelJNX+9FiBDO8V1qPtuvKU9jhGahyMn6jRMYWX40i66N1HS1i1kvzkPTmSTXpRHWWacvMSvQKs1X6FTa7HLDVRiMy0F7EuIJRfiMd8a1plDep2m9qU+QRk7GocBlZH5kpLCCP8ZDZRV3EI0604Q5JvHrN1ugAAITIAAAAAAAAAAAAAAAAAAAAAAAAAAAAAAAAAAAAFfd/0Nc3Zzqk22WVs0dMlPztSGnC/kCf2nEPNodbPKVpJST9pGIh3iQinbU9XGjTkm7Nq0jH7lGW5/MEkWXM98bOoVQ5Z8TTIr2fbyaSf5wBmQAAAAAAAAAAVT1sWpneVpa4ltSzWqnFhOM4JutJM+5l2LqZ/Jk+wtYKq66fa94ekS/j9D+L44v8ACC1QAAAAAAAAAAAAAAAAAAAAAAAAAAAAAAAAAAAAAAAAAAAAAAAAAAAAAAAAAAAAAAAAAAAAAAAAAAAAAADD3dLp8K16rJqlRYgxUw3SdkPq4obI0mWTP8I79Tnx6VTZdUluE2xDYckOrPyShCTUZn+AjFB7TRe2pC5D953HUvqam1JU9MB11akurNXYzLPwEl6vI/UPDd37spwUI5k+Xhjv8DsOi/RNdI6da4r1urpUuHi2y5cWdo/GwvN3lkdvFQtO3rBVMp9wPVCG4+mP1lwVx/TSRn2SozM0mWTI/kEgVXUOmojkdJeQ49zLJOJwXH1j9pGm1oR7dh0ZMHrRWsPF6Skc1mnHIyIy9XYi9RDH3FpFQ58FDNBabp8gnUmp1SlrI0essZ8/8Qo+k190sup1bq2jTm2s83GbeN8Lh4V4blZQttBoVuooccKabUeLDwuzL2b9Rsdv3ZTa9hhtZNyiTlTRnnJesyP1kKn+6mUaBI0EpFbVSo7s2JckVopZsJN1phbT/JJLxlKDUSMlnBmSfkFqrUsaiWk1mE2bslRYXId7rP5C9hfIQ7F42XauoFvSrUvShRKxSZpET0WU2S0KweSP5DI+5GXchbaNLUHZweqKKq9qi8r14W/fhY7irvVb9a1atuHiUA3ds2M3A2/xGk0mPpS9VWFXJ7zElEY3v6H6xvEx6PPom5gz9L4ePWOrv0pW2mnsaau6VM2uxc661HIkUDpEhdMx3U8TXo56nS4Gr0jI14yRHi7VO256K0vT6VpXF0/pp2tNfVJepzpKcQbx4+2EajM0q7djIyMhrtM2Y7aKRSE0SFpVTUx0Tm6iSlrcW912yUSD6hqNeCJavRzjv5diFsmeTBBWus6Ntu3Z2PuFlkpi2byozlErzySPgh9pkuBrx2yaSaMvWfSV7BH1gWvMrOz/AF73EXCwZ1bUp6bJYdWXpFEbk4wk/Uk3DWXzIT7BfTUXSjT7Vm3WrV1BtqNWKWw8iQ0w8aiJDiSMkqI0mRkeDMvP1jkf0wsSRp4WlLlux/qUKCimlTUmaW/DpIsIyR59Rd85DJnB51V7/U52W/7vRv8Ar7IkjWi5GdnW7Woas+FebtbUi3pniEMoM0HVGWuSCwXbkpxLff1dZRn2yYtg9t50ekQLRpb1lRVRbEfTIt9s3HMQXErJZKT6Xf0kkffPkIF3kWbdWvOrWmOhdMtaYdus1D37r1bOGo2WGkkZG0l7GCUbZL9HPdSkZ8gRjGDa9hemlSs/R52+rnYNNyaiTnLhqC1l6ZocMzZSZn3+Co1Y9RrMWVHDChxqfDYgQ2ktR4zSWWm0lgkISREki+QiIhzDV7my2AgTbxTGtOtUdYdH+mplhNdj3nRycMiJyn1KOlCktJ+I1JiSG/k9H2kQnsQBuYXUNLbhtLc5Q4Lslu0nF0S7Y8drk7Kt2Y4jqLIiI1LXHfQy6hJYL0nMmRZF3oubl1dOT3rRxH9OLUoemTTgv0yOptifd8xP4Dp0er0y4KTCrtFnMzafUY7cuJJZVybeZcSSkLSfrI0mRkfyjuCllFxbjJYaJAAAMA1bUulW9UrKrD9x0Sn1JmBAkykImxkPJQpLSj5ESyMiP5RVXY3p9aVq7JLa1OtzTK3ahehUOo1aLKKlMnMkSOo8tpvqknqH3JKSLPsIhdFaErSaFpJSVFgyMskZewfMePHiMpjxWG2WkFhKG0klKS+Qi7EAPMKj6lHdNm2bdln7o9Rrx3H12XAkrtak1N9ym09S5CPFxZNNbbJiPGaaNaVm8RKynOc4H1VtWol52jdl16lbltSKdriVXqkK1tOrSqcmOqnSWXVohR/e5hv7dzJCFLcf5JUhR98Zz6dtxo7LjjrTDaFunlxSUkRrP2mfrAo0cnzlEw2Tyk8Tc4lyMvZnzwAKo+55rudNuarQ7yQSa0xqHOVUCJJJSUpceOt7BF2L7YpXYhbIfDbLLPImWkI5qNauKSLKj8zP5R9gAAAAAgXeu0iuaIfW3bfU1N1CuKiWrDNPmapE9pTv0MNPqM/USTP1CehX1yoFrLuviQICjdtnRGG7JmOkZm1JuOe0bTbff0V+Hi9YzMjyhx7BkRkQvOj6dK8V7+TQXWN+MfeL+tPhj6SOrvHh79vv6CwKUpQkkISSUpLBERYIi9g/R5ubqN1ersG4tWbcb1fe02kWLzRb9rUmlkqr3E0baunNORIZNKI5ES31raX2bbNPEjJLq7U6c6r6q0rTy16ZUNvWql1y4lGhMP146pap++riWEEqXlNZUR9UyNzsZ/C8z8xRkhPQCJD1o1MLy2k6pH/9qWv/APm4+D1q1R9W0bVD8NWtj/8ANgBLwCHla1atGWWdoOpSvv63bCf/AFqY6jutmuZGXQ2a32ov7e57bT+SoGAJsAQTI1v3FJaWcTZVdrjhJM0JcvG3kEZ47EZlLVgvlwY4HNcdzBfcdklyK++vigp/JIMAT6Ary5rpurL7jsZrKvvtQKGn8jpjqO687wU/cNhs5f3+pVGT+QzAFkQFYXtft7Sf6X9z+Nf3+qtIT+Rsx1z1730L8tg7TP8A/U6ku/5IAtMAquWuG+xZd9lDTJ9/K86S7/2tI/XdY99XUUhO01pJJMyJaKxSXSV8pZqqDx85EYAtOAqr9drfWvz219D/AMXR3v8A/IUj9RqdvldWlLmi5REmZEalW5S3ySXtMk3URn+AsgC1ICqp6k74zPP1rOnn1fUXTF4/CV3ln6CD65G9/wBenXH/AMgKcr8l4gC1QCqn1x97PkqxVJM/Ii05gn2+f6sDL2fm8jx+/XF3rf7CHv8A+3VP/wD9vAFqgFVD1M3rNFlVgG4WSLH1u4aT7+XldyvpxgvX2H79djeu1/3G/E/+S8NjP/3jcAFqgFU3Nc96kNtTitrap5IIzMkuxYxnj2EU94/yjnjbiN56XSRJ2HPSG/W6zqBAaV/xa2zL+OAJh3GQFVXb3qfS0pycyza1HIvaa4Lyfzjm0AqB1bQfTeqKVk5lo0eQZ+3nDaV+cRlL1f1/uq3qnb9xbKr0ht1SE/DcOJddvyCInGzQf3SY1n4Qk/QS1q7Y2henNk3RHRHrNv2nSKVUWkOJcS3KYhtNupJSTNKiJaFFkjMj8yAG+AAAAAAAAAAAqpuC+17utFF/1zn/ABXsf4UWrFVNyX2rdloEv+ve+P8AEl08v8L+MWrAAAAAAAAAAAAAAAAAAAAAAAAAAAAAAAAAAAAAAAAAAAAAAAAAAAAAAAAAAAAAAAAAAAAAAAAAAAAAAHBOhRKlCkU6oRm5EWU0th9lxPJDjaiMlJUXrIyMyMhjKTZlqUNpLVKt+CwlBYSZNEpRF98eT/GM0A1cIt5a3JoXFanB04Tai+aTePUfnl2IfoANiEAAAAAAAAAAAAAAAAAAA6tVpdOrlLmUWrw2pcCoMORZUd1PJDzK0mlaFF6yNJmRl7DHaAZjJxeVzBUzTGv1faZqK9ohqFUH3NOK0+uRZlblOGtMIlKLlGecPyIlKIlGfwVqJzPB5RMWzGsaj6c2rqpakuz7vg+IhyfSbcRgnozxEZJeaUZGSVpyfmRkZGpKiUlSknXuz9Sr+2y3BD0k1hZk1u1F800K4Yza3HW4yE5xwypTqG0llbRGp5lJGpPWYI1s9VWpx6TRdzQ2ukvLjy6zC3nH43bOPa/KW+UQJ9Ts/e/MWrAdKj1mkXFS4tcoFUiVKnTmiejS4jyXWXmz8lIWkzJRH7SMd0crKLg3GSw0TgAAYAAAAAAAAAARXrZr7bmktPdgxnIlRud1knI9OW8aW46FK4oflqSSlNNGoySkiSpx1WG2UOLPiPTZ2de/rKhbx4pPs+/JeLMSkorLMduV1vl6V2umiWUwVSvyvkUeiwG0E6ts1rJspCkH2V6a0obQoyJx1aE5JPUWjM7d9IGdFdMYVrPulJrU15yrV+byNaplSfMlPOKWfdeMJbJR91JbSZ9zMxomg2iNdkXCet+sJvzLpmLOTAjzGiQ7FUpCkFIdbI1JZcJta22mEmZR2lrI1LdefWqw4udUr0LG2WlWkuLfiqTXKUlskviwy8d7beORFBOT45eg1m+9MdOdUKWdF1HsSg3NBMjJLNVp7UlKDMsckc0maFd+yk4MvMjIZO2LaolmW1SbPtmAmDR6FBYptPipWpRMRmW0ttNkpRmoyShKSyZmfbuZjJgOdJgAAAAAAAAAAAAAAAAAAAAAAAAAAAAAAAAAAAAAAAAAAAAAAAAAAAAAACrG6Fvjuf27SvUT1XaP51TqKZfyTFpxWDdUjhrxt7meyvSY+fv5VOP+YLPgAAAAAAAAAAAAAAAAAAAAAAAAAAAAAAAAAAAAAAAAAAAAAAAAAAAAAAAAAAAAAAAAAAAAAAAAAAAAAAAAAAAAAAAAAAAAAAAAAAAAAAAAAAADCXhZdrX/AEJ62rworFTpzykOG07lJocQolIdbWkyW24hREpLiDJSTIjSZGWRmwG9OpOjNVKbakt01s0/BmGk9mVYqOkWt2hlVk3Do5V37gpL7hvSYJNtG84ecn4mEpTTMlZl8KVHcjyVea0S1eedtHexpw5UCtfVlh2w6+2X21M5LvhTx5rM3G2346M59KUyynt2UrsZ2KGJuO07VvGAdKu62aVXIR5zGqUJuS0ef7RwjL8Q6F61bX8eHVaPFL4cGoz9OzjLsW6W3rIurcfeP0HapFZo9wU5mr0Gqw6lBkp5Myoj6XmXE+1K0mZGXzGO4IXlbPNvpTHqpbdlyLQqDqePi7Uq8yirT8vGI6hB/wC+SZfINQlbPLop77ki19zOqEhKlGpMe5rorE1pH9qk4U6Gsi+dRn8piCnZ6PWbxdSgvjU/qzlnzvHmMuVRfk+0suApHdtuaj2DrHp5pVVqWzdJX7DrZxXV6r3hAI5EBuO9gzckSiby0t8+HFfMyL02yQfOQT0Vrj/oTtsdn1NXr999TKjOaP5+tCcMy+dIkWk2cm+C4yu/8WvZKsn7B1ku75/2E/XHfdj2e2b123lQ6I2ksmqo1FmMRF7cuKIaYvchpfNSabMl1a9XTL0CtekSakyr55TaPDIL+2W6kvlGn29ope1LcJdsaZaD6cKzk3qVQXKu+n2mlRNwS5f2yiPv3Mj8htytA6Xcfp6tXlcN/kr4VPqbyI1J+9OBGS2y6n5HyePufcbK10i2/f6jl+i1n1JOL8cVUzHFUlyX3+/gRZWNc9adXZb9saMW01TEEpTMmXHmMTH4p+tL85BO0+EovIyaOe8RkZGynsot40h2xW7Yc9N4XjKRc92KkHOKW8lSmYklSOKnWycUpx180maTkvqW6afRSbbeGymWn0+BSYTNNpUGPDhxkE2zHjtJbbaQXklKUkRJL5CHYEdzrrVJ2thTVGm+ePfS/Sk98c9u5tNtGVS34pPLAAAoCUAAAAAAAAAPlZmlClF6iMwB9AKR6Yaybw9Rbed1Jm6taEWpbDlZqEGIxW6ZL8QbMaW4wZuGUltOT6efRV9Aka/9/Wi+m981rSqoUq9LkvKgsxnnaXbNvuTlzUOspdN2PxXx4JSpPI3FJxyLHLuYAssArLT/AHRfazUHVQk3ZWE1BbEOREpqKFLkTZqJMcn0dFhhDi1YSeFngiSosGfkMhYO72xryvuuImXE5b9sU22Cry2bit56jyISW5S2HnX5Eh4iNBmkuKOinHnzVnBAWKAVqn739Ir6sTUCTobdb1XuC2LWqFehOSKJMYiPkwhRdRtx9pCHkE5xI+JmR+rJdxsu3vdBpnqvZFpx52q9lzb6n27FqtXpMCqsG8y4bKVvGbJLNSCSajM0n3SXmAJwAQFQN8e3i5K9CpFMuCuHAqlW94qdcDluzkUSdUORoKOzPNroKUaiMiPkST9RnkhGG9fdHpFItP6y9lauU56+p90UOnu06lS1rebSdRZ67a3GsoQfAlEpClEeMkZAC5gD5QXFCU+wiIfQAAAAAAAAAAAAAAAAAAAAAAAAAAAAAAKxbv2mkak7fJzraVcdQIkdJqLOFOOsmWPl+1izorFvbV4WsbeZxfrtaLehmfyOJfV/gyFnQAAAAAAAAAAAAAAAAAAAAAAAAAAAAAAAAAAAAAAAAAAAAAAAAAAAAAAAAAAAAAAAAAAAAAAAAAAAAAAAAAAAAAAAAAAAAAAAAAAAAAAAAAAAAAAAAAAAAAAVb3ElnentT4/C6t6ccH3/ANLGM4LzP0c59hZz2FpBXnV6iqqu8zbvMSRYo9HvierJZ7HHp7Hb2d5BCwwAAAAAAAAAAAAAAAAAAAA+VkakKSXmZGQ+hr176h2HpnRvqi1EvOiWzSzdJkplXntRGTcMjMkEtxREajIjwRdzwAKOaYbHtYLEj1VqoaGbZLnnSqxPqTFcuhE2oTjS9IU62lbfhOBcCURFxX2x+ETtoPoRqlZmoWrF+6lyLRdn6gw6U20q30PNx2nI8RTLiEtvZWhslGnjlaskWcF5CQNPdze3vVitnbWnOsVq1+r8VLTAh1FtUhaU/CUhszJSyL1mkjIScAKa7MNod/bftSJ92XpEoD7cyzabRUy4kg3Xm5jDzvUSnKCMm1NmyefWaSLHYcO7LZrqjrlrSzqZadTtJdKp9EpjHvNXXHzj1eREqByDiyUttqIo60n8L0j5EWUmWTF0AAFULv0+3wapUGrWxUpGkGn9sSaLIpxUmkFKqsyaS2VoJhch1pluO0eU4U2hSk9+x+Q0O6fc9Zr+2zSvTCx6ZaNCva2ZcZ2v19hvpvLJyO63MWh9LXUdM1O5JKuJK4kXbBC9YADzc009zu1ato7dt8tPdCbW94lkqVe0YqjWK3LcT8F9hmTxaZcUffJnhszI0EXEiGWg7KN16dN7W0pRUNHaFblnXJSq2oqWzNXULjfjSiW7MmSXE/a3FJyskpSozV6JqIsGPQ0AB+FnBZ8x+gAAAAAAAAAAAAAAAAAAAAAAAAAAAAAAAK2b3opvU7RGWRf0jrbZ75n7COStsz+hwWTECby43U0/syoGX+lupdnys+z/AEXjoz/fBPYAAAAAAAAAAAAAAAAAAAAAAAAAAAAAAAAAAAAAAAAAAAAAAAAAAAAAAAAAAAAAAAAAAAAAAAAAAAAAAAAAAAAAAAAAAAAAAAAAAAAAAAAAAAAAAAAAAAAAAIkuphD+6zTVSsZj2JeTqe3kZzreT+RRiWxo2omi1g6pVOlVq7GK6ioUWPKhwpVHuSpUd5DElTKn2lLgvsm4haozCjSs1FltJlgaTJ2ZaCTTM51OvaVnz6+otxOZ/fTjAE3gIAc2H7XHzzJsGrSM+fXu6tOZ/fSzHEewHaIoyU7o7HeMjz9uq9Qc/lPmALCDrvVCBG/pibHax8d1KfymIIRsF2do89A7cc/des5/KWY7bOxnaGx9y2+WeWPbCz+UwBLz122rH+73NSm8fHmtl+Ux03dRtPWPu1926399VGC/KoRy3su2oNfA2/2V+Gltn+UczOzratHTxRt9sQyyavtlFYX3M8n8JJ+3y9XkQA3ZzVvSln7rqdaaPvq1GL+eOs5rdou1911dspGPjV+IX+EGtJ2kbWk/97rpwr762YavytjkTtO2tJ/72zS0z9qrPp5n+NoAZdzcFoK12d1usFH31ywi/wAIOFW4/bwj4evOnSfnumCX+FHURtZ2xNkZI25aXpz7LQp5f4EfRbXts5eW3fTIv/JGn/ogByK3M7b0/C3Baal891wP0oqZ7pNrrpPduh9BhaZ6r6b3LcMW86RLiwircCc0RoWr032zWpPRIzLmay4kRnkyIWxLbFtrLy29aaF81pwP0QObYdtbqSQ7t50zWkjJREq0oBkRl5H9yAFKdq+pWzqoXr9cvVvWBxvVa1WnG24d11qmRaPTVqSaXFUfwRNwHELLsSkqW5jzx5nFkTehuS1Ffr+q0DXqy7MhKq6ioFMnX1RI0aLT23SSaZFIVEfmyVKSk/T6raz5ZQXHiPSCq7UdsVaYRHqG3vTtaW3EuoNu2obSkqSeSwpDZHj2lnB+R5IcadpO1pNSOrlt0028UrvzO2IRln2knp8SP5cZAHn5qXv4u+TdtzTri12rtvUujVBKKJD05TbVRhyIhGkm5LjsqX4mStzOVMJbSSC7KxhWNpqe7qt19Oqd6VnfxT7Nodv1NcW0aDR6NRp1Qnl4ZpxtZp6bjjrZuLNB8cpIyXycwXa7n2J+2M68dyq0AsBU82UsEtVvxlNpQRmZGlo0dNKu55USSUZdjPBEIX287XNJi1U1uqt4bfrYU0m80ooD9Ttlg2Sg+CjmZRCcb4k2ThrybZY5Z9YAiax93uoGscym2HdO7DTbSNFBtWmzq/cMeXSZMisVWSlSlsRjkOHHbJpJJ6nBKjJZmRcSxiNLK3Fai6265SbEurfdDse0qLSJsCRckKTBp5XChioLQ080TiiZjSXG+Kuq0WTQjKS4qHolUtrG2WsOtP1PbzptJcZPKFOWtBMy+Q/tfcvkPsOZG2Xbi3NRUW9BNPEyG2eglSbZhkSW85wRdPH4gB5uxt6Op1EgRNMla/1V61KLUazA+q2lVCg1G4aslmYtEZL7tRktNstdDgopJIUbhngj7GPx7fZqpqMdjabaYaxS41Ki0+TUrjuC6bgoFrVeZ/RLrbMc5TqZEdBoShJ5baU44lSVGRFkx6Iztoe1ypdEpm36wlpYmKnpQVDjpQp4yMjNaUpIlp7/AAFEac98ZHPVdqG2CtNtt1Lbxpw6TR5Ri2IaDL5MpbI8fJ5ACH9pO6OhSNOp8PXzcvpjUrhg1mSxHdTdEBTiYXomyh15CI7MhZEZkbrTZJUWPXkinJO4zb2s8I1308UZdsFdEE/8KOs1tg20sNJYZ286ZobSWCSm04BEX96A9r+2hRYVt30yP57Sp/6IAZFvXzQp37lrTYa/vbjhn/hB2W9atG3fuWrVmL+9r0U/8IMEe1jbEr4W3LS8/ntCn/oR8ltU2vJUSy23aWkojyRlZ9OyR/8AEgDaG9V9LXfuWpVqr+9rMc/547CNRtPXfuV926v72qMH/OGmHtO2sn57atK/4HU79CPg9pe1g/8AvbdLy+a0YBf4IAb4xfNkyk8o140N4uRpy3UGVFkjwZdleZGRl85DtN3Jbrv3Kv05f3sps/ziNz2jbVz/AO9w0zL5rVhF/gxxq2gbVFee3HTf8Fswy/wYAlVup0137lUIy/vXUn+cc6VoWWULJRfIeRD6tnG1BXntx06/BbkUv5g4l7L9pS/Pbjp7+CgRy/IkATOAg49j20QyNP2PNlFkzP0aakj7nn1fP5eryIddWxLaEo1H9YS2U8jz6Dbifowvt+AATyAgFWwvaKry0SpKP3OVKR+R0h8nsJ2l/rdI2kfudYqCPyPkALAAIALYbtVT9z02lt/udzVZP5JQ5E7F9srf3Ky643+53nW0/kmACewEFt7KNvLP3GhXa1+53/cCfyTR2Y+zzQ+IWIjN+sFkzw1qTciO5nkz7T/aAOvvSfRD0Cl1NRF/QF0WnLI/ZwuGnmf4sicxDUjaNonOjNwKoxfFTgtvMSDg1HUS4pcRxbLiXWupHenKacJK0IUSVpMspLsJlAAAAAAAAAAAAAAAAAAAAAAAAAAAAAAAAAAAAAAAAAAAAAAAAAAAAAAAAAAAAAAAAAAAAAAAAAAAAAAAAAAAAAAAAAAAAAAAAAAAAAAAAAAAAAAAAAAAAAAAAAAAAAAAAAAAAAAAAAAAAAAAAAAAAAAAAAAAAAAAAAAAAAAAAAAAAAAAAAAAAAAAAAAAAAAAAAAAAAAAH//Z)"
      ],
      "metadata": {
        "id": "prbsFchhUfwk"
      }
    },
    {
      "cell_type": "code",
      "execution_count": null,
      "metadata": {
        "id": "kBChdle68C3E"
      },
      "outputs": [],
      "source": [
        "!pip -q install pydantic-ai\n",
        "!pip -q install nest_asyncio\n",
        "!pip -q install devtools"
      ]
    },
    {
      "cell_type": "markdown",
      "source": [
        "### **Restart the notebook**"
      ],
      "metadata": {
        "id": "N2rUPJxt4t-r"
      }
    },
    {
      "cell_type": "code",
      "source": [
        "import os\n",
        "from google.colab import userdata\n",
        "from IPython.display import display, Markdown\n",
        "\n",
        "os.environ[\"OPENAI_API_KEY\"] = userdata.get('OPENAI_API_KEY')\n",
        "os.environ[\"GROQ_API_KEY\"] = userdata.get('GROQ_API_KEY')\n"
      ],
      "metadata": {
        "id": "icRZD-DW8JZf"
      },
      "execution_count": null,
      "outputs": []
    },
    {
      "cell_type": "code",
      "source": [
        "import nest_asyncio\n",
        "nest_asyncio.apply()"
      ],
      "metadata": {
        "id": "ZKpEfbHCO0b5"
      },
      "execution_count": null,
      "outputs": []
    },
    {
      "cell_type": "code",
      "source": [
        "from pydantic_ai import Agent\n",
        "from pydantic_ai.models.groq import GroqModel\n",
        "\n",
        "groq_model = GroqModel('llama-3.1-70b-versatile')\n"
      ],
      "metadata": {
        "id": "GkggHR30b9ho"
      },
      "execution_count": null,
      "outputs": []
    },
    {
      "cell_type": "code",
      "source": [
        "from pydantic_ai import Agent, ModelRetry\n",
        "\n",
        "agent = Agent(\n",
        "    'gemini-1.5-flash',\n",
        "    system_prompt='Be very concise, reply with one sentence only.',\n",
        "    retries=3\n",
        ")\n",
        "\n",
        "result = agent.run_sync('Where does \"hello world\" come from?')\n",
        "print(result.data)"
      ],
      "metadata": {
        "colab": {
          "base_uri": "https://localhost:8080/"
        },
        "id": "zdndYtPDNtm4",
        "outputId": "071e44fa-7ff5-4487-eb44-00d41c957fc4"
      },
      "execution_count": null,
      "outputs": [
        {
          "output_type": "stream",
          "name": "stdout",
          "text": [
            "The phrase \"Hello, world!\" originates from Brian Kernighan's 1972 tutorial on the programming language B.\n",
            "\n"
          ]
        }
      ]
    },
    {
      "cell_type": "code",
      "source": [
        "agent.model = 'gemini-1.5-pro'\n",
        "\n",
        "@agent.system_prompt\n",
        "async def get_system_prompt(self) -> str:\n",
        "    return \"Give a long one paragraph answer and make it dense\""
      ],
      "metadata": {
        "id": "GYGKY5uw92HP"
      },
      "execution_count": null,
      "outputs": []
    },
    {
      "cell_type": "code",
      "source": [
        "\n",
        "result = agent.run_sync('Where does \"hello world\" come from?')\n",
        "Markdown(result.data)"
      ],
      "metadata": {
        "colab": {
          "base_uri": "https://localhost:8080/",
          "height": 98
        },
        "id": "--FZeW3y-BQg",
        "outputId": "604e9e0c-6424-41b3-e589-3d285f7980a7"
      },
      "execution_count": null,
      "outputs": [
        {
          "output_type": "execute_result",
          "data": {
            "text/plain": [
              "<IPython.core.display.Markdown object>"
            ],
            "text/markdown": "\"Hello, World!\" originated from a 1972 Bell Laboratories internal memorandum by Brian Kernighan, *A Tutorial Introduction to the Language B*,  where it was used to illustrate a simple program, and it gained widespread popularity through Kernighan and Ritchie's seminal 1978 book, *The C Programming Language*, becoming the canonical introductory program for countless novice programmers learning C and subsequently many other programming languages due to its simplicity, ease of understanding, and quick demonstration of basic input/output operations, cementing its status as a symbolic entry point into the world of computer programming.\n"
          },
          "metadata": {},
          "execution_count": 38
        }
      ]
    },
    {
      "cell_type": "markdown",
      "source": [
        "## Basic structured output"
      ],
      "metadata": {
        "id": "TYmgv0FfPiKw"
      }
    },
    {
      "cell_type": "code",
      "source": [
        "import os\n",
        "from typing import cast\n",
        "\n",
        "from pydantic import BaseModel\n",
        "\n",
        "from pydantic_ai import Agent\n",
        "from pydantic_ai.models import KnownModelName\n",
        "\n",
        "class MyModel(BaseModel):\n",
        "    city: str\n",
        "    country: str\n",
        "    reason: str\n",
        "    famous_person_from_city: str\n",
        "\n",
        "\n",
        "model = 'openai:gpt-4o'\n",
        "print(f'Using model: {model}')\n",
        "\n",
        "agent = Agent(model,\n",
        "              result_type=MyModel,\n",
        "              )\n",
        "\n",
        "\n",
        "result = agent.run_sync('The windy city in the US of A.')\n",
        "print(result.data)\n"
      ],
      "metadata": {
        "colab": {
          "base_uri": "https://localhost:8080/"
        },
        "id": "FTMowGQZQq70",
        "outputId": "bf4915e0-5999-4305-e8d2-10a5dad69b22"
      },
      "execution_count": null,
      "outputs": [
        {
          "output_type": "stream",
          "name": "stdout",
          "text": [
            "Using model: openai:gpt-4o\n",
            "city='Chicago' country='USA' reason=\"Chicago is commonly referred to as 'The Windy City', a nickname that originated in the late 19th century. Contrary to popular belief, it isn't necessarily because of the weather. The name came from Chicago's rivalries with Cincinnati and New York, with some asserting it refers to the city's politicians being 'full of hot air'.\" famous_person_from_city='Kanye West'\n"
          ]
        }
      ]
    },
    {
      "cell_type": "code",
      "source": [
        "print(result.cost())"
      ],
      "metadata": {
        "colab": {
          "base_uri": "https://localhost:8080/"
        },
        "id": "Jl6F_E97VSM7",
        "outputId": "144d503d-d2a2-4894-c78d-7b837429a79d"
      },
      "execution_count": null,
      "outputs": [
        {
          "output_type": "stream",
          "name": "stdout",
          "text": [
            "Cost(request_tokens=86, response_tokens=114, total_tokens=200, details={'accepted_prediction_tokens': 0, 'audio_tokens': 0, 'reasoning_tokens': 0, 'rejected_prediction_tokens': 0, 'cached_tokens': 0})\n"
          ]
        }
      ]
    },
    {
      "cell_type": "code",
      "source": [
        "result = agent.run_sync('The Merlion city.')\n",
        "print(result.data)"
      ],
      "metadata": {
        "colab": {
          "base_uri": "https://localhost:8080/"
        },
        "id": "cAYNEqLsVV53",
        "outputId": "91599a9c-27ca-4ab0-b031-ea8ca4620d53"
      },
      "execution_count": null,
      "outputs": [
        {
          "output_type": "stream",
          "name": "stdout",
          "text": [
            "city='Singapore' country='Singapore' reason=\"The Merlion is a well-known symbol of Singapore, often referred to as the Merlion City due to this iconic statue that has a lion's head and a fish's body, symbolizing Singapore's origin as a fishing village and its original name, Singapura, meaning 'Lion City.'\" famous_person_from_city='Lee Kuan Yew'\n"
          ]
        }
      ]
    },
    {
      "cell_type": "code",
      "source": [
        "result = agent.run_sync('The cold city in the south')\n",
        "print(result.data)"
      ],
      "metadata": {
        "colab": {
          "base_uri": "https://localhost:8080/"
        },
        "id": "1PoZr2ozVdVM",
        "outputId": "eb108873-fcf9-4cfd-90aa-d7b514e9c1ea"
      },
      "execution_count": null,
      "outputs": [
        {
          "output_type": "stream",
          "name": "stdout",
          "text": [
            "city='Ushuaia' country='Argentina' reason='It is known as the southernmost city in the world with a cold climate.' famous_person_from_city='Gustavo Melella'\n"
          ]
        }
      ]
    },
    {
      "cell_type": "code",
      "source": [
        "result.data.famous_person_from_city"
      ],
      "metadata": {
        "colab": {
          "base_uri": "https://localhost:8080/",
          "height": 35
        },
        "id": "08P3XhpWESaq",
        "outputId": "8d458e2c-4183-4ed0-8e53-cd1e18484999"
      },
      "execution_count": null,
      "outputs": [
        {
          "output_type": "execute_result",
          "data": {
            "text/plain": [
              "'Gustavo Melella'"
            ],
            "application/vnd.google.colaboratory.intrinsic+json": {
              "type": "string"
            }
          },
          "metadata": {},
          "execution_count": 46
        }
      ]
    },
    {
      "cell_type": "code",
      "source": [
        "agent"
      ],
      "metadata": {
        "colab": {
          "base_uri": "https://localhost:8080/"
        },
        "id": "U2ws8XyYBAgZ",
        "outputId": "644d7779-a5e0-4027-e768-03cc74dfdcbe"
      },
      "execution_count": null,
      "outputs": [
        {
          "output_type": "execute_result",
          "data": {
            "text/plain": [
              "Agent(model=OpenAIModel(model_name='gpt-4o'), last_run_messages=[UserPrompt(content='The cold city in the south', timestamp=datetime.datetime(2024, 12, 4, 9, 46, 34, 832549, tzinfo=datetime.timezone.utc), role='user'), ModelStructuredResponse(calls=[ToolCall(tool_name='final_result', args=ArgsJson(args_json='{\"city\": \"Ushuaia\", \"country\": \"Argentina\", \"reason\": \"It is known as the southernmost city in the world with a cold climate.\", \"famous_person_from_city\": \"Gustavo Melella\"}'), tool_id='call_55thk60H2ap27ph8eaTNVUQy')], timestamp=datetime.datetime(2024, 12, 4, 9, 46, 35, tzinfo=datetime.timezone.utc), role='model-structured-response')])"
            ]
          },
          "metadata": {},
          "execution_count": 47
        }
      ]
    },
    {
      "cell_type": "markdown",
      "source": [
        "## Chat APP"
      ],
      "metadata": {
        "id": "0RIfAKkyW7Rl"
      }
    },
    {
      "cell_type": "code",
      "source": [
        "from pydantic_ai import Agent\n",
        "from pprint import pprint"
      ],
      "metadata": {
        "id": "YY3Hrk1JZOxg"
      },
      "execution_count": null,
      "outputs": []
    },
    {
      "cell_type": "code",
      "source": [
        "agent = Agent('openai:gpt-4o-mini', system_prompt='Be a helpful assistant.')"
      ],
      "metadata": {
        "id": "dzMLp2KgZQX9"
      },
      "execution_count": null,
      "outputs": []
    },
    {
      "cell_type": "code",
      "source": [
        "result = agent.run_sync('Tell me a joke.')\n",
        "print(result.data)"
      ],
      "metadata": {
        "colab": {
          "base_uri": "https://localhost:8080/"
        },
        "id": "hDe_kFcYZV8b",
        "outputId": "5d2b530b-1e14-45fc-cab0-0dbb97058eb8"
      },
      "execution_count": null,
      "outputs": [
        {
          "output_type": "stream",
          "name": "stdout",
          "text": [
            "Why did the scarecrow win an award?\n",
            "\n",
            "Because he was outstanding in his field!\n"
          ]
        }
      ]
    },
    {
      "cell_type": "code",
      "source": [
        "# all messages from the run\n",
        "pprint(result.all_messages())"
      ],
      "metadata": {
        "colab": {
          "base_uri": "https://localhost:8080/"
        },
        "id": "9W8OuRz7Zaoq",
        "outputId": "276b2b54-6fe3-46cd-a230-c56ccee15143"
      },
      "execution_count": null,
      "outputs": [
        {
          "output_type": "stream",
          "name": "stdout",
          "text": [
            "[SystemPrompt(content='Be a helpful assistant.', role='system'),\n",
            " UserPrompt(content='Tell me a joke.',\n",
            "            timestamp=datetime.datetime(2024, 12, 4, 9, 48, 56, 339698, tzinfo=datetime.timezone.utc),\n",
            "            role='user'),\n",
            " ModelTextResponse(content='Why did the scarecrow win an award?\\n'\n",
            "                           '\\n'\n",
            "                           'Because he was outstanding in his field!',\n",
            "                   timestamp=datetime.datetime(2024, 12, 4, 9, 48, 56, tzinfo=datetime.timezone.utc),\n",
            "                   role='model-text-response')]\n"
          ]
        }
      ]
    },
    {
      "cell_type": "code",
      "source": [
        "type(result.all_messages())"
      ],
      "metadata": {
        "colab": {
          "base_uri": "https://localhost:8080/"
        },
        "id": "dTl5B22WZeKZ",
        "outputId": "826a2b4e-4a30-4b58-bf35-dd50d9304c6e"
      },
      "execution_count": null,
      "outputs": [
        {
          "output_type": "execute_result",
          "data": {
            "text/plain": [
              "list"
            ]
          },
          "metadata": {},
          "execution_count": 52
        }
      ]
    },
    {
      "cell_type": "code",
      "source": [
        "pprint(result.new_messages())"
      ],
      "metadata": {
        "colab": {
          "base_uri": "https://localhost:8080/"
        },
        "id": "n9u0Th2uZ1Zk",
        "outputId": "2f17b08c-6ebc-45a1-9e9b-2719c8b082c0"
      },
      "execution_count": null,
      "outputs": [
        {
          "output_type": "stream",
          "name": "stdout",
          "text": [
            "[UserPrompt(content='Tell me a joke.',\n",
            "            timestamp=datetime.datetime(2024, 12, 4, 9, 48, 56, 339698, tzinfo=datetime.timezone.utc),\n",
            "            role='user'),\n",
            " ModelTextResponse(content='Why did the scarecrow win an award?\\n'\n",
            "                           '\\n'\n",
            "                           'Because he was outstanding in his field!',\n",
            "                   timestamp=datetime.datetime(2024, 12, 4, 9, 48, 56, tzinfo=datetime.timezone.utc),\n",
            "                   role='model-text-response')]\n"
          ]
        }
      ]
    },
    {
      "cell_type": "code",
      "source": [
        "result2 = agent.run_sync('Explain it please?', message_history=result.new_messages())\n",
        "print(result2.data)"
      ],
      "metadata": {
        "colab": {
          "base_uri": "https://localhost:8080/"
        },
        "id": "XohGqNheZeOW",
        "outputId": "9025db26-d4cf-46d3-be54-8db4fe2d472f"
      },
      "execution_count": null,
      "outputs": [
        {
          "output_type": "stream",
          "name": "stdout",
          "text": [
            "Sure! The joke plays on the double meaning of the phrase \"outstanding in his field.\" \n",
            "\n",
            "1. **Literal Meaning**: A scarecrow is literally placed in a field to scare away birds and protect crops, so it is \"out standing\" in the field. \n",
            "\n",
            "2. **Figurative Meaning**: The phrase \"outstanding in his field\" is commonly used to refer to someone who is exceptional or excels in their area of expertise or profession. \n",
            "\n",
            "The humor comes from the pun where the literal situation of a scarecrow being in a field is combined with the idiomatic expression about excellence. So, the scarecrow is both literally improving the field and humorously implied to be excellent at his \"job.\"\n"
          ]
        }
      ]
    },
    {
      "cell_type": "code",
      "source": [
        "pprint(result2.all_messages())"
      ],
      "metadata": {
        "colab": {
          "base_uri": "https://localhost:8080/"
        },
        "id": "okyFBRBtZ8l7",
        "outputId": "46fc6b15-ebb9-45ff-bce7-8726968c8672"
      },
      "execution_count": null,
      "outputs": [
        {
          "output_type": "stream",
          "name": "stdout",
          "text": [
            "[SystemPrompt(content='Be a helpful assistant.', role='system'),\n",
            " UserPrompt(content='Tell me a joke.',\n",
            "            timestamp=datetime.datetime(2024, 12, 4, 9, 48, 56, 339698, tzinfo=datetime.timezone.utc),\n",
            "            role='user'),\n",
            " ModelTextResponse(content='Why did the scarecrow win an award?\\n'\n",
            "                           '\\n'\n",
            "                           'Because he was outstanding in his field!',\n",
            "                   timestamp=datetime.datetime(2024, 12, 4, 9, 48, 56, tzinfo=datetime.timezone.utc),\n",
            "                   role='model-text-response'),\n",
            " UserPrompt(content='Explain it please?',\n",
            "            timestamp=datetime.datetime(2024, 12, 4, 9, 50, 3, 392053, tzinfo=datetime.timezone.utc),\n",
            "            role='user'),\n",
            " ModelTextResponse(content='Sure! The joke plays on the double meaning of the '\n",
            "                           'phrase \"outstanding in his field.\" \\n'\n",
            "                           '\\n'\n",
            "                           '1. **Literal Meaning**: A scarecrow is literally '\n",
            "                           'placed in a field to scare away birds and protect '\n",
            "                           'crops, so it is \"out standing\" in the field. \\n'\n",
            "                           '\\n'\n",
            "                           '2. **Figurative Meaning**: The phrase \"outstanding '\n",
            "                           'in his field\" is commonly used to refer to someone '\n",
            "                           'who is exceptional or excels in their area of '\n",
            "                           'expertise or profession. \\n'\n",
            "                           '\\n'\n",
            "                           'The humor comes from the pun where the literal '\n",
            "                           'situation of a scarecrow being in a field is '\n",
            "                           'combined with the idiomatic expression about '\n",
            "                           'excellence. So, the scarecrow is both literally '\n",
            "                           'improving the field and humorously implied to be '\n",
            "                           'excellent at his \"job.\"',\n",
            "                   timestamp=datetime.datetime(2024, 12, 4, 9, 50, 3, tzinfo=datetime.timezone.utc),\n",
            "                   role='model-text-response')]\n"
          ]
        }
      ]
    },
    {
      "cell_type": "code",
      "source": [
        "pprint(result2.new_messages())"
      ],
      "metadata": {
        "colab": {
          "base_uri": "https://localhost:8080/"
        },
        "id": "PGfJPUpXXOCy",
        "outputId": "a86fba24-913b-4be3-82ef-a62422da78fc"
      },
      "execution_count": null,
      "outputs": [
        {
          "output_type": "stream",
          "name": "stdout",
          "text": [
            "[UserPrompt(content='Explain it please?',\n",
            "            timestamp=datetime.datetime(2024, 12, 4, 9, 50, 3, 392053, tzinfo=datetime.timezone.utc),\n",
            "            role='user'),\n",
            " ModelTextResponse(content='Sure! The joke plays on the double meaning of the '\n",
            "                           'phrase \"outstanding in his field.\" \\n'\n",
            "                           '\\n'\n",
            "                           '1. **Literal Meaning**: A scarecrow is literally '\n",
            "                           'placed in a field to scare away birds and protect '\n",
            "                           'crops, so it is \"out standing\" in the field. \\n'\n",
            "                           '\\n'\n",
            "                           '2. **Figurative Meaning**: The phrase \"outstanding '\n",
            "                           'in his field\" is commonly used to refer to someone '\n",
            "                           'who is exceptional or excels in their area of '\n",
            "                           'expertise or profession. \\n'\n",
            "                           '\\n'\n",
            "                           'The humor comes from the pun where the literal '\n",
            "                           'situation of a scarecrow being in a field is '\n",
            "                           'combined with the idiomatic expression about '\n",
            "                           'excellence. So, the scarecrow is both literally '\n",
            "                           'improving the field and humorously implied to be '\n",
            "                           'excellent at his \"job.\"',\n",
            "                   timestamp=datetime.datetime(2024, 12, 4, 9, 50, 3, tzinfo=datetime.timezone.utc),\n",
            "                   role='model-text-response')]\n"
          ]
        }
      ]
    },
    {
      "cell_type": "code",
      "source": [
        "result3 = agent.run_sync('Where does the joke come from?', message_history=result2.all_messages())\n",
        "print(result3.data)"
      ],
      "metadata": {
        "colab": {
          "base_uri": "https://localhost:8080/"
        },
        "id": "25MExpMba0h6",
        "outputId": "c084c0cf-8143-44a5-d1a4-f5c9df3615fc"
      },
      "execution_count": null,
      "outputs": [
        {
          "output_type": "stream",
          "name": "stdout",
          "text": [
            "The joke is a classic example of a pun, which is a form of wordplay that exploits multiple meanings of a term or similar-sounding words for humorous effect. It doesn't have a specific origin or source but has been circulated widely in various forms of humor, including stand-up comedy, children's jokes, and light-hearted writings. Puns have been a part of humor for centuries, and similar structures have appeared in literature and folklore.\n",
            "\n",
            "Jokes like these often appear in joke books, online humor websites, or social media, where simple wordplay is appreciated for its lightheartedness. The scarecrow joke is particularly popular because it's simple, relatable, and suitable for all ages. Its charm lies in its cleverness and the visual imagery it evokes.\n"
          ]
        }
      ]
    },
    {
      "cell_type": "code",
      "source": [
        "pprint(result3.all_messages())"
      ],
      "metadata": {
        "colab": {
          "base_uri": "https://localhost:8080/"
        },
        "id": "8p1fgt9za-yY",
        "outputId": "2bb03581-4dc2-45ed-bbc7-51325435e1de"
      },
      "execution_count": null,
      "outputs": [
        {
          "output_type": "stream",
          "name": "stdout",
          "text": [
            "[SystemPrompt(content='Be a helpful assistant.', role='system'),\n",
            " UserPrompt(content='Tell me a joke.',\n",
            "            timestamp=datetime.datetime(2024, 12, 4, 9, 48, 56, 339698, tzinfo=datetime.timezone.utc),\n",
            "            role='user'),\n",
            " ModelTextResponse(content='Why did the scarecrow win an award?\\n'\n",
            "                           '\\n'\n",
            "                           'Because he was outstanding in his field!',\n",
            "                   timestamp=datetime.datetime(2024, 12, 4, 9, 48, 56, tzinfo=datetime.timezone.utc),\n",
            "                   role='model-text-response'),\n",
            " UserPrompt(content='Explain it please?',\n",
            "            timestamp=datetime.datetime(2024, 12, 4, 9, 50, 3, 392053, tzinfo=datetime.timezone.utc),\n",
            "            role='user'),\n",
            " ModelTextResponse(content='Sure! The joke plays on the double meaning of the '\n",
            "                           'phrase \"outstanding in his field.\" \\n'\n",
            "                           '\\n'\n",
            "                           '1. **Literal Meaning**: A scarecrow is literally '\n",
            "                           'placed in a field to scare away birds and protect '\n",
            "                           'crops, so it is \"out standing\" in the field. \\n'\n",
            "                           '\\n'\n",
            "                           '2. **Figurative Meaning**: The phrase \"outstanding '\n",
            "                           'in his field\" is commonly used to refer to someone '\n",
            "                           'who is exceptional or excels in their area of '\n",
            "                           'expertise or profession. \\n'\n",
            "                           '\\n'\n",
            "                           'The humor comes from the pun where the literal '\n",
            "                           'situation of a scarecrow being in a field is '\n",
            "                           'combined with the idiomatic expression about '\n",
            "                           'excellence. So, the scarecrow is both literally '\n",
            "                           'improving the field and humorously implied to be '\n",
            "                           'excellent at his \"job.\"',\n",
            "                   timestamp=datetime.datetime(2024, 12, 4, 9, 50, 3, tzinfo=datetime.timezone.utc),\n",
            "                   role='model-text-response'),\n",
            " UserPrompt(content='Where does the joke come from?',\n",
            "            timestamp=datetime.datetime(2024, 12, 4, 9, 50, 39, 519333, tzinfo=datetime.timezone.utc),\n",
            "            role='user'),\n",
            " ModelTextResponse(content='The joke is a classic example of a pun, which is a '\n",
            "                           'form of wordplay that exploits multiple meanings '\n",
            "                           'of a term or similar-sounding words for humorous '\n",
            "                           \"effect. It doesn't have a specific origin or \"\n",
            "                           'source but has been circulated widely in various '\n",
            "                           'forms of humor, including stand-up comedy, '\n",
            "                           \"children's jokes, and light-hearted writings. Puns \"\n",
            "                           'have been a part of humor for centuries, and '\n",
            "                           'similar structures have appeared in literature and '\n",
            "                           'folklore.\\n'\n",
            "                           '\\n'\n",
            "                           'Jokes like these often appear in joke books, '\n",
            "                           'online humor websites, or social media, where '\n",
            "                           'simple wordplay is appreciated for its '\n",
            "                           'lightheartedness. The scarecrow joke is '\n",
            "                           \"particularly popular because it's simple, \"\n",
            "                           'relatable, and suitable for all ages. Its charm '\n",
            "                           'lies in its cleverness and the visual imagery it '\n",
            "                           'evokes.',\n",
            "                   timestamp=datetime.datetime(2024, 12, 4, 9, 50, 49, tzinfo=datetime.timezone.utc),\n",
            "                   role='model-text-response')]\n"
          ]
        }
      ]
    },
    {
      "cell_type": "code",
      "source": [
        "print(result3.all_messages_json())"
      ],
      "metadata": {
        "colab": {
          "base_uri": "https://localhost:8080/"
        },
        "id": "LytkNDspbKsW",
        "outputId": "0f0d3e5c-5fdd-417e-ac4d-f596c3600b25"
      },
      "execution_count": null,
      "outputs": [
        {
          "output_type": "stream",
          "name": "stdout",
          "text": [
            "b'[{\"content\":\"Be a helpful assistant.\",\"role\":\"system\"},{\"content\":\"Tell me a joke.\",\"timestamp\":\"2024-12-04T09:48:56.339698Z\",\"role\":\"user\"},{\"content\":\"Why did the scarecrow win an award?\\\\n\\\\nBecause he was outstanding in his field!\",\"timestamp\":\"2024-12-04T09:48:56Z\",\"role\":\"model-text-response\"},{\"content\":\"Explain it please?\",\"timestamp\":\"2024-12-04T09:50:03.392053Z\",\"role\":\"user\"},{\"content\":\"Sure! The joke plays on the double meaning of the phrase \\\\\"outstanding in his field.\\\\\" \\\\n\\\\n1. **Literal Meaning**: A scarecrow is literally placed in a field to scare away birds and protect crops, so it is \\\\\"out standing\\\\\" in the field. \\\\n\\\\n2. **Figurative Meaning**: The phrase \\\\\"outstanding in his field\\\\\" is commonly used to refer to someone who is exceptional or excels in their area of expertise or profession. \\\\n\\\\nThe humor comes from the pun where the literal situation of a scarecrow being in a field is combined with the idiomatic expression about excellence. So, the scarecrow is both literally improving the field and humorously implied to be excellent at his \\\\\"job.\\\\\"\",\"timestamp\":\"2024-12-04T09:50:03Z\",\"role\":\"model-text-response\"},{\"content\":\"Where does the joke come from?\",\"timestamp\":\"2024-12-04T09:50:39.519333Z\",\"role\":\"user\"},{\"content\":\"The joke is a classic example of a pun, which is a form of wordplay that exploits multiple meanings of a term or similar-sounding words for humorous effect. It doesn\\'t have a specific origin or source but has been circulated widely in various forms of humor, including stand-up comedy, children\\'s jokes, and light-hearted writings. Puns have been a part of humor for centuries, and similar structures have appeared in literature and folklore.\\\\n\\\\nJokes like these often appear in joke books, online humor websites, or social media, where simple wordplay is appreciated for its lightheartedness. The scarecrow joke is particularly popular because it\\'s simple, relatable, and suitable for all ages. Its charm lies in its cleverness and the visual imagery it evokes.\",\"timestamp\":\"2024-12-04T09:50:49Z\",\"role\":\"model-text-response\"}]'\n"
          ]
        }
      ]
    },
    {
      "cell_type": "markdown",
      "source": [
        "## Chatting LLMs"
      ],
      "metadata": {
        "id": "54nv6LxtbqFu"
      }
    },
    {
      "cell_type": "code",
      "source": [
        "from pydantic_ai import Agent\n",
        "\n",
        "agent = Agent('openai:gpt-4o-mini', system_prompt='Be a helpful assistant.')\n",
        "\n",
        "result1 = agent.run_sync('Tell me a joke.')\n",
        "print(result1.data)\n",
        "\n",
        "result2 = agent.run_sync(\n",
        "    'Explain?', model='gemini-1.5-pro', message_history=result1.new_messages()\n",
        ")\n",
        "print(result2.data)\n",
        "\n",
        "\n"
      ],
      "metadata": {
        "colab": {
          "base_uri": "https://localhost:8080/"
        },
        "id": "M0K1JKHlbtmv",
        "outputId": "e2a82024-69ae-4014-efaa-5d4c198f07e4"
      },
      "execution_count": null,
      "outputs": [
        {
          "output_type": "stream",
          "name": "stdout",
          "text": [
            "Why don't skeletons fight each other? \n",
            "\n",
            "They don't have the guts!\n",
            "The joke plays on the double meaning of \"guts.\"  It refers to both intestines (which skeletons lack) and courage or bravery.  So, skeletons don't fight because they don't have the physical organs, but the joke implies they also lack the courage.\n",
            "\n"
          ]
        }
      ]
    },
    {
      "cell_type": "code",
      "source": [
        "pprint(result2.all_messages())"
      ],
      "metadata": {
        "colab": {
          "base_uri": "https://localhost:8080/"
        },
        "id": "JwMoPdhHb52v",
        "outputId": "700dcb25-bd73-41eb-d148-bdbf32df119a"
      },
      "execution_count": null,
      "outputs": [
        {
          "output_type": "stream",
          "name": "stdout",
          "text": [
            "[SystemPrompt(content='Be a helpful assistant.', role='system'),\n",
            " UserPrompt(content='Tell me a joke.',\n",
            "            timestamp=datetime.datetime(2024, 12, 4, 9, 52, 5, 563936, tzinfo=datetime.timezone.utc),\n",
            "            role='user'),\n",
            " ModelTextResponse(content=\"Why don't skeletons fight each other? \\n\"\n",
            "                           '\\n'\n",
            "                           \"They don't have the guts!\",\n",
            "                   timestamp=datetime.datetime(2024, 12, 4, 9, 52, 5, tzinfo=datetime.timezone.utc),\n",
            "                   role='model-text-response'),\n",
            " UserPrompt(content='Explain?',\n",
            "            timestamp=datetime.datetime(2024, 12, 4, 9, 52, 6, 47446, tzinfo=datetime.timezone.utc),\n",
            "            role='user'),\n",
            " ModelTextResponse(content='The joke plays on the double meaning of \"guts.\"  '\n",
            "                           'It refers to both intestines (which skeletons '\n",
            "                           \"lack) and courage or bravery.  So, skeletons don't \"\n",
            "                           \"fight because they don't have the physical organs, \"\n",
            "                           'but the joke implies they also lack the courage.\\n',\n",
            "                   timestamp=datetime.datetime(2024, 12, 4, 9, 52, 7, 886871, tzinfo=datetime.timezone.utc),\n",
            "                   role='model-text-response')]\n"
          ]
        }
      ]
    },
    {
      "cell_type": "markdown",
      "source": [
        "## Weather"
      ],
      "metadata": {
        "id": "aezrxJNhPm7N"
      }
    },
    {
      "cell_type": "code",
      "source": [
        "from __future__ import annotations as _annotations\n",
        "\n",
        "import asyncio\n",
        "import os\n",
        "from dataclasses import dataclass\n",
        "from typing import Any\n",
        "\n",
        "from devtools import debug\n",
        "from httpx import AsyncClient\n",
        "\n",
        "from pydantic_ai import Agent, ModelRetry, RunContext"
      ],
      "metadata": {
        "id": "9j381AIUPoIx"
      },
      "execution_count": null,
      "outputs": []
    },
    {
      "cell_type": "code",
      "source": [
        "@dataclass\n",
        "class Deps:\n",
        "    client: AsyncClient\n",
        "    weather_api_key: str | None\n",
        "    geo_api_key: str | None\n"
      ],
      "metadata": {
        "id": "GTRauCbx3I6e"
      },
      "execution_count": null,
      "outputs": []
    },
    {
      "cell_type": "code",
      "source": [
        "\n",
        "weather_agent = Agent(\n",
        "    'openai:gpt-4o',\n",
        "    system_prompt='Be concise, reply with one sentence.',\n",
        "    deps_type=Deps,\n",
        "    retries=2,\n",
        ")\n",
        "\n",
        "@weather_agent.tool\n",
        "async def get_lat_lng(\n",
        "    ctx: RunContext[Deps], location_description: str\n",
        ") -> dict[str, float]:\n",
        "    \"\"\"Get the latitude and longitude of a location.\n",
        "\n",
        "    Args:\n",
        "        ctx: The context.\n",
        "        location_description: A description of a location.\n",
        "    \"\"\"\n",
        "    if ctx.deps.geo_api_key is None:\n",
        "        # if no API key is provided, return a dummy response (London)\n",
        "        return {'lat': 51.1, 'lng': -0.1}\n",
        "\n",
        "    params = {\n",
        "        'q': location_description,\n",
        "        'api_key': ctx.deps.geo_api_key,\n",
        "    }\n",
        "    with logfire.span('calling geocode API', params=params) as span:\n",
        "        r = await ctx.deps.client.get('https://geocode.maps.co/search', params=params)\n",
        "        r.raise_for_status()\n",
        "        data = r.json()\n",
        "        span.set_attribute('response', data)\n",
        "\n",
        "    if data:\n",
        "        return {'lat': data[0]['lat'], 'lng': data[0]['lon']}\n",
        "    else:\n",
        "        raise ModelRetry('Could not find the location')\n",
        "\n",
        "\n",
        "@weather_agent.tool\n",
        "async def get_weather(ctx: RunContext[Deps], lat: float, lng: float) -> dict[str, Any]:\n",
        "    \"\"\"Get the weather at a location.\n",
        "\n",
        "    Args:\n",
        "        ctx: The context.\n",
        "        lat: Latitude of the location.\n",
        "        lng: Longitude of the location.\n",
        "    \"\"\"\n",
        "    if ctx.deps.weather_api_key is None:\n",
        "        # if no API key is provided, return a dummy response\n",
        "        return {'temperature': '21 °C', 'description': 'Sunny'}\n",
        "\n",
        "    params = {\n",
        "        'apikey': ctx.deps.weather_api_key,\n",
        "        'location': f'{lat},{lng}',\n",
        "        'units': 'metric',\n",
        "    }\n",
        "    with logfire.span('calling weather API', params=params) as span:\n",
        "        r = await ctx.deps.client.get(\n",
        "            'https://api.tomorrow.io/v4/weather/realtime', params=params\n",
        "        )\n",
        "        r.raise_for_status()\n",
        "        data = r.json()\n",
        "        span.set_attribute('response', data)\n",
        "\n",
        "    values = data['data']['values']\n",
        "    # https://docs.tomorrow.io/reference/data-layers-weather-codes\n",
        "    code_lookup = {\n",
        "        1000: 'Clear, Sunny',\n",
        "        1100: 'Mostly Clear',\n",
        "        1101: 'Partly Cloudy',\n",
        "        1102: 'Mostly Cloudy',\n",
        "        1001: 'Cloudy',\n",
        "        2000: 'Fog',\n",
        "        2100: 'Light Fog',\n",
        "        4000: 'Drizzle',\n",
        "        4001: 'Rain',\n",
        "        4200: 'Light Rain',\n",
        "        4201: 'Heavy Rain',\n",
        "        5000: 'Snow',\n",
        "        5001: 'Flurries',\n",
        "        5100: 'Light Snow',\n",
        "        5101: 'Heavy Snow',\n",
        "        6000: 'Freezing Drizzle',\n",
        "        6001: 'Freezing Rain',\n",
        "        6200: 'Light Freezing Rain',\n",
        "        6201: 'Heavy Freezing Rain',\n",
        "        7000: 'Ice Pellets',\n",
        "        7101: 'Heavy Ice Pellets',\n",
        "        7102: 'Light Ice Pellets',\n",
        "        8000: 'Thunderstorm',\n",
        "    }\n",
        "    return {\n",
        "        'temperature': f'{values[\"temperatureApparent\"]:0.0f}°C',\n",
        "        'description': code_lookup.get(values['weatherCode'], 'Unknown'),\n",
        "    }\n",
        "\n",
        "\n",
        "\n"
      ],
      "metadata": {
        "id": "_W7bDs6j3I-g"
      },
      "execution_count": null,
      "outputs": []
    },
    {
      "cell_type": "code",
      "source": [
        "async def main():\n",
        "    async with AsyncClient() as client:\n",
        "        # create a free API key at https://www.tomorrow.io/weather-api/\n",
        "        weather_api_key = os.getenv('WEATHER_API_KEY')\n",
        "        # create a free API key at https://geocode.maps.co/\n",
        "        geo_api_key = os.getenv('GEO_API_KEY')\n",
        "        deps = Deps(\n",
        "            client=client, weather_api_key=weather_api_key, geo_api_key=geo_api_key\n",
        "        )\n",
        "        result = await weather_agent.run(\n",
        "            'What is the weather like in London and in Singapore?', deps=deps\n",
        "        )\n",
        "        debug(result)\n",
        "        print('Response:', result.data)"
      ],
      "metadata": {
        "id": "qXo3uShp5jsH"
      },
      "execution_count": null,
      "outputs": []
    },
    {
      "cell_type": "code",
      "source": [
        "asyncio.run(main())"
      ],
      "metadata": {
        "colab": {
          "base_uri": "https://localhost:8080/"
        },
        "id": "IAkN2NBf3JBw",
        "outputId": "efb65e66-ead8-41a1-b8d7-36ead1332c0a"
      },
      "execution_count": null,
      "outputs": [
        {
          "output_type": "stream",
          "name": "stdout",
          "text": [
            "<ipython-input-66-a2f9f6cbe960>:13 main\n",
            "    result: RunResult(\n",
            "        _all_messages=[\n",
            "            SystemPrompt(\n",
            "                content='Be concise, reply with one sentence.',\n",
            "                role='system',\n",
            "            ),\n",
            "            UserPrompt(\n",
            "                content='What is the weather like in London and in Singapore?',\n",
            "                timestamp=datetime.datetime(2024, 12, 4, 9, 56, 16, 119801, tzinfo=datetime.timezone.utc),\n",
            "                role='user',\n",
            "            ),\n",
            "            ModelStructuredResponse(\n",
            "                calls=[\n",
            "                    ToolCall(\n",
            "                        tool_name='get_lat_lng',\n",
            "                        args=ArgsJson(\n",
            "                            args_json='{\"location_description\": \"London\"}',\n",
            "                        ),\n",
            "                        tool_id='call_eUhSdrJJpsLdmVBBarXAY2aE',\n",
            "                    ),\n",
            "                    ToolCall(\n",
            "                        tool_name='get_lat_lng',\n",
            "                        args=ArgsJson(\n",
            "                            args_json='{\"location_description\": \"Singapore\"}',\n",
            "                        ),\n",
            "                        tool_id='call_hBHsgBImacSXZiFCpj5lNOaU',\n",
            "                    ),\n",
            "                ],\n",
            "                timestamp=datetime.datetime(2024, 12, 4, 9, 56, 16, tzinfo=datetime.timezone.utc),\n",
            "                role='model-structured-response',\n",
            "            ),\n",
            "            ToolReturn(\n",
            "                tool_name='get_lat_lng',\n",
            "                content={\n",
            "                    'lat': 51.1,\n",
            "                    'lng': -0.1,\n",
            "                },\n",
            "                tool_id='call_eUhSdrJJpsLdmVBBarXAY2aE',\n",
            "                timestamp=datetime.datetime(2024, 12, 4, 9, 56, 16, 979389, tzinfo=datetime.timezone.utc),\n",
            "                role='tool-return',\n",
            "            ),\n",
            "            ToolReturn(\n",
            "                tool_name='get_lat_lng',\n",
            "                content={\n",
            "                    'lat': 51.1,\n",
            "                    'lng': -0.1,\n",
            "                },\n",
            "                tool_id='call_hBHsgBImacSXZiFCpj5lNOaU',\n",
            "                timestamp=datetime.datetime(2024, 12, 4, 9, 56, 16, 979435, tzinfo=datetime.timezone.utc),\n",
            "                role='tool-return',\n",
            "            ),\n",
            "            ModelStructuredResponse(\n",
            "                calls=[\n",
            "                    ToolCall(\n",
            "                        tool_name='get_weather',\n",
            "                        args=ArgsJson(\n",
            "                            args_json='{\"lat\": 51.1, \"lng\": -0.1}',\n",
            "                        ),\n",
            "                        tool_id='call_I9OyubRQIIqFcOjrH54AxJd0',\n",
            "                    ),\n",
            "                    ToolCall(\n",
            "                        tool_name='get_weather',\n",
            "                        args=ArgsJson(\n",
            "                            args_json='{\"lat\": 51.1, \"lng\": -0.1}',\n",
            "                        ),\n",
            "                        tool_id='call_ejVYjlzccxM6TiSeaIJWPrQH',\n",
            "                    ),\n",
            "                ],\n",
            "                timestamp=datetime.datetime(2024, 12, 4, 9, 56, 17, tzinfo=datetime.timezone.utc),\n",
            "                role='model-structured-response',\n",
            "            ),\n",
            "            ToolReturn(\n",
            "                tool_name='get_weather',\n",
            "                content={\n",
            "                    'temperature': '21 °C',\n",
            "                    'description': 'Sunny',\n",
            "                },\n",
            "                tool_id='call_I9OyubRQIIqFcOjrH54AxJd0',\n",
            "                timestamp=datetime.datetime(2024, 12, 4, 9, 56, 18, 283278, tzinfo=datetime.timezone.utc),\n",
            "                role='tool-return',\n",
            "            ),\n",
            "            ToolReturn(\n",
            "                tool_name='get_weather',\n",
            "                content={\n",
            "                    'temperature': '21 °C',\n",
            "                    'description': 'Sunny',\n",
            "                },\n",
            "                tool_id='call_ejVYjlzccxM6TiSeaIJWPrQH',\n",
            "                timestamp=datetime.datetime(2024, 12, 4, 9, 56, 18, 283329, tzinfo=datetime.timezone.utc),\n",
            "                role='tool-return',\n",
            "            ),\n",
            "            ModelTextResponse(\n",
            "                content='The weather in both London and Singapore is currently 21 °C and sunny.',\n",
            "                timestamp=datetime.datetime(2024, 12, 4, 9, 56, 18, tzinfo=datetime.timezone.utc),\n",
            "                role='model-text-response',\n",
            "            ),\n",
            "        ],\n",
            "        _new_message_index=1,\n",
            "        data='The weather in both London and Singapore is currently 21 °C and sunny.',\n",
            "        _cost=Cost(\n",
            "            request_tokens=716,\n",
            "            response_tokens=129,\n",
            "            total_tokens=845,\n",
            "            details={\n",
            "                'accepted_prediction_tokens': 0,\n",
            "                'audio_tokens': 0,\n",
            "                'reasoning_tokens': 0,\n",
            "                'rejected_prediction_tokens': 0,\n",
            "                'cached_tokens': 0,\n",
            "            },\n",
            "        ),\n",
            "    ) (RunResult)\n",
            "Response: The weather in both London and Singapore is currently 21 °C and sunny.\n"
          ]
        }
      ]
    },
    {
      "cell_type": "code",
      "source": [],
      "metadata": {
        "id": "V7otAxuNCpJ4"
      },
      "execution_count": null,
      "outputs": []
    },
    {
      "cell_type": "code",
      "source": [],
      "metadata": {
        "id": "ruDMPqV5CpN5"
      },
      "execution_count": null,
      "outputs": []
    },
    {
      "cell_type": "markdown",
      "source": [
        "## Streaming MarkDown"
      ],
      "metadata": {
        "id": "7glzqzKnYsLT"
      }
    },
    {
      "cell_type": "code",
      "source": [
        "import asyncio\n",
        "import os\n",
        "\n",
        "from rich.console import Console, ConsoleOptions, RenderResult\n",
        "from rich.live import Live\n",
        "from rich.markdown import CodeBlock, Markdown\n",
        "from rich.syntax import Syntax\n",
        "from rich.text import Text\n",
        "\n",
        "from pydantic_ai import Agent\n",
        "from pydantic_ai.models import KnownModelName\n",
        "\n",
        "\n",
        "agent = Agent()\n",
        "\n",
        "# models to try, and the appropriate env var\n",
        "models: list[tuple[KnownModelName, str]] = [\n",
        "    ('gemini-1.5-flash', 'GEMINI_API_KEY'),\n",
        "    ('openai:gpt-4o-mini', 'OPENAI_API_KEY'),\n",
        "    ('groq:llama-3.1-70b-versatile', 'GROQ_API_KEY'),\n",
        "]\n",
        "\n",
        "\n",
        "async def main():\n",
        "    prettier_code_blocks()\n",
        "    console = Console()\n",
        "    prompt = 'Show me a short example of using Pydantic.'\n",
        "    console.log(f'Asking: {prompt}...', style='cyan')\n",
        "    for model, env_var in models:\n",
        "        if env_var in os.environ:\n",
        "            console.log(f'Using model: {model}')\n",
        "            with Live('', console=console, vertical_overflow='visible') as live:\n",
        "                async with agent.run_stream(prompt, model=model) as result:\n",
        "                    async for message in result.stream():\n",
        "                        live.update(Markdown(message))\n",
        "            console.log(result.cost())\n",
        "        else:\n",
        "            console.log(f'{model} requires {env_var} to be set.')\n",
        "\n",
        "\n",
        "def prettier_code_blocks():\n",
        "    \"\"\"Make rich code blocks prettier and easier to copy.\n",
        "\n",
        "    From https://github.com/samuelcolvin/aicli/blob/v0.8.0/samuelcolvin_aicli.py#L22\n",
        "    \"\"\"\n",
        "\n",
        "    class SimpleCodeBlock(CodeBlock):\n",
        "        def __rich_console__(\n",
        "            self, console: Console, options: ConsoleOptions\n",
        "        ) -> RenderResult:\n",
        "            code = str(self.text).rstrip()\n",
        "            yield Text(self.lexer_name, style='dim')\n",
        "            yield Syntax(\n",
        "                code,\n",
        "                self.lexer_name,\n",
        "                theme=self.theme,\n",
        "                background_color='black',\n",
        "                word_wrap=True,\n",
        "            )\n",
        "            yield Text(f'/{self.lexer_name}', style='dim')\n",
        "\n",
        "    Markdown.elements['fence'] = SimpleCodeBlock\n",
        "\n",
        "\n",
        "if __name__ == '__main__':\n",
        "    asyncio.run(main())"
      ],
      "metadata": {
        "colab": {
          "base_uri": "https://localhost:8080/",
          "height": 1000,
          "referenced_widgets": [
            "aa6177341ad6439c96c059e433169420",
            "1329031b2a6c437fae35175f8e7ccbb4",
            "402757fec43049cda25b6063e42f6a67",
            "a398fc2e52c3454fa62275335a742f7c",
            "7bd9e078fe824979b0ac9b930ec77ddd",
            "67b778d4848f4586bce0dfdcbd061345"
          ]
        },
        "id": "zPeF_VWkPJ0b",
        "outputId": "74b785cf-6912-4eab-c58f-516bb7f497bc"
      },
      "execution_count": null,
      "outputs": [
        {
          "output_type": "display_data",
          "data": {
            "text/plain": [
              "\u001b[2;36m[10:00:18]\u001b[0m\u001b[2;36m \u001b[0m\u001b[36mAsking: Show me a short example of using Pydantic\u001b[0m\u001b[33m...\u001b[0m\u001b[36m.                \u001b[0m \u001b[2m<ipython-input-69-fb37c035d7d1>:28\u001b[0m\n"
            ],
            "text/html": [
              "<pre style=\"white-space:pre;overflow-x:auto;line-height:normal;font-family:Menlo,'DejaVu Sans Mono',consolas,'Courier New',monospace\"><span style=\"color: #7fbfbf; text-decoration-color: #7fbfbf\">[10:00:18] </span><span style=\"color: #008080; text-decoration-color: #008080\">Asking: Show me a short example of using Pydantic</span><span style=\"color: #808000; text-decoration-color: #808000\">...</span><span style=\"color: #008080; text-decoration-color: #008080\">.                </span> <span style=\"color: #7f7f7f; text-decoration-color: #7f7f7f\">&lt;ipython-input-69-fb37c035d7d1&gt;:28</span>\n",
              "</pre>\n"
            ]
          },
          "metadata": {}
        },
        {
          "output_type": "display_data",
          "data": {
            "text/plain": [
              "\u001b[2;36m          \u001b[0m\u001b[2;36m \u001b[0mUsing model: gemini-\u001b[1;36m1.5\u001b[0m-flash                                         \u001b[2m<ipython-input-69-fb37c035d7d1>:31\u001b[0m\n"
            ],
            "text/html": [
              "<pre style=\"white-space:pre;overflow-x:auto;line-height:normal;font-family:Menlo,'DejaVu Sans Mono',consolas,'Courier New',monospace\"><span style=\"color: #7fbfbf; text-decoration-color: #7fbfbf\">           </span>Using model: gemini-<span style=\"color: #008080; text-decoration-color: #008080; font-weight: bold\">1.5</span>-flash                                         <span style=\"color: #7f7f7f; text-decoration-color: #7f7f7f\">&lt;ipython-input-69-fb37c035d7d1&gt;:31</span>\n",
              "</pre>\n"
            ]
          },
          "metadata": {}
        },
        {
          "output_type": "display_data",
          "data": {
            "text/plain": [
              "Output()"
            ],
            "application/vnd.jupyter.widget-view+json": {
              "version_major": 2,
              "version_minor": 0,
              "model_id": "aa6177341ad6439c96c059e433169420"
            }
          },
          "metadata": {}
        },
        {
          "output_type": "display_data",
          "data": {
            "text/plain": [],
            "text/html": [
              "<pre style=\"white-space:pre;overflow-x:auto;line-height:normal;font-family:Menlo,'DejaVu Sans Mono',consolas,'Courier New',monospace\"></pre>\n"
            ]
          },
          "metadata": {}
        },
        {
          "output_type": "display_data",
          "data": {
            "text/plain": [
              "\u001b[2;36m[10:00:21]\u001b[0m\u001b[2;36m \u001b[0m\u001b[1;35mCost\u001b[0m\u001b[1m(\u001b[0m                                                                 \u001b[2m<ipython-input-69-fb37c035d7d1>:36\u001b[0m\n",
              "\u001b[2;36m           \u001b[0m    \u001b[33mrequest_tokens\u001b[0m=\u001b[1;36m132\u001b[0m,                                               \u001b[2m                                  \u001b[0m\n",
              "\u001b[2;36m           \u001b[0m    \u001b[33mresponse_tokens\u001b[0m=\u001b[1;36m390\u001b[0m,                                              \u001b[2m                                  \u001b[0m\n",
              "\u001b[2;36m           \u001b[0m    \u001b[33mtotal_tokens\u001b[0m=\u001b[1;36m522\u001b[0m,                                                 \u001b[2m                                  \u001b[0m\n",
              "\u001b[2;36m           \u001b[0m    \u001b[33mdetails\u001b[0m=\u001b[3;35mNone\u001b[0m                                                      \u001b[2m                                  \u001b[0m\n",
              "\u001b[2;36m           \u001b[0m\u001b[1m)\u001b[0m                                                                     \u001b[2m                                  \u001b[0m\n"
            ],
            "text/html": [
              "<pre style=\"white-space:pre;overflow-x:auto;line-height:normal;font-family:Menlo,'DejaVu Sans Mono',consolas,'Courier New',monospace\"><span style=\"color: #7fbfbf; text-decoration-color: #7fbfbf\">[10:00:21] </span><span style=\"color: #800080; text-decoration-color: #800080; font-weight: bold\">Cost</span><span style=\"font-weight: bold\">(</span>                                                                 <span style=\"color: #7f7f7f; text-decoration-color: #7f7f7f\">&lt;ipython-input-69-fb37c035d7d1&gt;:36</span>\n",
              "<span style=\"color: #7fbfbf; text-decoration-color: #7fbfbf\">           </span>    <span style=\"color: #808000; text-decoration-color: #808000\">request_tokens</span>=<span style=\"color: #008080; text-decoration-color: #008080; font-weight: bold\">132</span>,                                               <span style=\"color: #7f7f7f; text-decoration-color: #7f7f7f\">                                  </span>\n",
              "<span style=\"color: #7fbfbf; text-decoration-color: #7fbfbf\">           </span>    <span style=\"color: #808000; text-decoration-color: #808000\">response_tokens</span>=<span style=\"color: #008080; text-decoration-color: #008080; font-weight: bold\">390</span>,                                              <span style=\"color: #7f7f7f; text-decoration-color: #7f7f7f\">                                  </span>\n",
              "<span style=\"color: #7fbfbf; text-decoration-color: #7fbfbf\">           </span>    <span style=\"color: #808000; text-decoration-color: #808000\">total_tokens</span>=<span style=\"color: #008080; text-decoration-color: #008080; font-weight: bold\">522</span>,                                                 <span style=\"color: #7f7f7f; text-decoration-color: #7f7f7f\">                                  </span>\n",
              "<span style=\"color: #7fbfbf; text-decoration-color: #7fbfbf\">           </span>    <span style=\"color: #808000; text-decoration-color: #808000\">details</span>=<span style=\"color: #800080; text-decoration-color: #800080; font-style: italic\">None</span>                                                      <span style=\"color: #7f7f7f; text-decoration-color: #7f7f7f\">                                  </span>\n",
              "<span style=\"color: #7fbfbf; text-decoration-color: #7fbfbf\">           </span><span style=\"font-weight: bold\">)</span>                                                                     <span style=\"color: #7f7f7f; text-decoration-color: #7f7f7f\">                                  </span>\n",
              "</pre>\n"
            ]
          },
          "metadata": {}
        },
        {
          "output_type": "display_data",
          "data": {
            "text/plain": [
              "\u001b[2;36m          \u001b[0m\u001b[2;36m \u001b[0mUsing model: openai:gpt-4o-mini                                       \u001b[2m<ipython-input-69-fb37c035d7d1>:31\u001b[0m\n"
            ],
            "text/html": [
              "<pre style=\"white-space:pre;overflow-x:auto;line-height:normal;font-family:Menlo,'DejaVu Sans Mono',consolas,'Courier New',monospace\"><span style=\"color: #7fbfbf; text-decoration-color: #7fbfbf\">           </span>Using model: openai:gpt-4o-mini                                       <span style=\"color: #7f7f7f; text-decoration-color: #7f7f7f\">&lt;ipython-input-69-fb37c035d7d1&gt;:31</span>\n",
              "</pre>\n"
            ]
          },
          "metadata": {}
        },
        {
          "output_type": "display_data",
          "data": {
            "text/plain": [
              "Output()"
            ],
            "application/vnd.jupyter.widget-view+json": {
              "version_major": 2,
              "version_minor": 0,
              "model_id": "402757fec43049cda25b6063e42f6a67"
            }
          },
          "metadata": {}
        },
        {
          "output_type": "display_data",
          "data": {
            "text/plain": [],
            "text/html": [
              "<pre style=\"white-space:pre;overflow-x:auto;line-height:normal;font-family:Menlo,'DejaVu Sans Mono',consolas,'Courier New',monospace\"></pre>\n"
            ]
          },
          "metadata": {}
        },
        {
          "output_type": "display_data",
          "data": {
            "text/plain": [
              "\u001b[2;36m[10:00:26]\u001b[0m\u001b[2;36m \u001b[0m\u001b[1;35mCost\u001b[0m\u001b[1m(\u001b[0m                                                                 \u001b[2m<ipython-input-69-fb37c035d7d1>:36\u001b[0m\n",
              "\u001b[2;36m           \u001b[0m    \u001b[33mrequest_tokens\u001b[0m=\u001b[1;36m18\u001b[0m,                                                \u001b[2m                                  \u001b[0m\n",
              "\u001b[2;36m           \u001b[0m    \u001b[33mresponse_tokens\u001b[0m=\u001b[1;36m366\u001b[0m,                                              \u001b[2m                                  \u001b[0m\n",
              "\u001b[2;36m           \u001b[0m    \u001b[33mtotal_tokens\u001b[0m=\u001b[1;36m384\u001b[0m,                                                 \u001b[2m                                  \u001b[0m\n",
              "\u001b[2;36m           \u001b[0m    \u001b[33mdetails\u001b[0m=\u001b[1m{\u001b[0m                                                         \u001b[2m                                  \u001b[0m\n",
              "\u001b[2;36m           \u001b[0m        \u001b[32m'accepted_prediction_tokens'\u001b[0m: \u001b[1;36m0\u001b[0m,                              \u001b[2m                                  \u001b[0m\n",
              "\u001b[2;36m           \u001b[0m        \u001b[32m'audio_tokens'\u001b[0m: \u001b[1;36m0\u001b[0m,                                            \u001b[2m                                  \u001b[0m\n",
              "\u001b[2;36m           \u001b[0m        \u001b[32m'reasoning_tokens'\u001b[0m: \u001b[1;36m0\u001b[0m,                                        \u001b[2m                                  \u001b[0m\n",
              "\u001b[2;36m           \u001b[0m        \u001b[32m'rejected_prediction_tokens'\u001b[0m: \u001b[1;36m0\u001b[0m,                              \u001b[2m                                  \u001b[0m\n",
              "\u001b[2;36m           \u001b[0m        \u001b[32m'cached_tokens'\u001b[0m: \u001b[1;36m0\u001b[0m                                            \u001b[2m                                  \u001b[0m\n",
              "\u001b[2;36m           \u001b[0m    \u001b[1m}\u001b[0m                                                                 \u001b[2m                                  \u001b[0m\n",
              "\u001b[2;36m           \u001b[0m\u001b[1m)\u001b[0m                                                                     \u001b[2m                                  \u001b[0m\n"
            ],
            "text/html": [
              "<pre style=\"white-space:pre;overflow-x:auto;line-height:normal;font-family:Menlo,'DejaVu Sans Mono',consolas,'Courier New',monospace\"><span style=\"color: #7fbfbf; text-decoration-color: #7fbfbf\">[10:00:26] </span><span style=\"color: #800080; text-decoration-color: #800080; font-weight: bold\">Cost</span><span style=\"font-weight: bold\">(</span>                                                                 <span style=\"color: #7f7f7f; text-decoration-color: #7f7f7f\">&lt;ipython-input-69-fb37c035d7d1&gt;:36</span>\n",
              "<span style=\"color: #7fbfbf; text-decoration-color: #7fbfbf\">           </span>    <span style=\"color: #808000; text-decoration-color: #808000\">request_tokens</span>=<span style=\"color: #008080; text-decoration-color: #008080; font-weight: bold\">18</span>,                                                <span style=\"color: #7f7f7f; text-decoration-color: #7f7f7f\">                                  </span>\n",
              "<span style=\"color: #7fbfbf; text-decoration-color: #7fbfbf\">           </span>    <span style=\"color: #808000; text-decoration-color: #808000\">response_tokens</span>=<span style=\"color: #008080; text-decoration-color: #008080; font-weight: bold\">366</span>,                                              <span style=\"color: #7f7f7f; text-decoration-color: #7f7f7f\">                                  </span>\n",
              "<span style=\"color: #7fbfbf; text-decoration-color: #7fbfbf\">           </span>    <span style=\"color: #808000; text-decoration-color: #808000\">total_tokens</span>=<span style=\"color: #008080; text-decoration-color: #008080; font-weight: bold\">384</span>,                                                 <span style=\"color: #7f7f7f; text-decoration-color: #7f7f7f\">                                  </span>\n",
              "<span style=\"color: #7fbfbf; text-decoration-color: #7fbfbf\">           </span>    <span style=\"color: #808000; text-decoration-color: #808000\">details</span>=<span style=\"font-weight: bold\">{</span>                                                         <span style=\"color: #7f7f7f; text-decoration-color: #7f7f7f\">                                  </span>\n",
              "<span style=\"color: #7fbfbf; text-decoration-color: #7fbfbf\">           </span>        <span style=\"color: #008000; text-decoration-color: #008000\">'accepted_prediction_tokens'</span>: <span style=\"color: #008080; text-decoration-color: #008080; font-weight: bold\">0</span>,                              <span style=\"color: #7f7f7f; text-decoration-color: #7f7f7f\">                                  </span>\n",
              "<span style=\"color: #7fbfbf; text-decoration-color: #7fbfbf\">           </span>        <span style=\"color: #008000; text-decoration-color: #008000\">'audio_tokens'</span>: <span style=\"color: #008080; text-decoration-color: #008080; font-weight: bold\">0</span>,                                            <span style=\"color: #7f7f7f; text-decoration-color: #7f7f7f\">                                  </span>\n",
              "<span style=\"color: #7fbfbf; text-decoration-color: #7fbfbf\">           </span>        <span style=\"color: #008000; text-decoration-color: #008000\">'reasoning_tokens'</span>: <span style=\"color: #008080; text-decoration-color: #008080; font-weight: bold\">0</span>,                                        <span style=\"color: #7f7f7f; text-decoration-color: #7f7f7f\">                                  </span>\n",
              "<span style=\"color: #7fbfbf; text-decoration-color: #7fbfbf\">           </span>        <span style=\"color: #008000; text-decoration-color: #008000\">'rejected_prediction_tokens'</span>: <span style=\"color: #008080; text-decoration-color: #008080; font-weight: bold\">0</span>,                              <span style=\"color: #7f7f7f; text-decoration-color: #7f7f7f\">                                  </span>\n",
              "<span style=\"color: #7fbfbf; text-decoration-color: #7fbfbf\">           </span>        <span style=\"color: #008000; text-decoration-color: #008000\">'cached_tokens'</span>: <span style=\"color: #008080; text-decoration-color: #008080; font-weight: bold\">0</span>                                            <span style=\"color: #7f7f7f; text-decoration-color: #7f7f7f\">                                  </span>\n",
              "<span style=\"color: #7fbfbf; text-decoration-color: #7fbfbf\">           </span>    <span style=\"font-weight: bold\">}</span>                                                                 <span style=\"color: #7f7f7f; text-decoration-color: #7f7f7f\">                                  </span>\n",
              "<span style=\"color: #7fbfbf; text-decoration-color: #7fbfbf\">           </span><span style=\"font-weight: bold\">)</span>                                                                     <span style=\"color: #7f7f7f; text-decoration-color: #7f7f7f\">                                  </span>\n",
              "</pre>\n"
            ]
          },
          "metadata": {}
        },
        {
          "output_type": "display_data",
          "data": {
            "text/plain": [
              "\u001b[2;36m          \u001b[0m\u001b[2;36m \u001b[0mUsing model: groq:llama-\u001b[1;36m3.1\u001b[0m-70b-versatile                             \u001b[2m<ipython-input-69-fb37c035d7d1>:31\u001b[0m\n"
            ],
            "text/html": [
              "<pre style=\"white-space:pre;overflow-x:auto;line-height:normal;font-family:Menlo,'DejaVu Sans Mono',consolas,'Courier New',monospace\"><span style=\"color: #7fbfbf; text-decoration-color: #7fbfbf\">           </span>Using model: groq:llama-<span style=\"color: #008080; text-decoration-color: #008080; font-weight: bold\">3.1</span>-70b-versatile                             <span style=\"color: #7f7f7f; text-decoration-color: #7f7f7f\">&lt;ipython-input-69-fb37c035d7d1&gt;:31</span>\n",
              "</pre>\n"
            ]
          },
          "metadata": {}
        },
        {
          "output_type": "display_data",
          "data": {
            "text/plain": [
              "Output()"
            ],
            "application/vnd.jupyter.widget-view+json": {
              "version_major": 2,
              "version_minor": 0,
              "model_id": "7bd9e078fe824979b0ac9b930ec77ddd"
            }
          },
          "metadata": {}
        },
        {
          "output_type": "display_data",
          "data": {
            "text/plain": [],
            "text/html": [
              "<pre style=\"white-space:pre;overflow-x:auto;line-height:normal;font-family:Menlo,'DejaVu Sans Mono',consolas,'Courier New',monospace\"></pre>\n"
            ]
          },
          "metadata": {}
        },
        {
          "output_type": "display_data",
          "data": {
            "text/plain": [
              "\u001b[2;36m[10:00:28]\u001b[0m\u001b[2;36m \u001b[0m\u001b[1;35mCost\u001b[0m\u001b[1m(\u001b[0m                                                                 \u001b[2m<ipython-input-69-fb37c035d7d1>:36\u001b[0m\n",
              "\u001b[2;36m           \u001b[0m    \u001b[33mrequest_tokens\u001b[0m=\u001b[1;36m46\u001b[0m,                                                \u001b[2m                                  \u001b[0m\n",
              "\u001b[2;36m           \u001b[0m    \u001b[33mresponse_tokens\u001b[0m=\u001b[1;36m465\u001b[0m,                                              \u001b[2m                                  \u001b[0m\n",
              "\u001b[2;36m           \u001b[0m    \u001b[33mtotal_tokens\u001b[0m=\u001b[1;36m511\u001b[0m,                                                 \u001b[2m                                  \u001b[0m\n",
              "\u001b[2;36m           \u001b[0m    \u001b[33mdetails\u001b[0m=\u001b[3;35mNone\u001b[0m                                                      \u001b[2m                                  \u001b[0m\n",
              "\u001b[2;36m           \u001b[0m\u001b[1m)\u001b[0m                                                                     \u001b[2m                                  \u001b[0m\n"
            ],
            "text/html": [
              "<pre style=\"white-space:pre;overflow-x:auto;line-height:normal;font-family:Menlo,'DejaVu Sans Mono',consolas,'Courier New',monospace\"><span style=\"color: #7fbfbf; text-decoration-color: #7fbfbf\">[10:00:28] </span><span style=\"color: #800080; text-decoration-color: #800080; font-weight: bold\">Cost</span><span style=\"font-weight: bold\">(</span>                                                                 <span style=\"color: #7f7f7f; text-decoration-color: #7f7f7f\">&lt;ipython-input-69-fb37c035d7d1&gt;:36</span>\n",
              "<span style=\"color: #7fbfbf; text-decoration-color: #7fbfbf\">           </span>    <span style=\"color: #808000; text-decoration-color: #808000\">request_tokens</span>=<span style=\"color: #008080; text-decoration-color: #008080; font-weight: bold\">46</span>,                                                <span style=\"color: #7f7f7f; text-decoration-color: #7f7f7f\">                                  </span>\n",
              "<span style=\"color: #7fbfbf; text-decoration-color: #7fbfbf\">           </span>    <span style=\"color: #808000; text-decoration-color: #808000\">response_tokens</span>=<span style=\"color: #008080; text-decoration-color: #008080; font-weight: bold\">465</span>,                                              <span style=\"color: #7f7f7f; text-decoration-color: #7f7f7f\">                                  </span>\n",
              "<span style=\"color: #7fbfbf; text-decoration-color: #7fbfbf\">           </span>    <span style=\"color: #808000; text-decoration-color: #808000\">total_tokens</span>=<span style=\"color: #008080; text-decoration-color: #008080; font-weight: bold\">511</span>,                                                 <span style=\"color: #7f7f7f; text-decoration-color: #7f7f7f\">                                  </span>\n",
              "<span style=\"color: #7fbfbf; text-decoration-color: #7fbfbf\">           </span>    <span style=\"color: #808000; text-decoration-color: #808000\">details</span>=<span style=\"color: #800080; text-decoration-color: #800080; font-style: italic\">None</span>                                                      <span style=\"color: #7f7f7f; text-decoration-color: #7f7f7f\">                                  </span>\n",
              "<span style=\"color: #7fbfbf; text-decoration-color: #7fbfbf\">           </span><span style=\"font-weight: bold\">)</span>                                                                     <span style=\"color: #7f7f7f; text-decoration-color: #7f7f7f\">                                  </span>\n",
              "</pre>\n"
            ]
          },
          "metadata": {}
        }
      ]
    },
    {
      "cell_type": "code",
      "source": [],
      "metadata": {
        "id": "de448kXnPJwB"
      },
      "execution_count": null,
      "outputs": []
    }
  ]
}