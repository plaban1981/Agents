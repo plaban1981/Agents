{
  "cells": [
    {
      "cell_type": "markdown",
      "metadata": {
        "id": "view-in-github",
        "colab_type": "text"
      },
      "source": [
        "<a href=\"https://colab.research.google.com/github/plaban1981/Agents/blob/main/ReAG.ipynb\" target=\"_parent\"><img src=\"https://colab.research.google.com/assets/colab-badge.svg\" alt=\"Open In Colab\"/></a>"
      ]
    },
    {
      "cell_type": "markdown",
      "id": "a828107b-7734-4ef7-acdb-4da61c0bcb07",
      "metadata": {
        "id": "a828107b-7734-4ef7-acdb-4da61c0bcb07"
      },
      "source": [
        "## Install required Dependencies"
      ]
    },
    {
      "cell_type": "code",
      "execution_count": null,
      "id": "2821c82b-1a96-4b50-a705-6c26fe7d137e",
      "metadata": {
        "id": "2821c82b-1a96-4b50-a705-6c26fe7d137e",
        "outputId": "c4f7db84-bb68-46ad-e735-12207f358f95"
      },
      "outputs": [
        {
          "name": "stdout",
          "output_type": "stream",
          "text": [
            "Collecting langchain\n",
            "  Downloading langchain-0.3.18-py3-none-any.whl.metadata (7.8 kB)\n",
            "Collecting langchain_groq\n",
            "  Downloading langchain_groq-0.2.4-py3-none-any.whl.metadata (3.0 kB)\n",
            "Collecting langchain_ollama\n",
            "  Downloading langchain_ollama-0.2.3-py3-none-any.whl.metadata (1.9 kB)\n",
            "Collecting langchain_community\n",
            "  Downloading langchain_community-0.3.17-py3-none-any.whl.metadata (2.4 kB)\n",
            "Collecting pymupdf\n",
            "  Downloading pymupdf-1.25.3-cp39-abi3-manylinux2014_x86_64.manylinux_2_17_x86_64.whl.metadata (3.4 kB)\n",
            "Collecting pypdf\n",
            "  Downloading pypdf-5.3.0-py3-none-any.whl.metadata (7.2 kB)\n",
            "Collecting langchain-core<1.0.0,>=0.3.34 (from langchain)\n",
            "  Downloading langchain_core-0.3.35-py3-none-any.whl.metadata (5.9 kB)\n",
            "Collecting langchain-text-splitters<1.0.0,>=0.3.6 (from langchain)\n",
            "  Downloading langchain_text_splitters-0.3.6-py3-none-any.whl.metadata (1.9 kB)\n",
            "Collecting langsmith<0.4,>=0.1.17 (from langchain)\n",
            "  Downloading langsmith-0.3.8-py3-none-any.whl.metadata (14 kB)\n",
            "Collecting pydantic<3.0.0,>=2.7.4 (from langchain)\n",
            "  Downloading pydantic-2.10.6-py3-none-any.whl.metadata (30 kB)\n",
            "Collecting SQLAlchemy<3,>=1.4 (from langchain)\n",
            "  Downloading SQLAlchemy-2.0.38-cp310-cp310-manylinux_2_17_x86_64.manylinux2014_x86_64.whl.metadata (9.6 kB)\n",
            "Requirement already satisfied: requests<3,>=2 in /usr/local/lib/python3.10/dist-packages (from langchain) (2.31.0)\n",
            "Requirement already satisfied: PyYAML>=5.3 in /usr/local/lib/python3.10/dist-packages (from langchain) (6.0.1)\n",
            "Collecting aiohttp<4.0.0,>=3.8.3 (from langchain)\n",
            "  Downloading aiohttp-3.11.12-cp310-cp310-manylinux_2_17_x86_64.manylinux2014_x86_64.whl.metadata (7.7 kB)\n",
            "Collecting tenacity!=8.4.0,<10,>=8.1.0 (from langchain)\n",
            "  Downloading tenacity-9.0.0-py3-none-any.whl.metadata (1.2 kB)\n",
            "Collecting numpy<2,>=1.26.4 (from langchain)\n",
            "  Downloading numpy-1.26.4-cp310-cp310-manylinux_2_17_x86_64.manylinux2014_x86_64.whl.metadata (61 kB)\n",
            "\u001b[2K     \u001b[90m━━━━━━━━━━━━━━━━━━━━━━━━━━━━━━━━━━━━━━━━\u001b[0m \u001b[32m61.0/61.0 kB\u001b[0m \u001b[31m20.3 MB/s\u001b[0m eta \u001b[36m0:00:00\u001b[0m\n",
            "\u001b[?25hCollecting async-timeout<5.0.0,>=4.0.0 (from langchain)\n",
            "  Downloading async_timeout-4.0.3-py3-none-any.whl.metadata (4.2 kB)\n",
            "Collecting groq<1,>=0.4.1 (from langchain_groq)\n",
            "  Downloading groq-0.18.0-py3-none-any.whl.metadata (14 kB)\n",
            "Collecting ollama<1,>=0.4.4 (from langchain_ollama)\n",
            "  Downloading ollama-0.4.7-py3-none-any.whl.metadata (4.7 kB)\n",
            "Collecting dataclasses-json<0.7,>=0.5.7 (from langchain_community)\n",
            "  Downloading dataclasses_json-0.6.7-py3-none-any.whl.metadata (25 kB)\n",
            "Collecting pydantic-settings<3.0.0,>=2.4.0 (from langchain_community)\n",
            "  Downloading pydantic_settings-2.7.1-py3-none-any.whl.metadata (3.5 kB)\n",
            "Collecting httpx-sse<1.0.0,>=0.4.0 (from langchain_community)\n",
            "  Downloading httpx_sse-0.4.0-py3-none-any.whl.metadata (9.0 kB)\n",
            "Requirement already satisfied: typing_extensions>=4.0 in /usr/local/lib/python3.10/dist-packages (from pypdf) (4.8.0)\n",
            "Collecting aiohappyeyeballs>=2.3.0 (from aiohttp<4.0.0,>=3.8.3->langchain)\n",
            "  Downloading aiohappyeyeballs-2.4.6-py3-none-any.whl.metadata (5.9 kB)\n",
            "Collecting aiosignal>=1.1.2 (from aiohttp<4.0.0,>=3.8.3->langchain)\n",
            "  Downloading aiosignal-1.3.2-py2.py3-none-any.whl.metadata (3.8 kB)\n",
            "Requirement already satisfied: attrs>=17.3.0 in /usr/local/lib/python3.10/dist-packages (from aiohttp<4.0.0,>=3.8.3->langchain) (23.1.0)\n",
            "Collecting frozenlist>=1.1.1 (from aiohttp<4.0.0,>=3.8.3->langchain)\n",
            "  Downloading frozenlist-1.5.0-cp310-cp310-manylinux_2_5_x86_64.manylinux1_x86_64.manylinux_2_17_x86_64.manylinux2014_x86_64.whl.metadata (13 kB)\n",
            "Collecting multidict<7.0,>=4.5 (from aiohttp<4.0.0,>=3.8.3->langchain)\n",
            "  Downloading multidict-6.1.0-cp310-cp310-manylinux_2_17_x86_64.manylinux2014_x86_64.whl.metadata (5.0 kB)\n",
            "Collecting propcache>=0.2.0 (from aiohttp<4.0.0,>=3.8.3->langchain)\n",
            "  Downloading propcache-0.2.1-cp310-cp310-manylinux_2_17_x86_64.manylinux2014_x86_64.whl.metadata (9.2 kB)\n",
            "Collecting yarl<2.0,>=1.17.0 (from aiohttp<4.0.0,>=3.8.3->langchain)\n",
            "  Downloading yarl-1.18.3-cp310-cp310-manylinux_2_17_x86_64.manylinux2014_x86_64.whl.metadata (69 kB)\n",
            "\u001b[2K     \u001b[90m━━━━━━━━━━━━━━━━━━━━━━━━━━━━━━━━━━━━━━━━\u001b[0m \u001b[32m69.2/69.2 kB\u001b[0m \u001b[31m43.1 MB/s\u001b[0m eta \u001b[36m0:00:00\u001b[0m\n",
            "\u001b[?25hCollecting marshmallow<4.0.0,>=3.18.0 (from dataclasses-json<0.7,>=0.5.7->langchain_community)\n",
            "  Downloading marshmallow-3.26.1-py3-none-any.whl.metadata (7.3 kB)\n",
            "Collecting typing-inspect<1,>=0.4.0 (from dataclasses-json<0.7,>=0.5.7->langchain_community)\n",
            "  Downloading typing_inspect-0.9.0-py3-none-any.whl.metadata (1.5 kB)\n",
            "Requirement already satisfied: anyio<5,>=3.5.0 in /usr/local/lib/python3.10/dist-packages (from groq<1,>=0.4.1->langchain_groq) (4.1.0)\n",
            "Requirement already satisfied: distro<2,>=1.7.0 in /usr/lib/python3/dist-packages (from groq<1,>=0.4.1->langchain_groq) (1.7.0)\n",
            "Collecting httpx<1,>=0.23.0 (from groq<1,>=0.4.1->langchain_groq)\n",
            "  Downloading httpx-0.28.1-py3-none-any.whl.metadata (7.1 kB)\n",
            "Requirement already satisfied: sniffio in /usr/local/lib/python3.10/dist-packages (from groq<1,>=0.4.1->langchain_groq) (1.3.0)\n",
            "Collecting typing_extensions>=4.0 (from pypdf)\n",
            "  Downloading typing_extensions-4.12.2-py3-none-any.whl.metadata (3.0 kB)\n",
            "Collecting jsonpatch<2.0,>=1.33 (from langchain-core<1.0.0,>=0.3.34->langchain)\n",
            "  Downloading jsonpatch-1.33-py2.py3-none-any.whl.metadata (3.0 kB)\n",
            "Requirement already satisfied: packaging<25,>=23.2 in /usr/local/lib/python3.10/dist-packages (from langchain-core<1.0.0,>=0.3.34->langchain) (23.2)\n",
            "Collecting orjson<4.0.0,>=3.9.14 (from langsmith<0.4,>=0.1.17->langchain)\n",
            "  Downloading orjson-3.10.15-cp310-cp310-manylinux_2_17_x86_64.manylinux2014_x86_64.whl.metadata (41 kB)\n",
            "\u001b[2K     \u001b[90m━━━━━━━━━━━━━━━━━━━━━━━━━━━━━━━━━━━━━━━━\u001b[0m \u001b[32m41.8/41.8 kB\u001b[0m \u001b[31m15.3 MB/s\u001b[0m eta \u001b[36m0:00:00\u001b[0m\n",
            "\u001b[?25hCollecting requests-toolbelt<2.0.0,>=1.0.0 (from langsmith<0.4,>=0.1.17->langchain)\n",
            "  Downloading requests_toolbelt-1.0.0-py2.py3-none-any.whl.metadata (14 kB)\n",
            "Collecting zstandard<0.24.0,>=0.23.0 (from langsmith<0.4,>=0.1.17->langchain)\n",
            "  Downloading zstandard-0.23.0-cp310-cp310-manylinux_2_17_x86_64.manylinux2014_x86_64.whl.metadata (3.0 kB)\n",
            "Collecting annotated-types>=0.6.0 (from pydantic<3.0.0,>=2.7.4->langchain)\n",
            "  Downloading annotated_types-0.7.0-py3-none-any.whl.metadata (15 kB)\n",
            "Collecting pydantic-core==2.27.2 (from pydantic<3.0.0,>=2.7.4->langchain)\n",
            "  Downloading pydantic_core-2.27.2-cp310-cp310-manylinux_2_17_x86_64.manylinux2014_x86_64.whl.metadata (6.6 kB)\n",
            "Collecting python-dotenv>=0.21.0 (from pydantic-settings<3.0.0,>=2.4.0->langchain_community)\n",
            "  Downloading python_dotenv-1.0.1-py3-none-any.whl.metadata (23 kB)\n",
            "Requirement already satisfied: charset-normalizer<4,>=2 in /usr/local/lib/python3.10/dist-packages (from requests<3,>=2->langchain) (3.3.2)\n",
            "Requirement already satisfied: idna<4,>=2.5 in /usr/local/lib/python3.10/dist-packages (from requests<3,>=2->langchain) (3.6)\n",
            "Requirement already satisfied: urllib3<3,>=1.21.1 in /usr/local/lib/python3.10/dist-packages (from requests<3,>=2->langchain) (2.1.0)\n",
            "Requirement already satisfied: certifi>=2017.4.17 in /usr/local/lib/python3.10/dist-packages (from requests<3,>=2->langchain) (2023.11.17)\n",
            "Collecting greenlet!=0.4.17 (from SQLAlchemy<3,>=1.4->langchain)\n",
            "  Downloading greenlet-3.1.1-cp310-cp310-manylinux_2_24_x86_64.manylinux_2_28_x86_64.whl.metadata (3.8 kB)\n",
            "Requirement already satisfied: exceptiongroup>=1.0.2 in /usr/local/lib/python3.10/dist-packages (from anyio<5,>=3.5.0->groq<1,>=0.4.1->langchain_groq) (1.2.0)\n",
            "Collecting httpcore==1.* (from httpx<1,>=0.23.0->groq<1,>=0.4.1->langchain_groq)\n",
            "  Downloading httpcore-1.0.7-py3-none-any.whl.metadata (21 kB)\n",
            "Collecting h11<0.15,>=0.13 (from httpcore==1.*->httpx<1,>=0.23.0->groq<1,>=0.4.1->langchain_groq)\n",
            "  Downloading h11-0.14.0-py3-none-any.whl.metadata (8.2 kB)\n",
            "Requirement already satisfied: jsonpointer>=1.9 in /usr/local/lib/python3.10/dist-packages (from jsonpatch<2.0,>=1.33->langchain-core<1.0.0,>=0.3.34->langchain) (2.4)\n",
            "Collecting mypy-extensions>=0.3.0 (from typing-inspect<1,>=0.4.0->dataclasses-json<0.7,>=0.5.7->langchain_community)\n",
            "  Downloading mypy_extensions-1.0.0-py3-none-any.whl.metadata (1.1 kB)\n",
            "Downloading langchain-0.3.18-py3-none-any.whl (1.0 MB)\n",
            "\u001b[2K   \u001b[90m━━━━━━━━━━━━━━━━━━━━━━━━━━━━━━━━━━━━━━━━\u001b[0m \u001b[32m1.0/1.0 MB\u001b[0m \u001b[31m193.4 MB/s\u001b[0m eta \u001b[36m0:00:00\u001b[0m\n",
            "\u001b[?25hDownloading langchain_groq-0.2.4-py3-none-any.whl (14 kB)\n",
            "Downloading langchain_ollama-0.2.3-py3-none-any.whl (19 kB)\n",
            "Downloading langchain_community-0.3.17-py3-none-any.whl (2.5 MB)\n",
            "\u001b[2K   \u001b[90m━━━━━━━━━━━━━━━━━━━━━━━━━━━━━━━━━━━━━━━━\u001b[0m \u001b[32m2.5/2.5 MB\u001b[0m \u001b[31m156.2 MB/s\u001b[0m eta \u001b[36m0:00:00\u001b[0m\n",
            "\u001b[?25hDownloading pymupdf-1.25.3-cp39-abi3-manylinux2014_x86_64.manylinux_2_17_x86_64.whl (20.0 MB)\n",
            "\u001b[2K   \u001b[90m━━━━━━━━━━━━━━━━━━━━━━━━━━━━━━━━━━━━━━━━\u001b[0m \u001b[32m20.0/20.0 MB\u001b[0m \u001b[31m142.6 MB/s\u001b[0m eta \u001b[36m0:00:00\u001b[0ma \u001b[36m0:00:01\u001b[0m\n",
            "\u001b[?25hDownloading pypdf-5.3.0-py3-none-any.whl (300 kB)\n",
            "\u001b[2K   \u001b[90m━━━━━━━━━━━━━━━━━━━━━━━━━━━━━━━━━━━━━━━\u001b[0m \u001b[32m300.7/300.7 kB\u001b[0m \u001b[31m105.8 MB/s\u001b[0m eta \u001b[36m0:00:00\u001b[0m\n",
            "\u001b[?25hDownloading aiohttp-3.11.12-cp310-cp310-manylinux_2_17_x86_64.manylinux2014_x86_64.whl (1.6 MB)\n",
            "\u001b[2K   \u001b[90m━━━━━━━━━━━━━━━━━━━━━━━━━━━━━━━━━━━━━━━━\u001b[0m \u001b[32m1.6/1.6 MB\u001b[0m \u001b[31m198.6 MB/s\u001b[0m eta \u001b[36m0:00:00\u001b[0m\n",
            "\u001b[?25hDownloading async_timeout-4.0.3-py3-none-any.whl (5.7 kB)\n",
            "Downloading dataclasses_json-0.6.7-py3-none-any.whl (28 kB)\n",
            "Downloading groq-0.18.0-py3-none-any.whl (121 kB)\n",
            "\u001b[2K   \u001b[90m━━━━━━━━━━━━━━━━━━━━━━━━━━━━━━━━━━━━━━━━\u001b[0m \u001b[32m121.9/121.9 kB\u001b[0m \u001b[31m60.5 MB/s\u001b[0m eta \u001b[36m0:00:00\u001b[0m\n",
            "\u001b[?25hDownloading httpx_sse-0.4.0-py3-none-any.whl (7.8 kB)\n",
            "Downloading langchain_core-0.3.35-py3-none-any.whl (413 kB)\n",
            "\u001b[2K   \u001b[90m━━━━━━━━━━━━━━━━━━━━━━━━━━━━━━━━━━━━━━━\u001b[0m \u001b[32m413.2/413.2 kB\u001b[0m \u001b[31m130.5 MB/s\u001b[0m eta \u001b[36m0:00:00\u001b[0m\n",
            "\u001b[?25hDownloading langchain_text_splitters-0.3.6-py3-none-any.whl (31 kB)\n",
            "Downloading langsmith-0.3.8-py3-none-any.whl (332 kB)\n",
            "\u001b[2K   \u001b[90m━━━━━━━━━━━━━━━━━━━━━━━━━━━━━━━━━━━━━━━\u001b[0m \u001b[32m332.8/332.8 kB\u001b[0m \u001b[31m117.3 MB/s\u001b[0m eta \u001b[36m0:00:00\u001b[0m\n",
            "\u001b[?25hDownloading numpy-1.26.4-cp310-cp310-manylinux_2_17_x86_64.manylinux2014_x86_64.whl (18.2 MB)\n",
            "\u001b[2K   \u001b[90m━━━━━━━━━━━━━━━━━━━━━━━━━━━━━━━━━━━━━━━━\u001b[0m \u001b[32m18.2/18.2 MB\u001b[0m \u001b[31m227.8 MB/s\u001b[0m eta \u001b[36m0:00:00\u001b[0m00:01\u001b[0m00:01\u001b[0m\n",
            "\u001b[?25hDownloading ollama-0.4.7-py3-none-any.whl (13 kB)\n",
            "Downloading pydantic-2.10.6-py3-none-any.whl (431 kB)\n",
            "\u001b[2K   \u001b[90m━━━━━━━━━━━━━━━━━━━━━━━━━━━━━━━━━━━━━━━\u001b[0m \u001b[32m431.7/431.7 kB\u001b[0m \u001b[31m173.3 MB/s\u001b[0m eta \u001b[36m0:00:00\u001b[0m\n",
            "\u001b[?25hDownloading pydantic_core-2.27.2-cp310-cp310-manylinux_2_17_x86_64.manylinux2014_x86_64.whl (2.0 MB)\n",
            "\u001b[2K   \u001b[90m━━━━━━━━━━━━━━━━━━━━━━━━━━━━━━━━━━━━━━━━\u001b[0m \u001b[32m2.0/2.0 MB\u001b[0m \u001b[31m282.9 MB/s\u001b[0m eta \u001b[36m0:00:00\u001b[0m\n",
            "\u001b[?25hDownloading pydantic_settings-2.7.1-py3-none-any.whl (29 kB)\n",
            "Downloading SQLAlchemy-2.0.38-cp310-cp310-manylinux_2_17_x86_64.manylinux2014_x86_64.whl (3.1 MB)\n",
            "\u001b[2K   \u001b[90m━━━━━━━━━━━━━━━━━━━━━━━━━━━━━━━━━━━━━━━━\u001b[0m \u001b[32m3.1/3.1 MB\u001b[0m \u001b[31m281.6 MB/s\u001b[0m eta \u001b[36m0:00:00\u001b[0m\n",
            "\u001b[?25hDownloading tenacity-9.0.0-py3-none-any.whl (28 kB)\n",
            "Downloading typing_extensions-4.12.2-py3-none-any.whl (37 kB)\n",
            "Downloading aiohappyeyeballs-2.4.6-py3-none-any.whl (14 kB)\n",
            "Downloading aiosignal-1.3.2-py2.py3-none-any.whl (7.6 kB)\n",
            "Downloading annotated_types-0.7.0-py3-none-any.whl (13 kB)\n",
            "Downloading frozenlist-1.5.0-cp310-cp310-manylinux_2_5_x86_64.manylinux1_x86_64.manylinux_2_17_x86_64.manylinux2014_x86_64.whl (241 kB)\n",
            "\u001b[2K   \u001b[90m━━━━━━━━━━━━━━━━━━━━━━━━━━━━━━━━━━━━━━━\u001b[0m \u001b[32m241.9/241.9 kB\u001b[0m \u001b[31m130.3 MB/s\u001b[0m eta \u001b[36m0:00:00\u001b[0m\n",
            "\u001b[?25hDownloading greenlet-3.1.1-cp310-cp310-manylinux_2_24_x86_64.manylinux_2_28_x86_64.whl (599 kB)\n",
            "\u001b[2K   \u001b[90m━━━━━━━━━━━━━━━━━━━━━━━━━━━━━━━━━━━━━━━\u001b[0m \u001b[32m599.5/599.5 kB\u001b[0m \u001b[31m209.0 MB/s\u001b[0m eta \u001b[36m0:00:00\u001b[0m\n",
            "\u001b[?25hDownloading httpx-0.28.1-py3-none-any.whl (73 kB)\n",
            "\u001b[2K   \u001b[90m━━━━━━━━━━━━━━━━━━━━━━━━━━━━━━━━━━━━━━━━\u001b[0m \u001b[32m73.5/73.5 kB\u001b[0m \u001b[31m49.9 MB/s\u001b[0m eta \u001b[36m0:00:00\u001b[0m\n",
            "\u001b[?25hDownloading httpcore-1.0.7-py3-none-any.whl (78 kB)\n",
            "\u001b[2K   \u001b[90m━━━━━━━━━━━━━━━━━━━━━━━━━━━━━━━━━━━━━━━━\u001b[0m \u001b[32m78.6/78.6 kB\u001b[0m \u001b[31m53.1 MB/s\u001b[0m eta \u001b[36m0:00:00\u001b[0m\n",
            "\u001b[?25hDownloading jsonpatch-1.33-py2.py3-none-any.whl (12 kB)\n",
            "Downloading marshmallow-3.26.1-py3-none-any.whl (50 kB)\n",
            "\u001b[2K   \u001b[90m━━━━━━━━━━━━━━━━━━━━━━━━━━━━━━━━━━━━━━━━\u001b[0m \u001b[32m50.9/50.9 kB\u001b[0m \u001b[31m35.7 MB/s\u001b[0m eta \u001b[36m0:00:00\u001b[0m\n",
            "\u001b[?25hDownloading multidict-6.1.0-cp310-cp310-manylinux_2_17_x86_64.manylinux2014_x86_64.whl (124 kB)\n",
            "\u001b[2K   \u001b[90m━━━━━━━━━━━━━━━━━━━━━━━━━━━━━━━━━━━━━━━━\u001b[0m \u001b[32m124.6/124.6 kB\u001b[0m \u001b[31m80.2 MB/s\u001b[0m eta \u001b[36m0:00:00\u001b[0m\n",
            "\u001b[?25hDownloading orjson-3.10.15-cp310-cp310-manylinux_2_17_x86_64.manylinux2014_x86_64.whl (130 kB)\n",
            "\u001b[2K   \u001b[90m━━━━━━━━━━━━━━━━━━━━━━━━━━━━━━━━━━━━━━━━\u001b[0m \u001b[32m130.3/130.3 kB\u001b[0m \u001b[31m55.9 MB/s\u001b[0m eta \u001b[36m0:00:00\u001b[0m\n",
            "\u001b[?25hDownloading propcache-0.2.1-cp310-cp310-manylinux_2_17_x86_64.manylinux2014_x86_64.whl (205 kB)\n",
            "\u001b[2K   \u001b[90m━━━━━━━━━━━━━━━━━━━━━━━━━━━━━━━━━━━━━━━━\u001b[0m \u001b[32m205.1/205.1 kB\u001b[0m \u001b[31m93.3 MB/s\u001b[0m eta \u001b[36m0:00:00\u001b[0m\n",
            "\u001b[?25hDownloading python_dotenv-1.0.1-py3-none-any.whl (19 kB)\n",
            "Downloading requests_toolbelt-1.0.0-py2.py3-none-any.whl (54 kB)\n",
            "\u001b[2K   \u001b[90m━━━━━━━━━━━━━━━━━━━━━━━━━━━━━━━━━━━━━━━━\u001b[0m \u001b[32m54.5/54.5 kB\u001b[0m \u001b[31m29.3 MB/s\u001b[0m eta \u001b[36m0:00:00\u001b[0m\n",
            "\u001b[?25hDownloading typing_inspect-0.9.0-py3-none-any.whl (8.8 kB)\n",
            "Downloading yarl-1.18.3-cp310-cp310-manylinux_2_17_x86_64.manylinux2014_x86_64.whl (319 kB)\n",
            "\u001b[2K   \u001b[90m━━━━━━━━━━━━━━━━━━━━━━━━━━━━━━━━━━━━━━━\u001b[0m \u001b[32m319.7/319.7 kB\u001b[0m \u001b[31m122.4 MB/s\u001b[0m eta \u001b[36m0:00:00\u001b[0m\n",
            "\u001b[?25hDownloading zstandard-0.23.0-cp310-cp310-manylinux_2_17_x86_64.manylinux2014_x86_64.whl (5.4 MB)\n",
            "\u001b[2K   \u001b[90m━━━━━━━━━━━━━━━━━━━━━━━━━━━━━━━━━━━━━━━━\u001b[0m \u001b[32m5.4/5.4 MB\u001b[0m \u001b[31m163.7 MB/s\u001b[0m eta \u001b[36m0:00:00\u001b[0m\n",
            "\u001b[?25hDownloading mypy_extensions-1.0.0-py3-none-any.whl (4.7 kB)\n",
            "Downloading h11-0.14.0-py3-none-any.whl (58 kB)\n",
            "\u001b[2K   \u001b[90m━━━━━━━━━━━━━━━━━━━━━━━━━━━━━━━━━━━━━━━━\u001b[0m \u001b[32m58.3/58.3 kB\u001b[0m \u001b[31m32.4 MB/s\u001b[0m eta \u001b[36m0:00:00\u001b[0m\n",
            "\u001b[?25hInstalling collected packages: zstandard, typing_extensions, tenacity, python-dotenv, pymupdf, propcache, orjson, numpy, mypy-extensions, marshmallow, jsonpatch, httpx-sse, h11, greenlet, frozenlist, async-timeout, annotated-types, aiohappyeyeballs, typing-inspect, SQLAlchemy, requests-toolbelt, pypdf, pydantic-core, multidict, httpcore, aiosignal, yarl, pydantic, httpx, dataclasses-json, pydantic-settings, ollama, langsmith, groq, aiohttp, langchain-core, langchain-text-splitters, langchain_ollama, langchain_groq, langchain, langchain_community\n",
            "  Attempting uninstall: typing_extensions\n",
            "    Found existing installation: typing_extensions 4.8.0\n",
            "    Uninstalling typing_extensions-4.8.0:\n",
            "      Successfully uninstalled typing_extensions-4.8.0\n",
            "  Attempting uninstall: numpy\n",
            "    Found existing installation: numpy 1.26.2\n",
            "    Uninstalling numpy-1.26.2:\n",
            "      Successfully uninstalled numpy-1.26.2\n",
            "Successfully installed SQLAlchemy-2.0.38 aiohappyeyeballs-2.4.6 aiohttp-3.11.12 aiosignal-1.3.2 annotated-types-0.7.0 async-timeout-4.0.3 dataclasses-json-0.6.7 frozenlist-1.5.0 greenlet-3.1.1 groq-0.18.0 h11-0.14.0 httpcore-1.0.7 httpx-0.28.1 httpx-sse-0.4.0 jsonpatch-1.33 langchain-0.3.18 langchain-core-0.3.35 langchain-text-splitters-0.3.6 langchain_community-0.3.17 langchain_groq-0.2.4 langchain_ollama-0.2.3 langsmith-0.3.8 marshmallow-3.26.1 multidict-6.1.0 mypy-extensions-1.0.0 numpy-1.26.4 ollama-0.4.7 orjson-3.10.15 propcache-0.2.1 pydantic-2.10.6 pydantic-core-2.27.2 pydantic-settings-2.7.1 pymupdf-1.25.3 pypdf-5.3.0 python-dotenv-1.0.1 requests-toolbelt-1.0.0 tenacity-9.0.0 typing-inspect-0.9.0 typing_extensions-4.12.2 yarl-1.18.3 zstandard-0.23.0\n",
            "\u001b[33mWARNING: Running pip as the 'root' user can result in broken permissions and conflicting behaviour with the system package manager. It is recommended to use a virtual environment instead: https://pip.pypa.io/warnings/venv\u001b[0m\u001b[33m\n",
            "\u001b[0m\n",
            "\u001b[1m[\u001b[0m\u001b[34;49mnotice\u001b[0m\u001b[1;39;49m]\u001b[0m\u001b[39;49m A new release of pip is available: \u001b[0m\u001b[31;49m23.3.1\u001b[0m\u001b[39;49m -> \u001b[0m\u001b[32;49m25.0.1\u001b[0m\n",
            "\u001b[1m[\u001b[0m\u001b[34;49mnotice\u001b[0m\u001b[1;39;49m]\u001b[0m\u001b[39;49m To update, run: \u001b[0m\u001b[32;49mpython -m pip install --upgrade pip\u001b[0m\n"
          ]
        }
      ],
      "source": [
        "!pip install langchain langchain_groq langchain_ollama langchain_community pymupdf pypdf"
      ]
    },
    {
      "cell_type": "markdown",
      "id": "3a343ac0-b04e-4adf-b5d1-d045ed106e9f",
      "metadata": {
        "id": "3a343ac0-b04e-4adf-b5d1-d045ed106e9f"
      },
      "source": [
        "### Download Data"
      ]
    },
    {
      "cell_type": "code",
      "execution_count": null,
      "id": "d41e37dc-4d69-47df-a8f1-c5979c25088a",
      "metadata": {
        "id": "d41e37dc-4d69-47df-a8f1-c5979c25088a",
        "outputId": "ed09cc52-1bee-480f-a97f-f0b9d3a75e86"
      },
      "outputs": [
        {
          "name": "stdout",
          "output_type": "stream",
          "text": [
            "--2025-02-16 16:35:47--  https://www.binasss.sa.cr/int23/8.pdf\n",
            "Resolving www.binasss.sa.cr (www.binasss.sa.cr)... 196.40.24.242\n",
            "Connecting to www.binasss.sa.cr (www.binasss.sa.cr)|196.40.24.242|:443... connected.\n",
            "HTTP request sent, awaiting response... 200 OK\n",
            "Length: 632664 (618K) [application/pdf]\n",
            "Saving to: ‘./data/fibromyalgia.pdf’\n",
            "\n",
            "./data/fibromyalgia 100%[===================>] 617.84K  1.45MB/s    in 0.4s    \n",
            "\n",
            "2025-02-16 16:35:48 (1.45 MB/s) - ‘./data/fibromyalgia.pdf’ saved [632664/632664]\n",
            "\n"
          ]
        }
      ],
      "source": [
        "!mkdir ./data\n",
        "!mkdir ./chunk_caches\n",
        "!wget \"https://www.binasss.sa.cr/int23/8.pdf\" -O \"./data/fibromyalgia.pdf\""
      ]
    },
    {
      "cell_type": "markdown",
      "id": "48278b64-cbf6-4c61-8ed9-75c764a11d55",
      "metadata": {
        "id": "48278b64-cbf6-4c61-8ed9-75c764a11d55"
      },
      "source": [
        "#### Setup LLM"
      ]
    },
    {
      "cell_type": "code",
      "execution_count": null,
      "id": "7a2913b5-3d08-4431-ab06-e0a45cab2bc8",
      "metadata": {
        "id": "7a2913b5-3d08-4431-ab06-e0a45cab2bc8"
      },
      "outputs": [],
      "source": [
        "from langchain_groq import ChatGroq\n",
        "from langchain_ollama import ChatOllama\n",
        "import os\n",
        "os.environ[\"GROQ_API_KEY\"] = \"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\"\n",
        "#\n",
        "llm_relevancy = ChatGroq(\n",
        "    model=\"llama-3.3-70b-versatile\",\n",
        "    temperature=0,)\n",
        "#\n",
        "llm = ChatOllama(model=\"deepseek-r1:14b\",\n",
        "                 temperature=0.6,\n",
        "                 max_tokens=3000,\n",
        "                )\n",
        ""
      ]
    },
    {
      "cell_type": "markdown",
      "id": "fc832094-5877-4612-a098-af2efa5816f0",
      "metadata": {
        "id": "fc832094-5877-4612-a098-af2efa5816f0"
      },
      "source": [
        "### Define System Prompt"
      ]
    },
    {
      "cell_type": "code",
      "execution_count": null,
      "id": "5190a60e-7ee1-4d86-9de8-b9032cf9cafd",
      "metadata": {
        "id": "5190a60e-7ee1-4d86-9de8-b9032cf9cafd"
      },
      "outputs": [],
      "source": [
        "REAG_SYSTEM_PROMPT = \"\"\"\n",
        "# Role and Objective\n",
        "You are an intelligent knowledge retrieval assistant. Your task is to analyze provided documents or URLs to extract the most relevant information for user queries.\n",
        "\n",
        "# Instructions\n",
        "1. Analyze the user's query carefully to identify key concepts and requirements.\n",
        "2. Search through the provided sources for relevant information and output the relevant parts in the 'content' field.\n",
        "3. If you cannot find the necessary information in the documents, return 'isIrrelevant: true', otherwise return 'isIrrelevant: false'.\n",
        "\n",
        "# Constraints\n",
        "- Do not make assumptions beyond available data\n",
        "- Clearly indicate if relevant information is not found\n",
        "- Maintain objectivity in source selection\n",
        "\"\"\""
      ]
    },
    {
      "cell_type": "markdown",
      "id": "6b60fc3c-364c-4724-9350-d12160c459bd",
      "metadata": {
        "id": "6b60fc3c-364c-4724-9350-d12160c459bd"
      },
      "source": [
        "### Define RAG Prompt"
      ]
    },
    {
      "cell_type": "code",
      "execution_count": null,
      "id": "c6721e72-e78b-4c76-b1cb-4ff6be4067ba",
      "metadata": {
        "id": "c6721e72-e78b-4c76-b1cb-4ff6be4067ba"
      },
      "outputs": [],
      "source": [
        "rag_prompt = \"\"\"You are an assistant for question-answering tasks. Use the following pieces of retrieved context to answer the question. If you don't know the answer, just say that you don't know. Use three sentences maximum and keep the answer concise.\n",
        "Question: {question}\n",
        "Context: {context}\n",
        "Answer:\n",
        "\"\"\""
      ]
    },
    {
      "cell_type": "markdown",
      "id": "e64ed99e-ecda-44f7-9505-03626c4f743c",
      "metadata": {
        "id": "e64ed99e-ecda-44f7-9505-03626c4f743c"
      },
      "source": [
        "### Define Relevancy Schema"
      ]
    },
    {
      "cell_type": "code",
      "execution_count": null,
      "id": "915f894e-4f21-4047-aeab-4dfee5ac9e9f",
      "metadata": {
        "id": "915f894e-4f21-4047-aeab-4dfee5ac9e9f"
      },
      "outputs": [],
      "source": [
        "from pydantic import BaseModel,Field\n",
        "from typing import List\n",
        "from langchain_core.output_parsers import JsonOutputParser\n",
        "\n",
        "class ResponseSchema(BaseModel):\n",
        "    content: str = Field(...,description=\"The page content of the document that is relevant or sufficient to answer the question asked\")\n",
        "    reasoning: str = Field(...,description=\"The reasoning for selecting The page content with respect to the question asked\")\n",
        "    is_irrelevant: bool = Field(...,description=\"Specify 'True' if the content in the document is not sufficient or relevant to answer the question asked otherwise specify 'False' if the context or page content is relevant to answer the question asked\")\n",
        "\n",
        "\n",
        "class RelevancySchemaMessage(BaseModel):\n",
        "    source: ResponseSchema\n",
        "\n",
        "relevancy_parser = JsonOutputParser(pydantic_object=RelevancySchemaMessage)"
      ]
    },
    {
      "cell_type": "markdown",
      "id": "106a823c-55c3-4f24-ba84-2381fde1525c",
      "metadata": {
        "id": "106a823c-55c3-4f24-ba84-2381fde1525c"
      },
      "source": [
        "### Load and Process Dpocument"
      ]
    },
    {
      "cell_type": "code",
      "execution_count": null,
      "id": "ee2c8fc0-5093-4b8c-a8bb-aab6bb629b29",
      "metadata": {
        "id": "ee2c8fc0-5093-4b8c-a8bb-aab6bb629b29",
        "outputId": "577f8f96-8b52-466e-98dc-d18356d56356"
      },
      "outputs": [
        {
          "name": "stdout",
          "output_type": "stream",
          "text": [
            "8\n",
            "{'producer': 'Acrobat Distiller 6.0 for Windows', 'creator': 'Elsevier', 'creationdate': '2023-01-20T09:25:19-06:00', 'source': './data/fibromyalgia.pdf', 'file_path': './data/fibromyalgia.pdf', 'total_pages': 8, 'format': 'PDF 1.7', 'title': 'Fibromyalgia: Diagnosis and Management', 'author': 'Bradford T. Winslow MD', 'subject': 'American Family Physician, 107 (2023) 137-144', 'keywords': '', 'moddate': '2023-02-27T15:02:12+05:30', 'trapped': '', 'modDate': \"D:20230227150212+05'30'\", 'creationDate': \"D:20230120092519-06'00'\", 'page': 0}\n"
          ]
        }
      ],
      "source": [
        "from langchain_community.document_loaders import PyMuPDFLoader\n",
        "\n",
        "file_path = \"./data/fibromyalgia.pdf\"\n",
        "loader = PyMuPDFLoader(file_path)\n",
        "#\n",
        "docs = loader.load()\n",
        "print(len(docs))\n",
        "print(docs[0].metadata)"
      ]
    },
    {
      "cell_type": "code",
      "execution_count": null,
      "id": "89fb654f-ad07-4a04-a478-9f28dca03eb5",
      "metadata": {
        "id": "89fb654f-ad07-4a04-a478-9f28dca03eb5",
        "outputId": "57c84a6c-e08f-4a88-f287-1f7fd4b6eb88"
      },
      "outputs": [
        {
          "data": {
            "text/plain": [
              "{'producer': 'Acrobat Distiller 6.0 for Windows',\n",
              " 'creator': 'Elsevier',\n",
              " 'creationdate': '2023-01-20T09:25:19-06:00',\n",
              " 'source': './data/fibromyalgia.pdf',\n",
              " 'file_path': './data/fibromyalgia.pdf',\n",
              " 'total_pages': 8,\n",
              " 'format': 'PDF 1.7',\n",
              " 'title': 'Fibromyalgia: Diagnosis and Management',\n",
              " 'author': 'Bradford T. Winslow MD',\n",
              " 'subject': 'American Family Physician, 107 (2023) 137-144',\n",
              " 'keywords': '',\n",
              " 'moddate': '2023-02-27T15:02:12+05:30',\n",
              " 'trapped': '',\n",
              " 'modDate': \"D:20230227150212+05'30'\",\n",
              " 'creationDate': \"D:20230120092519-06'00'\",\n",
              " 'page': 0}"
            ]
          },
          "execution_count": 13,
          "metadata": {},
          "output_type": "execute_result"
        }
      ],
      "source": [
        "docs[0].metadata"
      ]
    },
    {
      "cell_type": "markdown",
      "id": "7e888149-8874-496e-a0ae-6e9cc2d48cb2",
      "metadata": {
        "id": "7e888149-8874-496e-a0ae-6e9cc2d48cb2"
      },
      "source": [
        "### Helper Function to format Documents"
      ]
    },
    {
      "cell_type": "code",
      "execution_count": null,
      "id": "ecc410be-ea81-4511-8f07-15ba548fb0bd",
      "metadata": {
        "id": "ecc410be-ea81-4511-8f07-15ba548fb0bd"
      },
      "outputs": [],
      "source": [
        "from langchain.schema import Document\n",
        "def format_doc(doc: Document) -> str:\n",
        "    return f\"Document_Title: {doc.metadata['title']}\\nPage: {doc.metadata['page']}\\nContent: {doc.page_content}\""
      ]
    },
    {
      "cell_type": "markdown",
      "id": "eea6985d-92d0-4a2d-9bc6-dfbd1ea4774e",
      "metadata": {
        "id": "eea6985d-92d0-4a2d-9bc6-dfbd1ea4774e"
      },
      "source": [
        "### Define Sytem Prompt"
      ]
    },
    {
      "cell_type": "code",
      "execution_count": null,
      "id": "c9281510-8019-4d21-8ae7-bd3edea34e96",
      "metadata": {
        "id": "c9281510-8019-4d21-8ae7-bd3edea34e96"
      },
      "outputs": [],
      "source": [
        "system = REAG_SYSTEM_PROMPT\n",
        "#system = f\"{self.system}\\n\\n# Available source\\n\\n{format_doc(document)}\""
      ]
    },
    {
      "cell_type": "code",
      "execution_count": null,
      "id": "94d9064b-c664-4c38-a2e2-1ab8465598a8",
      "metadata": {
        "id": "94d9064b-c664-4c38-a2e2-1ab8465598a8"
      },
      "outputs": [],
      "source": [
        "### Helper function to extract relevant context\n",
        "from langchain_core.prompts import PromptTemplate\n",
        "def extract_relevant_context(question,documents):\n",
        "    result = []\n",
        "    for doc in documents:\n",
        "        formatted_documents = format_doc(doc)\n",
        "        system = f\"{REAG_SYSTEM_PROMPT}\\n\\n# Available source\\n\\n{formatted_documents}\"\n",
        "        prompt = f\"\"\"Determine if the 'Avaiable source' content supplied is sufficient and relevant to ANSWER the QUESTION asked.\n",
        "        QUESTION: {question}\n",
        "        #INSTRUCTIONS TO FOLLOW\n",
        "        1. Analyze the context provided thoroughly to check its relevancy to help formulizing a response for the QUESTION asked.\n",
        "        2, STRICTLY PROVIDE THE RESPONSE IN A JSON STRUCTURE AS DESCRIBED BELOW:\n",
        "            ```json\n",
        "               {{\"content\":<<The page content of the document that is relevant or sufficient to answer the question asked>>,\n",
        "                 \"reasoning\":<<The reasoning for selecting The page content with respect to the question asked>>,\n",
        "                 \"is_irrelevant\":<<Specify 'True' if the content in the document is not sufficient or relevant.Specify 'False' if the page content is sufficient to answer the QUESTION>>\n",
        "                 }}\n",
        "            ```\n",
        "         \"\"\"\n",
        "        messages =[ {\"role\": \"system\", \"content\": system},\n",
        "                       {\"role\": \"user\", \"content\": prompt},\n",
        "                    ]\n",
        "        response = llm_relevancy.invoke(messages)\n",
        "        print(response.content)\n",
        "        formatted_response = relevancy_parser.parse(response.content)\n",
        "        result.append(formatted_response)\n",
        "    final_context = []\n",
        "    for items in result:\n",
        "        if (items['is_irrelevant'] == False) or ( items['is_irrelevant'] == 'false') or (items['is_irrelevant'] == 'False'):\n",
        "            final_context.append(items['content'])\n",
        "    return final_context\n",
        "\n",
        "\n",
        "\n",
        "\n",
        "\n",
        ""
      ]
    },
    {
      "cell_type": "code",
      "execution_count": null,
      "id": "fdf2461b-693b-472f-8ca8-fa77b7103620",
      "metadata": {
        "id": "fdf2461b-693b-472f-8ca8-fa77b7103620",
        "outputId": "be289f56-500e-43fd-b8f6-268e17ada3ad"
      },
      "outputs": [
        {
          "name": "stdout",
          "output_type": "stream",
          "text": [
            "```json\n",
            "{\n",
            "  \"content\": \"Fibromyalgia is characterized by diffuse musculoskeletal pain, fatigue, poor sleep, and other somatic symptoms. Fibromyalgia is a chronic, centralized pain syndrome characterized by disordered processing of painful stimuli.\",\n",
            "  \"reasoning\": \"The provided content defines fibromyalgia, its characteristics, and symptoms, making it directly relevant to answering the question 'What is Fibromyalgia?'. The content explicitly states that fibromyalgia is a condition involving diffuse musculoskeletal pain, fatigue, and other somatic symptoms, and further clarifies it as a chronic, centralized pain syndrome.\",\n",
            "  \"is_irrelevant\": \"False\"\n",
            "}\n",
            "```\n",
            "```json\n",
            "{\n",
            "  \"content\": \"FIBROMYALGIA Clinical Presentation Chronic diffuse pain is the predominant symptom in most patients with fibromyalgia. Patients may also experience muscle stiffness and tenderness. The physical examination in patients with fibromyalgia generally finds diffuse tenderness without other unusual findings. If joint swelling, inflammation, or deformities are present, an alternative or additional diagnosis should be investigated.5 Fatigue and sleep disturbances are also common.5,11 Sleep disturbances include difficulty falling and staying asleep, frequent awakenings, or feeling unrefreshed after sleeping. Comorbid mental health diagnoses are common, as are cognitive symptoms such as poor concentration, forgetfulness, or altered thinking.5,6,12 This cognitive dysfunction has been termed “fibrofog” and is described by patients as a mental slowing that adversely affects daily activities.\",\n",
            "  \"reasoning\": \"The provided content is relevant to the question 'What is Fibromyalgia?' because it describes the clinical presentation of fibromyalgia, including its predominant symptoms, such as chronic diffuse pain, muscle stiffness, fatigue, sleep disturbances, and cognitive dysfunction. This information helps to understand the nature of fibromyalgia and its effects on patients.\",\n",
            "  \"is_irrelevant\": \"False\"\n",
            "}\n",
            "```\n",
            "```json\n",
            "{\n",
            "  \"content\": \"FIBROMYALGIA Diagnosis FIBROMYALGIA should be considered in patients with chronic pain without a history of tissue injury or inflammation that has been present for more than three months and who also have fatigue, mood issues, and sleep disturbances.\",\n",
            "  \"reasoning\": \"The provided content is relevant to the question 'What is Fibromyalgia?' because it describes the condition, its diagnosis, and associated symptoms. The text explicitly mentions that fibromyalgia should be considered in patients with chronic pain, fatigue, mood issues, and sleep disturbances, which provides a clear understanding of the condition.\",\n",
            "  \"is_irrelevant\": \"False\"\n",
            "}\n",
            "```\n",
            "```json\n",
            "{\n",
            "  \"content\": \"FIBROMYALGIA findings, other diagnoses to con­ sider include Lyme disease, hepatitis, hyperthyroidism, hypothyroidism, hyperparathyroidism, and neurologic conditions such as multiple sclerosis and other disorders that cause neu­ ropathic pain.\",\n",
            "  \"reasoning\": \"The provided content does not give a direct definition of Fibromyalgia. However, it mentions 'FIBROMYALGIA' and discusses related diagnoses and conditions, implying that Fibromyalgia is a medical condition that can be confused with or related to other diseases. The content also provides some context about the potential causes and symptoms of Fibromyalgia, such as musculoskeletal symptoms, neuropathic pain, and fatigue.\",\n",
            "  \"is_irrelevant\": \"False\"\n",
            "}\n",
            "```\n",
            "```json\n",
            "{\n",
            "  \"content\": \"FIBROMYALGIA Management The initial benefit of establishing the diagnosis of fibromy­ algia is to reassure patients and prevent further unnecessary testing and anxiety. The goal of fibromyalgia treatment is to manage symptoms such as pain, fatigue, poor sleep, and cognitive issues.\",\n",
            "  \"reasoning\": \"The provided content does not directly define what fibromyalgia is, but it mentions the management and symptoms of the condition, which can be used to infer some information about it. However, a clear definition is not provided in the given text.\",\n",
            "  \"is_irrelevant\": \"True\"\n",
            "}\n",
            "```\n",
            "```json\n",
            "{\n",
            "  \"content\": \"FIBROMYALGIA\",\n",
            "  \"reasoning\": \"The provided document content does not explicitly define what Fibromyalgia is. However, it does mention 'FIBROMYALGIA' as a topic and discusses its pharmacologic treatment, which implies that the document assumes prior knowledge of the condition. The content provided is not sufficient to answer the question 'What is Fibromyalgia?' as it does not include a definition or explanation of the condition.\",\n",
            "  \"is_irrelevant\": \"True\"\n",
            "}\n",
            "```\n",
            "```json\n",
            "{\n",
            "  \"content\": \"FIBROMYALGIA\",\n",
            "  \"reasoning\": \"The provided content does not explicitly define what fibromyalgia is. However, it discusses various aspects of fibromyalgia, such as its diagnosis, management, and treatment, which implies that fibromyalgia is a medical condition. The content also mentions 'centralized sensitization' and 'chronic widespread pain' in the context of fibromyalgia, suggesting that it is a condition characterized by chronic pain. While the content does not provide a direct definition, it provides some context and information about the condition.\",\n",
            "  \"is_irrelevant\": \"True\"\n",
            "}\n",
            "```\n",
            "```json\n",
            "{\n",
            "  \"content\": \"FIBROMYALGIA\",\n",
            "  \"reasoning\": \"The provided content does not explicitly define what fibromyalgia is. However, it appears to be a medical article or chapter about fibromyalgia, including its diagnosis, management, and treatment. The title 'FIBROMYALGIA' is the most relevant part of the content to the question asked, but it does not provide a clear definition. The content seems to assume prior knowledge of the condition and focuses on its treatment and management rather than providing an introduction or definition.\",\n",
            "  \"is_irrelevant\": \"True\"\n",
            "}\n",
            "```\n"
          ]
        }
      ],
      "source": [
        "question = \"What is Fibromyalgia?\"\n",
        "final_context = extract_relevant_context(question,docs)"
      ]
    },
    {
      "cell_type": "code",
      "execution_count": null,
      "id": "80630fd2-131f-4d1a-a394-9f1ea418d37e",
      "metadata": {
        "id": "80630fd2-131f-4d1a-a394-9f1ea418d37e",
        "outputId": "9348c460-024b-4a07-9365-38322850e37f"
      },
      "outputs": [
        {
          "data": {
            "text/plain": [
              "4"
            ]
          },
          "execution_count": 43,
          "metadata": {},
          "output_type": "execute_result"
        }
      ],
      "source": [
        "len(final_context)"
      ]
    },
    {
      "cell_type": "code",
      "execution_count": null,
      "id": "7b8e28a9-26b1-4cb8-9692-ee8631ce811c",
      "metadata": {
        "id": "7b8e28a9-26b1-4cb8-9692-ee8631ce811c"
      },
      "outputs": [],
      "source": [
        "def generate_response(question,final_context):\n",
        "    prompt = PromptTemplate(template=rag_prompt,\n",
        "                                     input_variables=[\"question\",\"context\"],)\n",
        "    chain  = prompt | llm\n",
        "    response = chain.invoke({\"question\":question,\"context\":final_context})\n",
        "    print(response.content.split(\"\\n\\n\")[-1])\n",
        "    return response.content.split(\"\\n\\n\")[-1]"
      ]
    },
    {
      "cell_type": "code",
      "execution_count": null,
      "id": "d9125e8b-a21a-4ba7-b848-17ba0854646f",
      "metadata": {
        "id": "d9125e8b-a21a-4ba7-b848-17ba0854646f",
        "outputId": "049fc757-d518-45d6-d72a-29bdb1959ada"
      },
      "outputs": [
        {
          "name": "stdout",
          "output_type": "stream",
          "text": [
            "Fibromyalgia is a chronic condition characterized by widespread musculoskeletal pain, fatigue, disrupted sleep, and cognitive difficulties like \"fibrofog.\" It is often associated with heightened sensitivity to pain due to altered nervous system processing. Diagnosis considers symptoms such as long-term pain, fatigue, and sleep issues without underlying inflammation or injury.\n"
          ]
        },
        {
          "data": {
            "text/plain": [
              "'Fibromyalgia is a chronic condition characterized by widespread musculoskeletal pain, fatigue, disrupted sleep, and cognitive difficulties like \"fibrofog.\" It is often associated with heightened sensitivity to pain due to altered nervous system processing. Diagnosis considers symptoms such as long-term pain, fatigue, and sleep issues without underlying inflammation or injury.'"
            ]
          },
          "execution_count": 48,
          "metadata": {},
          "output_type": "execute_result"
        }
      ],
      "source": [
        "final_response = generate_response(question,final_context)\n",
        "final_response"
      ]
    },
    {
      "cell_type": "code",
      "execution_count": null,
      "id": "dd857fe1-9409-4565-8334-b2a9c5760f90",
      "metadata": {
        "id": "dd857fe1-9409-4565-8334-b2a9c5760f90",
        "outputId": "43a00299-a61a-4c42-b7ba-271a96111bb1"
      },
      "outputs": [
        {
          "name": "stdout",
          "output_type": "stream",
          "text": [
            "```json\n",
            "{\n",
            "  \"content\": \"Fibromyalgia is likely caused by disordered central nociceptive signal processing that leads to sensitization expressed as hyperalgesia and allodynia, which is similar to chronic pain conditions such as irritable bowel syndrome, interstitial cystitis, chronic pelvic pain, and chronic low back pain.6,7 Functional brain imaging suggests that this aberrant processing may be attributed to an imbalance between excitatory and inhibitory neurotransmitters, particularly within the insula.8 Suggested etiologies include dysfunction of the hypothalamic-pituitary-adrenal axis and the autonomic nervous system, diffuse inflammation, glial cell activation, small fiber neuropathy, and infections such as the Epstein-Barr virus, Lyme disease, and viral hepatitis.9 Twin studies suggest a genetic component may also be a factor.10\",\n",
            "  \"reasoning\": \"The provided content discusses the pathophysiology of fibromyalgia, including the potential causes and underlying mechanisms. The text mentions disordered central nociceptive signal processing, imbalance of neurotransmitters, and various suggested etiologies, making it relevant to the question about the causes of fibromyalgia.\",\n",
            "  \"is_irrelevant\": \"False\"\n",
            "}\n",
            "```\n",
            "```json\n",
            "{\n",
            "  \"content\": \"The provided document does not explicitly discuss the causes of Fibromyalgia. It focuses on the clinical presentation, diagnosis, and management of the condition.\",\n",
            "  \"reasoning\": \"The question asks for the causes of Fibromyalgia, but the provided document does not contain information on the etiology or causes of the condition. It primarily discusses the symptoms, diagnosis, and treatment options, without addressing the underlying causes.\",\n",
            "  \"is_irrelevant\": true\n",
            "}\n",
            "```\n",
            "```json\n",
            "{\n",
            "  \"content\": \"The available source does not explicitly mention the causes of Fibromyalgia. It discusses the diagnosis, diagnostic criteria, and comorbidities associated with Fibromyalgia, but does not provide information on the causes of the condition.\",\n",
            "  \"reasoning\": \"The question asks for the causes of Fibromyalgia, but the provided source primarily focuses on the diagnosis, symptoms, and related conditions. There is no direct mention of the causes or underlying factors that contribute to the development of Fibromyalgia.\",\n",
            "  \"is_irrelevant\": \"True\"\n",
            "}\n",
            "```\n",
            "```json\n",
            "{\n",
            "  \"content\": \"Fibromyalgia: Diagnosis and management findings, other diagnoses to consider include Lyme disease, hepatitis, hyperthyroidism, hypothyroidism, hyperparathyroidism, and neurologic conditions such as multiple sclerosis and other disorders that cause neuropathic pain. Medication adverse effects can rarely cause diffuse pain, including from statins, oils, bisphosphonates, and aromatase inhibitors.\",\n",
            "  \"reasoning\": \"The provided content is relevant to the question about the causes of Fibromyalgia as it mentions various conditions and factors that can contribute to or be considered in the diagnosis of Fibromyalgia, such as Lyme disease, hepatitis, and medication adverse effects. Although it does not provide an exhaustive list of causes, it gives some insight into potential factors to consider.\",\n",
            "  \"is_irrelevant\": \"false\"\n",
            "}\n",
            "```\n",
            "```json\n",
            "{\n",
            "  \"content\": \"\",\n",
            "  \"reasoning\": \"The provided document content does not mention the causes of Fibromyalgia. It primarily discusses the management and treatment of Fibromyalgia, including nonpharmacologic and pharmacologic approaches, but does not delve into the etiology or causes of the condition.\",\n",
            "  \"is_irrelevant\": \"True\"\n",
            "}\n",
            "```\n",
            "```json\n",
            "{\n",
            "  \"content\": \"\",\n",
            "  \"reasoning\": \"The provided document content discusses the diagnosis and management of Fibromyalgia, including pharmacologic treatment options. However, it does not mention the causes of Fibromyalgia. The content focuses on treatment methods, medication classes, and their potential benefits, but it does not provide information on the underlying causes of the condition.\",\n",
            "  \"is_irrelevant\": \"True\"\n",
            "}\n",
            "```\n",
            "```json\n",
            "{\n",
            "  \"content\": \"The available source does not explicitly state the causes of Fibromyalgia. However, it mentions that 'Fibromyalgia: genetics and epigenetics insights may provide the basis for the development of diagnostic biomarkers' (Reference 10) and 'Central sensitization in chronic pain conditions: latest discoveries and their potential for precision medicine' (Reference 7).\",\n",
            "  \"reasoning\": \"The provided content does not directly answer the question about the causes of Fibromyalgia. Although it touches on related topics such as genetics, epigenetics, and central sensitization, it does not provide a clear explanation of the causes of the condition. The content appears to focus more on diagnosis, treatment, and management of Fibromyalgia rather than its causes.\",\n",
            "  \"is_irrelevant\": \"True\"\n",
            "}\n",
            "```\n",
            "```json\n",
            "{\n",
            "  \"content\": \"The provided document does not explicitly discuss the causes of Fibromyalgia. It primarily focuses on diagnosis, management, treatment, and various studies related to Fibromyalgia.\",\n",
            "  \"reasoning\": \"The question asks for the causes of Fibromyalgia, but the document supplied does not contain information directly addressing this query. The content mainly covers aspects such as diagnosis, management strategies, treatment options, and research findings, without delving into the etiology or causes of the condition.\",\n",
            "  \"is_irrelevant\": true\n",
            "}\n",
            "```\n",
            "Fibromyalgia likely results from disordered central pain processing leading to heightened sensitivity (hyperalgesia and allodynia). Possible causes include dysfunction of the hypothalamic-pituitary-adrenal axis, inflammation, glial activation, small fiber neuropathy, infections like Epstein-Barr virus or Lyme disease, and a genetic component. Other conditions, such as infections or medication side effects, may also contribute to similar symptoms.\n"
          ]
        }
      ],
      "source": [
        "question =  \"What are the causes of Fibromyalgia?\"\n",
        "final_context = extract_relevant_context(question,docs)\n",
        "final_response = generate_response(question,final_context)\n"
      ]
    },
    {
      "cell_type": "code",
      "execution_count": null,
      "id": "782aa9f2-a916-40db-bb8d-79403221212f",
      "metadata": {
        "id": "782aa9f2-a916-40db-bb8d-79403221212f",
        "outputId": "3a165e8d-4a1c-4bb7-f250-e52286588862"
      },
      "outputs": [
        {
          "name": "stdout",
          "output_type": "stream",
          "text": [
            "```json\n",
            "{\n",
            "  \"content\": \"Comorbid conditions, such as functional somatic syndromes, psychiatric diagnoses, and rheumatologic conditions may be present. \",\n",
            "  \"reasoning\": \"The content is relevant to the question because it explicitly mentions that people suffering from rheumatologic conditions may have fibromyalgia, as it states that comorbid conditions including rheumatologic conditions may be present in patients with fibromyalgia.\",\n",
            "  \"is_irrelevant\": \"False\"\n",
            "}\n",
            "```\n",
            "```json\n",
            "{\n",
            "  \"content\": \"The presence of another painful disorder does not exclude the diagnosis of fibromyalgia.\",\n",
            "  \"reasoning\": \"The question asks if people suffering from rheumatologic conditions may have fibromyalgia. The provided content mentions that the presence of another painful disorder, which could include rheumatologic conditions, does not exclude the diagnosis of fibromyalgia. This suggests that individuals with rheumatologic conditions can also have fibromyalgia.\",\n",
            "  \"is_irrelevant\": \"False\"\n",
            "}\n",
            "```\n",
            "```json\n",
            "{\n",
            "  \"content\": \"Patients with rheumatologic conditions, including rheumatoid arthritis, ankylosing spondylitis, and psoriatic arthritis, may also have fibromyalgia, although the symptom overlap makes a diagnosis challenging.\",\n",
            "  \"reasoning\": \"The provided content is relevant to the question because it explicitly mentions that patients with rheumatologic conditions may also have fibromyalgia. This directly addresses the question of whether people suffering from rheumatologic conditions can have fibromyalgia.\",\n",
            "  \"is_irrelevant\": \"False\"\n",
            "}\n",
            "```\n",
            "```json\n",
            "{\n",
            "  \"content\": \"Compared to people who have rheumatoid arthritis or systemic lupus erythematosus without fibromyalgia, the specificity of the FM/a Test was 70%;​ however, the test had a positive likelihood ratio of 3.1 and a negative likelihood ratio of 0.1.26 This test is not commonly used and is expensive, but could be beneficial to help differentiate fibromyalgia from other conditions.\",\n",
            "  \"reasoning\": \"The question asks if people suffering from rheumatologic conditions may have fibromyalgia. The provided content mentions rheumatoid arthritis and systemic lupus erythematosus, which are rheumatologic conditions, and discusses the specificity of the FM/a Test in differentiating fibromyalgia from these conditions. This suggests that people with rheumatologic conditions may also have fibromyalgia, and the content provides relevant information to answer the question.\",\n",
            "  \"is_irrelevant\": \"false\"\n",
            "}\n",
            "```\n",
            "```json\n",
            "{\n",
            "  \"content\": \"The goal of fibromyalgia treatment is to manage symptoms such as pain, fatigue, poor sleep, and cognitive issues. A multidisciplinary individualized treatment regimen that includes pharmacologic and nonpharmacologic elements is recommended.\",\n",
            "  \"reasoning\": \"The provided content does not directly answer the question of whether people suffering from rheumatologic conditions may have fibromyalgia. However, it discusses the management and treatment of fibromyalgia, which can be related to rheumatologic conditions. The content does not explicitly mention the relationship between rheumatologic conditions and fibromyalgia, but it implies that fibromyalgia can be a condition that needs to be managed in conjunction with other health issues, potentially including rheumatologic conditions.\",\n",
            "  \"is_irrelevant\": \"True\"\n",
            "}\n",
            "```\n"
          ]
        }
      ],
      "source": [
        "question =  \"Do people suffering from rheumatologic conditions may have fibromyalgia?\"\n",
        "final_context = extract_relevant_context(question,docs)\n",
        "final_response = generate_response(question,final_context)"
      ]
    },
    {
      "cell_type": "code",
      "execution_count": null,
      "id": "2f024b62-1b00-45a6-a532-4b5d232edeae",
      "metadata": {
        "id": "2f024b62-1b00-45a6-a532-4b5d232edeae"
      },
      "outputs": [],
      "source": [
        "question =  \"Mention the nonpharmacologic treatment for fibromyalgia?\"\n",
        "final_context = extract_relevant_context(question,docs)\n",
        "final_response = generate_response(question,final_context)"
      ]
    },
    {
      "cell_type": "code",
      "execution_count": null,
      "id": "38e1c300-f24c-4c28-a88b-3bc8f933272d",
      "metadata": {
        "id": "38e1c300-f24c-4c28-a88b-3bc8f933272d"
      },
      "outputs": [],
      "source": [
        "question =  \"What are the medications and doses for Fibromyalgia?\"\n",
        "final_context = extract_relevant_context(question,docs)\n",
        "final_response = generate_response(question,final_context)"
      ]
    },
    {
      "cell_type": "code",
      "execution_count": null,
      "id": "6109fa0e-fe3c-48a0-9f9f-49d45dae7fc7",
      "metadata": {
        "id": "6109fa0e-fe3c-48a0-9f9f-49d45dae7fc7"
      },
      "outputs": [],
      "source": [
        "question =  \"What is the starting dosage of Amitriptyline?\"\n",
        "final_context = extract_relevant_context(question,docs)\n",
        "final_response = generate_response(question,final_context)"
      ]
    },
    {
      "cell_type": "code",
      "execution_count": null,
      "id": "13c75e4d-b9e5-4f22-9042-6d1e5da46f4c",
      "metadata": {
        "id": "13c75e4d-b9e5-4f22-9042-6d1e5da46f4c"
      },
      "outputs": [],
      "source": [
        "question =  \"What is the starting dosage of Amitriptyline?\"\n",
        "final_context = extract_relevant_context(question,docs)\n",
        "final_response = generate_response(question,final_context)"
      ]
    },
    {
      "cell_type": "code",
      "execution_count": null,
      "id": "1bf60699-645a-42f8-bb28-b28328d5a49e",
      "metadata": {
        "id": "1bf60699-645a-42f8-bb28-b28328d5a49e"
      },
      "outputs": [],
      "source": [
        "question = \"What has been mentioned about AAPT 2019 Diagnostic Criteria for Fibromyalgia\"\n",
        "final_context = extract_relevant_context(question,docs)\n",
        "final_response = generate_response(question,final_context)"
      ]
    }
  ],
  "metadata": {
    "kernelspec": {
      "display_name": "Python 3 (ipykernel)",
      "language": "python",
      "name": "python3"
    },
    "language_info": {
      "codemirror_mode": {
        "name": "ipython",
        "version": 3
      },
      "file_extension": ".py",
      "mimetype": "text/x-python",
      "name": "python",
      "nbconvert_exporter": "python",
      "pygments_lexer": "ipython3",
      "version": "3.10.12"
    },
    "colab": {
      "provenance": [],
      "include_colab_link": true
    }
  },
  "nbformat": 4,
  "nbformat_minor": 5
}