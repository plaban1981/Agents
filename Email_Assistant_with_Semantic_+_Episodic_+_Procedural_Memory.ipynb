{
  "nbformat": 4,
  "nbformat_minor": 0,
  "metadata": {
    "colab": {
      "provenance": [],
      "authorship_tag": "ABX9TyMaDHhiumXHfA4tzBDhyzB/",
      "include_colab_link": true
    },
    "kernelspec": {
      "name": "python3",
      "display_name": "Python 3"
    },
    "language_info": {
      "name": "python"
    }
  },
  "cells": [
    {
      "cell_type": "markdown",
      "metadata": {
        "id": "view-in-github",
        "colab_type": "text"
      },
      "source": [
        "<a href=\"https://colab.research.google.com/github/plaban1981/Agents/blob/main/Email_Assistant_with_Semantic_%2B_Episodic_%2B_Procedural_Memory.ipynb\" target=\"_parent\"><img src=\"https://colab.research.google.com/assets/colab-badge.svg\" alt=\"Open In Colab\"/></a>"
      ]
    },
    {
      "cell_type": "markdown",
      "source": [
        "## Email Assistant with Semantic + Episodic + Procedural Memory\n",
        "\n",
        "We previously built an email assistant that:\n",
        "- Classifies incoming messages (respond, ignore, notify)\n",
        "- Uses human-in-the-loop to refine the assistant's ability to classify emails\n",
        "- Drafts responses\n",
        "- Schedules meetings\n",
        "- Uses memory to remember details from previous emails\n",
        "\n",
        "Now, we'll add procedural memory that allows the user to update instructions for using the calendar and email writing tools."
      ],
      "metadata": {
        "id": "FdsFx9GSUt0H"
      }
    },
    {
      "cell_type": "markdown",
      "source": [
        "### Setup API Keys"
      ],
      "metadata": {
        "id": "nOPlbG97Uyw3"
      }
    },
    {
      "cell_type": "code",
      "source": [
        "import os\n",
        "from google.colab import userdata\n",
        "#\n",
        "os.environ['OPENAI_API_KEY'] = userdata.get('OPENAI_API_KEY')\n",
        "#\n",
        "os.environ[\"GROQ_API_KEY\"] = userdata.get('GROQ_API_KEY')"
      ],
      "metadata": {
        "id": "TWc_QuCgUppT"
      },
      "execution_count": 1,
      "outputs": []
    },
    {
      "cell_type": "markdown",
      "source": [
        "### Install required libraries"
      ],
      "metadata": {
        "id": "kTjxV-ZsVPif"
      }
    },
    {
      "cell_type": "code",
      "source": [
        "%pip install -qU langchain langchain-openai langchain-groq langchain_community langchain_core langmem langgraph langchain-huggingface"
      ],
      "metadata": {
        "id": "FNkKibl2VESZ"
      },
      "execution_count": 2,
      "outputs": []
    },
    {
      "cell_type": "markdown",
      "source": [
        "### Prompt Instructions"
      ],
      "metadata": {
        "id": "gHjsBdzG8ktD"
      }
    },
    {
      "cell_type": "code",
      "source": [
        "profile = {\n",
        "    \"name\": \"Plaban\",\n",
        "    \"full_name\": \"Plaban Nayak\",\n",
        "    \"user_profile_background\": \"Senior software engineer leading a team of 5 developers\",\n",
        "}"
      ],
      "metadata": {
        "id": "pIVcvn0xGvD8"
      },
      "execution_count": 82,
      "outputs": []
    },
    {
      "cell_type": "code",
      "source": [
        "prompt_instructions = {\n",
        "    \"triage_rules\": {\n",
        "        \"ignore\": \"Marketing newsletters, spam emails, mass company announcements\",\n",
        "        \"notify\": \"Team member out sick, build system notifications, project status updates\",\n",
        "        \"respond\": \"Direct questions from team members, meeting requests, critical bug reports\",\n",
        "    },\n",
        "    \"agent_instructions\": \"Use these tools when appropriate to help manage Plaban's tasks efficiently.\"\n",
        "}"
      ],
      "metadata": {
        "id": "gTi7o1O8VmBK"
      },
      "execution_count": 83,
      "outputs": []
    },
    {
      "cell_type": "markdown",
      "source": [
        "## Sample Email Input"
      ],
      "metadata": {
        "id": "IKHRLFH08npa"
      }
    },
    {
      "cell_type": "code",
      "source": [
        "email = {\n",
        "    \"from\": \"Alice Smith <alice.smith@company.com>\",\n",
        "    \"to\": \"John Doe <john.doe@company.com>\",\n",
        "    \"subject\": \"Quick question about API documentation\",\n",
        "    \"body\": \"\"\"\n",
        "Hi John,\n",
        "\n",
        "I was reviewing the API documentation for the new authentication service and noticed a few endpoints seem to be missing from the specs. Could you help clarify if this was intentional or if we should update the docs?\n",
        "\n",
        "Specifically, I'm looking at:\n",
        "- /auth/refresh\n",
        "- /auth/validate\n",
        "\n",
        "Thanks!\n",
        "Alice\"\"\",\n",
        "}"
      ],
      "metadata": {
        "id": "CpiTyfyKV2UY"
      },
      "execution_count": 84,
      "outputs": []
    },
    {
      "cell_type": "markdown",
      "source": [
        "### Instantiate the Memory Store"
      ],
      "metadata": {
        "id": "RwlGTjl_XrkJ"
      }
    },
    {
      "cell_type": "code",
      "source": [
        "from langgraph.store.memory import InMemoryStore\n",
        "from langchain_huggingface import HuggingFaceEmbeddings\n",
        "\n",
        "model_name = \"BAAI/bge-small-en\"\n",
        "model_kwargs = {\"device\": \"cpu\"}\n",
        "encode_kwargs = {\"normalize_embeddings\": True}\n",
        "embeddings = HuggingFaceEmbeddings(\n",
        "    model_name=model_name, model_kwargs=model_kwargs, encode_kwargs=encode_kwargs\n",
        ")"
      ],
      "metadata": {
        "id": "NdZM8PNVXy_I"
      },
      "execution_count": 85,
      "outputs": []
    },
    {
      "cell_type": "code",
      "source": [
        "store = InMemoryStore(index={\"embed\": embeddings})"
      ],
      "metadata": {
        "id": "V50L-9QvYlYX"
      },
      "execution_count": 86,
      "outputs": []
    },
    {
      "cell_type": "code",
      "source": [
        "store"
      ],
      "metadata": {
        "colab": {
          "base_uri": "https://localhost:8080/"
        },
        "id": "84Hhc3BlYmM3",
        "outputId": "e9685998-4acf-4be6-ce0b-d84f07e27f8e"
      },
      "execution_count": 87,
      "outputs": [
        {
          "output_type": "execute_result",
          "data": {
            "text/plain": [
              "<langgraph.store.memory.InMemoryStore at 0x7b129dfb1a30>"
            ]
          },
          "metadata": {},
          "execution_count": 87
        }
      ]
    },
    {
      "cell_type": "markdown",
      "source": [
        "### Instantiate LLM"
      ],
      "metadata": {
        "id": "JwvgmjTKZr-X"
      }
    },
    {
      "cell_type": "code",
      "source": [
        "from langchain_groq import ChatGroq\n",
        "llm = ChatGroq(model=\"llama-3.3-70b-versatile\", api_key=os.getenv(\"GROQ_API_KEY\"))"
      ],
      "metadata": {
        "id": "XALmrNtLZua4"
      },
      "execution_count": 9,
      "outputs": []
    },
    {
      "cell_type": "markdown",
      "source": [
        "### Prompts"
      ],
      "metadata": {
        "id": "r3R-9bSjB6XU"
      }
    },
    {
      "cell_type": "code",
      "source": [
        "# Agent prompt baseline\n",
        "agent_system_prompt = \"\"\"\n",
        "< Role >\n",
        "You are {full_name}'s executive assistant. You are a top-notch executive assistant who cares about {name} performing as well as possible.\n",
        "</ Role >\n",
        "\n",
        "< Tools >\n",
        "You have access to the following tools to help manage {name}'s communications and schedule:\n",
        "\n",
        "1. write_email(to, subject, content) - Send emails to specified recipients\n",
        "2. schedule_meeting(attendees, subject, duration_minutes, preferred_day) - Schedule calendar meetings\n",
        "3. check_calendar_availability(day) - Check available time slots for a given day\n",
        "</ Tools >\n",
        "\n",
        "< Instructions >\n",
        "{instructions}\n",
        "</ Instructions >\n",
        "\"\"\"\n",
        "\n",
        "# Agent prompt semantic memory\n",
        "agent_system_prompt_memory = \"\"\"\n",
        "< Role >\n",
        "You are {full_name}'s executive assistant. You are a top-notch executive assistant who cares about {name} performing as well as possible.\n",
        "</ Role >\n",
        "\n",
        "< Tools >\n",
        "You have access to the following tools to help manage {name}'s communications and schedule:\n",
        "\n",
        "1. write_email(to, subject, content) - Send emails to specified recipients\n",
        "2. schedule_meeting(attendees, subject, duration_minutes, preferred_day) - Schedule calendar meetings\n",
        "3. check_calendar_availability(day) - Check available time slots for a given day\n",
        "4. manage_memory(\"email_assistant\", user, \"collection\") - Store any relevant information about contacts, actions, discussion, etc. in memory for future reference\n",
        "5. manage_memory(\"email_assistant\", user, \"user_profile\") - Store any relevant information about the recipient, {name}, in the user profile for future reference the current user profile is shown below\n",
        "6. search_memory(\"email_assistant\", user, \"collection\") - Search memory for detail from previous emails\n",
        "7. manage_memory(\"email_assistant\", user, \"instructions\") - Update the instructions for agent tool usage based upon the user feedback\n",
        "</ Tools >\n",
        "\n",
        "< User profile >\n",
        "{profile}\n",
        "</ User profile >\n",
        "\n",
        "< Instructions >\n",
        "{instructions}\n",
        "</ Instructions >\n",
        "\"\"\"\n",
        "\n",
        "# Triage prompt\n",
        "triage_system_prompt = \"\"\"\n",
        "< Role >\n",
        "You are {full_name}'s executive assistant. You are a top-notch executive assistant who cares about {name} performing as well as possible.\n",
        "</ Role >\n",
        "\n",
        "< Background >\n",
        "{user_profile_background}.\n",
        "</ Background >\n",
        "\n",
        "< Instructions >\n",
        "\n",
        "{name} gets lots of emails. Your job is to categorize each email into one of three categories:\n",
        "\n",
        "1. IGNORE - Emails that are not worth responding to or tracking\n",
        "2. NOTIFY - Important information that {name} should know about but doesn't require a response\n",
        "3. RESPOND - Emails that need a direct response from {name}\n",
        "\n",
        "Classify the below email into one of these categories.\n",
        "\n",
        "</ Instructions >\n",
        "\n",
        "< Rules >\n",
        "Emails that are not worth responding to:\n",
        "{triage_no}\n",
        "\n",
        "There are also other things that {name} should know about, but don't require an email response. For these, you should notify {name} (using the `notify` response). Examples of this include:\n",
        "{triage_notify}\n",
        "\n",
        "Emails that are worth responding to:\n",
        "{triage_email}\n",
        "</ Rules >\n",
        "\n",
        "< Few shot examples >\n",
        "{examples}\n",
        "</ Few shot examples >\n",
        "\"\"\"\n",
        "\n",
        "triage_user_prompt = \"\"\"\n",
        "Please determine how to handle the below email thread:\n",
        "\n",
        "From: {author}\n",
        "To: {to}\n",
        "Subject: {subject}\n",
        "{email_thread}\"\"\"\n"
      ],
      "metadata": {
        "id": "9eruKsgSB7_b"
      },
      "execution_count": 88,
      "outputs": []
    },
    {
      "cell_type": "markdown",
      "source": [
        "### Template for formating an example to put in prompt"
      ],
      "metadata": {
        "id": "cSXHOK_xZeZT"
      }
    },
    {
      "cell_type": "code",
      "source": [
        "template = \"\"\"Email Subject: {subject}\n",
        "Email From: {from_email}\n",
        "Email To: {to_email}\n",
        "Email Content:\n",
        "```\n",
        "{content}\n",
        "```\n",
        "> Triage Result: {result}\"\"\"\n",
        "\n",
        "# Format list of few shots\n",
        "def format_few_shot_examples(examples):\n",
        "    strs = [\"Here are some previous examples:\"]\n",
        "    for eg in examples:\n",
        "        strs.append(\n",
        "            template.format(\n",
        "                subject=eg.value[\"email\"][\"subject\"],\n",
        "                to_email=eg.value[\"email\"][\"to\"],\n",
        "                from_email=eg.value[\"email\"][\"author\"],\n",
        "                content=eg.value[\"email\"][\"email_thread\"][:400],\n",
        "                result=eg.value[\"label\"],\n",
        "            )\n",
        "        )\n",
        "    return \"\\n\\n------------\\n\\n\".join(strs)"
      ],
      "metadata": {
        "id": "ha1jZoBzYnOZ"
      },
      "execution_count": 11,
      "outputs": []
    },
    {
      "cell_type": "markdown",
      "source": [
        "### Define Response Format"
      ],
      "metadata": {
        "id": "q7QmUbQTaJ1P"
      }
    },
    {
      "cell_type": "code",
      "source": [
        "from pydantic import BaseModel, Field\n",
        "from typing_extensions import TypedDict, Literal, Annotated\n",
        "from langchain.chat_models import init_chat_model\n",
        "init_llm = init_chat_model(\"groq:mixtral-8x7b-32768\")\n",
        "init_llm"
      ],
      "metadata": {
        "colab": {
          "base_uri": "https://localhost:8080/"
        },
        "id": "0ZbYur3baGbh",
        "outputId": "5ad4c9b7-8348-4dd3-9c02-0e647c328ff8"
      },
      "execution_count": 12,
      "outputs": [
        {
          "output_type": "execute_result",
          "data": {
            "text/plain": [
              "ChatGroq(client=<groq.resources.chat.completions.Completions object at 0x7b12a09d3b50>, async_client=<groq.resources.chat.completions.AsyncCompletions object at 0x7b12a09d16d0>, model_name='mixtral-8x7b-32768', model_kwargs={}, groq_api_key=SecretStr('**********'))"
            ]
          },
          "metadata": {},
          "execution_count": 12
        }
      ]
    },
    {
      "cell_type": "code",
      "source": [
        "class Router(BaseModel):\n",
        "    \"\"\"Analyze the unread email and route it according to its content.\"\"\"\n",
        "\n",
        "    reasoning: str = Field(\n",
        "        description=\"Step-by-step reasoning behind the classification.\"\n",
        "    )\n",
        "    classification: Literal[\"ignore\", \"respond\", \"notify\"] = Field(\n",
        "        description=\"The classification of an email: 'ignore' for irrelevant emails, \"\n",
        "        \"'notify' for important information that doesn't need a response, \"\n",
        "        \"'respond' for emails that need a reply\",\n",
        "    )"
      ],
      "metadata": {
        "id": "y9urElm0al5b"
      },
      "execution_count": 13,
      "outputs": []
    },
    {
      "cell_type": "markdown",
      "source": [
        "### Instantiate the LLM to follow a response structure"
      ],
      "metadata": {
        "id": "jzICFHT6atIo"
      }
    },
    {
      "cell_type": "code",
      "source": [
        "llm_router = llm.with_structured_output(Router)"
      ],
      "metadata": {
        "id": "lSvIUsE-a4UH"
      },
      "execution_count": 14,
      "outputs": []
    },
    {
      "cell_type": "markdown",
      "source": [
        "### Define the State"
      ],
      "metadata": {
        "id": "LIGY9gBcF92c"
      }
    },
    {
      "cell_type": "code",
      "source": [
        "from langgraph.graph import add_messages\n",
        "\n",
        "class State(TypedDict):\n",
        "    email_input: dict\n",
        "    messages: Annotated[list, add_messages]\n",
        "    profile: dict"
      ],
      "metadata": {
        "id": "RzjdBhNZGAu0"
      },
      "execution_count": 15,
      "outputs": []
    },
    {
      "cell_type": "markdown",
      "source": [
        "### Define Router Node"
      ],
      "metadata": {
        "id": "G6QfHZaaGEK8"
      }
    },
    {
      "cell_type": "code",
      "source": [
        "from langgraph.graph import StateGraph, START, END\n",
        "from langgraph.types import Command\n",
        "from typing import Literal\n",
        "from IPython.display import Image, display"
      ],
      "metadata": {
        "id": "FjjZ1TT4GGXl"
      },
      "execution_count": 16,
      "outputs": []
    },
    {
      "cell_type": "markdown",
      "source": [
        "#### Updated triage_router gets ignore, notify and respond rule from store"
      ],
      "metadata": {
        "id": "rSduQFonGNbk"
      }
    },
    {
      "cell_type": "code",
      "source": [
        "def triage_router(state: State, config, store) -> Command[\n",
        "    Literal[\"response_agent\", \"__end__\"]\n",
        "]:\n",
        "    author = state['email_input']['author']\n",
        "    to = state['email_input']['to']\n",
        "    subject = state['email_input']['subject']\n",
        "    email_thread = state['email_input']['email_thread']\n",
        "\n",
        "    namespace = (\n",
        "        \"email_assistant\",\n",
        "        config['configurable']['langgraph_user_id'],\n",
        "        \"examples\"\n",
        "    )\n",
        "    examples = store.search(\n",
        "        namespace,\n",
        "        query=str({\"email\": state['email_input']})\n",
        "    )\n",
        "    examples=format_few_shot_examples(examples)\n",
        "\n",
        "    langgraph_user_id = config['configurable']['langgraph_user_id']\n",
        "    namespace = (langgraph_user_id, )\n",
        "\n",
        "    result = store.get(namespace, \"triage_ignore\")\n",
        "    if result is None:\n",
        "        store.put(\n",
        "            namespace,\n",
        "            \"triage_ignore\",\n",
        "            {\"prompt\": prompt_instructions[\"triage_rules\"][\"ignore\"]}\n",
        "        )\n",
        "        ignore_prompt = prompt_instructions[\"triage_rules\"][\"ignore\"]\n",
        "    else:\n",
        "        ignore_prompt = result.value['prompt']\n",
        "\n",
        "    result = store.get(namespace, \"triage_notify\")\n",
        "    if result is None:\n",
        "        store.put(\n",
        "            namespace,\n",
        "            \"triage_notify\",\n",
        "            {\"prompt\": prompt_instructions[\"triage_rules\"][\"notify\"]}\n",
        "        )\n",
        "        notify_prompt = prompt_instructions[\"triage_rules\"][\"notify\"]\n",
        "    else:\n",
        "        notify_prompt = result.value['prompt']\n",
        "\n",
        "    result = store.get(namespace, \"triage_respond\")\n",
        "    if result is None:\n",
        "        store.put(\n",
        "            namespace,\n",
        "            \"triage_respond\",\n",
        "            {\"prompt\": prompt_instructions[\"triage_rules\"][\"respond\"]}\n",
        "        )\n",
        "        respond_prompt = prompt_instructions[\"triage_rules\"][\"respond\"]\n",
        "    else:\n",
        "        respond_prompt = result.value['prompt']\n",
        "\n",
        "    system_prompt = triage_system_prompt.format(\n",
        "        full_name=profile[\"full_name\"],\n",
        "        name=profile[\"name\"],\n",
        "        user_profile_background=profile[\"user_profile_background\"],\n",
        "        triage_no=ignore_prompt,\n",
        "        triage_notify=notify_prompt,\n",
        "        triage_email=respond_prompt,\n",
        "        examples=examples\n",
        "    )\n",
        "    user_prompt = triage_user_prompt.format(\n",
        "        author=author,\n",
        "        to=to,\n",
        "        subject=subject,\n",
        "        email_thread=email_thread\n",
        "    )\n",
        "    result = llm_router.invoke(\n",
        "        [\n",
        "            {\"role\": \"system\", \"content\": system_prompt},\n",
        "            {\"role\": \"user\", \"content\": user_prompt},\n",
        "        ]\n",
        "    )\n",
        "    if result.classification == \"respond\":\n",
        "        print(\"📧 Classification: RESPOND - This email requires a response\")\n",
        "        goto = \"response_agent\"\n",
        "        update = {\n",
        "            \"messages\": [\n",
        "                {\n",
        "                    \"role\": \"user\",\n",
        "                    \"content\": f\"Respond to the email {state['email_input']}\",\n",
        "                }\n",
        "            ]\n",
        "        }\n",
        "    elif result.classification == \"ignore\":\n",
        "        print(\"🚫 Classification: IGNORE - This email can be safely ignored\")\n",
        "        update = None\n",
        "        goto = END\n",
        "    elif result.classification == \"notify\":\n",
        "        # If real life, this would do something else\n",
        "        print(\"🔔 Classification: NOTIFY - This email contains important information\")\n",
        "        update = None\n",
        "        goto = END\n",
        "    else:\n",
        "        raise ValueError(f\"Invalid classification: {result.classification}\")\n",
        "    return Command(goto=goto, update=update)"
      ],
      "metadata": {
        "id": "yS0J1G7GGNw7"
      },
      "execution_count": 89,
      "outputs": []
    },
    {
      "cell_type": "markdown",
      "source": [
        "### Build Tools"
      ],
      "metadata": {
        "id": "BA1dr9q4G0gs"
      }
    },
    {
      "cell_type": "code",
      "source": [
        "from langchain_core.tools import tool\n",
        "@tool\n",
        "def write_email(to: str, subject: str, content: str) -> str:\n",
        "    \"\"\"Write and send an email.\"\"\"\n",
        "    # Placeholder response - in real app would send email\n",
        "    return f\"Email sent to {to} with subject '{subject}'\"\n",
        "#\n",
        "@tool\n",
        "def schedule_meeting(\n",
        "    attendees: list[str],\n",
        "    subject: str,\n",
        "    duration_minutes: int,\n",
        "    preferred_day: str\n",
        ") -> str:\n",
        "    \"\"\"Schedule a calendar meeting.\"\"\"\n",
        "    # Placeholder response - in real app would check calendar and schedule\n",
        "    return f\"Meeting '{subject}' scheduled for {preferred_day} with {len(attendees)} attendees\"\n",
        "\n",
        "#\n",
        "@tool\n",
        "def check_calendar_availability(day: str) -> str:\n",
        "    \"\"\"Check calendar availability for a given day.\"\"\"\n",
        "    # Placeholder response - in real app would check actual calendar\n",
        "    return f\"Available times on {day}: 9:00 AM, 2:00 PM, 4:00 PM\""
      ],
      "metadata": {
        "id": "nJsmq0dxG2TO"
      },
      "execution_count": 90,
      "outputs": []
    },
    {
      "cell_type": "markdown",
      "source": [
        "### Use Semantic memory"
      ],
      "metadata": {
        "id": "XAQxf5VKHC_0"
      }
    },
    {
      "cell_type": "code",
      "source": [
        "from langmem import create_manage_memory_tool, create_search_memory_tool\n",
        "manage_memory_tool = create_manage_memory_tool(\n",
        "    namespace=(\n",
        "        \"email_assistant\",\n",
        "        \"{langgraph_user_id}\",\n",
        "        \"collection\"\n",
        "    )\n",
        ")\n",
        "search_memory_tool = create_search_memory_tool(\n",
        "    namespace=(\n",
        "        \"email_assistant\",\n",
        "        \"{langgraph_user_id}\",\n",
        "        \"collection\"\n",
        "    )\n",
        ")"
      ],
      "metadata": {
        "id": "nU-CzDkfHJjE"
      },
      "execution_count": 91,
      "outputs": []
    },
    {
      "cell_type": "code",
      "source": [
        "agent_system_prompt_memory = \"\"\"\n",
        "< Role >\n",
        "You are {full_name}'s executive assistant. You are a top-notch executive assistant who cares about {name} performing as well as possible.\n",
        "</ Role >\n",
        "\n",
        "< Tools >\n",
        "You have access to the following tools to help manage {name}'s communications and schedule:\n",
        "\n",
        "1. write_email(to, subject, content) - Send emails to specified recipients\n",
        "2. schedule_meeting(attendees, subject, duration_minutes, preferred_day) - Schedule calendar meetings\n",
        "3. check_calendar_availability(day) - Check available time slots for a given day\n",
        "4. manage_memory - Store any relevant information about contacts, actions, discussion, etc. in memory for future reference\n",
        "5. search_memory - Search for any relevant information that may have been stored in memory\n",
        "</ Tools >\n",
        "\n",
        "< Instructions >\n",
        "{instructions}\n",
        "</ Instructions >\n",
        "\"\"\""
      ],
      "metadata": {
        "id": "qvjrR0BIiNmw"
      },
      "execution_count": 92,
      "outputs": []
    },
    {
      "cell_type": "markdown",
      "source": [
        "### Updated create_prompt gets prompt from store"
      ],
      "metadata": {
        "id": "rAfIU_sTHlnE"
      }
    },
    {
      "cell_type": "code",
      "source": [
        "def create_prompt(state, config, store):\n",
        "    langgraph_user_id = config['configurable']['langgraph_user_id']\n",
        "    namespace = (langgraph_user_id, )\n",
        "    result = store.get(namespace, \"agent_instructions\")\n",
        "    if result is None:\n",
        "        store.put(\n",
        "            namespace,\n",
        "            \"agent_instructions\",\n",
        "            {\"prompt\": prompt_instructions[\"agent_instructions\"]}\n",
        "        )\n",
        "        prompt = prompt_instructions[\"agent_instructions\"]\n",
        "    else:\n",
        "        prompt = result.value['prompt']\n",
        "\n",
        "    return [\n",
        "        {\n",
        "            \"role\": \"system\",\n",
        "            \"content\": agent_system_prompt_memory.format(\n",
        "                instructions=prompt,\n",
        "                **profile\n",
        "            )\n",
        "        }\n",
        "    ] + state['messages']"
      ],
      "metadata": {
        "id": "8TUJg4ObHODl"
      },
      "execution_count": 93,
      "outputs": []
    },
    {
      "cell_type": "markdown",
      "source": [
        "### Create email Agent"
      ],
      "metadata": {
        "id": "HU4GV1TVHr08"
      }
    },
    {
      "cell_type": "code",
      "source": [
        "from langgraph.prebuilt import create_react_agent\n",
        "\n",
        "#\n",
        "tools= [\n",
        "    write_email,\n",
        "    schedule_meeting,\n",
        "    check_calendar_availability,\n",
        "    manage_memory_tool,\n",
        "    search_memory_tool\n",
        "]\n",
        "response_agent = create_react_agent(\n",
        "    llm,\n",
        "    tools=tools,\n",
        "    prompt=create_prompt,\n",
        "    # Use this to ensure the store is passed to the agent\n",
        "    store=store\n",
        ")"
      ],
      "metadata": {
        "id": "nuXZBtcWHugd"
      },
      "execution_count": 94,
      "outputs": []
    },
    {
      "cell_type": "code",
      "source": [
        "response_agent"
      ],
      "metadata": {
        "colab": {
          "base_uri": "https://localhost:8080/",
          "height": 266
        },
        "id": "LRQRBeYLICys",
        "outputId": "87032680-f01b-472a-d091-f58bb0f1009c"
      },
      "execution_count": 95,
      "outputs": [
        {
          "output_type": "execute_result",
          "data": {
            "text/plain": [
              "<langgraph.graph.state.CompiledStateGraph object at 0x7b129e11f5d0>"
            ],
            "image/png": "[encoded data removed]"
          },
          "metadata": {},
          "execution_count": 95
        }
      ]
    },
    {
      "cell_type": "code",
      "source": [
        "config = {\"configurable\": {\"langgraph_user_id\": \"Plaban\"}}"
      ],
      "metadata": {
        "id": "hAjknws9h47X"
      },
      "execution_count": 96,
      "outputs": []
    },
    {
      "cell_type": "code",
      "source": [
        "response_agent.invoke({\"messages\":[{\"role\":\"user\",\"content\":\"What is the availability for Tuesday\"}]},config=config)"
      ],
      "metadata": {
        "colab": {
          "base_uri": "https://localhost:8080/"
        },
        "id": "m8DeCbGSQsIW",
        "outputId": "c53507ba-6343-4b31-fa92-eda7a83d73d7"
      },
      "execution_count": 97,
      "outputs": [
        {
          "output_type": "execute_result",
          "data": {
            "text/plain": [
              "{'messages': [HumanMessage(content='What is the availability for Tuesday', additional_kwargs={}, response_metadata={}, id='7005b579-a019-46e0-9e6c-d142b075298d'),\n",
              "  AIMessage(content='', additional_kwargs={'tool_calls': [{'id': 'call_12vn', 'function': {'arguments': '{\"day\": \"Tuesday\"}', 'name': 'check_calendar_availability'}, 'type': 'function'}]}, response_metadata={'token_usage': {'completion_tokens': 17, 'prompt_tokens': 933, 'total_tokens': 950, 'completion_time': 0.061818182, 'prompt_time': 0.059918984, 'queue_time': 0.255777121, 'total_time': 0.121737166}, 'model_name': 'llama-3.3-70b-versatile', 'system_fingerprint': 'fp_41c250edc7', 'finish_reason': 'tool_calls', 'logprobs': None}, id='run-0ee36a6c-62ad-4596-a56b-50826ec19877-0', tool_calls=[{'name': 'check_calendar_availability', 'args': {'day': 'Tuesday'}, 'id': 'call_12vn', 'type': 'tool_call'}], usage_metadata={'input_tokens': 933, 'output_tokens': 17, 'total_tokens': 950}),\n",
              "  ToolMessage(content='Available times on Tuesday: 9:00 AM, 2:00 PM, 4:00 PM', name='check_calendar_availability', id='4de197b1-87f0-48b8-96d7-096b3d2fe91c', tool_call_id='call_12vn'),\n",
              "  AIMessage(content='Tuesday has available time slots at 9:00 AM, 2:00 PM, and 4:00 PM.', additional_kwargs={}, response_metadata={'token_usage': {'completion_tokens': 26, 'prompt_tokens': 982, 'total_tokens': 1008, 'completion_time': 0.094545455, 'prompt_time': 0.063813211, 'queue_time': 0.253129614, 'total_time': 0.158358666}, 'model_name': 'llama-3.3-70b-versatile', 'system_fingerprint': 'fp_c4760ee73b', 'finish_reason': 'stop', 'logprobs': None}, id='run-0f1a2012-b773-48e8-83ee-174ffee406b2-0', usage_metadata={'input_tokens': 982, 'output_tokens': 26, 'total_tokens': 1008})]}"
            ]
          },
          "metadata": {},
          "execution_count": 97
        }
      ]
    },
    {
      "cell_type": "markdown",
      "source": [
        "## Build Graph Workflow"
      ],
      "metadata": {
        "id": "wUHMO4J0Lm41"
      }
    },
    {
      "cell_type": "code",
      "source": [
        "email_agent = StateGraph(State)\n",
        "email_agent.add_node(triage_router)\n",
        "email_agent.add_node(\"response_agent\", response_agent)\n",
        "email_agent.add_edge(START, \"triage_router\")\n",
        "email_agent_workflow = email_agent.compile(store=store)"
      ],
      "metadata": {
        "id": "zMofAarLLpiF"
      },
      "execution_count": 98,
      "outputs": []
    },
    {
      "cell_type": "markdown",
      "source": [
        "### Setup Agent to update Long Term Memory in the background\n",
        "email_agent is now setup to pull its instructions from long-term memory.  \n",
        "Now, you'll create an agent to update that memory. First check current behavior."
      ],
      "metadata": {
        "id": "XsqBJVUiNg8e"
      }
    },
    {
      "cell_type": "code",
      "source": [
        "email_input = {\n",
        "    \"author\": \"Alice Jones <alice.jones@bar.com>\",\n",
        "    \"to\": \"Plaban Nayak <plaban.nayak@company.com>\",\n",
        "    \"subject\": \"Quick question about API documentation\",\n",
        "    \"email_thread\": \"\"\"Hi Plaban,\n",
        "\n",
        "Urgent issue - your service is down. Is there a reason why\"\"\",\n",
        "}"
      ],
      "metadata": {
        "id": "f6iv4b5qL6IU"
      },
      "execution_count": 102,
      "outputs": []
    },
    {
      "cell_type": "code",
      "source": [
        "config = {\"configurable\": {\"langgraph_user_id\": \"Plaban\"}}"
      ],
      "metadata": {
        "id": "_XxdB5K7Now-"
      },
      "execution_count": 103,
      "outputs": []
    },
    {
      "cell_type": "code",
      "source": [
        "response = email_agent_workflow.invoke(\n",
        "    {\"email_input\": email_input},\n",
        "    config=config\n",
        ")"
      ],
      "metadata": {
        "colab": {
          "base_uri": "https://localhost:8080/"
        },
        "id": "bItVd6I9NsD9",
        "outputId": "1ba07542-8dec-4d26-e2f2-6d7ac61506d2"
      },
      "execution_count": 104,
      "outputs": [
        {
          "output_type": "stream",
          "name": "stdout",
          "text": [
            "📧 Classification: RESPOND - This email requires a response\n"
          ]
        }
      ]
    },
    {
      "cell_type": "code",
      "source": [
        "store.get((\"Plaban\",), \"agent_instructions\").value['prompt']"
      ],
      "metadata": {
        "colab": {
          "base_uri": "https://localhost:8080/",
          "height": 35
        },
        "id": "t_EzVUSrPWwN",
        "outputId": "491fe1c5-c123-44f4-cde3-68efbf8fcfc7"
      },
      "execution_count": 105,
      "outputs": [
        {
          "output_type": "execute_result",
          "data": {
            "text/plain": [
              "\"Use these tools when appropriate to help manage Plaban's tasks efficiently.\""
            ],
            "application/vnd.google.colaboratory.intrinsic+json": {
              "type": "string"
            }
          },
          "metadata": {},
          "execution_count": 105
        }
      ]
    },
    {
      "cell_type": "code",
      "source": [
        "store.get((\"Plaban\",), \"triage_respond\").value['prompt']"
      ],
      "metadata": {
        "colab": {
          "base_uri": "https://localhost:8080/",
          "height": 35
        },
        "id": "3AyhrCFpPYa1",
        "outputId": "de9fa183-5de8-4df8-aa03-316b84784b07"
      },
      "execution_count": 106,
      "outputs": [
        {
          "output_type": "execute_result",
          "data": {
            "text/plain": [
              "'Direct questions from team members, meeting requests, critical bug reports'"
            ],
            "application/vnd.google.colaboratory.intrinsic+json": {
              "type": "string"
            }
          },
          "metadata": {},
          "execution_count": 106
        }
      ]
    },
    {
      "cell_type": "code",
      "source": [
        "store.get((\"Plaban\",), \"triage_ignore\").value['prompt']"
      ],
      "metadata": {
        "colab": {
          "base_uri": "https://localhost:8080/",
          "height": 35
        },
        "id": "GBKJS5ViPc9m",
        "outputId": "400f2d1a-bd6c-4b66-f322-92d28ea1f939"
      },
      "execution_count": 107,
      "outputs": [
        {
          "output_type": "execute_result",
          "data": {
            "text/plain": [
              "'Marketing newsletters, spam emails, mass company announcements'"
            ],
            "application/vnd.google.colaboratory.intrinsic+json": {
              "type": "string"
            }
          },
          "metadata": {},
          "execution_count": 107
        }
      ]
    },
    {
      "cell_type": "code",
      "source": [
        "email_agent_workflow"
      ],
      "metadata": {
        "colab": {
          "base_uri": "https://localhost:8080/",
          "height": 266
        },
        "id": "ML2ZTYkokL2X",
        "outputId": "48813a6b-b97c-48e8-bc95-a32bd246d64d"
      },
      "execution_count": 108,
      "outputs": [
        {
          "output_type": "execute_result",
          "data": {
            "text/plain": [
              "<langgraph.graph.state.CompiledStateGraph object at 0x7b129e13b2d0>"
            ],
            "image/png": "[encoded data removed]"
          },
          "metadata": {},
          "execution_count": 108
        }
      ]
    },
    {
      "cell_type": "code",
      "source": [
        "for m in response[\"messages\"]:\n",
        "    m.pretty_print()"
      ],
      "metadata": {
        "colab": {
          "base_uri": "https://localhost:8080/"
        },
        "id": "7ocx-LMZkNfh",
        "outputId": "a2a629ee-2954-46eb-f6cb-9a1835750e4a"
      },
      "execution_count": 109,
      "outputs": [
        {
          "output_type": "stream",
          "name": "stdout",
          "text": [
            "================================\u001b[1m Human Message \u001b[0m=================================\n",
            "\n",
            "Respond to the email {'author': 'Alice Jones <alice.jones@bar.com>', 'to': 'Plaban Nayak <plaban.nayak@company.com>', 'subject': 'Quick question about API documentation', 'email_thread': 'Hi Plaban,\\n\\nUrgent issue - your service is down. Is there a reason why'}\n",
            "==================================\u001b[1m Ai Message \u001b[0m==================================\n",
            "Tool Calls:\n",
            "  write_email (call_37w0)\n",
            " Call ID: call_37w0\n",
            "  Args:\n",
            "    to: alice.jones@bar.com\n",
            "    subject: Re: Quick question about API documentation\n",
            "    content: Hi Alice, \n",
            "\n",
            "Thanks for reaching out. Sorry to hear that our service is down. I'll look into this immediately and get back to you with an update. \n",
            "\n",
            "Best, \n",
            "Plaban Nayak\n",
            "=================================\u001b[1m Tool Message \u001b[0m=================================\n",
            "Name: write_email\n",
            "\n",
            "Email sent to alice.jones@bar.com with subject 'Re: Quick question about API documentation'\n",
            "==================================\u001b[1m Ai Message \u001b[0m==================================\n",
            "Tool Calls:\n",
            "  manage_memory (call_n6ph)\n",
            " Call ID: call_n6ph\n",
            "  Args:\n",
            "    action: create\n",
            "    content: Alice Jones from Bar.com contacted Plaban regarding urgent issue with service being down.\n",
            "=================================\u001b[1m Tool Message \u001b[0m=================================\n",
            "Name: manage_memory\n",
            "\n",
            "created memory fc6cecf6-d266-4ecb-aa49-7ef92ed49834\n",
            "==================================\u001b[1m Ai Message \u001b[0m==================================\n",
            "\n",
            "<function=search_memory({\"query\": \"service down\", \"limit\": 1})</function>\n"
          ]
        }
      ]
    },
    {
      "cell_type": "code",
      "source": [
        "response['messages'][-4].content"
      ],
      "metadata": {
        "colab": {
          "base_uri": "https://localhost:8080/",
          "height": 35
        },
        "id": "WStOiESGlc2P",
        "outputId": "a1ac08cf-0267-4e07-bc1e-8c542989798c"
      },
      "execution_count": 110,
      "outputs": [
        {
          "output_type": "execute_result",
          "data": {
            "text/plain": [
              "\"Email sent to alice.jones@bar.com with subject 'Re: Quick question about API documentation'\""
            ],
            "application/vnd.google.colaboratory.intrinsic+json": {
              "type": "string"
            }
          },
          "metadata": {},
          "execution_count": 110
        }
      ]
    },
    {
      "cell_type": "code",
      "source": [
        "response['messages'][-2]"
      ],
      "metadata": {
        "colab": {
          "base_uri": "https://localhost:8080/"
        },
        "id": "YFpXpqgOko9n",
        "outputId": "04da0998-cad1-4086-a28e-0e6d9a639769"
      },
      "execution_count": 113,
      "outputs": [
        {
          "output_type": "execute_result",
          "data": {
            "text/plain": [
              "ToolMessage(content='created memory fc6cecf6-d266-4ecb-aa49-7ef92ed49834', name='manage_memory', id='ec3e2163-8260-4b71-86b0-374e1e41df2b', tool_call_id='call_n6ph')"
            ]
          },
          "metadata": {},
          "execution_count": 113
        }
      ]
    },
    {
      "cell_type": "code",
      "source": [
        "response['messages'][-1]"
      ],
      "metadata": {
        "colab": {
          "base_uri": "https://localhost:8080/"
        },
        "id": "iFhUm_W6kpyp",
        "outputId": "f92abb32-3b59-4aea-9e9e-f762e62da181"
      },
      "execution_count": 114,
      "outputs": [
        {
          "output_type": "execute_result",
          "data": {
            "text/plain": [
              "AIMessage(content='<function=search_memory({\"query\": \"service down\", \"limit\": 1})</function>', additional_kwargs={}, response_metadata={'token_usage': {'completion_tokens': 21, 'prompt_tokens': 1181, 'total_tokens': 1202, 'completion_time': 0.076363636, 'prompt_time': 0.083273586, 'queue_time': 0.249099112, 'total_time': 0.159637222}, 'model_name': 'llama-3.3-70b-versatile', 'system_fingerprint': 'fp_8dd9fca28c', 'finish_reason': 'stop', 'logprobs': None}, id='run-8e28eb41-5e2e-4683-98b1-4b38d2880e41-0', usage_metadata={'input_tokens': 1181, 'output_tokens': 21, 'total_tokens': 1202})"
            ]
          },
          "metadata": {},
          "execution_count": 114
        }
      ]
    },
    {
      "cell_type": "code",
      "source": [
        "response['messages'][1]"
      ],
      "metadata": {
        "colab": {
          "base_uri": "https://localhost:8080/"
        },
        "id": "_ali8pEm-PjK",
        "outputId": "d531c6be-372a-4494-8632-c34e353b6a58"
      },
      "execution_count": 116,
      "outputs": [
        {
          "output_type": "execute_result",
          "data": {
            "text/plain": [
              "AIMessage(content='', additional_kwargs={'tool_calls': [{'id': 'call_37w0', 'function': {'arguments': '{\"to\": \"alice.jones@bar.com\", \"subject\": \"Re: Quick question about API documentation\", \"content\": \"Hi Alice, \\\\n\\\\nThanks for reaching out. Sorry to hear that our service is down. I\\'ll look into this immediately and get back to you with an update. \\\\n\\\\nBest, \\\\nPlaban Nayak\"}', 'name': 'write_email'}, 'type': 'function'}]}, response_metadata={'token_usage': {'completion_tokens': 83, 'prompt_tokens': 1000, 'total_tokens': 1083, 'completion_time': 0.301818182, 'prompt_time': 0.072545139, 'queue_time': 0.24842545100000002, 'total_time': 0.374363321}, 'model_name': 'llama-3.3-70b-versatile', 'system_fingerprint': 'fp_90c1d253ff', 'finish_reason': 'tool_calls', 'logprobs': None}, id='run-1218d9ab-8dc5-47a7-9d18-8c3128d9a0ff-0', tool_calls=[{'name': 'write_email', 'args': {'to': 'alice.jones@bar.com', 'subject': 'Re: Quick question about API documentation', 'content': \"Hi Alice, \\n\\nThanks for reaching out. Sorry to hear that our service is down. I'll look into this immediately and get back to you with an update. \\n\\nBest, \\nPlaban Nayak\"}, 'id': 'call_37w0', 'type': 'tool_call'}], usage_metadata={'input_tokens': 1000, 'output_tokens': 83, 'total_tokens': 1083})"
            ]
          },
          "metadata": {},
          "execution_count": 116
        }
      ]
    },
    {
      "cell_type": "code",
      "source": [
        "response['messages'][1].additional_kwargs['tool_calls']"
      ],
      "metadata": {
        "colab": {
          "base_uri": "https://localhost:8080/"
        },
        "id": "RuukvejD-fuy",
        "outputId": "43a90d3a-e4bd-4b02-f888-79093d069371"
      },
      "execution_count": 132,
      "outputs": [
        {
          "output_type": "execute_result",
          "data": {
            "text/plain": [
              "[{'id': 'call_37w0',\n",
              "  'function': {'arguments': '{\"to\": \"alice.jones@bar.com\", \"subject\": \"Re: Quick question about API documentation\", \"content\": \"Hi Alice, \\\\n\\\\nThanks for reaching out. Sorry to hear that our service is down. I\\'ll look into this immediately and get back to you with an update. \\\\n\\\\nBest, \\\\nPlaban Nayak\"}',\n",
              "   'name': 'write_email'},\n",
              "  'type': 'function'}]"
            ]
          },
          "metadata": {},
          "execution_count": 132
        }
      ]
    },
    {
      "cell_type": "code",
      "source": [
        "response['messages'][1].additional_kwargs['tool_calls'][0]['function']['arguments']"
      ],
      "metadata": {
        "colab": {
          "base_uri": "https://localhost:8080/",
          "height": 52
        },
        "id": "5Kn8PFsh_adb",
        "outputId": "c7fb2ef0-dbdb-4d26-a47c-6c03008ce353"
      },
      "execution_count": 139,
      "outputs": [
        {
          "output_type": "execute_result",
          "data": {
            "text/plain": [
              "'{\"to\": \"alice.jones@bar.com\", \"subject\": \"Re: Quick question about API documentation\", \"content\": \"Hi Alice, \\\\n\\\\nThanks for reaching out. Sorry to hear that our service is down. I\\'ll look into this immediately and get back to you with an update. \\\\n\\\\nBest, \\\\nPlaban Nayak\"}'"
            ],
            "application/vnd.google.colaboratory.intrinsic+json": {
              "type": "string"
            }
          },
          "metadata": {},
          "execution_count": 139
        }
      ]
    },
    {
      "cell_type": "markdown",
      "source": [
        "### Use an LLM to update instructions."
      ],
      "metadata": {
        "id": "HUiFWZ12pRvp"
      }
    },
    {
      "cell_type": "code",
      "source": [
        "from langmem import create_multi_prompt_optimizer\n",
        "conversations = [\n",
        "    (\n",
        "        response['messages'],\n",
        "        \"Always sign your email `Plaban Nayak`\"\n",
        "    )\n",
        "]"
      ],
      "metadata": {
        "id": "5-_WOpHQlZGh"
      },
      "execution_count": 140,
      "outputs": []
    },
    {
      "cell_type": "code",
      "source": [
        "store.get((\"Plaban\",), \"triage_notify\").value['prompt']"
      ],
      "metadata": {
        "colab": {
          "base_uri": "https://localhost:8080/",
          "height": 35
        },
        "id": "1HunqMXg4MSa",
        "outputId": "fe6221d5-36dd-4413-a39e-4a72c8726b09"
      },
      "execution_count": 141,
      "outputs": [
        {
          "output_type": "execute_result",
          "data": {
            "text/plain": [
              "'Team member out sick, build system notifications, project status updates'"
            ],
            "application/vnd.google.colaboratory.intrinsic+json": {
              "type": "string"
            }
          },
          "metadata": {},
          "execution_count": 141
        }
      ]
    },
    {
      "cell_type": "code",
      "source": [
        "prompts = [\n",
        "    {\n",
        "        \"name\": \"main_agent\",\n",
        "        \"prompt\": store.get((\"Plaban\",), \"agent_instructions\").value['prompt'],\n",
        "        \"update_instructions\": \"keep the instructions short and to the point\",\n",
        "        \"when_to_update\": \"Update this prompt whenever there is feedback on how the agent should write emails or schedule events\"\n",
        "\n",
        "    },\n",
        "    {\n",
        "        \"name\": \"triage-ignore\",\n",
        "        \"prompt\": store.get((\"Plaban\",), \"triage_ignore\").value['prompt'],\n",
        "        \"update_instructions\": \"keep the instructions short and to the point\",\n",
        "        \"when_to_update\": \"Update this prompt whenever there is feedback on which emails should be ignored\"\n",
        "\n",
        "    },\n",
        "    {\n",
        "        \"name\": \"triage-notify\",\n",
        "        \"prompt\": store.get((\"Plaban\",), \"triage_notify\").value['prompt'],\n",
        "        \"update_instructions\": \"keep the instructions short and to the point\",\n",
        "        \"when_to_update\": \"Update this prompt whenever there is feedback on which emails the user should be notified of\"\n",
        "\n",
        "    },\n",
        "    {\n",
        "        \"name\": \"triage-respond\",\n",
        "        \"prompt\": store.get((\"Plaban\",), \"triage_respond\").value['prompt'],\n",
        "        \"update_instructions\": \"keep the instructions short and to the point\",\n",
        "        \"when_to_update\": \"Update this prompt whenever there is feedback on which emails should be responded to\"\n",
        "\n",
        "    },\n",
        "]"
      ],
      "metadata": {
        "id": "rJKf-I4Rpexh"
      },
      "execution_count": 142,
      "outputs": []
    },
    {
      "cell_type": "code",
      "source": [
        "optimizer = create_multi_prompt_optimizer(\n",
        "    \"groq:llama-3.3-70b-versatile\",\n",
        "    kind=\"prompt_memory\",\n",
        ")"
      ],
      "metadata": {
        "id": "To0DmNLt3nOi"
      },
      "execution_count": 143,
      "outputs": []
    },
    {
      "cell_type": "code",
      "source": [
        "optimizer = create_multi_prompt_optimizer(\n",
        "    \"openai:gpt-4o\",\n",
        "    kind=\"prompt_memory\",\n",
        ")"
      ],
      "metadata": {
        "id": "4BXuCBm5U_xV"
      },
      "execution_count": 218,
      "outputs": []
    },
    {
      "cell_type": "code",
      "source": [
        "updated = optimizer.invoke(\n",
        "    {\"trajectories\": conversations, \"prompts\": prompts}\n",
        ")\n"
      ],
      "metadata": {
        "id": "Ce-R32wQ4CSB"
      },
      "execution_count": 144,
      "outputs": []
    },
    {
      "cell_type": "code",
      "source": [
        "updated"
      ],
      "metadata": {
        "colab": {
          "base_uri": "https://localhost:8080/"
        },
        "id": "OyXfabLz4UtR",
        "outputId": "19a0326c-b57f-4f7d-91da-437631eab5b0"
      },
      "execution_count": 145,
      "outputs": [
        {
          "output_type": "execute_result",
          "data": {
            "text/plain": [
              "[{'name': 'main_agent',\n",
              "  'prompt': \"Use these tools when appropriate to help manage Plaban's tasks efficiently. Always sign your email as 'Plaban Nayak'.\",\n",
              "  'update_instructions': 'keep the instructions short and to the point',\n",
              "  'when_to_update': 'Update this prompt whenever there is feedback on how the agent should write emails or schedule events'},\n",
              " {'name': 'triage-ignore',\n",
              "  'prompt': 'Marketing newsletters, spam emails, mass company announcements',\n",
              "  'update_instructions': 'keep the instructions short and to the point',\n",
              "  'when_to_update': 'Update this prompt whenever there is feedback on which emails should be ignored'},\n",
              " {'name': 'triage-notify',\n",
              "  'prompt': 'Team member out sick, build system notifications, project status updates',\n",
              "  'update_instructions': 'keep the instructions short and to the point',\n",
              "  'when_to_update': 'Update this prompt whenever there is feedback on which emails the user should be notified of'},\n",
              " {'name': 'triage-respond',\n",
              "  'prompt': 'Direct questions from team members, meeting requests, critical bug reports. Always sign your email as Plaban Nayak',\n",
              "  'update_instructions': 'keep the instructions short and to the point',\n",
              "  'when_to_update': 'Update this prompt whenever there is feedback on which emails should be responded to'}]"
            ]
          },
          "metadata": {},
          "execution_count": 145
        }
      ]
    },
    {
      "cell_type": "code",
      "source": [
        "#json dumps is a bit easier to read\n",
        "import json\n",
        "print(json.dumps(updated, indent=4))"
      ],
      "metadata": {
        "colab": {
          "base_uri": "https://localhost:8080/"
        },
        "id": "1xEDyZS44VYS",
        "outputId": "788e7eb5-d062-4f99-c21a-007839231c19"
      },
      "execution_count": 146,
      "outputs": [
        {
          "output_type": "stream",
          "name": "stdout",
          "text": [
            "[\n",
            "    {\n",
            "        \"name\": \"main_agent\",\n",
            "        \"prompt\": \"Use these tools when appropriate to help manage Plaban's tasks efficiently. Always sign your email as 'Plaban Nayak'.\",\n",
            "        \"update_instructions\": \"keep the instructions short and to the point\",\n",
            "        \"when_to_update\": \"Update this prompt whenever there is feedback on how the agent should write emails or schedule events\"\n",
            "    },\n",
            "    {\n",
            "        \"name\": \"triage-ignore\",\n",
            "        \"prompt\": \"Marketing newsletters, spam emails, mass company announcements\",\n",
            "        \"update_instructions\": \"keep the instructions short and to the point\",\n",
            "        \"when_to_update\": \"Update this prompt whenever there is feedback on which emails should be ignored\"\n",
            "    },\n",
            "    {\n",
            "        \"name\": \"triage-notify\",\n",
            "        \"prompt\": \"Team member out sick, build system notifications, project status updates\",\n",
            "        \"update_instructions\": \"keep the instructions short and to the point\",\n",
            "        \"when_to_update\": \"Update this prompt whenever there is feedback on which emails the user should be notified of\"\n",
            "    },\n",
            "    {\n",
            "        \"name\": \"triage-respond\",\n",
            "        \"prompt\": \"Direct questions from team members, meeting requests, critical bug reports. Always sign your email as Plaban Nayak\",\n",
            "        \"update_instructions\": \"keep the instructions short and to the point\",\n",
            "        \"when_to_update\": \"Update this prompt whenever there is feedback on which emails should be responded to\"\n",
            "    }\n",
            "]\n"
          ]
        }
      ]
    },
    {
      "cell_type": "markdown",
      "source": [
        "### Update the prompts in the store"
      ],
      "metadata": {
        "id": "rH9y-P1i6lB6"
      }
    },
    {
      "cell_type": "code",
      "source": [
        "for i, updated_prompt in enumerate(updated):\n",
        "    old_prompt = prompts[i]\n",
        "    if updated_prompt['prompt'] != old_prompt['prompt']:\n",
        "        name = old_prompt['name']\n",
        "        print(f\"updated {name}\")\n",
        "\n",
        "        if name == \"main_agent\":\n",
        "              store.put(\n",
        "                  (\"lance\",),\n",
        "                  \"agent_instructions\",\n",
        "                  {\"prompt\":updated_prompt['prompt']}\n",
        "              )\n",
        "        else:\n",
        "              store.put(\n",
        "                  (\"Plaban\",),\n",
        "                  name,\n",
        "                  {\"prompt\":updated_prompt['prompt']}\n",
        "              )\n",
        "\n",
        "        print(f\"{name} prompt updated in the store Successfully\")\n",
        "    else:\n",
        "        print(f\"{name} prompt not updated in the store\")\n",
        ""
      ],
      "metadata": {
        "colab": {
          "base_uri": "https://localhost:8080/"
        },
        "id": "Rf7Tp6y05TjJ",
        "outputId": "e9a31a09-f292-497d-d780-ce96574691bc"
      },
      "execution_count": 158,
      "outputs": [
        {
          "output_type": "stream",
          "name": "stdout",
          "text": [
            "updated main_agent\n",
            "main_agent prompt updated in the store Successfully\n",
            "main_agent prompt not updated in the store\n",
            "main_agent prompt not updated in the store\n",
            "updated triage-respond\n",
            "triage-respond prompt updated in the store Successfully\n"
          ]
        }
      ]
    },
    {
      "cell_type": "code",
      "source": [
        "for items in updated:\n",
        "  print(items['name'])\n",
        "  try:\n",
        "    print(store.get((\"Plaban\",), items['name']).value['prompt'])\n",
        "  except Exception as e:\n",
        "    pass"
      ],
      "metadata": {
        "colab": {
          "base_uri": "https://localhost:8080/"
        },
        "id": "ZI3rz_pD7GL6",
        "outputId": "482994c2-ae77-46d9-82ee-50ae51a26ab0"
      },
      "execution_count": 148,
      "outputs": [
        {
          "output_type": "stream",
          "name": "stdout",
          "text": [
            "main_agent\n",
            "triage-ignore\n",
            "triage-notify\n",
            "triage-respond\n"
          ]
        }
      ]
    },
    {
      "cell_type": "code",
      "source": [
        "store.get((\"Plaban\",), \"agent_instructions\").value['prompt']"
      ],
      "metadata": {
        "colab": {
          "base_uri": "https://localhost:8080/",
          "height": 35
        },
        "id": "f6UHaZed7TSy",
        "outputId": "f6e88d4b-4dc4-46e1-d4ad-e3931bf77b0a"
      },
      "execution_count": 149,
      "outputs": [
        {
          "output_type": "execute_result",
          "data": {
            "text/plain": [
              "\"Use these tools when appropriate to help manage Plaban's tasks efficiently.\""
            ],
            "application/vnd.google.colaboratory.intrinsic+json": {
              "type": "string"
            }
          },
          "metadata": {},
          "execution_count": 149
        }
      ]
    },
    {
      "cell_type": "code",
      "source": [
        "response = email_agent_workflow.invoke(\n",
        "    {\"email_input\": email_input},\n",
        "    config=config\n",
        ")"
      ],
      "metadata": {
        "colab": {
          "base_uri": "https://localhost:8080/"
        },
        "id": "NsYHxMK6_2GC",
        "outputId": "47c18ea1-5cbd-4178-83e3-329b04682e81"
      },
      "execution_count": 151,
      "outputs": [
        {
          "output_type": "stream",
          "name": "stdout",
          "text": [
            "📧 Classification: RESPOND - This email requires a response\n"
          ]
        }
      ]
    },
    {
      "cell_type": "code",
      "source": [
        "for m in response[\"messages\"]:\n",
        "    m.pretty_print()"
      ],
      "metadata": {
        "colab": {
          "base_uri": "https://localhost:8080/"
        },
        "id": "n74zZReF_4oz",
        "outputId": "6d8b1276-cf80-4ce2-e44b-484c9940212f"
      },
      "execution_count": 152,
      "outputs": [
        {
          "output_type": "stream",
          "name": "stdout",
          "text": [
            "================================\u001b[1m Human Message \u001b[0m=================================\n",
            "\n",
            "Respond to the email {'author': 'Alice Jones <alice.jones@bar.com>', 'to': 'Plaban Nayak <plaban.nayak@company.com>', 'subject': 'Quick question about API documentation', 'email_thread': 'Hi Plaban,\\n\\nUrgent issue - your service is down. Is there a reason why'}\n",
            "==================================\u001b[1m Ai Message \u001b[0m==================================\n",
            "Tool Calls:\n",
            "  write_email (call_tsk5)\n",
            " Call ID: call_tsk5\n",
            "  Args:\n",
            "    to: alice.jones@bar.com\n",
            "    subject: Re: Quick question about API documentation\n",
            "    content: Hi Alice, \n",
            "\n",
            "I'm so sorry to hear that our service is down. I'll look into this immediately and get back to you with an update. \n",
            "\n",
            "Best, \n",
            "Plaban Nayak\n",
            "=================================\u001b[1m Tool Message \u001b[0m=================================\n",
            "Name: write_email\n",
            "\n",
            "Email sent to alice.jones@bar.com with subject 'Re: Quick question about API documentation'\n",
            "==================================\u001b[1m Ai Message \u001b[0m==================================\n",
            "Tool Calls:\n",
            "  manage_memory (call_n4q8)\n",
            " Call ID: call_n4q8\n",
            "  Args:\n",
            "    action: create\n",
            "    content: Alice Jones from bar.com reached out about an urgent issue with the service being down.\n",
            "=================================\u001b[1m Tool Message \u001b[0m=================================\n",
            "Name: manage_memory\n",
            "\n",
            "created memory 3b9605de-13b7-4573-8e61-a443d2eba6e0\n",
            "==================================\u001b[1m Ai Message \u001b[0m==================================\n",
            "Tool Calls:\n",
            "  write_email (call_f1dp)\n",
            " Call ID: call_f1dp\n",
            "  Args:\n",
            "    to: dev.team@company.com\n",
            "    subject: Service Down - Urgent Attention Required\n",
            "    content: Hi Team, \n",
            "\n",
            "We have an urgent issue - our service is currently down. Please look into this and get back to me with an update as soon as possible. \n",
            "\n",
            "Best, \n",
            "Plaban Nayak\n",
            "=================================\u001b[1m Tool Message \u001b[0m=================================\n",
            "Name: write_email\n",
            "\n",
            "Email sent to dev.team@company.com with subject 'Service Down - Urgent Attention Required'\n",
            "==================================\u001b[1m Ai Message \u001b[0m==================================\n",
            "Tool Calls:\n",
            "  manage_memory (call_2zfd)\n",
            " Call ID: call_2zfd\n",
            "  Args:\n",
            "    action: create\n",
            "    content: Notified dev team about the service being down.\n",
            "=================================\u001b[1m Tool Message \u001b[0m=================================\n",
            "Name: manage_memory\n",
            "\n",
            "created memory 4c1b700d-0ebe-4222-9cfa-c56cc739f7b1\n",
            "==================================\u001b[1m Ai Message \u001b[0m==================================\n",
            "Tool Calls:\n",
            "  check_calendar_availability (call_tx9c)\n",
            " Call ID: call_tx9c\n",
            "  Args:\n",
            "    day: today\n",
            "=================================\u001b[1m Tool Message \u001b[0m=================================\n",
            "Name: check_calendar_availability\n",
            "\n",
            "Available times on today: 9:00 AM, 2:00 PM, 4:00 PM\n",
            "==================================\u001b[1m Ai Message \u001b[0m==================================\n",
            "Tool Calls:\n",
            "  schedule_meeting (call_p7v3)\n",
            " Call ID: call_p7v3\n",
            "  Args:\n",
            "    attendees: ['dev.team@company.com']\n",
            "    subject: Service Down Discussion\n",
            "    duration_minutes: 60\n",
            "    preferred_day: today\n",
            "=================================\u001b[1m Tool Message \u001b[0m=================================\n",
            "Name: schedule_meeting\n",
            "\n",
            "Meeting 'Service Down Discussion' scheduled for today with 1 attendees\n",
            "==================================\u001b[1m Ai Message \u001b[0m==================================\n",
            "Tool Calls:\n",
            "  write_email (call_64wx)\n",
            " Call ID: call_64wx\n",
            "  Args:\n",
            "    to: alice.jones@bar.com\n",
            "    subject: Re: Quick question about API documentation\n",
            "    content: Hi Alice, \n",
            "\n",
            "Just wanted to follow up on the service being down. We're currently investigating the issue and I'll get back to you with an update soon. \n",
            "\n",
            "Best, \n",
            "Plaban Nayak\n",
            "=================================\u001b[1m Tool Message \u001b[0m=================================\n",
            "Name: write_email\n",
            "\n",
            "Email sent to alice.jones@bar.com with subject 'Re: Quick question about API documentation'\n",
            "==================================\u001b[1m Ai Message \u001b[0m==================================\n",
            "Tool Calls:\n",
            "  manage_memory (call_w2a1)\n",
            " Call ID: call_w2a1\n",
            "  Args:\n",
            "    action: update\n",
            "    id: 3b9605de-13b7-4573-8e61-a443d2eba6e0\n",
            "    content: Investigating the service down issue reported by Alice Jones from bar.com.\n",
            "=================================\u001b[1m Tool Message \u001b[0m=================================\n",
            "Name: manage_memory\n",
            "\n",
            "updated memory 3b9605de-13b7-4573-8e61-a443d2eba6e0\n",
            "==================================\u001b[1m Ai Message \u001b[0m==================================\n",
            "Tool Calls:\n",
            "  manage_memory (call_4enf)\n",
            " Call ID: call_4enf\n",
            "  Args:\n",
            "    action: create\n",
            "    content: Followed up with Alice Jones about the service being down.\n",
            "=================================\u001b[1m Tool Message \u001b[0m=================================\n",
            "Name: manage_memory\n",
            "\n",
            "created memory fa92ee10-dd8a-486b-9cb4-3c35c2f24264\n",
            "==================================\u001b[1m Ai Message \u001b[0m==================================\n",
            "Tool Calls:\n",
            "  search_memory (call_s7k8)\n",
            " Call ID: call_s7k8\n",
            "  Args:\n",
            "    query: service down\n",
            "    limit: 10\n",
            "=================================\u001b[1m Tool Message \u001b[0m=================================\n",
            "Name: search_memory\n",
            "\n",
            "[{\"namespace\": [\"email_assistant\", \"Plaban\", \"collection\"], \"key\": \"4c1b700d-0ebe-4222-9cfa-c56cc739f7b1\", \"value\": {\"content\": \"Notified dev team about the service being down.\"}, \"created_at\": \"2025-03-22T13:16:39.804441+00:00\", \"updated_at\": \"2025-03-22T13:16:39.804448+00:00\", \"score\": 0.9049934631618353}, {\"namespace\": [\"email_assistant\", \"Plaban\", \"collection\"], \"key\": \"567d9400-d17b-495b-9da6-7fad26bd631b\", \"value\": {\"content\": \"Urgent issue: service is down. Need to investigate and get back to Alice Jones - meeting scheduled for today.\"}, \"created_at\": \"2025-03-22T13:02:55.239699+00:00\", \"updated_at\": \"2025-03-22T13:02:55.239706+00:00\", \"score\": 0.8996743795426038}, {\"namespace\": [\"email_assistant\", \"Plaban\", \"collection\"], \"key\": \"991d9f2a-852a-4262-958d-a672eb0455c7\", \"value\": {\"content\": \"Urgent issue with John Doe's service being down\"}, \"created_at\": \"2025-03-22T13:07:12.111179+00:00\", \"updated_at\": \"2025-03-22T13:07:12.111186+00:00\", \"score\": 0.8969359015062597}, {\"namespace\": [\"email_assistant\", \"Plaban\", \"collection\"], \"key\": \"fa92ee10-dd8a-486b-9cb4-3c35c2f24264\", \"value\": {\"content\": \"Followed up with Alice Jones about the service being down.\"}, \"created_at\": \"2025-03-22T13:16:53.194690+00:00\", \"updated_at\": \"2025-03-22T13:16:53.194695+00:00\", \"score\": 0.8946786919837046}, {\"namespace\": [\"email_assistant\", \"Plaban\", \"collection\"], \"key\": \"6750ce0b-1407-48b8-917f-f3046d3bd5de\", \"value\": {\"content\": \"Alice Jones: alice.jones@bar.com, reported urgent issue with service being down - meeting scheduled for today.\"}, \"created_at\": \"2025-03-22T13:02:54.451615+00:00\", \"updated_at\": \"2025-03-22T13:02:54.451622+00:00\", \"score\": 0.8935506392916787}, {\"namespace\": [\"email_assistant\", \"Plaban\", \"collection\"], \"key\": \"3b9605de-13b7-4573-8e61-a443d2eba6e0\", \"value\": {\"content\": \"Investigating the service down issue reported by Alice Jones from bar.com.\"}, \"created_at\": \"2025-03-22T13:16:52.496635+00:00\", \"updated_at\": \"2025-03-22T13:16:52.496641+00:00\", \"score\": 0.8876080529253129}, {\"namespace\": [\"email_assistant\", \"Plaban\", \"collection\"], \"key\": \"fc6cecf6-d266-4ecb-aa49-7ef92ed49834\", \"value\": {\"content\": \"Alice Jones from Bar.com contacted Plaban regarding urgent issue with service being down.\"}, \"created_at\": \"2025-03-22T13:08:01.510731+00:00\", \"updated_at\": \"2025-03-22T13:08:01.510737+00:00\", \"score\": 0.8807318085615965}, {\"namespace\": [\"email_assistant\", \"Plaban\", \"collection\"], \"key\": \"c725f7e5-0e3e-4a63-9b4c-945fcb1f0c97\", \"value\": {\"content\": \"Follow up with Plaban on urgent issue reported by Alice Jones - meeting scheduled for today.\"}, \"created_at\": \"2025-03-22T13:02:35.356561+00:00\", \"updated_at\": \"2025-03-22T13:02:35.356568+00:00\", \"score\": 0.8338445419678701}, {\"namespace\": [\"email_assistant\", \"Plaban\", \"collection\"], \"key\": \"da9f9242-e3b1-4de6-86eb-bdc180237b89\", \"value\": {\"content\": \"Email thread mix-up between Alice Jones and John Doe\"}, \"created_at\": \"2025-03-22T13:07:11.440381+00:00\", \"updated_at\": \"2025-03-22T13:07:11.440386+00:00\", \"score\": 0.8185530436387874}, {\"namespace\": [\"email_assistant\", \"Plaban\", \"collection\"], \"key\": \"7e149eca-5cad-4eec-b15f-878597a09b39\", \"value\": {\"content\": \"Alice Jones' question about API documentation\"}, \"created_at\": \"2025-03-22T13:07:12.757896+00:00\", \"updated_at\": \"2025-03-22T13:07:12.757902+00:00\", \"score\": 0.7965957309412914}]\n",
            "==================================\u001b[1m Ai Message \u001b[0m==================================\n",
            "\n",
            "The search results show that there are several memories related to the service being down, including notifications to the dev team, meetings scheduled, and follow-ups with Alice Jones. The most relevant memories are:\n",
            "\n",
            "* \"Investigating the service down issue reported by Alice Jones from bar.com.\" (score: 0.8876080529253129)\n",
            "* \"Notified dev team about the service being down.\" (score: 0.9049934631618353)\n",
            "* \"Followed up with Alice Jones about the service being down.\" (score: 0.8946786919837046)\n",
            "\n",
            "These memories suggest that the service being down is a current and ongoing issue that is being investigated and addressed by the dev team and Plaban.\n"
          ]
        }
      ]
    },
    {
      "cell_type": "markdown",
      "source": [
        "### Follow up email"
      ],
      "metadata": {
        "id": "IYrW9ubsC3zT"
      }
    },
    {
      "cell_type": "code",
      "source": [
        "email_input = {\n",
        "    \"author\": \"Alice Jones <alice.jones@bar.com>\",\n",
        "    \"to\": \"Plaban Nayak <plaban.nayak@company.com>\",\n",
        "    \"subject\": \"Quick question about API documentation\",\n",
        "    \"email_thread\": \"\"\"Hi Plaban,\n",
        "\n",
        "Urgent issue - your service is down. Is there a reason why\"\"\",\n",
        "}"
      ],
      "metadata": {
        "id": "iWXXZB-3Adwy"
      },
      "execution_count": 153,
      "outputs": []
    },
    {
      "cell_type": "code",
      "source": [
        "response = email_agent_workflow.invoke(\n",
        "    {\"email_input\": email_input},\n",
        "    config=config\n",
        ")"
      ],
      "metadata": {
        "colab": {
          "base_uri": "https://localhost:8080/"
        },
        "id": "iPueM7hADDbU",
        "outputId": "415b244b-01da-4073-c3e6-be49304d9b53"
      },
      "execution_count": 156,
      "outputs": [
        {
          "output_type": "stream",
          "name": "stdout",
          "text": [
            "📧 Classification: RESPOND - This email requires a response\n"
          ]
        }
      ]
    },
    {
      "cell_type": "code",
      "source": [
        "for m in response[\"messages\"]:\n",
        "    m.pretty_print()"
      ],
      "metadata": {
        "colab": {
          "base_uri": "https://localhost:8080/"
        },
        "id": "Y3cmrqAtDGD8",
        "outputId": "64e94f26-d566-4196-8b75-be3c01e0d8d7"
      },
      "execution_count": 157,
      "outputs": [
        {
          "output_type": "stream",
          "name": "stdout",
          "text": [
            "================================\u001b[1m Human Message \u001b[0m=================================\n",
            "\n",
            "Respond to the email {'author': 'Alice Jones <alice.jones@bar.com>', 'to': 'Plaban Nayak <plaban.nayak@company.com>', 'subject': 'Quick question about API documentation', 'email_thread': 'Hi Plaban,\\n\\nUrgent issue - your service is down. Is there a reason why'}\n",
            "==================================\u001b[1m Ai Message \u001b[0m==================================\n",
            "Tool Calls:\n",
            "  write_email (call_4b5b)\n",
            " Call ID: call_4b5b\n",
            "  Args:\n",
            "    to: alice.jones@bar.com\n",
            "    subject: Re: Quick question about API documentation\n",
            "    content: Hi Alice, \n",
            "\n",
            "Thanks for reaching out. I'm looking into the issue with our service being down. Can you please provide more details about the error you're experiencing? I'll get back to you as soon as possible. \n",
            "\n",
            "Best, Plaban\n",
            "=================================\u001b[1m Tool Message \u001b[0m=================================\n",
            "Name: write_email\n",
            "\n",
            "Email sent to alice.jones@bar.com with subject 'Re: Quick question about API documentation'\n",
            "==================================\u001b[1m Ai Message \u001b[0m==================================\n",
            "\n",
            "<function=manage_memory {\"action\": \"create\", \"content\": \"Alice Jones from Bar.com reached out about an urgent issue with our service being down.\"}</function>\n"
          ]
        }
      ]
    },
    {
      "cell_type": "markdown",
      "source": [
        "### Update Feedback to ignore mails from Alice"
      ],
      "metadata": {
        "id": "qQc-XolYEpgM"
      }
    },
    {
      "cell_type": "code",
      "source": [
        "conversations = [\n",
        "    (\n",
        "        response['messages'],\n",
        "        \"Always Ignore any emails from Alice Jones\"\n",
        "    )\n",
        "]"
      ],
      "metadata": {
        "id": "TzaLFQCaEtyc"
      },
      "execution_count": 215,
      "outputs": []
    },
    {
      "cell_type": "markdown",
      "source": [
        "### Define List of prompts beacuse the old list of prompts has been outdated for the main agent"
      ],
      "metadata": {
        "id": "3bqk9YGKKkBk"
      }
    },
    {
      "cell_type": "code",
      "source": [
        "prompts = [\n",
        "    {\n",
        "        \"name\": \"main_agent\",\n",
        "        \"prompt\": store.get((\"Plaban\",), \"agent_instructions\").value['prompt'],\n",
        "        \"update_instructions\": \"keep the instructions short and to the point\",\n",
        "        \"when_to_update\": \"Update this prompt whenever there is feedback on how the agent should write emails or schedule events\"\n",
        "\n",
        "    },\n",
        "    {\n",
        "        \"name\": \"triage-ignore\",\n",
        "        \"prompt\": store.get((\"Plaban\",), \"triage_ignore\").value['prompt'],\n",
        "        \"update_instructions\": \"keep the instructions short and to the point\",\n",
        "        \"when_to_update\": \"Update this prompt whenever there is feedback on which emails should be ignored\"\n",
        "\n",
        "    },\n",
        "    {\n",
        "        \"name\": \"triage-notify\",\n",
        "        \"prompt\": store.get((\"Plaban\",), \"triage_notify\").value['prompt'],\n",
        "        \"update_instructions\": \"keep the instructions short and to the point\",\n",
        "        \"when_to_update\": \"Update this prompt whenever there is feedback on which emails the user should be notified of\"\n",
        "\n",
        "    },\n",
        "    {\n",
        "        \"name\": \"triage-respond\",\n",
        "        \"prompt\": store.get((\"Plaban\",), \"triage_respond\").value['prompt'],\n",
        "        \"update_instructions\": \"keep the instructions short and to the point\",\n",
        "        \"when_to_update\": \"Update this prompt whenever there is feedback on which emails should be responded to\"\n",
        "\n",
        "    },\n",
        "]"
      ],
      "metadata": {
        "id": "weX_VFR_ExeF"
      },
      "execution_count": 216,
      "outputs": []
    },
    {
      "cell_type": "code",
      "source": [
        "updated = optimizer.invoke(\n",
        "    {\"trajectories\": conversations, \"prompts\": prompts}\n",
        ")"
      ],
      "metadata": {
        "id": "6Emd_AwrULHF"
      },
      "execution_count": 219,
      "outputs": []
    },
    {
      "cell_type": "code",
      "source": [
        "store.get((\"Plaban\",), \"triage_ignore\").value['prompt']"
      ],
      "metadata": {
        "colab": {
          "base_uri": "https://localhost:8080/",
          "height": 35
        },
        "id": "yuqubGABUOYF",
        "outputId": "5b112a4e-1bb9-41bb-aedc-a54c026d9645"
      },
      "execution_count": 220,
      "outputs": [
        {
          "output_type": "execute_result",
          "data": {
            "text/plain": [
              "'Marketing newsletters, spam emails, mass company announcements'"
            ],
            "application/vnd.google.colaboratory.intrinsic+json": {
              "type": "string"
            }
          },
          "metadata": {},
          "execution_count": 220
        }
      ]
    },
    {
      "cell_type": "markdown",
      "source": [
        "### Update the prompts in long term memory"
      ],
      "metadata": {
        "id": "OjzBgAjMRswF"
      }
    },
    {
      "cell_type": "code",
      "source": [
        "for i, updated_prompt in enumerate(updated):\n",
        "    old_prompt = prompts[i]\n",
        "    if updated_prompt['prompt'] != old_prompt['prompt']:\n",
        "        name = old_prompt['name']\n",
        "        print(f\"updated {name}\")\n",
        "        if name == \"main_agent\":\n",
        "            store.put(\n",
        "                (\"Plaban\",),\n",
        "                \"agent_instructions\",\n",
        "                {\"prompt\":updated_prompt['prompt']}\n",
        "            )\n",
        "        if name == \"triage-ignore\":\n",
        "            store.put(\n",
        "                (\"Plaban\",),\n",
        "                \"triage_ignore\",\n",
        "                {\"prompt\":updated_prompt['prompt']}\n",
        "            )\n",
        "        else:\n",
        "            #raise ValueError\n",
        "            print(f\"Encountered {name}, implement the remaining stores!\")"
      ],
      "metadata": {
        "colab": {
          "base_uri": "https://localhost:8080/"
        },
        "id": "jaMerdt_E-rz",
        "outputId": "222e190a-7ca1-44b5-c133-3cc46ca4679a"
      },
      "execution_count": 221,
      "outputs": [
        {
          "output_type": "stream",
          "name": "stdout",
          "text": [
            "updated main_agent\n",
            "Encountered main_agent, implement the remaining stores!\n",
            "updated triage-ignore\n"
          ]
        }
      ]
    },
    {
      "cell_type": "code",
      "source": [
        "store.get((\"Plaban\",), \"triage_ignore\").value['prompt']"
      ],
      "metadata": {
        "colab": {
          "base_uri": "https://localhost:8080/",
          "height": 35
        },
        "id": "A8ZRM1AyWUQF",
        "outputId": "27dedf2e-b738-4aa8-80f3-1b7d202d35db"
      },
      "execution_count": 222,
      "outputs": [
        {
          "output_type": "execute_result",
          "data": {
            "text/plain": [
              "'<updated_prompt>\\nMarketing newsletters, spam emails, mass company announcements\\n\\nAdditionally, always ignore any emails from Alice Jones.\\n</updated_prompt>'"
            ],
            "application/vnd.google.colaboratory.intrinsic+json": {
              "type": "string"
            }
          },
          "metadata": {},
          "execution_count": 222
        }
      ]
    },
    {
      "cell_type": "code",
      "source": [
        "email_input = {\n",
        "    \"author\": \"Alice Jones <alice.jones@bar.com>\",\n",
        "    \"to\": \"Plaban Nayak <plaban.nayak@company.com>\",\n",
        "    \"subject\": \"Quick question about API documentation\",\n",
        "    \"email_thread\": \"\"\"Hi Plaban,\n",
        "\n",
        "Any Updates\"\"\",\n",
        "}"
      ],
      "metadata": {
        "id": "_Kg5RDFASu7k"
      },
      "execution_count": 223,
      "outputs": []
    },
    {
      "cell_type": "markdown",
      "source": [
        "### Invoke Optimizer Agent"
      ],
      "metadata": {
        "id": "dD2Rq7j9RjJm"
      }
    },
    {
      "cell_type": "code",
      "source": [
        "response = email_agent_workflow.invoke(\n",
        "    {\"email_input\": email_input},\n",
        "    config=config\n",
        ")"
      ],
      "metadata": {
        "colab": {
          "base_uri": "https://localhost:8080/"
        },
        "id": "sJN1jHf9FMic",
        "outputId": "8e9ca4fc-8786-4bdf-8461-10091ee12347"
      },
      "execution_count": 224,
      "outputs": [
        {
          "output_type": "stream",
          "name": "stdout",
          "text": [
            "🚫 Classification: IGNORE - This email can be safely ignored\n"
          ]
        }
      ]
    },
    {
      "cell_type": "code",
      "source": [
        "for m in response[\"messages\"]:\n",
        "    m.pretty_print()"
      ],
      "metadata": {
        "id": "lccBupEoFWFE"
      },
      "execution_count": 225,
      "outputs": []
    },
    {
      "cell_type": "code",
      "source": [
        "store.get((\"Plaban\",), \"triage_ignore\").value['prompt']"
      ],
      "metadata": {
        "colab": {
          "base_uri": "https://localhost:8080/",
          "height": 35
        },
        "id": "n6okOaTYFPRc",
        "outputId": "e8db3630-b74e-4f48-d30e-7a870f16a75a"
      },
      "execution_count": 226,
      "outputs": [
        {
          "output_type": "execute_result",
          "data": {
            "text/plain": [
              "'<updated_prompt>\\nMarketing newsletters, spam emails, mass company announcements\\n\\nAdditionally, always ignore any emails from Alice Jones.\\n</updated_prompt>'"
            ],
            "application/vnd.google.colaboratory.intrinsic+json": {
              "type": "string"
            }
          },
          "metadata": {},
          "execution_count": 226
        }
      ]
    },
    {
      "cell_type": "code",
      "source": [
        "store.get((\"Plaban\",), \"triage_respond\").value['prompt']"
      ],
      "metadata": {
        "colab": {
          "base_uri": "https://localhost:8080/",
          "height": 35
        },
        "id": "JNrvLmGKHaKD",
        "outputId": "198f64a5-cce1-44c4-d18b-0e3ee2d08a9e"
      },
      "execution_count": 177,
      "outputs": [
        {
          "output_type": "execute_result",
          "data": {
            "text/plain": [
              "'Direct questions from team members, meeting requests, critical bug reports'"
            ],
            "application/vnd.google.colaboratory.intrinsic+json": {
              "type": "string"
            }
          },
          "metadata": {},
          "execution_count": 177
        }
      ]
    },
    {
      "cell_type": "code",
      "source": [
        "email_input = {\n",
        "    \"author\": \"Alice Jones <alice.jones@bar.com>\",\n",
        "    \"to\": \"Plaban Nayak <plaban.nayak@company.com>\",\n",
        "    \"subject\": \"Quick question about API documentation\",\n",
        "    \"email_thread\": \"\"\"Hi Plaban,\n",
        "\n",
        "I encounter a 404 error whenever I try to acces the endpoint supplied by your team.\"\"\",\n",
        "}"
      ],
      "metadata": {
        "id": "oMCjDWtFGqL6"
      },
      "execution_count": 227,
      "outputs": []
    },
    {
      "cell_type": "code",
      "source": [
        "response = email_agent_workflow.invoke(\n",
        "    {\"email_input\": email_input},\n",
        "    config=config\n",
        ")"
      ],
      "metadata": {
        "colab": {
          "base_uri": "https://localhost:8080/"
        },
        "id": "2aDHBTBlG72r",
        "outputId": "0f1ddc68-0056-4d96-be93-04f38d02fff1"
      },
      "execution_count": 228,
      "outputs": [
        {
          "output_type": "stream",
          "name": "stdout",
          "text": [
            "🚫 Classification: IGNORE - This email can be safely ignored\n"
          ]
        }
      ]
    },
    {
      "cell_type": "code",
      "source": [
        "for m in response[\"messages\"]:\n",
        "    m.pretty_print()"
      ],
      "metadata": {
        "id": "KlUPPYNMG-OS"
      },
      "execution_count": 229,
      "outputs": []
    }
  ]
}