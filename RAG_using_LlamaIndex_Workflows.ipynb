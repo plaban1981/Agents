{
  "nbformat": 4,
  "nbformat_minor": 0,
  "metadata": {
    "colab": {
      "provenance": [],
      "authorship_tag": "ABX9TyMo5bNf0fLHMxYFkeeFPVrt",
      "include_colab_link": true
    },
    "kernelspec": {
      "name": "python3",
      "display_name": "Python 3"
    },
    "language_info": {
      "name": "python"
    }
  },
  "cells": [
    {
      "cell_type": "markdown",
      "metadata": {
        "id": "view-in-github",
        "colab_type": "text"
      },
      "source": [
        "<a href=\"https://colab.research.google.com/github/plaban1981/Agents/blob/main/RAG_using_LlamaIndex_Workflows.ipynb\" target=\"_parent\"><img src=\"https://colab.research.google.com/assets/colab-badge.svg\" alt=\"Open In Colab\"/></a>"
      ]
    },
    {
      "cell_type": "markdown",
      "source": [
        "## Install required Dependencies"
      ],
      "metadata": {
        "id": "WsyJkwNp7hHs"
      }
    },
    {
      "cell_type": "code",
      "execution_count": 77,
      "metadata": {
        "id": "dOFPXA6v6EOW"
      },
      "outputs": [],
      "source": [
        "%pip install -qU llama-index llama-index-llms-groq llama-index-readers-web pyvis"
      ]
    },
    {
      "cell_type": "code",
      "source": [
        "import llama_index\n",
        "\n",
        "print(llama_index.core.__version__)\n"
      ],
      "metadata": {
        "colab": {
          "base_uri": "https://localhost:8080/"
        },
        "id": "NgFBgOJ8NFJQ",
        "outputId": "2acd2277-3cff-48b7-8449-e68cc97a9c4d"
      },
      "execution_count": 75,
      "outputs": [
        {
          "output_type": "stream",
          "name": "stdout",
          "text": [
            "0.11.8\n"
          ]
        }
      ]
    },
    {
      "cell_type": "code",
      "source": [
        "!python\n"
      ],
      "metadata": {
        "colab": {
          "base_uri": "https://localhost:8080/"
        },
        "id": "kkri4nSrMZda",
        "outputId": "2731122a-21d4-4b5c-91d9-442b9fbe6d91"
      },
      "execution_count": 134,
      "outputs": [
        {
          "output_type": "stream",
          "name": "stdout",
          "text": [
            "Python 3.10.12 (main, Jul 29 2024, 16:56:48) [GCC 11.4.0] on linux\n",
            "Type \"help\", \"copyright\", \"credits\" or \"license\" for more information.\n",
            ">>> exit()\n"
          ]
        }
      ]
    },
    {
      "cell_type": "code",
      "source": [
        "%pip install -qU llama-index-embeddings-huggingface\n",
        "%pip install -qU llama-index-embeddings-instructor"
      ],
      "metadata": {
        "id": "hLW4q2528v7G"
      },
      "execution_count": 78,
      "outputs": []
    },
    {
      "cell_type": "markdown",
      "source": [
        "## Set up Groq API"
      ],
      "metadata": {
        "id": "ZdDlWfr88SXD"
      }
    },
    {
      "cell_type": "code",
      "source": [
        "from google.colab import userdata\n",
        "import os\n",
        "#\n",
        "os.environ[\"GROQ_API_KEY\"] = userdata.get('GROQ_API_KEY')"
      ],
      "metadata": {
        "id": "kAbMaFB47mef"
      },
      "execution_count": 79,
      "outputs": []
    },
    {
      "cell_type": "code",
      "source": [
        "os.environ[\"GROQ_API_KEY\"]"
      ],
      "metadata": {
        "colab": {
          "base_uri": "https://localhost:8080/",
          "height": 35
        },
        "id": "upgMfdvV7ia4",
        "outputId": "e345cf2b-bb7d-4536-bf70-38a5f19ff8d9"
      },
      "execution_count": 124,
      "outputs": [
        {
          "output_type": "execute_result",
          "data": {
            "text/plain": [
              "'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'"
            ],
            "application/vnd.google.colaboratory.intrinsic+json": {
              "type": "string"
            }
          },
          "metadata": {},
          "execution_count": 124
        }
      ]
    },
    {
      "cell_type": "markdown",
      "source": [
        "## Setup Embedding Model"
      ],
      "metadata": {
        "id": "Odel5h5J86vw"
      }
    },
    {
      "cell_type": "code",
      "source": [
        "from llama_index.embeddings.huggingface import HuggingFaceEmbedding\n",
        "\n",
        "# loads BAAI/bge-small-en-v1.5\n",
        "embed_model = HuggingFaceEmbedding(model_name=\"BAAI/bge-small-en-v1.5\")"
      ],
      "metadata": {
        "id": "5tqb7Qd78a_o"
      },
      "execution_count": 80,
      "outputs": []
    },
    {
      "cell_type": "markdown",
      "source": [
        "## setup llm"
      ],
      "metadata": {
        "id": "hFsZ-dHp-zcU"
      }
    },
    {
      "cell_type": "code",
      "source": [
        "from llama_index.llms.groq import Groq\n",
        "llm = Groq(model=\"llama3-70b-8192\")\n",
        "llm.complete(\"What is the capital of France?\")"
      ],
      "metadata": {
        "colab": {
          "base_uri": "https://localhost:8080/"
        },
        "id": "b-QpDYYO_hwr",
        "outputId": "e0341586-3068-4f62-8d0d-f44dbb3be691"
      },
      "execution_count": 5,
      "outputs": [
        {
          "output_type": "execute_result",
          "data": {
            "text/plain": [
              "CompletionResponse(text='The capital of France is Paris!', additional_kwargs={}, raw=ChatCompletion(id='chatcmpl-5a23db00-a4dc-4d04-baf0-59d55db7ee1d', choices=[Choice(finish_reason='stop', index=0, logprobs=None, message=ChatCompletionMessage(content='The capital of France is Paris!', refusal=None, role='assistant', function_call=None, tool_calls=None))], created=1725935013, model='llama3-70b-8192', object='chat.completion', service_tier=None, system_fingerprint='fp_c1a4bcec29', usage=CompletionUsage(completion_tokens=8, prompt_tokens=17, total_tokens=25, queue_time=0.013888734000000002, prompt_time=0.000441246, completion_time=0.025723569, total_time=0.026164815), x_groq={'id': 'req_01j7cvwm28edhscnwg6vbyg9b2'}), logprobs=None, delta=None)"
            ]
          },
          "metadata": {},
          "execution_count": 5
        }
      ]
    },
    {
      "cell_type": "markdown",
      "source": [
        "## Import Required Dependencies"
      ],
      "metadata": {
        "id": "MKAPMuMI_22g"
      }
    },
    {
      "cell_type": "code",
      "source": [
        "from llama_index.core.workflow import (Event,StartEvent,StopEvent,Workflow,step,Context)\n",
        "from llama_index.core import VectorStoreIndex\n",
        "from llama_index.core.schema import NodeWithScore\n",
        "from llama_index.core.response_synthesizers import CompactAndRefine\n",
        "from llama_index.readers.web import SimpleWebPageReader\n",
        "from llama_index.core import SimpleDirectoryReader"
      ],
      "metadata": {
        "id": "F4WSmsLS_wqM"
      },
      "execution_count": 6,
      "outputs": []
    },
    {
      "cell_type": "markdown",
      "source": [
        "## Download Data"
      ],
      "metadata": {
        "id": "SLjETJ-VSpDN"
      }
    },
    {
      "cell_type": "code",
      "source": [
        "mkdir Data"
      ],
      "metadata": {
        "id": "ziXh4vIwSq_T"
      },
      "execution_count": 7,
      "outputs": []
    },
    {
      "cell_type": "code",
      "source": [
        "!wget https://www.binasss.sa.cr/int23/8.pdf -O Data/fibromyalgia.pdf"
      ],
      "metadata": {
        "colab": {
          "base_uri": "https://localhost:8080/"
        },
        "id": "i326uTHZStX_",
        "outputId": "eb5cc828-f776-4af9-d273-c9c7524f5cc9"
      },
      "execution_count": 8,
      "outputs": [
        {
          "output_type": "stream",
          "name": "stdout",
          "text": [
            "--2024-09-10 02:23:34--  https://www.binasss.sa.cr/int23/8.pdf\n",
            "Resolving www.binasss.sa.cr (www.binasss.sa.cr)... 196.40.24.242\n",
            "Connecting to www.binasss.sa.cr (www.binasss.sa.cr)|196.40.24.242|:443... connected.\n",
            "HTTP request sent, awaiting response... 200 OK\n",
            "Length: 632664 (618K) [application/pdf]\n",
            "Saving to: ‘Data/fibromyalgia.pdf’\n",
            "\n",
            "Data/fibromyalgia.p 100%[===================>] 617.84K  1.91MB/s    in 0.3s    \n",
            "\n",
            "2024-09-10 02:23:35 (1.91 MB/s) - ‘Data/fibromyalgia.pdf’ saved [632664/632664]\n",
            "\n"
          ]
        }
      ]
    },
    {
      "cell_type": "markdown",
      "source": [
        "## Create Retriever Event"
      ],
      "metadata": {
        "id": "Sbb14tdBCNBv"
      }
    },
    {
      "cell_type": "code",
      "source": [
        "class RetrieverEvent(Event):\n",
        "  nodes: list[NodeWithScore]"
      ],
      "metadata": {
        "id": "o1NUv1jdASG3"
      },
      "execution_count": 81,
      "outputs": []
    },
    {
      "cell_type": "code",
      "source": [
        "class IndexEvent(Event):\n",
        "  index: VectorStoreIndex"
      ],
      "metadata": {
        "id": "zKD8gO1u8p5A"
      },
      "execution_count": 82,
      "outputs": []
    },
    {
      "cell_type": "markdown",
      "source": [
        "## Construct Workflow and Step"
      ],
      "metadata": {
        "id": "pOMqW-71CmBX"
      }
    },
    {
      "cell_type": "code",
      "source": [
        "class RAGWorkflow(Workflow):\n",
        "  @step()\n",
        "  async def ingest(self,ctx:Context,ev:StartEvent)->StopEvent | None:\n",
        "    print(\"Ingesting documents...\")\n",
        "    \"Entry point to ingest a documents trigerred by a StartEvent with `dirname`\"\n",
        "    dirname = ev.get(\"dirname\")\n",
        "    if not dirname:\n",
        "      return None\n",
        "    # loads BAAI/bge-small-en-v1.5\n",
        "    embed_model = HuggingFaceEmbedding(model_name=\"BAAI/bge-small-en-v1.5\")\n",
        "    documents = SimpleDirectoryReader(input_dir=\"Data/\").load_data()\n",
        "    index = VectorStoreIndex.from_documents(documents=documents,\n",
        "                                            embed_model=embed_model)\n",
        "    print(f\"Indexed {len(documents)} documents.\")\n",
        "\n",
        "    return StopEvent(result=index)"
      ],
      "metadata": {
        "id": "5yqQm7MU3hBN"
      },
      "execution_count": 21,
      "outputs": []
    },
    {
      "cell_type": "code",
      "source": [
        "w = RAGWorkflow(timeout=10, verbose=False)\n",
        "result = await w.run(dirname=\"Data\")\n",
        "print(result)"
      ],
      "metadata": {
        "colab": {
          "base_uri": "https://localhost:8080/"
        },
        "id": "KnIc7tzB3oHo",
        "outputId": "3556b51b-56bb-4b77-c610-7da9e3147a88"
      },
      "execution_count": 22,
      "outputs": [
        {
          "output_type": "stream",
          "name": "stdout",
          "text": [
            "Ingesting documents...\n",
            "Indexed 8 documents.\n",
            "<llama_index.core.indices.vector_store.base.VectorStoreIndex object at 0x7ab005a38580>\n"
          ]
        }
      ]
    },
    {
      "cell_type": "code",
      "source": [
        "%pip install chromadb"
      ],
      "metadata": {
        "colab": {
          "base_uri": "https://localhost:8080/"
        },
        "id": "pFv9mLE18Olj",
        "outputId": "a000a974-bdb3-4326-b532-ec32354abc41"
      },
      "execution_count": null,
      "outputs": [
        {
          "output_type": "stream",
          "name": "stdout",
          "text": [
            "Collecting chromadb\n",
            "  Downloading chromadb-0.5.5-py3-none-any.whl.metadata (6.8 kB)\n",
            "Requirement already satisfied: build>=1.0.3 in /usr/local/lib/python3.10/dist-packages (from chromadb) (1.2.1)\n",
            "Requirement already satisfied: pydantic>=1.9 in /usr/local/lib/python3.10/dist-packages (from chromadb) (2.8.2)\n",
            "Collecting chroma-hnswlib==0.7.6 (from chromadb)\n",
            "  Downloading chroma_hnswlib-0.7.6-cp310-cp310-manylinux_2_17_x86_64.manylinux2014_x86_64.whl.metadata (252 bytes)\n",
            "Collecting fastapi>=0.95.2 (from chromadb)\n",
            "  Downloading fastapi-0.114.0-py3-none-any.whl.metadata (27 kB)\n",
            "Collecting uvicorn>=0.18.3 (from uvicorn[standard]>=0.18.3->chromadb)\n",
            "  Downloading uvicorn-0.30.6-py3-none-any.whl.metadata (6.6 kB)\n",
            "Requirement already satisfied: numpy<2.0.0,>=1.22.5 in /usr/local/lib/python3.10/dist-packages (from chromadb) (1.26.4)\n",
            "Collecting posthog>=2.4.0 (from chromadb)\n",
            "  Downloading posthog-3.6.3-py2.py3-none-any.whl.metadata (2.0 kB)\n",
            "Requirement already satisfied: typing-extensions>=4.5.0 in /usr/local/lib/python3.10/dist-packages (from chromadb) (4.12.2)\n",
            "Collecting onnxruntime>=1.14.1 (from chromadb)\n",
            "  Downloading onnxruntime-1.19.2-cp310-cp310-manylinux_2_27_x86_64.manylinux_2_28_x86_64.whl.metadata (4.5 kB)\n",
            "Collecting opentelemetry-api>=1.2.0 (from chromadb)\n",
            "  Downloading opentelemetry_api-1.27.0-py3-none-any.whl.metadata (1.4 kB)\n",
            "Collecting opentelemetry-exporter-otlp-proto-grpc>=1.2.0 (from chromadb)\n",
            "  Downloading opentelemetry_exporter_otlp_proto_grpc-1.27.0-py3-none-any.whl.metadata (2.3 kB)\n",
            "Collecting opentelemetry-instrumentation-fastapi>=0.41b0 (from chromadb)\n",
            "  Downloading opentelemetry_instrumentation_fastapi-0.48b0-py3-none-any.whl.metadata (2.1 kB)\n",
            "Collecting opentelemetry-sdk>=1.2.0 (from chromadb)\n",
            "  Downloading opentelemetry_sdk-1.27.0-py3-none-any.whl.metadata (1.5 kB)\n",
            "Requirement already satisfied: tokenizers>=0.13.2 in /usr/local/lib/python3.10/dist-packages (from chromadb) (0.19.1)\n",
            "Collecting pypika>=0.48.9 (from chromadb)\n",
            "  Downloading PyPika-0.48.9.tar.gz (67 kB)\n",
            "\u001b[2K     \u001b[90m━━━━━━━━━━━━━━━━━━━━━━━━━━━━━━━━━━━━━━━━\u001b[0m \u001b[32m67.3/67.3 kB\u001b[0m \u001b[31m4.5 MB/s\u001b[0m eta \u001b[36m0:00:00\u001b[0m\n",
            "\u001b[?25h  Installing build dependencies ... \u001b[?25l\u001b[?25hdone\n",
            "  Getting requirements to build wheel ... \u001b[?25l\u001b[?25hdone\n",
            "  Preparing metadata (pyproject.toml) ... \u001b[?25l\u001b[?25hdone\n",
            "Requirement already satisfied: tqdm>=4.65.0 in /usr/local/lib/python3.10/dist-packages (from chromadb) (4.66.5)\n",
            "Collecting overrides>=7.3.1 (from chromadb)\n",
            "  Downloading overrides-7.7.0-py3-none-any.whl.metadata (5.8 kB)\n",
            "Requirement already satisfied: importlib-resources in /usr/local/lib/python3.10/dist-packages (from chromadb) (6.4.4)\n",
            "Requirement already satisfied: grpcio>=1.58.0 in /usr/local/lib/python3.10/dist-packages (from chromadb) (1.64.1)\n",
            "Collecting bcrypt>=4.0.1 (from chromadb)\n",
            "  Downloading bcrypt-4.2.0-cp39-abi3-manylinux_2_28_x86_64.whl.metadata (9.6 kB)\n",
            "Requirement already satisfied: typer>=0.9.0 in /usr/local/lib/python3.10/dist-packages (from chromadb) (0.12.5)\n",
            "Collecting kubernetes>=28.1.0 (from chromadb)\n",
            "  Downloading kubernetes-30.1.0-py2.py3-none-any.whl.metadata (1.5 kB)\n",
            "Requirement already satisfied: tenacity>=8.2.3 in /usr/local/lib/python3.10/dist-packages (from chromadb) (8.5.0)\n",
            "Requirement already satisfied: PyYAML>=6.0.0 in /usr/local/lib/python3.10/dist-packages (from chromadb) (6.0.2)\n",
            "Collecting mmh3>=4.0.1 (from chromadb)\n",
            "  Downloading mmh3-4.1.0-cp310-cp310-manylinux_2_5_x86_64.manylinux1_x86_64.manylinux_2_17_x86_64.manylinux2014_x86_64.whl.metadata (13 kB)\n",
            "Collecting orjson>=3.9.12 (from chromadb)\n",
            "  Downloading orjson-3.10.7-cp310-cp310-manylinux_2_17_x86_64.manylinux2014_x86_64.whl.metadata (50 kB)\n",
            "\u001b[2K     \u001b[90m━━━━━━━━━━━━━━━━━━━━━━━━━━━━━━━━━━━━━━━━\u001b[0m \u001b[32m50.4/50.4 kB\u001b[0m \u001b[31m2.6 MB/s\u001b[0m eta \u001b[36m0:00:00\u001b[0m\n",
            "\u001b[?25hRequirement already satisfied: httpx>=0.27.0 in /usr/local/lib/python3.10/dist-packages (from chromadb) (0.27.2)\n",
            "Requirement already satisfied: packaging>=19.1 in /usr/local/lib/python3.10/dist-packages (from build>=1.0.3->chromadb) (24.1)\n",
            "Requirement already satisfied: pyproject_hooks in /usr/local/lib/python3.10/dist-packages (from build>=1.0.3->chromadb) (1.1.0)\n",
            "Requirement already satisfied: tomli>=1.1.0 in /usr/local/lib/python3.10/dist-packages (from build>=1.0.3->chromadb) (2.0.1)\n",
            "Collecting starlette<0.39.0,>=0.37.2 (from fastapi>=0.95.2->chromadb)\n",
            "  Downloading starlette-0.38.5-py3-none-any.whl.metadata (6.0 kB)\n",
            "Requirement already satisfied: anyio in /usr/local/lib/python3.10/dist-packages (from httpx>=0.27.0->chromadb) (3.7.1)\n",
            "Requirement already satisfied: certifi in /usr/local/lib/python3.10/dist-packages (from httpx>=0.27.0->chromadb) (2024.8.30)\n",
            "Requirement already satisfied: httpcore==1.* in /usr/local/lib/python3.10/dist-packages (from httpx>=0.27.0->chromadb) (1.0.5)\n",
            "Requirement already satisfied: idna in /usr/local/lib/python3.10/dist-packages (from httpx>=0.27.0->chromadb) (3.8)\n",
            "Requirement already satisfied: sniffio in /usr/local/lib/python3.10/dist-packages (from httpx>=0.27.0->chromadb) (1.3.1)\n",
            "Requirement already satisfied: h11<0.15,>=0.13 in /usr/local/lib/python3.10/dist-packages (from httpcore==1.*->httpx>=0.27.0->chromadb) (0.14.0)\n",
            "Requirement already satisfied: six>=1.9.0 in /usr/local/lib/python3.10/dist-packages (from kubernetes>=28.1.0->chromadb) (1.16.0)\n",
            "Requirement already satisfied: python-dateutil>=2.5.3 in /usr/local/lib/python3.10/dist-packages (from kubernetes>=28.1.0->chromadb) (2.8.2)\n",
            "Requirement already satisfied: google-auth>=1.0.1 in /usr/local/lib/python3.10/dist-packages (from kubernetes>=28.1.0->chromadb) (2.27.0)\n",
            "Requirement already satisfied: websocket-client!=0.40.0,!=0.41.*,!=0.42.*,>=0.32.0 in /usr/local/lib/python3.10/dist-packages (from kubernetes>=28.1.0->chromadb) (1.8.0)\n",
            "Requirement already satisfied: requests in /usr/local/lib/python3.10/dist-packages (from kubernetes>=28.1.0->chromadb) (2.32.3)\n",
            "Requirement already satisfied: requests-oauthlib in /usr/local/lib/python3.10/dist-packages (from kubernetes>=28.1.0->chromadb) (1.3.1)\n",
            "Requirement already satisfied: oauthlib>=3.2.2 in /usr/local/lib/python3.10/dist-packages (from kubernetes>=28.1.0->chromadb) (3.2.2)\n",
            "Requirement already satisfied: urllib3>=1.24.2 in /usr/local/lib/python3.10/dist-packages (from kubernetes>=28.1.0->chromadb) (2.0.7)\n",
            "Collecting coloredlogs (from onnxruntime>=1.14.1->chromadb)\n",
            "  Downloading coloredlogs-15.0.1-py2.py3-none-any.whl.metadata (12 kB)\n",
            "Requirement already satisfied: flatbuffers in /usr/local/lib/python3.10/dist-packages (from onnxruntime>=1.14.1->chromadb) (24.3.25)\n",
            "Requirement already satisfied: protobuf in /usr/local/lib/python3.10/dist-packages (from onnxruntime>=1.14.1->chromadb) (3.20.3)\n",
            "Requirement already satisfied: sympy in /usr/local/lib/python3.10/dist-packages (from onnxruntime>=1.14.1->chromadb) (1.13.2)\n",
            "Requirement already satisfied: deprecated>=1.2.6 in /usr/local/lib/python3.10/dist-packages (from opentelemetry-api>=1.2.0->chromadb) (1.2.14)\n",
            "Requirement already satisfied: importlib-metadata<=8.4.0,>=6.0 in /usr/local/lib/python3.10/dist-packages (from opentelemetry-api>=1.2.0->chromadb) (8.4.0)\n",
            "Requirement already satisfied: googleapis-common-protos~=1.52 in /usr/local/lib/python3.10/dist-packages (from opentelemetry-exporter-otlp-proto-grpc>=1.2.0->chromadb) (1.65.0)\n",
            "Collecting opentelemetry-exporter-otlp-proto-common==1.27.0 (from opentelemetry-exporter-otlp-proto-grpc>=1.2.0->chromadb)\n",
            "  Downloading opentelemetry_exporter_otlp_proto_common-1.27.0-py3-none-any.whl.metadata (1.8 kB)\n",
            "Collecting opentelemetry-proto==1.27.0 (from opentelemetry-exporter-otlp-proto-grpc>=1.2.0->chromadb)\n",
            "  Downloading opentelemetry_proto-1.27.0-py3-none-any.whl.metadata (2.3 kB)\n",
            "Collecting opentelemetry-instrumentation-asgi==0.48b0 (from opentelemetry-instrumentation-fastapi>=0.41b0->chromadb)\n",
            "  Downloading opentelemetry_instrumentation_asgi-0.48b0-py3-none-any.whl.metadata (2.0 kB)\n",
            "Collecting opentelemetry-instrumentation==0.48b0 (from opentelemetry-instrumentation-fastapi>=0.41b0->chromadb)\n",
            "  Downloading opentelemetry_instrumentation-0.48b0-py3-none-any.whl.metadata (6.1 kB)\n",
            "Collecting opentelemetry-semantic-conventions==0.48b0 (from opentelemetry-instrumentation-fastapi>=0.41b0->chromadb)\n",
            "  Downloading opentelemetry_semantic_conventions-0.48b0-py3-none-any.whl.metadata (2.4 kB)\n",
            "Collecting opentelemetry-util-http==0.48b0 (from opentelemetry-instrumentation-fastapi>=0.41b0->chromadb)\n",
            "  Downloading opentelemetry_util_http-0.48b0-py3-none-any.whl.metadata (2.5 kB)\n",
            "Requirement already satisfied: setuptools>=16.0 in /usr/local/lib/python3.10/dist-packages (from opentelemetry-instrumentation==0.48b0->opentelemetry-instrumentation-fastapi>=0.41b0->chromadb) (71.0.4)\n",
            "Requirement already satisfied: wrapt<2.0.0,>=1.0.0 in /usr/local/lib/python3.10/dist-packages (from opentelemetry-instrumentation==0.48b0->opentelemetry-instrumentation-fastapi>=0.41b0->chromadb) (1.16.0)\n",
            "Collecting asgiref~=3.0 (from opentelemetry-instrumentation-asgi==0.48b0->opentelemetry-instrumentation-fastapi>=0.41b0->chromadb)\n",
            "  Downloading asgiref-3.8.1-py3-none-any.whl.metadata (9.3 kB)\n",
            "Collecting monotonic>=1.5 (from posthog>=2.4.0->chromadb)\n",
            "  Downloading monotonic-1.6-py2.py3-none-any.whl.metadata (1.5 kB)\n",
            "Collecting backoff>=1.10.0 (from posthog>=2.4.0->chromadb)\n",
            "  Downloading backoff-2.2.1-py3-none-any.whl.metadata (14 kB)\n",
            "Requirement already satisfied: annotated-types>=0.4.0 in /usr/local/lib/python3.10/dist-packages (from pydantic>=1.9->chromadb) (0.7.0)\n",
            "Requirement already satisfied: pydantic-core==2.20.1 in /usr/local/lib/python3.10/dist-packages (from pydantic>=1.9->chromadb) (2.20.1)\n",
            "Requirement already satisfied: huggingface-hub<1.0,>=0.16.4 in /usr/local/lib/python3.10/dist-packages (from tokenizers>=0.13.2->chromadb) (0.24.6)\n",
            "Requirement already satisfied: click>=8.0.0 in /usr/local/lib/python3.10/dist-packages (from typer>=0.9.0->chromadb) (8.1.7)\n",
            "Requirement already satisfied: shellingham>=1.3.0 in /usr/local/lib/python3.10/dist-packages (from typer>=0.9.0->chromadb) (1.5.4)\n",
            "Requirement already satisfied: rich>=10.11.0 in /usr/local/lib/python3.10/dist-packages (from typer>=0.9.0->chromadb) (13.8.0)\n",
            "Collecting httptools>=0.5.0 (from uvicorn[standard]>=0.18.3->chromadb)\n",
            "  Downloading httptools-0.6.1-cp310-cp310-manylinux_2_5_x86_64.manylinux1_x86_64.manylinux_2_17_x86_64.manylinux2014_x86_64.whl.metadata (3.6 kB)\n",
            "Collecting python-dotenv>=0.13 (from uvicorn[standard]>=0.18.3->chromadb)\n",
            "  Downloading python_dotenv-1.0.1-py3-none-any.whl.metadata (23 kB)\n",
            "Collecting uvloop!=0.15.0,!=0.15.1,>=0.14.0 (from uvicorn[standard]>=0.18.3->chromadb)\n",
            "  Downloading uvloop-0.20.0-cp310-cp310-manylinux_2_17_x86_64.manylinux2014_x86_64.whl.metadata (4.9 kB)\n",
            "Collecting watchfiles>=0.13 (from uvicorn[standard]>=0.18.3->chromadb)\n",
            "  Downloading watchfiles-0.24.0-cp310-cp310-manylinux_2_17_x86_64.manylinux2014_x86_64.whl.metadata (4.9 kB)\n",
            "Collecting websockets>=10.4 (from uvicorn[standard]>=0.18.3->chromadb)\n",
            "  Downloading websockets-13.0.1-cp310-cp310-manylinux_2_5_x86_64.manylinux1_x86_64.manylinux_2_17_x86_64.manylinux2014_x86_64.whl.metadata (6.7 kB)\n",
            "Requirement already satisfied: cachetools<6.0,>=2.0.0 in /usr/local/lib/python3.10/dist-packages (from google-auth>=1.0.1->kubernetes>=28.1.0->chromadb) (5.5.0)\n",
            "Requirement already satisfied: pyasn1-modules>=0.2.1 in /usr/local/lib/python3.10/dist-packages (from google-auth>=1.0.1->kubernetes>=28.1.0->chromadb) (0.4.0)\n",
            "Requirement already satisfied: rsa<5,>=3.1.4 in /usr/local/lib/python3.10/dist-packages (from google-auth>=1.0.1->kubernetes>=28.1.0->chromadb) (4.9)\n",
            "Requirement already satisfied: filelock in /usr/local/lib/python3.10/dist-packages (from huggingface-hub<1.0,>=0.16.4->tokenizers>=0.13.2->chromadb) (3.15.4)\n",
            "Requirement already satisfied: fsspec>=2023.5.0 in /usr/local/lib/python3.10/dist-packages (from huggingface-hub<1.0,>=0.16.4->tokenizers>=0.13.2->chromadb) (2024.6.1)\n",
            "Requirement already satisfied: zipp>=0.5 in /usr/local/lib/python3.10/dist-packages (from importlib-metadata<=8.4.0,>=6.0->opentelemetry-api>=1.2.0->chromadb) (3.20.1)\n",
            "Requirement already satisfied: charset-normalizer<4,>=2 in /usr/local/lib/python3.10/dist-packages (from requests->kubernetes>=28.1.0->chromadb) (3.3.2)\n",
            "Requirement already satisfied: markdown-it-py>=2.2.0 in /usr/local/lib/python3.10/dist-packages (from rich>=10.11.0->typer>=0.9.0->chromadb) (3.0.0)\n",
            "Requirement already satisfied: pygments<3.0.0,>=2.13.0 in /usr/local/lib/python3.10/dist-packages (from rich>=10.11.0->typer>=0.9.0->chromadb) (2.16.1)\n",
            "Requirement already satisfied: exceptiongroup in /usr/local/lib/python3.10/dist-packages (from anyio->httpx>=0.27.0->chromadb) (1.2.2)\n",
            "Collecting humanfriendly>=9.1 (from coloredlogs->onnxruntime>=1.14.1->chromadb)\n",
            "  Downloading humanfriendly-10.0-py2.py3-none-any.whl.metadata (9.2 kB)\n",
            "Requirement already satisfied: mpmath<1.4,>=1.1.0 in /usr/local/lib/python3.10/dist-packages (from sympy->onnxruntime>=1.14.1->chromadb) (1.3.0)\n",
            "Requirement already satisfied: mdurl~=0.1 in /usr/local/lib/python3.10/dist-packages (from markdown-it-py>=2.2.0->rich>=10.11.0->typer>=0.9.0->chromadb) (0.1.2)\n",
            "Requirement already satisfied: pyasn1<0.7.0,>=0.4.6 in /usr/local/lib/python3.10/dist-packages (from pyasn1-modules>=0.2.1->google-auth>=1.0.1->kubernetes>=28.1.0->chromadb) (0.6.0)\n",
            "Downloading chromadb-0.5.5-py3-none-any.whl (584 kB)\n",
            "\u001b[2K   \u001b[90m━━━━━━━━━━━━━━━━━━━━━━━━━━━━━━━━━━━━━━━━\u001b[0m \u001b[32m584.3/584.3 kB\u001b[0m \u001b[31m27.0 MB/s\u001b[0m eta \u001b[36m0:00:00\u001b[0m\n",
            "\u001b[?25hDownloading chroma_hnswlib-0.7.6-cp310-cp310-manylinux_2_17_x86_64.manylinux2014_x86_64.whl (2.4 MB)\n",
            "\u001b[2K   \u001b[90m━━━━━━━━━━━━━━━━━━━━━━━━━━━━━━━━━━━━━━━━\u001b[0m \u001b[32m2.4/2.4 MB\u001b[0m \u001b[31m50.4 MB/s\u001b[0m eta \u001b[36m0:00:00\u001b[0m\n",
            "\u001b[?25hDownloading bcrypt-4.2.0-cp39-abi3-manylinux_2_28_x86_64.whl (273 kB)\n",
            "\u001b[2K   \u001b[90m━━━━━━━━━━━━━━━━━━━━━━━━━━━━━━━━━━━━━━━━\u001b[0m \u001b[32m273.8/273.8 kB\u001b[0m \u001b[31m15.4 MB/s\u001b[0m eta \u001b[36m0:00:00\u001b[0m\n",
            "\u001b[?25hDownloading fastapi-0.114.0-py3-none-any.whl (94 kB)\n",
            "\u001b[2K   \u001b[90m━━━━━━━━━━━━━━━━━━━━━━━━━━━━━━━━━━━━━━━━\u001b[0m \u001b[32m94.0/94.0 kB\u001b[0m \u001b[31m6.2 MB/s\u001b[0m eta \u001b[36m0:00:00\u001b[0m\n",
            "\u001b[?25hDownloading kubernetes-30.1.0-py2.py3-none-any.whl (1.7 MB)\n",
            "\u001b[2K   \u001b[90m━━━━━━━━━━━━━━━━━━━━━━━━━━━━━━━━━━━━━━━━\u001b[0m \u001b[32m1.7/1.7 MB\u001b[0m \u001b[31m47.6 MB/s\u001b[0m eta \u001b[36m0:00:00\u001b[0m\n",
            "\u001b[?25hDownloading mmh3-4.1.0-cp310-cp310-manylinux_2_5_x86_64.manylinux1_x86_64.manylinux_2_17_x86_64.manylinux2014_x86_64.whl (67 kB)\n",
            "\u001b[2K   \u001b[90m━━━━━━━━━━━━━━━━━━━━━━━━━━━━━━━━━━━━━━━━\u001b[0m \u001b[32m67.6/67.6 kB\u001b[0m \u001b[31m3.5 MB/s\u001b[0m eta \u001b[36m0:00:00\u001b[0m\n",
            "\u001b[?25hDownloading onnxruntime-1.19.2-cp310-cp310-manylinux_2_27_x86_64.manylinux_2_28_x86_64.whl (13.2 MB)\n",
            "\u001b[2K   \u001b[90m━━━━━━━━━━━━━━━━━━━━━━━━━━━━━━━━━━━━━━━━\u001b[0m \u001b[32m13.2/13.2 MB\u001b[0m \u001b[31m53.8 MB/s\u001b[0m eta \u001b[36m0:00:00\u001b[0m\n",
            "\u001b[?25hDownloading opentelemetry_api-1.27.0-py3-none-any.whl (63 kB)\n",
            "\u001b[2K   \u001b[90m━━━━━━━━━━━━━━━━━━━━━━━━━━━━━━━━━━━━━━━━\u001b[0m \u001b[32m64.0/64.0 kB\u001b[0m \u001b[31m3.0 MB/s\u001b[0m eta \u001b[36m0:00:00\u001b[0m\n",
            "\u001b[?25hDownloading opentelemetry_exporter_otlp_proto_grpc-1.27.0-py3-none-any.whl (18 kB)\n",
            "Downloading opentelemetry_exporter_otlp_proto_common-1.27.0-py3-none-any.whl (17 kB)\n",
            "Downloading opentelemetry_proto-1.27.0-py3-none-any.whl (52 kB)\n",
            "\u001b[2K   \u001b[90m━━━━━━━━━━━━━━━━━━━━━━━━━━━━━━━━━━━━━━━━\u001b[0m \u001b[32m52.5/52.5 kB\u001b[0m \u001b[31m3.1 MB/s\u001b[0m eta \u001b[36m0:00:00\u001b[0m\n",
            "\u001b[?25hDownloading opentelemetry_instrumentation_fastapi-0.48b0-py3-none-any.whl (11 kB)\n",
            "Downloading opentelemetry_instrumentation-0.48b0-py3-none-any.whl (29 kB)\n",
            "Downloading opentelemetry_instrumentation_asgi-0.48b0-py3-none-any.whl (15 kB)\n",
            "Downloading opentelemetry_semantic_conventions-0.48b0-py3-none-any.whl (149 kB)\n",
            "\u001b[2K   \u001b[90m━━━━━━━━━━━━━━━━━━━━━━━━━━━━━━━━━━━━━━━━\u001b[0m \u001b[32m149.7/149.7 kB\u001b[0m \u001b[31m10.0 MB/s\u001b[0m eta \u001b[36m0:00:00\u001b[0m\n",
            "\u001b[?25hDownloading opentelemetry_util_http-0.48b0-py3-none-any.whl (6.9 kB)\n",
            "Downloading opentelemetry_sdk-1.27.0-py3-none-any.whl (110 kB)\n",
            "\u001b[2K   \u001b[90m━━━━━━━━━━━━━━━━━━━━━━━━━━━━━━━━━━━━━━━━\u001b[0m \u001b[32m110.5/110.5 kB\u001b[0m \u001b[31m7.4 MB/s\u001b[0m eta \u001b[36m0:00:00\u001b[0m\n",
            "\u001b[?25hDownloading orjson-3.10.7-cp310-cp310-manylinux_2_17_x86_64.manylinux2014_x86_64.whl (141 kB)\n",
            "\u001b[2K   \u001b[90m━━━━━━━━━━━━━━━━━━━━━━━━━━━━━━━━━━━━━━━━\u001b[0m \u001b[32m141.9/141.9 kB\u001b[0m \u001b[31m9.5 MB/s\u001b[0m eta \u001b[36m0:00:00\u001b[0m\n",
            "\u001b[?25hDownloading overrides-7.7.0-py3-none-any.whl (17 kB)\n",
            "Downloading posthog-3.6.3-py2.py3-none-any.whl (53 kB)\n",
            "\u001b[2K   \u001b[90m━━━━━━━━━━━━━━━━━━━━━━━━━━━━━━━━━━━━━━━━\u001b[0m \u001b[32m53.0/53.0 kB\u001b[0m \u001b[31m3.2 MB/s\u001b[0m eta \u001b[36m0:00:00\u001b[0m\n",
            "\u001b[?25hDownloading uvicorn-0.30.6-py3-none-any.whl (62 kB)\n",
            "\u001b[2K   \u001b[90m━━━━━━━━━━━━━━━━━━━━━━━━━━━━━━━━━━━━━━━━\u001b[0m \u001b[32m62.8/62.8 kB\u001b[0m \u001b[31m4.1 MB/s\u001b[0m eta \u001b[36m0:00:00\u001b[0m\n",
            "\u001b[?25hDownloading backoff-2.2.1-py3-none-any.whl (15 kB)\n",
            "Downloading httptools-0.6.1-cp310-cp310-manylinux_2_5_x86_64.manylinux1_x86_64.manylinux_2_17_x86_64.manylinux2014_x86_64.whl (341 kB)\n",
            "\u001b[2K   \u001b[90m━━━━━━━━━━━━━━━━━━━━━━━━━━━━━━━━━━━━━━━━\u001b[0m \u001b[32m341.4/341.4 kB\u001b[0m \u001b[31m15.8 MB/s\u001b[0m eta \u001b[36m0:00:00\u001b[0m\n",
            "\u001b[?25hDownloading monotonic-1.6-py2.py3-none-any.whl (8.2 kB)\n",
            "Downloading python_dotenv-1.0.1-py3-none-any.whl (19 kB)\n",
            "Downloading starlette-0.38.5-py3-none-any.whl (71 kB)\n",
            "\u001b[2K   \u001b[90m━━━━━━━━━━━━━━━━━━━━━━━━━━━━━━━━━━━━━━━━\u001b[0m \u001b[32m71.4/71.4 kB\u001b[0m \u001b[31m3.8 MB/s\u001b[0m eta \u001b[36m0:00:00\u001b[0m\n",
            "\u001b[?25hDownloading uvloop-0.20.0-cp310-cp310-manylinux_2_17_x86_64.manylinux2014_x86_64.whl (3.4 MB)\n",
            "\u001b[2K   \u001b[90m━━━━━━━━━━━━━━━━━━━━━━━━━━━━━━━━━━━━━━━━\u001b[0m \u001b[32m3.4/3.4 MB\u001b[0m \u001b[31m47.2 MB/s\u001b[0m eta \u001b[36m0:00:00\u001b[0m\n",
            "\u001b[?25hDownloading watchfiles-0.24.0-cp310-cp310-manylinux_2_17_x86_64.manylinux2014_x86_64.whl (425 kB)\n",
            "\u001b[2K   \u001b[90m━━━━━━━━━━━━━━━━━━━━━━━━━━━━━━━━━━━━━━━━\u001b[0m \u001b[32m425.7/425.7 kB\u001b[0m \u001b[31m17.0 MB/s\u001b[0m eta \u001b[36m0:00:00\u001b[0m\n",
            "\u001b[?25hDownloading websockets-13.0.1-cp310-cp310-manylinux_2_5_x86_64.manylinux1_x86_64.manylinux_2_17_x86_64.manylinux2014_x86_64.whl (157 kB)\n",
            "\u001b[2K   \u001b[90m━━━━━━━━━━━━━━━━━━━━━━━━━━━━━━━━━━━━━━━━\u001b[0m \u001b[32m157.3/157.3 kB\u001b[0m \u001b[31m9.9 MB/s\u001b[0m eta \u001b[36m0:00:00\u001b[0m\n",
            "\u001b[?25hDownloading coloredlogs-15.0.1-py2.py3-none-any.whl (46 kB)\n",
            "\u001b[2K   \u001b[90m━━━━━━━━━━━━━━━━━━━━━━━━━━━━━━━━━━━━━━━━\u001b[0m \u001b[32m46.0/46.0 kB\u001b[0m \u001b[31m3.1 MB/s\u001b[0m eta \u001b[36m0:00:00\u001b[0m\n",
            "\u001b[?25hDownloading asgiref-3.8.1-py3-none-any.whl (23 kB)\n",
            "Downloading humanfriendly-10.0-py2.py3-none-any.whl (86 kB)\n",
            "\u001b[2K   \u001b[90m━━━━━━━━━━━━━━━━━━━━━━━━━━━━━━━━━━━━━━━━\u001b[0m \u001b[32m86.8/86.8 kB\u001b[0m \u001b[31m4.6 MB/s\u001b[0m eta \u001b[36m0:00:00\u001b[0m\n",
            "\u001b[?25hBuilding wheels for collected packages: pypika\n",
            "  Building wheel for pypika (pyproject.toml) ... \u001b[?25l\u001b[?25hdone\n",
            "  Created wheel for pypika: filename=PyPika-0.48.9-py2.py3-none-any.whl size=53726 sha256=c2825d4808ed4eb9406accbbf0692e5c6ceb53c2d4ab188f0ac64ff2a5198ed1\n",
            "  Stored in directory: /root/.cache/pip/wheels/e1/26/51/d0bffb3d2fd82256676d7ad3003faea3bd6dddc9577af665f4\n",
            "Successfully built pypika\n",
            "Installing collected packages: pypika, monotonic, mmh3, websockets, uvloop, uvicorn, python-dotenv, overrides, orjson, opentelemetry-util-http, opentelemetry-proto, humanfriendly, httptools, chroma-hnswlib, bcrypt, backoff, asgiref, watchfiles, starlette, posthog, opentelemetry-exporter-otlp-proto-common, opentelemetry-api, coloredlogs, opentelemetry-semantic-conventions, opentelemetry-instrumentation, onnxruntime, kubernetes, fastapi, opentelemetry-sdk, opentelemetry-instrumentation-asgi, opentelemetry-instrumentation-fastapi, opentelemetry-exporter-otlp-proto-grpc, chromadb\n",
            "Successfully installed asgiref-3.8.1 backoff-2.2.1 bcrypt-4.2.0 chroma-hnswlib-0.7.6 chromadb-0.5.5 coloredlogs-15.0.1 fastapi-0.114.0 httptools-0.6.1 humanfriendly-10.0 kubernetes-30.1.0 mmh3-4.1.0 monotonic-1.6 onnxruntime-1.19.2 opentelemetry-api-1.27.0 opentelemetry-exporter-otlp-proto-common-1.27.0 opentelemetry-exporter-otlp-proto-grpc-1.27.0 opentelemetry-instrumentation-0.48b0 opentelemetry-instrumentation-asgi-0.48b0 opentelemetry-instrumentation-fastapi-0.48b0 opentelemetry-proto-1.27.0 opentelemetry-sdk-1.27.0 opentelemetry-semantic-conventions-0.48b0 opentelemetry-util-http-0.48b0 orjson-3.10.7 overrides-7.7.0 posthog-3.6.3 pypika-0.48.9 python-dotenv-1.0.1 starlette-0.38.5 uvicorn-0.30.6 uvloop-0.20.0 watchfiles-0.24.0 websockets-13.0.1\n"
          ]
        }
      ]
    },
    {
      "cell_type": "code",
      "source": [
        "%pip install llama-index-vector-stores-chroma"
      ],
      "metadata": {
        "colab": {
          "base_uri": "https://localhost:8080/"
        },
        "id": "JyBhhx6K8vdy",
        "outputId": "104432fc-2331-4346-d498-af29a8978c89"
      },
      "execution_count": null,
      "outputs": [
        {
          "output_type": "stream",
          "name": "stdout",
          "text": [
            "Collecting llama-index-vector-stores-chroma\n",
            "  Downloading llama_index_vector_stores_chroma-0.2.0-py3-none-any.whl.metadata (704 bytes)\n",
            "Requirement already satisfied: chromadb<0.6.0,>=0.4.0 in /usr/local/lib/python3.10/dist-packages (from llama-index-vector-stores-chroma) (0.5.5)\n",
            "Requirement already satisfied: llama-index-core<0.12.0,>=0.11.0 in /usr/local/lib/python3.10/dist-packages (from llama-index-vector-stores-chroma) (0.11.7)\n",
            "Requirement already satisfied: build>=1.0.3 in /usr/local/lib/python3.10/dist-packages (from chromadb<0.6.0,>=0.4.0->llama-index-vector-stores-chroma) (1.2.1)\n",
            "Requirement already satisfied: pydantic>=1.9 in /usr/local/lib/python3.10/dist-packages (from chromadb<0.6.0,>=0.4.0->llama-index-vector-stores-chroma) (2.8.2)\n",
            "Requirement already satisfied: chroma-hnswlib==0.7.6 in /usr/local/lib/python3.10/dist-packages (from chromadb<0.6.0,>=0.4.0->llama-index-vector-stores-chroma) (0.7.6)\n",
            "Requirement already satisfied: fastapi>=0.95.2 in /usr/local/lib/python3.10/dist-packages (from chromadb<0.6.0,>=0.4.0->llama-index-vector-stores-chroma) (0.114.0)\n",
            "Requirement already satisfied: uvicorn>=0.18.3 in /usr/local/lib/python3.10/dist-packages (from uvicorn[standard]>=0.18.3->chromadb<0.6.0,>=0.4.0->llama-index-vector-stores-chroma) (0.30.6)\n",
            "Requirement already satisfied: numpy<2.0.0,>=1.22.5 in /usr/local/lib/python3.10/dist-packages (from chromadb<0.6.0,>=0.4.0->llama-index-vector-stores-chroma) (1.26.4)\n",
            "Requirement already satisfied: posthog>=2.4.0 in /usr/local/lib/python3.10/dist-packages (from chromadb<0.6.0,>=0.4.0->llama-index-vector-stores-chroma) (3.6.3)\n",
            "Requirement already satisfied: typing-extensions>=4.5.0 in /usr/local/lib/python3.10/dist-packages (from chromadb<0.6.0,>=0.4.0->llama-index-vector-stores-chroma) (4.12.2)\n",
            "Requirement already satisfied: onnxruntime>=1.14.1 in /usr/local/lib/python3.10/dist-packages (from chromadb<0.6.0,>=0.4.0->llama-index-vector-stores-chroma) (1.19.2)\n",
            "Requirement already satisfied: opentelemetry-api>=1.2.0 in /usr/local/lib/python3.10/dist-packages (from chromadb<0.6.0,>=0.4.0->llama-index-vector-stores-chroma) (1.27.0)\n",
            "Requirement already satisfied: opentelemetry-exporter-otlp-proto-grpc>=1.2.0 in /usr/local/lib/python3.10/dist-packages (from chromadb<0.6.0,>=0.4.0->llama-index-vector-stores-chroma) (1.27.0)\n",
            "Requirement already satisfied: opentelemetry-instrumentation-fastapi>=0.41b0 in /usr/local/lib/python3.10/dist-packages (from chromadb<0.6.0,>=0.4.0->llama-index-vector-stores-chroma) (0.48b0)\n",
            "Requirement already satisfied: opentelemetry-sdk>=1.2.0 in /usr/local/lib/python3.10/dist-packages (from chromadb<0.6.0,>=0.4.0->llama-index-vector-stores-chroma) (1.27.0)\n",
            "Requirement already satisfied: tokenizers>=0.13.2 in /usr/local/lib/python3.10/dist-packages (from chromadb<0.6.0,>=0.4.0->llama-index-vector-stores-chroma) (0.19.1)\n",
            "Requirement already satisfied: pypika>=0.48.9 in /usr/local/lib/python3.10/dist-packages (from chromadb<0.6.0,>=0.4.0->llama-index-vector-stores-chroma) (0.48.9)\n",
            "Requirement already satisfied: tqdm>=4.65.0 in /usr/local/lib/python3.10/dist-packages (from chromadb<0.6.0,>=0.4.0->llama-index-vector-stores-chroma) (4.66.5)\n",
            "Requirement already satisfied: overrides>=7.3.1 in /usr/local/lib/python3.10/dist-packages (from chromadb<0.6.0,>=0.4.0->llama-index-vector-stores-chroma) (7.7.0)\n",
            "Requirement already satisfied: importlib-resources in /usr/local/lib/python3.10/dist-packages (from chromadb<0.6.0,>=0.4.0->llama-index-vector-stores-chroma) (6.4.4)\n",
            "Requirement already satisfied: grpcio>=1.58.0 in /usr/local/lib/python3.10/dist-packages (from chromadb<0.6.0,>=0.4.0->llama-index-vector-stores-chroma) (1.64.1)\n",
            "Requirement already satisfied: bcrypt>=4.0.1 in /usr/local/lib/python3.10/dist-packages (from chromadb<0.6.0,>=0.4.0->llama-index-vector-stores-chroma) (4.2.0)\n",
            "Requirement already satisfied: typer>=0.9.0 in /usr/local/lib/python3.10/dist-packages (from chromadb<0.6.0,>=0.4.0->llama-index-vector-stores-chroma) (0.12.5)\n",
            "Requirement already satisfied: kubernetes>=28.1.0 in /usr/local/lib/python3.10/dist-packages (from chromadb<0.6.0,>=0.4.0->llama-index-vector-stores-chroma) (30.1.0)\n",
            "Requirement already satisfied: tenacity>=8.2.3 in /usr/local/lib/python3.10/dist-packages (from chromadb<0.6.0,>=0.4.0->llama-index-vector-stores-chroma) (8.5.0)\n",
            "Requirement already satisfied: PyYAML>=6.0.0 in /usr/local/lib/python3.10/dist-packages (from chromadb<0.6.0,>=0.4.0->llama-index-vector-stores-chroma) (6.0.2)\n",
            "Requirement already satisfied: mmh3>=4.0.1 in /usr/local/lib/python3.10/dist-packages (from chromadb<0.6.0,>=0.4.0->llama-index-vector-stores-chroma) (4.1.0)\n",
            "Requirement already satisfied: orjson>=3.9.12 in /usr/local/lib/python3.10/dist-packages (from chromadb<0.6.0,>=0.4.0->llama-index-vector-stores-chroma) (3.10.7)\n",
            "Requirement already satisfied: httpx>=0.27.0 in /usr/local/lib/python3.10/dist-packages (from chromadb<0.6.0,>=0.4.0->llama-index-vector-stores-chroma) (0.27.2)\n",
            "Requirement already satisfied: SQLAlchemy>=1.4.49 in /usr/local/lib/python3.10/dist-packages (from SQLAlchemy[asyncio]>=1.4.49->llama-index-core<0.12.0,>=0.11.0->llama-index-vector-stores-chroma) (2.0.32)\n",
            "Requirement already satisfied: aiohttp<4.0.0,>=3.8.6 in /usr/local/lib/python3.10/dist-packages (from llama-index-core<0.12.0,>=0.11.0->llama-index-vector-stores-chroma) (3.10.5)\n",
            "Requirement already satisfied: dataclasses-json in /usr/local/lib/python3.10/dist-packages (from llama-index-core<0.12.0,>=0.11.0->llama-index-vector-stores-chroma) (0.6.7)\n",
            "Requirement already satisfied: deprecated>=1.2.9.3 in /usr/local/lib/python3.10/dist-packages (from llama-index-core<0.12.0,>=0.11.0->llama-index-vector-stores-chroma) (1.2.14)\n",
            "Requirement already satisfied: dirtyjson<2.0.0,>=1.0.8 in /usr/local/lib/python3.10/dist-packages (from llama-index-core<0.12.0,>=0.11.0->llama-index-vector-stores-chroma) (1.0.8)\n",
            "Requirement already satisfied: fsspec>=2023.5.0 in /usr/local/lib/python3.10/dist-packages (from llama-index-core<0.12.0,>=0.11.0->llama-index-vector-stores-chroma) (2024.6.1)\n",
            "Requirement already satisfied: nest-asyncio<2.0.0,>=1.5.8 in /usr/local/lib/python3.10/dist-packages (from llama-index-core<0.12.0,>=0.11.0->llama-index-vector-stores-chroma) (1.6.0)\n",
            "Requirement already satisfied: networkx>=3.0 in /usr/local/lib/python3.10/dist-packages (from llama-index-core<0.12.0,>=0.11.0->llama-index-vector-stores-chroma) (3.3)\n",
            "Requirement already satisfied: nltk>3.8.1 in /usr/local/lib/python3.10/dist-packages (from llama-index-core<0.12.0,>=0.11.0->llama-index-vector-stores-chroma) (3.9.1)\n",
            "Requirement already satisfied: pillow>=9.0.0 in /usr/local/lib/python3.10/dist-packages (from llama-index-core<0.12.0,>=0.11.0->llama-index-vector-stores-chroma) (9.4.0)\n",
            "Requirement already satisfied: requests>=2.31.0 in /usr/local/lib/python3.10/dist-packages (from llama-index-core<0.12.0,>=0.11.0->llama-index-vector-stores-chroma) (2.32.3)\n",
            "Requirement already satisfied: tiktoken>=0.3.3 in /usr/local/lib/python3.10/dist-packages (from llama-index-core<0.12.0,>=0.11.0->llama-index-vector-stores-chroma) (0.7.0)\n",
            "Requirement already satisfied: typing-inspect>=0.8.0 in /usr/local/lib/python3.10/dist-packages (from llama-index-core<0.12.0,>=0.11.0->llama-index-vector-stores-chroma) (0.9.0)\n",
            "Requirement already satisfied: wrapt in /usr/local/lib/python3.10/dist-packages (from llama-index-core<0.12.0,>=0.11.0->llama-index-vector-stores-chroma) (1.16.0)\n",
            "Requirement already satisfied: aiohappyeyeballs>=2.3.0 in /usr/local/lib/python3.10/dist-packages (from aiohttp<4.0.0,>=3.8.6->llama-index-core<0.12.0,>=0.11.0->llama-index-vector-stores-chroma) (2.4.0)\n",
            "Requirement already satisfied: aiosignal>=1.1.2 in /usr/local/lib/python3.10/dist-packages (from aiohttp<4.0.0,>=3.8.6->llama-index-core<0.12.0,>=0.11.0->llama-index-vector-stores-chroma) (1.3.1)\n",
            "Requirement already satisfied: attrs>=17.3.0 in /usr/local/lib/python3.10/dist-packages (from aiohttp<4.0.0,>=3.8.6->llama-index-core<0.12.0,>=0.11.0->llama-index-vector-stores-chroma) (24.2.0)\n",
            "Requirement already satisfied: frozenlist>=1.1.1 in /usr/local/lib/python3.10/dist-packages (from aiohttp<4.0.0,>=3.8.6->llama-index-core<0.12.0,>=0.11.0->llama-index-vector-stores-chroma) (1.4.1)\n",
            "Requirement already satisfied: multidict<7.0,>=4.5 in /usr/local/lib/python3.10/dist-packages (from aiohttp<4.0.0,>=3.8.6->llama-index-core<0.12.0,>=0.11.0->llama-index-vector-stores-chroma) (6.0.5)\n",
            "Requirement already satisfied: yarl<2.0,>=1.0 in /usr/local/lib/python3.10/dist-packages (from aiohttp<4.0.0,>=3.8.6->llama-index-core<0.12.0,>=0.11.0->llama-index-vector-stores-chroma) (1.9.4)\n",
            "Requirement already satisfied: async-timeout<5.0,>=4.0 in /usr/local/lib/python3.10/dist-packages (from aiohttp<4.0.0,>=3.8.6->llama-index-core<0.12.0,>=0.11.0->llama-index-vector-stores-chroma) (4.0.3)\n",
            "Requirement already satisfied: packaging>=19.1 in /usr/local/lib/python3.10/dist-packages (from build>=1.0.3->chromadb<0.6.0,>=0.4.0->llama-index-vector-stores-chroma) (24.1)\n",
            "Requirement already satisfied: pyproject_hooks in /usr/local/lib/python3.10/dist-packages (from build>=1.0.3->chromadb<0.6.0,>=0.4.0->llama-index-vector-stores-chroma) (1.1.0)\n",
            "Requirement already satisfied: tomli>=1.1.0 in /usr/local/lib/python3.10/dist-packages (from build>=1.0.3->chromadb<0.6.0,>=0.4.0->llama-index-vector-stores-chroma) (2.0.1)\n",
            "Requirement already satisfied: starlette<0.39.0,>=0.37.2 in /usr/local/lib/python3.10/dist-packages (from fastapi>=0.95.2->chromadb<0.6.0,>=0.4.0->llama-index-vector-stores-chroma) (0.38.5)\n",
            "Requirement already satisfied: anyio in /usr/local/lib/python3.10/dist-packages (from httpx>=0.27.0->chromadb<0.6.0,>=0.4.0->llama-index-vector-stores-chroma) (3.7.1)\n",
            "Requirement already satisfied: certifi in /usr/local/lib/python3.10/dist-packages (from httpx>=0.27.0->chromadb<0.6.0,>=0.4.0->llama-index-vector-stores-chroma) (2024.8.30)\n",
            "Requirement already satisfied: httpcore==1.* in /usr/local/lib/python3.10/dist-packages (from httpx>=0.27.0->chromadb<0.6.0,>=0.4.0->llama-index-vector-stores-chroma) (1.0.5)\n",
            "Requirement already satisfied: idna in /usr/local/lib/python3.10/dist-packages (from httpx>=0.27.0->chromadb<0.6.0,>=0.4.0->llama-index-vector-stores-chroma) (3.8)\n",
            "Requirement already satisfied: sniffio in /usr/local/lib/python3.10/dist-packages (from httpx>=0.27.0->chromadb<0.6.0,>=0.4.0->llama-index-vector-stores-chroma) (1.3.1)\n",
            "Requirement already satisfied: h11<0.15,>=0.13 in /usr/local/lib/python3.10/dist-packages (from httpcore==1.*->httpx>=0.27.0->chromadb<0.6.0,>=0.4.0->llama-index-vector-stores-chroma) (0.14.0)\n",
            "Requirement already satisfied: six>=1.9.0 in /usr/local/lib/python3.10/dist-packages (from kubernetes>=28.1.0->chromadb<0.6.0,>=0.4.0->llama-index-vector-stores-chroma) (1.16.0)\n",
            "Requirement already satisfied: python-dateutil>=2.5.3 in /usr/local/lib/python3.10/dist-packages (from kubernetes>=28.1.0->chromadb<0.6.0,>=0.4.0->llama-index-vector-stores-chroma) (2.8.2)\n",
            "Requirement already satisfied: google-auth>=1.0.1 in /usr/local/lib/python3.10/dist-packages (from kubernetes>=28.1.0->chromadb<0.6.0,>=0.4.0->llama-index-vector-stores-chroma) (2.27.0)\n",
            "Requirement already satisfied: websocket-client!=0.40.0,!=0.41.*,!=0.42.*,>=0.32.0 in /usr/local/lib/python3.10/dist-packages (from kubernetes>=28.1.0->chromadb<0.6.0,>=0.4.0->llama-index-vector-stores-chroma) (1.8.0)\n",
            "Requirement already satisfied: requests-oauthlib in /usr/local/lib/python3.10/dist-packages (from kubernetes>=28.1.0->chromadb<0.6.0,>=0.4.0->llama-index-vector-stores-chroma) (1.3.1)\n",
            "Requirement already satisfied: oauthlib>=3.2.2 in /usr/local/lib/python3.10/dist-packages (from kubernetes>=28.1.0->chromadb<0.6.0,>=0.4.0->llama-index-vector-stores-chroma) (3.2.2)\n",
            "Requirement already satisfied: urllib3>=1.24.2 in /usr/local/lib/python3.10/dist-packages (from kubernetes>=28.1.0->chromadb<0.6.0,>=0.4.0->llama-index-vector-stores-chroma) (2.0.7)\n",
            "Requirement already satisfied: click in /usr/local/lib/python3.10/dist-packages (from nltk>3.8.1->llama-index-core<0.12.0,>=0.11.0->llama-index-vector-stores-chroma) (8.1.7)\n",
            "Requirement already satisfied: joblib in /usr/local/lib/python3.10/dist-packages (from nltk>3.8.1->llama-index-core<0.12.0,>=0.11.0->llama-index-vector-stores-chroma) (1.4.2)\n",
            "Requirement already satisfied: regex>=2021.8.3 in /usr/local/lib/python3.10/dist-packages (from nltk>3.8.1->llama-index-core<0.12.0,>=0.11.0->llama-index-vector-stores-chroma) (2024.5.15)\n",
            "Requirement already satisfied: coloredlogs in /usr/local/lib/python3.10/dist-packages (from onnxruntime>=1.14.1->chromadb<0.6.0,>=0.4.0->llama-index-vector-stores-chroma) (15.0.1)\n",
            "Requirement already satisfied: flatbuffers in /usr/local/lib/python3.10/dist-packages (from onnxruntime>=1.14.1->chromadb<0.6.0,>=0.4.0->llama-index-vector-stores-chroma) (24.3.25)\n",
            "Requirement already satisfied: protobuf in /usr/local/lib/python3.10/dist-packages (from onnxruntime>=1.14.1->chromadb<0.6.0,>=0.4.0->llama-index-vector-stores-chroma) (3.20.3)\n",
            "Requirement already satisfied: sympy in /usr/local/lib/python3.10/dist-packages (from onnxruntime>=1.14.1->chromadb<0.6.0,>=0.4.0->llama-index-vector-stores-chroma) (1.13.2)\n",
            "Requirement already satisfied: importlib-metadata<=8.4.0,>=6.0 in /usr/local/lib/python3.10/dist-packages (from opentelemetry-api>=1.2.0->chromadb<0.6.0,>=0.4.0->llama-index-vector-stores-chroma) (8.4.0)\n",
            "Requirement already satisfied: googleapis-common-protos~=1.52 in /usr/local/lib/python3.10/dist-packages (from opentelemetry-exporter-otlp-proto-grpc>=1.2.0->chromadb<0.6.0,>=0.4.0->llama-index-vector-stores-chroma) (1.65.0)\n",
            "Requirement already satisfied: opentelemetry-exporter-otlp-proto-common==1.27.0 in /usr/local/lib/python3.10/dist-packages (from opentelemetry-exporter-otlp-proto-grpc>=1.2.0->chromadb<0.6.0,>=0.4.0->llama-index-vector-stores-chroma) (1.27.0)\n",
            "Requirement already satisfied: opentelemetry-proto==1.27.0 in /usr/local/lib/python3.10/dist-packages (from opentelemetry-exporter-otlp-proto-grpc>=1.2.0->chromadb<0.6.0,>=0.4.0->llama-index-vector-stores-chroma) (1.27.0)\n",
            "Requirement already satisfied: opentelemetry-instrumentation-asgi==0.48b0 in /usr/local/lib/python3.10/dist-packages (from opentelemetry-instrumentation-fastapi>=0.41b0->chromadb<0.6.0,>=0.4.0->llama-index-vector-stores-chroma) (0.48b0)\n",
            "Requirement already satisfied: opentelemetry-instrumentation==0.48b0 in /usr/local/lib/python3.10/dist-packages (from opentelemetry-instrumentation-fastapi>=0.41b0->chromadb<0.6.0,>=0.4.0->llama-index-vector-stores-chroma) (0.48b0)\n",
            "Requirement already satisfied: opentelemetry-semantic-conventions==0.48b0 in /usr/local/lib/python3.10/dist-packages (from opentelemetry-instrumentation-fastapi>=0.41b0->chromadb<0.6.0,>=0.4.0->llama-index-vector-stores-chroma) (0.48b0)\n",
            "Requirement already satisfied: opentelemetry-util-http==0.48b0 in /usr/local/lib/python3.10/dist-packages (from opentelemetry-instrumentation-fastapi>=0.41b0->chromadb<0.6.0,>=0.4.0->llama-index-vector-stores-chroma) (0.48b0)\n",
            "Requirement already satisfied: setuptools>=16.0 in /usr/local/lib/python3.10/dist-packages (from opentelemetry-instrumentation==0.48b0->opentelemetry-instrumentation-fastapi>=0.41b0->chromadb<0.6.0,>=0.4.0->llama-index-vector-stores-chroma) (71.0.4)\n",
            "Requirement already satisfied: asgiref~=3.0 in /usr/local/lib/python3.10/dist-packages (from opentelemetry-instrumentation-asgi==0.48b0->opentelemetry-instrumentation-fastapi>=0.41b0->chromadb<0.6.0,>=0.4.0->llama-index-vector-stores-chroma) (3.8.1)\n",
            "Requirement already satisfied: monotonic>=1.5 in /usr/local/lib/python3.10/dist-packages (from posthog>=2.4.0->chromadb<0.6.0,>=0.4.0->llama-index-vector-stores-chroma) (1.6)\n",
            "Requirement already satisfied: backoff>=1.10.0 in /usr/local/lib/python3.10/dist-packages (from posthog>=2.4.0->chromadb<0.6.0,>=0.4.0->llama-index-vector-stores-chroma) (2.2.1)\n",
            "Requirement already satisfied: annotated-types>=0.4.0 in /usr/local/lib/python3.10/dist-packages (from pydantic>=1.9->chromadb<0.6.0,>=0.4.0->llama-index-vector-stores-chroma) (0.7.0)\n",
            "Requirement already satisfied: pydantic-core==2.20.1 in /usr/local/lib/python3.10/dist-packages (from pydantic>=1.9->chromadb<0.6.0,>=0.4.0->llama-index-vector-stores-chroma) (2.20.1)\n",
            "Requirement already satisfied: charset-normalizer<4,>=2 in /usr/local/lib/python3.10/dist-packages (from requests>=2.31.0->llama-index-core<0.12.0,>=0.11.0->llama-index-vector-stores-chroma) (3.3.2)\n",
            "Requirement already satisfied: greenlet!=0.4.17 in /usr/local/lib/python3.10/dist-packages (from SQLAlchemy>=1.4.49->SQLAlchemy[asyncio]>=1.4.49->llama-index-core<0.12.0,>=0.11.0->llama-index-vector-stores-chroma) (3.0.3)\n",
            "Requirement already satisfied: huggingface-hub<1.0,>=0.16.4 in /usr/local/lib/python3.10/dist-packages (from tokenizers>=0.13.2->chromadb<0.6.0,>=0.4.0->llama-index-vector-stores-chroma) (0.24.6)\n",
            "Requirement already satisfied: shellingham>=1.3.0 in /usr/local/lib/python3.10/dist-packages (from typer>=0.9.0->chromadb<0.6.0,>=0.4.0->llama-index-vector-stores-chroma) (1.5.4)\n",
            "Requirement already satisfied: rich>=10.11.0 in /usr/local/lib/python3.10/dist-packages (from typer>=0.9.0->chromadb<0.6.0,>=0.4.0->llama-index-vector-stores-chroma) (13.8.0)\n",
            "Requirement already satisfied: mypy-extensions>=0.3.0 in /usr/local/lib/python3.10/dist-packages (from typing-inspect>=0.8.0->llama-index-core<0.12.0,>=0.11.0->llama-index-vector-stores-chroma) (1.0.0)\n",
            "Requirement already satisfied: httptools>=0.5.0 in /usr/local/lib/python3.10/dist-packages (from uvicorn[standard]>=0.18.3->chromadb<0.6.0,>=0.4.0->llama-index-vector-stores-chroma) (0.6.1)\n",
            "Requirement already satisfied: python-dotenv>=0.13 in /usr/local/lib/python3.10/dist-packages (from uvicorn[standard]>=0.18.3->chromadb<0.6.0,>=0.4.0->llama-index-vector-stores-chroma) (1.0.1)\n",
            "Requirement already satisfied: uvloop!=0.15.0,!=0.15.1,>=0.14.0 in /usr/local/lib/python3.10/dist-packages (from uvicorn[standard]>=0.18.3->chromadb<0.6.0,>=0.4.0->llama-index-vector-stores-chroma) (0.20.0)\n",
            "Requirement already satisfied: watchfiles>=0.13 in /usr/local/lib/python3.10/dist-packages (from uvicorn[standard]>=0.18.3->chromadb<0.6.0,>=0.4.0->llama-index-vector-stores-chroma) (0.24.0)\n",
            "Requirement already satisfied: websockets>=10.4 in /usr/local/lib/python3.10/dist-packages (from uvicorn[standard]>=0.18.3->chromadb<0.6.0,>=0.4.0->llama-index-vector-stores-chroma) (13.0.1)\n",
            "Requirement already satisfied: marshmallow<4.0.0,>=3.18.0 in /usr/local/lib/python3.10/dist-packages (from dataclasses-json->llama-index-core<0.12.0,>=0.11.0->llama-index-vector-stores-chroma) (3.22.0)\n",
            "Requirement already satisfied: cachetools<6.0,>=2.0.0 in /usr/local/lib/python3.10/dist-packages (from google-auth>=1.0.1->kubernetes>=28.1.0->chromadb<0.6.0,>=0.4.0->llama-index-vector-stores-chroma) (5.5.0)\n",
            "Requirement already satisfied: pyasn1-modules>=0.2.1 in /usr/local/lib/python3.10/dist-packages (from google-auth>=1.0.1->kubernetes>=28.1.0->chromadb<0.6.0,>=0.4.0->llama-index-vector-stores-chroma) (0.4.0)\n",
            "Requirement already satisfied: rsa<5,>=3.1.4 in /usr/local/lib/python3.10/dist-packages (from google-auth>=1.0.1->kubernetes>=28.1.0->chromadb<0.6.0,>=0.4.0->llama-index-vector-stores-chroma) (4.9)\n",
            "Requirement already satisfied: filelock in /usr/local/lib/python3.10/dist-packages (from huggingface-hub<1.0,>=0.16.4->tokenizers>=0.13.2->chromadb<0.6.0,>=0.4.0->llama-index-vector-stores-chroma) (3.15.4)\n",
            "Requirement already satisfied: zipp>=0.5 in /usr/local/lib/python3.10/dist-packages (from importlib-metadata<=8.4.0,>=6.0->opentelemetry-api>=1.2.0->chromadb<0.6.0,>=0.4.0->llama-index-vector-stores-chroma) (3.20.1)\n",
            "Requirement already satisfied: markdown-it-py>=2.2.0 in /usr/local/lib/python3.10/dist-packages (from rich>=10.11.0->typer>=0.9.0->chromadb<0.6.0,>=0.4.0->llama-index-vector-stores-chroma) (3.0.0)\n",
            "Requirement already satisfied: pygments<3.0.0,>=2.13.0 in /usr/local/lib/python3.10/dist-packages (from rich>=10.11.0->typer>=0.9.0->chromadb<0.6.0,>=0.4.0->llama-index-vector-stores-chroma) (2.16.1)\n",
            "Requirement already satisfied: exceptiongroup in /usr/local/lib/python3.10/dist-packages (from anyio->httpx>=0.27.0->chromadb<0.6.0,>=0.4.0->llama-index-vector-stores-chroma) (1.2.2)\n",
            "Requirement already satisfied: humanfriendly>=9.1 in /usr/local/lib/python3.10/dist-packages (from coloredlogs->onnxruntime>=1.14.1->chromadb<0.6.0,>=0.4.0->llama-index-vector-stores-chroma) (10.0)\n",
            "Requirement already satisfied: mpmath<1.4,>=1.1.0 in /usr/local/lib/python3.10/dist-packages (from sympy->onnxruntime>=1.14.1->chromadb<0.6.0,>=0.4.0->llama-index-vector-stores-chroma) (1.3.0)\n",
            "Requirement already satisfied: mdurl~=0.1 in /usr/local/lib/python3.10/dist-packages (from markdown-it-py>=2.2.0->rich>=10.11.0->typer>=0.9.0->chromadb<0.6.0,>=0.4.0->llama-index-vector-stores-chroma) (0.1.2)\n",
            "Requirement already satisfied: pyasn1<0.7.0,>=0.4.6 in /usr/local/lib/python3.10/dist-packages (from pyasn1-modules>=0.2.1->google-auth>=1.0.1->kubernetes>=28.1.0->chromadb<0.6.0,>=0.4.0->llama-index-vector-stores-chroma) (0.6.0)\n",
            "Downloading llama_index_vector_stores_chroma-0.2.0-py3-none-any.whl (5.2 kB)\n",
            "Installing collected packages: llama-index-vector-stores-chroma\n",
            "Successfully installed llama-index-vector-stores-chroma-0.2.0\n"
          ]
        }
      ]
    },
    {
      "cell_type": "code",
      "source": [
        "from llama_index.vector_stores.chroma import ChromaVectorStore\n",
        "from llama_index.core import StorageContext\n",
        "import chromadb\n",
        "# create client and a new collection\n",
        "chroma_client = chromadb.EphemeralClient()\n",
        "chroma_collection = chroma_client.create_collection(\"RAGworkflow\")"
      ],
      "metadata": {
        "colab": {
          "base_uri": "https://localhost:8080/",
          "height": 339
        },
        "id": "azFnJzsT8f5u",
        "outputId": "f951025a-8731-45fd-d142-85379fc03dff"
      },
      "execution_count": null,
      "outputs": [
        {
          "output_type": "error",
          "ename": "UniqueConstraintError",
          "evalue": "Collection workflow already exists",
          "traceback": [
            "\u001b[0;31m---------------------------------------------------------------------------\u001b[0m",
            "\u001b[0;31mUniqueConstraintError\u001b[0m                     Traceback (most recent call last)",
            "\u001b[0;32m<ipython-input-48-0c4e52f2769e>\u001b[0m in \u001b[0;36m<cell line: 6>\u001b[0;34m()\u001b[0m\n\u001b[1;32m      4\u001b[0m \u001b[0;31m# create client and a new collection\u001b[0m\u001b[0;34m\u001b[0m\u001b[0;34m\u001b[0m\u001b[0m\n\u001b[1;32m      5\u001b[0m \u001b[0mchroma_client\u001b[0m \u001b[0;34m=\u001b[0m \u001b[0mchromadb\u001b[0m\u001b[0;34m.\u001b[0m\u001b[0mEphemeralClient\u001b[0m\u001b[0;34m(\u001b[0m\u001b[0;34m)\u001b[0m\u001b[0;34m\u001b[0m\u001b[0;34m\u001b[0m\u001b[0m\n\u001b[0;32m----> 6\u001b[0;31m \u001b[0mchroma_collection\u001b[0m \u001b[0;34m=\u001b[0m \u001b[0mchroma_client\u001b[0m\u001b[0;34m.\u001b[0m\u001b[0mcreate_collection\u001b[0m\u001b[0;34m(\u001b[0m\u001b[0;34m\"workflow\"\u001b[0m\u001b[0;34m)\u001b[0m\u001b[0;34m\u001b[0m\u001b[0;34m\u001b[0m\u001b[0m\n\u001b[0m",
            "\u001b[0;32m/usr/local/lib/python3.10/dist-packages/chromadb/api/client.py\u001b[0m in \u001b[0;36mcreate_collection\u001b[0;34m(self, name, configuration, metadata, embedding_function, data_loader, get_or_create)\u001b[0m\n\u001b[1;32m    115\u001b[0m         \u001b[0mget_or_create\u001b[0m\u001b[0;34m:\u001b[0m \u001b[0mbool\u001b[0m \u001b[0;34m=\u001b[0m \u001b[0;32mFalse\u001b[0m\u001b[0;34m,\u001b[0m\u001b[0;34m\u001b[0m\u001b[0;34m\u001b[0m\u001b[0m\n\u001b[1;32m    116\u001b[0m     ) -> Collection:\n\u001b[0;32m--> 117\u001b[0;31m         model = self._server.create_collection(\n\u001b[0m\u001b[1;32m    118\u001b[0m             \u001b[0mname\u001b[0m\u001b[0;34m=\u001b[0m\u001b[0mname\u001b[0m\u001b[0;34m,\u001b[0m\u001b[0;34m\u001b[0m\u001b[0;34m\u001b[0m\u001b[0m\n\u001b[1;32m    119\u001b[0m             \u001b[0mmetadata\u001b[0m\u001b[0;34m=\u001b[0m\u001b[0mmetadata\u001b[0m\u001b[0;34m,\u001b[0m\u001b[0;34m\u001b[0m\u001b[0;34m\u001b[0m\u001b[0m\n",
            "\u001b[0;32m/usr/local/lib/python3.10/dist-packages/chromadb/telemetry/opentelemetry/__init__.py\u001b[0m in \u001b[0;36mwrapper\u001b[0;34m(*args, **kwargs)\u001b[0m\n\u001b[1;32m    144\u001b[0m                 \u001b[0;32mglobal\u001b[0m \u001b[0mtracer\u001b[0m\u001b[0;34m,\u001b[0m \u001b[0mgranularity\u001b[0m\u001b[0;34m\u001b[0m\u001b[0;34m\u001b[0m\u001b[0m\n\u001b[1;32m    145\u001b[0m                 \u001b[0;32mif\u001b[0m \u001b[0mtrace_granularity\u001b[0m \u001b[0;34m<\u001b[0m \u001b[0mgranularity\u001b[0m\u001b[0;34m:\u001b[0m\u001b[0;34m\u001b[0m\u001b[0;34m\u001b[0m\u001b[0m\n\u001b[0;32m--> 146\u001b[0;31m                     \u001b[0;32mreturn\u001b[0m \u001b[0mf\u001b[0m\u001b[0;34m(\u001b[0m\u001b[0;34m*\u001b[0m\u001b[0margs\u001b[0m\u001b[0;34m,\u001b[0m \u001b[0;34m**\u001b[0m\u001b[0mkwargs\u001b[0m\u001b[0;34m)\u001b[0m\u001b[0;34m\u001b[0m\u001b[0;34m\u001b[0m\u001b[0m\n\u001b[0m\u001b[1;32m    147\u001b[0m                 \u001b[0;32mif\u001b[0m \u001b[0;32mnot\u001b[0m \u001b[0mtracer\u001b[0m\u001b[0;34m:\u001b[0m\u001b[0;34m\u001b[0m\u001b[0;34m\u001b[0m\u001b[0m\n\u001b[1;32m    148\u001b[0m                     \u001b[0;32mreturn\u001b[0m \u001b[0mf\u001b[0m\u001b[0;34m(\u001b[0m\u001b[0;34m*\u001b[0m\u001b[0margs\u001b[0m\u001b[0;34m,\u001b[0m \u001b[0;34m**\u001b[0m\u001b[0mkwargs\u001b[0m\u001b[0;34m)\u001b[0m\u001b[0;34m\u001b[0m\u001b[0;34m\u001b[0m\u001b[0m\n",
            "\u001b[0;32m/usr/local/lib/python3.10/dist-packages/chromadb/api/segment.py\u001b[0m in \u001b[0;36mcreate_collection\u001b[0;34m(self, name, configuration, metadata, get_or_create, tenant, database)\u001b[0m\n\u001b[1;32m    174\u001b[0m         )\n\u001b[1;32m    175\u001b[0m         \u001b[0;31m# TODO: Let sysdb create the collection directly from the model\u001b[0m\u001b[0;34m\u001b[0m\u001b[0;34m\u001b[0m\u001b[0m\n\u001b[0;32m--> 176\u001b[0;31m         coll, created = self._sysdb.create_collection(\n\u001b[0m\u001b[1;32m    177\u001b[0m             \u001b[0mid\u001b[0m\u001b[0;34m=\u001b[0m\u001b[0mmodel\u001b[0m\u001b[0;34m.\u001b[0m\u001b[0mid\u001b[0m\u001b[0;34m,\u001b[0m\u001b[0;34m\u001b[0m\u001b[0;34m\u001b[0m\u001b[0m\n\u001b[1;32m    178\u001b[0m             \u001b[0mname\u001b[0m\u001b[0;34m=\u001b[0m\u001b[0mmodel\u001b[0m\u001b[0;34m.\u001b[0m\u001b[0mname\u001b[0m\u001b[0;34m,\u001b[0m\u001b[0;34m\u001b[0m\u001b[0;34m\u001b[0m\u001b[0m\n",
            "\u001b[0;32m/usr/local/lib/python3.10/dist-packages/chromadb/telemetry/opentelemetry/__init__.py\u001b[0m in \u001b[0;36mwrapper\u001b[0;34m(*args, **kwargs)\u001b[0m\n\u001b[1;32m    144\u001b[0m                 \u001b[0;32mglobal\u001b[0m \u001b[0mtracer\u001b[0m\u001b[0;34m,\u001b[0m \u001b[0mgranularity\u001b[0m\u001b[0;34m\u001b[0m\u001b[0;34m\u001b[0m\u001b[0m\n\u001b[1;32m    145\u001b[0m                 \u001b[0;32mif\u001b[0m \u001b[0mtrace_granularity\u001b[0m \u001b[0;34m<\u001b[0m \u001b[0mgranularity\u001b[0m\u001b[0;34m:\u001b[0m\u001b[0;34m\u001b[0m\u001b[0;34m\u001b[0m\u001b[0m\n\u001b[0;32m--> 146\u001b[0;31m                     \u001b[0;32mreturn\u001b[0m \u001b[0mf\u001b[0m\u001b[0;34m(\u001b[0m\u001b[0;34m*\u001b[0m\u001b[0margs\u001b[0m\u001b[0;34m,\u001b[0m \u001b[0;34m**\u001b[0m\u001b[0mkwargs\u001b[0m\u001b[0;34m)\u001b[0m\u001b[0;34m\u001b[0m\u001b[0;34m\u001b[0m\u001b[0m\n\u001b[0m\u001b[1;32m    147\u001b[0m                 \u001b[0;32mif\u001b[0m \u001b[0;32mnot\u001b[0m \u001b[0mtracer\u001b[0m\u001b[0;34m:\u001b[0m\u001b[0;34m\u001b[0m\u001b[0;34m\u001b[0m\u001b[0m\n\u001b[1;32m    148\u001b[0m                     \u001b[0;32mreturn\u001b[0m \u001b[0mf\u001b[0m\u001b[0;34m(\u001b[0m\u001b[0;34m*\u001b[0m\u001b[0margs\u001b[0m\u001b[0;34m,\u001b[0m \u001b[0;34m**\u001b[0m\u001b[0mkwargs\u001b[0m\u001b[0;34m)\u001b[0m\u001b[0;34m\u001b[0m\u001b[0;34m\u001b[0m\u001b[0m\n",
            "\u001b[0;32m/usr/local/lib/python3.10/dist-packages/chromadb/db/mixins/sysdb.py\u001b[0m in \u001b[0;36mcreate_collection\u001b[0;34m(self, id, name, configuration, metadata, dimension, get_or_create, tenant, database)\u001b[0m\n\u001b[1;32m    227\u001b[0m                 )\n\u001b[1;32m    228\u001b[0m             \u001b[0;32melse\u001b[0m\u001b[0;34m:\u001b[0m\u001b[0;34m\u001b[0m\u001b[0;34m\u001b[0m\u001b[0m\n\u001b[0;32m--> 229\u001b[0;31m                 \u001b[0;32mraise\u001b[0m \u001b[0mUniqueConstraintError\u001b[0m\u001b[0;34m(\u001b[0m\u001b[0;34mf\"Collection {name} already exists\"\u001b[0m\u001b[0;34m)\u001b[0m\u001b[0;34m\u001b[0m\u001b[0;34m\u001b[0m\u001b[0m\n\u001b[0m\u001b[1;32m    230\u001b[0m \u001b[0;34m\u001b[0m\u001b[0m\n\u001b[1;32m    231\u001b[0m         collection = Collection(\n",
            "\u001b[0;31mUniqueConstraintError\u001b[0m: Collection workflow already exists"
          ]
        }
      ]
    },
    {
      "cell_type": "code",
      "source": [
        "\n",
        "from IPython.display import Markdown, display\n",
        "# define embedding function\n",
        "embed_model = HuggingFaceEmbedding(model_name=\"BAAI/bge-base-en-v1.5\")\n",
        "\n",
        "# load documents\n",
        "documents = SimpleDirectoryReader(\"./Data/\").load_data()\n",
        "\n",
        "# set up ChromaVectorStore and load in data\n",
        "vector_store = ChromaVectorStore(chroma_collection=chroma_collection)\n",
        "storage_context = StorageContext.from_defaults(vector_store=vector_store)\n",
        "index = VectorStoreIndex.from_documents(\n",
        "    documents, storage_context=storage_context, embed_model=embed_model\n",
        ")\n",
        "\n",
        "# Query Data\n",
        "query_engine = index.as_query_engine(llm=llm)\n",
        "response = query_engine.query(\"What is Fibromyalgia?\")\n",
        "display(Markdown(f\"{response}\"))"
      ],
      "metadata": {
        "colab": {
          "base_uri": "https://localhost:8080/",
          "height": 46
        },
        "id": "uPBxEQkb_2ru",
        "outputId": "378dcc8f-5da4-4fa5-cd9b-4a114b1c9a9a"
      },
      "execution_count": null,
      "outputs": [
        {
          "output_type": "display_data",
          "data": {
            "text/plain": [
              "<IPython.core.display.Markdown object>"
            ],
            "text/markdown": "The diagnosis of fibromyalgia is established to reassure patients and prevent further unnecessary testing and anxiety."
          },
          "metadata": {}
        }
      ]
    },
    {
      "cell_type": "code",
      "source": [
        "class RAGWorkflow(Workflow):\n",
        "    @step(pass_context=True)\n",
        "    async def ingest(self, ctx: Context, ev: StartEvent) -> StopEvent | None:\n",
        "        \"\"\"Entry point to ingest a document, triggered by a StartEvent with `dirname`.\"\"\"\n",
        "        dirname = ev.get(\"dirname\")\n",
        "        print(f\"directory name: {dirname}\")\n",
        "        if not dirname:\n",
        "            return None\n",
        "        dname  = f\"./{dirname}/\"\n",
        "        #\n",
        "        db = chromadb.PersistentClient(path=\"./chroma_db\")\n",
        "        chroma_collection = db.get_or_create_collection(\"wflows\")\n",
        "        vector_store = ChromaVectorStore(chroma_collection=chroma_collection)\n",
        "        storage_context = StorageContext.from_defaults(vector_store=vector_store)\n",
        "        # define embedding function\n",
        "        embed_model = HuggingFaceEmbedding(model_name=\"BAAI/bge-base-en-v1.5\")\n",
        "        #\n",
        "        documents = SimpleDirectoryReader(input_dir=dname).load_data()\n",
        "        # set up ChromaVectorStore and load in data\n",
        "        vector_store = ChromaVectorStore(chroma_collection=chroma_collection)\n",
        "        storage_context = StorageContext.from_defaults(vector_store=vector_store)\n",
        "        ctx.data[\"index\"] = VectorStoreIndex.from_documents(\n",
        "            documents=documents,\n",
        "            storage_context=storage_context,\n",
        "            embed_model=embed_model,\n",
        "        )\n",
        "        print(f\"Indexed {len(documents)} documents.\")\n",
        "        return StopEvent(result=f\"Indexed {len(documents)} documents.\")\n",
        "\n",
        "    @step(pass_context=True)\n",
        "    async def retrieve(\n",
        "        self, ctx: Context, ev: StartEvent\n",
        "    ) -> RetrieverEvent | None:\n",
        "        \"RAG Entry, triggered by a StartEvent with `query`.\"\n",
        "        query = ev.get(\"query\")\n",
        "        print(f\"Query the database with: {query}\")\n",
        "        if not query:\n",
        "            return None\n",
        "\n",
        "        # load from disk\n",
        "        db2 = chromadb.PersistentClient(path=\"./chroma_db\")\n",
        "        chroma_collection = db2.get_or_create_collection(\"wflows\")\n",
        "        vector_store = ChromaVectorStore(chroma_collection=chroma_collection)\n",
        "        index = VectorStoreIndex.from_vector_store(\n",
        "            vector_store,\n",
        "            embed_model=embed_model,\n",
        "        )\n",
        "\n",
        "        print(f\"context : {ctx}\")\n",
        "        # store the query in the global context\n",
        "        ctx.data[\"query\"] = query\n",
        "\n",
        "        # get the index from the global context\n",
        "        #index = ctx.data.get(\"index\")\n",
        "        if index is None:\n",
        "            print(\"Index is empty, load some documents before querying!\")\n",
        "            return None\n",
        "\n",
        "        retriever = index.as_retriever(similarity_top_k=2)\n",
        "        nodes = retriever.retrieve(query)\n",
        "        print(f\"Retrieved {len(nodes)} nodes.\")\n",
        "        return RetrieverEvent(nodes=nodes)\n",
        "\n",
        "    @step(pass_context=True)\n",
        "    async def synthesize(self, ctx: Context, ev: RetrieverEvent) -> StopEvent:\n",
        "        llm = Groq(model=\"llama3-70b-8192\")\n",
        "        summarizer = CompactAndRefine(llm=llm, streaming=True, verbose=True)\n",
        "        query = ctx.data.get(\"query\")\n",
        "\n",
        "        response = await summarizer.asynthesize(query, nodes=ev.nodes)\n",
        "        return StopEvent(result=response)"
      ],
      "metadata": {
        "id": "YiLQVEB24YqB"
      },
      "execution_count": null,
      "outputs": []
    },
    {
      "cell_type": "markdown",
      "source": [
        "## Visualizing the workflow"
      ],
      "metadata": {
        "id": "P5ZD93t4vHAH"
      }
    },
    {
      "cell_type": "code",
      "source": [
        "%pip install -qU llama-index-utils-workflow"
      ],
      "metadata": {
        "id": "LFA10cTU0iz9"
      },
      "execution_count": 16,
      "outputs": []
    },
    {
      "cell_type": "code",
      "source": [
        "from llama_index.utils.workflow import (\n",
        "    draw_all_possible_flows,\n",
        "    draw_most_recent_execution,\n",
        ")\n",
        "\n",
        "draw_all_possible_flows(RAGWorkflow, filename=\"RAG_flow.html\")\n",
        "\n",
        "w = RAGWorkflow(timeout=100,verbose=True)\n",
        "await w.run(dirname=\"Data\")\n",
        "result = await w.run(query=\"What is Fibromyalgia?\")\n",
        "async for chunk in result.async_response_gen():\n",
        "    print(chunk, end=\"\", flush=True)\n",
        "draw_most_recent_execution(w, filename=\"rag_flow_recent.html\")"
      ],
      "metadata": {
        "colab": {
          "base_uri": "https://localhost:8080/"
        },
        "id": "__SZstmfvKJN",
        "outputId": "9676990c-eac4-4203-fdcb-f6183c57b8d4"
      },
      "execution_count": null,
      "outputs": [
        {
          "output_type": "stream",
          "name": "stdout",
          "text": [
            "RAG_flow.html\n",
            "Running step ingest\n",
            "directory name: Data\n",
            "Indexed 8 documents.\n",
            "Step ingest produced event StopEvent\n",
            "Running step retrieve\n",
            "Query the database with: None\n",
            "Step retrieve produced no event\n",
            "Running step ingest\n",
            "directory name: None\n",
            "Step ingest produced no event\n",
            "Running step retrieve\n",
            "Query the database with: What is Fibromyalgia?\n",
            "context : <llama_index.core.workflow.context.Context object at 0x7f6260782920>\n",
            "Retrieved 1 nodes.\n",
            "Step retrieve produced event RetrieverEvent\n",
            "Running step synthesize\n",
            "Step synthesize produced event StopEvent\n",
            "The diagnosis of fibromyalgia is established to reassure patients and prevent further unnecessary testing and anxiety.rag_flow_recent.html\n"
          ]
        }
      ]
    },
    {
      "cell_type": "markdown",
      "source": [
        "Executing the Workflow"
      ],
      "metadata": {
        "id": "maPc6e1Au9uh"
      }
    },
    {
      "cell_type": "code",
      "source": [
        "result"
      ],
      "metadata": {
        "colab": {
          "base_uri": "https://localhost:8080/"
        },
        "id": "gdS7bDxNGKIf",
        "outputId": "2965ad91-0358-4575-c2d4-45c4ec9b65d5"
      },
      "execution_count": null,
      "outputs": [
        {
          "output_type": "execute_result",
          "data": {
            "text/plain": [
              "AsyncStreamingResponse(response_gen=<async_generator object astream_chat_response_to_tokens.<locals>.gen at 0x7f62549a9cc0>, source_nodes=[NodeWithScore(node=TextNode(id_='fe6d5750-1cdc-4540-b0b3-91f091364862', embedding=None, metadata={'page_label': '141', 'file_name': 'fibromyalgia.pdf', 'file_path': '/content/Data/fibromyalgia.pdf', 'file_type': 'application/pdf', 'file_size': 632664, 'creation_date': '2024-09-08', 'last_modified_date': '2023-03-24'}, excluded_embed_metadata_keys=['file_name', 'file_type', 'file_size', 'creation_date', 'last_modified_date', 'last_accessed_date'], excluded_llm_metadata_keys=['file_name', 'file_type', 'file_size', 'creation_date', 'last_modified_date', 'last_accessed_date'], relationships={<NodeRelationship.SOURCE: '1'>: RelatedNodeInfo(node_id='8b14e228-38b3-410c-b93a-f1b7dc460d9d', node_type=<ObjectType.DOCUMENT: '4'>, metadata={'page_label': '141', 'file_name': 'fibromyalgia.pdf', 'file_path': '/content/Data/fibromyalgia.pdf', 'file_type': 'application/pdf', 'file_size': 632664, 'creation_date': '2024-09-08', 'last_modified_date': '2023-03-24'}, hash='5a5bbd21c6aa79dbe382a697905174b304ca998e7af979e97462e86a195e9557'), <NodeRelationship.NEXT: '3'>: RelatedNodeInfo(node_id='833d458e-491b-4a8b-a032-9ec995aef9bb', node_type=<ObjectType.TEXT: '1'>, metadata={}, hash='e3cb3584d79b62ad0ec2e5aa89957a60d3e6fe204be6c30f1d58f94885e17705')}, text='February 2023  ◆ Volume 107, Number 2  www.aafp.org/afp  American Family Physician  141\\nFIBROMYALGIAManagement\\nThe initial benefit of establishing the diagnosis of fibromy -\\nalgia is to reassure patients and prevent further unnecessary \\ntesting and anxiety. The goal of fibromyalgia treatment is to manage symptoms such as pain, fatigue, poor sleep, and cognitive issues. A multidisciplinary individualized treat -\\nment regimen that includes pharmacologic and nonphar -\\nmacologic elements is recommended. An industry-funded initiative called the FibroCollaborative convened a panel of fibromyalgia experts to make clinical recommendations. It emphasizes a multimodal approach that includes patient education, treatment of comorbid conditions, lifestyle mod -\\nification, pharmacologic therapy, cognitive behavior ther -\\napy (CBT), and self-management support.\\n27\\nNONPHARMACOLOGIC TREATMENT\\nPatient education is important for patients with fibromy -\\nalgia and improves outcomes.27,28 Educating patients about \\nthe diagnosis, pathophysiology, and clinical manifestations can reassure patients, improve patient satisfaction, decrease symptoms, and reduce health care utilization.\\n6,12,27 Clini -\\ncians can refer patients to websites such as the University of Michigan’s Pain Guide and the National Fibromyalgia Association.\\n29,30 Combining self-management strategies with \\nexercise is beneficial.31 Table 4 lists nonpharmacologic treat -\\nment options for fibromyalgia.27-38\\nThere is moderate-quality evidence that exer -\\ncise (i.e., aerobic, resistance, stretching, or a combination) produces small improvements in quality of life, pain, and physical function in patients with fibromyalgia.\\n33,39 The strongest \\nevidence exists for aerobic exercise of moderate intensity. In addition to improvements in pain and function, exercise can decrease fatigue and improve sleep quality.\\n32 Exercise prescriptions \\nshould start at a low intensity and low frequency and gradually increase in intensity and frequency.\\nCBT teaches patients how to change nega -\\ntive thoughts and behaviors, and helps promote skills to improve chronic pain, fatigue, and poor sleep. Options include traditional CBT, acceptance-based cognitive therapies, and oper -\\nant therapy. Three systematic reviews demon -\\nstrated moderate-quality evidence that patients with fibromyalgia treated with CBT experience modest improvements in pain and disability in the short and medium term.\\n32,34,35\\nAs part of a multidisciplinary treatment \\napproach, patients with fibromyalgia may pursue complementary and alternative medicine options such as acupuncture, massage, meditation, nutritional supplements, and herbs.\\n27,28 Most complemen -\\ntary and alternative medicine options have not been exten -\\nsively studied, and there is no consistently high-quality evidence to support them.\\n40 A systematic review found that \\nyoga, Pilates, and tai chi improved function and reduced pain.\\n36 One randomized trial found that performing tai chi \\nfor one hour twice per week for 12 to 24 weeks led to mod -\\nerate symptomatic improvement in pain and function.37 \\nMeditation and mindfulness techniques are also promising options.\\n40 A Cochrane review concluded that acupuncture \\ncould improve short-term pain and stiffness compared with usual care, but it is not consistently better than sham acu -\\npuncture.\\n41 Manual therapy, specifically myofascial release, \\nmay decrease symptoms and improve the quality of life in patients with fibromyalgia.\\n38 Manual therapy acts on the \\nascending nociceptive pathways involved in the process of central sensitization.\\n38 A small trial suggested that patient \\nself-myofascial release improves pain and quality of life.42\\nThere are limited studies showing uncertain benefits of \\ncannabinoids for the treatment of fibromyalgia, although use is becoming more common.\\n40 Other possible treatments \\nthat have not been well studied in patients with fibromy -\\nalgia include transcutaneous electrical nerve stimulation units, thermal therapies, hyperbaric oxygen, laser and pho -\\ntotherapy, transdermal magnesium, and vibroacoustic and rhythmic sensory stimulation.\\n13,40\\nTABLE 4\\nNonpharmacologic Treatments for Fibromyalgia\\nIntervention Comments\\nPatient education and \\nself-management27,30Provide information about diagnosis, patho -\\nphysiology, and prognosis\\nDiscuss treatment expectationsOffer resources such as the National Fibro -\\nmyalgia Association \\n(https://  www.fmaware.', mimetype='text/plain', start_char_idx=0, end_char_idx=4451, text_template='{metadata_str}\\n\\n{content}', metadata_template='{key}: {value}', metadata_seperator='\\n'), score=0.5424418721165257)], metadata={'fe6d5750-1cdc-4540-b0b3-91f091364862': {'page_label': '141', 'file_name': 'fibromyalgia.pdf', 'file_path': '/content/Data/fibromyalgia.pdf', 'file_type': 'application/pdf', 'file_size': 632664, 'creation_date': '2024-09-08', 'last_modified_date': '2023-03-24'}}, response_txt='The diagnosis of fibromyalgia is established to reassure patients and prevent further unnecessary testing and anxiety.')"
            ]
          },
          "metadata": {},
          "execution_count": 58
        }
      ]
    },
    {
      "cell_type": "code",
      "source": [
        "from llama_index.utils.workflow import draw_all_possible_flows\n",
        "\n",
        "draw_all_possible_flows(RAGWorkflow, filename=\"RAG_workflow.html\")"
      ],
      "metadata": {
        "colab": {
          "base_uri": "https://localhost:8080/"
        },
        "id": "VhpeIlAPGK23",
        "outputId": "06492c31-8e22-4a04-ae0a-0cfa99f9c9ac"
      },
      "execution_count": null,
      "outputs": [
        {
          "output_type": "stream",
          "name": "stdout",
          "text": [
            "RAG_workflow.html\n"
          ]
        }
      ]
    },
    {
      "cell_type": "code",
      "source": [
        "result = await w.run(query=\"What is the diagnosis of Fibromyalgia?\")\n",
        "async for chunk in result.async_response_gen():\n",
        "    print(chunk, end=\"\", flush=True)\n",
        "draw_most_recent_execution(w, filename=\"rag_flow_recent.html\")"
      ],
      "metadata": {
        "colab": {
          "base_uri": "https://localhost:8080/"
        },
        "id": "mBahxO-mIeyi",
        "outputId": "924cde79-623b-4e82-af00-ee4c8f5a119c"
      },
      "execution_count": null,
      "outputs": [
        {
          "output_type": "stream",
          "name": "stdout",
          "text": [
            "Running step ingest\n",
            "directory name: None\n",
            "Step ingest produced no event\n",
            "Running step retrieve\n",
            "Query the database with: What is the diagnosis of Fibromyalgia?\n",
            "context : <llama_index.core.workflow.context.Context object at 0x7f6261bd3130>\n",
            "Retrieved 1 nodes.\n",
            "Step retrieve produced event RetrieverEvent\n",
            "Running step synthesize\n",
            "Step synthesize produced event StopEvent\n",
            "The diagnosis of Fibromyalgia is based on the presence of multisite pain, defined as six or more pain sites from a total of nine possible sites, moderate to severe sleep problems or fatigue, and symptoms present for at least three months.rag_flow_recent.html\n"
          ]
        }
      ]
    },
    {
      "cell_type": "code",
      "source": [
        "draw_most_recent_execution(w)"
      ],
      "metadata": {
        "colab": {
          "base_uri": "https://localhost:8080/"
        },
        "id": "8uWmKmJqIoha",
        "outputId": "5e6b4c32-ee4e-43e6-f5ba-5d6cfa6f1222"
      },
      "execution_count": null,
      "outputs": [
        {
          "output_type": "stream",
          "name": "stdout",
          "text": [
            "workflow_recent_execution.html\n"
          ]
        }
      ]
    },
    {
      "cell_type": "code",
      "source": [
        "from llama_index.utils.workflow import draw_all_possible_flows\n",
        "from llama_index.utils.workflow import draw_most_recent_execution\n",
        "draw_all_possible_flows(RAGWorkflow, filename=\"trivial_workflow.html\")"
      ],
      "metadata": {
        "colab": {
          "base_uri": "https://localhost:8080/"
        },
        "id": "v6I3locWIpzP",
        "outputId": "ce3d757a-4c6b-4108-d4e3-df88edacfb6c"
      },
      "execution_count": null,
      "outputs": [
        {
          "output_type": "stream",
          "name": "stdout",
          "text": [
            "trivial_workflow.html\n"
          ]
        }
      ]
    },
    {
      "cell_type": "code",
      "source": [
        "from llama_index.core.workflow import Event\n",
        "from llama_index.core.schema import NodeWithScore\n",
        "\n",
        "\n",
        "class RetrieverEvent(Event):\n",
        "    \"\"\"Result of running retrieval\"\"\"\n",
        "\n",
        "    nodes: list[NodeWithScore]\n",
        "\n",
        "\n",
        "class RerankEvent(Event):\n",
        "    \"\"\"Result of running reranking on retrieved nodes\"\"\"\n",
        "\n",
        "    nodes: list[NodeWithScore]"
      ],
      "metadata": {
        "id": "N6F2ZuP794yI"
      },
      "execution_count": 83,
      "outputs": []
    },
    {
      "cell_type": "code",
      "source": [
        "from google.colab import userdata\n",
        "import os\n",
        "#\n",
        "os.environ[\"OPENAI_API_KEY\"] = userdata.get('OPENAI_API_KEY')"
      ],
      "metadata": {
        "id": "JS2aQ6E098Lf"
      },
      "execution_count": 33,
      "outputs": []
    },
    {
      "cell_type": "code",
      "source": [
        "from llama_index.core import SimpleDirectoryReader, VectorStoreIndex\n",
        "from llama_index.core.response_synthesizers import CompactAndRefine\n",
        "from llama_index.core.postprocessor.llm_rerank import LLMRerank\n",
        "from llama_index.core.workflow import (\n",
        "    Context,\n",
        "    Workflow,\n",
        "    StartEvent,\n",
        "    StopEvent,\n",
        "    step,\n",
        ")\n",
        "\n",
        "from llama_index.llms.openai import OpenAI\n",
        "from llama_index.embeddings.openai import OpenAIEmbedding\n",
        "\n",
        "\n",
        "class RAGWorkflow(Workflow):\n",
        "    @step\n",
        "    async def ingest(self, ctx: Context, ev: StartEvent) -> StopEvent | None:\n",
        "        \"\"\"Entry point to ingest a document, triggered by a StartEvent with `dirname`.\"\"\"\n",
        "        dirname = ev.get(\"dirname\")\n",
        "        if not dirname:\n",
        "            return None\n",
        "\n",
        "        documents = SimpleDirectoryReader(dirname).load_data()\n",
        "        index = VectorStoreIndex.from_documents(\n",
        "            documents=documents,\n",
        "            embed_model=HuggingFaceEmbedding(model_name=\"BAAI/bge-small-en-v1.5\"),\n",
        "        )\n",
        "        return StopEvent(result=index)\n",
        "\n",
        "    @step\n",
        "    async def retrieve(\n",
        "        self, ctx: Context, ev: StartEvent\n",
        "    ) -> RetrieverEvent | None:\n",
        "        \"Entry point for RAG, triggered by a StartEvent with `query`.\"\n",
        "        query = ev.get(\"query\")\n",
        "        index = ev.get(\"index\")\n",
        "\n",
        "        if not query:\n",
        "            return None\n",
        "\n",
        "        print(f\"Query the database with: {query}\")\n",
        "\n",
        "        # store the query in the global context\n",
        "        await ctx.set(\"query\", query)\n",
        "\n",
        "        # get the index from the global context\n",
        "        if index is None:\n",
        "            print(\"Index is empty, load some documents before querying!\")\n",
        "            return None\n",
        "\n",
        "        retriever = index.as_retriever(similarity_top_k=2)\n",
        "        nodes = await retriever.aretrieve(query)\n",
        "        print(f\"Retrieved {len(nodes)} nodes.\")\n",
        "        return RetrieverEvent(nodes=nodes)\n",
        "\n",
        "    @step\n",
        "    async def rerank(self, ctx: Context, ev: RetrieverEvent) -> RerankEvent:\n",
        "        # Rerank the nodes\n",
        "        ranker = LLMRerank(\n",
        "            choice_batch_size=5, top_n=3, llm=Groq(model=\"llama-3.1-70b-versatile\")\n",
        "        )\n",
        "        print(await ctx.get(\"query\", default=None), flush=True)\n",
        "        new_nodes = ranker.postprocess_nodes(\n",
        "            ev.nodes, query_str=await ctx.get(\"query\", default=None)\n",
        "        )\n",
        "        print(f\"Reranked nodes to {len(new_nodes)}\")\n",
        "        print(new_nodes)\n",
        "        return RerankEvent(nodes=new_nodes)\n",
        "\n",
        "    @step\n",
        "    async def synthesize(self, ctx: Context, ev: RerankEvent) -> StopEvent:\n",
        "        \"\"\"Return a streaming response using reranked nodes.\"\"\"\n",
        "        llm=Groq(model=\"llama-3.1-70b-versatile\")\n",
        "        summarizer = CompactAndRefine(llm=llm, streaming=True, verbose=True)\n",
        "        query = await ctx.get(\"query\", default=None)\n",
        "\n",
        "        response = await summarizer.asynthesize(query, nodes=ev.nodes)\n",
        "        return StopEvent(result=response)"
      ],
      "metadata": {
        "id": "tCbEn4NO9ze7"
      },
      "execution_count": 84,
      "outputs": []
    },
    {
      "cell_type": "code",
      "source": [
        "w = RAGWorkflow()\n",
        "\n",
        "# Ingest the documents\n",
        "index = await w.run(dirname=\"Data\")"
      ],
      "metadata": {
        "id": "rxVnpmcr-H1P"
      },
      "execution_count": 85,
      "outputs": []
    },
    {
      "cell_type": "code",
      "source": [
        "# Run a query\n",
        "result = await w.run(query=\"What is Fibromyalgia?\", index=index)\n",
        "async for chunk in result.async_response_gen():\n",
        "    print(chunk, end=\"\", flush=True)"
      ],
      "metadata": {
        "colab": {
          "base_uri": "https://localhost:8080/"
        },
        "id": "Tcj922v1-MF3",
        "outputId": "fad688d9-d892-45f4-a064-60381c63075d"
      },
      "execution_count": 86,
      "outputs": [
        {
          "output_type": "stream",
          "name": "stdout",
          "text": [
            "Query the database with: What is Fibromyalgia?\n",
            "Retrieved 2 nodes.\n",
            "What is Fibromyalgia?\n",
            "Reranked nodes to 2\n",
            "[NodeWithScore(node=TextNode(id_='5216ae7e-d7f2-4abc-b742-b0593ba463da', embedding=None, metadata={'page_label': '137', 'file_name': 'fibromyalgia.pdf', 'file_path': '/content/Data/fibromyalgia.pdf', 'file_type': 'application/pdf', 'file_size': 632664, 'creation_date': '2024-09-10', 'last_modified_date': '2023-03-24'}, excluded_embed_metadata_keys=['file_name', 'file_type', 'file_size', 'creation_date', 'last_modified_date', 'last_accessed_date'], excluded_llm_metadata_keys=['file_name', 'file_type', 'file_size', 'creation_date', 'last_modified_date', 'last_accessed_date'], relationships={<NodeRelationship.SOURCE: '1'>: RelatedNodeInfo(node_id='8fc7c499-bbb6-4beb-808a-1076424f4b42', node_type=<ObjectType.DOCUMENT: '4'>, metadata={'page_label': '137', 'file_name': 'fibromyalgia.pdf', 'file_path': '/content/Data/fibromyalgia.pdf', 'file_type': 'application/pdf', 'file_size': 632664, 'creation_date': '2024-09-10', 'last_modified_date': '2023-03-24'}, hash='c70178d6db587d29e77970e161c76a1abb2ef7d49978421819193e71322b44f4'), <NodeRelationship.NEXT: '3'>: RelatedNodeInfo(node_id='9c981801-0652-4cae-843e-a69f95077794', node_type=<ObjectType.TEXT: '1'>, metadata={}, hash='ae86bbb0dc3fc0820ab5d3ea8545e68a9fe5ed83eec1bf43f822637cc1c887ed')}, text='February 2023  ◆ Volume 107, Number 2  www.aafp.org/afp  American Family Physician  137Fibromyalgia is characterized by diffuse mus -\\nculoskeletal pain, fatigue, poor sleep, and other \\nsomatic symptoms.1 Chronic diffuse pain affects \\n10% to 15% of adults in the general population worldwide, many of whom have fibromyalgia.\\n2,3 \\nApproximately 2% of people in the United States have fibromyalgia, although the prevalence var -\\nies across populations and with the diagnostic criteria used.\\n3 Fibromyalgia can occur in chil -\\ndren and adults and is found worldwide and across cultures. Women are diagnosed more \\nfrequently than men;   a Scot tish survey found \\nthat women are diagnosed between two and 14 times as often as men depending on the crite -\\nria used.\\n3,4 Changes in the diagnostic criteria over the past decade, including the elimination of specific tender points, have resulted in more patients with chronic pain meeting the criteria for fibromyalgia.\\n3-5\\nPathophysiology\\nFibromyalgia is likely caused by disordered cen -\\ntral nociceptive signal processing that leads to sensitization expressed as hyperalgesia and allo -\\ndynia, which is similar to chronic pain conditions such as irritable bowel syndrome, interstitial cys -\\ntitis, chronic pelvic pain, and chronic low back pain.\\n6,7 Functional brain imaging suggests that \\nthis aberrant processing may be attributed to an imbalance between excitatory and inhibitory neu -\\nrotransmitters, particularly within the insula.\\n8 \\nSuggested etiologies include dysfunction of the hypothalamic-pituitary-adrenal axis and the autonomic nervous system, diffuse inflammation, glial cell activation, small fiber neuropathy, and infections such as the Epstein-Barr virus, Lyme disease, and viral hepatitis.\\n9 Twin studies suggest \\na genetic component may also be a factor.10Fibromyalgia:   Diagn osis and Management\\nBradford T. Winslow, MD, University of Colorado School of Medicine, Aurora, \\nColorado;   Swedi sh Family Medicine Residency, Englewood, Colorado\\nCarmen Vandal, MD, and Laurel Dang, MD, Swedish Family Medicine Residency, Englewood, Colorado\\n CME  This clinical content conforms to AAFP criteria for \\nCME. See CME Quiz on page 127.\\nAuthor disclosure:   No relevant financial relationships.\\nPatient information:   A handout on this topic, written by the \\nauthors of this article, is available with the online version of \\nthis article.Fibromyalgia is a chronic, centralized pain syndrome characterized by disordered processing of painful stimuli. Fibromyal -\\ngia is diagnosed more frequently in women and occurs globally, affecting 2% of people in the United States. Patients with \\nfibromyalgia have diffuse chronic pain, poor sleep, fatigue, cognitive dysfunc -\\ntion, and mood disturbances. Comorbid conditions, such as functional somatic syndromes, psychiatric diagnoses, and rheumatologic conditions may be pres -\\nent. The Fibromyalgia Rapid Screening Tool is a helpful screening method for patients with diffuse chronic pain. The American College of Rheumatology criteria or the Analgesic, Anesthetic, and Addiction Clinical Trial Translations Innovations Opportunities and Networks–American Pain Society Pain Taxonomy diagnostic criteria can diagnose fibromyalgia. Establishing the diagnosis and providing education can reassure patients and decrease unnecessary testing. A multidisciplinary approach that incorporates nonpharmacologic therapies and medications to address problematic symptoms is most effective. Patient educa -\\ntion, exercise, and cognitive behavior therapy can improve pain and function. Duloxetine, milnacipran, pregabalin, and amitriptyline are potentially effective medications for fibromyalgia. Nonsteroi -\\ndal anti-inflammatory drugs and opioids have not demonstrated benefits for fibromyalgia and have significant limitations.  \\n(Am Fam Physician\\n. 2023;  107(2):  137-1 44. Copyright © 2023 American Academy of Family Physicians.)\\nIllustration by Jonathan Dimes\\nDownloaded from the American Family Physician website at www.aafp.org/afp. Copyright © 2023  American Academy of Family Physicians. For the private, non -\\ncommercial use of one individual user of the website. All other rights reserved. Contact copyrights@aafp.org for copyright questions and/or permission requests.Downloaded from the American Family Physician website at www.aafp.org/afp. Copyright © 2023  American Academy of Family Physicians. For the private, non -\\ncommercial use of one individual user of the website.', mimetype='text/plain', start_char_idx=0, end_char_idx=4474, text_template='{metadata_str}\\n\\n{content}', metadata_template='{key}: {value}', metadata_seperator='\\n'), score=9.0), NodeWithScore(node=TextNode(id_='117ab201-ffa7-4588-b66b-6fb3234aec6b', embedding=None, metadata={'page_label': '138', 'file_name': 'fibromyalgia.pdf', 'file_path': '/content/Data/fibromyalgia.pdf', 'file_type': 'application/pdf', 'file_size': 632664, 'creation_date': '2024-09-10', 'last_modified_date': '2023-03-24'}, excluded_embed_metadata_keys=['file_name', 'file_type', 'file_size', 'creation_date', 'last_modified_date', 'last_accessed_date'], excluded_llm_metadata_keys=['file_name', 'file_type', 'file_size', 'creation_date', 'last_modified_date', 'last_accessed_date'], relationships={<NodeRelationship.SOURCE: '1'>: RelatedNodeInfo(node_id='60b20013-a8be-48a7-b96b-342519807ed4', node_type=<ObjectType.DOCUMENT: '4'>, metadata={'page_label': '138', 'file_name': 'fibromyalgia.pdf', 'file_path': '/content/Data/fibromyalgia.pdf', 'file_type': 'application/pdf', 'file_size': 632664, 'creation_date': '2024-09-10', 'last_modified_date': '2023-03-24'}, hash='f14fbdf6f0180dbf4c788fe4c81e58302ff38270f6ea6f8b9c961a071f568f13')}, text='138  American Family Physician  www.aafp.org/afp  Volume 107, Number 2  ◆ February 2023\\nFIBROMYALGIAClinical Presentation\\nChronic diffuse pain is the predominant \\nsymptom in most patients with fibromyalgia. Patients may also experience muscle stiffness and tenderness. The physical examination in patients with fibromyalgia generally finds diffuse tenderness without other unusual findings. If joint swelling, inflammation, or deformities are present, an alternative or additional diagnosis should be investigated.\\n5 \\nFatigue and sleep disturbances are also com -\\nmon.5,11 Sleep disturbances include difficulty \\nfalling and staying asleep, frequent awaken -\\nings, or feeling unrefreshed after sleeping. Comorbid mental health diagnoses are com -\\nmon, as are cognitive symptoms such as poor concentration, forgetfulness, or altered think -\\ning.\\n5,6,12 This cognitive dysfunction has been \\ntermed “fibrofog” and is described by patients as a mental slowing that adversely affects daily activities.\\n13\\nThe presence of another painful disorder \\ndoes not exclude the diagnosis of fibromyal -\\ngia. The Fibromyalgia Rapid Screening Tool can screen patients with diffuse chronic pain to help distinguish between fibromyalgia and other conditions (Table 1) .\\n14 The tool may SORT:   KEY RECOMMENDATIONS FOR PRACTICE\\nClinical recommendationEvidence \\nrating Comments\\nThe diagnosis of fibromyalgia should be considered in patients \\nwith diffuse pain, fatigue, and sleep disturbances that have been present for at least three months.\\n5,11C Diagnosis of fibromyalgia can be made using AAPT 2019 diagnostic criteria or the American College of Radiology 2011/2016 criteria\\nPatients with fibromyalgia should be offered a multidisci -\\nplinary treatment approach that includes education, exercise, and nonpharmacologic and pharmacologic options.\\n27,28C Consensus guidelines and systematic reviews\\nCognitive behavior therapy leads to improvement in pain and disability in patients with fibromyalgia in the short and medium term.\\n32,34,35A Systematic reviews demonstrate improvement\\nAmitriptyline, cyclobenzaprine, duloxetine (Cymbalta), mil -\\nnacipran (Savella), and pregabalin (Lyrica) are effective for pain in fibromyalgia.\\n43,46-48,50,52,54A Systematic reviews demonstrate effectiveness of these medications\\nAAPT = Analgesic, Anesthetic, and Addiction Clinical Trial Translations Innovations Opportunities and Networks–American Pain Society Pain \\nTaxonomy.\\nA = consistent, good-quality patient-oriented evidence;   B = inconsistent or limited-quality patient-oriented evidence;   C = consensus, disease -\\noriented evidence, usual practice, expert opinion, or case series. For information about the SORT evidence rating system, go to https://  www.aafp.\\norg/afpsort.\\nTABLE 1\\nFibromyalgia Rapid Screening Tool (FiRST)\\n Yes\\nI have pain all over my body.  \\nMy pain is accompanied by a continuous and very unpleas -\\nant general fatigue. \\nMy pain feels like burns, electric shocks, or cramps.  \\nMy pain is accompanied by other unusual sensations \\nthroughout my body, such as pins and needles, tingling, or numbness. \\nMy pain is accompanied by other health problems such as digestive problems, urinary problems, headaches, or restless legs. \\nMy pain has a significant impact on my life, particularly on my sleep and my ability to concentrate, making me feel slower in general. \\nTotal*  \\n*—One point for each yes answer. A score of 5 or greater suggests fibromyalgia.\\nAdapted with permission from Perrot S, Bouhassira D, Fermanian J;   CEDR (C ercle \\nd’Etude de la Douleur en Rhumatologie). Development and validation of the Fibro -\\nmyalgia Rapid Screening Tool (FiRST). Pain. 2010;  150(2):  255.\\nDescargado para Boletin -BINASSS (bolet-binas@binasss.sa.cr) en National Library of Health and Social Security de ClinicalKey.es por Elsevier en marzo 24, \\n2023. Para uso personal exclusivamente. No se permiten otros usos sin autorización. Copyright ©2023. Elsevier Inc. Todos los derechos reservados.', mimetype='text/plain', start_char_idx=0, end_char_idx=3975, text_template='{metadata_str}\\n\\n{content}', metadata_template='{key}: {value}', metadata_seperator='\\n'), score=8.0)]\n",
            "Fibromyalgia is a chronic, centralized pain syndrome characterized by disordered processing of painful stimuli. It is characterized by diffuse musculoskeletal pain, fatigue, poor sleep, and other somatic symptoms."
          ]
        }
      ]
    },
    {
      "cell_type": "code",
      "source": [
        "result = await w.run(query=\"What is the diagnosis of Fibromyalgia?\", index=index)\n",
        "async for chunk in result.async_response_gen():\n",
        "    print(chunk, end=\"\", flush=True)"
      ],
      "metadata": {
        "colab": {
          "base_uri": "https://localhost:8080/"
        },
        "id": "p1_x0kA0AIkI",
        "outputId": "d2b65a47-ae57-4cc9-afe7-adc72036aaab"
      },
      "execution_count": 48,
      "outputs": [
        {
          "output_type": "stream",
          "name": "stdout",
          "text": [
            "Query the database with: What is the diagnosis of Fibromyalgia?\n",
            "Retrieved 2 nodes.\n",
            "What is the diagnosis of Fibromyalgia?\n",
            "Reranked nodes to 2\n",
            "The diagnosis of fibromyalgia can be made using the AAPT 2019 diagnostic criteria, which include the following:\n",
            "\n",
            "1. Multisite pain, defined as pain in six or more of nine possible sites.\n",
            "2. Moderate to severe sleep problems or fatigue.\n",
            "3. Symptoms must be present for at least three months.\n",
            "\n",
            "Additionally, the Fibromyalgia Rapid Screening Tool can be utilized to help distinguish fibromyalgia from other conditions in patients with diffuse chronic pain."
          ]
        }
      ]
    },
    {
      "cell_type": "code",
      "source": [
        "result = await w.run(query=\"What is the diagnosis of Fibromyalgia?\", index=index)\n",
        "async for chunk in result.async_response_gen():\n",
        "    print(chunk, end=\"\", flush=True)"
      ],
      "metadata": {
        "id": "JfdAOzd4DCxc"
      },
      "execution_count": null,
      "outputs": []
    },
    {
      "cell_type": "code",
      "source": [
        "from llama_index.utils.workflow import draw_all_possible_flows\n",
        "\n",
        "draw_all_possible_flows(RAGWorkflow, filename=\"multi_step_workflow.html\")"
      ],
      "metadata": {
        "colab": {
          "base_uri": "https://localhost:8080/"
        },
        "id": "zTUinCtP-a-p",
        "outputId": "827ab0c5-0b90-443d-d91d-dcb65555c28b"
      },
      "execution_count": 43,
      "outputs": [
        {
          "output_type": "stream",
          "name": "stdout",
          "text": [
            "multi_step_workflow.html\n"
          ]
        }
      ]
    },
    {
      "cell_type": "code",
      "source": [
        "from llama_index.utils.workflow import (\n",
        "    draw_all_possible_flows,\n",
        "    draw_most_recent_execution,\n",
        ")\n",
        "\n",
        "\n",
        "\n",
        "# Draw an execution\n",
        "w = RAGWorkflow()\n",
        "# # Draw all\n",
        "draw_all_possible_flows(w, filename=\"multi_step_workflow.html\")\n",
        "# Ingest the documents\n",
        "index = await w.run(dirname=\"Data\")\n",
        "result = await w.run(query=\"What is Fibromyalgia?\", index=index)\n",
        "async for chunk in result.async_response_gen():\n",
        "    print(chunk, end=\"\", flush=True)\n",
        "draw_most_recent_execution(w, filename=\"rag_flow_recent.html\")"
      ],
      "metadata": {
        "colab": {
          "base_uri": "https://localhost:8080/"
        },
        "id": "p6bsEBumCUcW",
        "outputId": "8a07180d-848e-46a4-bcd0-56b5ac6270fa"
      },
      "execution_count": 96,
      "outputs": [
        {
          "output_type": "stream",
          "name": "stdout",
          "text": [
            "multi_step_workflow.html\n",
            "Query the database with: What is Fibromyalgia?\n",
            "Retrieved 2 nodes.\n",
            "What is Fibromyalgia?\n",
            "Reranked nodes to 2\n",
            "[NodeWithScore(node=TextNode(id_='2107de7b-2033-4094-83d0-64a471bf3232', embedding=None, metadata={'page_label': '137', 'file_name': 'fibromyalgia.pdf', 'file_path': '/content/Data/fibromyalgia.pdf', 'file_type': 'application/pdf', 'file_size': 632664, 'creation_date': '2024-09-10', 'last_modified_date': '2023-03-24'}, excluded_embed_metadata_keys=['file_name', 'file_type', 'file_size', 'creation_date', 'last_modified_date', 'last_accessed_date'], excluded_llm_metadata_keys=['file_name', 'file_type', 'file_size', 'creation_date', 'last_modified_date', 'last_accessed_date'], relationships={<NodeRelationship.SOURCE: '1'>: RelatedNodeInfo(node_id='f86fad28-72a5-4f88-a929-1712e9866659', node_type=<ObjectType.DOCUMENT: '4'>, metadata={'page_label': '137', 'file_name': 'fibromyalgia.pdf', 'file_path': '/content/Data/fibromyalgia.pdf', 'file_type': 'application/pdf', 'file_size': 632664, 'creation_date': '2024-09-10', 'last_modified_date': '2023-03-24'}, hash='c70178d6db587d29e77970e161c76a1abb2ef7d49978421819193e71322b44f4'), <NodeRelationship.NEXT: '3'>: RelatedNodeInfo(node_id='903818a8-0b83-41fe-88fa-cd39f67dbd52', node_type=<ObjectType.TEXT: '1'>, metadata={}, hash='ae86bbb0dc3fc0820ab5d3ea8545e68a9fe5ed83eec1bf43f822637cc1c887ed')}, text='February 2023  ◆ Volume 107, Number 2  www.aafp.org/afp  American Family Physician  137Fibromyalgia is characterized by diffuse mus -\\nculoskeletal pain, fatigue, poor sleep, and other \\nsomatic symptoms.1 Chronic diffuse pain affects \\n10% to 15% of adults in the general population worldwide, many of whom have fibromyalgia.\\n2,3 \\nApproximately 2% of people in the United States have fibromyalgia, although the prevalence var -\\nies across populations and with the diagnostic criteria used.\\n3 Fibromyalgia can occur in chil -\\ndren and adults and is found worldwide and across cultures. Women are diagnosed more \\nfrequently than men;   a Scot tish survey found \\nthat women are diagnosed between two and 14 times as often as men depending on the crite -\\nria used.\\n3,4 Changes in the diagnostic criteria over the past decade, including the elimination of specific tender points, have resulted in more patients with chronic pain meeting the criteria for fibromyalgia.\\n3-5\\nPathophysiology\\nFibromyalgia is likely caused by disordered cen -\\ntral nociceptive signal processing that leads to sensitization expressed as hyperalgesia and allo -\\ndynia, which is similar to chronic pain conditions such as irritable bowel syndrome, interstitial cys -\\ntitis, chronic pelvic pain, and chronic low back pain.\\n6,7 Functional brain imaging suggests that \\nthis aberrant processing may be attributed to an imbalance between excitatory and inhibitory neu -\\nrotransmitters, particularly within the insula.\\n8 \\nSuggested etiologies include dysfunction of the hypothalamic-pituitary-adrenal axis and the autonomic nervous system, diffuse inflammation, glial cell activation, small fiber neuropathy, and infections such as the Epstein-Barr virus, Lyme disease, and viral hepatitis.\\n9 Twin studies suggest \\na genetic component may also be a factor.10Fibromyalgia:   Diagn osis and Management\\nBradford T. Winslow, MD, University of Colorado School of Medicine, Aurora, \\nColorado;   Swedi sh Family Medicine Residency, Englewood, Colorado\\nCarmen Vandal, MD, and Laurel Dang, MD, Swedish Family Medicine Residency, Englewood, Colorado\\n CME  This clinical content conforms to AAFP criteria for \\nCME. See CME Quiz on page 127.\\nAuthor disclosure:   No relevant financial relationships.\\nPatient information:   A handout on this topic, written by the \\nauthors of this article, is available with the online version of \\nthis article.Fibromyalgia is a chronic, centralized pain syndrome characterized by disordered processing of painful stimuli. Fibromyal -\\ngia is diagnosed more frequently in women and occurs globally, affecting 2% of people in the United States. Patients with \\nfibromyalgia have diffuse chronic pain, poor sleep, fatigue, cognitive dysfunc -\\ntion, and mood disturbances. Comorbid conditions, such as functional somatic syndromes, psychiatric diagnoses, and rheumatologic conditions may be pres -\\nent. The Fibromyalgia Rapid Screening Tool is a helpful screening method for patients with diffuse chronic pain. The American College of Rheumatology criteria or the Analgesic, Anesthetic, and Addiction Clinical Trial Translations Innovations Opportunities and Networks–American Pain Society Pain Taxonomy diagnostic criteria can diagnose fibromyalgia. Establishing the diagnosis and providing education can reassure patients and decrease unnecessary testing. A multidisciplinary approach that incorporates nonpharmacologic therapies and medications to address problematic symptoms is most effective. Patient educa -\\ntion, exercise, and cognitive behavior therapy can improve pain and function. Duloxetine, milnacipran, pregabalin, and amitriptyline are potentially effective medications for fibromyalgia. Nonsteroi -\\ndal anti-inflammatory drugs and opioids have not demonstrated benefits for fibromyalgia and have significant limitations.  \\n(Am Fam Physician\\n. 2023;  107(2):  137-1 44. Copyright © 2023 American Academy of Family Physicians.)\\nIllustration by Jonathan Dimes\\nDownloaded from the American Family Physician website at www.aafp.org/afp. Copyright © 2023  American Academy of Family Physicians. For the private, non -\\ncommercial use of one individual user of the website. All other rights reserved. Contact copyrights@aafp.org for copyright questions and/or permission requests.Downloaded from the American Family Physician website at www.aafp.org/afp. Copyright © 2023  American Academy of Family Physicians. For the private, non -\\ncommercial use of one individual user of the website.', mimetype='text/plain', start_char_idx=0, end_char_idx=4474, text_template='{metadata_str}\\n\\n{content}', metadata_template='{key}: {value}', metadata_seperator='\\n'), score=9.0), NodeWithScore(node=TextNode(id_='477ee79f-0a31-4140-b451-d80a664a6bb0', embedding=None, metadata={'page_label': '138', 'file_name': 'fibromyalgia.pdf', 'file_path': '/content/Data/fibromyalgia.pdf', 'file_type': 'application/pdf', 'file_size': 632664, 'creation_date': '2024-09-10', 'last_modified_date': '2023-03-24'}, excluded_embed_metadata_keys=['file_name', 'file_type', 'file_size', 'creation_date', 'last_modified_date', 'last_accessed_date'], excluded_llm_metadata_keys=['file_name', 'file_type', 'file_size', 'creation_date', 'last_modified_date', 'last_accessed_date'], relationships={<NodeRelationship.SOURCE: '1'>: RelatedNodeInfo(node_id='c6279116-f83a-4638-a63f-b57441c4fcec', node_type=<ObjectType.DOCUMENT: '4'>, metadata={'page_label': '138', 'file_name': 'fibromyalgia.pdf', 'file_path': '/content/Data/fibromyalgia.pdf', 'file_type': 'application/pdf', 'file_size': 632664, 'creation_date': '2024-09-10', 'last_modified_date': '2023-03-24'}, hash='f14fbdf6f0180dbf4c788fe4c81e58302ff38270f6ea6f8b9c961a071f568f13')}, text='138  American Family Physician  www.aafp.org/afp  Volume 107, Number 2  ◆ February 2023\\nFIBROMYALGIAClinical Presentation\\nChronic diffuse pain is the predominant \\nsymptom in most patients with fibromyalgia. Patients may also experience muscle stiffness and tenderness. The physical examination in patients with fibromyalgia generally finds diffuse tenderness without other unusual findings. If joint swelling, inflammation, or deformities are present, an alternative or additional diagnosis should be investigated.\\n5 \\nFatigue and sleep disturbances are also com -\\nmon.5,11 Sleep disturbances include difficulty \\nfalling and staying asleep, frequent awaken -\\nings, or feeling unrefreshed after sleeping. Comorbid mental health diagnoses are com -\\nmon, as are cognitive symptoms such as poor concentration, forgetfulness, or altered think -\\ning.\\n5,6,12 This cognitive dysfunction has been \\ntermed “fibrofog” and is described by patients as a mental slowing that adversely affects daily activities.\\n13\\nThe presence of another painful disorder \\ndoes not exclude the diagnosis of fibromyal -\\ngia. The Fibromyalgia Rapid Screening Tool can screen patients with diffuse chronic pain to help distinguish between fibromyalgia and other conditions (Table 1) .\\n14 The tool may SORT:   KEY RECOMMENDATIONS FOR PRACTICE\\nClinical recommendationEvidence \\nrating Comments\\nThe diagnosis of fibromyalgia should be considered in patients \\nwith diffuse pain, fatigue, and sleep disturbances that have been present for at least three months.\\n5,11C Diagnosis of fibromyalgia can be made using AAPT 2019 diagnostic criteria or the American College of Radiology 2011/2016 criteria\\nPatients with fibromyalgia should be offered a multidisci -\\nplinary treatment approach that includes education, exercise, and nonpharmacologic and pharmacologic options.\\n27,28C Consensus guidelines and systematic reviews\\nCognitive behavior therapy leads to improvement in pain and disability in patients with fibromyalgia in the short and medium term.\\n32,34,35A Systematic reviews demonstrate improvement\\nAmitriptyline, cyclobenzaprine, duloxetine (Cymbalta), mil -\\nnacipran (Savella), and pregabalin (Lyrica) are effective for pain in fibromyalgia.\\n43,46-48,50,52,54A Systematic reviews demonstrate effectiveness of these medications\\nAAPT = Analgesic, Anesthetic, and Addiction Clinical Trial Translations Innovations Opportunities and Networks–American Pain Society Pain \\nTaxonomy.\\nA = consistent, good-quality patient-oriented evidence;   B = inconsistent or limited-quality patient-oriented evidence;   C = consensus, disease -\\noriented evidence, usual practice, expert opinion, or case series. For information about the SORT evidence rating system, go to https://  www.aafp.\\norg/afpsort.\\nTABLE 1\\nFibromyalgia Rapid Screening Tool (FiRST)\\n Yes\\nI have pain all over my body.  \\nMy pain is accompanied by a continuous and very unpleas -\\nant general fatigue. \\nMy pain feels like burns, electric shocks, or cramps.  \\nMy pain is accompanied by other unusual sensations \\nthroughout my body, such as pins and needles, tingling, or numbness. \\nMy pain is accompanied by other health problems such as digestive problems, urinary problems, headaches, or restless legs. \\nMy pain has a significant impact on my life, particularly on my sleep and my ability to concentrate, making me feel slower in general. \\nTotal*  \\n*—One point for each yes answer. A score of 5 or greater suggests fibromyalgia.\\nAdapted with permission from Perrot S, Bouhassira D, Fermanian J;   CEDR (C ercle \\nd’Etude de la Douleur en Rhumatologie). Development and validation of the Fibro -\\nmyalgia Rapid Screening Tool (FiRST). Pain. 2010;  150(2):  255.\\nDescargado para Boletin -BINASSS (bolet-binas@binasss.sa.cr) en National Library of Health and Social Security de ClinicalKey.es por Elsevier en marzo 24, \\n2023. Para uso personal exclusivamente. No se permiten otros usos sin autorización. Copyright ©2023. Elsevier Inc. Todos los derechos reservados.', mimetype='text/plain', start_char_idx=0, end_char_idx=3975, text_template='{metadata_str}\\n\\n{content}', metadata_template='{key}: {value}', metadata_seperator='\\n'), score=8.0)]\n",
            "Fibromyalgia is a chronic, centralized pain syndrome characterized by disordered processing of painful stimuli. It is characterized by diffuse musculoskeletal pain, fatigue, poor sleep, and other somatic symptoms.rag_flow_recent.html\n"
          ]
        }
      ]
    },
    {
      "cell_type": "code",
      "source": [
        "result = await w.run(query=\"Comorbidities associated with Fibromyalgia?\", index=index)\n",
        "async for chunk in result.async_response_gen():\n",
        "    print(chunk, end=\"\", flush=True)\n",
        "draw_most_recent_execution(w, filename=\"rag_flow_recent.html\")"
      ],
      "metadata": {
        "colab": {
          "base_uri": "https://localhost:8080/"
        },
        "id": "xe-4NkIDHAzm",
        "outputId": "8d569979-059a-4527-aefb-c4a489148e7c"
      },
      "execution_count": 64,
      "outputs": [
        {
          "output_type": "stream",
          "name": "stdout",
          "text": [
            "Query the database with: Comorbidities associated with Fibromyalgia?\n",
            "Retrieved 2 nodes.\n",
            "Comorbidities associated with Fibromyalgia?\n",
            "Reranked nodes to 2\n",
            "[NodeWithScore(node=TextNode(id_='28faa515-2712-4a0b-bdad-1aa90f9ffac3', embedding=None, metadata={'page_label': '144', 'file_name': 'fibromyalgia.pdf', 'file_path': '/content/Data/fibromyalgia.pdf', 'file_type': 'application/pdf', 'file_size': 632664, 'creation_date': '2024-09-10', 'last_modified_date': '2023-03-24'}, excluded_embed_metadata_keys=['file_name', 'file_type', 'file_size', 'creation_date', 'last_modified_date', 'last_accessed_date'], excluded_llm_metadata_keys=['file_name', 'file_type', 'file_size', 'creation_date', 'last_modified_date', 'last_accessed_date'], relationships={<NodeRelationship.SOURCE: '1'>: RelatedNodeInfo(node_id='64b44834-17f4-474a-bd50-9d0184b4fd78', node_type=<ObjectType.DOCUMENT: '4'>, metadata={'page_label': '144', 'file_name': 'fibromyalgia.pdf', 'file_path': '/content/Data/fibromyalgia.pdf', 'file_type': 'application/pdf', 'file_size': 632664, 'creation_date': '2024-09-10', 'last_modified_date': '2023-03-24'}, hash='d3d51ed95d5b87c61685205de74f47238faa2b848e8fbce41ad6745299bdc533'), <NodeRelationship.NEXT: '3'>: RelatedNodeInfo(node_id='f228fe9d-06ac-48de-9180-cb9e547d0111', node_type=<ObjectType.TEXT: '1'>, metadata={}, hash='8360a8d3d4f8f71429c97316547057719392548c9e617215f247c3fadc863c94')}, text='144  American Family Physician  www.aafp.org/afp  Volume 107, Number 2  ◆ February 2023\\nFIBROMYALGIA 22. Kleykamp BA, Ferguson MC, McNicol E, et al. The prevalence of psy -\\nchiatric and chronic pain comorbidities in fibromyalgia:   an ACTT ION \\nsystematic review. Semin Arthritis Rheum . 2021;  51(1):  166-17 4.\\n 23. Levine D, Horesh D. Suicidality in fibromyalgia:   a sys tematic review of \\nthe literature. Front Psychiatry . 2020;  11: 535368.\\n 24. Duffield SJ, Miller N, Zhao S, et al. Concomitant fibromyalgia complicat -\\ning chronic inflammatory arthritis:   a syste matic review and meta-analy -\\nsis. Rheumatology (Oxford) . 2018;  57(8):  1453- 1460.\\n 25. Choosing Wisely. American College of Rheumatology. Five things physi -\\ncians and patients should question. Accessed May 14, 2022. https://  www.\\nchoosingwisely.org /societies/american-college-of-rheumatology\\n 26. Straub L, Mounsey A. FM/a blood test for diagnosis of fibromyalgia. Am \\nFam Physician . 2021;  103(9):  566-567 .\\n 27. Arnold LM, Clauw DJ, Dunegan LJ, et al.;   Fibro Collaborative. A frame -\\nwork for fibromyalgia management for primary care providers. Mayo \\nClin Proc . 2012;  87(5):  488- 496.\\n 28. Arnold LM, Gebke KB, Choy EHS. Fibromyalgia:   manag ement strategies \\nfor primary care providers. Int J Clin Pract . 2016;  70(2):  99-11 2.\\n 29. University of Michigan. Pain guide. Accessed April 25, 2022. https://  \\npainguide.com\\n 30. National Fibromyalgia Association. Accessed November 23, 2021. \\nhttps://  www.fmaware.org\\n 31. Rooks DS, Gautam S, Romeling M, et al. Group exercise, education, and \\ncombination self-management in women with fibromyalgia:   a rand om-\\nized trial. Arch Intern Med . 2007;  167(20):  2192 -2200.\\n 32. Mascarenhas RO, Souza MB, Oliveira MX, et al. Association of therapies \\nwith reduced pain and improved quality of life in patients with fibromy -\\nalgia:   a systematic review and meta-analysis. JAMA Intern Med . 2021;  \\n181(1):  104-112.\\n 33. Estévez-López F, Maestre-Cascales C, Russell D, et al. Effectiveness \\nof exercise on fatigue and sleep quality in fibromyalgia:   a syste matic \\nreview and meta-analysis of randomized trials. Arch Phys Med Rehabil . \\n2021;  102(4):  752- 761.\\n 34. Bernardy K, Klose P, Welsch P, et al. Efficacy, acceptability and safety of \\ncognitive behavioural therapies in fibromyalgia syndrome - a systematic review and meta-analysis of randomized controlled trials. Eur J  Pain. \\n2018;  22(2):  242- 260.\\n 35. Bernardy K, Klose P, Busch AJ, et al. Cognitive behavioural therapies for \\nfibromyalgia. Cochrane Database Syst Rev . 2013;  (9): CD00 9796.\\n 36. Mist SD, Firestone KA, Jones KD. Complementary and alternative exer -\\ncise for fibromyalgia:   a meta- analysis. J Pain Res . 2013;  6: 247-260.\\n 37. Wilson LM, Raza Z, Contillo Garufi L, et al. Tai chi for fibromyalgia. Am \\nFam Physician .', mimetype='text/plain', start_char_idx=0, end_char_idx=2845, text_template='{metadata_str}\\n\\n{content}', metadata_template='{key}: {value}', metadata_seperator='\\n'), score=8.0), NodeWithScore(node=TextNode(id_='fa2accf6-7ed6-4f08-a01a-e066944def57', embedding=None, metadata={'page_label': '137', 'file_name': 'fibromyalgia.pdf', 'file_path': '/content/Data/fibromyalgia.pdf', 'file_type': 'application/pdf', 'file_size': 632664, 'creation_date': '2024-09-10', 'last_modified_date': '2023-03-24'}, excluded_embed_metadata_keys=['file_name', 'file_type', 'file_size', 'creation_date', 'last_modified_date', 'last_accessed_date'], excluded_llm_metadata_keys=['file_name', 'file_type', 'file_size', 'creation_date', 'last_modified_date', 'last_accessed_date'], relationships={<NodeRelationship.SOURCE: '1'>: RelatedNodeInfo(node_id='613c725c-6090-4caf-bd7a-e4817d8417e6', node_type=<ObjectType.DOCUMENT: '4'>, metadata={'page_label': '137', 'file_name': 'fibromyalgia.pdf', 'file_path': '/content/Data/fibromyalgia.pdf', 'file_type': 'application/pdf', 'file_size': 632664, 'creation_date': '2024-09-10', 'last_modified_date': '2023-03-24'}, hash='c70178d6db587d29e77970e161c76a1abb2ef7d49978421819193e71322b44f4'), <NodeRelationship.NEXT: '3'>: RelatedNodeInfo(node_id='2222bf5d-fa4a-4e7a-91cf-e780ab49f53a', node_type=<ObjectType.TEXT: '1'>, metadata={}, hash='ae86bbb0dc3fc0820ab5d3ea8545e68a9fe5ed83eec1bf43f822637cc1c887ed')}, text='February 2023  ◆ Volume 107, Number 2  www.aafp.org/afp  American Family Physician  137Fibromyalgia is characterized by diffuse mus -\\nculoskeletal pain, fatigue, poor sleep, and other \\nsomatic symptoms.1 Chronic diffuse pain affects \\n10% to 15% of adults in the general population worldwide, many of whom have fibromyalgia.\\n2,3 \\nApproximately 2% of people in the United States have fibromyalgia, although the prevalence var -\\nies across populations and with the diagnostic criteria used.\\n3 Fibromyalgia can occur in chil -\\ndren and adults and is found worldwide and across cultures. Women are diagnosed more \\nfrequently than men;   a Scot tish survey found \\nthat women are diagnosed between two and 14 times as often as men depending on the crite -\\nria used.\\n3,4 Changes in the diagnostic criteria over the past decade, including the elimination of specific tender points, have resulted in more patients with chronic pain meeting the criteria for fibromyalgia.\\n3-5\\nPathophysiology\\nFibromyalgia is likely caused by disordered cen -\\ntral nociceptive signal processing that leads to sensitization expressed as hyperalgesia and allo -\\ndynia, which is similar to chronic pain conditions such as irritable bowel syndrome, interstitial cys -\\ntitis, chronic pelvic pain, and chronic low back pain.\\n6,7 Functional brain imaging suggests that \\nthis aberrant processing may be attributed to an imbalance between excitatory and inhibitory neu -\\nrotransmitters, particularly within the insula.\\n8 \\nSuggested etiologies include dysfunction of the hypothalamic-pituitary-adrenal axis and the autonomic nervous system, diffuse inflammation, glial cell activation, small fiber neuropathy, and infections such as the Epstein-Barr virus, Lyme disease, and viral hepatitis.\\n9 Twin studies suggest \\na genetic component may also be a factor.10Fibromyalgia:   Diagn osis and Management\\nBradford T. Winslow, MD, University of Colorado School of Medicine, Aurora, \\nColorado;   Swedi sh Family Medicine Residency, Englewood, Colorado\\nCarmen Vandal, MD, and Laurel Dang, MD, Swedish Family Medicine Residency, Englewood, Colorado\\n CME  This clinical content conforms to AAFP criteria for \\nCME. See CME Quiz on page 127.\\nAuthor disclosure:   No relevant financial relationships.\\nPatient information:   A handout on this topic, written by the \\nauthors of this article, is available with the online version of \\nthis article.Fibromyalgia is a chronic, centralized pain syndrome characterized by disordered processing of painful stimuli. Fibromyal -\\ngia is diagnosed more frequently in women and occurs globally, affecting 2% of people in the United States. Patients with \\nfibromyalgia have diffuse chronic pain, poor sleep, fatigue, cognitive dysfunc -\\ntion, and mood disturbances. Comorbid conditions, such as functional somatic syndromes, psychiatric diagnoses, and rheumatologic conditions may be pres -\\nent. The Fibromyalgia Rapid Screening Tool is a helpful screening method for patients with diffuse chronic pain. The American College of Rheumatology criteria or the Analgesic, Anesthetic, and Addiction Clinical Trial Translations Innovations Opportunities and Networks–American Pain Society Pain Taxonomy diagnostic criteria can diagnose fibromyalgia. Establishing the diagnosis and providing education can reassure patients and decrease unnecessary testing. A multidisciplinary approach that incorporates nonpharmacologic therapies and medications to address problematic symptoms is most effective. Patient educa -\\ntion, exercise, and cognitive behavior therapy can improve pain and function. Duloxetine, milnacipran, pregabalin, and amitriptyline are potentially effective medications for fibromyalgia. Nonsteroi -\\ndal anti-inflammatory drugs and opioids have not demonstrated benefits for fibromyalgia and have significant limitations.  \\n(Am Fam Physician\\n. 2023;  107(2):  137-1 44. Copyright © 2023 American Academy of Family Physicians.)\\nIllustration by Jonathan Dimes\\nDownloaded from the American Family Physician website at www.aafp.org/afp. Copyright © 2023  American Academy of Family Physicians. For the private, non -\\ncommercial use of one individual user of the website. All other rights reserved. Contact copyrights@aafp.org for copyright questions and/or permission requests.Downloaded from the American Family Physician website at www.aafp.org/afp. Copyright © 2023  American Academy of Family Physicians. For the private, non -\\ncommercial use of one individual user of the website.', mimetype='text/plain', start_char_idx=0, end_char_idx=4474, text_template='{metadata_str}\\n\\n{content}', metadata_template='{key}: {value}', metadata_seperator='\\n'), score=7.0)]\n",
            "Comorbidities associated with fibromyalgia include psychiatric diagnoses, functional somatic syndromes, and rheumatologic conditions.rag_flow_recent.html\n"
          ]
        }
      ]
    },
    {
      "cell_type": "code",
      "source": [
        "result = await w.run(query=\"provide 5 references\", index=index)\n",
        "async for chunk in result.async_response_gen():\n",
        "    print(chunk, end=\"\", flush=True)\n",
        "draw_most_recent_execution(w, filename=\"rag_flow_recent.html\")"
      ],
      "metadata": {
        "colab": {
          "base_uri": "https://localhost:8080/"
        },
        "id": "g1V-JdXkHcOJ",
        "outputId": "cdd9e28d-4e01-4fce-dc8b-a782e9fab2e8"
      },
      "execution_count": 66,
      "outputs": [
        {
          "output_type": "stream",
          "name": "stdout",
          "text": [
            "Query the database with: provide 5 references\n",
            "Retrieved 2 nodes.\n",
            "provide 5 references\n",
            "Reranked nodes to 1\n",
            "[NodeWithScore(node=TextNode(id_='f228fe9d-06ac-48de-9180-cb9e547d0111', embedding=None, metadata={'page_label': '144', 'file_name': 'fibromyalgia.pdf', 'file_path': '/content/Data/fibromyalgia.pdf', 'file_type': 'application/pdf', 'file_size': 632664, 'creation_date': '2024-09-10', 'last_modified_date': '2023-03-24'}, excluded_embed_metadata_keys=['file_name', 'file_type', 'file_size', 'creation_date', 'last_modified_date', 'last_accessed_date'], excluded_llm_metadata_keys=['file_name', 'file_type', 'file_size', 'creation_date', 'last_modified_date', 'last_accessed_date'], relationships={<NodeRelationship.SOURCE: '1'>: RelatedNodeInfo(node_id='64b44834-17f4-474a-bd50-9d0184b4fd78', node_type=<ObjectType.DOCUMENT: '4'>, metadata={'page_label': '144', 'file_name': 'fibromyalgia.pdf', 'file_path': '/content/Data/fibromyalgia.pdf', 'file_type': 'application/pdf', 'file_size': 632664, 'creation_date': '2024-09-10', 'last_modified_date': '2023-03-24'}, hash='d3d51ed95d5b87c61685205de74f47238faa2b848e8fbce41ad6745299bdc533'), <NodeRelationship.PREVIOUS: '2'>: RelatedNodeInfo(node_id='28faa515-2712-4a0b-bdad-1aa90f9ffac3', node_type=<ObjectType.TEXT: '1'>, metadata={'page_label': '144', 'file_name': 'fibromyalgia.pdf', 'file_path': '/content/Data/fibromyalgia.pdf', 'file_type': 'application/pdf', 'file_size': 632664, 'creation_date': '2024-09-10', 'last_modified_date': '2023-03-24'}, hash='611c0974f9f04c4ec4260c0457a59835e6a3289931a7fa244b36c73cba1ce65d'), <NodeRelationship.NEXT: '3'>: RelatedNodeInfo(node_id='28881754-72f6-4a2b-914b-060ac4902b96', node_type=<ObjectType.TEXT: '1'>, metadata={}, hash='8d28e4fb85d1307ba46687ed158a0c0d8678fc8abbc9fff3c0743456700edc24')}, text='Eur J  Pain. \\n2018;  22(2):  242- 260.\\n 35. Bernardy K, Klose P, Busch AJ, et al. Cognitive behavioural therapies for \\nfibromyalgia. Cochrane Database Syst Rev . 2013;  (9): CD00 9796.\\n 36. Mist SD, Firestone KA, Jones KD. Complementary and alternative exer -\\ncise for fibromyalgia:   a meta- analysis. J Pain Res . 2013;  6: 247-260.\\n 37. Wilson LM, Raza Z, Contillo Garufi L, et al. Tai chi for fibromyalgia. Am \\nFam Physician . 2020;  101(5):  onlin e. Accessed October 27, 2021. https://  \\nwww.aafp.org/afp/2020/0301/od1.html\\n 38. Schulze NB, de Melo Salemi M, de Alencar GG, et al. Efficacy of manual \\ntherapy on pain, impact of disease, and quality of life in the treatment of \\nfibromyalgia:   a syste matic review. Pain Physician . 2020;  23(5):  461-4 76.\\n 39. Bidonde J, Busch AJ, Schachter CL, et al. Mixed exercise training \\nfor adults with fibromyalgia. Cochrane Database Syst Rev . 2019;  (5): \\nCD013340.\\n 40. Prabhakar A, Kaiser JM, Novitch MB, et al. The role of complementary \\nand alternative medicine treatments in fibromyalgia:   a compre hensive \\nreview. Curr Rheumatol Rep . 2019;  21(5):  14. 41. Deare JC, Zheng Z, Xue CCL, et al. Acupuncture for treating fibromyal -\\ngia. Cochrane Database Syst Rev . 2013;  (5): CD00 7070.\\n 42. Ceca D, Pablos A, Elvira L, et al. Effectiveness of a self-myofascial con -\\nditioning programme on pain, depression, anxiety and sleep quality in people with fibromyalgia. Cuad Psicol Deporte\\n. 2020;  20(1):  147- 165.\\n 43. Di Franco M, Iannuccelli C, Atzeni F, et al. Pharmacological treatment of \\nfibromyalgia. Clin Exp Rheumatol . 2010;  28(6 suppl 63):  S110- S116.\\n 44. Thorpe J, Shum B, Moore RA, et al. Combination pharmacotherapy for \\nthe treatment of fibromyalgia in adults. Cochrane Database Syst Rev . \\n2018;  (2): CD010585.\\n 45. Choy E, Marshall D, Gabriel ZL, et al. A systematic review and mixed \\ntreatment comparison of the efficacy of pharmacological treatments for fibromyalgia. Semin Arthritis Rheum\\n. 2011;  41(3):  335- 345.e6.\\n 46. White C, Kwong WJ, Armstrong H, et al. Analysis of real-world dosing \\npatterns for the 3 FDA-approved medications in the treatment of fibro -\\nmyalgia. Am Health Drug Benefits . 2018;  11(6):  293- 301.\\n 47. Nishishinya B, Urrútia G, Walitt B, et al. Amitriptyline in the treatment \\nof fibromyalgia:   a syste matic review of its efficacy. Rheumatology \\n(Oxford) . 2008;  47(12):  1741- 1746.\\n 48. Tofferi JK, Jackson JL, O’Malley PG. Treatment of fibromyalgia with \\ncyclobenzaprine:   a meta-a nalysis. Arthritis Rheum . 2004;  51(1):  9-13 .\\n 49. Welsch P, Üçeyler N, Klose P, et al. Serotonin and noradrenaline \\nreuptake inhibitors (SNRIs) for fibromyalgia.', mimetype='text/plain', start_char_idx=2415, end_char_idx=5079, text_template='{metadata_str}\\n\\n{content}', metadata_template='{key}: {value}', metadata_seperator='\\n'), score=10.0)]\n",
            "35. Bernardy K, Klose P, Busch AJ, et al. Cognitive behavioural therapies for fibromyalgia. Cochrane Database Syst Rev . 2013;  (9): CD009796.\n",
            "\n",
            "36. Mist SD, Firestone KA, Jones KD. Complementary and alternative exercise for fibromyalgia: a meta-analysis. J Pain Res . 2013;  6: 247-260.\n",
            "\n",
            "37. Wilson LM, Raza Z, Contillo Garufi L, et al. Tai chi for fibromyalgia. Am Fam Physician . 2020;  101(5): online. \n",
            "\n",
            "38. Schulze NB, de Melo Salemi M, de Alencar GG, et al. Efficacy of manual therapy on pain, impact of disease, and quality of life in the treatment of fibromyalgia: a systematic review. Pain Physician . 2020;  23(5): 461-476.\n",
            "\n",
            "39. Bidonde J, Busch AJ, Schachter CL, et al. Mixed exercise training for adults with fibromyalgia. Cochrane Database Syst Rev . 2019;  (5): CD013340.rag_flow_recent.html\n"
          ]
        }
      ]
    },
    {
      "cell_type": "code",
      "source": [
        "result = await w.run(query=\"provide the details of the authors.\", index=index)\n",
        "async for chunk in result.async_response_gen():\n",
        "    print(chunk, end=\"\", flush=True)\n",
        "draw_most_recent_execution(w, filename=\"rag_flow_recent.html\")"
      ],
      "metadata": {
        "colab": {
          "base_uri": "https://localhost:8080/"
        },
        "id": "vEidbaSzHqWr",
        "outputId": "4da04a64-4b5f-41c2-f3bb-70c81153cf5a"
      },
      "execution_count": 136,
      "outputs": [
        {
          "output_type": "stream",
          "name": "stdout",
          "text": [
            "Query the database with: provide the details of the authors.\n",
            "Retrieved 2 nodes.\n",
            "provide the details of the authors.\n",
            "Reranked nodes to 1\n",
            "[NodeWithScore(node=TextNode(id_='338841b4-da86-434e-a139-278f798944c4', embedding=None, metadata={'page_label': '144', 'file_name': 'fibromyalgia.pdf', 'file_path': '/content/Data/fibromyalgia.pdf', 'file_type': 'application/pdf', 'file_size': 632664, 'creation_date': '2024-09-10', 'last_modified_date': '2023-03-24'}, excluded_embed_metadata_keys=['file_name', 'file_type', 'file_size', 'creation_date', 'last_modified_date', 'last_accessed_date'], excluded_llm_metadata_keys=['file_name', 'file_type', 'file_size', 'creation_date', 'last_modified_date', 'last_accessed_date'], relationships={<NodeRelationship.SOURCE: '1'>: RelatedNodeInfo(node_id='9d959323-d9c3-495a-893d-25ecc7a48e61', node_type=<ObjectType.DOCUMENT: '4'>, metadata={'page_label': '144', 'file_name': 'fibromyalgia.pdf', 'file_path': '/content/Data/fibromyalgia.pdf', 'file_type': 'application/pdf', 'file_size': 632664, 'creation_date': '2024-09-10', 'last_modified_date': '2023-03-24'}, hash='d3d51ed95d5b87c61685205de74f47238faa2b848e8fbce41ad6745299bdc533'), <NodeRelationship.PREVIOUS: '2'>: RelatedNodeInfo(node_id='4ee23d66-76b4-4012-94a8-8d3705b1a161', node_type=<ObjectType.TEXT: '1'>, metadata={'page_label': '144', 'file_name': 'fibromyalgia.pdf', 'file_path': '/content/Data/fibromyalgia.pdf', 'file_type': 'application/pdf', 'file_size': 632664, 'creation_date': '2024-09-10', 'last_modified_date': '2023-03-24'}, hash='611c0974f9f04c4ec4260c0457a59835e6a3289931a7fa244b36c73cba1ce65d'), <NodeRelationship.NEXT: '3'>: RelatedNodeInfo(node_id='a373d7aa-ef1e-4789-8461-791a967d990e', node_type=<ObjectType.TEXT: '1'>, metadata={}, hash='8d28e4fb85d1307ba46687ed158a0c0d8678fc8abbc9fff3c0743456700edc24')}, text='Eur J  Pain. \\n2018;  22(2):  242- 260.\\n 35. Bernardy K, Klose P, Busch AJ, et al. Cognitive behavioural therapies for \\nfibromyalgia. Cochrane Database Syst Rev . 2013;  (9): CD00 9796.\\n 36. Mist SD, Firestone KA, Jones KD. Complementary and alternative exer -\\ncise for fibromyalgia:   a meta- analysis. J Pain Res . 2013;  6: 247-260.\\n 37. Wilson LM, Raza Z, Contillo Garufi L, et al. Tai chi for fibromyalgia. Am \\nFam Physician . 2020;  101(5):  onlin e. Accessed October 27, 2021. https://  \\nwww.aafp.org/afp/2020/0301/od1.html\\n 38. Schulze NB, de Melo Salemi M, de Alencar GG, et al. Efficacy of manual \\ntherapy on pain, impact of disease, and quality of life in the treatment of \\nfibromyalgia:   a syste matic review. Pain Physician . 2020;  23(5):  461-4 76.\\n 39. Bidonde J, Busch AJ, Schachter CL, et al. Mixed exercise training \\nfor adults with fibromyalgia. Cochrane Database Syst Rev . 2019;  (5): \\nCD013340.\\n 40. Prabhakar A, Kaiser JM, Novitch MB, et al. The role of complementary \\nand alternative medicine treatments in fibromyalgia:   a compre hensive \\nreview. Curr Rheumatol Rep . 2019;  21(5):  14. 41. Deare JC, Zheng Z, Xue CCL, et al. Acupuncture for treating fibromyal -\\ngia. Cochrane Database Syst Rev . 2013;  (5): CD00 7070.\\n 42. Ceca D, Pablos A, Elvira L, et al. Effectiveness of a self-myofascial con -\\nditioning programme on pain, depression, anxiety and sleep quality in people with fibromyalgia. Cuad Psicol Deporte\\n. 2020;  20(1):  147- 165.\\n 43. Di Franco M, Iannuccelli C, Atzeni F, et al. Pharmacological treatment of \\nfibromyalgia. Clin Exp Rheumatol . 2010;  28(6 suppl 63):  S110- S116.\\n 44. Thorpe J, Shum B, Moore RA, et al. Combination pharmacotherapy for \\nthe treatment of fibromyalgia in adults. Cochrane Database Syst Rev . \\n2018;  (2): CD010585.\\n 45. Choy E, Marshall D, Gabriel ZL, et al. A systematic review and mixed \\ntreatment comparison of the efficacy of pharmacological treatments for fibromyalgia. Semin Arthritis Rheum\\n. 2011;  41(3):  335- 345.e6.\\n 46. White C, Kwong WJ, Armstrong H, et al. Analysis of real-world dosing \\npatterns for the 3 FDA-approved medications in the treatment of fibro -\\nmyalgia. Am Health Drug Benefits . 2018;  11(6):  293- 301.\\n 47. Nishishinya B, Urrútia G, Walitt B, et al. Amitriptyline in the treatment \\nof fibromyalgia:   a syste matic review of its efficacy. Rheumatology \\n(Oxford) . 2008;  47(12):  1741- 1746.\\n 48. Tofferi JK, Jackson JL, O’Malley PG. Treatment of fibromyalgia with \\ncyclobenzaprine:   a meta-a nalysis. Arthritis Rheum . 2004;  51(1):  9-13 .\\n 49. Welsch P, Üçeyler N, Klose P, et al. Serotonin and noradrenaline \\nreuptake inhibitors (SNRIs) for fibromyalgia.', mimetype='text/plain', start_char_idx=2415, end_char_idx=5079, text_template='{metadata_str}\\n\\n{content}', metadata_template='{key}: {value}', metadata_seperator='\\n'), score=10.0)]\n",
            "The authors mentioned in the context information include:\n",
            "\n",
            "1. Bernardy K\n",
            "2. Klose P\n",
            "3. Busch AJ\n",
            "4. Mist SD\n",
            "5. Firestone KA\n",
            "6. Jones KD\n",
            "7. Wilson LM\n",
            "8. Raza Z\n",
            "9. Contillo Garufi L\n",
            "10. Schulze NB\n",
            "11. de Melo Salemi M\n",
            "12. de Alencar GG\n",
            "13. Bidonde J\n",
            "14. Schachter CL\n",
            "15. Prabhakar A\n",
            "16. Kaiser JM\n",
            "17. Novitch MB\n",
            "18. Deare JC\n",
            "19. Zheng Z\n",
            "20. Xue CCL\n",
            "21. Ceca D\n",
            "22. Pablos A\n",
            "23. Elvira L\n",
            "24. Di Franco M\n",
            "25. Iannuccelli C\n",
            "26. Atzeni F\n",
            "27. Thorpe J\n",
            "28. Shum B\n",
            "29. Moore RA\n",
            "30. Choy E\n",
            "31. Marshall D\n",
            "32. Gabriel ZL\n",
            "33. White C\n",
            "34. Kwong WJ\n",
            "35. Armstrong H\n",
            "36. Nishishinya B\n",
            "37. Urrútia G\n",
            "38. Walitt B\n",
            "39. Tofferi JK\n",
            "40. Jackson JL\n",
            "41. O’Malley PG\n",
            "42. Welsch P\n",
            "43. Üçeyler Nrag_flow_recent.html\n"
          ]
        }
      ]
    },
    {
      "cell_type": "code",
      "source": [
        "draw_all_possible_flows(Workflow, filename=\"multi_step_workflow.html\")"
      ],
      "metadata": {
        "colab": {
          "base_uri": "https://localhost:8080/"
        },
        "id": "I7HR9za5HtQv",
        "outputId": "14412ede-d857-4423-d332-6b9b5b8ea7ba"
      },
      "execution_count": 88,
      "outputs": [
        {
          "output_type": "stream",
          "name": "stdout",
          "text": [
            "multi_step_workflow.html\n"
          ]
        }
      ]
    },
    {
      "cell_type": "code",
      "source": [
        "# Add nodes from all steps\n",
        "from llama_index.utils.workflow import draw_all_possible_flows\n",
        "draw_all_possible_flows(w)"
      ],
      "metadata": {
        "colab": {
          "base_uri": "https://localhost:8080/"
        },
        "id": "y7FqVq5edqLj",
        "outputId": "0396127a-b5d6-4831-aa28-f20d5feb3972"
      },
      "execution_count": 94,
      "outputs": [
        {
          "output_type": "stream",
          "name": "stdout",
          "text": [
            "workflow_all_flows.html\n"
          ]
        }
      ]
    },
    {
      "cell_type": "code",
      "source": [
        "from llama_index.core.workflow.utils import get_steps_from_class, get_steps_from_instance\n",
        "from llama_index.core.workflow.events import StartEvent, StopEvent\n",
        "from llama_index.core.workflow.decorators import StepConfig\n",
        "from llama_index.core.workflow.workflow import Workflow\n",
        "\n",
        "def draw_all_possible_flows(\n",
        "    workflow: Workflow,\n",
        "    filename: str = \"workflow_all_flows.html\",\n",
        "    notebook: bool = False,\n",
        ") -> None:\n",
        "    \"\"\"Draws all possible flows of the workflow.\"\"\"\n",
        "    from pyvis.network import Network\n",
        "\n",
        "    net = Network(directed=True, height=\"750px\", width=\"100%\")\n",
        "\n",
        "    # Add the nodes + edge for stop events\n",
        "    net.add_node(\n",
        "        StopEvent.__name__,\n",
        "        label=StopEvent.__name__,\n",
        "        color=\"#FFA07A\",\n",
        "        shape=\"ellipse\",\n",
        "    )\n",
        "    net.add_node(\"_done\", label=\"_done\", color=\"#ADD8E6\", shape=\"box\")\n",
        "    net.add_edge(StopEvent.__name__, \"_done\")\n",
        "\n",
        "    # Add nodes from all steps\n",
        "    steps = get_steps_from_class(workflow)\n",
        "    print(steps)\n",
        "    if not steps:\n",
        "        # If no steps are defined in the class, try to get them from the instance\n",
        "        steps = get_steps_from_instance(workflow)\n",
        "\n",
        "    step_config: Optional[StepConfig] = None\n",
        "    for step_name, step_func in steps.items():\n",
        "        step_config = getattr(step_func, \"__step_config\", None)\n",
        "        if step_config is None:\n",
        "            continue\n",
        "\n",
        "        net.add_node(\n",
        "            step_name, label=step_name, color=\"#ADD8E6\", shape=\"box\"\n",
        "        )  # Light blue for steps\n",
        "\n",
        "        for event_type in step_config.accepted_events:\n",
        "            net.add_node(\n",
        "                event_type.__name__,\n",
        "                label=event_type.__name__,\n",
        "                color=\"#90EE90\" if event_type != StartEvent else \"#E27AFF\",\n",
        "                shape=\"ellipse\",\n",
        "            )  # Light green for events\n",
        "\n",
        "    # Add edges from all steps\n",
        "    for step_name, step_func in steps.items():\n",
        "        step_config = getattr(step_func, \"__step_config\", None)\n",
        "\n",
        "        if step_config is None:\n",
        "            continue\n",
        "\n",
        "        for return_type in step_config.return_types:\n",
        "            if return_type != type(None):\n",
        "                net.add_edge(step_name, return_type.__name__)\n",
        "\n",
        "        for event_type in step_config.accepted_events:\n",
        "            net.add_edge(event_type.__name__, step_name)\n",
        "\n",
        "    net.show(filename, notebook=True)"
      ],
      "metadata": {
        "id": "YwQYwOk5jCjR"
      },
      "execution_count": 118,
      "outputs": []
    },
    {
      "cell_type": "code",
      "source": [
        "from llama_index.core import SimpleDirectoryReader, VectorStoreIndex\n",
        "from llama_index.core.response_synthesizers import CompactAndRefine\n",
        "from llama_index.core.postprocessor.llm_rerank import LLMRerank\n",
        "from llama_index.core.workflow import (\n",
        "    Context,\n",
        "    Workflow,\n",
        "    StartEvent,\n",
        "    StopEvent,\n",
        "    step,\n",
        ")\n",
        "from llama_index.core.workflow.utils import get_steps_from_class, get_steps_from_instance\n",
        "from llama_index.llms.groq import Groq\n",
        "from llama_index.embeddings.huggingface import HuggingFaceEmbedding\n",
        "\n",
        "class RetrieverEvent(Event):\n",
        "    \"\"\"Result of running retrieval\"\"\"\n",
        "    nodes: list[NodeWithScore]\n",
        "\n",
        "class RerankEvent(Event):\n",
        "    \"\"\"Result of running reranking on retrieved nodes\"\"\"\n",
        "    nodes: list[NodeWithScore]\n",
        "\n",
        "class RAGWorkflow(Workflow):\n",
        "    @step\n",
        "    async def ingest(self, ctx: Context, ev: StartEvent) -> StopEvent | None:\n",
        "        \"\"\"Entry point to ingest a document, triggered by a StartEvent with `dirname`.\"\"\"\n",
        "        dirname = ev.get(\"dirname\")\n",
        "        if not dirname:\n",
        "            return None\n",
        "\n",
        "        documents = SimpleDirectoryReader(dirname).load_data()\n",
        "        index = VectorStoreIndex.from_documents(\n",
        "            documents=documents,\n",
        "            embed_model=HuggingFaceEmbedding(model_name=\"BAAI/bge-small-en-v1.5\"),\n",
        "        )\n",
        "        return StopEvent(result=index)\n",
        "\n",
        "    @step\n",
        "    async def retrieve(\n",
        "        self, ctx: Context, ev: StartEvent\n",
        "    ) -> RetrieverEvent | None:\n",
        "        \"Entry point for RAG, triggered by a StartEvent with `query`.\"\n",
        "        query = ev.get(\"query\")\n",
        "        index = ev.get(\"index\")\n",
        "\n",
        "        if not query:\n",
        "            return None\n",
        "\n",
        "        print(f\"Query the database with: {query}\")\n",
        "\n",
        "        # store the query in the global context\n",
        "        await ctx.set(\"query\", query)\n",
        "\n",
        "        # get the index from the global context\n",
        "        if index is None:\n",
        "            print(\"Index is empty, load some documents before querying!\")\n",
        "            return None\n",
        "\n",
        "        retriever = index.as_retriever(similarity_top_k=2)\n",
        "        nodes = await retriever.aretrieve(query)\n",
        "        print(f\"Retrieved {len(nodes)} nodes.\")\n",
        "        return RetrieverEvent(nodes=nodes)\n",
        "\n",
        "    @step\n",
        "    async def rerank(self, ctx: Context, ev: RetrieverEvent) -> RerankEvent:\n",
        "        # Rerank the nodes\n",
        "        ranker = LLMRerank(\n",
        "            choice_batch_size=5, top_n=3,\n",
        "            llm=Groq(model=\"llama-3.1-70b-versatile\")\n",
        "        )\n",
        "        print(await ctx.get(\"query\", default=None), flush=True)\n",
        "        new_nodes = ranker.postprocess_nodes(\n",
        "            ev.nodes, query_str=await ctx.get(\"query\", default=None)\n",
        "        )\n",
        "        print(f\"Reranked nodes to {len(new_nodes)}\")\n",
        "        print(new_nodes)\n",
        "        return RerankEvent(nodes=new_nodes)\n",
        "\n",
        "    @step\n",
        "    async def synthesize(self, ctx: Context, ev: RerankEvent) -> StopEvent:\n",
        "        \"\"\"Return a streaming response using reranked nodes.\"\"\"\n",
        "        llm = Groq(model=\"llama-3.1-70b-versatile\")\n",
        "        summarizer = CompactAndRefine(llm=llm, streaming=True, verbose=True)\n",
        "        query = await ctx.get(\"query\", default=None)\n",
        "\n",
        "        response = await summarizer.asynthesize(query, nodes=ev.nodes)\n",
        "        return StopEvent(result=response)\n",
        "\n",
        "# Check if steps have __step_config attribute\n",
        "workflow = RAGWorkflow()\n",
        "steps = get_steps_from_class(RAGWorkflow)\n",
        "if not steps:\n",
        "    steps = get_steps_from_instance(workflow)\n",
        "print(f\"steps class :{steps}\")\n",
        "for step_name, step_func in steps.items():\n",
        "    step_config = getattr(step_func, \"__step_config\", None)\n",
        "    print(f\"step config :{step_config}\")\n",
        "    if step_config is None:\n",
        "        print(f\"Step {step_name} is missing __step_config\")\n",
        "\n",
        "# Visualization\n",
        "from llama_index.utils.workflow import draw_all_possible_flows, draw_most_recent_execution\n",
        "\n",
        "# Draw all possible flows\n",
        "draw_all_possible_flows(RAGWorkflow, filename=\"multi_step_workflow.html\")\n",
        "\n",
        "# Draw the most recent execution\n",
        "w = RAGWorkflow()\n",
        "\n",
        "# Ingest the documents\n",
        "index = await w.run(dirname=\"Data\")\n",
        "result = await w.run(query=\"What is the diagnosis of Fibromyalgia?\", index=index)\n",
        "async for chunk in result.async_response_gen():\n",
        "    print(chunk, end=\"\", flush=True)\n",
        "draw_most_recent_execution(w, filename=\"rag_flow_recent.html\")"
      ],
      "metadata": {
        "colab": {
          "base_uri": "https://localhost:8080/"
        },
        "id": "WSQWpz6hntBx",
        "outputId": "c5c5558d-66e8-4cff-b65c-381357cf7821"
      },
      "execution_count": 107,
      "outputs": [
        {
          "output_type": "stream",
          "name": "stdout",
          "text": [
            "steps class :{'_done': <function Workflow._done at 0x7ab01cf79750>, 'ingest': <function RAGWorkflow.ingest at 0x7ab004437d00>, 'rerank': <function RAGWorkflow.rerank at 0x7ab004f89ea0>, 'retrieve': <function RAGWorkflow.retrieve at 0x7ab004437be0>, 'synthesize': <function RAGWorkflow.synthesize at 0x7ab004f89750>}\n",
            "step config :accepted_events=[<class 'llama_index.core.workflow.events.StopEvent'>] event_name='ev' return_types=[<class 'NoneType'>] context_parameter='ctx' num_workers=1 requested_services=[]\n",
            "step config :accepted_events=[<class 'llama_index.core.workflow.events.StartEvent'>] event_name='ev' return_types=[<class 'llama_index.core.workflow.events.StopEvent'>] context_parameter='ctx' num_workers=1 requested_services=[]\n",
            "step config :accepted_events=[<class '__main__.RetrieverEvent'>] event_name='ev' return_types=[<class '__main__.RerankEvent'>] context_parameter='ctx' num_workers=1 requested_services=[]\n",
            "step config :accepted_events=[<class 'llama_index.core.workflow.events.StartEvent'>] event_name='ev' return_types=[<class '__main__.RetrieverEvent'>] context_parameter='ctx' num_workers=1 requested_services=[]\n",
            "step config :accepted_events=[<class '__main__.RerankEvent'>] event_name='ev' return_types=[<class 'llama_index.core.workflow.events.StopEvent'>] context_parameter='ctx' num_workers=1 requested_services=[]\n",
            "multi_step_workflow.html\n",
            "Query the database with: What is the diagnosis of Fibromyalgia?\n",
            "Retrieved 2 nodes.\n",
            "What is the diagnosis of Fibromyalgia?\n",
            "Reranked nodes to 2\n",
            "[NodeWithScore(node=TextNode(id_='4e3abfef-75f0-488d-b8bc-a61b00d8f51c', embedding=None, metadata={'page_label': '138', 'file_name': 'fibromyalgia.pdf', 'file_path': '/content/Data/fibromyalgia.pdf', 'file_type': 'application/pdf', 'file_size': 632664, 'creation_date': '2024-09-10', 'last_modified_date': '2023-03-24'}, excluded_embed_metadata_keys=['file_name', 'file_type', 'file_size', 'creation_date', 'last_modified_date', 'last_accessed_date'], excluded_llm_metadata_keys=['file_name', 'file_type', 'file_size', 'creation_date', 'last_modified_date', 'last_accessed_date'], relationships={<NodeRelationship.SOURCE: '1'>: RelatedNodeInfo(node_id='227b8327-858a-4515-800f-edbe12b5185c', node_type=<ObjectType.DOCUMENT: '4'>, metadata={'page_label': '138', 'file_name': 'fibromyalgia.pdf', 'file_path': '/content/Data/fibromyalgia.pdf', 'file_type': 'application/pdf', 'file_size': 632664, 'creation_date': '2024-09-10', 'last_modified_date': '2023-03-24'}, hash='f14fbdf6f0180dbf4c788fe4c81e58302ff38270f6ea6f8b9c961a071f568f13')}, text='138  American Family Physician  www.aafp.org/afp  Volume 107, Number 2  ◆ February 2023\\nFIBROMYALGIAClinical Presentation\\nChronic diffuse pain is the predominant \\nsymptom in most patients with fibromyalgia. Patients may also experience muscle stiffness and tenderness. The physical examination in patients with fibromyalgia generally finds diffuse tenderness without other unusual findings. If joint swelling, inflammation, or deformities are present, an alternative or additional diagnosis should be investigated.\\n5 \\nFatigue and sleep disturbances are also com -\\nmon.5,11 Sleep disturbances include difficulty \\nfalling and staying asleep, frequent awaken -\\nings, or feeling unrefreshed after sleeping. Comorbid mental health diagnoses are com -\\nmon, as are cognitive symptoms such as poor concentration, forgetfulness, or altered think -\\ning.\\n5,6,12 This cognitive dysfunction has been \\ntermed “fibrofog” and is described by patients as a mental slowing that adversely affects daily activities.\\n13\\nThe presence of another painful disorder \\ndoes not exclude the diagnosis of fibromyal -\\ngia. The Fibromyalgia Rapid Screening Tool can screen patients with diffuse chronic pain to help distinguish between fibromyalgia and other conditions (Table 1) .\\n14 The tool may SORT:   KEY RECOMMENDATIONS FOR PRACTICE\\nClinical recommendationEvidence \\nrating Comments\\nThe diagnosis of fibromyalgia should be considered in patients \\nwith diffuse pain, fatigue, and sleep disturbances that have been present for at least three months.\\n5,11C Diagnosis of fibromyalgia can be made using AAPT 2019 diagnostic criteria or the American College of Radiology 2011/2016 criteria\\nPatients with fibromyalgia should be offered a multidisci -\\nplinary treatment approach that includes education, exercise, and nonpharmacologic and pharmacologic options.\\n27,28C Consensus guidelines and systematic reviews\\nCognitive behavior therapy leads to improvement in pain and disability in patients with fibromyalgia in the short and medium term.\\n32,34,35A Systematic reviews demonstrate improvement\\nAmitriptyline, cyclobenzaprine, duloxetine (Cymbalta), mil -\\nnacipran (Savella), and pregabalin (Lyrica) are effective for pain in fibromyalgia.\\n43,46-48,50,52,54A Systematic reviews demonstrate effectiveness of these medications\\nAAPT = Analgesic, Anesthetic, and Addiction Clinical Trial Translations Innovations Opportunities and Networks–American Pain Society Pain \\nTaxonomy.\\nA = consistent, good-quality patient-oriented evidence;   B = inconsistent or limited-quality patient-oriented evidence;   C = consensus, disease -\\noriented evidence, usual practice, expert opinion, or case series. For information about the SORT evidence rating system, go to https://  www.aafp.\\norg/afpsort.\\nTABLE 1\\nFibromyalgia Rapid Screening Tool (FiRST)\\n Yes\\nI have pain all over my body.  \\nMy pain is accompanied by a continuous and very unpleas -\\nant general fatigue. \\nMy pain feels like burns, electric shocks, or cramps.  \\nMy pain is accompanied by other unusual sensations \\nthroughout my body, such as pins and needles, tingling, or numbness. \\nMy pain is accompanied by other health problems such as digestive problems, urinary problems, headaches, or restless legs. \\nMy pain has a significant impact on my life, particularly on my sleep and my ability to concentrate, making me feel slower in general. \\nTotal*  \\n*—One point for each yes answer. A score of 5 or greater suggests fibromyalgia.\\nAdapted with permission from Perrot S, Bouhassira D, Fermanian J;   CEDR (C ercle \\nd’Etude de la Douleur en Rhumatologie). Development and validation of the Fibro -\\nmyalgia Rapid Screening Tool (FiRST). Pain. 2010;  150(2):  255.\\nDescargado para Boletin -BINASSS (bolet-binas@binasss.sa.cr) en National Library of Health and Social Security de ClinicalKey.es por Elsevier en marzo 24, \\n2023. Para uso personal exclusivamente. No se permiten otros usos sin autorización. Copyright ©2023. Elsevier Inc. Todos los derechos reservados.', mimetype='text/plain', start_char_idx=0, end_char_idx=3975, text_template='{metadata_str}\\n\\n{content}', metadata_template='{key}: {value}', metadata_seperator='\\n'), score=9.0), NodeWithScore(node=TextNode(id_='083e93cc-64e7-44aa-85cc-8ae2ad47ae61', embedding=None, metadata={'page_label': '139', 'file_name': 'fibromyalgia.pdf', 'file_path': '/content/Data/fibromyalgia.pdf', 'file_type': 'application/pdf', 'file_size': 632664, 'creation_date': '2024-09-10', 'last_modified_date': '2023-03-24'}, excluded_embed_metadata_keys=['file_name', 'file_type', 'file_size', 'creation_date', 'last_modified_date', 'last_accessed_date'], excluded_llm_metadata_keys=['file_name', 'file_type', 'file_size', 'creation_date', 'last_modified_date', 'last_accessed_date'], relationships={<NodeRelationship.SOURCE: '1'>: RelatedNodeInfo(node_id='f72359da-bc09-45a8-86a4-0901f4ea1a95', node_type=<ObjectType.DOCUMENT: '4'>, metadata={'page_label': '139', 'file_name': 'fibromyalgia.pdf', 'file_path': '/content/Data/fibromyalgia.pdf', 'file_type': 'application/pdf', 'file_size': 632664, 'creation_date': '2024-09-10', 'last_modified_date': '2023-03-24'}, hash='9f71e1907c7d29dd4a7b1ca31d4b1afdf9d97f6c99e7e2ae16eb1371055778c6'), <NodeRelationship.PREVIOUS: '2'>: RelatedNodeInfo(node_id='fbace6ad-d8b5-4b26-a82e-448aed631cde', node_type=<ObjectType.TEXT: '1'>, metadata={'page_label': '139', 'file_name': 'fibromyalgia.pdf', 'file_path': '/content/Data/fibromyalgia.pdf', 'file_type': 'application/pdf', 'file_size': 632664, 'creation_date': '2024-09-10', 'last_modified_date': '2023-03-24'}, hash='c4c09343c5946d1df3284cc43f5b4019ac46fd509b2eb8ddb92b1c973bc36766')}, text='24\\nDifferential Diagnosis\\nThe differential diagnosis includes rheumatologic con -\\nditions, such as rheumatoid arthritis, systemic lupus ery -\\nthematosus, systemic sclerosis, spondyloarthropathies, polymyalgia rheumatica, and myopathies.\\n5 Fibromyalgia \\nshould be considered in patients with other rheumatologic diagnoses who do not respond well to treatment of their primary condition. Based on the history and examination \\nTABLE 2\\nAAPT 2019 Diagnostic Criteria \\nfor Fibromyalgia\\n1.  Multisite pain, defined as six or more pain sites from \\na total of nine possible sites:  \\nHead\\nLeft armRight armChestAbdomenUpper back and spineLower spine, including buttocksLeft legRight leg\\n2. Moderate to severe sleep problems or fatigue\\n3. Symptoms present for at least three months\\nAAPT = Analgesic, Anesthetic, and Addiction Clinical Trial Trans -\\nlations Innovations Opportunities and Networks–American Pain \\nSociety Pain Taxonomy.\\nAdapted with permission from Arnold LM, Bennett RM, Crofford LJ, \\net al. AAPT diagnostic criteria for fibromyalgia. J Pain. 2019;  20(6):  \\n614-615.\\nDescargado para Boletin -BINASSS (bolet-binas@binasss.sa.cr) en National Library of Health and Social Security de ClinicalKey.es por Elsevier en marzo 24, \\n2023. Para uso personal exclusivamente. No se permiten otros usos sin autorización. Copyright ©2023. Elsevier Inc. Todos los derechos reservados.', mimetype='text/plain', start_char_idx=3593, end_char_idx=4966, text_template='{metadata_str}\\n\\n{content}', metadata_template='{key}: {value}', metadata_seperator='\\n'), score=8.0)]\n",
            "The diagnosis of fibromyalgia can be made using the AAPT 2019 diagnostic criteria or the American College of Radiology 2011/2016 criteria. According to the AAPT 2019 diagnostic criteria, the diagnosis of fibromyalgia requires the presence of the following three conditions: \n",
            "\n",
            "1. Multisite pain, defined as six or more pain sites from a total of nine possible sites, including the head, left arm, right arm, chest, abdomen, upper back and spine, lower spine, including buttocks, left leg, and right leg.\n",
            "\n",
            "2. Moderate to severe sleep problems or fatigue.\n",
            "\n",
            "3. Symptoms present for at least three months.\n",
            "\n",
            "Additionally, the Fibromyalgia Rapid Screening Tool (FiRST) can be used to screen patients with diffuse chronic pain to help distinguish between fibromyalgia and other conditions.rag_flow_recent.html\n"
          ]
        }
      ]
    },
    {
      "cell_type": "code",
      "source": [
        "!pip install pyvis"
      ],
      "metadata": {
        "colab": {
          "base_uri": "https://localhost:8080/"
        },
        "id": "87CcHf3vtAaf",
        "outputId": "10d955be-0a5b-4252-e856-500ecca3f69d"
      },
      "execution_count": 113,
      "outputs": [
        {
          "output_type": "stream",
          "name": "stdout",
          "text": [
            "Requirement already satisfied: pyvis in /usr/local/lib/python3.10/dist-packages (0.3.2)\n",
            "Requirement already satisfied: ipython>=5.3.0 in /usr/local/lib/python3.10/dist-packages (from pyvis) (7.34.0)\n",
            "Requirement already satisfied: jinja2>=2.9.6 in /usr/local/lib/python3.10/dist-packages (from pyvis) (3.1.4)\n",
            "Requirement already satisfied: jsonpickle>=1.4.1 in /usr/local/lib/python3.10/dist-packages (from pyvis) (3.2.2)\n",
            "Requirement already satisfied: networkx>=1.11 in /usr/local/lib/python3.10/dist-packages (from pyvis) (3.3)\n",
            "Requirement already satisfied: setuptools>=18.5 in /usr/local/lib/python3.10/dist-packages (from ipython>=5.3.0->pyvis) (71.0.4)\n",
            "Requirement already satisfied: jedi>=0.16 in /usr/local/lib/python3.10/dist-packages (from ipython>=5.3.0->pyvis) (0.19.1)\n",
            "Requirement already satisfied: decorator in /usr/local/lib/python3.10/dist-packages (from ipython>=5.3.0->pyvis) (4.4.2)\n",
            "Requirement already satisfied: pickleshare in /usr/local/lib/python3.10/dist-packages (from ipython>=5.3.0->pyvis) (0.7.5)\n",
            "Requirement already satisfied: traitlets>=4.2 in /usr/local/lib/python3.10/dist-packages (from ipython>=5.3.0->pyvis) (5.7.1)\n",
            "Requirement already satisfied: prompt-toolkit!=3.0.0,!=3.0.1,<3.1.0,>=2.0.0 in /usr/local/lib/python3.10/dist-packages (from ipython>=5.3.0->pyvis) (3.0.47)\n",
            "Requirement already satisfied: pygments in /usr/local/lib/python3.10/dist-packages (from ipython>=5.3.0->pyvis) (2.16.1)\n",
            "Requirement already satisfied: backcall in /usr/local/lib/python3.10/dist-packages (from ipython>=5.3.0->pyvis) (0.2.0)\n",
            "Requirement already satisfied: matplotlib-inline in /usr/local/lib/python3.10/dist-packages (from ipython>=5.3.0->pyvis) (0.1.7)\n",
            "Requirement already satisfied: pexpect>4.3 in /usr/local/lib/python3.10/dist-packages (from ipython>=5.3.0->pyvis) (4.9.0)\n",
            "Requirement already satisfied: MarkupSafe>=2.0 in /usr/local/lib/python3.10/dist-packages (from jinja2>=2.9.6->pyvis) (2.1.5)\n",
            "Requirement already satisfied: parso<0.9.0,>=0.8.3 in /usr/local/lib/python3.10/dist-packages (from jedi>=0.16->ipython>=5.3.0->pyvis) (0.8.4)\n",
            "Requirement already satisfied: ptyprocess>=0.5 in /usr/local/lib/python3.10/dist-packages (from pexpect>4.3->ipython>=5.3.0->pyvis) (0.7.0)\n",
            "Requirement already satisfied: wcwidth in /usr/local/lib/python3.10/dist-packages (from prompt-toolkit!=3.0.0,!=3.0.1,<3.1.0,>=2.0.0->ipython>=5.3.0->pyvis) (0.2.13)\n"
          ]
        }
      ]
    },
    {
      "cell_type": "code",
      "source": [
        "with open(\"multi_step_workflow.html\", \"r\") as file:\n",
        "    content = file.read()\n",
        "    print(content)"
      ],
      "metadata": {
        "colab": {
          "base_uri": "https://localhost:8080/"
        },
        "id": "xhLAr58An5Vd",
        "outputId": "c48126bb-8fa5-4d10-9950-ec3600ef67fb"
      },
      "execution_count": 110,
      "outputs": [
        {
          "output_type": "stream",
          "name": "stdout",
          "text": [
            "<html>\n",
            "    <head>\n",
            "        <meta charset=\"utf-8\">\n",
            "        \n",
            "            <script src=\"lib/bindings/utils.js\"></script>\n",
            "            <link rel=\"stylesheet\" href=\"https://cdnjs.cloudflare.com/ajax/libs/vis-network/9.1.2/dist/dist/vis-network.min.css\" integrity=\"sha512-WgxfT5LWjfszlPHXRmBWHkV2eceiWTOBvrKCNbdgDYTHrT2AeLCGbF4sZlZw3UMN3WtL0tGUoIAKsu8mllg/XA==\" crossorigin=\"anonymous\" referrerpolicy=\"no-referrer\" />\n",
            "            <script src=\"https://cdnjs.cloudflare.com/ajax/libs/vis-network/9.1.2/dist/vis-network.min.js\" integrity=\"sha512-LnvoEWDFrqGHlHmDD2101OrLcbsfkrzoSpvtSQtxK3RMnRV0eOkhhBN2dXHKRrUU8p2DGRTk35n4O8nWSVe1mQ==\" crossorigin=\"anonymous\" referrerpolicy=\"no-referrer\"></script>\n",
            "            \n",
            "        \n",
            "<center>\n",
            "<h1></h1>\n",
            "</center>\n",
            "\n",
            "<!-- <link rel=\"stylesheet\" href=\"../node_modules/vis/dist/vis.min.css\" type=\"text/css\" />\n",
            "<script type=\"text/javascript\" src=\"../node_modules/vis/dist/vis.js\"> </script>-->\n",
            "        <link\n",
            "          href=\"https://cdn.jsdelivr.net/npm/bootstrap@5.0.0-beta3/dist/css/bootstrap.min.css\"\n",
            "          rel=\"stylesheet\"\n",
            "          integrity=\"sha384-eOJMYsd53ii+scO/bJGFsiCZc+5NDVN2yr8+0RDqr0Ql0h+rP48ckxlpbzKgwra6\"\n",
            "          crossorigin=\"anonymous\"\n",
            "        />\n",
            "        <script\n",
            "          src=\"https://cdn.jsdelivr.net/npm/bootstrap@5.0.0-beta3/dist/js/bootstrap.bundle.min.js\"\n",
            "          integrity=\"sha384-JEW9xMcG8R+pH31jmWH6WWP0WintQrMb4s7ZOdauHnUtxwoG2vI5DkLtS3qm9Ekf\"\n",
            "          crossorigin=\"anonymous\"\n",
            "        ></script>\n",
            "\n",
            "\n",
            "        <center>\n",
            "          <h1></h1>\n",
            "        </center>\n",
            "        <style type=\"text/css\">\n",
            "\n",
            "             #mynetwork {\n",
            "                 width: 100%;\n",
            "                 height: 750px;\n",
            "                 background-color: #ffffff;\n",
            "                 border: 1px solid lightgray;\n",
            "                 position: relative;\n",
            "                 float: left;\n",
            "             }\n",
            "\n",
            "             \n",
            "\n",
            "             \n",
            "\n",
            "             \n",
            "        </style>\n",
            "    </head>\n",
            "\n",
            "\n",
            "    <body>\n",
            "        <div class=\"card\" style=\"width: 100%\">\n",
            "            \n",
            "            \n",
            "            <div id=\"mynetwork\" class=\"card-body\"></div>\n",
            "        </div>\n",
            "\n",
            "        \n",
            "        \n",
            "\n",
            "        <script type=\"text/javascript\">\n",
            "\n",
            "              // initialize global variables.\n",
            "              var edges;\n",
            "              var nodes;\n",
            "              var allNodes;\n",
            "              var allEdges;\n",
            "              var nodeColors;\n",
            "              var originalNodes;\n",
            "              var network;\n",
            "              var container;\n",
            "              var options, data;\n",
            "              var filter = {\n",
            "                  item : '',\n",
            "                  property : '',\n",
            "                  value : []\n",
            "              };\n",
            "\n",
            "              \n",
            "\n",
            "              \n",
            "\n",
            "              // This method is responsible for drawing the graph, returns the drawn network\n",
            "              function drawGraph() {\n",
            "                  var container = document.getElementById('mynetwork');\n",
            "\n",
            "                  \n",
            "\n",
            "                  // parsing and collecting nodes and edges from the python\n",
            "                  nodes = new vis.DataSet([{\"color\": \"#FFA07A\", \"id\": \"StopEvent\", \"label\": \"StopEvent\", \"shape\": \"ellipse\"}, {\"color\": \"#ADD8E6\", \"id\": \"_done\", \"label\": \"_done\", \"shape\": \"box\"}, {\"color\": \"#ADD8E6\", \"id\": \"ingest\", \"label\": \"ingest\", \"shape\": \"box\"}, {\"color\": \"#E27AFF\", \"id\": \"StartEvent\", \"label\": \"StartEvent\", \"shape\": \"ellipse\"}, {\"color\": \"#ADD8E6\", \"id\": \"rerank\", \"label\": \"rerank\", \"shape\": \"box\"}, {\"color\": \"#90EE90\", \"id\": \"RetrieverEvent\", \"label\": \"RetrieverEvent\", \"shape\": \"ellipse\"}, {\"color\": \"#ADD8E6\", \"id\": \"retrieve\", \"label\": \"retrieve\", \"shape\": \"box\"}, {\"color\": \"#ADD8E6\", \"id\": \"synthesize\", \"label\": \"synthesize\", \"shape\": \"box\"}, {\"color\": \"#90EE90\", \"id\": \"RerankEvent\", \"label\": \"RerankEvent\", \"shape\": \"ellipse\"}]);\n",
            "                  edges = new vis.DataSet([{\"arrows\": \"to\", \"from\": \"StopEvent\", \"to\": \"_done\"}, {\"arrows\": \"to\", \"from\": \"StopEvent\", \"to\": \"_done\"}, {\"arrows\": \"to\", \"from\": \"ingest\", \"to\": \"StopEvent\"}, {\"arrows\": \"to\", \"from\": \"StartEvent\", \"to\": \"ingest\"}, {\"arrows\": \"to\", \"from\": \"rerank\", \"to\": \"RerankEvent\"}, {\"arrows\": \"to\", \"from\": \"RetrieverEvent\", \"to\": \"rerank\"}, {\"arrows\": \"to\", \"from\": \"retrieve\", \"to\": \"RetrieverEvent\"}, {\"arrows\": \"to\", \"from\": \"StartEvent\", \"to\": \"retrieve\"}, {\"arrows\": \"to\", \"from\": \"synthesize\", \"to\": \"StopEvent\"}, {\"arrows\": \"to\", \"from\": \"RerankEvent\", \"to\": \"synthesize\"}]);\n",
            "\n",
            "                  nodeColors = {};\n",
            "                  allNodes = nodes.get({ returnType: \"Object\" });\n",
            "                  for (nodeId in allNodes) {\n",
            "                    nodeColors[nodeId] = allNodes[nodeId].color;\n",
            "                  }\n",
            "                  allEdges = edges.get({ returnType: \"Object\" });\n",
            "                  // adding nodes and edges to the graph\n",
            "                  data = {nodes: nodes, edges: edges};\n",
            "\n",
            "                  var options = {\n",
            "    \"configure\": {\n",
            "        \"enabled\": false\n",
            "    },\n",
            "    \"edges\": {\n",
            "        \"color\": {\n",
            "            \"inherit\": true\n",
            "        },\n",
            "        \"smooth\": {\n",
            "            \"enabled\": true,\n",
            "            \"type\": \"dynamic\"\n",
            "        }\n",
            "    },\n",
            "    \"interaction\": {\n",
            "        \"dragNodes\": true,\n",
            "        \"hideEdgesOnDrag\": false,\n",
            "        \"hideNodesOnDrag\": false\n",
            "    },\n",
            "    \"physics\": {\n",
            "        \"enabled\": true,\n",
            "        \"stabilization\": {\n",
            "            \"enabled\": true,\n",
            "            \"fit\": true,\n",
            "            \"iterations\": 1000,\n",
            "            \"onlyDynamicEdges\": false,\n",
            "            \"updateInterval\": 50\n",
            "        }\n",
            "    }\n",
            "};\n",
            "\n",
            "                  \n",
            "\n",
            "\n",
            "                  \n",
            "\n",
            "                  network = new vis.Network(container, data, options);\n",
            "\n",
            "                  \n",
            "\n",
            "                  \n",
            "\n",
            "                  \n",
            "\n",
            "\n",
            "                  \n",
            "\n",
            "                  return network;\n",
            "\n",
            "              }\n",
            "              drawGraph();\n",
            "        </script>\n",
            "    </body>\n",
            "</html>\n"
          ]
        }
      ]
    },
    {
      "cell_type": "code",
      "source": [
        "from IPython.core.display import display, HTML\n",
        "\n",
        "with open(\"multi_step_workflow.html\", \"r\") as file:\n",
        "    display(HTML(file.read()))"
      ],
      "metadata": {
        "colab": {
          "resources": {
            "http://localhost:8080/lib/bindings/utils.js": {
              "data": "",
              "ok": false,
              "headers": [
                [
                  "content-length",
                  "0"
                ]
              ],
              "status": 404,
              "status_text": ""
            }
          },
          "base_uri": "https://localhost:8080/",
          "height": 776
        },
        "id": "WHh2WfWwqUx3",
        "outputId": "5291464d-bba0-4536-bda0-52849db48146"
      },
      "execution_count": 111,
      "outputs": [
        {
          "output_type": "display_data",
          "data": {
            "text/plain": [
              "<IPython.core.display.HTML object>"
            ],
            "text/html": [
              "<html>\n",
              "    <head>\n",
              "        <meta charset=\"utf-8\">\n",
              "        \n",
              "            <script src=\"lib/bindings/utils.js\"></script>\n",
              "            <link rel=\"stylesheet\" href=\"https://cdnjs.cloudflare.com/ajax/libs/vis-network/9.1.2/dist/dist/vis-network.min.css\" integrity=\"sha512-WgxfT5LWjfszlPHXRmBWHkV2eceiWTOBvrKCNbdgDYTHrT2AeLCGbF4sZlZw3UMN3WtL0tGUoIAKsu8mllg/XA==\" crossorigin=\"anonymous\" referrerpolicy=\"no-referrer\" />\n",
              "            <script src=\"https://cdnjs.cloudflare.com/ajax/libs/vis-network/9.1.2/dist/vis-network.min.js\" integrity=\"sha512-LnvoEWDFrqGHlHmDD2101OrLcbsfkrzoSpvtSQtxK3RMnRV0eOkhhBN2dXHKRrUU8p2DGRTk35n4O8nWSVe1mQ==\" crossorigin=\"anonymous\" referrerpolicy=\"no-referrer\"></script>\n",
              "            \n",
              "        \n",
              "<center>\n",
              "<h1></h1>\n",
              "</center>\n",
              "\n",
              "<!-- <link rel=\"stylesheet\" href=\"../node_modules/vis/dist/vis.min.css\" type=\"text/css\" />\n",
              "<script type=\"text/javascript\" src=\"../node_modules/vis/dist/vis.js\"> </script>-->\n",
              "        <link\n",
              "          href=\"https://cdn.jsdelivr.net/npm/bootstrap@5.0.0-beta3/dist/css/bootstrap.min.css\"\n",
              "          rel=\"stylesheet\"\n",
              "          integrity=\"sha384-eOJMYsd53ii+scO/bJGFsiCZc+5NDVN2yr8+0RDqr0Ql0h+rP48ckxlpbzKgwra6\"\n",
              "          crossorigin=\"anonymous\"\n",
              "        />\n",
              "        <script\n",
              "          src=\"https://cdn.jsdelivr.net/npm/bootstrap@5.0.0-beta3/dist/js/bootstrap.bundle.min.js\"\n",
              "          integrity=\"sha384-JEW9xMcG8R+pH31jmWH6WWP0WintQrMb4s7ZOdauHnUtxwoG2vI5DkLtS3qm9Ekf\"\n",
              "          crossorigin=\"anonymous\"\n",
              "        ></script>\n",
              "\n",
              "\n",
              "        <center>\n",
              "          <h1></h1>\n",
              "        </center>\n",
              "        <style type=\"text/css\">\n",
              "\n",
              "             #mynetwork {\n",
              "                 width: 100%;\n",
              "                 height: 750px;\n",
              "                 background-color: #ffffff;\n",
              "                 border: 1px solid lightgray;\n",
              "                 position: relative;\n",
              "                 float: left;\n",
              "             }\n",
              "\n",
              "             \n",
              "\n",
              "             \n",
              "\n",
              "             \n",
              "        </style>\n",
              "    </head>\n",
              "\n",
              "\n",
              "    <body>\n",
              "        <div class=\"card\" style=\"width: 100%\">\n",
              "            \n",
              "            \n",
              "            <div id=\"mynetwork\" class=\"card-body\"></div>\n",
              "        </div>\n",
              "\n",
              "        \n",
              "        \n",
              "\n",
              "        <script type=\"text/javascript\">\n",
              "\n",
              "              // initialize global variables.\n",
              "              var edges;\n",
              "              var nodes;\n",
              "              var allNodes;\n",
              "              var allEdges;\n",
              "              var nodeColors;\n",
              "              var originalNodes;\n",
              "              var network;\n",
              "              var container;\n",
              "              var options, data;\n",
              "              var filter = {\n",
              "                  item : '',\n",
              "                  property : '',\n",
              "                  value : []\n",
              "              };\n",
              "\n",
              "              \n",
              "\n",
              "              \n",
              "\n",
              "              // This method is responsible for drawing the graph, returns the drawn network\n",
              "              function drawGraph() {\n",
              "                  var container = document.getElementById('mynetwork');\n",
              "\n",
              "                  \n",
              "\n",
              "                  // parsing and collecting nodes and edges from the python\n",
              "                  nodes = new vis.DataSet([{\"color\": \"#FFA07A\", \"id\": \"StopEvent\", \"label\": \"StopEvent\", \"shape\": \"ellipse\"}, {\"color\": \"#ADD8E6\", \"id\": \"_done\", \"label\": \"_done\", \"shape\": \"box\"}, {\"color\": \"#ADD8E6\", \"id\": \"ingest\", \"label\": \"ingest\", \"shape\": \"box\"}, {\"color\": \"#E27AFF\", \"id\": \"StartEvent\", \"label\": \"StartEvent\", \"shape\": \"ellipse\"}, {\"color\": \"#ADD8E6\", \"id\": \"rerank\", \"label\": \"rerank\", \"shape\": \"box\"}, {\"color\": \"#90EE90\", \"id\": \"RetrieverEvent\", \"label\": \"RetrieverEvent\", \"shape\": \"ellipse\"}, {\"color\": \"#ADD8E6\", \"id\": \"retrieve\", \"label\": \"retrieve\", \"shape\": \"box\"}, {\"color\": \"#ADD8E6\", \"id\": \"synthesize\", \"label\": \"synthesize\", \"shape\": \"box\"}, {\"color\": \"#90EE90\", \"id\": \"RerankEvent\", \"label\": \"RerankEvent\", \"shape\": \"ellipse\"}]);\n",
              "                  edges = new vis.DataSet([{\"arrows\": \"to\", \"from\": \"StopEvent\", \"to\": \"_done\"}, {\"arrows\": \"to\", \"from\": \"StopEvent\", \"to\": \"_done\"}, {\"arrows\": \"to\", \"from\": \"ingest\", \"to\": \"StopEvent\"}, {\"arrows\": \"to\", \"from\": \"StartEvent\", \"to\": \"ingest\"}, {\"arrows\": \"to\", \"from\": \"rerank\", \"to\": \"RerankEvent\"}, {\"arrows\": \"to\", \"from\": \"RetrieverEvent\", \"to\": \"rerank\"}, {\"arrows\": \"to\", \"from\": \"retrieve\", \"to\": \"RetrieverEvent\"}, {\"arrows\": \"to\", \"from\": \"StartEvent\", \"to\": \"retrieve\"}, {\"arrows\": \"to\", \"from\": \"synthesize\", \"to\": \"StopEvent\"}, {\"arrows\": \"to\", \"from\": \"RerankEvent\", \"to\": \"synthesize\"}]);\n",
              "\n",
              "                  nodeColors = {};\n",
              "                  allNodes = nodes.get({ returnType: \"Object\" });\n",
              "                  for (nodeId in allNodes) {\n",
              "                    nodeColors[nodeId] = allNodes[nodeId].color;\n",
              "                  }\n",
              "                  allEdges = edges.get({ returnType: \"Object\" });\n",
              "                  // adding nodes and edges to the graph\n",
              "                  data = {nodes: nodes, edges: edges};\n",
              "\n",
              "                  var options = {\n",
              "    \"configure\": {\n",
              "        \"enabled\": false\n",
              "    },\n",
              "    \"edges\": {\n",
              "        \"color\": {\n",
              "            \"inherit\": true\n",
              "        },\n",
              "        \"smooth\": {\n",
              "            \"enabled\": true,\n",
              "            \"type\": \"dynamic\"\n",
              "        }\n",
              "    },\n",
              "    \"interaction\": {\n",
              "        \"dragNodes\": true,\n",
              "        \"hideEdgesOnDrag\": false,\n",
              "        \"hideNodesOnDrag\": false\n",
              "    },\n",
              "    \"physics\": {\n",
              "        \"enabled\": true,\n",
              "        \"stabilization\": {\n",
              "            \"enabled\": true,\n",
              "            \"fit\": true,\n",
              "            \"iterations\": 1000,\n",
              "            \"onlyDynamicEdges\": false,\n",
              "            \"updateInterval\": 50\n",
              "        }\n",
              "    }\n",
              "};\n",
              "\n",
              "                  \n",
              "\n",
              "\n",
              "                  \n",
              "\n",
              "                  network = new vis.Network(container, data, options);\n",
              "\n",
              "                  \n",
              "\n",
              "                  \n",
              "\n",
              "                  \n",
              "\n",
              "\n",
              "                  \n",
              "\n",
              "                  return network;\n",
              "\n",
              "              }\n",
              "              drawGraph();\n",
              "        </script>\n",
              "    </body>\n",
              "</html>"
            ]
          },
          "metadata": {}
        }
      ]
    },
    {
      "cell_type": "code",
      "source": [
        "from llama_index.utils.workflow import draw_all_possible_flows, draw_most_recent_execution\n",
        "\n",
        "# Draw all possible flows\n",
        "draw_all_possible_flows(RAGWorkflow, filename=\"multi_step_workflow.html\")\n",
        "\n",
        "# Draw the most recent execution\n",
        "w = RAGWorkflow()\n",
        "\n",
        "# Ingest the documents\n",
        "index = await w.run(dirname=\"Data\")\n",
        "result = await w.run(query=\"What is Fibromyalgia?\", index=index)\n",
        "async for chunk in result.async_response_gen():\n",
        "    print(chunk, end=\"\", flush=True)\n",
        "draw_most_recent_execution(w, filename=\"rag_flow_recent.html\")"
      ],
      "metadata": {
        "colab": {
          "base_uri": "https://localhost:8080/"
        },
        "id": "rPil7MlbskJq",
        "outputId": "6a92e8f8-9462-4648-bd3d-6619080a7617"
      },
      "execution_count": 112,
      "outputs": [
        {
          "output_type": "stream",
          "name": "stdout",
          "text": [
            "multi_step_workflow.html\n",
            "Query the database with: What is Fibromyalgia?\n",
            "Retrieved 2 nodes.\n",
            "What is Fibromyalgia?\n",
            "Reranked nodes to 2\n",
            "[NodeWithScore(node=TextNode(id_='3f137a38-b4bd-4900-bfa9-a28d68090844', embedding=None, metadata={'page_label': '137', 'file_name': 'fibromyalgia.pdf', 'file_path': '/content/Data/fibromyalgia.pdf', 'file_type': 'application/pdf', 'file_size': 632664, 'creation_date': '2024-09-10', 'last_modified_date': '2023-03-24'}, excluded_embed_metadata_keys=['file_name', 'file_type', 'file_size', 'creation_date', 'last_modified_date', 'last_accessed_date'], excluded_llm_metadata_keys=['file_name', 'file_type', 'file_size', 'creation_date', 'last_modified_date', 'last_accessed_date'], relationships={<NodeRelationship.SOURCE: '1'>: RelatedNodeInfo(node_id='64e75efe-2312-49ed-83a1-24396610899f', node_type=<ObjectType.DOCUMENT: '4'>, metadata={'page_label': '137', 'file_name': 'fibromyalgia.pdf', 'file_path': '/content/Data/fibromyalgia.pdf', 'file_type': 'application/pdf', 'file_size': 632664, 'creation_date': '2024-09-10', 'last_modified_date': '2023-03-24'}, hash='c70178d6db587d29e77970e161c76a1abb2ef7d49978421819193e71322b44f4'), <NodeRelationship.NEXT: '3'>: RelatedNodeInfo(node_id='090ad67c-f9f1-4cf7-a964-4908e0d4641c', node_type=<ObjectType.TEXT: '1'>, metadata={}, hash='ae86bbb0dc3fc0820ab5d3ea8545e68a9fe5ed83eec1bf43f822637cc1c887ed')}, text='February 2023  ◆ Volume 107, Number 2  www.aafp.org/afp  American Family Physician  137Fibromyalgia is characterized by diffuse mus -\\nculoskeletal pain, fatigue, poor sleep, and other \\nsomatic symptoms.1 Chronic diffuse pain affects \\n10% to 15% of adults in the general population worldwide, many of whom have fibromyalgia.\\n2,3 \\nApproximately 2% of people in the United States have fibromyalgia, although the prevalence var -\\nies across populations and with the diagnostic criteria used.\\n3 Fibromyalgia can occur in chil -\\ndren and adults and is found worldwide and across cultures. Women are diagnosed more \\nfrequently than men;   a Scot tish survey found \\nthat women are diagnosed between two and 14 times as often as men depending on the crite -\\nria used.\\n3,4 Changes in the diagnostic criteria over the past decade, including the elimination of specific tender points, have resulted in more patients with chronic pain meeting the criteria for fibromyalgia.\\n3-5\\nPathophysiology\\nFibromyalgia is likely caused by disordered cen -\\ntral nociceptive signal processing that leads to sensitization expressed as hyperalgesia and allo -\\ndynia, which is similar to chronic pain conditions such as irritable bowel syndrome, interstitial cys -\\ntitis, chronic pelvic pain, and chronic low back pain.\\n6,7 Functional brain imaging suggests that \\nthis aberrant processing may be attributed to an imbalance between excitatory and inhibitory neu -\\nrotransmitters, particularly within the insula.\\n8 \\nSuggested etiologies include dysfunction of the hypothalamic-pituitary-adrenal axis and the autonomic nervous system, diffuse inflammation, glial cell activation, small fiber neuropathy, and infections such as the Epstein-Barr virus, Lyme disease, and viral hepatitis.\\n9 Twin studies suggest \\na genetic component may also be a factor.10Fibromyalgia:   Diagn osis and Management\\nBradford T. Winslow, MD, University of Colorado School of Medicine, Aurora, \\nColorado;   Swedi sh Family Medicine Residency, Englewood, Colorado\\nCarmen Vandal, MD, and Laurel Dang, MD, Swedish Family Medicine Residency, Englewood, Colorado\\n CME  This clinical content conforms to AAFP criteria for \\nCME. See CME Quiz on page 127.\\nAuthor disclosure:   No relevant financial relationships.\\nPatient information:   A handout on this topic, written by the \\nauthors of this article, is available with the online version of \\nthis article.Fibromyalgia is a chronic, centralized pain syndrome characterized by disordered processing of painful stimuli. Fibromyal -\\ngia is diagnosed more frequently in women and occurs globally, affecting 2% of people in the United States. Patients with \\nfibromyalgia have diffuse chronic pain, poor sleep, fatigue, cognitive dysfunc -\\ntion, and mood disturbances. Comorbid conditions, such as functional somatic syndromes, psychiatric diagnoses, and rheumatologic conditions may be pres -\\nent. The Fibromyalgia Rapid Screening Tool is a helpful screening method for patients with diffuse chronic pain. The American College of Rheumatology criteria or the Analgesic, Anesthetic, and Addiction Clinical Trial Translations Innovations Opportunities and Networks–American Pain Society Pain Taxonomy diagnostic criteria can diagnose fibromyalgia. Establishing the diagnosis and providing education can reassure patients and decrease unnecessary testing. A multidisciplinary approach that incorporates nonpharmacologic therapies and medications to address problematic symptoms is most effective. Patient educa -\\ntion, exercise, and cognitive behavior therapy can improve pain and function. Duloxetine, milnacipran, pregabalin, and amitriptyline are potentially effective medications for fibromyalgia. Nonsteroi -\\ndal anti-inflammatory drugs and opioids have not demonstrated benefits for fibromyalgia and have significant limitations.  \\n(Am Fam Physician\\n. 2023;  107(2):  137-1 44. Copyright © 2023 American Academy of Family Physicians.)\\nIllustration by Jonathan Dimes\\nDownloaded from the American Family Physician website at www.aafp.org/afp. Copyright © 2023  American Academy of Family Physicians. For the private, non -\\ncommercial use of one individual user of the website. All other rights reserved. Contact copyrights@aafp.org for copyright questions and/or permission requests.Downloaded from the American Family Physician website at www.aafp.org/afp. Copyright © 2023  American Academy of Family Physicians. For the private, non -\\ncommercial use of one individual user of the website.', mimetype='text/plain', start_char_idx=0, end_char_idx=4474, text_template='{metadata_str}\\n\\n{content}', metadata_template='{key}: {value}', metadata_seperator='\\n'), score=9.0), NodeWithScore(node=TextNode(id_='627d37d0-b950-4703-8bd1-32b7ac562e4f', embedding=None, metadata={'page_label': '138', 'file_name': 'fibromyalgia.pdf', 'file_path': '/content/Data/fibromyalgia.pdf', 'file_type': 'application/pdf', 'file_size': 632664, 'creation_date': '2024-09-10', 'last_modified_date': '2023-03-24'}, excluded_embed_metadata_keys=['file_name', 'file_type', 'file_size', 'creation_date', 'last_modified_date', 'last_accessed_date'], excluded_llm_metadata_keys=['file_name', 'file_type', 'file_size', 'creation_date', 'last_modified_date', 'last_accessed_date'], relationships={<NodeRelationship.SOURCE: '1'>: RelatedNodeInfo(node_id='f05c8204-37c0-4ac0-aa85-4095a74b1f51', node_type=<ObjectType.DOCUMENT: '4'>, metadata={'page_label': '138', 'file_name': 'fibromyalgia.pdf', 'file_path': '/content/Data/fibromyalgia.pdf', 'file_type': 'application/pdf', 'file_size': 632664, 'creation_date': '2024-09-10', 'last_modified_date': '2023-03-24'}, hash='f14fbdf6f0180dbf4c788fe4c81e58302ff38270f6ea6f8b9c961a071f568f13')}, text='138  American Family Physician  www.aafp.org/afp  Volume 107, Number 2  ◆ February 2023\\nFIBROMYALGIAClinical Presentation\\nChronic diffuse pain is the predominant \\nsymptom in most patients with fibromyalgia. Patients may also experience muscle stiffness and tenderness. The physical examination in patients with fibromyalgia generally finds diffuse tenderness without other unusual findings. If joint swelling, inflammation, or deformities are present, an alternative or additional diagnosis should be investigated.\\n5 \\nFatigue and sleep disturbances are also com -\\nmon.5,11 Sleep disturbances include difficulty \\nfalling and staying asleep, frequent awaken -\\nings, or feeling unrefreshed after sleeping. Comorbid mental health diagnoses are com -\\nmon, as are cognitive symptoms such as poor concentration, forgetfulness, or altered think -\\ning.\\n5,6,12 This cognitive dysfunction has been \\ntermed “fibrofog” and is described by patients as a mental slowing that adversely affects daily activities.\\n13\\nThe presence of another painful disorder \\ndoes not exclude the diagnosis of fibromyal -\\ngia. The Fibromyalgia Rapid Screening Tool can screen patients with diffuse chronic pain to help distinguish between fibromyalgia and other conditions (Table 1) .\\n14 The tool may SORT:   KEY RECOMMENDATIONS FOR PRACTICE\\nClinical recommendationEvidence \\nrating Comments\\nThe diagnosis of fibromyalgia should be considered in patients \\nwith diffuse pain, fatigue, and sleep disturbances that have been present for at least three months.\\n5,11C Diagnosis of fibromyalgia can be made using AAPT 2019 diagnostic criteria or the American College of Radiology 2011/2016 criteria\\nPatients with fibromyalgia should be offered a multidisci -\\nplinary treatment approach that includes education, exercise, and nonpharmacologic and pharmacologic options.\\n27,28C Consensus guidelines and systematic reviews\\nCognitive behavior therapy leads to improvement in pain and disability in patients with fibromyalgia in the short and medium term.\\n32,34,35A Systematic reviews demonstrate improvement\\nAmitriptyline, cyclobenzaprine, duloxetine (Cymbalta), mil -\\nnacipran (Savella), and pregabalin (Lyrica) are effective for pain in fibromyalgia.\\n43,46-48,50,52,54A Systematic reviews demonstrate effectiveness of these medications\\nAAPT = Analgesic, Anesthetic, and Addiction Clinical Trial Translations Innovations Opportunities and Networks–American Pain Society Pain \\nTaxonomy.\\nA = consistent, good-quality patient-oriented evidence;   B = inconsistent or limited-quality patient-oriented evidence;   C = consensus, disease -\\noriented evidence, usual practice, expert opinion, or case series. For information about the SORT evidence rating system, go to https://  www.aafp.\\norg/afpsort.\\nTABLE 1\\nFibromyalgia Rapid Screening Tool (FiRST)\\n Yes\\nI have pain all over my body.  \\nMy pain is accompanied by a continuous and very unpleas -\\nant general fatigue. \\nMy pain feels like burns, electric shocks, or cramps.  \\nMy pain is accompanied by other unusual sensations \\nthroughout my body, such as pins and needles, tingling, or numbness. \\nMy pain is accompanied by other health problems such as digestive problems, urinary problems, headaches, or restless legs. \\nMy pain has a significant impact on my life, particularly on my sleep and my ability to concentrate, making me feel slower in general. \\nTotal*  \\n*—One point for each yes answer. A score of 5 or greater suggests fibromyalgia.\\nAdapted with permission from Perrot S, Bouhassira D, Fermanian J;   CEDR (C ercle \\nd’Etude de la Douleur en Rhumatologie). Development and validation of the Fibro -\\nmyalgia Rapid Screening Tool (FiRST). Pain. 2010;  150(2):  255.\\nDescargado para Boletin -BINASSS (bolet-binas@binasss.sa.cr) en National Library of Health and Social Security de ClinicalKey.es por Elsevier en marzo 24, \\n2023. Para uso personal exclusivamente. No se permiten otros usos sin autorización. Copyright ©2023. Elsevier Inc. Todos los derechos reservados.', mimetype='text/plain', start_char_idx=0, end_char_idx=3975, text_template='{metadata_str}\\n\\n{content}', metadata_template='{key}: {value}', metadata_seperator='\\n'), score=8.0)]\n",
            "Fibromyalgia is a chronic, centralized pain syndrome characterized by disordered processing of painful stimuli. It is characterized by diffuse musculoskeletal pain, fatigue, poor sleep, and other somatic symptoms.rag_flow_recent.html\n"
          ]
        }
      ]
    },
    {
      "cell_type": "code",
      "source": [
        "!pip install pyvis llama-index-core llama-index-llms-openai llama-index-embeddings-openai llama-index-readers-file llama-index-utils-workflow"
      ],
      "metadata": {
        "colab": {
          "base_uri": "https://localhost:8080/"
        },
        "id": "LYb5H4294Od5",
        "outputId": "e28106c1-ad4f-47fc-8bde-4395fbf25d1e"
      },
      "execution_count": 121,
      "outputs": [
        {
          "output_type": "stream",
          "name": "stdout",
          "text": [
            "Requirement already satisfied: pyvis in /usr/local/lib/python3.10/dist-packages (0.3.2)\n",
            "Requirement already satisfied: llama-index-core in /usr/local/lib/python3.10/dist-packages (0.11.8)\n",
            "Requirement already satisfied: llama-index-llms-openai in /usr/local/lib/python3.10/dist-packages (0.2.3)\n",
            "Requirement already satisfied: llama-index-embeddings-openai in /usr/local/lib/python3.10/dist-packages (0.2.4)\n",
            "Requirement already satisfied: llama-index-readers-file in /usr/local/lib/python3.10/dist-packages (0.2.1)\n",
            "Requirement already satisfied: llama-index-utils-workflow in /usr/local/lib/python3.10/dist-packages (0.2.1)\n",
            "Requirement already satisfied: ipython>=5.3.0 in /usr/local/lib/python3.10/dist-packages (from pyvis) (7.34.0)\n",
            "Requirement already satisfied: jinja2>=2.9.6 in /usr/local/lib/python3.10/dist-packages (from pyvis) (3.1.4)\n",
            "Requirement already satisfied: jsonpickle>=1.4.1 in /usr/local/lib/python3.10/dist-packages (from pyvis) (3.2.2)\n",
            "Requirement already satisfied: networkx>=1.11 in /usr/local/lib/python3.10/dist-packages (from pyvis) (3.3)\n",
            "Requirement already satisfied: PyYAML>=6.0.1 in /usr/local/lib/python3.10/dist-packages (from llama-index-core) (6.0.2)\n",
            "Requirement already satisfied: SQLAlchemy>=1.4.49 in /usr/local/lib/python3.10/dist-packages (from SQLAlchemy[asyncio]>=1.4.49->llama-index-core) (2.0.32)\n",
            "Requirement already satisfied: aiohttp<4.0.0,>=3.8.6 in /usr/local/lib/python3.10/dist-packages (from llama-index-core) (3.10.5)\n",
            "Requirement already satisfied: dataclasses-json in /usr/local/lib/python3.10/dist-packages (from llama-index-core) (0.6.7)\n",
            "Requirement already satisfied: deprecated>=1.2.9.3 in /usr/local/lib/python3.10/dist-packages (from llama-index-core) (1.2.14)\n",
            "Requirement already satisfied: dirtyjson<2.0.0,>=1.0.8 in /usr/local/lib/python3.10/dist-packages (from llama-index-core) (1.0.8)\n",
            "Requirement already satisfied: fsspec>=2023.5.0 in /usr/local/lib/python3.10/dist-packages (from llama-index-core) (2024.6.1)\n",
            "Requirement already satisfied: httpx in /usr/local/lib/python3.10/dist-packages (from llama-index-core) (0.27.2)\n",
            "Requirement already satisfied: nest-asyncio<2.0.0,>=1.5.8 in /usr/local/lib/python3.10/dist-packages (from llama-index-core) (1.6.0)\n",
            "Requirement already satisfied: nltk>3.8.1 in /usr/local/lib/python3.10/dist-packages (from llama-index-core) (3.9.1)\n",
            "Requirement already satisfied: numpy<2.0.0 in /usr/local/lib/python3.10/dist-packages (from llama-index-core) (1.26.4)\n",
            "Requirement already satisfied: pillow>=9.0.0 in /usr/local/lib/python3.10/dist-packages (from llama-index-core) (9.4.0)\n",
            "Requirement already satisfied: pydantic<3.0.0,>=2.7.0 in /usr/local/lib/python3.10/dist-packages (from llama-index-core) (2.8.2)\n",
            "Requirement already satisfied: requests>=2.31.0 in /usr/local/lib/python3.10/dist-packages (from llama-index-core) (2.32.3)\n",
            "Requirement already satisfied: tenacity!=8.4.0,<9.0.0,>=8.2.0 in /usr/local/lib/python3.10/dist-packages (from llama-index-core) (8.5.0)\n",
            "Requirement already satisfied: tiktoken>=0.3.3 in /usr/local/lib/python3.10/dist-packages (from llama-index-core) (0.7.0)\n",
            "Requirement already satisfied: tqdm<5.0.0,>=4.66.1 in /usr/local/lib/python3.10/dist-packages (from llama-index-core) (4.66.5)\n",
            "Requirement already satisfied: typing-extensions>=4.5.0 in /usr/local/lib/python3.10/dist-packages (from llama-index-core) (4.12.2)\n",
            "Requirement already satisfied: typing-inspect>=0.8.0 in /usr/local/lib/python3.10/dist-packages (from llama-index-core) (0.9.0)\n",
            "Requirement already satisfied: wrapt in /usr/local/lib/python3.10/dist-packages (from llama-index-core) (1.16.0)\n",
            "Requirement already satisfied: llama-index-agent-openai<0.4.0,>=0.3.1 in /usr/local/lib/python3.10/dist-packages (from llama-index-llms-openai) (0.3.1)\n",
            "Requirement already satisfied: openai<2.0.0,>=1.40.0 in /usr/local/lib/python3.10/dist-packages (from llama-index-llms-openai) (1.44.1)\n",
            "Requirement already satisfied: beautifulsoup4<5.0.0,>=4.12.3 in /usr/local/lib/python3.10/dist-packages (from llama-index-readers-file) (4.12.3)\n",
            "Requirement already satisfied: pandas in /usr/local/lib/python3.10/dist-packages (from llama-index-readers-file) (2.1.4)\n",
            "Requirement already satisfied: pypdf<5.0.0,>=4.0.1 in /usr/local/lib/python3.10/dist-packages (from llama-index-readers-file) (4.3.1)\n",
            "Requirement already satisfied: striprtf<0.0.27,>=0.0.26 in /usr/local/lib/python3.10/dist-packages (from llama-index-readers-file) (0.0.26)\n",
            "Requirement already satisfied: aiohappyeyeballs>=2.3.0 in /usr/local/lib/python3.10/dist-packages (from aiohttp<4.0.0,>=3.8.6->llama-index-core) (2.4.0)\n",
            "Requirement already satisfied: aiosignal>=1.1.2 in /usr/local/lib/python3.10/dist-packages (from aiohttp<4.0.0,>=3.8.6->llama-index-core) (1.3.1)\n",
            "Requirement already satisfied: attrs>=17.3.0 in /usr/local/lib/python3.10/dist-packages (from aiohttp<4.0.0,>=3.8.6->llama-index-core) (24.2.0)\n",
            "Requirement already satisfied: frozenlist>=1.1.1 in /usr/local/lib/python3.10/dist-packages (from aiohttp<4.0.0,>=3.8.6->llama-index-core) (1.4.1)\n",
            "Requirement already satisfied: multidict<7.0,>=4.5 in /usr/local/lib/python3.10/dist-packages (from aiohttp<4.0.0,>=3.8.6->llama-index-core) (6.0.5)\n",
            "Requirement already satisfied: yarl<2.0,>=1.0 in /usr/local/lib/python3.10/dist-packages (from aiohttp<4.0.0,>=3.8.6->llama-index-core) (1.9.4)\n",
            "Requirement already satisfied: async-timeout<5.0,>=4.0 in /usr/local/lib/python3.10/dist-packages (from aiohttp<4.0.0,>=3.8.6->llama-index-core) (4.0.3)\n",
            "Requirement already satisfied: soupsieve>1.2 in /usr/local/lib/python3.10/dist-packages (from beautifulsoup4<5.0.0,>=4.12.3->llama-index-readers-file) (2.6)\n",
            "Requirement already satisfied: setuptools>=18.5 in /usr/local/lib/python3.10/dist-packages (from ipython>=5.3.0->pyvis) (71.0.4)\n",
            "Requirement already satisfied: jedi>=0.16 in /usr/local/lib/python3.10/dist-packages (from ipython>=5.3.0->pyvis) (0.19.1)\n",
            "Requirement already satisfied: decorator in /usr/local/lib/python3.10/dist-packages (from ipython>=5.3.0->pyvis) (4.4.2)\n",
            "Requirement already satisfied: pickleshare in /usr/local/lib/python3.10/dist-packages (from ipython>=5.3.0->pyvis) (0.7.5)\n",
            "Requirement already satisfied: traitlets>=4.2 in /usr/local/lib/python3.10/dist-packages (from ipython>=5.3.0->pyvis) (5.7.1)\n",
            "Requirement already satisfied: prompt-toolkit!=3.0.0,!=3.0.1,<3.1.0,>=2.0.0 in /usr/local/lib/python3.10/dist-packages (from ipython>=5.3.0->pyvis) (3.0.47)\n",
            "Requirement already satisfied: pygments in /usr/local/lib/python3.10/dist-packages (from ipython>=5.3.0->pyvis) (2.16.1)\n",
            "Requirement already satisfied: backcall in /usr/local/lib/python3.10/dist-packages (from ipython>=5.3.0->pyvis) (0.2.0)\n",
            "Requirement already satisfied: matplotlib-inline in /usr/local/lib/python3.10/dist-packages (from ipython>=5.3.0->pyvis) (0.1.7)\n",
            "Requirement already satisfied: pexpect>4.3 in /usr/local/lib/python3.10/dist-packages (from ipython>=5.3.0->pyvis) (4.9.0)\n",
            "Requirement already satisfied: MarkupSafe>=2.0 in /usr/local/lib/python3.10/dist-packages (from jinja2>=2.9.6->pyvis) (2.1.5)\n",
            "Requirement already satisfied: click in /usr/local/lib/python3.10/dist-packages (from nltk>3.8.1->llama-index-core) (8.1.7)\n",
            "Requirement already satisfied: joblib in /usr/local/lib/python3.10/dist-packages (from nltk>3.8.1->llama-index-core) (1.4.2)\n",
            "Requirement already satisfied: regex>=2021.8.3 in /usr/local/lib/python3.10/dist-packages (from nltk>3.8.1->llama-index-core) (2024.5.15)\n",
            "Requirement already satisfied: anyio<5,>=3.5.0 in /usr/local/lib/python3.10/dist-packages (from openai<2.0.0,>=1.40.0->llama-index-llms-openai) (3.7.1)\n",
            "Requirement already satisfied: distro<2,>=1.7.0 in /usr/lib/python3/dist-packages (from openai<2.0.0,>=1.40.0->llama-index-llms-openai) (1.7.0)\n",
            "Requirement already satisfied: jiter<1,>=0.4.0 in /usr/local/lib/python3.10/dist-packages (from openai<2.0.0,>=1.40.0->llama-index-llms-openai) (0.5.0)\n",
            "Requirement already satisfied: sniffio in /usr/local/lib/python3.10/dist-packages (from openai<2.0.0,>=1.40.0->llama-index-llms-openai) (1.3.1)\n",
            "Requirement already satisfied: certifi in /usr/local/lib/python3.10/dist-packages (from httpx->llama-index-core) (2024.8.30)\n",
            "Requirement already satisfied: httpcore==1.* in /usr/local/lib/python3.10/dist-packages (from httpx->llama-index-core) (1.0.5)\n",
            "Requirement already satisfied: idna in /usr/local/lib/python3.10/dist-packages (from httpx->llama-index-core) (3.8)\n",
            "Requirement already satisfied: h11<0.15,>=0.13 in /usr/local/lib/python3.10/dist-packages (from httpcore==1.*->httpx->llama-index-core) (0.14.0)\n",
            "Requirement already satisfied: annotated-types>=0.4.0 in /usr/local/lib/python3.10/dist-packages (from pydantic<3.0.0,>=2.7.0->llama-index-core) (0.7.0)\n",
            "Requirement already satisfied: pydantic-core==2.20.1 in /usr/local/lib/python3.10/dist-packages (from pydantic<3.0.0,>=2.7.0->llama-index-core) (2.20.1)\n",
            "Requirement already satisfied: charset-normalizer<4,>=2 in /usr/local/lib/python3.10/dist-packages (from requests>=2.31.0->llama-index-core) (3.3.2)\n",
            "Requirement already satisfied: urllib3<3,>=1.21.1 in /usr/local/lib/python3.10/dist-packages (from requests>=2.31.0->llama-index-core) (2.0.7)\n",
            "Requirement already satisfied: greenlet!=0.4.17 in /usr/local/lib/python3.10/dist-packages (from SQLAlchemy>=1.4.49->SQLAlchemy[asyncio]>=1.4.49->llama-index-core) (3.0.3)\n",
            "Requirement already satisfied: mypy-extensions>=0.3.0 in /usr/local/lib/python3.10/dist-packages (from typing-inspect>=0.8.0->llama-index-core) (1.0.0)\n",
            "Requirement already satisfied: marshmallow<4.0.0,>=3.18.0 in /usr/local/lib/python3.10/dist-packages (from dataclasses-json->llama-index-core) (3.22.0)\n",
            "Requirement already satisfied: python-dateutil>=2.8.2 in /usr/local/lib/python3.10/dist-packages (from pandas->llama-index-readers-file) (2.8.2)\n",
            "Requirement already satisfied: pytz>=2020.1 in /usr/local/lib/python3.10/dist-packages (from pandas->llama-index-readers-file) (2024.1)\n",
            "Requirement already satisfied: tzdata>=2022.1 in /usr/local/lib/python3.10/dist-packages (from pandas->llama-index-readers-file) (2024.1)\n",
            "Requirement already satisfied: exceptiongroup in /usr/local/lib/python3.10/dist-packages (from anyio<5,>=3.5.0->openai<2.0.0,>=1.40.0->llama-index-llms-openai) (1.2.2)\n",
            "Requirement already satisfied: parso<0.9.0,>=0.8.3 in /usr/local/lib/python3.10/dist-packages (from jedi>=0.16->ipython>=5.3.0->pyvis) (0.8.4)\n",
            "Requirement already satisfied: packaging>=17.0 in /usr/local/lib/python3.10/dist-packages (from marshmallow<4.0.0,>=3.18.0->dataclasses-json->llama-index-core) (24.1)\n",
            "Requirement already satisfied: ptyprocess>=0.5 in /usr/local/lib/python3.10/dist-packages (from pexpect>4.3->ipython>=5.3.0->pyvis) (0.7.0)\n",
            "Requirement already satisfied: wcwidth in /usr/local/lib/python3.10/dist-packages (from prompt-toolkit!=3.0.0,!=3.0.1,<3.1.0,>=2.0.0->ipython>=5.3.0->pyvis) (0.2.13)\n",
            "Requirement already satisfied: six>=1.5 in /usr/local/lib/python3.10/dist-packages (from python-dateutil>=2.8.2->pandas->llama-index-readers-file) (1.16.0)\n"
          ]
        }
      ]
    },
    {
      "cell_type": "markdown",
      "source": [
        "## Complete RAG Reranker Workflow"
      ],
      "metadata": {
        "id": "R22sScikz913"
      }
    },
    {
      "cell_type": "code",
      "source": [
        "from llama_index.core import SimpleDirectoryReader, VectorStoreIndex\n",
        "from llama_index.core.response_synthesizers import CompactAndRefine\n",
        "from llama_index.core.postprocessor.llm_rerank import LLMRerank\n",
        "from llama_index.core.workflow import (\n",
        "    Context,\n",
        "    Workflow,\n",
        "    StartEvent,\n",
        "    StopEvent,\n",
        "    step,\n",
        ")\n",
        "from llama_index.core.workflow.utils import get_steps_from_class, get_steps_from_instance\n",
        "from llama_index.llms.groq import Groq\n",
        "from llama_index.embeddings.huggingface import HuggingFaceEmbedding\n",
        "\n",
        "class RetrieverEvent(Event):\n",
        "    \"\"\"Result of running retrieval\"\"\"\n",
        "    nodes: list[NodeWithScore]\n",
        "\n",
        "class RerankEvent(Event):\n",
        "    \"\"\"Result of running reranking on retrieved nodes\"\"\"\n",
        "    nodes: list[NodeWithScore]\n",
        "\n",
        "class RAGWorkflow(Workflow):\n",
        "    @step\n",
        "    async def ingest(self, ctx: Context, ev: StartEvent) -> StopEvent | None:\n",
        "        \"\"\"Entry point to ingest a document, triggered by a StartEvent with `dirname`.\"\"\"\n",
        "        dirname = ev.get(\"dirname\")\n",
        "        if not dirname:\n",
        "            return None\n",
        "\n",
        "        documents = SimpleDirectoryReader(dirname).load_data()\n",
        "        index = VectorStoreIndex.from_documents(\n",
        "            documents=documents,\n",
        "            embed_model=HuggingFaceEmbedding(model_name=\"BAAI/bge-small-en-v1.5\"),\n",
        "        )\n",
        "        return StopEvent(result=index)\n",
        "\n",
        "    @step\n",
        "    async def retrieve(\n",
        "        self, ctx: Context, ev: StartEvent\n",
        "    ) -> RetrieverEvent | None:\n",
        "        \"Entry point for RAG, triggered by a StartEvent with `query`.\"\n",
        "        query = ev.get(\"query\")\n",
        "        index = ev.get(\"index\")\n",
        "\n",
        "        if not query:\n",
        "            return None\n",
        "\n",
        "        print(f\"Query the database with: {query}\")\n",
        "\n",
        "        # store the query in the global context\n",
        "        await ctx.set(\"query\", query)\n",
        "\n",
        "        # get the index from the global context\n",
        "        if index is None:\n",
        "            print(\"Index is empty, load some documents before querying!\")\n",
        "            return None\n",
        "\n",
        "        retriever = index.as_retriever(similarity_top_k=2)\n",
        "        nodes = await retriever.aretrieve(query)\n",
        "        print(f\"Retrieved {len(nodes)} nodes.\")\n",
        "        return RetrieverEvent(nodes=nodes)\n",
        "\n",
        "    @step\n",
        "    async def rerank(self, ctx: Context, ev: RetrieverEvent) -> RerankEvent:\n",
        "        # Rerank the nodes\n",
        "        ranker = LLMRerank(\n",
        "            choice_batch_size=5, top_n=3, llm=Groq(model=\"llama-3.1-70b-versatile\")\n",
        "        )\n",
        "        print(await ctx.get(\"query\", default=None), flush=True)\n",
        "        new_nodes = ranker.postprocess_nodes(\n",
        "            ev.nodes, query_str=await ctx.get(\"query\", default=None)\n",
        "        )\n",
        "        print(f\"Reranked nodes to {len(new_nodes)}\")\n",
        "        print(new_nodes)\n",
        "        return RerankEvent(nodes=new_nodes)\n",
        "\n",
        "    @step\n",
        "    async def synthesize(self, ctx: Context, ev: RerankEvent) -> StopEvent:\n",
        "        \"\"\"Return a streaming response using reranked nodes.\"\"\"\n",
        "        llm = Groq(model=\"llama-3.1-70b-versatile\")\n",
        "        summarizer = CompactAndRefine(llm=llm, streaming=True, verbose=True)\n",
        "        query = await ctx.get(\"query\", default=None)\n",
        "\n",
        "        response = await summarizer.asynthesize(query, nodes=ev.nodes)\n",
        "        return StopEvent(result=response)\n",
        "\n",
        "# Check if steps have __step_config attribute\n",
        "workflow = RAGWorkflow()\n",
        "steps = get_steps_from_class(RAGWorkflow)\n",
        "if not steps:\n",
        "    steps = get_steps_from_instance(workflow)\n",
        "\n",
        "for step_name, step_func in steps.items():\n",
        "    step_config = getattr(step_func, \"__step_config\", None)\n",
        "    if step_config is None:\n",
        "        print(f\"Step {step_name} is missing __step_config\")\n",
        "\n",
        "# Visualization\n",
        "from llama_index.utils.workflow import draw_all_possible_flows, draw_most_recent_execution\n",
        "\n",
        "# Draw all possible flows\n",
        "draw_all_possible_flows(RAGWorkflow, filename=\"multi_step_workflow.html\")\n",
        "\n",
        "# Draw the most recent execution\n",
        "w = RAGWorkflow()\n",
        "\n",
        "# Ingest the documents\n",
        "index = await w.run(dirname=\"Data\")\n",
        "result = await w.run(query=\"What is Fibromyalgia?\", index=index)\n",
        "async for chunk in result.async_response_gen():\n",
        "    print(chunk, end=\"\", flush=True)\n",
        "draw_most_recent_execution(w, filename=\"rag_flow_recent.html\")"
      ],
      "metadata": {
        "colab": {
          "base_uri": "https://localhost:8080/"
        },
        "id": "bifJizzd4Uyi",
        "outputId": "ee5f3e08-16b4-428c-8bdc-4f0670ac8bc1"
      },
      "execution_count": 133,
      "outputs": [
        {
          "output_type": "stream",
          "name": "stdout",
          "text": [
            "multi_step_workflow.html\n",
            "Query the database with: What is Fibromyalgia?\n",
            "Retrieved 2 nodes.\n",
            "What is Fibromyalgia?\n",
            "Reranked nodes to 2\n",
            "[NodeWithScore(node=TextNode(id_='27e21dad-87a6-4829-8a7b-e2f2703aa95e', embedding=None, metadata={'page_label': '137', 'file_name': 'fibromyalgia.pdf', 'file_path': '/content/Data/fibromyalgia.pdf', 'file_type': 'application/pdf', 'file_size': 632664, 'creation_date': '2024-09-10', 'last_modified_date': '2023-03-24'}, excluded_embed_metadata_keys=['file_name', 'file_type', 'file_size', 'creation_date', 'last_modified_date', 'last_accessed_date'], excluded_llm_metadata_keys=['file_name', 'file_type', 'file_size', 'creation_date', 'last_modified_date', 'last_accessed_date'], relationships={<NodeRelationship.SOURCE: '1'>: RelatedNodeInfo(node_id='392ea8b9-2f2d-4a12-9faa-e35c77f2cfd0', node_type=<ObjectType.DOCUMENT: '4'>, metadata={'page_label': '137', 'file_name': 'fibromyalgia.pdf', 'file_path': '/content/Data/fibromyalgia.pdf', 'file_type': 'application/pdf', 'file_size': 632664, 'creation_date': '2024-09-10', 'last_modified_date': '2023-03-24'}, hash='c70178d6db587d29e77970e161c76a1abb2ef7d49978421819193e71322b44f4'), <NodeRelationship.NEXT: '3'>: RelatedNodeInfo(node_id='8d71a654-d596-4171-bc85-afa3434fc369', node_type=<ObjectType.TEXT: '1'>, metadata={}, hash='ae86bbb0dc3fc0820ab5d3ea8545e68a9fe5ed83eec1bf43f822637cc1c887ed')}, text='February 2023  ◆ Volume 107, Number 2  www.aafp.org/afp  American Family Physician  137Fibromyalgia is characterized by diffuse mus -\\nculoskeletal pain, fatigue, poor sleep, and other \\nsomatic symptoms.1 Chronic diffuse pain affects \\n10% to 15% of adults in the general population worldwide, many of whom have fibromyalgia.\\n2,3 \\nApproximately 2% of people in the United States have fibromyalgia, although the prevalence var -\\nies across populations and with the diagnostic criteria used.\\n3 Fibromyalgia can occur in chil -\\ndren and adults and is found worldwide and across cultures. Women are diagnosed more \\nfrequently than men;   a Scot tish survey found \\nthat women are diagnosed between two and 14 times as often as men depending on the crite -\\nria used.\\n3,4 Changes in the diagnostic criteria over the past decade, including the elimination of specific tender points, have resulted in more patients with chronic pain meeting the criteria for fibromyalgia.\\n3-5\\nPathophysiology\\nFibromyalgia is likely caused by disordered cen -\\ntral nociceptive signal processing that leads to sensitization expressed as hyperalgesia and allo -\\ndynia, which is similar to chronic pain conditions such as irritable bowel syndrome, interstitial cys -\\ntitis, chronic pelvic pain, and chronic low back pain.\\n6,7 Functional brain imaging suggests that \\nthis aberrant processing may be attributed to an imbalance between excitatory and inhibitory neu -\\nrotransmitters, particularly within the insula.\\n8 \\nSuggested etiologies include dysfunction of the hypothalamic-pituitary-adrenal axis and the autonomic nervous system, diffuse inflammation, glial cell activation, small fiber neuropathy, and infections such as the Epstein-Barr virus, Lyme disease, and viral hepatitis.\\n9 Twin studies suggest \\na genetic component may also be a factor.10Fibromyalgia:   Diagn osis and Management\\nBradford T. Winslow, MD, University of Colorado School of Medicine, Aurora, \\nColorado;   Swedi sh Family Medicine Residency, Englewood, Colorado\\nCarmen Vandal, MD, and Laurel Dang, MD, Swedish Family Medicine Residency, Englewood, Colorado\\n CME  This clinical content conforms to AAFP criteria for \\nCME. See CME Quiz on page 127.\\nAuthor disclosure:   No relevant financial relationships.\\nPatient information:   A handout on this topic, written by the \\nauthors of this article, is available with the online version of \\nthis article.Fibromyalgia is a chronic, centralized pain syndrome characterized by disordered processing of painful stimuli. Fibromyal -\\ngia is diagnosed more frequently in women and occurs globally, affecting 2% of people in the United States. Patients with \\nfibromyalgia have diffuse chronic pain, poor sleep, fatigue, cognitive dysfunc -\\ntion, and mood disturbances. Comorbid conditions, such as functional somatic syndromes, psychiatric diagnoses, and rheumatologic conditions may be pres -\\nent. The Fibromyalgia Rapid Screening Tool is a helpful screening method for patients with diffuse chronic pain. The American College of Rheumatology criteria or the Analgesic, Anesthetic, and Addiction Clinical Trial Translations Innovations Opportunities and Networks–American Pain Society Pain Taxonomy diagnostic criteria can diagnose fibromyalgia. Establishing the diagnosis and providing education can reassure patients and decrease unnecessary testing. A multidisciplinary approach that incorporates nonpharmacologic therapies and medications to address problematic symptoms is most effective. Patient educa -\\ntion, exercise, and cognitive behavior therapy can improve pain and function. Duloxetine, milnacipran, pregabalin, and amitriptyline are potentially effective medications for fibromyalgia. Nonsteroi -\\ndal anti-inflammatory drugs and opioids have not demonstrated benefits for fibromyalgia and have significant limitations.  \\n(Am Fam Physician\\n. 2023;  107(2):  137-1 44. Copyright © 2023 American Academy of Family Physicians.)\\nIllustration by Jonathan Dimes\\nDownloaded from the American Family Physician website at www.aafp.org/afp. Copyright © 2023  American Academy of Family Physicians. For the private, non -\\ncommercial use of one individual user of the website. All other rights reserved. Contact copyrights@aafp.org for copyright questions and/or permission requests.Downloaded from the American Family Physician website at www.aafp.org/afp. Copyright © 2023  American Academy of Family Physicians. For the private, non -\\ncommercial use of one individual user of the website.', mimetype='text/plain', start_char_idx=0, end_char_idx=4474, text_template='{metadata_str}\\n\\n{content}', metadata_template='{key}: {value}', metadata_seperator='\\n'), score=9.0), NodeWithScore(node=TextNode(id_='3e42ce25-2d8c-4277-bf54-a6c5a037ee80', embedding=None, metadata={'page_label': '138', 'file_name': 'fibromyalgia.pdf', 'file_path': '/content/Data/fibromyalgia.pdf', 'file_type': 'application/pdf', 'file_size': 632664, 'creation_date': '2024-09-10', 'last_modified_date': '2023-03-24'}, excluded_embed_metadata_keys=['file_name', 'file_type', 'file_size', 'creation_date', 'last_modified_date', 'last_accessed_date'], excluded_llm_metadata_keys=['file_name', 'file_type', 'file_size', 'creation_date', 'last_modified_date', 'last_accessed_date'], relationships={<NodeRelationship.SOURCE: '1'>: RelatedNodeInfo(node_id='b2b734bc-e026-4d99-b0a7-430512251c88', node_type=<ObjectType.DOCUMENT: '4'>, metadata={'page_label': '138', 'file_name': 'fibromyalgia.pdf', 'file_path': '/content/Data/fibromyalgia.pdf', 'file_type': 'application/pdf', 'file_size': 632664, 'creation_date': '2024-09-10', 'last_modified_date': '2023-03-24'}, hash='f14fbdf6f0180dbf4c788fe4c81e58302ff38270f6ea6f8b9c961a071f568f13')}, text='138  American Family Physician  www.aafp.org/afp  Volume 107, Number 2  ◆ February 2023\\nFIBROMYALGIAClinical Presentation\\nChronic diffuse pain is the predominant \\nsymptom in most patients with fibromyalgia. Patients may also experience muscle stiffness and tenderness. The physical examination in patients with fibromyalgia generally finds diffuse tenderness without other unusual findings. If joint swelling, inflammation, or deformities are present, an alternative or additional diagnosis should be investigated.\\n5 \\nFatigue and sleep disturbances are also com -\\nmon.5,11 Sleep disturbances include difficulty \\nfalling and staying asleep, frequent awaken -\\nings, or feeling unrefreshed after sleeping. Comorbid mental health diagnoses are com -\\nmon, as are cognitive symptoms such as poor concentration, forgetfulness, or altered think -\\ning.\\n5,6,12 This cognitive dysfunction has been \\ntermed “fibrofog” and is described by patients as a mental slowing that adversely affects daily activities.\\n13\\nThe presence of another painful disorder \\ndoes not exclude the diagnosis of fibromyal -\\ngia. The Fibromyalgia Rapid Screening Tool can screen patients with diffuse chronic pain to help distinguish between fibromyalgia and other conditions (Table 1) .\\n14 The tool may SORT:   KEY RECOMMENDATIONS FOR PRACTICE\\nClinical recommendationEvidence \\nrating Comments\\nThe diagnosis of fibromyalgia should be considered in patients \\nwith diffuse pain, fatigue, and sleep disturbances that have been present for at least three months.\\n5,11C Diagnosis of fibromyalgia can be made using AAPT 2019 diagnostic criteria or the American College of Radiology 2011/2016 criteria\\nPatients with fibromyalgia should be offered a multidisci -\\nplinary treatment approach that includes education, exercise, and nonpharmacologic and pharmacologic options.\\n27,28C Consensus guidelines and systematic reviews\\nCognitive behavior therapy leads to improvement in pain and disability in patients with fibromyalgia in the short and medium term.\\n32,34,35A Systematic reviews demonstrate improvement\\nAmitriptyline, cyclobenzaprine, duloxetine (Cymbalta), mil -\\nnacipran (Savella), and pregabalin (Lyrica) are effective for pain in fibromyalgia.\\n43,46-48,50,52,54A Systematic reviews demonstrate effectiveness of these medications\\nAAPT = Analgesic, Anesthetic, and Addiction Clinical Trial Translations Innovations Opportunities and Networks–American Pain Society Pain \\nTaxonomy.\\nA = consistent, good-quality patient-oriented evidence;   B = inconsistent or limited-quality patient-oriented evidence;   C = consensus, disease -\\noriented evidence, usual practice, expert opinion, or case series. For information about the SORT evidence rating system, go to https://  www.aafp.\\norg/afpsort.\\nTABLE 1\\nFibromyalgia Rapid Screening Tool (FiRST)\\n Yes\\nI have pain all over my body.  \\nMy pain is accompanied by a continuous and very unpleas -\\nant general fatigue. \\nMy pain feels like burns, electric shocks, or cramps.  \\nMy pain is accompanied by other unusual sensations \\nthroughout my body, such as pins and needles, tingling, or numbness. \\nMy pain is accompanied by other health problems such as digestive problems, urinary problems, headaches, or restless legs. \\nMy pain has a significant impact on my life, particularly on my sleep and my ability to concentrate, making me feel slower in general. \\nTotal*  \\n*—One point for each yes answer. A score of 5 or greater suggests fibromyalgia.\\nAdapted with permission from Perrot S, Bouhassira D, Fermanian J;   CEDR (C ercle \\nd’Etude de la Douleur en Rhumatologie). Development and validation of the Fibro -\\nmyalgia Rapid Screening Tool (FiRST). Pain. 2010;  150(2):  255.\\nDescargado para Boletin -BINASSS (bolet-binas@binasss.sa.cr) en National Library of Health and Social Security de ClinicalKey.es por Elsevier en marzo 24, \\n2023. Para uso personal exclusivamente. No se permiten otros usos sin autorización. Copyright ©2023. Elsevier Inc. Todos los derechos reservados.', mimetype='text/plain', start_char_idx=0, end_char_idx=3975, text_template='{metadata_str}\\n\\n{content}', metadata_template='{key}: {value}', metadata_seperator='\\n'), score=8.0)]\n",
            "Fibromyalgia is a chronic, centralized pain syndrome characterized by disordered processing of painful stimuli. It is characterized by diffuse musculoskeletal pain, fatigue, poor sleep, and other somatic symptoms.rag_flow_recent.html\n"
          ]
        }
      ]
    },
    {
      "cell_type": "markdown",
      "source": [
        "#### All Possible Workflow"
      ],
      "metadata": {
        "id": "xK8RxP9eqd_x"
      }
    },
    {
      "cell_type": "markdown",
      "source": [
        "![image.png](data:image/png;base64,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)"
      ],
      "metadata": {
        "id": "NLx6KgKvmjNq"
      }
    },
    {
      "cell_type": "markdown",
      "source": [
        "## Recent Execution Workflow"
      ],
      "metadata": {
        "id": "ie-kaW0IqlMx"
      }
    },
    {
      "cell_type": "markdown",
      "source": [
        "![image.png](data:image/png;base64,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)"
      ],
      "metadata": {
        "id": "9CAfKEO6qsLX"
      }
    },
    {
      "cell_type": "markdown",
      "source": [
        "Your observations highlight a few key points regarding compatibility and functionality across different Python versions and environments. Here are some detailed insights and recommendations based on your observations:\n",
        "\n",
        "1. Python 3.11.0 Compatibility\n",
        "Observation: The workflow and visualization work correctly with Python 3.11.0.\n",
        "Recommendation: Python 3.11.0 supports the | operator for type annotations, which simplifies type hinting. If possible, use Python 3.11.0 or later for development to leverage these features and avoid compatibility issues.\n",
        "2. Python 3.9.12 Compatibility\n",
        "Observation: The | operator does not work in Python 3.9.12, and you had to modify num_of_events in utils.py.\n",
        "Recommendation:\n",
        "Type Hinting: Use Union from the typing module instead of the | operator for type annotations in Python 3.9.12.\n",
        "Validation Fix: Modifying num_of_events directly in utils.py is a workaround but not ideal. Instead, ensure that each step function has exactly one parameter annotated with the Event type to pass the validation.\n",
        "3. Visualization in Google Colab\n",
        "Observation: Visualization is not working in Google Colab even with notebook=True.\n",
        "Recommendation:\n",
        "Ensure Proper Installation: Make sure all required packages are installed in Colab.\n",
        "!pip install pyvis llama-index-core llama-index-llms-openai llama-index-embeddings-openai llama-index-readers-file llama-index-utils-workflow\n",
        "Check HTML Rendering: Use the following approach to render the HTML content in Colab:\n",
        "from pyvis.network import Network\n",
        "from IPython.core.display import display, HTML\n",
        "\n",
        "def draw_all_possible_flows(\n",
        "    workflow: Workflow,\n",
        "    filename: str = \"workflow_all_flows.html\",\n",
        "    notebook: bool = True,  # Set notebook to True\n",
        ") -> None:\n",
        "    \"\"\"Draws all possible flows of the workflow.\"\"\"\n",
        "    net = Network(directed=True, height=\"750px\", width=\"100%\")\n",
        "\n",
        "    # Add the nodes + edge for stop events\n",
        "    net.add_node(\n",
        "        StopEvent.__name__,\n",
        "        label=StopEvent.__name__,\n",
        "        color=\"#FFA07A\",\n",
        "        shape=\"ellipse\",\n",
        "    )\n",
        "    net.add_node(\"_done\", label=\"_done\", color=\"#ADD8E6\", shape=\"box\")\n",
        "    net.add_edge(StopEvent.__name__, \"_done\")\n",
        "\n",
        "    # Add nodes from all steps\n",
        "    steps = get_steps_from_class(workflow)\n",
        "    if not steps:\n",
        "        # If no steps are defined in the class, try to get them from the instance\n",
        "        steps = get_steps_from_instance(workflow)\n",
        "\n",
        "    step_config: Optional[StepConfig] = None\n",
        "    for step_name, step_func in steps.items():\n",
        "        step_config = getattr(step_func, \"__step_config\", None)\n",
        "        if step_config is None:\n",
        "            continue\n",
        "\n",
        "        net.add_node(\n",
        "            step_name, label=step_name, color=\"#ADD8E6\", shape=\"box\"\n",
        "        )  # Light blue for steps\n",
        "\n",
        "        for event_type in step_config.accepted_events:\n",
        "            net.add_node(\n",
        "                event_type.__name__,\n",
        "                label=event_type.__name__,\n",
        "                color=\"#90EE90\" if event_type != StartEvent else \"#E27AFF\",\n",
        "                shape=\"ellipse\",\n",
        "            )  # Light green for events\n",
        "\n",
        "    # Add edges from all steps\n",
        "    for step_name, step_func in steps.items():\n",
        "        step_config = getattr(step_func, \"__step_config\", None)\n",
        "\n",
        "        if step_config is None:\n",
        "            continue\n",
        "\n",
        "        for return_type in step_config.return_types:\n",
        "            if return_type != type(None):\n",
        "                net.add_edge(step_name, return_type.__name__)\n",
        "\n",
        "        for event_type in step_config.accepted_events:\n",
        "            net.add_edge(event_type.__name__, step_name)\n",
        "\n",
        "    if notebook:\n",
        "        net.show(filename, notebook=True)\n",
        "        with open(filename, \"r\") as file:\n",
        "            display(HTML(file.read()))\n",
        "    else:\n",
        "        net.show(filename)\n",
        "\n",
        "# Example usage in Google Colab\n",
        "draw_all_possible_flows(\n",
        "    RAGWorkflow, filename=\"multi_step_workflow.html\", notebook=True\n",
        ")\n",
        "Summary\n",
        "Python 3.11.0: Works well with the | operator and the workflow visualization.\n",
        "Python 3.9.12: Use Union for type annotations and ensure proper event parameter annotations to avoid modifying utils.py.\n",
        "Google Colab: Ensure all dependencies are installed and use the provided method to render HTML content.\n",
        "By following these recommendations, you should be able to achieve consistent functionality across different environments and Python version"
      ],
      "metadata": {
        "id": "O9z1bff5zf90"
      }
    },
    {
      "cell_type": "code",
      "source": [],
      "metadata": {
        "id": "cy9JFt6ZzhP5"
      },
      "execution_count": null,
      "outputs": []
    }
  ]
}