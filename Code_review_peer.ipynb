{
  "nbformat": 4,
  "nbformat_minor": 0,
  "metadata": {
    "colab": {
      "provenance": [],
      "authorship_tag": "ABX9TyOo2RjJunUdRNNVum/sdzaw",
      "include_colab_link": true
    },
    "kernelspec": {
      "name": "python3",
      "display_name": "Python 3"
    },
    "language_info": {
      "name": "python"
    }
  },
  "cells": [
    {
      "cell_type": "markdown",
      "metadata": {
        "id": "view-in-github",
        "colab_type": "text"
      },
      "source": [
        "<a href=\"https://colab.research.google.com/github/plaban1981/Agents/blob/main/Code_review_peer.ipynb\" target=\"_parent\"><img src=\"https://colab.research.google.com/assets/colab-badge.svg\" alt=\"Open In Colab\"/></a>"
      ]
    },
    {
      "cell_type": "code",
      "execution_count": null,
      "metadata": {
        "colab": {
          "base_uri": "https://localhost:8080/"
        },
        "id": "sMpmGGLbStcN",
        "outputId": "d79ed390-b331-485b-f0e0-d5680d21d9a8"
      },
      "outputs": [
        {
          "output_type": "stream",
          "name": "stdout",
          "text": [
            "\u001b[?25l   \u001b[90m━━━━━━━━━━━━━━━━━━━━━━━━━━━━━━━━━━━━━━━━\u001b[0m \u001b[32m0.0/136.5 kB\u001b[0m \u001b[31m?\u001b[0m eta \u001b[36m-:--:--\u001b[0m\r\u001b[2K   \u001b[90m━━━━━━━━━━━━━━━━━━━━━━━━━━━━━━━━━━━━━━━━\u001b[0m \u001b[32m136.5/136.5 kB\u001b[0m \u001b[31m5.3 MB/s\u001b[0m eta \u001b[36m0:00:00\u001b[0m\n",
            "\u001b[2K   \u001b[90m━━━━━━━━━━━━━━━━━━━━━━━━━━━━━━━━━━━━━━━━\u001b[0m \u001b[32m1.0/1.0 MB\u001b[0m \u001b[31m25.8 MB/s\u001b[0m eta \u001b[36m0:00:00\u001b[0m\n",
            "\u001b[2K   \u001b[90m━━━━━━━━━━━━━━━━━━━━━━━━━━━━━━━━━━━━━━━━\u001b[0m \u001b[32m2.5/2.5 MB\u001b[0m \u001b[31m62.7 MB/s\u001b[0m eta \u001b[36m0:00:00\u001b[0m\n",
            "\u001b[2K   \u001b[90m━━━━━━━━━━━━━━━━━━━━━━━━━━━━━━━━━━━━━━━━\u001b[0m \u001b[32m124.9/124.9 kB\u001b[0m \u001b[31m8.0 MB/s\u001b[0m eta \u001b[36m0:00:00\u001b[0m\n",
            "\u001b[2K   \u001b[90m━━━━━━━━━━━━━━━━━━━━━━━━━━━━━━━━━━━━━━━━\u001b[0m \u001b[32m417.1/417.1 kB\u001b[0m \u001b[31m23.9 MB/s\u001b[0m eta \u001b[36m0:00:00\u001b[0m\n",
            "\u001b[2K   \u001b[90m━━━━━━━━━━━━━━━━━━━━━━━━━━━━━━━━━━━━━━━━\u001b[0m \u001b[32m41.2/41.2 kB\u001b[0m \u001b[31m2.2 MB/s\u001b[0m eta \u001b[36m0:00:00\u001b[0m\n",
            "\u001b[2K   \u001b[90m━━━━━━━━━━━━━━━━━━━━━━━━━━━━━━━━━━━━━━━━\u001b[0m \u001b[32m46.5/46.5 kB\u001b[0m \u001b[31m2.4 MB/s\u001b[0m eta \u001b[36m0:00:00\u001b[0m\n",
            "\u001b[2K   \u001b[90m━━━━━━━━━━━━━━━━━━━━━━━━━━━━━━━━━━━━━━━━\u001b[0m \u001b[32m50.9/50.9 kB\u001b[0m \u001b[31m3.0 MB/s\u001b[0m eta \u001b[36m0:00:00\u001b[0m\n",
            "\u001b[?25h"
          ]
        }
      ],
      "source": [
        "!pip install -qU langgraph langchain langchain-groq langchain-community"
      ]
    },
    {
      "cell_type": "code",
      "source": [
        "%pip install --upgrade langchain langchain-groq"
      ],
      "metadata": {
        "colab": {
          "base_uri": "https://localhost:8080/"
        },
        "id": "hxWterpAVc7V",
        "outputId": "295c5be6-d019-4de1-eba9-af2856933431"
      },
      "execution_count": null,
      "outputs": [
        {
          "output_type": "stream",
          "name": "stdout",
          "text": [
            "Requirement already satisfied: langchain in /usr/local/lib/python3.11/dist-packages (0.3.21)\n",
            "Requirement already satisfied: langchain-groq in /usr/local/lib/python3.11/dist-packages (0.3.1)\n",
            "Requirement already satisfied: langchain-core<1.0.0,>=0.3.45 in /usr/local/lib/python3.11/dist-packages (from langchain) (0.3.47)\n",
            "Requirement already satisfied: langchain-text-splitters<1.0.0,>=0.3.7 in /usr/local/lib/python3.11/dist-packages (from langchain) (0.3.7)\n",
            "Requirement already satisfied: langsmith<0.4,>=0.1.17 in /usr/local/lib/python3.11/dist-packages (from langchain) (0.3.15)\n",
            "Requirement already satisfied: pydantic<3.0.0,>=2.7.4 in /usr/local/lib/python3.11/dist-packages (from langchain) (2.10.6)\n",
            "Requirement already satisfied: SQLAlchemy<3,>=1.4 in /usr/local/lib/python3.11/dist-packages (from langchain) (2.0.39)\n",
            "Requirement already satisfied: requests<3,>=2 in /usr/local/lib/python3.11/dist-packages (from langchain) (2.32.3)\n",
            "Requirement already satisfied: PyYAML>=5.3 in /usr/local/lib/python3.11/dist-packages (from langchain) (6.0.2)\n",
            "Requirement already satisfied: groq<1,>=0.4.1 in /usr/local/lib/python3.11/dist-packages (from langchain-groq) (0.20.0)\n",
            "Requirement already satisfied: anyio<5,>=3.5.0 in /usr/local/lib/python3.11/dist-packages (from groq<1,>=0.4.1->langchain-groq) (4.9.0)\n",
            "Requirement already satisfied: distro<2,>=1.7.0 in /usr/local/lib/python3.11/dist-packages (from groq<1,>=0.4.1->langchain-groq) (1.9.0)\n",
            "Requirement already satisfied: httpx<1,>=0.23.0 in /usr/local/lib/python3.11/dist-packages (from groq<1,>=0.4.1->langchain-groq) (0.28.1)\n",
            "Requirement already satisfied: sniffio in /usr/local/lib/python3.11/dist-packages (from groq<1,>=0.4.1->langchain-groq) (1.3.1)\n",
            "Requirement already satisfied: typing-extensions<5,>=4.10 in /usr/local/lib/python3.11/dist-packages (from groq<1,>=0.4.1->langchain-groq) (4.12.2)\n",
            "Requirement already satisfied: tenacity!=8.4.0,<10.0.0,>=8.1.0 in /usr/local/lib/python3.11/dist-packages (from langchain-core<1.0.0,>=0.3.45->langchain) (9.0.0)\n",
            "Requirement already satisfied: jsonpatch<2.0,>=1.33 in /usr/local/lib/python3.11/dist-packages (from langchain-core<1.0.0,>=0.3.45->langchain) (1.33)\n",
            "Requirement already satisfied: packaging<25,>=23.2 in /usr/local/lib/python3.11/dist-packages (from langchain-core<1.0.0,>=0.3.45->langchain) (24.2)\n",
            "Requirement already satisfied: orjson<4.0.0,>=3.9.14 in /usr/local/lib/python3.11/dist-packages (from langsmith<0.4,>=0.1.17->langchain) (3.10.15)\n",
            "Requirement already satisfied: requests-toolbelt<2.0.0,>=1.0.0 in /usr/local/lib/python3.11/dist-packages (from langsmith<0.4,>=0.1.17->langchain) (1.0.0)\n",
            "Requirement already satisfied: zstandard<0.24.0,>=0.23.0 in /usr/local/lib/python3.11/dist-packages (from langsmith<0.4,>=0.1.17->langchain) (0.23.0)\n",
            "Requirement already satisfied: annotated-types>=0.6.0 in /usr/local/lib/python3.11/dist-packages (from pydantic<3.0.0,>=2.7.4->langchain) (0.7.0)\n",
            "Requirement already satisfied: pydantic-core==2.27.2 in /usr/local/lib/python3.11/dist-packages (from pydantic<3.0.0,>=2.7.4->langchain) (2.27.2)\n",
            "Requirement already satisfied: charset-normalizer<4,>=2 in /usr/local/lib/python3.11/dist-packages (from requests<3,>=2->langchain) (3.4.1)\n",
            "Requirement already satisfied: idna<4,>=2.5 in /usr/local/lib/python3.11/dist-packages (from requests<3,>=2->langchain) (3.10)\n",
            "Requirement already satisfied: urllib3<3,>=1.21.1 in /usr/local/lib/python3.11/dist-packages (from requests<3,>=2->langchain) (2.3.0)\n",
            "Requirement already satisfied: certifi>=2017.4.17 in /usr/local/lib/python3.11/dist-packages (from requests<3,>=2->langchain) (2025.1.31)\n",
            "Requirement already satisfied: greenlet!=0.4.17 in /usr/local/lib/python3.11/dist-packages (from SQLAlchemy<3,>=1.4->langchain) (3.1.1)\n",
            "Requirement already satisfied: httpcore==1.* in /usr/local/lib/python3.11/dist-packages (from httpx<1,>=0.23.0->groq<1,>=0.4.1->langchain-groq) (1.0.7)\n",
            "Requirement already satisfied: h11<0.15,>=0.13 in /usr/local/lib/python3.11/dist-packages (from httpcore==1.*->httpx<1,>=0.23.0->groq<1,>=0.4.1->langchain-groq) (0.14.0)\n",
            "Requirement already satisfied: jsonpointer>=1.9 in /usr/local/lib/python3.11/dist-packages (from jsonpatch<2.0,>=1.33->langchain-core<1.0.0,>=0.3.45->langchain) (3.0.0)\n"
          ]
        }
      ]
    },
    {
      "cell_type": "code",
      "source": [
        "import os\n",
        "from google.colab import userdata\n",
        "os.environ['GROQ_API_KEY'] = userdata.get('GROQ_API_KEY')"
      ],
      "metadata": {
        "id": "t3Pe-NuqTJNZ"
      },
      "execution_count": null,
      "outputs": []
    },
    {
      "cell_type": "code",
      "source": [
        "import ast\n",
        "from typing import List, Dict\n",
        "\n",
        "class CodeParser:\n",
        "    @staticmethod\n",
        "    def parse_python_code(code: str) -> ast.AST:\n",
        "        try:\n",
        "            return ast.parse(code)\n",
        "        except SyntaxError as e:\n",
        "            raise ValueError(f\"Invalid Python code: {str(e)}\")\n",
        "\n",
        "    @staticmethod\n",
        "    def extract_functions(tree: ast.AST) -> List[Dict]:\n",
        "        functions = []\n",
        "        for node in ast.walk(tree):\n",
        "            if isinstance(node, ast.FunctionDef):\n",
        "                functions.append({\n",
        "                    \"name\": node.name,\n",
        "                    \"lineno\": node.lineno,\n",
        "                    \"code\": ast.unparse(node)\n",
        "                })\n",
        "        return functions\n",
        "\n",
        "    @staticmethod\n",
        "    def analyze_complexity(tree: ast.AST) -> Dict:\n",
        "        complexity = {\n",
        "            \"num_functions\": 0,\n",
        "            \"num_classes\": 0,\n",
        "            \"num_imports\": 0\n",
        "        }\n",
        "\n",
        "        for node in ast.walk(tree):\n",
        "            if isinstance(node, ast.FunctionDef):\n",
        "                complexity[\"num_functions\"] += 1\n",
        "            elif isinstance(node, ast.ClassDef):\n",
        "                complexity[\"num_classes\"] += 1\n",
        "            elif isinstance(node, ast.Import) or isinstance(node, ast.ImportFrom):\n",
        "                complexity[\"num_imports\"] += 1\n",
        "\n",
        "        return complexity"
      ],
      "metadata": {
        "id": "CyrQVoAYTj0l"
      },
      "execution_count": null,
      "outputs": []
    },
    {
      "cell_type": "code",
      "source": [
        "from dataclasses import dataclass, field\n",
        "from typing import Dict, List\n",
        "\n",
        "@dataclass\n",
        "class ReviewConfig:\n",
        "    MIN_CONFIDENCE_SCORE: float = 0.8\n",
        "    MAX_REVIEW_TIME: int = 300  # seconds\n",
        "\n",
        "    # Use field with default_factory for mutable defaults\n",
        "    SEVERITY_LEVELS: Dict[str, int] = field(default_factory=lambda: {\n",
        "        \"CRITICAL\": 1,\n",
        "        \"HIGH\": 2,\n",
        "        \"MEDIUM\": 3,\n",
        "        \"LOW\": 4\n",
        "    })\n",
        "\n",
        "    # Review categories\n",
        "    REVIEW_CATEGORIES: List[str] = field(default_factory=lambda: [\n",
        "        \"code_quality\",\n",
        "        \"security\",\n",
        "        \"performance\",\n",
        "        \"maintainability\",\n",
        "        \"testing\"\n",
        "    ])\n",
        "\n",
        "    # LLM configuration\n",
        "    LLM_CONFIG: Dict[str, any] = field(default_factory=lambda: {\n",
        "        \"temperature\": 0.3,\n",
        "        \"max_tokens\": 2000,\n",
        "        \"model\": \"llama-3.3-70b-versatile\"\n",
        "    })"
      ],
      "metadata": {
        "id": "Vblasz8NTm0_"
      },
      "execution_count": null,
      "outputs": []
    },
    {
      "cell_type": "code",
      "source": [
        "from typing import TypedDict, Annotated, Sequence,Any\n",
        "from langgraph.graph import Graph, StateGraph\n",
        "#from langgraph.prebuilt.tools import ToolExecutor\n",
        "from langchain_groq import ChatGroq\n",
        "from langchain.prompts import ChatPromptTemplate\n",
        "from langchain_core.messages import HumanMessage, SystemMessage\n",
        "from langchain.tools import Tool\n",
        "from uuid import uuid4\n",
        "import os\n",
        "from langsmith import Client\n",
        "from langsmith.run_helpers import traceable\n",
        "from pydantic import BaseModel, Field\n",
        "from langchain_core.output_parsers import StrOutputParser\n",
        "\n",
        "\n",
        "\n",
        "# Initialize LangSmith\n",
        "unique_id = uuid4().hex[0:8]\n",
        "os.environ[\"LANGSMITH_TRACING\"] = \"true\"\n",
        "os.environ[\"LANGSMITH_PROJECT\"] = f\"Code_Review - {unique_id}\"\n",
        "os.environ[\"LANGSMITH_ENDPOINT\"] = \"https://api.smith.langchain.com\"\n",
        "os.environ[\"LANGSMITH_API_KEY\"] = \"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\"\n",
        "client = Client()\n",
        "\n",
        "# Initialize Groq\n",
        "llm = ChatGroq(model_name=\"llama-3.3-70b-versatile\",max_tokens=2000,temperature=0.0)\n",
        "\n",
        "class CodeReviewState(TypedDict):\n",
        "    code: str\n",
        "    review_comments: Any\n",
        "    severity_levels: Any\n",
        "    final_summary: Any\n",
        "    current_step: Any\n",
        "\n",
        "@traceable(name=\"review_code\")\n",
        "def review_code(state:CodeReviewState):\n",
        "    # Initial code analysis prompt\n",
        "    print(f\"code:{state['code']}\")\n",
        "    code = state[\"code\"]\n",
        "    code_review_prompt = ChatPromptTemplate.from_messages([\n",
        "        SystemMessage(content=\"\"\"You are an expert code reviewer. Analyze the code for:\n",
        "        1. Code quality\n",
        "        2. Potential bugs\n",
        "        3. Security issues\n",
        "        4. Performance concerns\n",
        "        5. Best practices\n",
        "        Provide specific, actionable feedback based on the above points.Do not provide any other extra information or reasoning.\"\"\"),\n",
        "        HumanMessage(content=code )\n",
        "    ])\n",
        "    review_chain = code_review_prompt | llm | StrOutputParser()\n",
        "    review_comments = review_chain.invoke({\"code\": code})\n",
        "\n",
        "    state[\"review_comments\"] = review_comments\n",
        "    return {\"review_comments\":review_comments}\n",
        "\n",
        "@traceable(name=\"assess_severity\")\n",
        "def assess_severity(state:CodeReviewState):\n",
        "    print(f\"REVIEW COMMENT :{state}\")\n",
        "    # Severity assessment prompt\n",
        "    comments = state['review_comments']\n",
        "    severity_prompt = ChatPromptTemplate.from_messages([\n",
        "        SystemMessage(content=\"\"\"Assess the severity of each issue found in the code review:\n",
        "        - Critical: Must be fixed immediately\n",
        "        - High: Should be fixed before merge\n",
        "        - Medium: Should be addressed soon\n",
        "        - Low: Nice to have improvements\"\"\"),\n",
        "        HumanMessage(content=comments)\n",
        "    ])\n",
        "    asssesment_chain = severity_prompt | llm | StrOutputParser()\n",
        "    severity_levels = asssesment_chain.invoke({\"review_comments\": state[\"review_comments\"]})\n",
        "    #state[\"severity_levels\"] = severity_levels.content\n",
        "    return {\"severity_levels\":severity_levels}\n",
        "\n",
        "@traceable(name=\"create_summary\")\n",
        "def create_summary(state:CodeReviewState):\n",
        "    # Final summary prompt\n",
        "\n",
        "    review = state[\"review_comments\"]\n",
        "    severity = state[\"severity_levels\"]\n",
        "    print(f\"review:{review}\")\n",
        "    print(f\"severity:{severity}\")\n",
        "    summary_prompt = ChatPromptTemplate.from_messages([\n",
        "        SystemMessage(content=\"\"\"Create a concise ,clear and meaningful summary of the code review including:\n",
        "        1. Overall code quality\n",
        "        2. Key issues to address\n",
        "        3. Positive aspects\n",
        "        4. Next steps\"\"\"),\n",
        "        HumanMessage(content=\"Review: {review}\\nSeverity: {severity}.Please provide the summary in a pointwise manner in no more than 500 words.\")\n",
        "    ])\n",
        "    summary_chain = summary_prompt | llm | StrOutputParser()\n",
        "    final_summary = summary_chain.invoke({\n",
        "        \"review\": review,\n",
        "        \"severity\": severity\n",
        "    })\n",
        "    return {\"final_summary\": final_summary}\n",
        "\n",
        "def create_workflow():\n",
        "    workflow = StateGraph(CodeReviewState)\n",
        "\n",
        "    # Add nodes to the workflow\n",
        "    workflow.add_node(\"review_code\", review_code)\n",
        "    workflow.add_node(\"assess_severity\", assess_severity)\n",
        "    workflow.add_node(\"create_summary\", create_summary)\n",
        "\n",
        "    # Define the edges\n",
        "    workflow.set_entry_point(\"review_code\")\n",
        "    workflow.add_edge(\"review_code\", \"assess_severity\")\n",
        "    workflow.add_edge(\"assess_severity\", \"create_summary\")\n",
        "\n",
        "    # Compile the workflow\n",
        "    app = workflow.compile()\n",
        "    return app\n",
        "\n"
      ],
      "metadata": {
        "id": "IXKJpcG-UI9m"
      },
      "execution_count": 46,
      "outputs": []
    },
    {
      "cell_type": "code",
      "source": [
        "app = create_workflow()"
      ],
      "metadata": {
        "id": "RDANb90xVBs1"
      },
      "execution_count": 47,
      "outputs": []
    },
    {
      "cell_type": "code",
      "source": [
        "app"
      ],
      "metadata": {
        "colab": {
          "base_uri": "https://localhost:8080/",
          "height": 350
        },
        "id": "X84vasl1VCpO",
        "outputId": "bd6ef276-27f4-47e5-da7c-03b57a4ed0e5"
      },
      "execution_count": 48,
      "outputs": [
        {
          "output_type": "execute_result",
          "data": {
            "text/plain": [
              "<langgraph.graph.state.CompiledStateGraph object at 0x7ad97baec2d0>"
            ],
            "image/png": "[encoded data removed]"
          },
          "metadata": {},
          "execution_count": 48
        }
      ]
    },
    {
      "cell_type": "code",
      "source": [
        "if __name__ == \"__main__\":\n",
        "    # Example usage\n",
        "    code_to_review = \"\"\"\n",
        "     def calculate_total(items):\n",
        "        total = 0\n",
        "        for item in items:\n",
        "            total += item.price\n",
        "        return total\n",
        "    \"\"\"\n",
        "\n",
        "    initial_state = {\n",
        "        \"code\": code_to_review,\n",
        "        \"review_comments\": [],\n",
        "        \"severity_levels\": [],\n",
        "        \"final_summary\": \"\",\n",
        "        \"current_step\": \"start\"\n",
        "    }\n",
        "\n",
        "    app = create_workflow()\n",
        "    result = app.invoke(initial_state)\n",
        "    print(\"Final Review Summary:\", result[\"final_summary\"])"
      ],
      "metadata": {
        "colab": {
          "base_uri": "https://localhost:8080/"
        },
        "id": "mURHFxIeUpoW",
        "outputId": "bfea7055-98e8-4d98-8c29-015993676d9d"
      },
      "execution_count": 49,
      "outputs": [
        {
          "output_type": "stream",
          "name": "stdout",
          "text": [
            "code:\n",
            "     def calculate_total(items):\n",
            "        total = 0\n",
            "        for item in items:\n",
            "            total += item.price\n",
            "        return total\n",
            "    \n",
            "REVIEW COMMENT :{'code': '\\n     def calculate_total(items):\\n        total = 0\\n        for item in items:\\n            total += item.price\\n        return total\\n    ', 'review_comments': '### Code Quality\\n* The function name `calculate_total` is clear, but it could be more descriptive, e.g., `calculate_total_cost`.\\n* The variable name `items` is not descriptive; consider using `products` or `order_items`.\\n* The function does not handle potential exceptions, such as `items` being `None` or an empty list.\\n\\n### Potential Bugs\\n* The function assumes that all items have a `price` attribute, which may not always be the case.\\n* If `items` is not an iterable, the function will throw an error.\\n* If an item\\'s `price` is not a number, the function will throw an error.\\n\\n### Security Issues\\n* The function does not validate the input `items`, which could lead to security vulnerabilities if the input is not sanitized.\\n\\n### Performance Concerns\\n* The function has a time complexity of O(n), where n is the number of items, which is acceptable for most use cases.\\n* If the list of items is very large, the function could be optimized using a more efficient data structure or algorithm.\\n\\n### Best Practices\\n* Consider adding type hints for the function parameters and return value.\\n* Add a docstring to describe the function\\'s purpose and behavior.\\n* Use a more robust way to handle potential errors, such as using a try-except block.\\n* Consider using a more Pythonic way to calculate the total, such as using the `sum` function with a generator expression.\\n\\nExample of improved code:\\n```python\\ndef calculate_total_cost(items: list) -> float:\\n    \"\"\"\\n    Calculate the total cost of a list of items.\\n    \\n    Args:\\n    items (list): A list of items with a price attribute.\\n    \\n    Returns:\\n    float: The total cost of the items.\\n    \"\"\"\\n    if not items:\\n        return 0\\n    try:\\n        return sum(item.price for item in items)\\n    except AttributeError:\\n        raise ValueError(\"All items must have a price attribute\")\\n    except TypeError:\\n        raise ValueError(\"All item prices must be numbers\")\\n```', 'severity_levels': [], 'final_summary': '', 'current_step': 'start'}\n",
            "review:### Code Quality\n",
            "* The function name `calculate_total` is clear, but it could be more descriptive, e.g., `calculate_total_cost`.\n",
            "* The variable name `items` is not descriptive; consider using `products` or `order_items`.\n",
            "* The function does not handle potential exceptions, such as `items` being `None` or an empty list.\n",
            "\n",
            "### Potential Bugs\n",
            "* The function assumes that all items have a `price` attribute, which may not always be the case.\n",
            "* If `items` is not an iterable, the function will throw an error.\n",
            "* If an item's `price` is not a number, the function will throw an error.\n",
            "\n",
            "### Security Issues\n",
            "* The function does not validate the input `items`, which could lead to security vulnerabilities if the input is not sanitized.\n",
            "\n",
            "### Performance Concerns\n",
            "* The function has a time complexity of O(n), where n is the number of items, which is acceptable for most use cases.\n",
            "* If the list of items is very large, the function could be optimized using a more efficient data structure or algorithm.\n",
            "\n",
            "### Best Practices\n",
            "* Consider adding type hints for the function parameters and return value.\n",
            "* Add a docstring to describe the function's purpose and behavior.\n",
            "* Use a more robust way to handle potential errors, such as using a try-except block.\n",
            "* Consider using a more Pythonic way to calculate the total, such as using the `sum` function with a generator expression.\n",
            "\n",
            "Example of improved code:\n",
            "```python\n",
            "def calculate_total_cost(items: list) -> float:\n",
            "    \"\"\"\n",
            "    Calculate the total cost of a list of items.\n",
            "    \n",
            "    Args:\n",
            "    items (list): A list of items with a price attribute.\n",
            "    \n",
            "    Returns:\n",
            "    float: The total cost of the items.\n",
            "    \"\"\"\n",
            "    if not items:\n",
            "        return 0\n",
            "    try:\n",
            "        return sum(item.price for item in items)\n",
            "    except AttributeError:\n",
            "        raise ValueError(\"All items must have a price attribute\")\n",
            "    except TypeError:\n",
            "        raise ValueError(\"All item prices must be numbers\")\n",
            "```\n",
            "severity:### Code Review Assessment\n",
            "\n",
            "#### Code Quality\n",
            "1. **Function name**: The function name `calculate_total` could be more descriptive (e.g., `calculate_total_cost`).\n",
            "\t* Severity: **Low** (nice to have improvement)\n",
            "2. **Variable name**: The variable name `items` is not descriptive; consider using `products` or `order_items`.\n",
            "\t* Severity: **Low** (nice to have improvement)\n",
            "3. **Exception handling**: The function does not handle potential exceptions, such as `items` being `None` or an empty list.\n",
            "\t* Severity: **Medium** (should be addressed soon)\n",
            "\n",
            "#### Potential Bugs\n",
            "1. **Assuming `price` attribute**: The function assumes that all items have a `price` attribute, which may not always be the case.\n",
            "\t* Severity: **High** (should be fixed before merge)\n",
            "2. **Non-iterable input**: If `items` is not an iterable, the function will throw an error.\n",
            "\t* Severity: **High** (should be fixed before merge)\n",
            "3. **Non-numeric price**: If an item's `price` is not a number, the function will throw an error.\n",
            "\t* Severity: **High** (should be fixed before merge)\n",
            "\n",
            "#### Security Issues\n",
            "1. **Input validation**: The function does not validate the input `items`, which could lead to security vulnerabilities if the input is not sanitized.\n",
            "\t* Severity: **Critical** (must be fixed immediately)\n",
            "\n",
            "#### Performance Concerns\n",
            "1. **Time complexity**: The function has a time complexity of O(n), where n is the number of items, which is acceptable for most use cases.\n",
            "\t* Severity: **Low** (nice to have improvement)\n",
            "2. **Optimization for large lists**: If the list of items is very large, the function could be optimized using a more efficient data structure or algorithm.\n",
            "\t* Severity: **Medium** (should be addressed soon)\n",
            "\n",
            "#### Best Practices\n",
            "1. **Type hints**: Consider adding type hints for the function parameters and return value.\n",
            "\t* Severity: **Low** (nice to have improvement)\n",
            "2. **Docstring**: Add a docstring to describe the function's purpose and behavior.\n",
            "\t* Severity: **Low** (nice to have improvement)\n",
            "3. **Error handling**: Use a more robust way to handle potential errors, such as using a try-except block.\n",
            "\t* Severity: **Medium** (should be addressed soon)\n",
            "4. **Pythonic calculation**: Consider using a more Pythonic way to calculate the total, such as using the `sum` function with a generator expression.\n",
            "\t* Severity: **Low** (nice to have improvement)\n",
            "\n",
            "The improved code example addresses many of these issues, including input validation, exception handling, and type hints. However, it is still important to review the code thoroughly to ensure that all potential issues are addressed.\n",
            "Final Review Summary: **Code Review Summary**\n",
            "\n",
            "* **Overall Code Quality**: The code quality is {insert quality, e.g., good, fair, poor} with some areas that require improvement. The code is generally well-structured, but there are some issues that need to be addressed to ensure maintainability, readability, and performance.\n",
            "* **Key Issues to Address**:\n",
            "\t+ The code has {insert number} critical issues that need to be fixed, including {insert issues, e.g., syntax errors, security vulnerabilities}.\n",
            "\t+ There are {insert number} major issues that should be addressed, such as {insert issues, e.g., performance optimization, code duplication}.\n",
            "\t+ Some areas of the code are not following best practices, including {insert areas, e.g., naming conventions, commenting}.\n",
            "* **Positive Aspects**:\n",
            "\t+ The code is well-organized and easy to navigate, with clear and concise function names.\n",
            "\t+ The use of {insert technology/framework} is effective and efficient.\n",
            "\t+ The code includes {insert feature, e.g., error handling, logging} which is a good practice.\n",
            "* **Next Steps**:\n",
            "\t+ Address the critical and major issues identified in the review to ensure the code is stable and functional.\n",
            "\t+ Refactor the code to follow best practices and improve maintainability.\n",
            "\t+ Consider implementing additional features, such as {insert feature, e.g., testing, documentation}.\n",
            "\t+ Schedule a follow-up review to ensure the issues have been addressed and the code quality has improved.\n",
            "\n",
            "Note: Please replace the placeholders with the actual information from the review.\n"
          ]
        }
      ]
    },
    {
      "cell_type": "code",
      "source": [
        "result.keys()"
      ],
      "metadata": {
        "colab": {
          "base_uri": "https://localhost:8080/"
        },
        "id": "83d3IX_OVjVe",
        "outputId": "59ec1e67-2633-46ba-de3d-b7144c89c094"
      },
      "execution_count": 50,
      "outputs": [
        {
          "output_type": "execute_result",
          "data": {
            "text/plain": [
              "dict_keys(['code', 'review_comments', 'severity_levels', 'final_summary', 'current_step'])"
            ]
          },
          "metadata": {},
          "execution_count": 50
        }
      ]
    },
    {
      "cell_type": "code",
      "source": [
        "print(result['review_comments'])"
      ],
      "metadata": {
        "colab": {
          "base_uri": "https://localhost:8080/"
        },
        "id": "F1rJlo4kVkK2",
        "outputId": "e4957c72-a544-4684-8b1d-09fd90a07c98"
      },
      "execution_count": 51,
      "outputs": [
        {
          "output_type": "stream",
          "name": "stdout",
          "text": [
            "### Code Quality\n",
            "* The function name `calculate_total` is clear, but it could be more descriptive, e.g., `calculate_total_cost`.\n",
            "* The variable name `items` is not descriptive; consider using `products` or `order_items`.\n",
            "* The function does not handle potential exceptions, such as `items` being `None` or an empty list.\n",
            "\n",
            "### Potential Bugs\n",
            "* The function assumes that all items have a `price` attribute, which may not always be the case.\n",
            "* If `items` is not an iterable, the function will throw an error.\n",
            "* If an item's `price` is not a number, the function will throw an error.\n",
            "\n",
            "### Security Issues\n",
            "* The function does not validate the input `items`, which could lead to security vulnerabilities if the input is not sanitized.\n",
            "\n",
            "### Performance Concerns\n",
            "* The function has a time complexity of O(n), where n is the number of items, which is acceptable for most use cases.\n",
            "* If the list of items is very large, the function could be optimized using a more efficient data structure or algorithm.\n",
            "\n",
            "### Best Practices\n",
            "* Consider adding type hints for the function parameters and return value.\n",
            "* Add a docstring to describe the function's purpose and behavior.\n",
            "* Use a more robust way to handle potential errors, such as using a try-except block.\n",
            "* Consider using a more Pythonic way to calculate the total, such as using the `sum` function with a generator expression.\n",
            "\n",
            "Example of improved code:\n",
            "```python\n",
            "def calculate_total_cost(items: list) -> float:\n",
            "    \"\"\"\n",
            "    Calculate the total cost of a list of items.\n",
            "    \n",
            "    Args:\n",
            "    items (list): A list of items with a price attribute.\n",
            "    \n",
            "    Returns:\n",
            "    float: The total cost of the items.\n",
            "    \"\"\"\n",
            "    if not items:\n",
            "        return 0\n",
            "    try:\n",
            "        return sum(item.price for item in items)\n",
            "    except AttributeError:\n",
            "        raise ValueError(\"All items must have a price attribute\")\n",
            "    except TypeError:\n",
            "        raise ValueError(\"All item prices must be numbers\")\n",
            "```\n"
          ]
        }
      ]
    },
    {
      "cell_type": "code",
      "source": [
        "print(result['severity_levels'])"
      ],
      "metadata": {
        "colab": {
          "base_uri": "https://localhost:8080/"
        },
        "id": "pXfi7b1Ee7v1",
        "outputId": "8a982124-fe18-4bba-a89b-dfc5c37d25e2"
      },
      "execution_count": 52,
      "outputs": [
        {
          "output_type": "stream",
          "name": "stdout",
          "text": [
            "### Code Review Assessment\n",
            "\n",
            "#### Code Quality\n",
            "1. **Function name**: The function name `calculate_total` could be more descriptive (e.g., `calculate_total_cost`).\n",
            "\t* Severity: **Low** (nice to have improvement)\n",
            "2. **Variable name**: The variable name `items` is not descriptive; consider using `products` or `order_items`.\n",
            "\t* Severity: **Low** (nice to have improvement)\n",
            "3. **Exception handling**: The function does not handle potential exceptions, such as `items` being `None` or an empty list.\n",
            "\t* Severity: **Medium** (should be addressed soon)\n",
            "\n",
            "#### Potential Bugs\n",
            "1. **Assuming `price` attribute**: The function assumes that all items have a `price` attribute, which may not always be the case.\n",
            "\t* Severity: **High** (should be fixed before merge)\n",
            "2. **Non-iterable input**: If `items` is not an iterable, the function will throw an error.\n",
            "\t* Severity: **High** (should be fixed before merge)\n",
            "3. **Non-numeric price**: If an item's `price` is not a number, the function will throw an error.\n",
            "\t* Severity: **High** (should be fixed before merge)\n",
            "\n",
            "#### Security Issues\n",
            "1. **Input validation**: The function does not validate the input `items`, which could lead to security vulnerabilities if the input is not sanitized.\n",
            "\t* Severity: **Critical** (must be fixed immediately)\n",
            "\n",
            "#### Performance Concerns\n",
            "1. **Time complexity**: The function has a time complexity of O(n), where n is the number of items, which is acceptable for most use cases.\n",
            "\t* Severity: **Low** (nice to have improvement)\n",
            "2. **Optimization for large lists**: If the list of items is very large, the function could be optimized using a more efficient data structure or algorithm.\n",
            "\t* Severity: **Medium** (should be addressed soon)\n",
            "\n",
            "#### Best Practices\n",
            "1. **Type hints**: Consider adding type hints for the function parameters and return value.\n",
            "\t* Severity: **Low** (nice to have improvement)\n",
            "2. **Docstring**: Add a docstring to describe the function's purpose and behavior.\n",
            "\t* Severity: **Low** (nice to have improvement)\n",
            "3. **Error handling**: Use a more robust way to handle potential errors, such as using a try-except block.\n",
            "\t* Severity: **Medium** (should be addressed soon)\n",
            "4. **Pythonic calculation**: Consider using a more Pythonic way to calculate the total, such as using the `sum` function with a generator expression.\n",
            "\t* Severity: **Low** (nice to have improvement)\n",
            "\n",
            "The improved code example addresses many of these issues, including input validation, exception handling, and type hints. However, it is still important to review the code thoroughly to ensure that all potential issues are addressed.\n"
          ]
        }
      ]
    },
    {
      "cell_type": "code",
      "source": [
        "print(result['final_summary'])"
      ],
      "metadata": {
        "colab": {
          "base_uri": "https://localhost:8080/"
        },
        "id": "GMwWZM-gfYjO",
        "outputId": "277fa1ad-0183-4f5b-9c80-3dd4510f6b55"
      },
      "execution_count": 53,
      "outputs": [
        {
          "output_type": "stream",
          "name": "stdout",
          "text": [
            "**Code Review Summary**\n",
            "\n",
            "* **Overall Code Quality**: The code quality is {insert quality, e.g., good, fair, poor} with some areas that require improvement. The code is generally well-structured, but there are some issues that need to be addressed to ensure maintainability, readability, and performance.\n",
            "* **Key Issues to Address**:\n",
            "\t+ The code has {insert number} critical issues that need to be fixed, including {insert issues, e.g., syntax errors, security vulnerabilities}.\n",
            "\t+ There are {insert number} major issues that should be addressed, such as {insert issues, e.g., performance optimization, code duplication}.\n",
            "\t+ Some areas of the code are not following best practices, including {insert areas, e.g., naming conventions, commenting}.\n",
            "* **Positive Aspects**:\n",
            "\t+ The code is well-organized and easy to navigate, with clear and concise function names.\n",
            "\t+ The use of {insert technology/framework} is effective and efficient.\n",
            "\t+ The code includes {insert feature, e.g., error handling, logging} which is a good practice.\n",
            "* **Next Steps**:\n",
            "\t+ Address the critical and major issues identified in the review to ensure the code is stable and functional.\n",
            "\t+ Refactor the code to follow best practices and improve maintainability.\n",
            "\t+ Consider implementing additional features, such as {insert feature, e.g., testing, documentation}.\n",
            "\t+ Schedule a follow-up review to ensure the issues have been addressed and the code quality has improved.\n",
            "\n",
            "Note: Please replace the placeholders with the actual information from the review.\n"
          ]
        }
      ]
    },
    {
      "cell_type": "code",
      "source": [],
      "metadata": {
        "id": "ERpx4oq3fbRP"
      },
      "execution_count": null,
      "outputs": []
    }
  ]
}