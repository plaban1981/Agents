{
  "nbformat": 4,
  "nbformat_minor": 0,
  "metadata": {
    "colab": {
      "provenance": [],
      "authorship_tag": "ABX9TyPPvuGEaWJ/bj+cwYwZ2xWL",
      "include_colab_link": true
    },
    "kernelspec": {
      "name": "python3",
      "display_name": "Python 3"
    },
    "language_info": {
      "name": "python"
    }
  },
  "cells": [
    {
      "cell_type": "markdown",
      "metadata": {
        "id": "view-in-github",
        "colab_type": "text"
      },
      "source": [
        "<a href=\"https://colab.research.google.com/github/plaban1981/Agents/blob/main/Reflexion_Agent_using_langgraph.ipynb\" target=\"_parent\"><img src=\"https://colab.research.google.com/assets/colab-badge.svg\" alt=\"Open In Colab\"/></a>"
      ]
    },
    {
      "cell_type": "markdown",
      "source": [
        "#### Import Required Dependencies"
      ],
      "metadata": {
        "id": "oWp45C6YDMFW"
      }
    },
    {
      "cell_type": "code",
      "execution_count": 1,
      "metadata": {
        "colab": {
          "base_uri": "https://localhost:8080/"
        },
        "id": "RUlyyQtfCyyp",
        "outputId": "8a183c56-e3cb-4f68-943b-560ff7aa334d"
      },
      "outputs": [
        {
          "output_type": "stream",
          "name": "stdout",
          "text": [
            "\u001b[?25l   \u001b[90m━━━━━━━━━━━━━━━━━━━━━━━━━━━━━━━━━━━━━━━━\u001b[0m \u001b[32m0.0/1.0 MB\u001b[0m \u001b[31m?\u001b[0m eta \u001b[36m-:--:--\u001b[0m\r\u001b[2K   \u001b[91m━━━━━━━━\u001b[0m\u001b[90m╺\u001b[0m\u001b[90m━━━━━━━━━━━━━━━━━━━━━━━━━━━━━━━\u001b[0m \u001b[32m0.2/1.0 MB\u001b[0m \u001b[31m6.6 MB/s\u001b[0m eta \u001b[36m0:00:01\u001b[0m\r\u001b[2K   \u001b[91m━━━━━━━━━━━━━━━━━━━━━━━━━━━━━━━━━━━━━━━\u001b[0m\u001b[91m╸\u001b[0m \u001b[32m1.0/1.0 MB\u001b[0m \u001b[31m14.9 MB/s\u001b[0m eta \u001b[36m0:00:01\u001b[0m\r\u001b[2K   \u001b[90m━━━━━━━━━━━━━━━━━━━━━━━━━━━━━━━━━━━━━━━━\u001b[0m \u001b[32m1.0/1.0 MB\u001b[0m \u001b[31m11.7 MB/s\u001b[0m eta \u001b[36m0:00:00\u001b[0m\n",
            "\u001b[2K   \u001b[90m━━━━━━━━━━━━━━━━━━━━━━━━━━━━━━━━━━━━━━━━\u001b[0m \u001b[32m50.9/50.9 kB\u001b[0m \u001b[31m4.0 MB/s\u001b[0m eta \u001b[36m0:00:00\u001b[0m\n",
            "\u001b[2K   \u001b[90m━━━━━━━━━━━━━━━━━━━━━━━━━━━━━━━━━━━━━━━━\u001b[0m \u001b[32m2.5/2.5 MB\u001b[0m \u001b[31m59.1 MB/s\u001b[0m eta \u001b[36m0:00:00\u001b[0m\n",
            "\u001b[2K   \u001b[90m━━━━━━━━━━━━━━━━━━━━━━━━━━━━━━━━━━━━━━━━\u001b[0m \u001b[32m135.7/135.7 kB\u001b[0m \u001b[31m10.8 MB/s\u001b[0m eta \u001b[36m0:00:00\u001b[0m\n",
            "\u001b[2K   \u001b[90m━━━━━━━━━━━━━━━━━━━━━━━━━━━━━━━━━━━━━━━━\u001b[0m \u001b[32m109.1/109.1 kB\u001b[0m \u001b[31m9.7 MB/s\u001b[0m eta \u001b[36m0:00:00\u001b[0m\n",
            "\u001b[2K   \u001b[90m━━━━━━━━━━━━━━━━━━━━━━━━━━━━━━━━━━━━━━━━\u001b[0m \u001b[32m411.6/411.6 kB\u001b[0m \u001b[31m31.0 MB/s\u001b[0m eta \u001b[36m0:00:00\u001b[0m\n",
            "\u001b[2K   \u001b[90m━━━━━━━━━━━━━━━━━━━━━━━━━━━━━━━━━━━━━━━━\u001b[0m \u001b[32m43.7/43.7 kB\u001b[0m \u001b[31m2.7 MB/s\u001b[0m eta \u001b[36m0:00:00\u001b[0m\n",
            "\u001b[2K   \u001b[90m━━━━━━━━━━━━━━━━━━━━━━━━━━━━━━━━━━━━━━━━\u001b[0m \u001b[32m454.3/454.3 kB\u001b[0m \u001b[31m27.6 MB/s\u001b[0m eta \u001b[36m0:00:00\u001b[0m\n",
            "\u001b[2K   \u001b[90m━━━━━━━━━━━━━━━━━━━━━━━━━━━━━━━━━━━━━━━━\u001b[0m \u001b[32m1.2/1.2 MB\u001b[0m \u001b[31m57.9 MB/s\u001b[0m eta \u001b[36m0:00:00\u001b[0m\n",
            "\u001b[2K   \u001b[90m━━━━━━━━━━━━━━━━━━━━━━━━━━━━━━━━━━━━━━━━\u001b[0m \u001b[32m49.3/49.3 kB\u001b[0m \u001b[31m3.3 MB/s\u001b[0m eta \u001b[36m0:00:00\u001b[0m\n",
            "\u001b[?25h"
          ]
        }
      ],
      "source": [
        "%pip install -qU langchain langchain_openai langchain_groq langchain_community langgraph"
      ]
    },
    {
      "cell_type": "markdown",
      "source": [
        "#### Setup API key"
      ],
      "metadata": {
        "id": "eGVJVoSzEFLf"
      }
    },
    {
      "cell_type": "code",
      "source": [
        "import os\n",
        "from google.colab import userdata\n",
        "os.environ['GROQ_API_KEY'] = userdata.get('GROQ_API_KEY')\n",
        "os.environ[\"TAVILY_API_KEY\"] = userdata.get('TAVILY_API_KEY')"
      ],
      "metadata": {
        "id": "-U6ftWM3EHsq"
      },
      "execution_count": 13,
      "outputs": []
    },
    {
      "cell_type": "markdown",
      "source": [
        "#### Define classes"
      ],
      "metadata": {
        "id": "CgRGmeMnD7hh"
      }
    },
    {
      "cell_type": "code",
      "source": [
        "from typing import List\n",
        "from pydantic import BaseModel,Field\n",
        "#\n",
        "class Reflection(BaseModel):\n",
        "  print(\"----------REFLECTION------------------\")\n",
        "  missing: str = Field(description=\"Critique of what is missing.\")\n",
        "  superflous:str = Field(description=\"Critique of what is superflous\")\n",
        "\n",
        "#\n",
        "class AnswerQuestion(BaseModel):\n",
        "  print(\"----------ANSWER QUESTION------------------\")\n",
        "  answer:str = Field(description=\"`250 word detailed answer to the question.\")\n",
        "  reflection:Reflection = Field(description=\"Your Reflection on the initial answer.\")\n",
        "  search_queries:List[str] = Field(description=\"1-3 search queries for researching improvements to address the critique of your current answer.\")\n",
        "\n",
        "#\n",
        "#forcing citations in the model encourages ground responses\n",
        "class ReviseAnswer(AnswerQuestion):\n",
        "  print(\"----------REVISE ANSWER------------------\")\n",
        "  referrences: List[str] = Field(description=\"Citations motivating your updated answer.\")"
      ],
      "metadata": {
        "colab": {
          "base_uri": "https://localhost:8080/"
        },
        "id": "FQSzq-vxD3Ya",
        "outputId": "cd96a038-58eb-4b47-db49-4cc15d35eb96"
      },
      "execution_count": 56,
      "outputs": [
        {
          "output_type": "stream",
          "name": "stdout",
          "text": [
            "----------REFLECTION------------------\n",
            "----------ANSWER QUESTION------------------\n",
            "----------REVISE ANSWER------------------\n"
          ]
        }
      ]
    },
    {
      "cell_type": "markdown",
      "source": [
        "#### Instantiate LLM"
      ],
      "metadata": {
        "id": "DXSR0kSPG8tB"
      }
    },
    {
      "cell_type": "code",
      "source": [
        "from langchain_groq import ChatGroq\n",
        "MODEL = \"llama3-groq-70b-8192-tool-use-preview\"\n",
        "llm =ChatGroq(model_name=MODEL,temperature=0.0,max_tokens=3000)"
      ],
      "metadata": {
        "id": "rrW0HjrLG54X"
      },
      "execution_count": 58,
      "outputs": []
    },
    {
      "cell_type": "markdown",
      "source": [
        "#### Define Relexion Chains"
      ],
      "metadata": {
        "id": "4JgSpatyHp0M"
      }
    },
    {
      "cell_type": "code",
      "source": [
        "import datetime\n",
        "from langchain_core.prompts import ChatPromptTemplate,HumanMessagePromptTemplate,MessagesPlaceholder\n",
        "from langchain_core.output_parsers import PydanticToolsParser,JsonOutputToolsParser\n",
        "#\n",
        "actor_template = ChatPromptTemplate.from_messages([\n",
        "    (\"system\",\"\"\"You are an expert researcher.\n",
        "    Current Time :{time}\n",
        "\n",
        "    1. {first_instruction}\n",
        "    2. Reflect and critique your answer.Be severe to maximize improvement.\n",
        "    3. Recommend search queries to reserch information and improve your answer.\"\"\"\n",
        "    ),\n",
        "    MessagesPlaceholder(variable_name=\"messages\"),\n",
        "    (\"system\",\"Answer the user's question above using the required format.\")\n",
        "]).partial(time=lambda:datetime.datetime.now().strftime(\"%Y-%m-%d %H:%M:%S\"))\n",
        ""
      ],
      "metadata": {
        "id": "-TwoS4lwHhId"
      },
      "execution_count": 59,
      "outputs": []
    },
    {
      "cell_type": "code",
      "source": [
        "first_responder = actor_template.partial(\n",
        "first_instruction=\"Provide a detailed ~250 word answer to the question.\"\n",
        ") | llm.bind_tools(tools=[AnswerQuestion],tool_choice=\"AnswerQuestion\")\n"
      ],
      "metadata": {
        "id": "D-8lJr8mJg2g"
      },
      "execution_count": 60,
      "outputs": []
    },
    {
      "cell_type": "markdown",
      "source": [
        "#### Define Validator Tool"
      ],
      "metadata": {
        "id": "V99hrkItKwYL"
      }
    },
    {
      "cell_type": "code",
      "source": [
        "validator = PydanticToolsParser(tools=[AnswerQuestion])"
      ],
      "metadata": {
        "id": "AcrlAgicKXoR"
      },
      "execution_count": 61,
      "outputs": []
    },
    {
      "cell_type": "markdown",
      "source": [
        "#### Reviser tool"
      ],
      "metadata": {
        "id": "-GELZBBdKp8D"
      }
    },
    {
      "cell_type": "code",
      "source": [
        "revise_instructions = \"\"\"Revise your previous answer using the new information.\n",
        "-You should use the previous critique to add important information to your answer.\n",
        "- You MUST include numerical citations in your revised answer to ensure it can be verified.\n",
        "- Add a 'Referrences' section to the bottom of your answer (Which does not count towards the word limit). In form of\n",
        "  - [1] https://example.com\n",
        "  - [2] https://example.com\n",
        "- You should use the previous critique to remove superflous information from your answer and make SURE it is no more than 250 words.\n",
        "\"\"\"\n",
        "revisor = actor_template.partial(\n",
        "first_instruction=revise_instructions\n",
        ") | llm.bind_tools(tools=[ReviseAnswer],tool_choice=\"ReviseAnswer\")"
      ],
      "metadata": {
        "id": "qkJTC2upKr8Y"
      },
      "execution_count": 62,
      "outputs": []
    },
    {
      "cell_type": "markdown",
      "source": [
        "#### Define the Tool"
      ],
      "metadata": {
        "id": "MqS6jNmxNPUC"
      }
    },
    {
      "cell_type": "code",
      "source": [
        "from langchain_community.tools.tavily_search import TavilySearchResults\n",
        "from langchain_community.utilities.tavily_search import TavilySearchAPIWrapper\n",
        "from langchain_core.tools import StructuredTool\n",
        "from langgraph.prebuilt import ToolNode\n",
        "#\n",
        "search = TavilySearchAPIWrapper()\n",
        "tavily_tool = TavilySearchResults(api_wrapper=search,max_results=5)\n",
        "#"
      ],
      "metadata": {
        "id": "SjRcF1cBNR1o"
      },
      "execution_count": 63,
      "outputs": []
    },
    {
      "cell_type": "code",
      "source": [
        "def run_queries(search_queries:List[str]):\n",
        "  \"\"\"Run the generated queries\"\"\"\n",
        "  return tavily_tool.batch([{\"query\":query} for query in search_queries])"
      ],
      "metadata": {
        "id": "JHkCLBh9N71N"
      },
      "execution_count": 64,
      "outputs": []
    },
    {
      "cell_type": "code",
      "source": [
        "tool_node = ToolNode(\n",
        "    [StructuredTool.from_function(run_queries,name=AnswerQuestion.__name__),\n",
        "     StructuredTool.from_function(run_queries,name=ReviseAnswer.__name__),\n",
        "    ]\n",
        ")"
      ],
      "metadata": {
        "id": "fvQlZ9z4OQ6u"
      },
      "execution_count": 65,
      "outputs": []
    },
    {
      "cell_type": "markdown",
      "source": [
        "## Define Node"
      ],
      "metadata": {
        "id": "X_IOhbs3es_s"
      }
    },
    {
      "cell_type": "code",
      "source": [
        "from langgraph.graph import START,MessageGraph,StateGraph,END\n",
        "#\n",
        "max_iterations=3\n",
        "builder = MessageGraph()\n",
        "builder.add_node(\"draft\",first_responder)\n",
        "builder.add_node(\"execute_tool\",tool_node)\n",
        "builder.add_node(\"revise\",revisor)\n",
        "#\n",
        "builder.add_edge(\"draft\",\"execute_tool\")\n",
        "builder.add_edge(\"execute_tool\",\"revise\")\n",
        "#"
      ],
      "metadata": {
        "colab": {
          "base_uri": "https://localhost:8080/"
        },
        "id": "P8GK0WlTeu6D",
        "outputId": "cc6aa5f7-d8b5-4003-ea40-928a890a7702"
      },
      "execution_count": 66,
      "outputs": [
        {
          "output_type": "execute_result",
          "data": {
            "text/plain": [
              "<langgraph.graph.message.MessageGraph at 0x78407e30e290>"
            ]
          },
          "metadata": {},
          "execution_count": 66
        }
      ]
    },
    {
      "cell_type": "markdown",
      "source": [
        "#### Define Event Loop"
      ],
      "metadata": {
        "id": "NX8_ZbxMgTd7"
      }
    },
    {
      "cell_type": "code",
      "source": [
        "from langchain_core.messages import BaseMessage,ToolMessage\n",
        "from langchain_core.callbacks import CallbackManager\n",
        "max_iterations =2\n",
        "def event_loop(state:List[BaseMessage]):\n",
        "  count_tool_visits = sum(isinstance(item,ToolMessage) for item in state)\n",
        "  if count_tool_visits >= max_iterations:\n",
        "    return END\n",
        "  return \"execute_tool\""
      ],
      "metadata": {
        "id": "ahJE3RmUgVqW"
      },
      "execution_count": 73,
      "outputs": []
    },
    {
      "cell_type": "code",
      "source": [
        "builder.add_conditional_edges(\"revise\",event_loop)\n",
        "builder.set_entry_point(\"draft\")\n",
        "graph = builder.compile()"
      ],
      "metadata": {
        "id": "52Eve7HYm-8q"
      },
      "execution_count": 68,
      "outputs": []
    },
    {
      "cell_type": "code",
      "source": [
        "from IPython.display import display,Markdown,Image\n",
        "display(Image(graph.get_graph().draw_mermaid_png()))\n",
        "#"
      ],
      "metadata": {
        "colab": {
          "base_uri": "https://localhost:8080/",
          "height": 449
        },
        "id": "K30pjyJ1piZ0",
        "outputId": "30992a8f-bc95-413a-9f4b-9762d9add410"
      },
      "execution_count": 25,
      "outputs": [
        {
          "output_type": "display_data",
          "data": {
            "image/png": "[encoded data removed]",
            "text/plain": [
              "<IPython.core.display.Image object>"
            ]
          },
          "metadata": {}
        }
      ]
    },
    {
      "cell_type": "code",
      "source": [
        "res = graph.invoke(\"Write about PydanticAI agent framework.\")"
      ],
      "metadata": {
        "id": "V-JykoH3p5GZ"
      },
      "execution_count": 74,
      "outputs": []
    },
    {
      "cell_type": "code",
      "source": [
        "res[-1].tool_calls[0]"
      ],
      "metadata": {
        "colab": {
          "base_uri": "https://localhost:8080/"
        },
        "id": "kujbdyDNp49G",
        "outputId": "31e15597-de5b-4589-bef0-55d66c24f6fc"
      },
      "execution_count": 75,
      "outputs": [
        {
          "output_type": "execute_result",
          "data": {
            "text/plain": [
              "{'name': 'ReviseAnswer',\n",
              " 'args': {'answer': 'The PydanticAI agent framework is a powerful tool for building complex AI applications, offering a structured way to define and manage AI agents, efficient communication, and task distribution. It simplifies the development process and ensures applications are scalable and efficient. The framework supports a variety of AI algorithms and can be easily integrated with existing systems, making it a versatile choice for both new and existing projects. For instance, it can be used to create customer service AI agents that assist human agents by automating repetitive tasks, suggesting responses, and streamlining workflows. Additionally, it can be applied in research and document analysis, such as reading unstructured documents, summarizing content, and mapping company names to tickers for investment analysis. Its applications are revolutionizing the way we build intelligent applications, enabling developers to create sophisticated AI systems that can operate autonomously and adapt to complex environments.',\n",
              "  'referrences': ['https://www.chatbase.co/blog/ai-agent-frameworks',\n",
              "   'https://www.insightpartners.com/ideas/state-of-the-ai-agent-ecosystem-use-cases-and-learnings-for-technology-builders-and-buyers',\n",
              "   'https://research.aimultiple.com/agentic-ai',\n",
              "   'https://blog.fabrichq.ai/exploring-ai-agent-examples-real-world-applications-and-use-cases-1c3b469944ef',\n",
              "   'https://www.projectpro.io/article/ai-agent-frameworks/1068'],\n",
              "  'search_queries': ['AI agent framework use cases',\n",
              "   'Benefits of using PydanticAI',\n",
              "   'Real-world applications of PydanticAI'],\n",
              "  'reflection': {'missing': 'Could include specific use cases or examples of applications built with the framework to make the answer more concrete and practical.',\n",
              "   'superflous': \"The description could avoid using general terms like 'powerful' and 'complex', focusing instead on specific features and their applications.\"}},\n",
              " 'id': 'call_6pty',\n",
              " 'type': 'tool_call'}"
            ]
          },
          "metadata": {},
          "execution_count": 75
        }
      ]
    },
    {
      "cell_type": "code",
      "source": [
        "res[-1].tool_calls[0]['args']['answer']"
      ],
      "metadata": {
        "colab": {
          "base_uri": "https://localhost:8080/",
          "height": 123
        },
        "id": "IDySoEjDufyQ",
        "outputId": "6c642c21-fcd3-418a-dd6e-bfa176802ce5"
      },
      "execution_count": 72,
      "outputs": [
        {
          "output_type": "execute_result",
          "data": {
            "text/plain": [
              "'Multi-agent frameworks are a type of software that supports the development of multi-agent systems. These frameworks provide a set of tools, libraries, and services that enable the creation of complex systems where multiple agents can interact, collaborate, and adapt to their environment. They are designed to manage the complexity of developing and running multi-agent systems by providing abstractions, APIs, and runtime environments. Key features include agent management, communication protocols, task scheduling, and conflict resolution mechanisms. These frameworks are applied in various domains such as healthcare, transportation, and e-commerce, where distributed problem-solving and decision-making are crucial. They offer benefits like improved system scalability, flexibility, and fault tolerance. Researchers and practitioners use multi-agent frameworks to model and simulate complex scenarios, test algorithms, and validate system designs before deployment. The development of these frameworks is an active area of research, focusing on enhancing performance, security, and usability. For instance, in healthcare, multi-agent systems can significantly improve patient care and outcomes by enabling efficient management of complex scenarios, providing real-time data analysis, and decision support. In addition, multi-agent frameworks can be optimized to use resources more efficiently, reducing the complexity of managing interactions and tasks as the number of agents increases. However, there are limitations to consider, such as scalability and efficiency, particularly in small-scale simulations that may not accurately reflect real-world scenarios. To address these challenges, it is crucial to understand the specific use case and requirements when choosing a multi-agent framework, and to be aware of the top multi-agent frameworks, their strengths, and limitations.'"
            ],
            "application/vnd.google.colaboratory.intrinsic+json": {
              "type": "string"
            }
          },
          "metadata": {},
          "execution_count": 72
        }
      ]
    },
    {
      "cell_type": "code",
      "source": [
        "res[0]"
      ],
      "metadata": {
        "colab": {
          "base_uri": "https://localhost:8080/"
        },
        "id": "xPfott9Hwc79",
        "outputId": "453e7305-fa45-42ef-920d-89e7946d068d"
      },
      "execution_count": 77,
      "outputs": [
        {
          "output_type": "execute_result",
          "data": {
            "text/plain": [
              "HumanMessage(content='Write about PydanticAI agent framework.', additional_kwargs={}, response_metadata={}, id='ab675083-e0d6-4d1e-b9ce-5893f2511281')"
            ]
          },
          "metadata": {},
          "execution_count": 77
        }
      ]
    },
    {
      "cell_type": "code",
      "source": [
        "res[1]"
      ],
      "metadata": {
        "colab": {
          "base_uri": "https://localhost:8080/"
        },
        "id": "wOpKBhfyyMK0",
        "outputId": "5276beb7-67fd-41cf-993c-42175045bc6d"
      },
      "execution_count": 78,
      "outputs": [
        {
          "output_type": "execute_result",
          "data": {
            "text/plain": [
              "AIMessage(content='', additional_kwargs={'tool_calls': [{'id': 'call_wc24', 'function': {'arguments': '{\"answer\": \"The PydanticAI agent framework is a powerful tool for building complex AI applications. It provides a structured way to define and manage AI agents, allowing for efficient communication and task distribution. With PydanticAI, developers can create a wide range of AI applications, from simple bots to complex multi-agent systems, all within a well-defined and maintainable framework. This not only simplifies the development process but also ensures that the resulting applications are scalable and efficient. Additionally, the framework supports a variety of AI algorithms and can be easily integrated with existing systems, making it a versatile choice for both new and existing projects.\", \"reflection\": {\"missing\": \"Could include specific use cases or examples of applications built with the framework to make the answer more concrete and practical.\", \"superflous\": \"The description could avoid using general terms like \\'powerful\\' and \\'complex\\', focusing instead on specific features and their applications.\"}, \"search_queries\": [\"AI agent framework use cases\", \"Benefits of using PydanticAI\", \"Real-world applications of PydanticAI\"]}', 'name': 'AnswerQuestion'}, 'type': 'function'}]}, response_metadata={'token_usage': {'completion_tokens': 224, 'prompt_tokens': 453, 'total_tokens': 677, 'completion_time': 0.538389564, 'prompt_time': 0.037028079, 'queue_time': 0.0028580200000000028, 'total_time': 0.575417643}, 'model_name': 'llama3-groq-70b-8192-tool-use-preview', 'system_fingerprint': 'fp_ee4b521143', 'finish_reason': 'tool_calls', 'logprobs': None}, id='run-175607c3-59f6-47f1-b4ae-d82d8b510e6f-0', tool_calls=[{'name': 'AnswerQuestion', 'args': {'answer': 'The PydanticAI agent framework is a powerful tool for building complex AI applications. It provides a structured way to define and manage AI agents, allowing for efficient communication and task distribution. With PydanticAI, developers can create a wide range of AI applications, from simple bots to complex multi-agent systems, all within a well-defined and maintainable framework. This not only simplifies the development process but also ensures that the resulting applications are scalable and efficient. Additionally, the framework supports a variety of AI algorithms and can be easily integrated with existing systems, making it a versatile choice for both new and existing projects.', 'reflection': {'missing': 'Could include specific use cases or examples of applications built with the framework to make the answer more concrete and practical.', 'superflous': \"The description could avoid using general terms like 'powerful' and 'complex', focusing instead on specific features and their applications.\"}, 'search_queries': ['AI agent framework use cases', 'Benefits of using PydanticAI', 'Real-world applications of PydanticAI']}, 'id': 'call_wc24', 'type': 'tool_call'}], usage_metadata={'input_tokens': 453, 'output_tokens': 224, 'total_tokens': 677})"
            ]
          },
          "metadata": {},
          "execution_count": 78
        }
      ]
    },
    {
      "cell_type": "markdown",
      "source": [
        "#### Error\n",
        "\n",
        "* BadRequestError: Error code: 400 - {'error': {'message': 'Please reduce the length of the messages or completion.', 'type': 'invalid_request_error', 'param': 'messages', 'code': 'context_length_exceeded'}}\n",
        "\n"
      ],
      "metadata": {
        "id": "LCVjVft1tfJc"
      }
    },
    {
      "cell_type": "markdown",
      "source": [
        "Hypothesis\n",
        "The error message BadRequestError: Error code: 400 - {'error': {'message': 'Please reduce the length of the messages or completion.', 'type': 'invalid_request_error', 'param': 'messages', 'code': 'context_length_exceeded'}} indicates that the request sent to the Groq API is exceeding the maximum context length allowed by the model you are using (llama3-groq-70b-8192-tool-use-preview).\n",
        "\n",
        "This is likely happening because:\n",
        "\n",
        "Accumulation of Messages: The event_loop function allows the graph to iterate multiple times (\"execute_tool\" -> \"revise\"), and with each iteration, the message history grows. After a few iterations, the total length of messages and the new prompt might exceed the model's context window.\n",
        "Long Input Prompt: The initial prompt \"Write about Multi-Agentic Frameworks.\" might already be quite large, especially if previous interactions have added to the message history.\n",
        "Model Limitations: The llama3-groq-70b-8192-tool-use-preview model has a context window limit. When the total length of the messages and the new prompt exceeds this limit, the API returns a 400 error.\n",
        "Suggested Changes\n",
        "To fix this issue, you can try the following:\n",
        "\n",
        "Reduce the Number of Iterations: Reduce the max_iterations value in your event_loop function to limit the number of times the graph iterates and accumulates messages.\n",
        "\n",
        "max_iterations = 1  # Reduced from 2 to 1\n",
        "   def event_loop(state:List[BaseMessage]):\n",
        "     count_tool_visits = sum(isinstance(item,ToolMessage) for item in state)\n",
        "     if count_tool_visits >= max_iterations:\n",
        "       return END\n",
        "     return \"execute_tool\"\n",
        "Use code with caution\n",
        "Shorten the Input Prompt: Try providing a shorter, more specific initial prompt to reduce the initial context size. For example, instead of \"Write about Multi-Agentic Frameworks.\", you could try \"Explain the key concepts of Multi-Agentic Frameworks.\"\n",
        "\n",
        "Memory Management: Implement a memory management strategy to trim the conversation history. You could keep only the most recent or relevant messages, summarize previous exchanges, or use a sliding window to limit the history size. LangChain offers various memory implementations that can be integrated into your chain.\n",
        "\n",
        "Increase max_tokens in llm instantiation: If possible, increase the max_tokens parameter when instantiating the ChatGroq object. However, be mindful of the model's context window limit.\n",
        "\n",
        "\n",
        "llm = ChatGroq(model_name=MODEL, temperature=0.0, max_tokens=2000)  # Increased max_tokens\n",
        "Use code with caution\n",
        "By implementing these changes, you can reduce the likelihood of exceeding the context window limit and avoid the BadRequestError. Remember to experiment with different approaches to find the best solution for your specific use case.\n",
        "\n",
        "Sources"
      ],
      "metadata": {
        "id": "o_mpHW7Atneh"
      }
    },
    {
      "cell_type": "code",
      "source": [],
      "metadata": {
        "id": "dpb4O5WOtScs"
      },
      "execution_count": null,
      "outputs": []
    }
  ]
}