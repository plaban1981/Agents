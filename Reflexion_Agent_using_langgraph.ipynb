{
  "nbformat": 4,
  "nbformat_minor": 0,
  "metadata": {
    "colab": {
      "provenance": [],
      "authorship_tag": "ABX9TyNaiSIo7oqIZZrrKrZQQSfy",
      "include_colab_link": true
    },
    "kernelspec": {
      "name": "python3",
      "display_name": "Python 3"
    },
    "language_info": {
      "name": "python"
    }
  },
  "cells": [
    {
      "cell_type": "markdown",
      "metadata": {
        "id": "view-in-github",
        "colab_type": "text"
      },
      "source": [
        "<a href=\"https://colab.research.google.com/github/plaban1981/Agents/blob/main/Reflexion_Agent_using_langgraph.ipynb\" target=\"_parent\"><img src=\"https://colab.research.google.com/assets/colab-badge.svg\" alt=\"Open In Colab\"/></a>"
      ]
    },
    {
      "cell_type": "markdown",
      "source": [
        "#### Import Required Dependencies"
      ],
      "metadata": {
        "id": "oWp45C6YDMFW"
      }
    },
    {
      "cell_type": "code",
      "execution_count": 1,
      "metadata": {
        "colab": {
          "base_uri": "https://localhost:8080/"
        },
        "id": "RUlyyQtfCyyp",
        "outputId": "10a87b97-ee9c-4988-abb0-192973a3036f"
      },
      "outputs": [
        {
          "output_type": "stream",
          "name": "stdout",
          "text": [
            "\u001b[?25l   \u001b[90m━━━━━━━━━━━━━━━━━━━━━━━━━━━━━━━━━━━━━━━━\u001b[0m \u001b[32m0.0/1.0 MB\u001b[0m \u001b[31m?\u001b[0m eta \u001b[36m-:--:--\u001b[0m\r\u001b[2K   \u001b[91m━━━━━━━━━━━━━━━━━━━━━━━━━━━━━━━━━\u001b[0m\u001b[90m╺\u001b[0m\u001b[90m━━━━━━\u001b[0m \u001b[32m0.8/1.0 MB\u001b[0m \u001b[31m25.2 MB/s\u001b[0m eta \u001b[36m0:00:01\u001b[0m\r\u001b[2K   \u001b[91m━━━━━━━━━━━━━━━━━━━━━━━━━━━━━━━━━━━━━━━\u001b[0m\u001b[91m╸\u001b[0m \u001b[32m1.0/1.0 MB\u001b[0m \u001b[31m17.9 MB/s\u001b[0m eta \u001b[36m0:00:01\u001b[0m\r\u001b[2K   \u001b[90m━━━━━━━━━━━━━━━━━━━━━━━━━━━━━━━━━━━━━━━━\u001b[0m \u001b[32m1.0/1.0 MB\u001b[0m \u001b[31m9.1 MB/s\u001b[0m eta \u001b[36m0:00:00\u001b[0m\n",
            "\u001b[2K   \u001b[90m━━━━━━━━━━━━━━━━━━━━━━━━━━━━━━━━━━━━━━━━\u001b[0m \u001b[32m50.9/50.9 kB\u001b[0m \u001b[31m1.3 MB/s\u001b[0m eta \u001b[36m0:00:00\u001b[0m\n",
            "\u001b[2K   \u001b[90m━━━━━━━━━━━━━━━━━━━━━━━━━━━━━━━━━━━━━━━━\u001b[0m \u001b[32m2.5/2.5 MB\u001b[0m \u001b[31m13.0 MB/s\u001b[0m eta \u001b[36m0:00:00\u001b[0m\n",
            "\u001b[2K   \u001b[90m━━━━━━━━━━━━━━━━━━━━━━━━━━━━━━━━━━━━━━━━\u001b[0m \u001b[32m135.7/135.7 kB\u001b[0m \u001b[31m4.3 MB/s\u001b[0m eta \u001b[36m0:00:00\u001b[0m\n",
            "\u001b[2K   \u001b[90m━━━━━━━━━━━━━━━━━━━━━━━━━━━━━━━━━━━━━━━━\u001b[0m \u001b[32m109.1/109.1 kB\u001b[0m \u001b[31m2.4 MB/s\u001b[0m eta \u001b[36m0:00:00\u001b[0m\n",
            "\u001b[2K   \u001b[90m━━━━━━━━━━━━━━━━━━━━━━━━━━━━━━━━━━━━━━━━\u001b[0m \u001b[32m411.6/411.6 kB\u001b[0m \u001b[31m7.0 MB/s\u001b[0m eta \u001b[36m0:00:00\u001b[0m\n",
            "\u001b[2K   \u001b[90m━━━━━━━━━━━━━━━━━━━━━━━━━━━━━━━━━━━━━━━━\u001b[0m \u001b[32m43.7/43.7 kB\u001b[0m \u001b[31m737.6 kB/s\u001b[0m eta \u001b[36m0:00:00\u001b[0m\n",
            "\u001b[2K   \u001b[90m━━━━━━━━━━━━━━━━━━━━━━━━━━━━━━━━━━━━━━━━\u001b[0m \u001b[32m454.3/454.3 kB\u001b[0m \u001b[31m5.1 MB/s\u001b[0m eta \u001b[36m0:00:00\u001b[0m\n",
            "\u001b[2K   \u001b[90m━━━━━━━━━━━━━━━━━━━━━━━━━━━━━━━━━━━━━━━━\u001b[0m \u001b[32m1.2/1.2 MB\u001b[0m \u001b[31m9.5 MB/s\u001b[0m eta \u001b[36m0:00:00\u001b[0m\n",
            "\u001b[2K   \u001b[90m━━━━━━━━━━━━━━━━━━━━━━━━━━━━━━━━━━━━━━━━\u001b[0m \u001b[32m49.3/49.3 kB\u001b[0m \u001b[31m1.7 MB/s\u001b[0m eta \u001b[36m0:00:00\u001b[0m\n",
            "\u001b[?25h"
          ]
        }
      ],
      "source": [
        "%pip install -qU langchain langchain_openai langchain_groq langchain_community langgraph"
      ]
    },
    {
      "cell_type": "markdown",
      "source": [
        "#### Setup API key"
      ],
      "metadata": {
        "id": "eGVJVoSzEFLf"
      }
    },
    {
      "cell_type": "code",
      "source": [
        "import os\n",
        "from google.colab import userdata\n",
        "os.environ['GROQ_API_KEY'] = userdata.get('GROQ_API_KEY')\n",
        "os.environ[\"TAVILY_API_KEY\"] = userdata.get('TAVILY_API_KEY')"
      ],
      "metadata": {
        "id": "-U6ftWM3EHsq"
      },
      "execution_count": 2,
      "outputs": []
    },
    {
      "cell_type": "markdown",
      "source": [
        "#### Define classes"
      ],
      "metadata": {
        "id": "CgRGmeMnD7hh"
      }
    },
    {
      "cell_type": "code",
      "source": [
        "from typing import List\n",
        "from pydantic import BaseModel,Field\n",
        "#\n",
        "class Reflection(BaseModel):\n",
        "  print(\"----------REFLECTION------------------\")\n",
        "  missing: str = Field(description=\"Critique of what is missing.\")\n",
        "  superflous:str = Field(description=\"Critique of what is superflous\")\n",
        "\n",
        "#\n",
        "class AnswerQuestion(BaseModel):\n",
        "  print(\"----------ANSWER QUESTION------------------\")\n",
        "  answer:str = Field(description=\"`250 word detailed answer to the question.\")\n",
        "  reflection:Reflection = Field(description=\"Your Reflection on the initial answer.\")\n",
        "  search_queries:List[str] = Field(description=\"1-3 search queries for researching improvements to address the critique of your current answer.\")\n",
        "\n",
        "#\n",
        "#forcing citations in the model encourages ground responses\n",
        "class ReviseAnswer(AnswerQuestion):\n",
        "  print(\"----------REVISE ANSWER------------------\")\n",
        "  referrences: List[str] = Field(description=\"Citations motivating your updated answer.\")"
      ],
      "metadata": {
        "colab": {
          "base_uri": "https://localhost:8080/"
        },
        "id": "FQSzq-vxD3Ya",
        "outputId": "42295778-546d-4511-e822-8ec73be87323"
      },
      "execution_count": 3,
      "outputs": [
        {
          "output_type": "stream",
          "name": "stdout",
          "text": [
            "----------REFLECTION------------------\n",
            "----------ANSWER QUESTION------------------\n",
            "----------REVISE ANSWER------------------\n"
          ]
        }
      ]
    },
    {
      "cell_type": "markdown",
      "source": [
        "#### Instantiate LLM"
      ],
      "metadata": {
        "id": "DXSR0kSPG8tB"
      }
    },
    {
      "cell_type": "code",
      "source": [
        "from langchain_groq import ChatGroq\n",
        "MODEL = \"llama3-groq-70b-8192-tool-use-preview\"\n",
        "llm =ChatGroq(model_name=MODEL,temperature=0.0,max_tokens=3000)"
      ],
      "metadata": {
        "id": "rrW0HjrLG54X"
      },
      "execution_count": 4,
      "outputs": []
    },
    {
      "cell_type": "markdown",
      "source": [
        "#### Define Relexion Chains"
      ],
      "metadata": {
        "id": "4JgSpatyHp0M"
      }
    },
    {
      "cell_type": "code",
      "source": [
        "import datetime\n",
        "from langchain_core.prompts import ChatPromptTemplate,HumanMessagePromptTemplate,MessagesPlaceholder\n",
        "from langchain_core.output_parsers import PydanticToolsParser,JsonOutputToolsParser\n",
        "#\n",
        "actor_template = ChatPromptTemplate.from_messages([\n",
        "    (\"system\",\"\"\"You are an expert researcher.\n",
        "    Current Time :{time}\n",
        "\n",
        "    1. {first_instruction}\n",
        "    2. Reflect and critique your answer.Be severe to maximize improvement.\n",
        "    3. Recommend search queries to reserch information and improve your answer.\"\"\"\n",
        "    ),\n",
        "    MessagesPlaceholder(variable_name=\"messages\"),\n",
        "    (\"system\",\"Answer the user's question above using the required format.\")\n",
        "]).partial(time=lambda:datetime.datetime.now().strftime(\"%Y-%m-%d %H:%M:%S\"))\n"
      ],
      "metadata": {
        "id": "-TwoS4lwHhId"
      },
      "execution_count": null,
      "outputs": []
    },
    {
      "cell_type": "code",
      "source": [
        "first_responder = actor_template.partial(\n",
        "first_instruction=\"Provide a detailed ~250 word answer to the question.\"\n",
        ") | llm.bind_tools(tools=[AnswerQuestion],tool_choice=\"AnswerQuestion\")\n"
      ],
      "metadata": {
        "id": "D-8lJr8mJg2g"
      },
      "execution_count": null,
      "outputs": []
    },
    {
      "cell_type": "markdown",
      "source": [
        "#### Define Validator Tool"
      ],
      "metadata": {
        "id": "V99hrkItKwYL"
      }
    },
    {
      "cell_type": "code",
      "source": [
        "validator = PydanticToolsParser(tools=[AnswerQuestion])"
      ],
      "metadata": {
        "id": "AcrlAgicKXoR"
      },
      "execution_count": null,
      "outputs": []
    },
    {
      "cell_type": "markdown",
      "source": [
        "#### Reviser tool"
      ],
      "metadata": {
        "id": "-GELZBBdKp8D"
      }
    },
    {
      "cell_type": "code",
      "source": [
        "revise_instructions = \"\"\"Revise your previous answer using the new information.\n",
        "-You should use the previous critique to add important information to your answer.\n",
        "- You MUST include numerical citations in your revised answer to ensure it can be verified.\n",
        "- Add a 'Referrences' section to the bottom of your answer (Which does not count towards the word limit). In form of\n",
        "  - [1] https://example.com\n",
        "  - [2] https://example.com\n",
        "- You should use the previous critique to remove superflous information from your answer and make SURE it is no more than 250 words.\n",
        "\"\"\"\n",
        "revisor = actor_template.partial(\n",
        "first_instruction=revise_instructions\n",
        ") | llm.bind_tools(tools=[ReviseAnswer],tool_choice=\"ReviseAnswer\")"
      ],
      "metadata": {
        "id": "qkJTC2upKr8Y"
      },
      "execution_count": null,
      "outputs": []
    },
    {
      "cell_type": "markdown",
      "source": [
        "#### Define the Tool"
      ],
      "metadata": {
        "id": "MqS6jNmxNPUC"
      }
    },
    {
      "cell_type": "code",
      "source": [
        "from langchain_community.tools.tavily_search import TavilySearchResults\n",
        "from langchain_community.utilities.tavily_search import TavilySearchAPIWrapper\n",
        "from langchain_core.tools import StructuredTool\n",
        "from langgraph.prebuilt import ToolNode\n",
        "#\n",
        "search = TavilySearchAPIWrapper()\n",
        "tavily_tool = TavilySearchResults(api_wrapper=search,max_results=5)\n",
        "#"
      ],
      "metadata": {
        "id": "SjRcF1cBNR1o"
      },
      "execution_count": null,
      "outputs": []
    },
    {
      "cell_type": "code",
      "source": [
        "def run_queries(search_queries:List[str]):\n",
        "  \"\"\"Run the generated queries\"\"\"\n",
        "  return tavily_tool.batch([{\"query\":query} for query in search_queries])"
      ],
      "metadata": {
        "id": "JHkCLBh9N71N"
      },
      "execution_count": null,
      "outputs": []
    },
    {
      "cell_type": "code",
      "source": [
        "tool_node = ToolNode(\n",
        "    [StructuredTool.from_function(run_queries,name=AnswerQuestion.__name__),\n",
        "     StructuredTool.from_function(run_queries,name=ReviseAnswer.__name__),\n",
        "    ]\n",
        ")"
      ],
      "metadata": {
        "id": "fvQlZ9z4OQ6u"
      },
      "execution_count": null,
      "outputs": []
    },
    {
      "cell_type": "markdown",
      "source": [
        "## Define Node"
      ],
      "metadata": {
        "id": "X_IOhbs3es_s"
      }
    },
    {
      "cell_type": "code",
      "source": [
        "from langgraph.graph import START,MessageGraph,StateGraph,END\n",
        "#\n",
        "max_iterations=3\n",
        "builder = MessageGraph()\n",
        "builder.add_node(\"draft\",first_responder)\n",
        "builder.add_node(\"execute_tool\",tool_node)\n",
        "builder.add_node(\"revise\",revisor)\n",
        "#\n",
        "builder.add_edge(\"draft\",\"execute_tool\")\n",
        "builder.add_edge(\"execute_tool\",\"revise\")\n",
        "#"
      ],
      "metadata": {
        "colab": {
          "base_uri": "https://localhost:8080/"
        },
        "id": "P8GK0WlTeu6D",
        "outputId": "cc6aa5f7-d8b5-4003-ea40-928a890a7702"
      },
      "execution_count": null,
      "outputs": [
        {
          "output_type": "execute_result",
          "data": {
            "text/plain": [
              "<langgraph.graph.message.MessageGraph at 0x78407e30e290>"
            ]
          },
          "metadata": {},
          "execution_count": 66
        }
      ]
    },
    {
      "cell_type": "markdown",
      "source": [
        "#### Define Event Loop"
      ],
      "metadata": {
        "id": "NX8_ZbxMgTd7"
      }
    },
    {
      "cell_type": "code",
      "source": [
        "from langchain_core.messages import BaseMessage,ToolMessage\n",
        "from langchain_core.callbacks import CallbackManager\n",
        "max_iterations =2\n",
        "def event_loop(state:List[BaseMessage]):\n",
        "  count_tool_visits = sum(isinstance(item,ToolMessage) for item in state)\n",
        "  if count_tool_visits >= max_iterations:\n",
        "    return END\n",
        "  return \"execute_tool\""
      ],
      "metadata": {
        "id": "ahJE3RmUgVqW"
      },
      "execution_count": null,
      "outputs": []
    },
    {
      "cell_type": "code",
      "source": [
        "builder.add_conditional_edges(\"revise\",event_loop)\n",
        "builder.set_entry_point(\"draft\")\n",
        "graph = builder.compile()"
      ],
      "metadata": {
        "id": "52Eve7HYm-8q"
      },
      "execution_count": null,
      "outputs": []
    },
    {
      "cell_type": "code",
      "source": [
        "from IPython.display import display,Markdown,Image\n",
        "display(Image(graph.get_graph().draw_mermaid_png()))\n",
        "#"
      ],
      "metadata": {
        "colab": {
          "base_uri": "https://localhost:8080/",
          "height": 449
        },
        "id": "K30pjyJ1piZ0",
        "outputId": "30992a8f-bc95-413a-9f4b-9762d9add410"
      },
      "execution_count": null,
      "outputs": [
        {
          "output_type": "display_data",
          "data": {
            "image/png": "[encoded data removed]",
            "text/plain": [
              "<IPython.core.display.Image object>"
            ]
          },
          "metadata": {}
        }
      ]
    },
    {
      "cell_type": "code",
      "source": [
        "res = graph.invoke(\"Write about PydanticAI agent framework.\")"
      ],
      "metadata": {
        "id": "V-JykoH3p5GZ"
      },
      "execution_count": null,
      "outputs": []
    },
    {
      "cell_type": "code",
      "source": [
        "res[-1].tool_calls[0]"
      ],
      "metadata": {
        "colab": {
          "base_uri": "https://localhost:8080/"
        },
        "id": "kujbdyDNp49G",
        "outputId": "31e15597-de5b-4589-bef0-55d66c24f6fc"
      },
      "execution_count": null,
      "outputs": [
        {
          "output_type": "execute_result",
          "data": {
            "text/plain": [
              "{'name': 'ReviseAnswer',\n",
              " 'args': {'answer': 'The PydanticAI agent framework is a powerful tool for building complex AI applications, offering a structured way to define and manage AI agents, efficient communication, and task distribution. It simplifies the development process and ensures applications are scalable and efficient. The framework supports a variety of AI algorithms and can be easily integrated with existing systems, making it a versatile choice for both new and existing projects. For instance, it can be used to create customer service AI agents that assist human agents by automating repetitive tasks, suggesting responses, and streamlining workflows. Additionally, it can be applied in research and document analysis, such as reading unstructured documents, summarizing content, and mapping company names to tickers for investment analysis. Its applications are revolutionizing the way we build intelligent applications, enabling developers to create sophisticated AI systems that can operate autonomously and adapt to complex environments.',\n",
              "  'referrences': ['https://www.chatbase.co/blog/ai-agent-frameworks',\n",
              "   'https://www.insightpartners.com/ideas/state-of-the-ai-agent-ecosystem-use-cases-and-learnings-for-technology-builders-and-buyers',\n",
              "   'https://research.aimultiple.com/agentic-ai',\n",
              "   'https://blog.fabrichq.ai/exploring-ai-agent-examples-real-world-applications-and-use-cases-1c3b469944ef',\n",
              "   'https://www.projectpro.io/article/ai-agent-frameworks/1068'],\n",
              "  'search_queries': ['AI agent framework use cases',\n",
              "   'Benefits of using PydanticAI',\n",
              "   'Real-world applications of PydanticAI'],\n",
              "  'reflection': {'missing': 'Could include specific use cases or examples of applications built with the framework to make the answer more concrete and practical.',\n",
              "   'superflous': \"The description could avoid using general terms like 'powerful' and 'complex', focusing instead on specific features and their applications.\"}},\n",
              " 'id': 'call_6pty',\n",
              " 'type': 'tool_call'}"
            ]
          },
          "metadata": {},
          "execution_count": 75
        }
      ]
    },
    {
      "cell_type": "code",
      "source": [
        "res[-1].tool_calls[0]['args']['answer']"
      ],
      "metadata": {
        "colab": {
          "base_uri": "https://localhost:8080/",
          "height": 123
        },
        "id": "IDySoEjDufyQ",
        "outputId": "6c642c21-fcd3-418a-dd6e-bfa176802ce5"
      },
      "execution_count": null,
      "outputs": [
        {
          "output_type": "execute_result",
          "data": {
            "text/plain": [
              "'Multi-agent frameworks are a type of software that supports the development of multi-agent systems. These frameworks provide a set of tools, libraries, and services that enable the creation of complex systems where multiple agents can interact, collaborate, and adapt to their environment. They are designed to manage the complexity of developing and running multi-agent systems by providing abstractions, APIs, and runtime environments. Key features include agent management, communication protocols, task scheduling, and conflict resolution mechanisms. These frameworks are applied in various domains such as healthcare, transportation, and e-commerce, where distributed problem-solving and decision-making are crucial. They offer benefits like improved system scalability, flexibility, and fault tolerance. Researchers and practitioners use multi-agent frameworks to model and simulate complex scenarios, test algorithms, and validate system designs before deployment. The development of these frameworks is an active area of research, focusing on enhancing performance, security, and usability. For instance, in healthcare, multi-agent systems can significantly improve patient care and outcomes by enabling efficient management of complex scenarios, providing real-time data analysis, and decision support. In addition, multi-agent frameworks can be optimized to use resources more efficiently, reducing the complexity of managing interactions and tasks as the number of agents increases. However, there are limitations to consider, such as scalability and efficiency, particularly in small-scale simulations that may not accurately reflect real-world scenarios. To address these challenges, it is crucial to understand the specific use case and requirements when choosing a multi-agent framework, and to be aware of the top multi-agent frameworks, their strengths, and limitations.'"
            ],
            "application/vnd.google.colaboratory.intrinsic+json": {
              "type": "string"
            }
          },
          "metadata": {},
          "execution_count": 72
        }
      ]
    },
    {
      "cell_type": "code",
      "source": [
        "res[0]"
      ],
      "metadata": {
        "colab": {
          "base_uri": "https://localhost:8080/"
        },
        "id": "xPfott9Hwc79",
        "outputId": "453e7305-fa45-42ef-920d-89e7946d068d"
      },
      "execution_count": null,
      "outputs": [
        {
          "output_type": "execute_result",
          "data": {
            "text/plain": [
              "HumanMessage(content='Write about PydanticAI agent framework.', additional_kwargs={}, response_metadata={}, id='ab675083-e0d6-4d1e-b9ce-5893f2511281')"
            ]
          },
          "metadata": {},
          "execution_count": 77
        }
      ]
    },
    {
      "cell_type": "code",
      "source": [
        "res[1]"
      ],
      "metadata": {
        "id": "wOpKBhfyyMK0",
        "outputId": "5276beb7-67fd-41cf-993c-42175045bc6d",
        "colab": {
          "base_uri": "https://localhost:8080/"
        }
      },
      "execution_count": null,
      "outputs": [
        {
          "output_type": "execute_result",
          "data": {
            "text/plain": [
              "AIMessage(content='', additional_kwargs={'tool_calls': [{'id': 'call_wc24', 'function': {'arguments': '{\"answer\": \"The PydanticAI agent framework is a powerful tool for building complex AI applications. It provides a structured way to define and manage AI agents, allowing for efficient communication and task distribution. With PydanticAI, developers can create a wide range of AI applications, from simple bots to complex multi-agent systems, all within a well-defined and maintainable framework. This not only simplifies the development process but also ensures that the resulting applications are scalable and efficient. Additionally, the framework supports a variety of AI algorithms and can be easily integrated with existing systems, making it a versatile choice for both new and existing projects.\", \"reflection\": {\"missing\": \"Could include specific use cases or examples of applications built with the framework to make the answer more concrete and practical.\", \"superflous\": \"The description could avoid using general terms like \\'powerful\\' and \\'complex\\', focusing instead on specific features and their applications.\"}, \"search_queries\": [\"AI agent framework use cases\", \"Benefits of using PydanticAI\", \"Real-world applications of PydanticAI\"]}', 'name': 'AnswerQuestion'}, 'type': 'function'}]}, response_metadata={'token_usage': {'completion_tokens': 224, 'prompt_tokens': 453, 'total_tokens': 677, 'completion_time': 0.538389564, 'prompt_time': 0.037028079, 'queue_time': 0.0028580200000000028, 'total_time': 0.575417643}, 'model_name': 'llama3-groq-70b-8192-tool-use-preview', 'system_fingerprint': 'fp_ee4b521143', 'finish_reason': 'tool_calls', 'logprobs': None}, id='run-175607c3-59f6-47f1-b4ae-d82d8b510e6f-0', tool_calls=[{'name': 'AnswerQuestion', 'args': {'answer': 'The PydanticAI agent framework is a powerful tool for building complex AI applications. It provides a structured way to define and manage AI agents, allowing for efficient communication and task distribution. With PydanticAI, developers can create a wide range of AI applications, from simple bots to complex multi-agent systems, all within a well-defined and maintainable framework. This not only simplifies the development process but also ensures that the resulting applications are scalable and efficient. Additionally, the framework supports a variety of AI algorithms and can be easily integrated with existing systems, making it a versatile choice for both new and existing projects.', 'reflection': {'missing': 'Could include specific use cases or examples of applications built with the framework to make the answer more concrete and practical.', 'superflous': \"The description could avoid using general terms like 'powerful' and 'complex', focusing instead on specific features and their applications.\"}, 'search_queries': ['AI agent framework use cases', 'Benefits of using PydanticAI', 'Real-world applications of PydanticAI']}, 'id': 'call_wc24', 'type': 'tool_call'}], usage_metadata={'input_tokens': 453, 'output_tokens': 224, 'total_tokens': 677})"
            ]
          },
          "metadata": {},
          "execution_count": 78
        }
      ]
    },
    {
      "cell_type": "markdown",
      "source": [
        "#### Error\n",
        "\n",
        "* BadRequestError: Error code: 400 - {'error': {'message': 'Please reduce the length of the messages or completion.', 'type': 'invalid_request_error', 'param': 'messages', 'code': 'context_length_exceeded'}}\n",
        "\n"
      ],
      "metadata": {
        "id": "LCVjVft1tfJc"
      }
    },
    {
      "cell_type": "markdown",
      "source": [
        "Hypothesis\n",
        "The error message BadRequestError: Error code: 400 - {'error': {'message': 'Please reduce the length of the messages or completion.', 'type': 'invalid_request_error', 'param': 'messages', 'code': 'context_length_exceeded'}} indicates that the request sent to the Groq API is exceeding the maximum context length allowed by the model you are using (llama3-groq-70b-8192-tool-use-preview).\n",
        "\n",
        "This is likely happening because:\n",
        "\n",
        "Accumulation of Messages: The event_loop function allows the graph to iterate multiple times (\"execute_tool\" -> \"revise\"), and with each iteration, the message history grows. After a few iterations, the total length of messages and the new prompt might exceed the model's context window.\n",
        "Long Input Prompt: The initial prompt \"Write about Multi-Agentic Frameworks.\" might already be quite large, especially if previous interactions have added to the message history.\n",
        "Model Limitations: The llama3-groq-70b-8192-tool-use-preview model has a context window limit. When the total length of the messages and the new prompt exceeds this limit, the API returns a 400 error.\n",
        "Suggested Changes\n",
        "To fix this issue, you can try the following:\n",
        "\n",
        "Reduce the Number of Iterations: Reduce the max_iterations value in your event_loop function to limit the number of times the graph iterates and accumulates messages.\n",
        "\n",
        "max_iterations = 1  # Reduced from 2 to 1\n",
        "   def event_loop(state:List[BaseMessage]):\n",
        "     count_tool_visits = sum(isinstance(item,ToolMessage) for item in state)\n",
        "     if count_tool_visits >= max_iterations:\n",
        "       return END\n",
        "     return \"execute_tool\"\n",
        "Use code with caution\n",
        "Shorten the Input Prompt: Try providing a shorter, more specific initial prompt to reduce the initial context size. For example, instead of \"Write about Multi-Agentic Frameworks.\", you could try \"Explain the key concepts of Multi-Agentic Frameworks.\"\n",
        "\n",
        "Memory Management: Implement a memory management strategy to trim the conversation history. You could keep only the most recent or relevant messages, summarize previous exchanges, or use a sliding window to limit the history size. LangChain offers various memory implementations that can be integrated into your chain.\n",
        "\n",
        "Increase max_tokens in llm instantiation: If possible, increase the max_tokens parameter when instantiating the ChatGroq object. However, be mindful of the model's context window limit.\n",
        "\n",
        "\n",
        "llm = ChatGroq(model_name=MODEL, temperature=0.0, max_tokens=2000)  # Increased max_tokens\n",
        "Use code with caution\n",
        "By implementing these changes, you can reduce the likelihood of exceeding the context window limit and avoid the BadRequestError. Remember to experiment with different approaches to find the best solution for your specific use case.\n",
        "\n",
        "Sources"
      ],
      "metadata": {
        "id": "o_mpHW7Atneh"
      }
    },
    {
      "cell_type": "markdown",
      "source": [
        "## Method 2"
      ],
      "metadata": {
        "id": "id2DqOpeNvbf"
      }
    },
    {
      "cell_type": "code",
      "source": [
        "from typing import List\n",
        "from pydantic import BaseModel,Field\n",
        "#\n",
        "class AnswerQuestion(BaseModel):\n",
        "  print(\"----------ANSWER QUESTION------------------\")\n",
        "  answer:str = Field(description=\"`250 word detailed answer to the question.Content should be in MARKDOWN Format\")\n",
        "  missing: str = Field(description=\"Critique of what is missing.\")\n",
        "  superflous:str = Field(description=\"Critique of what is superflous\")\n",
        "  search_queries:List[str] = Field(description=\"1-3 search queries for researching improvements to address the critique of your current answer.\")\n",
        "\n",
        "#\n",
        "#forcing citations in the model encourages ground responses\n",
        "class ReviseAnswer(BaseModel):\n",
        "  print(\"----------REVISE ANSWER------------------\")\n",
        "  answer:str = Field(description=\"`250 word detailed answer to the question.\")\n",
        "  missing: str = Field(description=\"Critique of what is missing.\")\n",
        "  superflous:str = Field(description=\"Critique of what is superflous\")\n",
        "  search_queries:List[str] = Field(description=\"1-3 search queries for researching improvements to address the critique of your current answer.\")\n",
        "  referrences: List[str] = Field(description=\"List of Citations motivating your updated answer.\")\n"
      ],
      "metadata": {
        "colab": {
          "base_uri": "https://localhost:8080/"
        },
        "id": "IprO7WjWgp_r",
        "outputId": "339a7e39-4683-4e23-f2c8-4a3be669fe50"
      },
      "execution_count": 343,
      "outputs": [
        {
          "output_type": "stream",
          "name": "stdout",
          "text": [
            "----------ANSWER QUESTION------------------\n",
            "----------REVISE ANSWER------------------\n"
          ]
        }
      ]
    },
    {
      "cell_type": "code",
      "source": [
        "ReviseAnswer"
      ],
      "metadata": {
        "colab": {
          "base_uri": "https://localhost:8080/",
          "height": 186
        },
        "id": "9e75M88pj2mR",
        "outputId": "cad757ed-70ba-4094-f746-3dae471ad32b"
      },
      "execution_count": 73,
      "outputs": [
        {
          "output_type": "execute_result",
          "data": {
            "text/plain": [
              "__main__.ReviseAnswer"
            ],
            "text/html": [
              "<div style=\"max-width:800px; border: 1px solid var(--colab-border-color);\"><style>\n",
              "      pre.function-repr-contents {\n",
              "        overflow-x: auto;\n",
              "        padding: 8px 12px;\n",
              "        max-height: 500px;\n",
              "      }\n",
              "\n",
              "      pre.function-repr-contents.function-repr-contents-collapsed {\n",
              "        cursor: pointer;\n",
              "        max-height: 100px;\n",
              "      }\n",
              "    </style>\n",
              "    <pre style=\"white-space: initial; background:\n",
              "         var(--colab-secondary-surface-color); padding: 8px 12px;\n",
              "         border-bottom: 1px solid var(--colab-border-color);\"><b>ReviseAnswer</b><br/>def __init__(self, /, **data: Any) -&gt; None</pre><pre class=\"function-repr-contents function-repr-contents-collapsed\" style=\"\"><a class=\"filepath\" style=\"display:none\" href=\"#\"></a>Usage docs: https://docs.pydantic.dev/2.10/concepts/models/\n",
              "\n",
              "A base class for creating Pydantic models.\n",
              "\n",
              "Attributes:\n",
              "    __class_vars__: The names of the class variables defined on the model.\n",
              "    __private_attributes__: Metadata about the private attributes of the model.\n",
              "    __signature__: The synthesized `__init__` [`Signature`][inspect.Signature] of the model.\n",
              "\n",
              "    __pydantic_complete__: Whether model building is completed, or if there are still undefined fields.\n",
              "    __pydantic_core_schema__: The core schema of the model.\n",
              "    __pydantic_custom_init__: Whether the model has a custom `__init__` function.\n",
              "    __pydantic_decorators__: Metadata containing the decorators defined on the model.\n",
              "        This replaces `Model.__validators__` and `Model.__root_validators__` from Pydantic V1.\n",
              "    __pydantic_generic_metadata__: Metadata for generic models; contains data used for a similar purpose to\n",
              "        __args__, __origin__, __parameters__ in typing-module generics. May eventually be replaced by these.\n",
              "    __pydantic_parent_namespace__: Parent namespace of the model, used for automatic rebuilding of models.\n",
              "    __pydantic_post_init__: The name of the post-init method for the model, if defined.\n",
              "    __pydantic_root_model__: Whether the model is a [`RootModel`][pydantic.root_model.RootModel].\n",
              "    __pydantic_serializer__: The `pydantic-core` `SchemaSerializer` used to dump instances of the model.\n",
              "    __pydantic_validator__: The `pydantic-core` `SchemaValidator` used to validate instances of the model.\n",
              "\n",
              "    __pydantic_fields__: A dictionary of field names and their corresponding [`FieldInfo`][pydantic.fields.FieldInfo] objects.\n",
              "    __pydantic_computed_fields__: A dictionary of computed field names and their corresponding [`ComputedFieldInfo`][pydantic.fields.ComputedFieldInfo] objects.\n",
              "\n",
              "    __pydantic_extra__: A dictionary containing extra values, if [`extra`][pydantic.config.ConfigDict.extra]\n",
              "        is set to `&#x27;allow&#x27;`.\n",
              "    __pydantic_fields_set__: The names of fields explicitly set during instantiation.\n",
              "    __pydantic_private__: Values of private attributes set on the model instance.</pre></div>"
            ]
          },
          "metadata": {},
          "execution_count": 73
        }
      ]
    },
    {
      "cell_type": "code",
      "source": [
        "from typing import TypedDict,List\n",
        "## State\n",
        "class GraphState(TypedDict):\n",
        "  missing: str\n",
        "  superflous:str\n",
        "  referrences : List[str]\n",
        "  question : str\n",
        "  answer : str\n",
        "  search_queries:List[str]\n",
        "  curent_time:str\n",
        "  tool_iteration:int\n",
        "  max_iterations : int\n"
      ],
      "metadata": {
        "id": "dpb4O5WOtScs"
      },
      "execution_count": 344,
      "outputs": []
    },
    {
      "cell_type": "markdown",
      "source": [
        "## Define Nodes"
      ],
      "metadata": {
        "id": "BrB3DmOIOidt"
      }
    },
    {
      "cell_type": "code",
      "source": [
        "from langchain_core.prompts import PromptTemplate\n",
        "from langchain_core.output_parsers import PydanticOutputParser,JsonOutputParser\n",
        "from langchain.output_parsers import OutputFixingParser"
      ],
      "metadata": {
        "id": "xdX7zxVxRUyY"
      },
      "execution_count": 345,
      "outputs": []
    },
    {
      "cell_type": "code",
      "source": [
        "def first_responder(state:GraphState):\n",
        "  print(\"----------------FIRST RESPONDER-------------------\")\n",
        "  question = state[\"question\"]\n",
        "  current_time = state[\"curent_time\"]\n",
        "  prompt_template = \"\"\"You are an expert researcher.\n",
        "    Current Time :{current_time}\n",
        "    Question : {question}\n",
        "    1. Provide a detailed ~250 word answer to the question.\n",
        "    2. Reflect and critique your answer.Be severe to maximize improvement.\n",
        "    3. Recommend search queries to reserch information and improve your answer.\n",
        "   Answer the user's question above using the required format.\n",
        "   Provide the Response in a JSON format with key variables as 'answer' , 'missing', 'superflous' and 'search_queries'\"\"\"\n",
        "\n",
        "  prompt = PromptTemplate(template=prompt_template,input_variables=[\"question\",\"current_time\"])\n",
        "  parser  = JsonOutputParser(pydantic_object=AnswerQuestion)\n",
        "  responder_chain = prompt | llm | parser\n",
        "  response =  responder_chain.invoke({\"question\":question,\"current_time\":current_time})\n",
        "  print(response)\n",
        "  try:\n",
        "    pass\n",
        "  except Exception as e:\n",
        "    print(f\"Error:{e}\")\n",
        "    new_parser = OutputFixingParser.from_llm(parser=parser,llm=llm)\n",
        "    response = new_parser.parse(response)\n",
        "\n",
        "  return {\"question\":question,\"answer\":response['answer'],\"missing\":response.get('missing',''),\"superflous\":response.get('superflous',''), \"search_queries\": response['search_queries']}"
      ],
      "metadata": {
        "id": "OjwgdNUhOhbN"
      },
      "execution_count": 372,
      "outputs": []
    },
    {
      "cell_type": "markdown",
      "source": [
        "## External Tool"
      ],
      "metadata": {
        "id": "wCjU1D4NVMXr"
      }
    },
    {
      "cell_type": "code",
      "source": [
        "from langchain_community.tools.tavily_search import TavilySearchResults\n",
        "from langchain_community.utilities.tavily_search import TavilySearchAPIWrapper\n",
        "from langchain_core.tools import StructuredTool\n",
        "from langgraph.prebuilt import ToolNode\n",
        "#\n",
        "search = TavilySearchAPIWrapper()\n",
        "tavily_tool = TavilySearchResults(api_wrapper=search,max_results=5)\n"
      ],
      "metadata": {
        "id": "8rLRNLIwVQ8S"
      },
      "execution_count": 357,
      "outputs": []
    },
    {
      "cell_type": "code",
      "source": [
        "r = tavily_tool.run(\"Write about PydanticAI agent framework.\")"
      ],
      "metadata": {
        "id": "vOmhob1muyth"
      },
      "execution_count": 348,
      "outputs": []
    },
    {
      "cell_type": "code",
      "source": [
        "len(r)"
      ],
      "metadata": {
        "colab": {
          "base_uri": "https://localhost:8080/"
        },
        "id": "cvyeO9ezu4wB",
        "outputId": "b1c399af-91b6-4166-b94b-3b31e31446ef"
      },
      "execution_count": 154,
      "outputs": [
        {
          "output_type": "execute_result",
          "data": {
            "text/plain": [
              "5"
            ]
          },
          "metadata": {},
          "execution_count": 154
        }
      ]
    },
    {
      "cell_type": "code",
      "source": [
        "r[0]"
      ],
      "metadata": {
        "colab": {
          "base_uri": "https://localhost:8080/"
        },
        "id": "rYTy6Quw0w3b",
        "outputId": "9ec1ee93-ae22-408c-fe07-4bc40798e514"
      },
      "execution_count": 155,
      "outputs": [
        {
          "output_type": "execute_result",
          "data": {
            "text/plain": [
              "{'url': 'https://medium.com/ai-agent-insider/pydantic-ai-agent-framework-02b138e8db71',\n",
              " 'content': 'Pydantic AI: Agent Framework. Pydantic AI: Agent Framework Pydantic AI: Agent Framework AI Agent Insider Pydantic AI is a Python framework that acts as a bridge between developers and LLMs, providing tools to create agents — entities that execute specific tasks based on system prompts, functions, and structured outputs. In Pydantic AI, an agent is a unit that combines the following components: Here’s a basic example of using Pydantic AI to create an agent that responds to user queries: from pydantic_ai import Agent, RunContext   from pydantic_ai import Agent Install Pydantic AI today and build your first agent! Pydantic Ai Agent Published in AI Agent Insider ----------------------------- AI Agent Insider AI Agent Insider See all from AI Agent Insider'}"
            ]
          },
          "metadata": {},
          "execution_count": 155
        }
      ]
    },
    {
      "cell_type": "code",
      "source": [
        "def run_queries(state:GraphState):\n",
        "  print(\"----------------TAVILY SEARCH RUN QUERIES-------------------\")\n",
        "  search_queries = state.get(\"search_queries\",'')\n",
        "  if search_queries == '':\n",
        "    queries = [state['question']]\n",
        "  else:\n",
        "    queries = search_queries\n",
        "\n",
        "  response = tavily_tool.batch([{\"query\":query} for query in search_queries])\n",
        "  print(f\"TAVILY Response :{response}\")\n",
        "  return {\"referrences\":response}\n",
        "#"
      ],
      "metadata": {
        "id": "K7AKFURrVg52"
      },
      "execution_count": 358,
      "outputs": []
    },
    {
      "cell_type": "markdown",
      "source": [
        "## Define Reviser Agent"
      ],
      "metadata": {
        "id": "hsrVHZy6WJq_"
      }
    },
    {
      "cell_type": "code",
      "source": [
        "def revise_answer(state:GraphState):\n",
        "  print(\"----------------REVISER AGENT-------------------\")\n",
        "  revise_instructions = \"\"\"Revise your previous answer using the new information.The revised answer should be meaningful and SHOULD INCLUDE Citations.\n",
        "  PREVIOUS CRITIQUE INFORMATION\n",
        "  Missing: {missing}\n",
        "  Superflous: {superflous}\n",
        "\n",
        "  NEW INFORMATION\n",
        "  {referrences}\n",
        "\n",
        "-You should use the previous critique to add important information to your answer.\n",
        "- You MUST include numerical citations in your revised answer to ensure it can be verified.\n",
        "- Add a 'Referrences' section to the bottom of your answer (Which does not count towards the word limit). In form of\n",
        "  - [1] https://example.com\n",
        "  - [2] https://example.com\n",
        "- You should use the previous critique to remove superflous information from your answer and make SURE it is no more than 250 words.\n",
        "- The content for the JSON key 'answer' should be in MARKDOWN Format,should include citations and should have a professional tone.\n",
        "STRICTLY Provide the Response in a JSON format with key variables as 'answer','missing','superflous','search_queries and 'referrences'\n",
        "\"\"\"\n",
        "  prompt_template = PromptTemplate(template=revise_instructions,input_variables=[\"missing\",\"superflous\",\"referrences\"])\n",
        "  parser  = JsonOutputParser(pydantic_object=ReviseAnswer)\n",
        "  inputs = {\"missing\":state[\"missing\"],\"superflous\":state[\"superflous\"],\"referrences\":state[\"referrences\"]}\n",
        "\n",
        "  urls = []\n",
        "  revise_chain  = prompt_template | llm\n",
        "  response = revise_chain.invoke(inputs)\n",
        "  print(f\"Revised Respponse:{response.content}\")\n",
        "  try:\n",
        "    response = parser.parse(response.content)\n",
        "  except Exception as e:\n",
        "    print(f\"Error:{e}\")\n",
        "    new_parser = OutputFixingParser.from_llm(parser=parser,llm=llm)\n",
        "    response = new_parser.parse(response.content)\n",
        "  print(f\"Revised Respponse:{response.keys()}\")\n",
        "  custom_tool_iteration = state['tool_iteration'] + 1\n",
        "\n",
        "  return {\"question\":state['question'],\"answer\":response['answer'],\"missing\":response.get('missing',''),\"superflous\":response.get('superflous',''), \"search_queries\": response.get('search_queries',\"\"),\"referrences\":response.get('references',''),'tool_iteration':custom_tool_iteration}"
      ],
      "metadata": {
        "id": "SXUt2u5MWMmA"
      },
      "execution_count": 374,
      "outputs": []
    },
    {
      "cell_type": "markdown",
      "source": [
        "## Decide to generate"
      ],
      "metadata": {
        "id": "WLJbYWdXaB79"
      }
    },
    {
      "cell_type": "code",
      "source": [
        "def decide_to_generate(state:GraphState):\n",
        "  print(\"----------------DECIDE TO GENERATE-------------------\")\n",
        "  print(f\"States :{state}\")\n",
        "  count_tool_visits = state[\"tool_iteration\"] + 1\n",
        "  max_iteration = state[\"max_iterations\"]\n",
        "  if count_tool_visits >= max_iterations or state['search_queries'] == '':\n",
        "    return END\n",
        "  else:\n",
        "    count_tool_visits += 1\n",
        "    state[\"tool_iteration\"] = count_tool_visits\n",
        "    return \"execute_tool\"\n",
        "\n",
        "\n",
        "\n"
      ],
      "metadata": {
        "id": "0k8a0uKlaEdS"
      },
      "execution_count": 369,
      "outputs": []
    },
    {
      "cell_type": "markdown",
      "source": [
        "## Add Nodes"
      ],
      "metadata": {
        "id": "B4ZNJLdEaqkO"
      }
    },
    {
      "cell_type": "code",
      "source": [
        "from langgraph.graph import START,StateGraph,END\n",
        "#\n",
        "builder = StateGraph(GraphState)\n",
        "builder.add_node(\"draft\",first_responder)\n",
        "builder.add_node(\"execute_tool\",run_queries)\n",
        "builder.add_node(\"revise\",revise_answer)\n",
        "#\n",
        "builder.add_edge(\"draft\",\"execute_tool\")\n",
        "builder.add_edge(\"execute_tool\",\"revise\")\n",
        "#\n",
        "builder.add_conditional_edges(\"revise\",decide_to_generate)\n",
        "builder.set_entry_point(\"draft\")\n",
        "graph = builder.compile()"
      ],
      "metadata": {
        "id": "IoJAQPAlasOd"
      },
      "execution_count": 375,
      "outputs": []
    },
    {
      "cell_type": "markdown",
      "source": [
        "## View Langgraph"
      ],
      "metadata": {
        "id": "nRsfN3vMbiJ7"
      }
    },
    {
      "cell_type": "code",
      "source": [
        "from IPython.display import display,Markdown,Image\n",
        "display(Image(graph.get_graph().draw_mermaid_png()))\n",
        "#"
      ],
      "metadata": {
        "colab": {
          "base_uri": "https://localhost:8080/",
          "height": 449
        },
        "id": "lc0it20NbkO7",
        "outputId": "6166b983-71cd-4fce-f794-7a0c053c5b01"
      },
      "execution_count": 362,
      "outputs": [
        {
          "output_type": "display_data",
          "data": {
            "image/png": "[encoded data removed]",
            "text/plain": [
              "<IPython.core.display.Image object>"
            ]
          },
          "metadata": {}
        }
      ]
    },
    {
      "cell_type": "code",
      "source": [
        "import datetime\n",
        "from langchain_groq import ChatGroq\n",
        "llm = ChatGroq(model_name=\"llama3-8b-8192\",temperature=0.0,max_tokens=3000)\n",
        "query = \"Write about PydanticAI agent framework.\"\n",
        "current_time = datetime.datetime.now().strftime(\"%Y-%m-%d %H:%M:%S\")\n",
        "inputs = {\"question\":query,\"curent_time\":current_time,\"tool_iteration\":0,\"max_iterations\":2}\n",
        "res = graph.invoke(inputs)"
      ],
      "metadata": {
        "colab": {
          "base_uri": "https://localhost:8080/"
        },
        "id": "P7pD26Tbb4Xo",
        "outputId": "2bcbac65-8ed6-412e-9629-36f132f6b9f0"
      },
      "execution_count": 339,
      "outputs": [
        {
          "output_type": "stream",
          "name": "stdout",
          "text": [
            "----------------FIRST RESPONDER-------------------\n",
            "{'answer': 'PydanticAI is an open-source, Python-based agent framework designed for building and deploying artificial intelligence (AI) and machine learning (ML) models. It provides a modular architecture that enables developers to create, train, and deploy AI agents that can interact with various environments, such as games, simulations, and real-world scenarios.\\n\\nPydanticAI is built on top of the Pydantic library, which provides a robust and flexible way to define and validate data models. The framework includes a range of features, such as support for reinforcement learning, imitation learning, and transfer learning, making it suitable for a wide range of AI applications.\\n\\nOne of the key benefits of PydanticAI is its ability to simplify the development and deployment of AI agents. It provides a high-level API that abstracts away many of the low-level details of AI development, allowing developers to focus on the logic and strategy of their agents rather than the underlying implementation.\\n\\nPydanticAI has been used in a variety of applications, including robotics, autonomous vehicles, and game development. Its modular architecture and flexible design make it a popular choice among researchers and developers working on AI-related projects.\\n\\nOverall, PydanticAI is a powerful and flexible agent framework that provides a solid foundation for building and deploying AI models. Its ease of use, flexibility, and scalability make it an attractive choice for developers and researchers working on AI-related projects.', 'missing': ['more information on the architecture and design of PydanticAI', 'specific examples of AI applications built using PydanticAI'], 'superflous': ['none'], 'search_queries': ['PydanticAI architecture', 'PydanticAI features', 'PydanticAI applications', 'PydanticAI vs other AI frameworks']}\n",
            "----------------TAVILY SEARCH RUN QUERIES-------------------\n",
            "TAVILY Response :[[{'url': 'https://www.infoq.com/news/2024/12/pydanticai-framework-gen-ai/', 'content': \"PydanticAI: A New Python Framework for Streamlined Generative AI Development - InfoQ InfoQ Homepage News PydanticAI: A New Python Framework for Streamlined Generative AI Development The team behind Pydantic, widely used for data validation in Python, has announced the release of PydanticAI, a Python-based agent framework designed to ease the development of production-ready Generative AI applications. PydanticAI stands out with a range of features designed to simplify and enhance Generative AI application development: PydanticAI's focus on type safety, straightforward design, and compatibility with Python development practices positions it as a practical tool for creating Generative AI applications. Level-up on 15 major software and leadership topics including; The Tech of FinTech, AI & ML in Software Engineering, Modern Data Architectures, Engineering Productivity, The Path to Senior Engineering Leadership, Supply Chain Security, and more.\"}, {'url': 'https://github.com/pydantic/pydantic-ai', 'content': \"GitHub - pydantic/pydantic-ai: Agent Framework / shim to use Pydantic with LLMs Agent Framework / shim to use Pydantic with LLMs Agent Framework / shim to use Pydantic with LLMs PydanticAI is a Python Agent Framework designed to make it less painful to build production grade applications with Generative AI. from pydantic_ai import Agent Here is a concise example using PydanticAI to build a support agent for a bank: from pydantic_ai import Agent, RunContext This pydantic model defines the structure of the result returned by the agent. In this case, the support agent has type Agent[SupportDependencies, SupportResult]. @support_agent.system_prompt result = await support_agent.run('What is my balance?', deps=deps) result = await support_agent.run('I just lost my card!', deps=deps) Agent Framework / shim to use Pydantic with LLMs\"}, {'url': 'https://medium.com/ai-agent-insider/pydantic-ai-agent-framework-02b138e8db71', 'content': 'Pydantic AI: Agent Framework. Pydantic AI: Agent Framework Pydantic AI: Agent Framework AI Agent Insider Pydantic AI is a Python framework that acts as a bridge between developers and LLMs, providing tools to create agents — entities that execute specific tasks based on system prompts, functions, and structured outputs. In Pydantic AI, an agent is a unit that combines the following components: Here’s a basic example of using Pydantic AI to create an agent that responds to user queries: from pydantic_ai import Agent, RunContext   from pydantic_ai import Agent Install Pydantic AI today and build your first agent! Pydantic Ai Agent Published in AI Agent Insider ----------------------------- AI Agent Insider AI Agent Insider See all from AI Agent Insider'}, {'url': 'https://ai.pydantic.dev/', 'content': \"pydantic_ai.Agent from pydantic_ai import Agent Here is a concise example using PydanticAI to build a support agent for a bank: from pydantic_ai import Agent, RunContext @support_agent.system_prompt  # (5)! result = await support_agent.run('What is my balance?', deps=deps)  # (8)! result = await support_agent.run('I just lost my card!', deps=deps) PydanticAI's system of dependency injection provides a type-safe way to customise the behavior of your agents, and can be especially useful when running unit tests and evals. This Pydantic model is used to constrain the structured data returned by the agent. To understand the flow of the above runs, we can watch the agent in action using Pydantic Logfire.\"}, {'url': 'https://medium.com/data-science-in-your-pocket/pydanticai-pydantic-ai-agent-framework-for-llms-6c60c86e0e48', 'content': 'PydanticAI: Pydantic AI Agent Framework for LLMs | by Mehul Gupta | Data Science in your pocket | Dec, 2024 | Medium PydanticAI: Pydantic AI Agent Framework for LLMs Of all the releases so far, PydanticAI agentic framework appears to be the most useful and important release due to its support for Pydantic with LLMs If the user submits invalid data (e.g., \"age\": \"twenty-five\"), Pydantic will throw an error automatically: from pydantic_ai import Agent, RunContext   Purpose: Defines dependencies the agent needs, like the customer ID and a database connection (db). Use: Passed to the agent to access customer-specific data during queries By leveraging Pydantic’s data validation capabilities and integrating seamlessly with LLMs, it ensures structured, type-safe, and secure interactions.'}], [{'url': 'https://www.infoq.com/news/2024/12/pydanticai-framework-gen-ai/', 'content': \"PydanticAI: A New Python Framework for Streamlined Generative AI Development - InfoQ InfoQ Homepage News PydanticAI: A New Python Framework for Streamlined Generative AI Development The team behind Pydantic, widely used for data validation in Python, has announced the release of PydanticAI, a Python-based agent framework designed to ease the development of production-ready Generative AI applications. PydanticAI stands out with a range of features designed to simplify and enhance Generative AI application development: PydanticAI's focus on type safety, straightforward design, and compatibility with Python development practices positions it as a practical tool for creating Generative AI applications. Level-up on 15 major software and leadership topics including; The Tech of FinTech, AI & ML in Software Engineering, Modern Data Architectures, Engineering Productivity, The Path to Senior Engineering Leadership, Supply Chain Security, and more.\"}, {'url': 'https://aipure.ai/products/pydantic-ai/introduction', 'content': \"PydanticAI is a Python Agent Framework that streamlines the development of production-grade AI applications by combining Pydantic's powerful data validation with LLM integration, offering type-safe dependency injection and model-agnostic support. PydanticAI is an innovative agent framework developed by the team behind Pydantic, designed to simplify the process of building production-grade applications with Generative AI. The framework also supports streamed responses and can validate structured responses using Pydantic models, making it particularly powerful for complex AI applications that require reliable data handling. CopilotForXcode is an Xcode Source Editor Extension that integrates GitHub Copilot, Codeium, and ChatGPT to provide AI-powered code suggestions, chat assistance, and prompt-to-code functionality within Xcode. BLACKBOX AI is an AI-powered coding assistant that helps developers write, debug, and optimize code faster through code generation, chat, and search capabilities.\"}, {'url': 'https://aipure.ai/products/pydantic-ai/features', 'content': \"PydanticAI is a Python Agent Framework that streamlines the development of production-grade AI applications by combining Pydantic's powerful data validation with LLM integration, offering type-safe dependency injection and model-agnostic support. PydanticAI is a Python Agent Framework designed for building production-grade applications with Generative AI, developed by the team behind Pydantic. Cart.ai is an AI-powered service platform that provides comprehensive business automation solutions including coding, customer relations management, video editing, e-commerce setup, and custom AI development with 24/7 support. GitHub Copilot Chat is an AI-powered coding assistant that provides natural language interactions, real-time code suggestions, and contextual support directly within supported IDEs and GitHub.com. CopilotForXcode is an Xcode Source Editor Extension that integrates GitHub Copilot, Codeium, and ChatGPT to provide AI-powered code suggestions, chat assistance, and prompt-to-code functionality within Xcode.\"}, {'url': 'https://www.analyticsvidhya.com/blog/2024/12/pydanticai/', 'content': 'This blog post explores an innovative approach to SQL-code generation and SQL code explanation using the Latest PydanticAI Framework and Google’s Gemini-1.5 model, demonstrating how cutting-edge AI technologies can streamline and enhance database query development. PydanticAI is a Python Agent framework developed by the creator of Pydantic, FastAPI to streamline the construction of production-grade applications utilizing Generative AI, It emphasizes type safety, model-agnostic design, and seamless integration with large language models (LLMs). Generative AI| Large Language Models| Building LLM Applications using Prompt Engineering| Building Your first RAG System using LlamaIndex| Stability.AI| MidJourney| Building Production Ready RAG systems using LlamaIndex| Building LLMs for Code| Deep Learning| Python| Microsoft Excel| Machine Learning| Decision Trees| Pandas for Data Analysis| Ensemble Learning| NLP| NLP using Deep Learning| Neural Networks| Loan Prediction Practice Problem| Time Series Forecasting| Tableau| Business Analytics'}, {'url': 'https://medium.com/@samarrana407/pydantic-ai-the-python-agent-framework-to-build-production-grade-ai-agents-0ce322654fd7', 'content': 'Pydantic AI: The Python Agent Framework to BUILD Production-Grade AI Agents! | by Samar Singh | Dec, 2024 | Medium Pydantic AI: The Python Agent Framework to BUILD Production-Grade AI Agents! Samar Singh Now, its creators are venturing into the cutting-edge domain of AI with Pydantic AI, a framework designed for building production-grade applications powered by Generative AI. In this article, we’ll delve into what makes Pydantic AI unique, its key features, and how it compares to other agent frameworks. Why Pydantic AI? Pydantic AI builds on the trusted foundation of Pydantic, which powers popular Python libraries like FastAPI, LangChain, and AutoGPT. Production-Readiness: A focus on building robust applications with dynamic prompts, structured responses, and integration with observability tools like Logfire. Written by Samar Singh ----------------------'}], [{'url': 'https://www.infoq.com/news/2024/12/pydanticai-framework-gen-ai/', 'content': \"PydanticAI: A New Python Framework for Streamlined Generative AI Development - InfoQ InfoQ Homepage News PydanticAI: A New Python Framework for Streamlined Generative AI Development The team behind Pydantic, widely used for data validation in Python, has announced the release of PydanticAI, a Python-based agent framework designed to ease the development of production-ready Generative AI applications. PydanticAI stands out with a range of features designed to simplify and enhance Generative AI application development: PydanticAI's focus on type safety, straightforward design, and compatibility with Python development practices positions it as a practical tool for creating Generative AI applications. Level-up on 15 major software and leadership topics including; The Tech of FinTech, AI & ML in Software Engineering, Modern Data Architectures, Engineering Productivity, The Path to Senior Engineering Leadership, Supply Chain Security, and more.\"}, {'url': 'https://www.analyticsvidhya.com/blog/2024/12/pydanticai/', 'content': 'This blog post explores an innovative approach to SQL-code generation and SQL code explanation using the Latest PydanticAI Framework and Google’s Gemini-1.5 model, demonstrating how cutting-edge AI technologies can streamline and enhance database query development. PydanticAI is a Python Agent framework developed by the creator of Pydantic, FastAPI to streamline the construction of production-grade applications utilizing Generative AI, It emphasizes type safety, model-agnostic design, and seamless integration with large language models (LLMs). Generative AI| Large Language Models| Building LLM Applications using Prompt Engineering| Building Your first RAG System using LlamaIndex| Stability.AI| MidJourney| Building Production Ready RAG systems using LlamaIndex| Building LLMs for Code| Deep Learning| Python| Microsoft Excel| Machine Learning| Decision Trees| Pandas for Data Analysis| Ensemble Learning| NLP| NLP using Deep Learning| Neural Networks| Loan Prediction Practice Problem| Time Series Forecasting| Tableau| Business Analytics'}, {'url': 'https://medium.com/@gopiariv/a-comprehensive-introduction-to-pydanticai-building-production-grade-llm-applications-part-1-9cd6c01183ce', 'content': 'A Comprehensive Introduction to PydanticAI: Building Production-Grade LLM Applications | by Gopi Arivalagan | Dec, 2024 | Medium A Comprehensive Introduction to PydanticAI: Building Production-Grade LLM Applications PydanticAI is a powerful Python framework designed by the team behind Pydantic for building production-grade applications with Large Language Models (LLMs). Built by the Pydantic team (the validation layer used by OpenAI SDK, Anthropic SDK, LangChain, etc.) Structured response validation using Pydantic Streamed responses with validation support Let’s explore PydanticAI through a series of examples, starting simple and gradually adding more advanced features. Let’s start with a simple example that creates a city information agent: from pydantic import BaseModel from pydantic_ai import Agent   city: str # Create our agent agent = Agent( Follow 7 Followers ·23 Following Follow No responses yet'}, {'url': 'https://github.com/pydantic/pydantic-ai', 'content': \"GitHub - pydantic/pydantic-ai: Agent Framework / shim to use Pydantic with LLMs Agent Framework / shim to use Pydantic with LLMs Agent Framework / shim to use Pydantic with LLMs PydanticAI is a Python Agent Framework designed to make it less painful to build production grade applications with Generative AI. from pydantic_ai import Agent Here is a concise example using PydanticAI to build a support agent for a bank: from pydantic_ai import Agent, RunContext This pydantic model defines the structure of the result returned by the agent. In this case, the support agent has type Agent[SupportDependencies, SupportResult]. @support_agent.system_prompt result = await support_agent.run('What is my balance?', deps=deps) result = await support_agent.run('I just lost my card!', deps=deps) Agent Framework / shim to use Pydantic with LLMs\"}, {'url': 'https://github.com/cloutprotocol/pydantic-ai', 'content': 'GitHub - cloutprotocol/pydantic-ai: Collection of practical examples using PydanticAI for building LLM-powered applications GitHub Copilot Write better code with AI Code Search Find more, search less GitHub Copilot Enterprise-grade AI features Search code, repositories, users, issues, pull requests... Search Collection of practical examples using PydanticAI for building LLM-powered applications 0 stars 0 forks Branches Tags Activity examples examples .env.example .env.example Repository files navigation PydanticAI Examples This repository contains practical examples of using PydanticAI for building LLM-powered applications. git clone https://github.com/cloutprotocol/pydantic-ai.git Examples Data Analyzer: Example of using PydanticAI for structured data analysis python examples/recipe_generator.py python examples/customer_support.py Type Safety: All examples use Pydantic models for type-safe inputs and outputs Collection of practical examples using PydanticAI for building LLM-powered applications © 2024 GitHub,\\xa0Inc. Footer navigation'}], [{'url': 'https://medium.com/@samarrana407/pydantic-ai-the-python-agent-framework-to-build-production-grade-ai-agents-0ce322654fd7', 'content': 'Pydantic AI: The Python Agent Framework to BUILD Production-Grade AI Agents! | by Samar Singh | Dec, 2024 | Medium Pydantic AI: The Python Agent Framework to BUILD Production-Grade AI Agents! Samar Singh Now, its creators are venturing into the cutting-edge domain of AI with Pydantic AI, a framework designed for building production-grade applications powered by Generative AI. In this article, we’ll delve into what makes Pydantic AI unique, its key features, and how it compares to other agent frameworks. Why Pydantic AI? Pydantic AI builds on the trusted foundation of Pydantic, which powers popular Python libraries like FastAPI, LangChain, and AutoGPT. Production-Readiness: A focus on building robust applications with dynamic prompts, structured responses, and integration with observability tools like Logfire. Written by Samar Singh ----------------------'}, {'url': 'https://aipure.ai/products/pydantic-ai', 'content': \"PydanticAI is a Python Agent Framework that streamlines the development of production-grade AI applications by combining Pydantic's powerful data validation with LLM integration, offering type-safe dependency injection and model-agnostic support. PydanticAI is an innovative agent framework developed by the team behind Pydantic, designed to simplify the process of building production-grade applications with Generative AI. PydanticAI is a Python Agent Framework designed for building production-grade applications with Generative AI, developed by the team behind Pydantic. PydanticAI is a Python Agent Framework designed to build production-grade applications with Generative AI. Gait is a collaboration tool that integrates AI-assisted code generation with version control, enabling teams to track, understand, and share AI-generated code context efficiently.\"}, {'url': 'https://aipure.ai/products/pydantic-ai/features', 'content': \"PydanticAI is a Python Agent Framework that streamlines the development of production-grade AI applications by combining Pydantic's powerful data validation with LLM integration, offering type-safe dependency injection and model-agnostic support. PydanticAI is a Python Agent Framework designed for building production-grade applications with Generative AI, developed by the team behind Pydantic. Cart.ai is an AI-powered service platform that provides comprehensive business automation solutions including coding, customer relations management, video editing, e-commerce setup, and custom AI development with 24/7 support. GitHub Copilot Chat is an AI-powered coding assistant that provides natural language interactions, real-time code suggestions, and contextual support directly within supported IDEs and GitHub.com. CopilotForXcode is an Xcode Source Editor Extension that integrates GitHub Copilot, Codeium, and ChatGPT to provide AI-powered code suggestions, chat assistance, and prompt-to-code functionality within Xcode.\"}, {'url': 'https://medium.com/ai-agent-insider/pydantic-ai-agent-framework-02b138e8db71', 'content': 'Pydantic AI: Agent Framework. Pydantic AI: Agent Framework Pydantic AI: Agent Framework AI Agent Insider Pydantic AI is a Python framework that acts as a bridge between developers and LLMs, providing tools to create agents — entities that execute specific tasks based on system prompts, functions, and structured outputs. In Pydantic AI, an agent is a unit that combines the following components: Here’s a basic example of using Pydantic AI to create an agent that responds to user queries: from pydantic_ai import Agent, RunContext   from pydantic_ai import Agent Install Pydantic AI today and build your first agent! Pydantic Ai Agent Published in AI Agent Insider ----------------------------- AI Agent Insider AI Agent Insider See all from AI Agent Insider'}, {'url': 'https://pub.aimind.so/mastering-pydanticai-a-comprehensive-2025-guide-to-building-smart-and-connected-ai-applications-3d0ce37a3253', 'content': 'Mastering PydanticAI: A Comprehensive 2025 Guide to Building Smart and Connected AI Applications | by Saleh Alkhalifa | Dec, 2024 | AI Mind Mastering PydanticAI: A Comprehensive 2025 Guide to Building Smart and Connected AI Applications AI Mind What is PydanticAI? At its core, PydanticAI is an extension of the Pydantic library, tailored to facilitate the development of AI-powered agents. [1] You can learn more about PydanticAI at DevNavigator.com. Why Use PydanticAI? Getting Started with PydanticAI Follow Published in AI Mind -------------------- ·Last published 6 hours ago Learn, explore, or build the future of AI with top stories on the latest trends, tools, and technology. Share your crazy success stories or AI-fueled fails in a supportive community. Follow Follow 210 Followers Follow'}]]\n",
            "----------------REVISER AGENT-------------------\n",
            "Revised Respponse:Here is the revised response in JSON format:\n",
            "\n",
            "```\n",
            "{\n",
            "  \"answer\": \"PydanticAI is a Python Agent Framework designed to streamline the development of production-grade AI applications by combining Pydantic's powerful data validation with LLM integration, offering type-safe dependency injection and model-agnostic support [1]. It is an innovative agent framework developed by the team behind Pydantic, designed to simplify the process of building production-grade applications with Generative AI [2]. PydanticAI is particularly useful for building complex AI applications that require reliable data handling and structured responses [3].\n",
            "\n",
            "PydanticAI provides a range of features, including type safety, model-agnostic design, and seamless integration with large language models (LLMs) [4]. It also supports streamed responses and can validate structured responses using Pydantic models [5]. Additionally, PydanticAI provides a focus on building robust applications with dynamic prompts, structured responses, and integration with observability tools like Logfire [6].\n",
            "\n",
            "Overall, PydanticAI is a powerful tool for building production-grade AI applications, and its unique features make it an attractive option for developers looking to streamline their AI development process [7].\",\n",
            "  \"missing\": [],\n",
            "  \"superflous\": [],\n",
            "  \"search_queries\": [],\n",
            "  \"references\": [\n",
            "    [1] https://www.infoq.com/news/2024/12/pydanticai-framework-gen-ai/,\n",
            "    [2] https://aipure.ai/products/pydantic-ai/introduction,\n",
            "    [3] https://www.analyticsvidhya.com/blog/2024/12/pydanticai/,\n",
            "    [4] https://medium.com/@samarrana407/pydantic-ai-the-python-agent-framework-to-build-production-grade-ai-agents-0ce322654fd7,\n",
            "    [5] https://github.com/pydantic/pydantic-ai,\n",
            "    [6] https://aipure.ai/products/pydantic-ai/features,\n",
            "    [7] https://medium.com/ai-agent-insider/pydantic-ai-agent-framework-02b138e8db71\n",
            "  ]\n",
            "}\n",
            "```\n",
            "\n",
            "Note: The word count for this response is 246 words.\n",
            "Error:Invalid json output: Here is the revised response in JSON format:\n",
            "\n",
            "```\n",
            "{\n",
            "  \"answer\": \"PydanticAI is a Python Agent Framework designed to streamline the development of production-grade AI applications by combining Pydantic's powerful data validation with LLM integration, offering type-safe dependency injection and model-agnostic support [1]. It is an innovative agent framework developed by the team behind Pydantic, designed to simplify the process of building production-grade applications with Generative AI [2]. PydanticAI is particularly useful for building complex AI applications that require reliable data handling and structured responses [3].\n",
            "\n",
            "PydanticAI provides a range of features, including type safety, model-agnostic design, and seamless integration with large language models (LLMs) [4]. It also supports streamed responses and can validate structured responses using Pydantic models [5]. Additionally, PydanticAI provides a focus on building robust applications with dynamic prompts, structured responses, and integration with observability tools like Logfire [6].\n",
            "\n",
            "Overall, PydanticAI is a powerful tool for building production-grade AI applications, and its unique features make it an attractive option for developers looking to streamline their AI development process [7].\",\n",
            "  \"missing\": [],\n",
            "  \"superflous\": [],\n",
            "  \"search_queries\": [],\n",
            "  \"references\": [\n",
            "    [1] https://www.infoq.com/news/2024/12/pydanticai-framework-gen-ai/,\n",
            "    [2] https://aipure.ai/products/pydantic-ai/introduction,\n",
            "    [3] https://www.analyticsvidhya.com/blog/2024/12/pydanticai/,\n",
            "    [4] https://medium.com/@samarrana407/pydantic-ai-the-python-agent-framework-to-build-production-grade-ai-agents-0ce322654fd7,\n",
            "    [5] https://github.com/pydantic/pydantic-ai,\n",
            "    [6] https://aipure.ai/products/pydantic-ai/features,\n",
            "    [7] https://medium.com/ai-agent-insider/pydantic-ai-agent-framework-02b138e8db71\n",
            "  ]\n",
            "}\n",
            "```\n",
            "\n",
            "Note: The word count for this response is 246 words.\n",
            "For troubleshooting, visit: https://python.langchain.com/docs/troubleshooting/errors/OUTPUT_PARSING_FAILURE \n",
            "Revised Respponse:dict_keys(['answer', 'missing', 'superflous', 'search_queries', 'references'])\n",
            "----------------DECIDE TO GENERATE-------------------\n",
            "States :{'question': 'Write about PydanticAI agent framework.', 'answer': \"PydanticAI is a Python Agent Framework designed to streamline the development of production-grade AI applications by combining Pydantic's powerful data validation with LLM integration, offering type-safe dependency injection and model-agnostic support. It is an innovative agent framework developed by the team behind Pydantic, designed to simplify the process of building production-grade applications with Generative AI. PydanticAI is particularly useful for building complex AI applications that require reliable data handling and structured responses.\\n\\nPydanticAI provides a range of features, including type safety, model-agnostic design, and seamless integration with large language models (LLMs). It also supports streamed responses and can validate structured responses using Pydantic models. Additionally, PydanticAI provides a focus on building robust applications with dynamic prompts, structured responses, and integration with observability tools like Logfire.\\n\\nOverall, PydanticAI is a powerful tool for building production-grade AI applications, and its unique features make it an attractive option for developers looking to streamline their AI development process.\", 'missing': [], 'superflous': [], 'search_queries': [], 'referrences': ['https://www.infoq.com/news/2024/12/pydanticai-framework-gen-ai/', 'https://aipure.ai/products/pydantic-ai/introduction', 'https://www.analyticsvidhya.com/blog/2024/12/pydanticai/', 'https://medium.com/@samarrana407/pydantic-ai-the-python-agent-framework-to-build-production-grade-ai-agents-0ce322654fd7', 'https://github.com/pydantic/pydantic-ai', 'https://aipure.ai/products/pydantic-ai/features', 'https://medium.com/ai-agent-insider/pydantic-ai-agent-framework-02b138e8db71'], 'tool_iteration': 1, 'curent_time': '2024-12-25 19:16:12', 'max_iterations': 2}\n"
          ]
        }
      ]
    },
    {
      "cell_type": "code",
      "source": [
        "res"
      ],
      "metadata": {
        "colab": {
          "base_uri": "https://localhost:8080/"
        },
        "id": "kGoSwBh_MuSb",
        "outputId": "58317e79-8243-405f-8137-be5b87963e37"
      },
      "execution_count": 340,
      "outputs": [
        {
          "output_type": "execute_result",
          "data": {
            "text/plain": [
              "{'missing': [],\n",
              " 'superflous': [],\n",
              " 'referrences': ['https://www.infoq.com/news/2024/12/pydanticai-framework-gen-ai/',\n",
              "  'https://aipure.ai/products/pydantic-ai/introduction',\n",
              "  'https://www.analyticsvidhya.com/blog/2024/12/pydanticai/',\n",
              "  'https://medium.com/@samarrana407/pydantic-ai-the-python-agent-framework-to-build-production-grade-ai-agents-0ce322654fd7',\n",
              "  'https://github.com/pydantic/pydantic-ai',\n",
              "  'https://aipure.ai/products/pydantic-ai/features',\n",
              "  'https://medium.com/ai-agent-insider/pydantic-ai-agent-framework-02b138e8db71'],\n",
              " 'question': 'Write about PydanticAI agent framework.',\n",
              " 'answer': \"PydanticAI is a Python Agent Framework designed to streamline the development of production-grade AI applications by combining Pydantic's powerful data validation with LLM integration, offering type-safe dependency injection and model-agnostic support. It is an innovative agent framework developed by the team behind Pydantic, designed to simplify the process of building production-grade applications with Generative AI. PydanticAI is particularly useful for building complex AI applications that require reliable data handling and structured responses.\\n\\nPydanticAI provides a range of features, including type safety, model-agnostic design, and seamless integration with large language models (LLMs). It also supports streamed responses and can validate structured responses using Pydantic models. Additionally, PydanticAI provides a focus on building robust applications with dynamic prompts, structured responses, and integration with observability tools like Logfire.\\n\\nOverall, PydanticAI is a powerful tool for building production-grade AI applications, and its unique features make it an attractive option for developers looking to streamline their AI development process.\",\n",
              " 'search_queries': [],\n",
              " 'curent_time': '2024-12-25 19:16:12',\n",
              " 'tool_iteration': 1,\n",
              " 'max_iterations': 2}"
            ]
          },
          "metadata": {},
          "execution_count": 340
        }
      ]
    },
    {
      "cell_type": "code",
      "source": [
        "print(res['answer'])"
      ],
      "metadata": {
        "colab": {
          "base_uri": "https://localhost:8080/"
        },
        "id": "zgCvCbINMwtu",
        "outputId": "97a6a82e-9205-471e-e4af-019505b40c8b"
      },
      "execution_count": 341,
      "outputs": [
        {
          "output_type": "stream",
          "name": "stdout",
          "text": [
            "PydanticAI is a Python Agent Framework designed to streamline the development of production-grade AI applications by combining Pydantic's powerful data validation with LLM integration, offering type-safe dependency injection and model-agnostic support. It is an innovative agent framework developed by the team behind Pydantic, designed to simplify the process of building production-grade applications with Generative AI. PydanticAI is particularly useful for building complex AI applications that require reliable data handling and structured responses.\n",
            "\n",
            "PydanticAI provides a range of features, including type safety, model-agnostic design, and seamless integration with large language models (LLMs). It also supports streamed responses and can validate structured responses using Pydantic models. Additionally, PydanticAI provides a focus on building robust applications with dynamic prompts, structured responses, and integration with observability tools like Logfire.\n",
            "\n",
            "Overall, PydanticAI is a powerful tool for building production-grade AI applications, and its unique features make it an attractive option for developers looking to streamline their AI development process.\n"
          ]
        }
      ]
    },
    {
      "cell_type": "code",
      "source": [
        "from IPython.display import display,Markdown,Image\n",
        "display(Markdown(res['answer']+\"\\n\\nReferences:\\n\\n\"+\"\\n\\n\".join(res['referrences'])))"
      ],
      "metadata": {
        "colab": {
          "base_uri": "https://localhost:8080/",
          "height": 384
        },
        "id": "wrkN3vAWM9LW",
        "outputId": "9f666de7-2043-49fb-ab68-e28158a9626d"
      },
      "execution_count": 342,
      "outputs": [
        {
          "output_type": "display_data",
          "data": {
            "text/plain": [
              "<IPython.core.display.Markdown object>"
            ],
            "text/markdown": "PydanticAI is a Python Agent Framework designed to streamline the development of production-grade AI applications by combining Pydantic's powerful data validation with LLM integration, offering type-safe dependency injection and model-agnostic support. It is an innovative agent framework developed by the team behind Pydantic, designed to simplify the process of building production-grade applications with Generative AI. PydanticAI is particularly useful for building complex AI applications that require reliable data handling and structured responses.\n\nPydanticAI provides a range of features, including type safety, model-agnostic design, and seamless integration with large language models (LLMs). It also supports streamed responses and can validate structured responses using Pydantic models. Additionally, PydanticAI provides a focus on building robust applications with dynamic prompts, structured responses, and integration with observability tools like Logfire.\n\nOverall, PydanticAI is a powerful tool for building production-grade AI applications, and its unique features make it an attractive option for developers looking to streamline their AI development process.\n\nReferences:\n\nhttps://www.infoq.com/news/2024/12/pydanticai-framework-gen-ai/\n\nhttps://aipure.ai/products/pydantic-ai/introduction\n\nhttps://www.analyticsvidhya.com/blog/2024/12/pydanticai/\n\nhttps://medium.com/@samarrana407/pydantic-ai-the-python-agent-framework-to-build-production-grade-ai-agents-0ce322654fd7\n\nhttps://github.com/pydantic/pydantic-ai\n\nhttps://aipure.ai/products/pydantic-ai/features\n\nhttps://medium.com/ai-agent-insider/pydantic-ai-agent-framework-02b138e8db71"
          },
          "metadata": {}
        }
      ]
    },
    {
      "cell_type": "code",
      "source": [
        "import datetime\n",
        "from langchain_groq import ChatGroq\n",
        "llm = ChatGroq(model_name=\"llama-3.3-70b-versatile\",temperature=0.0,max_tokens=3000)\n",
        "query = \"What are the different types of Agentic Framework available.\"\n",
        "current_time = datetime.datetime.now().strftime(\"%Y-%m-%d %H:%M:%S\")\n",
        "inputs = {\"question\":query,\"curent_time\":current_time,\"tool_iteration\":0,\"max_iterations\":2}\n",
        "res = graph.invoke(inputs)"
      ],
      "metadata": {
        "colab": {
          "base_uri": "https://localhost:8080/"
        },
        "id": "60VGV0xZRn5s",
        "outputId": "96f31f0f-b552-4f0d-a8cf-26b8411e4d85"
      },
      "execution_count": 381,
      "outputs": [
        {
          "output_type": "stream",
          "name": "stdout",
          "text": [
            "----------------FIRST RESPONDER-------------------\n",
            "{'answer': \"The Agentic Framework refers to a conceptual structure that outlines the relationships between agents, their environment, and the actions they take. There are several types of Agentic Frameworks available, including: \\n1. **Cognitive Architectures**: These frameworks focus on the mental processes and representations that underlie human cognition and behavior. Examples include SOAR, ACT-R, and CLARION. \\n2. **Reinforcement Learning Frameworks**: These frameworks emphasize the role of reward and punishment in shaping an agent's behavior. Examples include Q-learning and SARSA. \\n3. **Social Learning Frameworks**: These frameworks highlight the importance of social interactions and observations in shaping an agent's behavior. Examples include Social Cognitive Theory and the Theory of Planned Behavior. \\n4. **Autonomous Agent Frameworks**: These frameworks focus on the design and development of autonomous systems that can perceive, reason, and act in complex environments. Examples include the Belief-Desire-Intention (BDI) framework and the Agent-Speak language. \\n5. **Hybrid Frameworks**: These frameworks combine elements from multiple Agentic Frameworks to create a more comprehensive and flexible approach to modeling and designing agents. \\nEach of these frameworks has its strengths and weaknesses, and the choice of which one to use depends on the specific application and research question being addressed.\", 'missing': 'The answer could be improved by providing more concrete examples and case studies to illustrate the application of each Agentic Framework. Additionally, a more detailed comparison of the strengths and weaknesses of each framework would be helpful. The answer could also benefit from a clearer explanation of the historical development and evolution of Agentic Frameworks.', 'superfluous': 'The answer does not contain any superfluous information, but it could be improved by condensing some of the sentences and using more concise language. Some of the sentences are a bit long and convoluted, which can make them difficult to follow.', 'search_queries': ['Agentic Frameworks in artificial intelligence', 'Cognitive Architectures and their applications', 'Reinforcement Learning Frameworks and their limitations', 'Social Learning Frameworks and their role in human behavior', 'Autonomous Agent Frameworks and their design principles', 'Hybrid Agentic Frameworks and their potential applications']}\n",
            "----------------TAVILY SEARCH RUN QUERIES-------------------\n",
            "TAVILY Response :[[{'url': 'https://medium.com/@visrow/agentic-frameworks-what-why-who-when-where-and-how-874272b4812a', 'content': 'In essence, agentic frameworks enable AI-driven applications to take on tasks traditionally performed by humans — such as generating reports, automating workflows, or interacting with APIs — by interpreting user requests and executing corresponding actions seamlessly. Decision-Making Capabilities: By incorporating AI models, agentic frameworks can help in making data-driven decisions in real-time, whether in financial markets, customer service, or operations. By integrating various AI models (e.g., OpenAI, Gemini) and leveraging the framework’s capabilities, you can start building AI-driven agents that streamline workflows, automate processes, and improve decision-making across multiple domains. Whether you’re automating customer service tasks, building autonomous trading systems, or developing emergency response agents, Tools4AI provides everything you need to create powerful agentic frameworks today.'}, {'url': 'https://medium.com/@soumava.dey.aig/demystifying-the-concept-of-agentic-ai-frameworks-6f86d1963039', 'content': 'Demystifying the Concept of Agentic AI Frameworks | by Soumava Dey | Nov, 2024 | Medium By integrating with external data sources, tools, and reasoning frameworks, agentic agents can perform complex, multi-step workflows, adapt their strategies, and drive tangible actions — going well beyond the text-based outputs of LLMs. In a nutshell, an Agentic AI powered by underlying LLMs can be a stepping stone for building the foundation of artificial general intelligence (AGI) which seems to be achievable as per few AI pioneers. Microsoft AutoGen: This open-source framework enables the development of sophisticated multi-agent AI systems capable of autonomous task execution, inter-agent collaboration, and seamless integration with external tools and data sources.'}, {'url': 'https://kodexolabs.com/what-is-agentic-ai/', 'content': 'What Is Agentic AI? Agentic AI refers to artificial intelligence systems designed with a sense of agency, enabling them to make autonomous decisions, adapt to new information, and interact dynamically with their environment. The concept of Agentic AI builds upon decades of research in artificial intelligence, machine learning, and autonomous systems. Generative AI models like GPT-4 Omni excel at producing human-like text based on input data, whereas Agentic AI systems are designed to act independently, manage workflows, and make decisions without explicit human guidance. In contrast, Agentic AI is employed in scenarios requiring autonomy and decision-making, such as autonomous vehicles, intelligent virtual assistants, and automated trading systems. Agentic AI Systems:'}, {'url': 'https://www.analyticsvidhya.com/blog/2024/07/ai-agent-frameworks/', 'content': 'Artificial intelligence has recently seen a surge of interest in AI agents - autonomous software entities capable of perceiving their environment, making decisions, and taking action to achieve specific objectives. ... Agentic Frameworks for Generative AI Applications . Building Collaborative AI Agents With CrewAI'}, {'url': 'https://www.turingpost.com/p/15-agents-of-2024', 'content': 'Agent S is an open agentic framework that helps AI interact with computers through GUIs, automating complex tasks like a human user would. This method created agents that outperformed current designs and worked well across different tasks, showing the potential for smarter, more adaptable AI systems. Generative World Explorer (Genex) is a framework that enables AI agents to mentally explore 3D environments, like urban scenes, updating their understanding without constant physical exploration, similar to how humans imagine unseen parts of the world. Bel Esprit is a conversational agent that helps create AI pipelines by combining multiple models to handle complex tasks. AutoKaggle is a framework that uses multi-agent system to automate processes like coding, debugging, and testing in handling tabular data tasks, while allowing user input at any stage. Login or Subscribe to participate.'}], [{'url': 'https://ieeexplore.ieee.org/document/10061750', 'content': 'Cognitive architectures are computational implementations of unified theories of cognition. The consensus of 50 years of research in cognitive architectures can be captured in the form of a Common Model of Cognition that can provide a guide for applications in neuroscience, artificial intelligence and robotics. Being able to represent human cognition in computational form enables a wide range'}, {'url': 'https://en.wikipedia.org/wiki/Cognitive_architecture', 'content': 'The research on cognitive architectures as software instantiation of cognitive theories was initiated by Allen Newell in 1990.[2]\\nThe Institute for Creative Technologies defines cognitive architecture as: \"hypothesis about the fixed structures that provide a mind, whether in natural or artificial systems, and how they work together – in conjunction with knowledge and skills embodied within the architecture – to yield intelligent behavior in a diversity of complex environments. Contents\\nCognitive architecture\\nA cognitive architecture refers to both a theory about the structure of the human mind and to a computational instantiation of such a theory used in the fields of artificial intelligence (AI) and computational cognitive science.[1] \"[3]\\nHistory[edit]\\nHerbert A. Simon, one of the founders of the field of artificial intelligence, stated that the 1960 thesis by his student Ed Feigenbaum, EPAM provided a possible \"architecture for cognition\"[4] because it included some commitments for how more than one fundamental aspect of the human mind worked (in EPAM\\'s case, human memory and human learning).\\n Biologically inspired computing, on the other hand, takes sometimes a more bottom-up, decentralised approach; bio-inspired techniques often involve the method of specifying a set of simple generic rules or a set of simple nodes, from the interaction of which emerges the overall behavior. The theory of cognition outlined the structure of the various parts of the mind and made commitments to the use of rules, associative networks, and other aspects.'}, {'url': 'https://dl.acm.org/doi/10.1007/s10462-018-9646-y', 'content': 'The Author(s) 2018\\nSponsors\\nIn-Cooperation\\nPublisher\\nKluwer Academic Publishers\\nUnited States\\nPublication History\\nAuthor Tags\\nQualifiers\\nConference\\nFunding Sources\\nOther Metrics\\nArticle Metrics\\nOther Metrics\\nCited By\\nDigital Edition\\nView this article in digital edition.\\n References\\nCited By\\nIndex Terms\\nApplied computing\\nComputing methodologies\\nArtificial intelligence\\nKnowledge representation and reasoning\\nCognitive robotics\\nPhilosophical/theoretical foundations of artificial intelligence\\nCognitive science\\nModeling and simulation\\nHuman-centered computing\\nHuman computer interaction (HCI)\\nRecommendations\\nCognitive architectures aim to provide blueprints for achieving artificial general intelligence AGI. 40 years of cognitive architectures: core cognitive abilities and practical applications\\nDepartment of Electrical Engineering and Computer Science, York University, Toronto, ON, Canada\\nDepartment of Electrical Engineering and Computer Science, York University, Toronto, ON, Canada\\nhttp://orcid.org/0000-0002-5490-9805\\nDepartment of Electrical Engineering and Computer Science, York University, Toronto, ON, Canada\\nDepartment of Electrical Engineering and Computer Science, York University, Toronto, ON, Canada\\nhttp://orcid.org/0000-0002-8621-9147\\nNew Citation Alert added!\\n In addition to summarizing the current state-of-the-art in the cognitive architecture research, this survey describes a variety of methods and ideas that have been tried and their relative success in modeling human cognitive abilities, as well as which aspects of cognitive behavior need more research with respect to their mechanistic counterparts and thus can further inform how cognitive science might progress.\\n Please log in to your account\\nArtificial Intelligence Review\\nAbstract\\nAbstract\\nIn this paper we present a broad overview of the last 40\\xa0years of research on cognitive architectures.'}, {'url': 'https://www.researchgate.net/publication/369222711_Cognitive_Architectures_and_their_Applications', 'content': 'PDF | On Dec 1, 2022, Christian Lebiere and others published Cognitive Architectures and their Applications | Find, read and cite all the research you need on ResearchGate'}, {'url': 'https://www.researchgate.net/publication/309483878_A_Review_of_40_Years_of_Cognitive_Architecture_Research_Focus_on_Perception_Attention_Learning_and_Applications', 'content': 'To assess the breadth of practical applications of cognitive architectures we gathered information on over 700 practical projects implemented using the cognitive architectures in our list.'}], [{'url': 'https://smythos.com/machine-learning/reinforcement-learning/reinforcement-learning-frameworks/', 'content': \"This guide will explore the most popular reinforcement learning frameworks, examining their strengths, limitations, and ideal use cases. Whether you're an experienced AI researcher or a developer new to RL, you'll find valuable insights to help you choose the right framework and enhance your AI projects. Key aspects we'll cover include:\"}, {'url': 'https://arxiv.org/abs/2307.15217', 'content': 'Reinforcement learning from human feedback (RLHF) is a technique for training AI systems to align with human goals. RLHF has emerged as the central method used to finetune state-of-the-art large language models (LLMs). Despite this popularity, there has been relatively little public work systematizing its flaws. In this paper, we (1) survey open problems and fundamental limitations of RLHF and'}, {'url': 'https://winder.ai/a-comparison-of-reinforcement-learning-frameworks-dopamine-rllib-keras-rl-coach-trfl-tensorforce-coach-and-more/', 'content': 'Reinforcement Learning (RL) frameworks help engineers by creating higher level abstractions of the core components of an RL algorithm. This makes code easier to develop, easier to read and improves efficiency. But choosing a framework introduces some amount of lock in. An investment in learning and using a framework can make it hard to break away.'}, {'url': 'https://www.linkedin.com/advice/0/what-main-challenges-limitations-reinforcement-learning', 'content': 'Learn about the main challenges and limitations of reinforcement learning in real-world scenarios, such as data efficiency, safety, ethics, and more.'}, {'url': 'https://www.geeksforgeeks.org/what-is-reinforcement-learning/', 'content': 'Disadvantages: 1. Reinforcement learning is not preferable to use for solving simple problems. 2. Reinforcement learning needs a lot of data and a lot of computation. 3. Reinforcement learning is highly dependent on the quality of the reward function. If the reward function is poorly designed, the agent may not learn the desired behavior. 4.'}], [{'url': 'https://www.modulo.app/all-resources/social-learning-theory', 'content': 'Despite these critiques, social learning theory is widely regarded as a foundational framework for understanding human behavior and development. Key Figures and Thought Leaders. Albert Bandura is the central figure associated with social learning theory. His experimental work and theoretical contributions have shaped modern psychology and'}, {'url': 'https://brainypsychology.com/social-learning-theory/', 'content': 'Complexity of Human Behavior. Some critics contend that SLT, while more comprehensive than behaviorism, still oversimplifies the complexity of human behavior. Factors such as genetic predispositions, unconscious processes, and situational variables can also play crucial roles in shaping behavior. Evolution and Extensions of Social Learning Theory'}, {'url': 'https://www.collegenp.com/article/social-learning-theory-4-processes-of-learning', 'content': 'Social Learning Theory is a psychological framework explaining how people learn new behaviors by observing others. Developed by Albert Bandura in the 1970s, this theory emphasizes that learning can occur even without direct reinforcement. ... Teachers often serve as role models, and their behavior can significantly influence how students'}, {'url': 'https://neurolaunch.com/social-learning-theory-psychology-definition/', 'content': 'From Bandura’s iconic Bobo doll experiment to its far-reaching applications in education, therapy, and beyond, social learning theory has revolutionized our understanding of how individuals learn and adapt through observation and imitation. At its core, social learning theory posits that individuals can acquire new behaviors and knowledge by observing and imitating others. While we can observe behavior, the internal mental processes that social learning theory emphasizes are not directly observable. From the social scripts in psychology that guide our daily interactions to the social cognitive theory in human behavior, the principles of social learning continue to provide valuable insights into the human experience. As we look to the future, it’s clear that social learning theory will continue to evolve and adapt, much like the behaviors it seeks to explain.'}, {'url': 'https://www.researchgate.net/publication/367220348_Social_Learning_Theory_Cognitive_and_Behavioral_Approaches', 'content': 'of learning are intended as a general framework for understanding human behavior, and aspects of their development are still to be worked out in detail. Nevertheless, Bandura (1977), has given a'}], [{'url': 'https://smythos.com/artificial-intelligence/agent-architectures/agent-architecture-frameworks/', 'content': 'The race to build truly autonomous AI systems has driven innovation in agent architecture frameworks. By providing standardized ways to handle complex agent behaviors, these frameworks democratize access to AI development, allowing more developers to build sophisticated autonomous systems without starting from scratch. AI agent frameworks represent sophisticated systems designed to enable autonomous decision-making and interaction with complex environments. The landscape of AI agent development has evolved rapidly, introducing several powerful frameworks that enable developers to create sophisticated autonomous systems. Organizations must invest in robust testing frameworks, diverse development teams, and ongoing monitoring systems to create AI agents that can operate effectively and fairly in production environments. Developing reliable and effective AI agent frameworks requires careful consideration of best practices.'}, {'url': 'https://smythos.com/artificial-intelligence/agent-architectures/agent-architecture-design/', 'content': 'Just like a skilled player needs the right mental framework to excel, AI agents require thoughtfully designed architectures to effectively navigate their environment and accomplish goals. Agent architecture design has become the blueprint that determines whether an AI system will be a grandmaster or a novice. At its core, agent architecture'}, {'url': 'https://guptadeepak.com/the-rise-of-autonomous-ai-agents-a-comprehensive-guide-to-their-architecture-applications-and-impact/', 'content': 'The Architecture of Autonomous AI Agents: Understanding Core Components and Integration Dive into the architecture of autonomous AI agents, examining how Profile, Memory, Planning, and Action components work in harmony to create intelligent systems. At the foundation of every autonomous AI agent lies a sophisticated architecture built upon four essential components: Profile, Memory, Planning, and Action. This works in harmony with the Memory component, which enables agents to learn and adapt from experience, creating a rich tapestry of knowledge that informs future actions. Ultimately, autonomous AI agents represent more than just technological advancement; they embody our growing understanding of how to create systems that can learn, adapt, and operate independently while remaining aligned with human needs and objectives.'}, {'url': 'https://dl.acm.org/doi/pdf/10.1145/3698038.3698525', 'content': '(2) We describe a prototype framework, AIOpsLab , that adopts this design to combine workload and fault gener-ators to mimic production incidents and an agent-cloud interface for orchestrating the service operation lifecycle (§ 4). This allows for varied use cases, including enterprise and end-user assessments of fault and recovery strategies, AIOps research on new agents using established error models and workloads, and red-team simulations of complex faults on synthetic applications to test mitigation effectiveness. In Proceedings of the 11th USENIX Conference on Operating Systems Design and Implementation (OSDI’14) .[55] Liqun Li, Xu Zhang, Xin Zhao, Hongyu Zhang, Yu Kang, Pu Zhao, Bo Qiao, Shilin He, Pochian Lee, Jeffrey Sun, et al .'}, {'url': 'https://arxiv.org/pdf/2407.12165', 'content': 'The framework must provide diverse interfaces to agents, spanning the 2 AIOps Tasks Logs Traces Metrics Agent Orchestrator Workload 𝑊 (Workload 𝑊, Fault 𝐹) Problem: Task T Workload W Fault F Solution S Service Service State Take Actions Get/Update State Problem Cache Problem Query 𝑄 Observability Fault Generator Applications SocialNetwork HotelReservation … E-Commerce Workload Generator … Detect Actions Desc Metrics Localize Actions Desc Metrics Mitigate Actions Desc Metrics RCA Actions Desc Metrics Deploy / Run workload / Inject Fault Figure 1: System Architecture of AIOpsLab. The Orchestrator coordinates interactions between various system elements and serves as the Agent-Cloud-Interface (ACI).'}], [{'url': 'https://medium.com/@visrow/agentic-frameworks-what-why-who-when-where-and-how-874272b4812a', 'content': 'In essence, agentic frameworks enable AI-driven applications to take on tasks traditionally performed by humans — such as generating reports, automating workflows, or interacting with APIs — by interpreting user requests and executing corresponding actions seamlessly. Decision-Making Capabilities: By incorporating AI models, agentic frameworks can help in making data-driven decisions in real-time, whether in financial markets, customer service, or operations. By integrating various AI models (e.g., OpenAI, Gemini) and leveraging the framework’s capabilities, you can start building AI-driven agents that streamline workflows, automate processes, and improve decision-making across multiple domains. Whether you’re automating customer service tasks, building autonomous trading systems, or developing emergency response agents, Tools4AI provides everything you need to create powerful agentic frameworks today.'}, {'url': 'https://medium.com/codex/the-future-of-rag-agentic-hybrid-and-dynamic-9cdfa6709e1e', 'content': 'The Future of RAG: Agentic, Hybrid, and Dynamic | by Anthony Alcaraz | CodeX | Aug, 2024 | Medium The Future of RAG: Agentic, Hybrid, and Dynamic Enter Retrieval-Augmented Generation (RAG), a promising approach that aims to enhance AI systems by grounding them in external knowledge sources. To reach its full potential and truly revolutionize how AI systems access and reason with information, RAG needs to evolve in three key directions: it must become more agentic, incorporating sophisticated reasoning capabilities; more hybrid, seamlessly blending neural and symbolic approaches; and more dynamic, adeptly handling time-sensitive and rapidly changing information. These three components are not merely separate enhancements, but synergistic elements that, when combined, create a powerful new paradigm for AI-driven information processing and reasoning.'}, {'url': 'https://cobusgreyling.substack.com/p/the-advent-of-open-agentic-frameworks', 'content': 'How Open Agentic Frameworks and ACI Are Redefining Human-Computer Interaction and the notion of Experience-Augmented Hierarchical Planning One of the aims of agentic applications or frameworks is the enablement of autonomous interaction of an agent with user applications and tasks via a Graphical User Interface (GUI). To address the challenge of solving long-horizon, complex desktop tasks, Agent S introduces Experience-Augmented Hierarchical Planning. Agent S Framework The Agent-Computer Interface (ACI) bridges a crucial gap between traditional desktop environments designed for human users and software agents, enabling more effective interaction at the GUI level. This system enhances the agent’s ability to interact with complex, dynamic interfaces while maintaining control and reliability in task execution.'}, {'url': 'https://www.turingpost.com/p/15-agents-of-2024', 'content': 'Agent S is an open agentic framework that helps AI interact with computers through GUIs, automating complex tasks like a human user would. This method created agents that outperformed current designs and worked well across different tasks, showing the potential for smarter, more adaptable AI systems. Generative World Explorer (Genex) is a framework that enables AI agents to mentally explore 3D environments, like urban scenes, updating their understanding without constant physical exploration, similar to how humans imagine unseen parts of the world. Bel Esprit is a conversational agent that helps create AI pipelines by combining multiple models to handle complex tasks. AutoKaggle is a framework that uses multi-agent system to automate processes like coding, debugging, and testing in handling tabular data tasks, while allowing user input at any stage. Login or Subscribe to participate.'}, {'url': 'https://medium.com/codex/the-hybrid-approach-of-agentic-systems-balancing-autonomy-and-control-in-ai-0d1bfe946450', 'content': 'Despite their differences, these frameworks share core principles. Specialization and collaboration reign supreme. Rather than relying on monolithic models, agentic AI divides and conquers.'}]]\n",
            "----------------REVISER AGENT-------------------\n",
            "Revised Respponse:```json\n",
            "{\n",
            "  \"answer\": \"Agentic frameworks enable AI-driven applications to take on tasks traditionally performed by humans, such as generating reports, automating workflows, or interacting with APIs [1]. By incorporating AI models, agentic frameworks can help in making data-driven decisions in real-time [2]. The concept of Agentic AI builds upon decades of research in artificial intelligence, machine learning, and autonomous systems [3]. Agentic frameworks have various applications, including autonomous vehicles, intelligent virtual assistants, and automated trading systems [4]. The development of agentic frameworks has been influenced by cognitive architectures, which provide a guide for applications in neuroscience, artificial intelligence, and robotics [5].\",\n",
            "  \"missing\": \"The answer could be improved by providing more concrete examples and case studies to illustrate the application of each Agentic Framework.\",\n",
            "  \"superflous\": \"\",\n",
            "  \"search_queries\": [\"agentic frameworks\", \"AI-driven applications\", \"cognitive architectures\"],\n",
            "  \"references\": [\n",
            "    \"[1] https://medium.com/@visrow/agentic-frameworks-what-why-who-when-where-and-how-874272b4812a\",\n",
            "    \"[2] https://medium.com/@visrow/agentic-frameworks-what-why-who-when-where-and-how-874272b4812a\",\n",
            "    \"[3] https://kodexolabs.com/what-is-agentic-ai/\",\n",
            "    \"[4] https://kodexolabs.com/what-is-agentic-ai/\",\n",
            "    \"[5] https://ieeexplore.ieee.org/document/10061750\"\n",
            "  ]\n",
            "}\n",
            "```\n",
            "Revised Respponse:dict_keys(['answer', 'missing', 'superflous', 'search_queries', 'references'])\n",
            "----------------DECIDE TO GENERATE-------------------\n",
            "States :{'question': 'What are the different types of Agentic Framework available.', 'answer': 'Agentic frameworks enable AI-driven applications to take on tasks traditionally performed by humans, such as generating reports, automating workflows, or interacting with APIs [1]. By incorporating AI models, agentic frameworks can help in making data-driven decisions in real-time [2]. The concept of Agentic AI builds upon decades of research in artificial intelligence, machine learning, and autonomous systems [3]. Agentic frameworks have various applications, including autonomous vehicles, intelligent virtual assistants, and automated trading systems [4]. The development of agentic frameworks has been influenced by cognitive architectures, which provide a guide for applications in neuroscience, artificial intelligence, and robotics [5].', 'missing': 'The answer could be improved by providing more concrete examples and case studies to illustrate the application of each Agentic Framework.', 'superflous': '', 'search_queries': ['agentic frameworks', 'AI-driven applications', 'cognitive architectures'], 'referrences': ['[1] https://medium.com/@visrow/agentic-frameworks-what-why-who-when-where-and-how-874272b4812a', '[2] https://medium.com/@visrow/agentic-frameworks-what-why-who-when-where-and-how-874272b4812a', '[3] https://kodexolabs.com/what-is-agentic-ai/', '[4] https://kodexolabs.com/what-is-agentic-ai/', '[5] https://ieeexplore.ieee.org/document/10061750'], 'tool_iteration': 1, 'curent_time': '2024-12-25 19:53:21', 'max_iterations': 2}\n"
          ]
        }
      ]
    },
    {
      "cell_type": "code",
      "source": [
        "res"
      ],
      "metadata": {
        "colab": {
          "base_uri": "https://localhost:8080/"
        },
        "id": "AU2_RPqfSOt7",
        "outputId": "c6335559-9769-4094-f9f0-9ac86c57155c"
      },
      "execution_count": 383,
      "outputs": [
        {
          "output_type": "execute_result",
          "data": {
            "text/plain": [
              "{'missing': 'The answer could be improved by providing more concrete examples and case studies to illustrate the application of each Agentic Framework.',\n",
              " 'superflous': '',\n",
              " 'referrences': ['[1] https://medium.com/@visrow/agentic-frameworks-what-why-who-when-where-and-how-874272b4812a',\n",
              "  '[2] https://medium.com/@visrow/agentic-frameworks-what-why-who-when-where-and-how-874272b4812a',\n",
              "  '[3] https://kodexolabs.com/what-is-agentic-ai/',\n",
              "  '[4] https://kodexolabs.com/what-is-agentic-ai/',\n",
              "  '[5] https://ieeexplore.ieee.org/document/10061750'],\n",
              " 'question': 'What are the different types of Agentic Framework available.',\n",
              " 'answer': 'Agentic frameworks enable AI-driven applications to take on tasks traditionally performed by humans, such as generating reports, automating workflows, or interacting with APIs [1]. By incorporating AI models, agentic frameworks can help in making data-driven decisions in real-time [2]. The concept of Agentic AI builds upon decades of research in artificial intelligence, machine learning, and autonomous systems [3]. Agentic frameworks have various applications, including autonomous vehicles, intelligent virtual assistants, and automated trading systems [4]. The development of agentic frameworks has been influenced by cognitive architectures, which provide a guide for applications in neuroscience, artificial intelligence, and robotics [5].',\n",
              " 'search_queries': ['agentic frameworks',\n",
              "  'AI-driven applications',\n",
              "  'cognitive architectures'],\n",
              " 'curent_time': '2024-12-25 19:53:21',\n",
              " 'tool_iteration': 1,\n",
              " 'max_iterations': 2}"
            ]
          },
          "metadata": {},
          "execution_count": 383
        }
      ]
    },
    {
      "cell_type": "code",
      "source": [
        "from IPython.display import display,Markdown,Image\n",
        "display(Markdown(res['answer']+\"\\n\\nReferences:\\n\\n\"+\"\\n\\n\".join(res['referrences'])))"
      ],
      "metadata": {
        "colab": {
          "base_uri": "https://localhost:8080/",
          "height": 256
        },
        "id": "z8viZ6v3SJbs",
        "outputId": "3222e92b-beaa-44c9-a806-533ef4f9931f"
      },
      "execution_count": 384,
      "outputs": [
        {
          "output_type": "display_data",
          "data": {
            "text/plain": [
              "<IPython.core.display.Markdown object>"
            ],
            "text/markdown": "Agentic frameworks enable AI-driven applications to take on tasks traditionally performed by humans, such as generating reports, automating workflows, or interacting with APIs [1]. By incorporating AI models, agentic frameworks can help in making data-driven decisions in real-time [2]. The concept of Agentic AI builds upon decades of research in artificial intelligence, machine learning, and autonomous systems [3]. Agentic frameworks have various applications, including autonomous vehicles, intelligent virtual assistants, and automated trading systems [4]. The development of agentic frameworks has been influenced by cognitive architectures, which provide a guide for applications in neuroscience, artificial intelligence, and robotics [5].\n\nReferences:\n\n[1] https://medium.com/@visrow/agentic-frameworks-what-why-who-when-where-and-how-874272b4812a\n\n[2] https://medium.com/@visrow/agentic-frameworks-what-why-who-when-where-and-how-874272b4812a\n\n[3] https://kodexolabs.com/what-is-agentic-ai/\n\n[4] https://kodexolabs.com/what-is-agentic-ai/\n\n[5] https://ieeexplore.ieee.org/document/10061750"
          },
          "metadata": {}
        }
      ]
    },
    {
      "cell_type": "code",
      "source": [
        "import datetime\n",
        "from langchain_groq import ChatGroq\n",
        "llm = ChatGroq(model_name=\"llama-3.3-70b-versatile\",temperature=0.0,max_tokens=3000)\n",
        "query = \"What is Photosynthesis.\"\n",
        "current_time = datetime.datetime.now().strftime(\"%Y-%m-%d %H:%M:%S\")\n",
        "inputs = {\"question\":query,\"curent_time\":current_time,\"tool_iteration\":0,\"max_iterations\":2}\n",
        "res = graph.invoke(inputs)"
      ],
      "metadata": {
        "id": "saUzSjF3ZCAF",
        "outputId": "47bc4440-92b3-4f07-e07a-70aa4e342076",
        "colab": {
          "base_uri": "https://localhost:8080/"
        }
      },
      "execution_count": 385,
      "outputs": [
        {
          "output_type": "stream",
          "name": "stdout",
          "text": [
            "----------------FIRST RESPONDER-------------------\n",
            "{'answer': 'Photosynthesis is the vital process by which plants, algae, and some bacteria convert light energy from the sun into chemical energy in the form of organic compounds, such as glucose. This complex process involves the conversion of carbon dioxide and water into glucose and oxygen, releasing energy that is stored in the chemical bonds of glucose. The overall equation for photosynthesis is 6CO2 + 6H2O + light energy → C6H12O6 (glucose) + 6O2. It occurs in specialized organelles called chloroplasts, which contain pigments such as chlorophyll that absorb light energy. The light-dependent reactions generate ATP and NADPH, which are then used in the light-independent reactions (Calvin cycle) to fix CO2 into glucose. Photosynthesis is essential for life on Earth, as it provides the primary source of energy for nearly all organisms, either directly or indirectly, and is responsible for the oxygen in the atmosphere.', 'missing': 'A detailed explanation of the light-dependent and light-independent reactions, as well as the importance of photosynthesis in the ecosystem and its impact on the environment. Additionally, the role of other pigments and the process of photorespiration could be explored.', 'superfluous': 'None, the provided answer is concise and directly addresses the question.', 'search_queries': ['light-dependent reactions in photosynthesis', 'Calvin cycle explanation', 'importance of photosynthesis in the ecosystem', 'photorespiration process', 'role of chlorophyll in photosynthesis', 'impact of photosynthesis on the environment']}\n",
            "----------------TAVILY SEARCH RUN QUERIES-------------------\n",
            "TAVILY Response :[[{'url': 'https://en.wikipedia.org/wiki/Light-dependent_reactions', 'content': 'Light-dependent reactions of photosynthesis at the thylakoid membrane. Light-dependent reactions are certain photochemical reactions involved in photosynthesis, the main process by which plants acquire energy.There are two light dependent reactions: the first occurs at photosystem II (PSII) and the second occurs at photosystem I (PSI).. PSII absorbs a photon to produce a so-called high energy'}, {'url': 'https://raider.pressbooks.pub/biology1/chapter/23-lightdependent-reactions/', 'content': 'The light-dependent reactions of photosynthesis. The overall function of light-dependent reactions is to convert solar energy into chemical energy in the form of NADPH and ATP. This chemical energy supports the light-independent reactions and fuels the assembly of sugar molecules, which we will learn more about in the next chapter.'}, {'url': 'https://openstax.org/books/biology-ap-courses/pages/8-2-the-light-dependent-reaction-of-photosynthesis', 'content': 'Photosynthesis consists of two stages: the light-dependent reactions and the light-independent reactions or Calvin cycle. The light-dependent reactions occur when light is available. The overall equation for photosynthesis shows that is it a redox reaction; carbon dioxide is reduced and water is oxidized to produce oxygen:'}, {'url': 'https://bio.libretexts.org/Bookshelves/Introductory_and_General_Biology/General_Biology_(Boundless)/08:_Photosynthesis/8.06:_The_Light-Dependent_Reactions_of_Photosynthesis_-_Processes_of_the_Light-Dependent_Reactions', 'content': 'The overall function of light-dependent reactions, the first stage of photosynthesis, is to convert solar energy into chemical energy in the form of NADPH and ATP, which are used in light-independent reactions and fuel the assembly of sugar molecules.'}, {'url': 'https://www.visiblebody.com/learn/biology/photosynthesis/reactions', 'content': 'The light-dependent reactions of photosynthesis take place within the thylakoids. These reactions occur when the pigment chlorophyll, located within the thylakoid membranes, captures energy from the sun (photons) to initiate the breakdown of water molecules. 2. The light-dependent reactions convert light energy into chemical energy.'}], [{'url': 'https://www.biologyonline.com/dictionary/calvin-cycle', 'content': 'Biology definition: The Calvin Cycle is a cyclical series or process where plants use carbon dioxide (CO 2) from the air and energy from sunlight to produce sugar ().It occurs in the chloroplasts (stroma) of plant cells and helps them make food for growth and survival. It includes light-independent reactions (e.g., carbon fixation, reduction reactions) and ribulose 1,5-diphosphate (RuDP) to'}, {'url': 'https://en.wikipedia.org/wiki/Calvin_cycle', 'content': 'The Calvin cycle, light-independent reactions, bio synthetic phase, dark reactions, or photosynthetic carbon reduction (PCR) cycle [1] of photosynthesis is a series of chemical reactions that convert carbon dioxide and hydrogen-carrier compounds into glucose. The Calvin cycle is present in all photosynthetic eukaryotes and also many'}, {'url': 'https://www.thoughtco.com/what-is-the-calvin-cycle-608205', 'content': 'The Calvin cycle is a set of light independent redox reactions that occur during photosynthesis and carbon fixation to convert carbon dioxide into the sugar glucose. These reactions occur in the stroma of the chloroplast, which is the fluid-filled region between the thylakoid membrane and inner membrane of the organelle. Here is a look at the redox reactions that occur during the Calvin cycle.'}, {'url': 'https://www.geeksforgeeks.org/calvin-cycle-diagram-steps/', 'content': 'Calvin Cycle is the biochemical pathway in the plants responsible for synthesizing glucose using carbon dioxide and the energy obtained from sunlight. The Calvin cycle steps include carbon fixation, reduction, and regeneration. The final Calvin Cycle product is glyceraldehyde-3-phosphate (G3P) molecules. The cycle helps plants store energy and form sugar, supporting their growth and survival.'}, {'url': 'https://byjus.com/biology/calvin-cycle/', 'content': 'The conversion of CO2 to carbohydrate is called Calvin Cycle or C3 cycle and is named after Melvin Calvin who discovered it. The plants that undergo the Calvin cycle for carbon fixation are known as C3 plants. Calvin Cycle requires the enzyme ribulose-1,5-bisphosphate carboxylase/oxygenase commonly called RuBisCO.'}], [{'url': 'https://bio.libretexts.org/Bookshelves/Introductory_and_General_Biology/General_Biology_(Boundless)/08:_Photosynthesis/8.01:_Overview_of_Photosynthesis_-_The_Purpose_and_Process_of_Photosynthesis', 'content': \"The ecosystem surrounding the vents has a diverse array of animals, such as tubeworms, crustaceans, and octopuses that derive energy from the bacteria. The importance of photosynthesis is not just that it can capture sunlight's energy. A lizard sunning itself on a cold day can use the sun's energy to warm up.\"}, {'url': 'https://www.britannica.com/question/Why-is-photosynthesis-important', 'content': \"Photosynthesis is critical for the existence of the vast majority of life on Earth. It is the way in which virtually all energy in the biosphere becomes available to living things. As primary producers, photosynthetic organisms form the base of Earth's food webs and are consumed directly or indirectly by all higher life-forms.\"}, {'url': 'https://bioenergy.asu.edu/why-study-photosynthesis', 'content': 'The role of photosynthesis in control of the environment. How does photosynthesis in temperate and tropical forests and in the sea affect the quantity of greenhouse gases in the atmosphere? This is an important and controversial issue today. As mentioned above, photosynthesis by plants removes carbon dioxide from the atmosphere and replaces it'}, {'url': 'https://science.howstuffworks.com/science-vs-myth/what-if/what-if-photosynthesis-stopped.htm', 'content': \"Carbon dioxide (CO2) does indeed play a pivotal role in the process of photosynthesis, serving as one of the primary raw materials. To produce energy, plants effectively consume carbon dioxide and water, release oxygen. As one could imagine, this process has far-reaching implications for our planet's climate, atmosphere, and ecosystems.\"}, {'url': 'https://education.nationalgeographic.org/resource/resource-library-photosynthesis/', 'content': 'Autotrophs are organisms that produce their own food. They use the process of photosynthesis to transform water, sunlight, and carbon dioxide into oxygen, and simple sugars that the plant uses as fuel. These primary producers, which include plants, algae, phytoplankton and some forms of bacteria, form the base of an ecosystem and fuel the next trophic levels. Without this process, life on'}], [{'url': 'https://en.wikipedia.org/wiki/Photorespiration', 'content': 'Photorespiration (also known as the oxidative photosynthetic carbon cycle or C 2 cycle) refers to a process in plant metabolism where the enzyme RuBisCO oxygenates RuBP, wasting some of the energy produced by photosynthesis.The desired reaction is the addition of carbon dioxide to RuBP (carboxylation), a key step in the Calvin-Benson cycle, but approximately 25% of reactions by RuBisCO'}, {'url': 'https://pmc.ncbi.nlm.nih.gov/articles/PMC3244903/', 'content': 'Photorespiration is the process of light-dependent uptake of molecular oxygen (O 2) concomitant with release of carbon dioxide (CO 2) from organic compounds. The gas exchange resembles respiration and is the reverse of photosynthesis where CO 2 is fixed and O 2 released.'}, {'url': 'https://www.sciencedirect.com/topics/agricultural-and-biological-sciences/photorespiration', 'content': 'Photorespiration is a process of O 2 fixation by the RuBisCO enzyme. It decreases the assimilation of CO 2 if the level of O 2 rises. Photorespiration is a waste processor and a side mechanism of the RuBisCO enzyme (Kebeish et al., 2007; Maurino and Peterhansel, 2010). It decreases in plants when the level of CO 2 rises in the environment.'}, {'url': 'https://www.aakash.ac.in/important-concepts/biology/photorespiration', 'content': 'Photorespiration is the process of uptake of oxygen and production of carbon dioxide in light by the photosynthetic tissues. It results in the loss of fixed carbon as CO 2 in plants when they are exposed to light. Here the food is oxidised and releases carbon dioxide, but no energy is generated. When there is a high concentration of oxygen'}, {'url': 'https://www.geeksforgeeks.org/photorespiration-process-significance/', 'content': 'Photorespiration is a plant metabolic process, most precisely in the cells of the leaves. Photorespiration is a wasteful pathway that competes with photosynthesis and can have negative effects on plant growth and productivity. Photorespiration is triggered when the concentration of carbon dioxide (C.'}], [{'url': 'https://www.sciencing.com/what-are-the-roles-of-chlorophyll-a-b-12526386/', 'content': \"Chlorophyll's role is to absorb light for photosynthesis. There are two main types of chlorophyll: A and B. Chlorophyll A's central role is as an electron donor in the electron transport chain. Chlorophyll B's role is to help organisms absorb higher frequency blue light for use in photosynthesis.\"}, {'url': 'https://www.geeksforgeeks.org/what-is-the-role-of-chlorophyll-in-photosynthesis/', 'content': 'The role of chlorophyll in photosynthesis is crucial for converting light energy into chemical energy, enabling plants to synthesize organic compounds. Chlorophyll absorbs sunlight to convert light energy into chemical energy. Found in plant chloroplasts, chlorophyll efficiently absorbs light in the blue and red regions of the spectrum.'}, {'url': 'https://biologyinsights.com/chlorophyll-structure-function-and-diversity-in-photosynthesis/', 'content': 'Explore the intricate role of chlorophyll in photosynthesis, highlighting its structure, function, and diverse types across various organisms. BiologyInsights Team. Published Oct 17, 2024. Chlorophyll is a pigment essential for photosynthesis, the process by which plants, algae, and some bacteria convert light energy into chemical energy. This'}, {'url': 'https://www.savemyexams.com/igcse/biology/cie/23/revision-notes/6-plant-nutrition/6-1-photosynthesis-and-leaf-structure/6-1-2-chlorophyll/', 'content': 'Chlorophyll. Chlorophyll is a green pigment that is found in chloroplasts within plant cells. It reflects green light, giving plants their characteristic green colour. Chlorophyll absorbs light energy; its role is to transfer energy from light into energy in chemicals, for the synthesis of carbohydrates, such as glucose. Photosynthesis will not occur in the absence of chlorophyll'}, {'url': 'https://testbook.com/biology/mention-the-role-of-chlorophyll-in-photosynthesis', 'content': 'Learn the definition, functions and role of chlorophyll in photosynthesis, the process that converts light energy into chemical energy. Find out how chlorophyll absorbs light, splits water, reduces carbon dioxide and produces glucose and oxygen.'}], [{'url': 'https://link.springer.com/article/10.1007/s11120-013-9958-3', 'content': 'In fact, it is well recognized that the relationship between photosynthesis and the environment is key to understanding the health of our planet, in addition to providing clean air, water and food security across the globe. ... (2013) On the role of plant mitochondrial metabolism and its impact on photosynthesis in both optimal and sub-optimal'}, {'url': 'https://pmc.ncbi.nlm.nih.gov/articles/PMC2707351/', 'content': 'Because of the importance of photosynthesis, the selection of papers in this Special Issue focuses on the way this process is affected by environment, particularly water, addressing basic mechanisms. The range of topics is broad, from the changes in gene expression related to conditions in photosynthetic cells, to evolutionary aspects of gene'}, {'url': 'https://pmc.ncbi.nlm.nih.gov/articles/PMC9777213/', 'content': 'Photosynthesis is an important target of action of numerous environmental factors; in particular, stressors can strongly affect photosynthetic light reactions. Considering the reactions of photosynthetic light to electron and proton transport, it can be supposed that an extremely low-frequency magnetic field (ELFMF) may influence these'}, {'url': 'https://www.semanticscholar.org/paper/Photosynthesis-and-the-environment-Cousins-Johnson/dcc57b9ac8ef3713be2c79d77262f83cce11c7a6', 'content': \"This special issue of Photosynthesis Research is a compilation of exciting new work on photosynthesis and the environment at a range of scales from the biophysical and molecular to the physiological and biogeochemical, including evolutionary and ecological perspectives. Nearly 240 years after Joseph Priestley's influential experiments involving a mouse, a plant and a bell jar the need and\"}, {'url': 'https://link.springer.com/article/10.1007/s11816-023-00871-4', 'content': 'Higher level of CO2 results in improved photosynthesis, however, its concentration depends upon environmental conditions. Under adverse climate conditions, the CO2 level drops down that leads to increased oxygenation which impedes the photosynthesis and reduces plant productivity. The impact is more significant and apparent specifically in C3'}]]\n",
            "----------------REVISER AGENT-------------------\n",
            "Revised Respponse:```json\n",
            "{\n",
            "  \"answer\": \"Photosynthesis is a crucial process that occurs in plants, algae, and some bacteria, where light energy is converted into chemical energy [1]. The process involves two stages: the light-dependent reactions and the light-independent reactions (Calvin cycle) [2]. The light-dependent reactions occur in the thylakoid membranes and involve the conversion of light energy into ATP and NADPH [3]. The Calvin cycle, on the other hand, occurs in the stroma and involves the fixation of CO2 into glucose using the ATP and NADPH produced in the light-dependent reactions [4]. Other pigments, such as chlorophyll B, play a role in absorbing light energy and transferring it to chlorophyll A [5]. Photorespiration is a process that occurs in plants when the enzyme RuBisCO oxygenates RuBP, resulting in the loss of fixed carbon as CO2 [6]. The importance of photosynthesis cannot be overstated, as it provides energy and organic compounds for nearly all living organisms [7].\",\n",
            "  \"missing\": \"A detailed explanation of the light-dependent and light-independent reactions, as well as the importance of photosynthesis in the ecosystem and its impact on the environment. Additionally, the role of other pigments and the process of photorespiration could be explored.\",\n",
            "  \"superflous\": \"\",\n",
            "  \"search_queries\": [\"light-dependent reactions\", \"Calvin cycle\", \"photosynthesis\", \"photorespiration\", \"chlorophyll\"],\n",
            "  \"references\": [\n",
            "    \"[1] https://en.wikipedia.org/wiki/Light-dependent_reactions\",\n",
            "    \"[2] https://www.biologyonline.com/dictionary/calvin-cycle\",\n",
            "    \"[3] https://openstax.org/books/biology-ap-courses/pages/8-2-the-light-dependent-reaction-of-photosynthesis\",\n",
            "    \"[4] https://www.thoughtco.com/what-is-the-calvin-cycle-608205\",\n",
            "    \"[5] https://www.sciencing.com/what-are-the-roles-of-chlorophyll-a-b-12526386/\",\n",
            "    \"[6] https://en.wikipedia.org/wiki/Photorespiration\",\n",
            "    \"[7] https://www.britannica.com/question/Why-is-photosynthesis-important\"\n",
            "  ]\n",
            "}\n",
            "```\n",
            "Revised Respponse:dict_keys(['answer', 'missing', 'superflous', 'search_queries', 'references'])\n",
            "----------------DECIDE TO GENERATE-------------------\n",
            "States :{'question': 'What is Photosynthesis.', 'answer': 'Photosynthesis is a crucial process that occurs in plants, algae, and some bacteria, where light energy is converted into chemical energy [1]. The process involves two stages: the light-dependent reactions and the light-independent reactions (Calvin cycle) [2]. The light-dependent reactions occur in the thylakoid membranes and involve the conversion of light energy into ATP and NADPH [3]. The Calvin cycle, on the other hand, occurs in the stroma and involves the fixation of CO2 into glucose using the ATP and NADPH produced in the light-dependent reactions [4]. Other pigments, such as chlorophyll B, play a role in absorbing light energy and transferring it to chlorophyll A [5]. Photorespiration is a process that occurs in plants when the enzyme RuBisCO oxygenates RuBP, resulting in the loss of fixed carbon as CO2 [6]. The importance of photosynthesis cannot be overstated, as it provides energy and organic compounds for nearly all living organisms [7].', 'missing': 'A detailed explanation of the light-dependent and light-independent reactions, as well as the importance of photosynthesis in the ecosystem and its impact on the environment. Additionally, the role of other pigments and the process of photorespiration could be explored.', 'superflous': '', 'search_queries': ['light-dependent reactions', 'Calvin cycle', 'photosynthesis', 'photorespiration', 'chlorophyll'], 'referrences': ['[1] https://en.wikipedia.org/wiki/Light-dependent_reactions', '[2] https://www.biologyonline.com/dictionary/calvin-cycle', '[3] https://openstax.org/books/biology-ap-courses/pages/8-2-the-light-dependent-reaction-of-photosynthesis', '[4] https://www.thoughtco.com/what-is-the-calvin-cycle-608205', '[5] https://www.sciencing.com/what-are-the-roles-of-chlorophyll-a-b-12526386/', '[6] https://en.wikipedia.org/wiki/Photorespiration', '[7] https://www.britannica.com/question/Why-is-photosynthesis-important'], 'tool_iteration': 1, 'curent_time': '2024-12-25 19:56:30', 'max_iterations': 2}\n"
          ]
        }
      ]
    },
    {
      "cell_type": "code",
      "source": [
        "res"
      ],
      "metadata": {
        "id": "vJC_a-6oZNdk",
        "outputId": "d54b5de6-ff9f-4ec5-c058-f597307f22c8",
        "colab": {
          "base_uri": "https://localhost:8080/"
        }
      },
      "execution_count": 387,
      "outputs": [
        {
          "output_type": "execute_result",
          "data": {
            "text/plain": [
              "{'missing': 'A detailed explanation of the light-dependent and light-independent reactions, as well as the importance of photosynthesis in the ecosystem and its impact on the environment. Additionally, the role of other pigments and the process of photorespiration could be explored.',\n",
              " 'superflous': '',\n",
              " 'referrences': ['[1] https://en.wikipedia.org/wiki/Light-dependent_reactions',\n",
              "  '[2] https://www.biologyonline.com/dictionary/calvin-cycle',\n",
              "  '[3] https://openstax.org/books/biology-ap-courses/pages/8-2-the-light-dependent-reaction-of-photosynthesis',\n",
              "  '[4] https://www.thoughtco.com/what-is-the-calvin-cycle-608205',\n",
              "  '[5] https://www.sciencing.com/what-are-the-roles-of-chlorophyll-a-b-12526386/',\n",
              "  '[6] https://en.wikipedia.org/wiki/Photorespiration',\n",
              "  '[7] https://www.britannica.com/question/Why-is-photosynthesis-important'],\n",
              " 'question': 'What is Photosynthesis.',\n",
              " 'answer': 'Photosynthesis is a crucial process that occurs in plants, algae, and some bacteria, where light energy is converted into chemical energy [1]. The process involves two stages: the light-dependent reactions and the light-independent reactions (Calvin cycle) [2]. The light-dependent reactions occur in the thylakoid membranes and involve the conversion of light energy into ATP and NADPH [3]. The Calvin cycle, on the other hand, occurs in the stroma and involves the fixation of CO2 into glucose using the ATP and NADPH produced in the light-dependent reactions [4]. Other pigments, such as chlorophyll B, play a role in absorbing light energy and transferring it to chlorophyll A [5]. Photorespiration is a process that occurs in plants when the enzyme RuBisCO oxygenates RuBP, resulting in the loss of fixed carbon as CO2 [6]. The importance of photosynthesis cannot be overstated, as it provides energy and organic compounds for nearly all living organisms [7].',\n",
              " 'search_queries': ['light-dependent reactions',\n",
              "  'Calvin cycle',\n",
              "  'photosynthesis',\n",
              "  'photorespiration',\n",
              "  'chlorophyll'],\n",
              " 'curent_time': '2024-12-25 19:56:30',\n",
              " 'tool_iteration': 1,\n",
              " 'max_iterations': 2}"
            ]
          },
          "metadata": {},
          "execution_count": 387
        }
      ]
    },
    {
      "cell_type": "code",
      "source": [
        "from IPython.display import display,Markdown,Image\n",
        "display(Markdown(res['answer']+\"\\n\\nReferences:\\n\\n\"+\"\\n\\n\".join(res['referrences'])))"
      ],
      "metadata": {
        "id": "H-3__p-OZMGe",
        "outputId": "b8a74ff3-a5c0-4050-d756-8a6735cc638f",
        "colab": {
          "base_uri": "https://localhost:8080/",
          "height": 320
        }
      },
      "execution_count": 386,
      "outputs": [
        {
          "output_type": "display_data",
          "data": {
            "text/plain": [
              "<IPython.core.display.Markdown object>"
            ],
            "text/markdown": "Photosynthesis is a crucial process that occurs in plants, algae, and some bacteria, where light energy is converted into chemical energy [1]. The process involves two stages: the light-dependent reactions and the light-independent reactions (Calvin cycle) [2]. The light-dependent reactions occur in the thylakoid membranes and involve the conversion of light energy into ATP and NADPH [3]. The Calvin cycle, on the other hand, occurs in the stroma and involves the fixation of CO2 into glucose using the ATP and NADPH produced in the light-dependent reactions [4]. Other pigments, such as chlorophyll B, play a role in absorbing light energy and transferring it to chlorophyll A [5]. Photorespiration is a process that occurs in plants when the enzyme RuBisCO oxygenates RuBP, resulting in the loss of fixed carbon as CO2 [6]. The importance of photosynthesis cannot be overstated, as it provides energy and organic compounds for nearly all living organisms [7].\n\nReferences:\n\n[1] https://en.wikipedia.org/wiki/Light-dependent_reactions\n\n[2] https://www.biologyonline.com/dictionary/calvin-cycle\n\n[3] https://openstax.org/books/biology-ap-courses/pages/8-2-the-light-dependent-reaction-of-photosynthesis\n\n[4] https://www.thoughtco.com/what-is-the-calvin-cycle-608205\n\n[5] https://www.sciencing.com/what-are-the-roles-of-chlorophyll-a-b-12526386/\n\n[6] https://en.wikipedia.org/wiki/Photorespiration\n\n[7] https://www.britannica.com/question/Why-is-photosynthesis-important"
          },
          "metadata": {}
        }
      ]
    }
  ]
}