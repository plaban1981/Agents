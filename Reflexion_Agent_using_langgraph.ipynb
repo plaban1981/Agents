{
  "nbformat": 4,
  "nbformat_minor": 0,
  "metadata": {
    "colab": {
      "provenance": [],
      "authorship_tag": "ABX9TyNPO2XO/fgNsLiJB3ITZw14",
      "include_colab_link": true
    },
    "kernelspec": {
      "name": "python3",
      "display_name": "Python 3"
    },
    "language_info": {
      "name": "python"
    }
  },
  "cells": [
    {
      "cell_type": "markdown",
      "metadata": {
        "id": "view-in-github",
        "colab_type": "text"
      },
      "source": [
        "<a href=\"https://colab.research.google.com/github/plaban1981/Agents/blob/main/Reflexion_Agent_using_langgraph.ipynb\" target=\"_parent\"><img src=\"https://colab.research.google.com/assets/colab-badge.svg\" alt=\"Open In Colab\"/></a>"
      ]
    },
    {
      "cell_type": "markdown",
      "source": [
        "#### Import Required Dependencies"
      ],
      "metadata": {
        "id": "oWp45C6YDMFW"
      }
    },
    {
      "cell_type": "code",
      "execution_count": 1,
      "metadata": {
        "colab": {
          "base_uri": "https://localhost:8080/"
        },
        "id": "RUlyyQtfCyyp",
        "outputId": "10a87b97-ee9c-4988-abb0-192973a3036f"
      },
      "outputs": [
        {
          "output_type": "stream",
          "name": "stdout",
          "text": [
            "\u001b[?25l   \u001b[90m━━━━━━━━━━━━━━━━━━━━━━━━━━━━━━━━━━━━━━━━\u001b[0m \u001b[32m0.0/1.0 MB\u001b[0m \u001b[31m?\u001b[0m eta \u001b[36m-:--:--\u001b[0m\r\u001b[2K   \u001b[91m━━━━━━━━━━━━━━━━━━━━━━━━━━━━━━━━━\u001b[0m\u001b[90m╺\u001b[0m\u001b[90m━━━━━━\u001b[0m \u001b[32m0.8/1.0 MB\u001b[0m \u001b[31m25.2 MB/s\u001b[0m eta \u001b[36m0:00:01\u001b[0m\r\u001b[2K   \u001b[91m━━━━━━━━━━━━━━━━━━━━━━━━━━━━━━━━━━━━━━━\u001b[0m\u001b[91m╸\u001b[0m \u001b[32m1.0/1.0 MB\u001b[0m \u001b[31m17.9 MB/s\u001b[0m eta \u001b[36m0:00:01\u001b[0m\r\u001b[2K   \u001b[90m━━━━━━━━━━━━━━━━━━━━━━━━━━━━━━━━━━━━━━━━\u001b[0m \u001b[32m1.0/1.0 MB\u001b[0m \u001b[31m9.1 MB/s\u001b[0m eta \u001b[36m0:00:00\u001b[0m\n",
            "\u001b[2K   \u001b[90m━━━━━━━━━━━━━━━━━━━━━━━━━━━━━━━━━━━━━━━━\u001b[0m \u001b[32m50.9/50.9 kB\u001b[0m \u001b[31m1.3 MB/s\u001b[0m eta \u001b[36m0:00:00\u001b[0m\n",
            "\u001b[2K   \u001b[90m━━━━━━━━━━━━━━━━━━━━━━━━━━━━━━━━━━━━━━━━\u001b[0m \u001b[32m2.5/2.5 MB\u001b[0m \u001b[31m13.0 MB/s\u001b[0m eta \u001b[36m0:00:00\u001b[0m\n",
            "\u001b[2K   \u001b[90m━━━━━━━━━━━━━━━━━━━━━━━━━━━━━━━━━━━━━━━━\u001b[0m \u001b[32m135.7/135.7 kB\u001b[0m \u001b[31m4.3 MB/s\u001b[0m eta \u001b[36m0:00:00\u001b[0m\n",
            "\u001b[2K   \u001b[90m━━━━━━━━━━━━━━━━━━━━━━━━━━━━━━━━━━━━━━━━\u001b[0m \u001b[32m109.1/109.1 kB\u001b[0m \u001b[31m2.4 MB/s\u001b[0m eta \u001b[36m0:00:00\u001b[0m\n",
            "\u001b[2K   \u001b[90m━━━━━━━━━━━━━━━━━━━━━━━━━━━━━━━━━━━━━━━━\u001b[0m \u001b[32m411.6/411.6 kB\u001b[0m \u001b[31m7.0 MB/s\u001b[0m eta \u001b[36m0:00:00\u001b[0m\n",
            "\u001b[2K   \u001b[90m━━━━━━━━━━━━━━━━━━━━━━━━━━━━━━━━━━━━━━━━\u001b[0m \u001b[32m43.7/43.7 kB\u001b[0m \u001b[31m737.6 kB/s\u001b[0m eta \u001b[36m0:00:00\u001b[0m\n",
            "\u001b[2K   \u001b[90m━━━━━━━━━━━━━━━━━━━━━━━━━━━━━━━━━━━━━━━━\u001b[0m \u001b[32m454.3/454.3 kB\u001b[0m \u001b[31m5.1 MB/s\u001b[0m eta \u001b[36m0:00:00\u001b[0m\n",
            "\u001b[2K   \u001b[90m━━━━━━━━━━━━━━━━━━━━━━━━━━━━━━━━━━━━━━━━\u001b[0m \u001b[32m1.2/1.2 MB\u001b[0m \u001b[31m9.5 MB/s\u001b[0m eta \u001b[36m0:00:00\u001b[0m\n",
            "\u001b[2K   \u001b[90m━━━━━━━━━━━━━━━━━━━━━━━━━━━━━━━━━━━━━━━━\u001b[0m \u001b[32m49.3/49.3 kB\u001b[0m \u001b[31m1.7 MB/s\u001b[0m eta \u001b[36m0:00:00\u001b[0m\n",
            "\u001b[?25h"
          ]
        }
      ],
      "source": [
        "%pip install -qU langchain langchain_openai langchain_groq langchain_community langgraph"
      ]
    },
    {
      "cell_type": "markdown",
      "source": [
        "#### Setup API key"
      ],
      "metadata": {
        "id": "eGVJVoSzEFLf"
      }
    },
    {
      "cell_type": "code",
      "source": [
        "import os\n",
        "from google.colab import userdata\n",
        "os.environ['GROQ_API_KEY'] = userdata.get('GROQ_API_KEY')\n",
        "os.environ[\"TAVILY_API_KEY\"] = userdata.get('TAVILY_API_KEY')"
      ],
      "metadata": {
        "id": "-U6ftWM3EHsq"
      },
      "execution_count": 2,
      "outputs": []
    },
    {
      "cell_type": "markdown",
      "source": [
        "#### Define classes"
      ],
      "metadata": {
        "id": "CgRGmeMnD7hh"
      }
    },
    {
      "cell_type": "code",
      "source": [
        "from typing import List\n",
        "from pydantic import BaseModel,Field\n",
        "#\n",
        "class Reflection(BaseModel):\n",
        "  print(\"----------REFLECTION------------------\")\n",
        "  missing: str = Field(description=\"Critique of what is missing.\")\n",
        "  superflous:str = Field(description=\"Critique of what is superflous\")\n",
        "\n",
        "#\n",
        "class AnswerQuestion(BaseModel):\n",
        "  print(\"----------ANSWER QUESTION------------------\")\n",
        "  answer:str = Field(description=\"`250 word detailed answer to the question.\")\n",
        "  reflection:Reflection = Field(description=\"Your Reflection on the initial answer.\")\n",
        "  search_queries:List[str] = Field(description=\"1-3 search queries for researching improvements to address the critique of your current answer.\")\n",
        "\n",
        "#\n",
        "#forcing citations in the model encourages ground responses\n",
        "class ReviseAnswer(AnswerQuestion):\n",
        "  print(\"----------REVISE ANSWER------------------\")\n",
        "  referrences: List[str] = Field(description=\"Citations motivating your updated answer.\")"
      ],
      "metadata": {
        "colab": {
          "base_uri": "https://localhost:8080/"
        },
        "id": "FQSzq-vxD3Ya",
        "outputId": "42295778-546d-4511-e822-8ec73be87323"
      },
      "execution_count": 3,
      "outputs": [
        {
          "output_type": "stream",
          "name": "stdout",
          "text": [
            "----------REFLECTION------------------\n",
            "----------ANSWER QUESTION------------------\n",
            "----------REVISE ANSWER------------------\n"
          ]
        }
      ]
    },
    {
      "cell_type": "markdown",
      "source": [
        "#### Instantiate LLM"
      ],
      "metadata": {
        "id": "DXSR0kSPG8tB"
      }
    },
    {
      "cell_type": "code",
      "source": [
        "from langchain_groq import ChatGroq\n",
        "MODEL = \"llama3-groq-70b-8192-tool-use-preview\"\n",
        "llm =ChatGroq(model_name=MODEL,temperature=0.0,max_tokens=3000)"
      ],
      "metadata": {
        "id": "rrW0HjrLG54X"
      },
      "execution_count": 4,
      "outputs": []
    },
    {
      "cell_type": "markdown",
      "source": [
        "#### Define Relexion Chains"
      ],
      "metadata": {
        "id": "4JgSpatyHp0M"
      }
    },
    {
      "cell_type": "code",
      "source": [
        "import datetime\n",
        "from langchain_core.prompts import ChatPromptTemplate,HumanMessagePromptTemplate,MessagesPlaceholder\n",
        "from langchain_core.output_parsers import PydanticToolsParser,JsonOutputToolsParser\n",
        "#\n",
        "actor_template = ChatPromptTemplate.from_messages([\n",
        "    (\"system\",\"\"\"You are an expert researcher.\n",
        "    Current Time :{time}\n",
        "\n",
        "    1. {first_instruction}\n",
        "    2. Reflect and critique your answer.Be severe to maximize improvement.\n",
        "    3. Recommend search queries to reserch information and improve your answer.\"\"\"\n",
        "    ),\n",
        "    MessagesPlaceholder(variable_name=\"messages\"),\n",
        "    (\"system\",\"Answer the user's question above using the required format.\")\n",
        "]).partial(time=lambda:datetime.datetime.now().strftime(\"%Y-%m-%d %H:%M:%S\"))\n"
      ],
      "metadata": {
        "id": "-TwoS4lwHhId"
      },
      "execution_count": null,
      "outputs": []
    },
    {
      "cell_type": "code",
      "source": [
        "first_responder = actor_template.partial(\n",
        "first_instruction=\"Provide a detailed ~250 word answer to the question.\"\n",
        ") | llm.bind_tools(tools=[AnswerQuestion],tool_choice=\"AnswerQuestion\")\n"
      ],
      "metadata": {
        "id": "D-8lJr8mJg2g"
      },
      "execution_count": null,
      "outputs": []
    },
    {
      "cell_type": "markdown",
      "source": [
        "#### Define Validator Tool"
      ],
      "metadata": {
        "id": "V99hrkItKwYL"
      }
    },
    {
      "cell_type": "code",
      "source": [
        "validator = PydanticToolsParser(tools=[AnswerQuestion])"
      ],
      "metadata": {
        "id": "AcrlAgicKXoR"
      },
      "execution_count": null,
      "outputs": []
    },
    {
      "cell_type": "markdown",
      "source": [
        "#### Reviser tool"
      ],
      "metadata": {
        "id": "-GELZBBdKp8D"
      }
    },
    {
      "cell_type": "code",
      "source": [
        "revise_instructions = \"\"\"Revise your previous answer using the new information.\n",
        "-You should use the previous critique to add important information to your answer.\n",
        "- You MUST include numerical citations in your revised answer to ensure it can be verified.\n",
        "- Add a 'Referrences' section to the bottom of your answer (Which does not count towards the word limit). In form of\n",
        "  - [1] https://example.com\n",
        "  - [2] https://example.com\n",
        "- You should use the previous critique to remove superflous information from your answer and make SURE it is no more than 250 words.\n",
        "\"\"\"\n",
        "revisor = actor_template.partial(\n",
        "first_instruction=revise_instructions\n",
        ") | llm.bind_tools(tools=[ReviseAnswer],tool_choice=\"ReviseAnswer\")"
      ],
      "metadata": {
        "id": "qkJTC2upKr8Y"
      },
      "execution_count": null,
      "outputs": []
    },
    {
      "cell_type": "markdown",
      "source": [
        "#### Define the Tool"
      ],
      "metadata": {
        "id": "MqS6jNmxNPUC"
      }
    },
    {
      "cell_type": "code",
      "source": [
        "from langchain_community.tools.tavily_search import TavilySearchResults\n",
        "from langchain_community.utilities.tavily_search import TavilySearchAPIWrapper\n",
        "from langchain_core.tools import StructuredTool\n",
        "from langgraph.prebuilt import ToolNode\n",
        "#\n",
        "search = TavilySearchAPIWrapper()\n",
        "tavily_tool = TavilySearchResults(api_wrapper=search,max_results=5)\n",
        "#"
      ],
      "metadata": {
        "id": "SjRcF1cBNR1o"
      },
      "execution_count": null,
      "outputs": []
    },
    {
      "cell_type": "code",
      "source": [
        "def run_queries(search_queries:List[str]):\n",
        "  \"\"\"Run the generated queries\"\"\"\n",
        "  return tavily_tool.batch([{\"query\":query} for query in search_queries])"
      ],
      "metadata": {
        "id": "JHkCLBh9N71N"
      },
      "execution_count": null,
      "outputs": []
    },
    {
      "cell_type": "code",
      "source": [
        "tool_node = ToolNode(\n",
        "    [StructuredTool.from_function(run_queries,name=AnswerQuestion.__name__),\n",
        "     StructuredTool.from_function(run_queries,name=ReviseAnswer.__name__),\n",
        "    ]\n",
        ")"
      ],
      "metadata": {
        "id": "fvQlZ9z4OQ6u"
      },
      "execution_count": null,
      "outputs": []
    },
    {
      "cell_type": "markdown",
      "source": [
        "## Define Node"
      ],
      "metadata": {
        "id": "X_IOhbs3es_s"
      }
    },
    {
      "cell_type": "code",
      "source": [
        "from langgraph.graph import START,MessageGraph,StateGraph,END\n",
        "#\n",
        "max_iterations=3\n",
        "builder = MessageGraph()\n",
        "builder.add_node(\"draft\",first_responder)\n",
        "builder.add_node(\"execute_tool\",tool_node)\n",
        "builder.add_node(\"revise\",revisor)\n",
        "#\n",
        "builder.add_edge(\"draft\",\"execute_tool\")\n",
        "builder.add_edge(\"execute_tool\",\"revise\")\n",
        "#"
      ],
      "metadata": {
        "colab": {
          "base_uri": "https://localhost:8080/"
        },
        "id": "P8GK0WlTeu6D",
        "outputId": "cc6aa5f7-d8b5-4003-ea40-928a890a7702"
      },
      "execution_count": null,
      "outputs": [
        {
          "output_type": "execute_result",
          "data": {
            "text/plain": [
              "<langgraph.graph.message.MessageGraph at 0x78407e30e290>"
            ]
          },
          "metadata": {},
          "execution_count": 66
        }
      ]
    },
    {
      "cell_type": "markdown",
      "source": [
        "#### Define Event Loop"
      ],
      "metadata": {
        "id": "NX8_ZbxMgTd7"
      }
    },
    {
      "cell_type": "code",
      "source": [
        "from langchain_core.messages import BaseMessage,ToolMessage\n",
        "from langchain_core.callbacks import CallbackManager\n",
        "max_iterations =2\n",
        "def event_loop(state:List[BaseMessage]):\n",
        "  count_tool_visits = sum(isinstance(item,ToolMessage) for item in state)\n",
        "  if count_tool_visits >= max_iterations:\n",
        "    return END\n",
        "  return \"execute_tool\""
      ],
      "metadata": {
        "id": "ahJE3RmUgVqW"
      },
      "execution_count": null,
      "outputs": []
    },
    {
      "cell_type": "code",
      "source": [
        "builder.add_conditional_edges(\"revise\",event_loop)\n",
        "builder.set_entry_point(\"draft\")\n",
        "graph = builder.compile()"
      ],
      "metadata": {
        "id": "52Eve7HYm-8q"
      },
      "execution_count": null,
      "outputs": []
    },
    {
      "cell_type": "code",
      "source": [
        "from IPython.display import display,Markdown,Image\n",
        "display(Image(graph.get_graph().draw_mermaid_png()))\n",
        "#"
      ],
      "metadata": {
        "colab": {
          "base_uri": "https://localhost:8080/",
          "height": 449
        },
        "id": "K30pjyJ1piZ0",
        "outputId": "30992a8f-bc95-413a-9f4b-9762d9add410"
      },
      "execution_count": null,
      "outputs": [
        {
          "output_type": "display_data",
          "data": {
            "image/png": "[encoded data removed]",
            "text/plain": [
              "<IPython.core.display.Image object>"
            ]
          },
          "metadata": {}
        }
      ]
    },
    {
      "cell_type": "code",
      "source": [
        "res = graph.invoke(\"Write about PydanticAI agent framework.\")"
      ],
      "metadata": {
        "id": "V-JykoH3p5GZ"
      },
      "execution_count": null,
      "outputs": []
    },
    {
      "cell_type": "code",
      "source": [
        "res[-1].tool_calls[0]"
      ],
      "metadata": {
        "colab": {
          "base_uri": "https://localhost:8080/"
        },
        "id": "kujbdyDNp49G",
        "outputId": "31e15597-de5b-4589-bef0-55d66c24f6fc"
      },
      "execution_count": null,
      "outputs": [
        {
          "output_type": "execute_result",
          "data": {
            "text/plain": [
              "{'name': 'ReviseAnswer',\n",
              " 'args': {'answer': 'The PydanticAI agent framework is a powerful tool for building complex AI applications, offering a structured way to define and manage AI agents, efficient communication, and task distribution. It simplifies the development process and ensures applications are scalable and efficient. The framework supports a variety of AI algorithms and can be easily integrated with existing systems, making it a versatile choice for both new and existing projects. For instance, it can be used to create customer service AI agents that assist human agents by automating repetitive tasks, suggesting responses, and streamlining workflows. Additionally, it can be applied in research and document analysis, such as reading unstructured documents, summarizing content, and mapping company names to tickers for investment analysis. Its applications are revolutionizing the way we build intelligent applications, enabling developers to create sophisticated AI systems that can operate autonomously and adapt to complex environments.',\n",
              "  'referrences': ['https://www.chatbase.co/blog/ai-agent-frameworks',\n",
              "   'https://www.insightpartners.com/ideas/state-of-the-ai-agent-ecosystem-use-cases-and-learnings-for-technology-builders-and-buyers',\n",
              "   'https://research.aimultiple.com/agentic-ai',\n",
              "   'https://blog.fabrichq.ai/exploring-ai-agent-examples-real-world-applications-and-use-cases-1c3b469944ef',\n",
              "   'https://www.projectpro.io/article/ai-agent-frameworks/1068'],\n",
              "  'search_queries': ['AI agent framework use cases',\n",
              "   'Benefits of using PydanticAI',\n",
              "   'Real-world applications of PydanticAI'],\n",
              "  'reflection': {'missing': 'Could include specific use cases or examples of applications built with the framework to make the answer more concrete and practical.',\n",
              "   'superflous': \"The description could avoid using general terms like 'powerful' and 'complex', focusing instead on specific features and their applications.\"}},\n",
              " 'id': 'call_6pty',\n",
              " 'type': 'tool_call'}"
            ]
          },
          "metadata": {},
          "execution_count": 75
        }
      ]
    },
    {
      "cell_type": "code",
      "source": [
        "res[-1].tool_calls[0]['args']['answer']"
      ],
      "metadata": {
        "colab": {
          "base_uri": "https://localhost:8080/",
          "height": 123
        },
        "id": "IDySoEjDufyQ",
        "outputId": "6c642c21-fcd3-418a-dd6e-bfa176802ce5"
      },
      "execution_count": null,
      "outputs": [
        {
          "output_type": "execute_result",
          "data": {
            "text/plain": [
              "'Multi-agent frameworks are a type of software that supports the development of multi-agent systems. These frameworks provide a set of tools, libraries, and services that enable the creation of complex systems where multiple agents can interact, collaborate, and adapt to their environment. They are designed to manage the complexity of developing and running multi-agent systems by providing abstractions, APIs, and runtime environments. Key features include agent management, communication protocols, task scheduling, and conflict resolution mechanisms. These frameworks are applied in various domains such as healthcare, transportation, and e-commerce, where distributed problem-solving and decision-making are crucial. They offer benefits like improved system scalability, flexibility, and fault tolerance. Researchers and practitioners use multi-agent frameworks to model and simulate complex scenarios, test algorithms, and validate system designs before deployment. The development of these frameworks is an active area of research, focusing on enhancing performance, security, and usability. For instance, in healthcare, multi-agent systems can significantly improve patient care and outcomes by enabling efficient management of complex scenarios, providing real-time data analysis, and decision support. In addition, multi-agent frameworks can be optimized to use resources more efficiently, reducing the complexity of managing interactions and tasks as the number of agents increases. However, there are limitations to consider, such as scalability and efficiency, particularly in small-scale simulations that may not accurately reflect real-world scenarios. To address these challenges, it is crucial to understand the specific use case and requirements when choosing a multi-agent framework, and to be aware of the top multi-agent frameworks, their strengths, and limitations.'"
            ],
            "application/vnd.google.colaboratory.intrinsic+json": {
              "type": "string"
            }
          },
          "metadata": {},
          "execution_count": 72
        }
      ]
    },
    {
      "cell_type": "code",
      "source": [
        "res[0]"
      ],
      "metadata": {
        "colab": {
          "base_uri": "https://localhost:8080/"
        },
        "id": "xPfott9Hwc79",
        "outputId": "453e7305-fa45-42ef-920d-89e7946d068d"
      },
      "execution_count": null,
      "outputs": [
        {
          "output_type": "execute_result",
          "data": {
            "text/plain": [
              "HumanMessage(content='Write about PydanticAI agent framework.', additional_kwargs={}, response_metadata={}, id='ab675083-e0d6-4d1e-b9ce-5893f2511281')"
            ]
          },
          "metadata": {},
          "execution_count": 77
        }
      ]
    },
    {
      "cell_type": "code",
      "source": [
        "res[1]"
      ],
      "metadata": {
        "id": "wOpKBhfyyMK0",
        "outputId": "5276beb7-67fd-41cf-993c-42175045bc6d",
        "colab": {
          "base_uri": "https://localhost:8080/"
        }
      },
      "execution_count": null,
      "outputs": [
        {
          "output_type": "execute_result",
          "data": {
            "text/plain": [
              "AIMessage(content='', additional_kwargs={'tool_calls': [{'id': 'call_wc24', 'function': {'arguments': '{\"answer\": \"The PydanticAI agent framework is a powerful tool for building complex AI applications. It provides a structured way to define and manage AI agents, allowing for efficient communication and task distribution. With PydanticAI, developers can create a wide range of AI applications, from simple bots to complex multi-agent systems, all within a well-defined and maintainable framework. This not only simplifies the development process but also ensures that the resulting applications are scalable and efficient. Additionally, the framework supports a variety of AI algorithms and can be easily integrated with existing systems, making it a versatile choice for both new and existing projects.\", \"reflection\": {\"missing\": \"Could include specific use cases or examples of applications built with the framework to make the answer more concrete and practical.\", \"superflous\": \"The description could avoid using general terms like \\'powerful\\' and \\'complex\\', focusing instead on specific features and their applications.\"}, \"search_queries\": [\"AI agent framework use cases\", \"Benefits of using PydanticAI\", \"Real-world applications of PydanticAI\"]}', 'name': 'AnswerQuestion'}, 'type': 'function'}]}, response_metadata={'token_usage': {'completion_tokens': 224, 'prompt_tokens': 453, 'total_tokens': 677, 'completion_time': 0.538389564, 'prompt_time': 0.037028079, 'queue_time': 0.0028580200000000028, 'total_time': 0.575417643}, 'model_name': 'llama3-groq-70b-8192-tool-use-preview', 'system_fingerprint': 'fp_ee4b521143', 'finish_reason': 'tool_calls', 'logprobs': None}, id='run-175607c3-59f6-47f1-b4ae-d82d8b510e6f-0', tool_calls=[{'name': 'AnswerQuestion', 'args': {'answer': 'The PydanticAI agent framework is a powerful tool for building complex AI applications. It provides a structured way to define and manage AI agents, allowing for efficient communication and task distribution. With PydanticAI, developers can create a wide range of AI applications, from simple bots to complex multi-agent systems, all within a well-defined and maintainable framework. This not only simplifies the development process but also ensures that the resulting applications are scalable and efficient. Additionally, the framework supports a variety of AI algorithms and can be easily integrated with existing systems, making it a versatile choice for both new and existing projects.', 'reflection': {'missing': 'Could include specific use cases or examples of applications built with the framework to make the answer more concrete and practical.', 'superflous': \"The description could avoid using general terms like 'powerful' and 'complex', focusing instead on specific features and their applications.\"}, 'search_queries': ['AI agent framework use cases', 'Benefits of using PydanticAI', 'Real-world applications of PydanticAI']}, 'id': 'call_wc24', 'type': 'tool_call'}], usage_metadata={'input_tokens': 453, 'output_tokens': 224, 'total_tokens': 677})"
            ]
          },
          "metadata": {},
          "execution_count": 78
        }
      ]
    },
    {
      "cell_type": "markdown",
      "source": [
        "#### Error\n",
        "\n",
        "* BadRequestError: Error code: 400 - {'error': {'message': 'Please reduce the length of the messages or completion.', 'type': 'invalid_request_error', 'param': 'messages', 'code': 'context_length_exceeded'}}\n",
        "\n"
      ],
      "metadata": {
        "id": "LCVjVft1tfJc"
      }
    },
    {
      "cell_type": "markdown",
      "source": [
        "Hypothesis\n",
        "The error message BadRequestError: Error code: 400 - {'error': {'message': 'Please reduce the length of the messages or completion.', 'type': 'invalid_request_error', 'param': 'messages', 'code': 'context_length_exceeded'}} indicates that the request sent to the Groq API is exceeding the maximum context length allowed by the model you are using (llama3-groq-70b-8192-tool-use-preview).\n",
        "\n",
        "This is likely happening because:\n",
        "\n",
        "Accumulation of Messages: The event_loop function allows the graph to iterate multiple times (\"execute_tool\" -> \"revise\"), and with each iteration, the message history grows. After a few iterations, the total length of messages and the new prompt might exceed the model's context window.\n",
        "Long Input Prompt: The initial prompt \"Write about Multi-Agentic Frameworks.\" might already be quite large, especially if previous interactions have added to the message history.\n",
        "Model Limitations: The llama3-groq-70b-8192-tool-use-preview model has a context window limit. When the total length of the messages and the new prompt exceeds this limit, the API returns a 400 error.\n",
        "Suggested Changes\n",
        "To fix this issue, you can try the following:\n",
        "\n",
        "Reduce the Number of Iterations: Reduce the max_iterations value in your event_loop function to limit the number of times the graph iterates and accumulates messages.\n",
        "\n",
        "max_iterations = 1  # Reduced from 2 to 1\n",
        "   def event_loop(state:List[BaseMessage]):\n",
        "     count_tool_visits = sum(isinstance(item,ToolMessage) for item in state)\n",
        "     if count_tool_visits >= max_iterations:\n",
        "       return END\n",
        "     return \"execute_tool\"\n",
        "Use code with caution\n",
        "Shorten the Input Prompt: Try providing a shorter, more specific initial prompt to reduce the initial context size. For example, instead of \"Write about Multi-Agentic Frameworks.\", you could try \"Explain the key concepts of Multi-Agentic Frameworks.\"\n",
        "\n",
        "Memory Management: Implement a memory management strategy to trim the conversation history. You could keep only the most recent or relevant messages, summarize previous exchanges, or use a sliding window to limit the history size. LangChain offers various memory implementations that can be integrated into your chain.\n",
        "\n",
        "Increase max_tokens in llm instantiation: If possible, increase the max_tokens parameter when instantiating the ChatGroq object. However, be mindful of the model's context window limit.\n",
        "\n",
        "\n",
        "llm = ChatGroq(model_name=MODEL, temperature=0.0, max_tokens=2000)  # Increased max_tokens\n",
        "Use code with caution\n",
        "By implementing these changes, you can reduce the likelihood of exceeding the context window limit and avoid the BadRequestError. Remember to experiment with different approaches to find the best solution for your specific use case.\n",
        "\n",
        "Sources"
      ],
      "metadata": {
        "id": "o_mpHW7Atneh"
      }
    },
    {
      "cell_type": "markdown",
      "source": [
        "## Method 2"
      ],
      "metadata": {
        "id": "id2DqOpeNvbf"
      }
    },
    {
      "cell_type": "code",
      "source": [
        "from typing import List\n",
        "from pydantic import BaseModel,Field\n",
        "#\n",
        "class AnswerQuestion(BaseModel):\n",
        "  print(\"----------ANSWER QUESTION------------------\")\n",
        "  answer:str = Field(description=\"`250 word detailed answer to the question.\")\n",
        "  missing: str = Field(description=\"Critique of what is missing.\")\n",
        "  superflous:str = Field(description=\"Critique of what is superflous\")\n",
        "  search_queries:List[str] = Field(description=\"1-3 search queries for researching improvements to address the critique of your current answer.\")\n",
        "\n",
        "#\n",
        "#forcing citations in the model encourages ground responses\n",
        "class ReviseAnswer(BaseModel):\n",
        "  print(\"----------REVISE ANSWER------------------\")\n",
        "  answer:str = Field(description=\"`250 word detailed answer to the question.\")\n",
        "  missing: str = Field(description=\"Critique of what is missing.\")\n",
        "  superflous:str = Field(description=\"Critique of what is superflous\")\n",
        "  search_queries:List[str] = Field(description=\"1-3 search queries for researching improvements to address the critique of your current answer.\")\n",
        "  referrences: List[str] = Field(description=\"List of Citations motivating your updated answer.\")\n"
      ],
      "metadata": {
        "colab": {
          "base_uri": "https://localhost:8080/"
        },
        "id": "IprO7WjWgp_r",
        "outputId": "4642b242-7317-479b-eaea-c50518736c14"
      },
      "execution_count": 133,
      "outputs": [
        {
          "output_type": "stream",
          "name": "stdout",
          "text": [
            "----------ANSWER QUESTION------------------\n",
            "----------REVISE ANSWER------------------\n"
          ]
        }
      ]
    },
    {
      "cell_type": "code",
      "source": [
        "ReviseAnswer"
      ],
      "metadata": {
        "colab": {
          "base_uri": "https://localhost:8080/",
          "height": 186
        },
        "id": "9e75M88pj2mR",
        "outputId": "cad757ed-70ba-4094-f746-3dae471ad32b"
      },
      "execution_count": 73,
      "outputs": [
        {
          "output_type": "execute_result",
          "data": {
            "text/plain": [
              "__main__.ReviseAnswer"
            ],
            "text/html": [
              "<div style=\"max-width:800px; border: 1px solid var(--colab-border-color);\"><style>\n",
              "      pre.function-repr-contents {\n",
              "        overflow-x: auto;\n",
              "        padding: 8px 12px;\n",
              "        max-height: 500px;\n",
              "      }\n",
              "\n",
              "      pre.function-repr-contents.function-repr-contents-collapsed {\n",
              "        cursor: pointer;\n",
              "        max-height: 100px;\n",
              "      }\n",
              "    </style>\n",
              "    <pre style=\"white-space: initial; background:\n",
              "         var(--colab-secondary-surface-color); padding: 8px 12px;\n",
              "         border-bottom: 1px solid var(--colab-border-color);\"><b>ReviseAnswer</b><br/>def __init__(self, /, **data: Any) -&gt; None</pre><pre class=\"function-repr-contents function-repr-contents-collapsed\" style=\"\"><a class=\"filepath\" style=\"display:none\" href=\"#\"></a>Usage docs: https://docs.pydantic.dev/2.10/concepts/models/\n",
              "\n",
              "A base class for creating Pydantic models.\n",
              "\n",
              "Attributes:\n",
              "    __class_vars__: The names of the class variables defined on the model.\n",
              "    __private_attributes__: Metadata about the private attributes of the model.\n",
              "    __signature__: The synthesized `__init__` [`Signature`][inspect.Signature] of the model.\n",
              "\n",
              "    __pydantic_complete__: Whether model building is completed, or if there are still undefined fields.\n",
              "    __pydantic_core_schema__: The core schema of the model.\n",
              "    __pydantic_custom_init__: Whether the model has a custom `__init__` function.\n",
              "    __pydantic_decorators__: Metadata containing the decorators defined on the model.\n",
              "        This replaces `Model.__validators__` and `Model.__root_validators__` from Pydantic V1.\n",
              "    __pydantic_generic_metadata__: Metadata for generic models; contains data used for a similar purpose to\n",
              "        __args__, __origin__, __parameters__ in typing-module generics. May eventually be replaced by these.\n",
              "    __pydantic_parent_namespace__: Parent namespace of the model, used for automatic rebuilding of models.\n",
              "    __pydantic_post_init__: The name of the post-init method for the model, if defined.\n",
              "    __pydantic_root_model__: Whether the model is a [`RootModel`][pydantic.root_model.RootModel].\n",
              "    __pydantic_serializer__: The `pydantic-core` `SchemaSerializer` used to dump instances of the model.\n",
              "    __pydantic_validator__: The `pydantic-core` `SchemaValidator` used to validate instances of the model.\n",
              "\n",
              "    __pydantic_fields__: A dictionary of field names and their corresponding [`FieldInfo`][pydantic.fields.FieldInfo] objects.\n",
              "    __pydantic_computed_fields__: A dictionary of computed field names and their corresponding [`ComputedFieldInfo`][pydantic.fields.ComputedFieldInfo] objects.\n",
              "\n",
              "    __pydantic_extra__: A dictionary containing extra values, if [`extra`][pydantic.config.ConfigDict.extra]\n",
              "        is set to `&#x27;allow&#x27;`.\n",
              "    __pydantic_fields_set__: The names of fields explicitly set during instantiation.\n",
              "    __pydantic_private__: Values of private attributes set on the model instance.</pre></div>"
            ]
          },
          "metadata": {},
          "execution_count": 73
        }
      ]
    },
    {
      "cell_type": "code",
      "source": [
        "from typing import TypedDict,List\n",
        "## State\n",
        "class GraphState(TypedDict):\n",
        "  missing: str\n",
        "  superflous:str\n",
        "  referrences : List[str]\n",
        "  question : str\n",
        "  answer : str\n",
        "  search_queries:List[str]\n",
        "  curent_time:str\n",
        "  tool_iteration:int\n",
        "  max_iterations : int\n"
      ],
      "metadata": {
        "id": "dpb4O5WOtScs"
      },
      "execution_count": 324,
      "outputs": []
    },
    {
      "cell_type": "markdown",
      "source": [
        "## Define Nodes"
      ],
      "metadata": {
        "id": "BrB3DmOIOidt"
      }
    },
    {
      "cell_type": "code",
      "source": [
        "from langchain_core.prompts import PromptTemplate\n",
        "from langchain_core.output_parsers import PydanticOutputParser,JsonOutputParser\n",
        "from langchain.output_parsers import OutputFixingParser"
      ],
      "metadata": {
        "id": "xdX7zxVxRUyY"
      },
      "execution_count": 325,
      "outputs": []
    },
    {
      "cell_type": "code",
      "source": [
        "def first_responder(state:GraphState):\n",
        "  print(\"----------------FIRST RESPONDER-------------------\")\n",
        "  question = state[\"question\"]\n",
        "  current_time = state[\"curent_time\"]\n",
        "  prompt_template = \"\"\"You are an expert researcher.\n",
        "    Current Time :{current_time}\n",
        "    Question : {question}\n",
        "    1. Provide a detailed ~250 word answer to the question.\n",
        "    2. Reflect and critique your answer.Be severe to maximize improvement.\n",
        "    3. Recommend search queries to reserch information and improve your answer.\n",
        "   Answer the user's question above using the required format.\n",
        "   Provide the Response in a JSON format with key variables as 'answer' , 'missing', 'superflous' and 'search_queries'\"\"\"\n",
        "\n",
        "  prompt = PromptTemplate(template=prompt_template,input_variables=[\"question\",\"current_time\"])\n",
        "  parser  = JsonOutputParser(pydantic_object=AnswerQuestion)\n",
        "  responder_chain = prompt | llm | parser\n",
        "  response =  responder_chain.invoke({\"question\":question,\"current_time\":current_time})\n",
        "  print(response)\n",
        "  try:\n",
        "    pass\n",
        "  except Exception as e:\n",
        "    print(f\"Error:{e}\")\n",
        "    new_parser = OutputFixingParser.from_llm(parser=parser,llm=llm)\n",
        "    response = new_parser.parse(response)\n",
        "\n",
        "  return {\"question\":question,\"answer\":response['answer'],\"missing\":response.get('missing',''),\"superflous\":response.get('superflous',''), \"search_queries\": response['search_queries']}"
      ],
      "metadata": {
        "id": "OjwgdNUhOhbN"
      },
      "execution_count": 326,
      "outputs": []
    },
    {
      "cell_type": "markdown",
      "source": [
        "## External Tool"
      ],
      "metadata": {
        "id": "wCjU1D4NVMXr"
      }
    },
    {
      "cell_type": "code",
      "source": [
        "from langchain_community.tools.tavily_search import TavilySearchResults\n",
        "from langchain_community.utilities.tavily_search import TavilySearchAPIWrapper\n",
        "from langchain_core.tools import StructuredTool\n",
        "from langgraph.prebuilt import ToolNode\n",
        "#\n",
        "search = TavilySearchAPIWrapper()\n",
        "tavily_tool = TavilySearchResults(api_wrapper=search,max_results=5)\n"
      ],
      "metadata": {
        "id": "8rLRNLIwVQ8S"
      },
      "execution_count": 327,
      "outputs": []
    },
    {
      "cell_type": "code",
      "source": [
        "r = tavily_tool.run(\"Write about PydanticAI agent framework.\")"
      ],
      "metadata": {
        "id": "vOmhob1muyth"
      },
      "execution_count": 188,
      "outputs": []
    },
    {
      "cell_type": "code",
      "source": [
        "len(r)"
      ],
      "metadata": {
        "colab": {
          "base_uri": "https://localhost:8080/"
        },
        "id": "cvyeO9ezu4wB",
        "outputId": "b1c399af-91b6-4166-b94b-3b31e31446ef"
      },
      "execution_count": 154,
      "outputs": [
        {
          "output_type": "execute_result",
          "data": {
            "text/plain": [
              "5"
            ]
          },
          "metadata": {},
          "execution_count": 154
        }
      ]
    },
    {
      "cell_type": "code",
      "source": [
        "r[0]"
      ],
      "metadata": {
        "colab": {
          "base_uri": "https://localhost:8080/"
        },
        "id": "rYTy6Quw0w3b",
        "outputId": "9ec1ee93-ae22-408c-fe07-4bc40798e514"
      },
      "execution_count": 155,
      "outputs": [
        {
          "output_type": "execute_result",
          "data": {
            "text/plain": [
              "{'url': 'https://medium.com/ai-agent-insider/pydantic-ai-agent-framework-02b138e8db71',\n",
              " 'content': 'Pydantic AI: Agent Framework. Pydantic AI: Agent Framework Pydantic AI: Agent Framework AI Agent Insider Pydantic AI is a Python framework that acts as a bridge between developers and LLMs, providing tools to create agents — entities that execute specific tasks based on system prompts, functions, and structured outputs. In Pydantic AI, an agent is a unit that combines the following components: Here’s a basic example of using Pydantic AI to create an agent that responds to user queries: from pydantic_ai import Agent, RunContext   from pydantic_ai import Agent Install Pydantic AI today and build your first agent! Pydantic Ai Agent Published in AI Agent Insider ----------------------------- AI Agent Insider AI Agent Insider See all from AI Agent Insider'}"
            ]
          },
          "metadata": {},
          "execution_count": 155
        }
      ]
    },
    {
      "cell_type": "code",
      "source": [
        "def run_queries(state:GraphState):\n",
        "  print(\"----------------TAVILY SEARCH RUN QUERIES-------------------\")\n",
        "  search_queries = state.get(\"search_queries\",'')\n",
        "  if search_queries == '':\n",
        "    queries = [state['question']]\n",
        "  else:\n",
        "    queries = search_queries\n",
        "\n",
        "  response = tavily_tool.batch([{\"query\":query} for query in search_queries])\n",
        "  print(f\"TAVILY Response :{response}\")\n",
        "  return {\"referrences\":response}\n",
        "#"
      ],
      "metadata": {
        "id": "K7AKFURrVg52"
      },
      "execution_count": 328,
      "outputs": []
    },
    {
      "cell_type": "markdown",
      "source": [
        "## Define Reviser Agent"
      ],
      "metadata": {
        "id": "hsrVHZy6WJq_"
      }
    },
    {
      "cell_type": "code",
      "source": [
        "def revise_answer(state:GraphState):\n",
        "  print(\"----------------REVISER AGENT-------------------\")\n",
        "  revise_instructions = \"\"\"Revise your previous answer using the new information.The revised answer should be meaningful and SHOULD INCLUDE Citations.\n",
        "  PREVIOUS CRITIQUE INFORMATION\n",
        "  Missing: {missing}\n",
        "  Superflous: {superflous}\n",
        "\n",
        "  NEW INFORMATION\n",
        "  {referrences}\n",
        "\n",
        "-You should use the previous critique to add important information to your answer.\n",
        "- You MUST include numerical citations in your revised answer to ensure it can be verified.\n",
        "- Add a 'Referrences' section to the bottom of your answer (Which does not count towards the word limit). In form of\n",
        "  - [1] https://example.com\n",
        "  - [2] https://example.com\n",
        "- You should use the previous critique to remove superflous information from your answer and make SURE it is no more than 250 words.\n",
        "- The content for the JSON key 'answer' should be in MARKDOWN Format,should include citations and should have a professional tone.\n",
        "STRICTLY Provide the Response in a JSON format with key variables as 'answer','missing','superflous','search_queries and 'referrences'\n",
        "\"\"\"\n",
        "  prompt_template = PromptTemplate(template=revise_instructions,input_variables=[\"missing\",\"superflous\",\"referrences\"])\n",
        "  parser  = JsonOutputParser(pydantic_object=ReviseAnswer)\n",
        "  inputs = {\"missing\":state[\"missing\"],\"superflous\":state[\"superflous\"],\"referrences\":state[\"referrences\"]}\n",
        "\n",
        "  urls = []\n",
        "  revise_chain  = prompt_template | llm\n",
        "  response = revise_chain.invoke(inputs)\n",
        "  print(f\"Revised Respponse:{response.content}\")\n",
        "  try:\n",
        "    response = parser.parse(response.content)\n",
        "  except Exception as e:\n",
        "    print(f\"Error:{e}\")\n",
        "    new_parser = OutputFixingParser.from_llm(parser=parser,llm=llm)\n",
        "    response = new_parser.parse(response.content)\n",
        "  print(f\"Revised Respponse:{response.keys()}\")\n",
        "  custom_tool_iteration = state['tool_iteration'] + 1\n",
        "\n",
        "  return {\"question\":state['question'],\"answer\":response['answer'],\"missing\":response.get('missing',''),\"superflous\":response.get('superflous',''), \"search_queries\": response.get('search_queries',\"\"),\"referrences\":response.get('references',''),'tool_iteration':custom_tool_iteration}"
      ],
      "metadata": {
        "id": "SXUt2u5MWMmA"
      },
      "execution_count": 329,
      "outputs": []
    },
    {
      "cell_type": "markdown",
      "source": [
        "## Decide to generate"
      ],
      "metadata": {
        "id": "WLJbYWdXaB79"
      }
    },
    {
      "cell_type": "code",
      "source": [
        "def decide_to_generate(state:GraphState):\n",
        "  print(\"----------------DECIDE TO GENERATE-------------------\")\n",
        "  print(f\"States :{state}\")\n",
        "  count_tool_visits = state[\"tool_iteration\"] + 1\n",
        "  max_iteration = state[\"max_iterations\"]\n",
        "  if count_tool_visits >= max_iterations or state['search_queries'] == '':\n",
        "    return END\n",
        "  else:\n",
        "    count_tool_visits += 1\n",
        "    state[\"tool_iteration\"] = count_tool_visits\n",
        "    return \"execute_tool\"\n",
        "\n",
        "\n",
        "\n"
      ],
      "metadata": {
        "id": "0k8a0uKlaEdS"
      },
      "execution_count": 337,
      "outputs": []
    },
    {
      "cell_type": "markdown",
      "source": [
        "## Add Nodes"
      ],
      "metadata": {
        "id": "B4ZNJLdEaqkO"
      }
    },
    {
      "cell_type": "code",
      "source": [
        "from langgraph.graph import START,StateGraph,END\n",
        "#\n",
        "builder = StateGraph(GraphState)\n",
        "builder.add_node(\"draft\",first_responder)\n",
        "builder.add_node(\"execute_tool\",run_queries)\n",
        "builder.add_node(\"revise\",revise_answer)\n",
        "#\n",
        "builder.add_edge(\"draft\",\"execute_tool\")\n",
        "builder.add_edge(\"execute_tool\",\"revise\")\n",
        "#\n",
        "builder.add_conditional_edges(\"revise\",decide_to_generate)\n",
        "builder.set_entry_point(\"draft\")\n",
        "graph = builder.compile()"
      ],
      "metadata": {
        "id": "IoJAQPAlasOd"
      },
      "execution_count": 338,
      "outputs": []
    },
    {
      "cell_type": "markdown",
      "source": [
        "## View Langgraph"
      ],
      "metadata": {
        "id": "nRsfN3vMbiJ7"
      }
    },
    {
      "cell_type": "code",
      "source": [
        "from IPython.display import display,Markdown,Image\n",
        "display(Image(graph.get_graph().draw_mermaid_png()))\n",
        "#"
      ],
      "metadata": {
        "colab": {
          "base_uri": "https://localhost:8080/",
          "height": 449
        },
        "id": "lc0it20NbkO7",
        "outputId": "dae04900-12e0-4048-b513-f7839a343baa"
      },
      "execution_count": 332,
      "outputs": [
        {
          "output_type": "display_data",
          "data": {
            "image/png": "[encoded data removed]",
            "text/plain": [
              "<IPython.core.display.Image object>"
            ]
          },
          "metadata": {}
        }
      ]
    },
    {
      "cell_type": "code",
      "source": [
        "import datetime\n",
        "from langchain_groq import ChatGroq\n",
        "llm = ChatGroq(model_name=\"llama3-8b-8192\",temperature=0.0,max_tokens=3000)\n",
        "query = \"Write about PydanticAI agent framework.\"\n",
        "current_time = datetime.datetime.now().strftime(\"%Y-%m-%d %H:%M:%S\")\n",
        "inputs = {\"question\":query,\"curent_time\":current_time,\"tool_iteration\":0,\"max_iterations\":2}\n",
        "res = graph.invoke(inputs)"
      ],
      "metadata": {
        "colab": {
          "base_uri": "https://localhost:8080/"
        },
        "id": "P7pD26Tbb4Xo",
        "outputId": "2bcbac65-8ed6-412e-9629-36f132f6b9f0"
      },
      "execution_count": 339,
      "outputs": [
        {
          "output_type": "stream",
          "name": "stdout",
          "text": [
            "----------------FIRST RESPONDER-------------------\n",
            "{'answer': 'PydanticAI is an open-source, Python-based agent framework designed for building and deploying artificial intelligence (AI) and machine learning (ML) models. It provides a modular architecture that enables developers to create, train, and deploy AI agents that can interact with various environments, such as games, simulations, and real-world scenarios.\\n\\nPydanticAI is built on top of the Pydantic library, which provides a robust and flexible way to define and validate data models. The framework includes a range of features, such as support for reinforcement learning, imitation learning, and transfer learning, making it suitable for a wide range of AI applications.\\n\\nOne of the key benefits of PydanticAI is its ability to simplify the development and deployment of AI agents. It provides a high-level API that abstracts away many of the low-level details of AI development, allowing developers to focus on the logic and strategy of their agents rather than the underlying implementation.\\n\\nPydanticAI has been used in a variety of applications, including robotics, autonomous vehicles, and game development. Its modular architecture and flexible design make it a popular choice among researchers and developers working on AI-related projects.\\n\\nOverall, PydanticAI is a powerful and flexible agent framework that provides a solid foundation for building and deploying AI models. Its ease of use, flexibility, and scalability make it an attractive choice for developers and researchers working on AI-related projects.', 'missing': ['more information on the architecture and design of PydanticAI', 'specific examples of AI applications built using PydanticAI'], 'superflous': ['none'], 'search_queries': ['PydanticAI architecture', 'PydanticAI features', 'PydanticAI applications', 'PydanticAI vs other AI frameworks']}\n",
            "----------------TAVILY SEARCH RUN QUERIES-------------------\n",
            "TAVILY Response :[[{'url': 'https://www.infoq.com/news/2024/12/pydanticai-framework-gen-ai/', 'content': \"PydanticAI: A New Python Framework for Streamlined Generative AI Development - InfoQ InfoQ Homepage News PydanticAI: A New Python Framework for Streamlined Generative AI Development The team behind Pydantic, widely used for data validation in Python, has announced the release of PydanticAI, a Python-based agent framework designed to ease the development of production-ready Generative AI applications. PydanticAI stands out with a range of features designed to simplify and enhance Generative AI application development: PydanticAI's focus on type safety, straightforward design, and compatibility with Python development practices positions it as a practical tool for creating Generative AI applications. Level-up on 15 major software and leadership topics including; The Tech of FinTech, AI & ML in Software Engineering, Modern Data Architectures, Engineering Productivity, The Path to Senior Engineering Leadership, Supply Chain Security, and more.\"}, {'url': 'https://github.com/pydantic/pydantic-ai', 'content': \"GitHub - pydantic/pydantic-ai: Agent Framework / shim to use Pydantic with LLMs Agent Framework / shim to use Pydantic with LLMs Agent Framework / shim to use Pydantic with LLMs PydanticAI is a Python Agent Framework designed to make it less painful to build production grade applications with Generative AI. from pydantic_ai import Agent Here is a concise example using PydanticAI to build a support agent for a bank: from pydantic_ai import Agent, RunContext This pydantic model defines the structure of the result returned by the agent. In this case, the support agent has type Agent[SupportDependencies, SupportResult]. @support_agent.system_prompt result = await support_agent.run('What is my balance?', deps=deps) result = await support_agent.run('I just lost my card!', deps=deps) Agent Framework / shim to use Pydantic with LLMs\"}, {'url': 'https://medium.com/ai-agent-insider/pydantic-ai-agent-framework-02b138e8db71', 'content': 'Pydantic AI: Agent Framework. Pydantic AI: Agent Framework Pydantic AI: Agent Framework AI Agent Insider Pydantic AI is a Python framework that acts as a bridge between developers and LLMs, providing tools to create agents — entities that execute specific tasks based on system prompts, functions, and structured outputs. In Pydantic AI, an agent is a unit that combines the following components: Here’s a basic example of using Pydantic AI to create an agent that responds to user queries: from pydantic_ai import Agent, RunContext   from pydantic_ai import Agent Install Pydantic AI today and build your first agent! Pydantic Ai Agent Published in AI Agent Insider ----------------------------- AI Agent Insider AI Agent Insider See all from AI Agent Insider'}, {'url': 'https://ai.pydantic.dev/', 'content': \"pydantic_ai.Agent from pydantic_ai import Agent Here is a concise example using PydanticAI to build a support agent for a bank: from pydantic_ai import Agent, RunContext @support_agent.system_prompt  # (5)! result = await support_agent.run('What is my balance?', deps=deps)  # (8)! result = await support_agent.run('I just lost my card!', deps=deps) PydanticAI's system of dependency injection provides a type-safe way to customise the behavior of your agents, and can be especially useful when running unit tests and evals. This Pydantic model is used to constrain the structured data returned by the agent. To understand the flow of the above runs, we can watch the agent in action using Pydantic Logfire.\"}, {'url': 'https://medium.com/data-science-in-your-pocket/pydanticai-pydantic-ai-agent-framework-for-llms-6c60c86e0e48', 'content': 'PydanticAI: Pydantic AI Agent Framework for LLMs | by Mehul Gupta | Data Science in your pocket | Dec, 2024 | Medium PydanticAI: Pydantic AI Agent Framework for LLMs Of all the releases so far, PydanticAI agentic framework appears to be the most useful and important release due to its support for Pydantic with LLMs If the user submits invalid data (e.g., \"age\": \"twenty-five\"), Pydantic will throw an error automatically: from pydantic_ai import Agent, RunContext   Purpose: Defines dependencies the agent needs, like the customer ID and a database connection (db). Use: Passed to the agent to access customer-specific data during queries By leveraging Pydantic’s data validation capabilities and integrating seamlessly with LLMs, it ensures structured, type-safe, and secure interactions.'}], [{'url': 'https://www.infoq.com/news/2024/12/pydanticai-framework-gen-ai/', 'content': \"PydanticAI: A New Python Framework for Streamlined Generative AI Development - InfoQ InfoQ Homepage News PydanticAI: A New Python Framework for Streamlined Generative AI Development The team behind Pydantic, widely used for data validation in Python, has announced the release of PydanticAI, a Python-based agent framework designed to ease the development of production-ready Generative AI applications. PydanticAI stands out with a range of features designed to simplify and enhance Generative AI application development: PydanticAI's focus on type safety, straightforward design, and compatibility with Python development practices positions it as a practical tool for creating Generative AI applications. Level-up on 15 major software and leadership topics including; The Tech of FinTech, AI & ML in Software Engineering, Modern Data Architectures, Engineering Productivity, The Path to Senior Engineering Leadership, Supply Chain Security, and more.\"}, {'url': 'https://aipure.ai/products/pydantic-ai/introduction', 'content': \"PydanticAI is a Python Agent Framework that streamlines the development of production-grade AI applications by combining Pydantic's powerful data validation with LLM integration, offering type-safe dependency injection and model-agnostic support. PydanticAI is an innovative agent framework developed by the team behind Pydantic, designed to simplify the process of building production-grade applications with Generative AI. The framework also supports streamed responses and can validate structured responses using Pydantic models, making it particularly powerful for complex AI applications that require reliable data handling. CopilotForXcode is an Xcode Source Editor Extension that integrates GitHub Copilot, Codeium, and ChatGPT to provide AI-powered code suggestions, chat assistance, and prompt-to-code functionality within Xcode. BLACKBOX AI is an AI-powered coding assistant that helps developers write, debug, and optimize code faster through code generation, chat, and search capabilities.\"}, {'url': 'https://aipure.ai/products/pydantic-ai/features', 'content': \"PydanticAI is a Python Agent Framework that streamlines the development of production-grade AI applications by combining Pydantic's powerful data validation with LLM integration, offering type-safe dependency injection and model-agnostic support. PydanticAI is a Python Agent Framework designed for building production-grade applications with Generative AI, developed by the team behind Pydantic. Cart.ai is an AI-powered service platform that provides comprehensive business automation solutions including coding, customer relations management, video editing, e-commerce setup, and custom AI development with 24/7 support. GitHub Copilot Chat is an AI-powered coding assistant that provides natural language interactions, real-time code suggestions, and contextual support directly within supported IDEs and GitHub.com. CopilotForXcode is an Xcode Source Editor Extension that integrates GitHub Copilot, Codeium, and ChatGPT to provide AI-powered code suggestions, chat assistance, and prompt-to-code functionality within Xcode.\"}, {'url': 'https://www.analyticsvidhya.com/blog/2024/12/pydanticai/', 'content': 'This blog post explores an innovative approach to SQL-code generation and SQL code explanation using the Latest PydanticAI Framework and Google’s Gemini-1.5 model, demonstrating how cutting-edge AI technologies can streamline and enhance database query development. PydanticAI is a Python Agent framework developed by the creator of Pydantic, FastAPI to streamline the construction of production-grade applications utilizing Generative AI, It emphasizes type safety, model-agnostic design, and seamless integration with large language models (LLMs). Generative AI| Large Language Models| Building LLM Applications using Prompt Engineering| Building Your first RAG System using LlamaIndex| Stability.AI| MidJourney| Building Production Ready RAG systems using LlamaIndex| Building LLMs for Code| Deep Learning| Python| Microsoft Excel| Machine Learning| Decision Trees| Pandas for Data Analysis| Ensemble Learning| NLP| NLP using Deep Learning| Neural Networks| Loan Prediction Practice Problem| Time Series Forecasting| Tableau| Business Analytics'}, {'url': 'https://medium.com/@samarrana407/pydantic-ai-the-python-agent-framework-to-build-production-grade-ai-agents-0ce322654fd7', 'content': 'Pydantic AI: The Python Agent Framework to BUILD Production-Grade AI Agents! | by Samar Singh | Dec, 2024 | Medium Pydantic AI: The Python Agent Framework to BUILD Production-Grade AI Agents! Samar Singh Now, its creators are venturing into the cutting-edge domain of AI with Pydantic AI, a framework designed for building production-grade applications powered by Generative AI. In this article, we’ll delve into what makes Pydantic AI unique, its key features, and how it compares to other agent frameworks. Why Pydantic AI? Pydantic AI builds on the trusted foundation of Pydantic, which powers popular Python libraries like FastAPI, LangChain, and AutoGPT. Production-Readiness: A focus on building robust applications with dynamic prompts, structured responses, and integration with observability tools like Logfire. Written by Samar Singh ----------------------'}], [{'url': 'https://www.infoq.com/news/2024/12/pydanticai-framework-gen-ai/', 'content': \"PydanticAI: A New Python Framework for Streamlined Generative AI Development - InfoQ InfoQ Homepage News PydanticAI: A New Python Framework for Streamlined Generative AI Development The team behind Pydantic, widely used for data validation in Python, has announced the release of PydanticAI, a Python-based agent framework designed to ease the development of production-ready Generative AI applications. PydanticAI stands out with a range of features designed to simplify and enhance Generative AI application development: PydanticAI's focus on type safety, straightforward design, and compatibility with Python development practices positions it as a practical tool for creating Generative AI applications. Level-up on 15 major software and leadership topics including; The Tech of FinTech, AI & ML in Software Engineering, Modern Data Architectures, Engineering Productivity, The Path to Senior Engineering Leadership, Supply Chain Security, and more.\"}, {'url': 'https://www.analyticsvidhya.com/blog/2024/12/pydanticai/', 'content': 'This blog post explores an innovative approach to SQL-code generation and SQL code explanation using the Latest PydanticAI Framework and Google’s Gemini-1.5 model, demonstrating how cutting-edge AI technologies can streamline and enhance database query development. PydanticAI is a Python Agent framework developed by the creator of Pydantic, FastAPI to streamline the construction of production-grade applications utilizing Generative AI, It emphasizes type safety, model-agnostic design, and seamless integration with large language models (LLMs). Generative AI| Large Language Models| Building LLM Applications using Prompt Engineering| Building Your first RAG System using LlamaIndex| Stability.AI| MidJourney| Building Production Ready RAG systems using LlamaIndex| Building LLMs for Code| Deep Learning| Python| Microsoft Excel| Machine Learning| Decision Trees| Pandas for Data Analysis| Ensemble Learning| NLP| NLP using Deep Learning| Neural Networks| Loan Prediction Practice Problem| Time Series Forecasting| Tableau| Business Analytics'}, {'url': 'https://medium.com/@gopiariv/a-comprehensive-introduction-to-pydanticai-building-production-grade-llm-applications-part-1-9cd6c01183ce', 'content': 'A Comprehensive Introduction to PydanticAI: Building Production-Grade LLM Applications | by Gopi Arivalagan | Dec, 2024 | Medium A Comprehensive Introduction to PydanticAI: Building Production-Grade LLM Applications PydanticAI is a powerful Python framework designed by the team behind Pydantic for building production-grade applications with Large Language Models (LLMs). Built by the Pydantic team (the validation layer used by OpenAI SDK, Anthropic SDK, LangChain, etc.) Structured response validation using Pydantic Streamed responses with validation support Let’s explore PydanticAI through a series of examples, starting simple and gradually adding more advanced features. Let’s start with a simple example that creates a city information agent: from pydantic import BaseModel from pydantic_ai import Agent   city: str # Create our agent agent = Agent( Follow 7 Followers ·23 Following Follow No responses yet'}, {'url': 'https://github.com/pydantic/pydantic-ai', 'content': \"GitHub - pydantic/pydantic-ai: Agent Framework / shim to use Pydantic with LLMs Agent Framework / shim to use Pydantic with LLMs Agent Framework / shim to use Pydantic with LLMs PydanticAI is a Python Agent Framework designed to make it less painful to build production grade applications with Generative AI. from pydantic_ai import Agent Here is a concise example using PydanticAI to build a support agent for a bank: from pydantic_ai import Agent, RunContext This pydantic model defines the structure of the result returned by the agent. In this case, the support agent has type Agent[SupportDependencies, SupportResult]. @support_agent.system_prompt result = await support_agent.run('What is my balance?', deps=deps) result = await support_agent.run('I just lost my card!', deps=deps) Agent Framework / shim to use Pydantic with LLMs\"}, {'url': 'https://github.com/cloutprotocol/pydantic-ai', 'content': 'GitHub - cloutprotocol/pydantic-ai: Collection of practical examples using PydanticAI for building LLM-powered applications GitHub Copilot Write better code with AI Code Search Find more, search less GitHub Copilot Enterprise-grade AI features Search code, repositories, users, issues, pull requests... Search Collection of practical examples using PydanticAI for building LLM-powered applications 0 stars 0 forks Branches Tags Activity examples examples .env.example .env.example Repository files navigation PydanticAI Examples This repository contains practical examples of using PydanticAI for building LLM-powered applications. git clone https://github.com/cloutprotocol/pydantic-ai.git Examples Data Analyzer: Example of using PydanticAI for structured data analysis python examples/recipe_generator.py python examples/customer_support.py Type Safety: All examples use Pydantic models for type-safe inputs and outputs Collection of practical examples using PydanticAI for building LLM-powered applications © 2024 GitHub,\\xa0Inc. Footer navigation'}], [{'url': 'https://medium.com/@samarrana407/pydantic-ai-the-python-agent-framework-to-build-production-grade-ai-agents-0ce322654fd7', 'content': 'Pydantic AI: The Python Agent Framework to BUILD Production-Grade AI Agents! | by Samar Singh | Dec, 2024 | Medium Pydantic AI: The Python Agent Framework to BUILD Production-Grade AI Agents! Samar Singh Now, its creators are venturing into the cutting-edge domain of AI with Pydantic AI, a framework designed for building production-grade applications powered by Generative AI. In this article, we’ll delve into what makes Pydantic AI unique, its key features, and how it compares to other agent frameworks. Why Pydantic AI? Pydantic AI builds on the trusted foundation of Pydantic, which powers popular Python libraries like FastAPI, LangChain, and AutoGPT. Production-Readiness: A focus on building robust applications with dynamic prompts, structured responses, and integration with observability tools like Logfire. Written by Samar Singh ----------------------'}, {'url': 'https://aipure.ai/products/pydantic-ai', 'content': \"PydanticAI is a Python Agent Framework that streamlines the development of production-grade AI applications by combining Pydantic's powerful data validation with LLM integration, offering type-safe dependency injection and model-agnostic support. PydanticAI is an innovative agent framework developed by the team behind Pydantic, designed to simplify the process of building production-grade applications with Generative AI. PydanticAI is a Python Agent Framework designed for building production-grade applications with Generative AI, developed by the team behind Pydantic. PydanticAI is a Python Agent Framework designed to build production-grade applications with Generative AI. Gait is a collaboration tool that integrates AI-assisted code generation with version control, enabling teams to track, understand, and share AI-generated code context efficiently.\"}, {'url': 'https://aipure.ai/products/pydantic-ai/features', 'content': \"PydanticAI is a Python Agent Framework that streamlines the development of production-grade AI applications by combining Pydantic's powerful data validation with LLM integration, offering type-safe dependency injection and model-agnostic support. PydanticAI is a Python Agent Framework designed for building production-grade applications with Generative AI, developed by the team behind Pydantic. Cart.ai is an AI-powered service platform that provides comprehensive business automation solutions including coding, customer relations management, video editing, e-commerce setup, and custom AI development with 24/7 support. GitHub Copilot Chat is an AI-powered coding assistant that provides natural language interactions, real-time code suggestions, and contextual support directly within supported IDEs and GitHub.com. CopilotForXcode is an Xcode Source Editor Extension that integrates GitHub Copilot, Codeium, and ChatGPT to provide AI-powered code suggestions, chat assistance, and prompt-to-code functionality within Xcode.\"}, {'url': 'https://medium.com/ai-agent-insider/pydantic-ai-agent-framework-02b138e8db71', 'content': 'Pydantic AI: Agent Framework. Pydantic AI: Agent Framework Pydantic AI: Agent Framework AI Agent Insider Pydantic AI is a Python framework that acts as a bridge between developers and LLMs, providing tools to create agents — entities that execute specific tasks based on system prompts, functions, and structured outputs. In Pydantic AI, an agent is a unit that combines the following components: Here’s a basic example of using Pydantic AI to create an agent that responds to user queries: from pydantic_ai import Agent, RunContext   from pydantic_ai import Agent Install Pydantic AI today and build your first agent! Pydantic Ai Agent Published in AI Agent Insider ----------------------------- AI Agent Insider AI Agent Insider See all from AI Agent Insider'}, {'url': 'https://pub.aimind.so/mastering-pydanticai-a-comprehensive-2025-guide-to-building-smart-and-connected-ai-applications-3d0ce37a3253', 'content': 'Mastering PydanticAI: A Comprehensive 2025 Guide to Building Smart and Connected AI Applications | by Saleh Alkhalifa | Dec, 2024 | AI Mind Mastering PydanticAI: A Comprehensive 2025 Guide to Building Smart and Connected AI Applications AI Mind What is PydanticAI? At its core, PydanticAI is an extension of the Pydantic library, tailored to facilitate the development of AI-powered agents. [1] You can learn more about PydanticAI at DevNavigator.com. Why Use PydanticAI? Getting Started with PydanticAI Follow Published in AI Mind -------------------- ·Last published 6 hours ago Learn, explore, or build the future of AI with top stories on the latest trends, tools, and technology. Share your crazy success stories or AI-fueled fails in a supportive community. Follow Follow 210 Followers Follow'}]]\n",
            "----------------REVISER AGENT-------------------\n",
            "Revised Respponse:Here is the revised response in JSON format:\n",
            "\n",
            "```\n",
            "{\n",
            "  \"answer\": \"PydanticAI is a Python Agent Framework designed to streamline the development of production-grade AI applications by combining Pydantic's powerful data validation with LLM integration, offering type-safe dependency injection and model-agnostic support [1]. It is an innovative agent framework developed by the team behind Pydantic, designed to simplify the process of building production-grade applications with Generative AI [2]. PydanticAI is particularly useful for building complex AI applications that require reliable data handling and structured responses [3].\n",
            "\n",
            "PydanticAI provides a range of features, including type safety, model-agnostic design, and seamless integration with large language models (LLMs) [4]. It also supports streamed responses and can validate structured responses using Pydantic models [5]. Additionally, PydanticAI provides a focus on building robust applications with dynamic prompts, structured responses, and integration with observability tools like Logfire [6].\n",
            "\n",
            "Overall, PydanticAI is a powerful tool for building production-grade AI applications, and its unique features make it an attractive option for developers looking to streamline their AI development process [7].\",\n",
            "  \"missing\": [],\n",
            "  \"superflous\": [],\n",
            "  \"search_queries\": [],\n",
            "  \"references\": [\n",
            "    [1] https://www.infoq.com/news/2024/12/pydanticai-framework-gen-ai/,\n",
            "    [2] https://aipure.ai/products/pydantic-ai/introduction,\n",
            "    [3] https://www.analyticsvidhya.com/blog/2024/12/pydanticai/,\n",
            "    [4] https://medium.com/@samarrana407/pydantic-ai-the-python-agent-framework-to-build-production-grade-ai-agents-0ce322654fd7,\n",
            "    [5] https://github.com/pydantic/pydantic-ai,\n",
            "    [6] https://aipure.ai/products/pydantic-ai/features,\n",
            "    [7] https://medium.com/ai-agent-insider/pydantic-ai-agent-framework-02b138e8db71\n",
            "  ]\n",
            "}\n",
            "```\n",
            "\n",
            "Note: The word count for this response is 246 words.\n",
            "Error:Invalid json output: Here is the revised response in JSON format:\n",
            "\n",
            "```\n",
            "{\n",
            "  \"answer\": \"PydanticAI is a Python Agent Framework designed to streamline the development of production-grade AI applications by combining Pydantic's powerful data validation with LLM integration, offering type-safe dependency injection and model-agnostic support [1]. It is an innovative agent framework developed by the team behind Pydantic, designed to simplify the process of building production-grade applications with Generative AI [2]. PydanticAI is particularly useful for building complex AI applications that require reliable data handling and structured responses [3].\n",
            "\n",
            "PydanticAI provides a range of features, including type safety, model-agnostic design, and seamless integration with large language models (LLMs) [4]. It also supports streamed responses and can validate structured responses using Pydantic models [5]. Additionally, PydanticAI provides a focus on building robust applications with dynamic prompts, structured responses, and integration with observability tools like Logfire [6].\n",
            "\n",
            "Overall, PydanticAI is a powerful tool for building production-grade AI applications, and its unique features make it an attractive option for developers looking to streamline their AI development process [7].\",\n",
            "  \"missing\": [],\n",
            "  \"superflous\": [],\n",
            "  \"search_queries\": [],\n",
            "  \"references\": [\n",
            "    [1] https://www.infoq.com/news/2024/12/pydanticai-framework-gen-ai/,\n",
            "    [2] https://aipure.ai/products/pydantic-ai/introduction,\n",
            "    [3] https://www.analyticsvidhya.com/blog/2024/12/pydanticai/,\n",
            "    [4] https://medium.com/@samarrana407/pydantic-ai-the-python-agent-framework-to-build-production-grade-ai-agents-0ce322654fd7,\n",
            "    [5] https://github.com/pydantic/pydantic-ai,\n",
            "    [6] https://aipure.ai/products/pydantic-ai/features,\n",
            "    [7] https://medium.com/ai-agent-insider/pydantic-ai-agent-framework-02b138e8db71\n",
            "  ]\n",
            "}\n",
            "```\n",
            "\n",
            "Note: The word count for this response is 246 words.\n",
            "For troubleshooting, visit: https://python.langchain.com/docs/troubleshooting/errors/OUTPUT_PARSING_FAILURE \n",
            "Revised Respponse:dict_keys(['answer', 'missing', 'superflous', 'search_queries', 'references'])\n",
            "----------------DECIDE TO GENERATE-------------------\n",
            "States :{'question': 'Write about PydanticAI agent framework.', 'answer': \"PydanticAI is a Python Agent Framework designed to streamline the development of production-grade AI applications by combining Pydantic's powerful data validation with LLM integration, offering type-safe dependency injection and model-agnostic support. It is an innovative agent framework developed by the team behind Pydantic, designed to simplify the process of building production-grade applications with Generative AI. PydanticAI is particularly useful for building complex AI applications that require reliable data handling and structured responses.\\n\\nPydanticAI provides a range of features, including type safety, model-agnostic design, and seamless integration with large language models (LLMs). It also supports streamed responses and can validate structured responses using Pydantic models. Additionally, PydanticAI provides a focus on building robust applications with dynamic prompts, structured responses, and integration with observability tools like Logfire.\\n\\nOverall, PydanticAI is a powerful tool for building production-grade AI applications, and its unique features make it an attractive option for developers looking to streamline their AI development process.\", 'missing': [], 'superflous': [], 'search_queries': [], 'referrences': ['https://www.infoq.com/news/2024/12/pydanticai-framework-gen-ai/', 'https://aipure.ai/products/pydantic-ai/introduction', 'https://www.analyticsvidhya.com/blog/2024/12/pydanticai/', 'https://medium.com/@samarrana407/pydantic-ai-the-python-agent-framework-to-build-production-grade-ai-agents-0ce322654fd7', 'https://github.com/pydantic/pydantic-ai', 'https://aipure.ai/products/pydantic-ai/features', 'https://medium.com/ai-agent-insider/pydantic-ai-agent-framework-02b138e8db71'], 'tool_iteration': 1, 'curent_time': '2024-12-25 19:16:12', 'max_iterations': 2}\n"
          ]
        }
      ]
    },
    {
      "cell_type": "code",
      "source": [
        "res"
      ],
      "metadata": {
        "colab": {
          "base_uri": "https://localhost:8080/"
        },
        "id": "kGoSwBh_MuSb",
        "outputId": "58317e79-8243-405f-8137-be5b87963e37"
      },
      "execution_count": 340,
      "outputs": [
        {
          "output_type": "execute_result",
          "data": {
            "text/plain": [
              "{'missing': [],\n",
              " 'superflous': [],\n",
              " 'referrences': ['https://www.infoq.com/news/2024/12/pydanticai-framework-gen-ai/',\n",
              "  'https://aipure.ai/products/pydantic-ai/introduction',\n",
              "  'https://www.analyticsvidhya.com/blog/2024/12/pydanticai/',\n",
              "  'https://medium.com/@samarrana407/pydantic-ai-the-python-agent-framework-to-build-production-grade-ai-agents-0ce322654fd7',\n",
              "  'https://github.com/pydantic/pydantic-ai',\n",
              "  'https://aipure.ai/products/pydantic-ai/features',\n",
              "  'https://medium.com/ai-agent-insider/pydantic-ai-agent-framework-02b138e8db71'],\n",
              " 'question': 'Write about PydanticAI agent framework.',\n",
              " 'answer': \"PydanticAI is a Python Agent Framework designed to streamline the development of production-grade AI applications by combining Pydantic's powerful data validation with LLM integration, offering type-safe dependency injection and model-agnostic support. It is an innovative agent framework developed by the team behind Pydantic, designed to simplify the process of building production-grade applications with Generative AI. PydanticAI is particularly useful for building complex AI applications that require reliable data handling and structured responses.\\n\\nPydanticAI provides a range of features, including type safety, model-agnostic design, and seamless integration with large language models (LLMs). It also supports streamed responses and can validate structured responses using Pydantic models. Additionally, PydanticAI provides a focus on building robust applications with dynamic prompts, structured responses, and integration with observability tools like Logfire.\\n\\nOverall, PydanticAI is a powerful tool for building production-grade AI applications, and its unique features make it an attractive option for developers looking to streamline their AI development process.\",\n",
              " 'search_queries': [],\n",
              " 'curent_time': '2024-12-25 19:16:12',\n",
              " 'tool_iteration': 1,\n",
              " 'max_iterations': 2}"
            ]
          },
          "metadata": {},
          "execution_count": 340
        }
      ]
    },
    {
      "cell_type": "code",
      "source": [
        "print(res['answer'])"
      ],
      "metadata": {
        "colab": {
          "base_uri": "https://localhost:8080/"
        },
        "id": "zgCvCbINMwtu",
        "outputId": "97a6a82e-9205-471e-e4af-019505b40c8b"
      },
      "execution_count": 341,
      "outputs": [
        {
          "output_type": "stream",
          "name": "stdout",
          "text": [
            "PydanticAI is a Python Agent Framework designed to streamline the development of production-grade AI applications by combining Pydantic's powerful data validation with LLM integration, offering type-safe dependency injection and model-agnostic support. It is an innovative agent framework developed by the team behind Pydantic, designed to simplify the process of building production-grade applications with Generative AI. PydanticAI is particularly useful for building complex AI applications that require reliable data handling and structured responses.\n",
            "\n",
            "PydanticAI provides a range of features, including type safety, model-agnostic design, and seamless integration with large language models (LLMs). It also supports streamed responses and can validate structured responses using Pydantic models. Additionally, PydanticAI provides a focus on building robust applications with dynamic prompts, structured responses, and integration with observability tools like Logfire.\n",
            "\n",
            "Overall, PydanticAI is a powerful tool for building production-grade AI applications, and its unique features make it an attractive option for developers looking to streamline their AI development process.\n"
          ]
        }
      ]
    },
    {
      "cell_type": "code",
      "source": [
        "from IPython.display import display,Markdown,Image\n",
        "display(Markdown(res['answer']+\"\\n\\nReferences:\\n\\n\"+\"\\n\\n\".join(res['referrences'])))"
      ],
      "metadata": {
        "colab": {
          "base_uri": "https://localhost:8080/",
          "height": 384
        },
        "id": "wrkN3vAWM9LW",
        "outputId": "9f666de7-2043-49fb-ab68-e28158a9626d"
      },
      "execution_count": 342,
      "outputs": [
        {
          "output_type": "display_data",
          "data": {
            "text/plain": [
              "<IPython.core.display.Markdown object>"
            ],
            "text/markdown": "PydanticAI is a Python Agent Framework designed to streamline the development of production-grade AI applications by combining Pydantic's powerful data validation with LLM integration, offering type-safe dependency injection and model-agnostic support. It is an innovative agent framework developed by the team behind Pydantic, designed to simplify the process of building production-grade applications with Generative AI. PydanticAI is particularly useful for building complex AI applications that require reliable data handling and structured responses.\n\nPydanticAI provides a range of features, including type safety, model-agnostic design, and seamless integration with large language models (LLMs). It also supports streamed responses and can validate structured responses using Pydantic models. Additionally, PydanticAI provides a focus on building robust applications with dynamic prompts, structured responses, and integration with observability tools like Logfire.\n\nOverall, PydanticAI is a powerful tool for building production-grade AI applications, and its unique features make it an attractive option for developers looking to streamline their AI development process.\n\nReferences:\n\nhttps://www.infoq.com/news/2024/12/pydanticai-framework-gen-ai/\n\nhttps://aipure.ai/products/pydantic-ai/introduction\n\nhttps://www.analyticsvidhya.com/blog/2024/12/pydanticai/\n\nhttps://medium.com/@samarrana407/pydantic-ai-the-python-agent-framework-to-build-production-grade-ai-agents-0ce322654fd7\n\nhttps://github.com/pydantic/pydantic-ai\n\nhttps://aipure.ai/products/pydantic-ai/features\n\nhttps://medium.com/ai-agent-insider/pydantic-ai-agent-framework-02b138e8db71"
          },
          "metadata": {}
        }
      ]
    }
  ]
}