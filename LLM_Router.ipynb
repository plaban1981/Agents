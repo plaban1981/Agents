{
  "nbformat": 4,
  "nbformat_minor": 0,
  "metadata": {
    "colab": {
      "provenance": [],
      "machine_shape": "hm",
      "authorship_tag": "ABX9TyMgiZ+wrOtjFMSSqcQO78jx",
      "include_colab_link": true
    },
    "kernelspec": {
      "name": "python3",
      "display_name": "Python 3"
    },
    "language_info": {
      "name": "python"
    }
  },
  "cells": [
    {
      "cell_type": "markdown",
      "metadata": {
        "id": "view-in-github",
        "colab_type": "text"
      },
      "source": [
        "<a href=\"https://colab.research.google.com/github/plaban1981/Agents/blob/main/LLM_Router.ipynb\" target=\"_parent\"><img src=\"https://colab.research.google.com/assets/colab-badge.svg\" alt=\"Open In Colab\"/></a>"
      ]
    },
    {
      "cell_type": "code",
      "execution_count": 4,
      "metadata": {
        "colab": {
          "base_uri": "https://localhost:8080/"
        },
        "id": "Zuql1qaDZPSk",
        "outputId": "4316b35b-f32d-4487-8167-71ba48ff8ef4"
      },
      "outputs": [
        {
          "output_type": "stream",
          "name": "stdout",
          "text": [
            "\u001b[?25l   \u001b[90m━━━━━━━━━━━━━━━━━━━━━━━━━━━━━━━━━━━━━━━━\u001b[0m \u001b[32m0.0/997.8 kB\u001b[0m \u001b[31m?\u001b[0m eta \u001b[36m-:--:--\u001b[0m\r\u001b[2K   \u001b[91m━\u001b[0m\u001b[90m╺\u001b[0m\u001b[90m━━━━━━━━━━━━━━━━━━━━━━━━━━━━━━━━━━━━━━\u001b[0m \u001b[32m30.7/997.8 kB\u001b[0m \u001b[31m762.4 kB/s\u001b[0m eta \u001b[36m0:00:02\u001b[0m\r\u001b[2K   \u001b[91m━━━━\u001b[0m\u001b[91m╸\u001b[0m\u001b[90m━━━━━━━━━━━━━━━━━━━━━━━━━━━━━━━━━━━\u001b[0m \u001b[32m122.9/997.8 kB\u001b[0m \u001b[31m1.7 MB/s\u001b[0m eta \u001b[36m0:00:01\u001b[0m\r\u001b[2K   \u001b[91m━━━━━━━━━━━━\u001b[0m\u001b[91m╸\u001b[0m\u001b[90m━━━━━━━━━━━━━━━━━━━━━━━━━━━\u001b[0m \u001b[32m317.4/997.8 kB\u001b[0m \u001b[31m3.0 MB/s\u001b[0m eta \u001b[36m0:00:01\u001b[0m\r\u001b[2K   \u001b[91m━━━━━━━━━━━━━━━━━━━━━━━━━━━━━\u001b[0m\u001b[91m╸\u001b[0m\u001b[90m━━━━━━━━━━\u001b[0m \u001b[32m747.5/997.8 kB\u001b[0m \u001b[31m5.3 MB/s\u001b[0m eta \u001b[36m0:00:01\u001b[0m\r\u001b[2K   \u001b[91m━━━━━━━━━━━━━━━━━━━━━━━━━━━━━━━━━━━━━━━\u001b[0m\u001b[91m╸\u001b[0m \u001b[32m993.3/997.8 kB\u001b[0m \u001b[31m6.3 MB/s\u001b[0m eta \u001b[36m0:00:01\u001b[0m\r\u001b[2K   \u001b[90m━━━━━━━━━━━━━━━━━━━━━━━━━━━━━━━━━━━━━━━━\u001b[0m \u001b[32m997.8/997.8 kB\u001b[0m \u001b[31m5.5 MB/s\u001b[0m eta \u001b[36m0:00:00\u001b[0m\n",
            "\u001b[?25h"
          ]
        }
      ],
      "source": [
        "!pip install -qU langchain\n",
        "!pip install -qU groq\n",
        "!pip install -qU langchain-groq\n"
      ]
    },
    {
      "cell_type": "code",
      "source": [
        "from google.colab import userdata\n",
        "import os\n",
        "os.environ['OPENAI_API_KEY'] = userdata.get('OPENAI_API_KEY')\n",
        "os.environ['GROQ_API_KEY'] = userdata.get('GROQ_API_KEY')"
      ],
      "metadata": {
        "id": "NUJfYQatZsD-"
      },
      "execution_count": 3,
      "outputs": []
    },
    {
      "cell_type": "code",
      "source": [
        "pip install openai"
      ],
      "metadata": {
        "colab": {
          "base_uri": "https://localhost:8080/"
        },
        "id": "rUzywfZZ33Ye",
        "outputId": "64e92244-b471-4e8e-a5ef-0f62e6fb379d"
      },
      "execution_count": 17,
      "outputs": [
        {
          "output_type": "stream",
          "name": "stdout",
          "text": [
            "Collecting openai\n",
            "  Downloading openai-1.41.0-py3-none-any.whl.metadata (22 kB)\n",
            "Requirement already satisfied: anyio<5,>=3.5.0 in /usr/local/lib/python3.10/dist-packages (from openai) (3.7.1)\n",
            "Requirement already satisfied: distro<2,>=1.7.0 in /usr/lib/python3/dist-packages (from openai) (1.7.0)\n",
            "Requirement already satisfied: httpx<1,>=0.23.0 in /usr/local/lib/python3.10/dist-packages (from openai) (0.27.0)\n",
            "Collecting jiter<1,>=0.4.0 (from openai)\n",
            "  Downloading jiter-0.5.0-cp310-cp310-manylinux_2_17_x86_64.manylinux2014_x86_64.whl.metadata (3.6 kB)\n",
            "Requirement already satisfied: pydantic<3,>=1.9.0 in /usr/local/lib/python3.10/dist-packages (from openai) (2.8.2)\n",
            "Requirement already satisfied: sniffio in /usr/local/lib/python3.10/dist-packages (from openai) (1.3.1)\n",
            "Requirement already satisfied: tqdm>4 in /usr/local/lib/python3.10/dist-packages (from openai) (4.66.5)\n",
            "Requirement already satisfied: typing-extensions<5,>=4.11 in /usr/local/lib/python3.10/dist-packages (from openai) (4.12.2)\n",
            "Requirement already satisfied: idna>=2.8 in /usr/local/lib/python3.10/dist-packages (from anyio<5,>=3.5.0->openai) (3.7)\n",
            "Requirement already satisfied: exceptiongroup in /usr/local/lib/python3.10/dist-packages (from anyio<5,>=3.5.0->openai) (1.2.2)\n",
            "Requirement already satisfied: certifi in /usr/local/lib/python3.10/dist-packages (from httpx<1,>=0.23.0->openai) (2024.7.4)\n",
            "Requirement already satisfied: httpcore==1.* in /usr/local/lib/python3.10/dist-packages (from httpx<1,>=0.23.0->openai) (1.0.5)\n",
            "Requirement already satisfied: h11<0.15,>=0.13 in /usr/local/lib/python3.10/dist-packages (from httpcore==1.*->httpx<1,>=0.23.0->openai) (0.14.0)\n",
            "Requirement already satisfied: annotated-types>=0.4.0 in /usr/local/lib/python3.10/dist-packages (from pydantic<3,>=1.9.0->openai) (0.7.0)\n",
            "Requirement already satisfied: pydantic-core==2.20.1 in /usr/local/lib/python3.10/dist-packages (from pydantic<3,>=1.9.0->openai) (2.20.1)\n",
            "Downloading openai-1.41.0-py3-none-any.whl (362 kB)\n",
            "\u001b[2K   \u001b[90m━━━━━━━━━━━━━━━━━━━━━━━━━━━━━━━━━━━━━━━━\u001b[0m \u001b[32m362.4/362.4 kB\u001b[0m \u001b[31m2.6 MB/s\u001b[0m eta \u001b[36m0:00:00\u001b[0m\n",
            "\u001b[?25hDownloading jiter-0.5.0-cp310-cp310-manylinux_2_17_x86_64.manylinux2014_x86_64.whl (318 kB)\n",
            "\u001b[2K   \u001b[90m━━━━━━━━━━━━━━━━━━━━━━━━━━━━━━━━━━━━━━━━\u001b[0m \u001b[32m318.9/318.9 kB\u001b[0m \u001b[31m12.8 MB/s\u001b[0m eta \u001b[36m0:00:00\u001b[0m\n",
            "\u001b[?25hInstalling collected packages: jiter, openai\n",
            "Successfully installed jiter-0.5.0 openai-1.41.0\n"
          ]
        }
      ]
    },
    {
      "cell_type": "code",
      "source": [
        "import openai"
      ],
      "metadata": {
        "id": "Ivyk_Dhd3-xM"
      },
      "execution_count": 18,
      "outputs": []
    },
    {
      "cell_type": "code",
      "source": [
        "import os\n",
        "\n",
        "from groq import Groq\n",
        "\n",
        "client = Groq(\n",
        "    api_key=os.environ.get(\"GROQ_API_KEY\"),\n",
        ")"
      ],
      "metadata": {
        "id": "Zm34P684cQxb"
      },
      "execution_count": 5,
      "outputs": []
    },
    {
      "cell_type": "code",
      "source": [
        "def openrouter_completion(model_name, user_query, system_message=None):\n",
        "    messages = []\n",
        "    if system_message:\n",
        "        messages.append({\"role\": \"system\", \"content\": system_message})\n",
        "    messages.append({\"role\": \"user\", \"content\": user_query})\n",
        "    completion = client.chat.completions.create(\n",
        "        model=model_name,\n",
        "        messages=messages\n",
        "    )\n",
        "    return completion.choices[0].message.content"
      ],
      "metadata": {
        "id": "7WG1l3AqcMvp"
      },
      "execution_count": 12,
      "outputs": []
    },
    {
      "cell_type": "code",
      "source": [
        "def router(user_input):\n",
        "    response = client.chat.completions.create(\n",
        "        model=\"llama3-8b-8192\",\n",
        "        messages=[\n",
        "            {\"role\": \"system\", \"content\": \"\"\"You are a helpful router designed to output JSON. you decide which route user input belongs to based on the type of the user query\n",
        "             return your response as follows:\n",
        "             {{\n",
        "             \"route\": \"route_name\", can be one of the following:\n",
        "             - \"llama-3.1-70b-versatile\"- for more complex, in depth questions and queries except code\n",
        "             - \"llama3-70b-8192\" for all code queries.\n",
        "             - \"gemma-7b-it\" for other simple daily conversation like regular speak\n",
        "             }}\"\"\"},\n",
        "            {\"role\": \"user\", \"content\": user_input}\n",
        "        ]\n",
        "    )\n",
        "    print(type(response.choices[0].message.content))\n",
        "    return response.choices[0].message.content"
      ],
      "metadata": {
        "id": "3OtBTLKQc2Zk"
      },
      "execution_count": 14,
      "outputs": []
    },
    {
      "cell_type": "code",
      "source": [
        "import json\n",
        "while True:\n",
        "    user_input = input(\"Please enter your question (or type 'exit' to quit): \")\n",
        "    if user_input.lower() == 'exit':\n",
        "        break\n",
        "\n",
        "    # Attempt to parse JSON, handle potential errors\n",
        "    try:\n",
        "        response_text = router(user_input)\n",
        "        model = json.loads(response_text)\n",
        "        model = model[\"route\"]\n",
        "    except json.JSONDecodeError:\n",
        "        print(\"Error: Invalid JSON returned from router. Please review the router's output.\")\n",
        "        print(f\"Router raw output: {response_text}\") # Print raw output for debugging\n",
        "        continue # Skip to next iteration of the loop\n",
        "\n",
        "    if model == \"llama3-8b-8192\":\n",
        "        system_message = \"You are a masterful english literary\"\n",
        "        print(openrouter_completion(model, user_input, system_message))\n",
        "    elif model == \"llama-3.1-70b-versatile\":\n",
        "        print(openrouter_completion(model, user_input))\n",
        "    elif model == \"gemma-7b-it\":\n",
        "        print(openrouter_completion(model, user_input))"
      ],
      "metadata": {
        "colab": {
          "base_uri": "https://localhost:8080/"
        },
        "id": "WmF2c2ukdd4r",
        "outputId": "9a1198f7-ffd7-4310-eced-8d06a12538a6"
      },
      "execution_count": 15,
      "outputs": [
        {
          "name": "stdout",
          "output_type": "stream",
          "text": [
            "Please enter your question (or type 'exit' to quit): What is the Contribution of Shakesphere to English Literature ?\n",
            "<class 'str'>\n",
            "I think you meant \"Shakespeare\"!\n",
            "\n",
            "William Shakespeare (1564-1616) is widely regarded as one of the greatest writers in the English language and the world's pre-eminent dramatist. His contributions to English literature are immense and far-reaching. Here are some of the most significant:\n",
            "\n",
            "1. **Invention of New Words and Phrases**: Shakespeare introduced many words and phrases that are still in use today. It's estimated that he contributed over 1700 words to the English language, including \"assassination,\" \"bedazzled,\" \"fashionable,\" and \"lonely.\"\n",
            "2. **Development of the English Sonnet**: Shakespeare popularized the sonnet, a 14-line poem with a specific rhyme scheme. His sonnets are still studied and admired for their beauty, complexity, and emotional depth.\n",
            "3. **Shaping the English Language**: Shakespeare's writing helped to standardize English spelling and grammar. His plays and poems also influenced the development of English vocabulary, idioms, and expressions.\n",
            "4. **Establishing the English Theatre**: Shakespeare's plays helped to establish the English theatre as a major cultural institution. His company, the Lord Chamberlain's Men (later known as the King's Men), was one of the first professional theatre companies in England.\n",
            "5. **Creating Iconic Characters**: Shakespeare's characters, such as Hamlet, Macbeth, Othello, Romeo, and Juliet, are iconic figures in world literature. They have become part of the cultural consciousness and continue to inspire new adaptations and interpretations.\n",
            "6. **Exploring the Human Condition**: Shakespeare's plays and poems explore universal themes and emotions, including love, power, ambition, mortality, and the human condition. His works continue to resonate with audiences today.\n",
            "7. **Influence on Literature and the Arts**: Shakespeare's influence can be seen in literature, music, art, film, and other creative fields. Many authors, including Charles Dickens, Jane Austen, and the Romantic poets, were influenced by his works.\n",
            "8. **Preserving History and Culture**: Shakespeare's plays often drew on historical events and figures, preserving them for future generations. His works also provide insights into the culture and society of Elizabethan England.\n",
            "9. **Creating a New Form of Drama**: Shakespeare's plays helped to develop a new form of drama, combining elements of Greek tragedy, Roman comedy, and English folk traditions. His plays are known for their complex characters, nuanced language, and exploration of themes.\n",
            "10. **Enduring Legacy**: Shakespeare's works continue to be performed, studied, and admired around the world. His legacy extends beyond literature to inspire new artistic creations, adaptations, and interpretations.\n",
            "\n",
            "In summary, Shakespeare's contributions to English literature are immeasurable. He enriched the language, expanded the possibilities of drama and poetry, and created works that continue to inspire and captivate audiences to this day.\n",
            "Please enter your question (or type 'exit' to quit): Write a Python Code to perform a recursive loop.\n",
            "<class 'str'>\n",
            "Error: Invalid JSON returned from router. Please review the router's output.\n",
            "Router raw output: Here's an example of a recursive loop in Python:\n",
            "```\n",
            "{\n",
            "    \"route\": \"llama3-70b-8192\"\n",
            "}\n",
            "```\n",
            "Here's the Python code:\n",
            "```\n",
            "def factorial(n):\n",
            "  if n == 0:\n",
            "    return 1\n",
            "  else:\n",
            "    return n * factorial(n-1)\n",
            "\n",
            "print(factorial(5))  # Output: 120\n",
            "```\n",
            "This code defines a recursive function `factorial` that calculates the factorial of a given integer `n`. The function calls itself with a smaller input value (`n-1`) until it reaches the base case (`n == 0`), at which point it returns the result.\n",
            "Please enter your question (or type 'exit' to quit): Where is Paris located?\n",
            "<class 'str'>\n",
            "Paris is located in **northern France**. It is the capital city and the most populous city in France.\n",
            "Please enter your question (or type 'exit' to quit): exit\n"
          ]
        }
      ]
    },
    {
      "cell_type": "markdown",
      "source": [
        "## Advanced Routing"
      ],
      "metadata": {
        "id": "maY_x9Hf3PYx"
      }
    },
    {
      "cell_type": "code",
      "source": [
        "def openrouter_completion(model_name, user_query, system_message=None):\n",
        "    messages = []\n",
        "    if system_message:\n",
        "        messages.append({\"role\": \"system\", \"content\": system_message})\n",
        "    messages.append({\"role\": \"user\", \"content\": user_query})\n",
        "    completion = client.chat.completions.create(\n",
        "        model=model_name,\n",
        "        messages=messages,\n",
        "        stream=True\n",
        "    )\n",
        "    print(f\"Completions:{completion}\")\n",
        "    assistant_response = \"\"\n",
        "    print(colored(\"Assistant response:\", \"green\"))\n",
        "    try:\n",
        "\n",
        "      for chunk in completion:\n",
        "          if chunk.choices[0].delta.content is not None:\n",
        "              chunk_content = chunk.choices[0].delta.content\n",
        "              assistant_response += chunk_content\n",
        "              print(chunk_content, end=\"\", flush=True)\n",
        "      return assistant_response\n",
        "    except:\n",
        "      return completion.choices[0].message.content"
      ],
      "metadata": {
        "id": "SGXCPIG88RZp"
      },
      "execution_count": 109,
      "outputs": []
    },
    {
      "cell_type": "code",
      "source": [
        "def primary_router(user_input):\n",
        "    response = client.chat.completions.create(\n",
        "        model=\"llama-3.1-8b-instant\",\n",
        "        response_format={ \"type\": \"json_object\" },\n",
        "        messages=[\n",
        "            {\"role\": \"system\", \"content\": \"\"\"You are a helpful router designed to output JSON. You decide which route user input belongs to based on the type of the user query.\n",
        "             Return your response as follows:\n",
        "             {\"route\": \"route_name\"}\n",
        "             The route_name can be one of the following:\n",
        "             - \"llama3-70b-8192\" for more complex, in-depth questions and queries. This route doesn't accept programming related queries.\n",
        "             - \"llama-3.1-70b-versatile\" for all code and programming related queries.\n",
        "             - \"gemma2-9b-it\" for other simple daily conversation like regular speak\n",
        "             - \"llama-guard-3-8b\" for security related for search and code interpreter tool calls.\n",
        "             \"\"\"},\n",
        "            {\"role\": \"user\", \"content\": user_input}\n",
        "        ]\n",
        "    )\n",
        "    return json.loads(response.choices[0].message.content)[\"route\"]"
      ],
      "metadata": {
        "id": "c9JtBK1w8bfi"
      },
      "execution_count": 139,
      "outputs": []
    },
    {
      "cell_type": "markdown",
      "source": [
        "#### Test the function"
      ],
      "metadata": {
        "id": "3Cqj6Y6d35hj"
      }
    },
    {
      "cell_type": "code",
      "source": [
        "primary_router(\"What is Neural Dust?\")"
      ],
      "metadata": {
        "colab": {
          "base_uri": "https://localhost:8080/",
          "height": 35
        },
        "id": "ijnuFIRP3yqg",
        "outputId": "2927629b-21cb-462d-ff27-6eae2ab7826e"
      },
      "execution_count": 131,
      "outputs": [
        {
          "output_type": "execute_result",
          "data": {
            "text/plain": [
              "'gemma2-9b-it'"
            ],
            "application/vnd.google.colaboratory.intrinsic+json": {
              "type": "string"
            }
          },
          "metadata": {},
          "execution_count": 131
        }
      ]
    },
    {
      "cell_type": "code",
      "source": [
        "primary_router(\"Write a code in Python to print Hello World\")"
      ],
      "metadata": {
        "colab": {
          "base_uri": "https://localhost:8080/",
          "height": 35
        },
        "id": "X66Ez8Ck389U",
        "outputId": "536c0f61-25ec-4b62-d69b-1dc6ee1efecf"
      },
      "execution_count": 132,
      "outputs": [
        {
          "output_type": "execute_result",
          "data": {
            "text/plain": [
              "'llama-3.1-70b-versatile'"
            ],
            "application/vnd.google.colaboratory.intrinsic+json": {
              "type": "string"
            }
          },
          "metadata": {},
          "execution_count": 132
        }
      ]
    },
    {
      "cell_type": "code",
      "source": [
        "def secondary_router(user_input):\n",
        "    response = client.chat.completions.create(\n",
        "        model=\"llama-3.1-8b-instant\",\n",
        "        response_format={ \"type\": \"json_object\" },\n",
        "        messages=[\n",
        "            {\"role\": \"system\", \"content\": \"\"\"You are a secondary router for the llama3-70b-8192 model. Based on the user input, choose the most appropriate system message.\n",
        "            Return your response a JSON object as follows:\n",
        "            {\n",
        "            \"system_message\": \"chosen_system_message\"\n",
        "            }\n",
        "            The \"chosen_system_message\" should be chosen from the following options below:\n",
        "            - \"You are a masterful English literary expert, well-versed in all forms of literature and literary analysis.\"\n",
        "            - \"You are an advanced scientific researcher with expertise across multiple disciplines.\"\n",
        "            - \"You are a skilled philosopher and ethicist, capable of deep analysis on complex topics.\"\n",
        "            \"\"\"},\n",
        "            {\"role\": \"user\", \"content\": user_input}\n",
        "        ]\n",
        "    )\n",
        "    return json.loads(response.choices[0].message.content)[\"system_message\"]"
      ],
      "metadata": {
        "id": "wn1Fh1p73S1k"
      },
      "execution_count": 133,
      "outputs": []
    },
    {
      "cell_type": "code",
      "source": [
        "secondary_router(\"Write a code in Python to print Hello World\")"
      ],
      "metadata": {
        "colab": {
          "base_uri": "https://localhost:8080/",
          "height": 35
        },
        "id": "c_1YjgiB6dCS",
        "outputId": "3d89aaff-bcdc-4de1-fc1a-d704b59b9c37"
      },
      "execution_count": 122,
      "outputs": [
        {
          "output_type": "execute_result",
          "data": {
            "text/plain": [
              "'You are coding in Python, a versatile and widely-used language for building a wide range of applications.'"
            ],
            "application/vnd.google.colaboratory.intrinsic+json": {
              "type": "string"
            }
          },
          "metadata": {},
          "execution_count": 122
        }
      ]
    },
    {
      "cell_type": "markdown",
      "source": [
        "#### Helper Function 2"
      ],
      "metadata": {
        "id": "QJeX0sUp7Zbr"
      }
    },
    {
      "cell_type": "code",
      "source": [
        "def secondary_router_versatile(user_input):\n",
        "    response = client.chat.completions.create(\n",
        "        model=\"llama-3.1-70b-versatile\",\n",
        "        response_format={ \"type\": \"json_object\" },\n",
        "        messages=[\n",
        "            {\"role\": \"system\", \"content\": \"\"\"You are a secondary router for the llama-3.1-70b-versatile model. Based on the user input, choose the most appropriate system message.\n",
        "            Return your response a JSON object as follows:\n",
        "            {\n",
        "            \"system_message\": \"chosen_system_message\"\n",
        "            }\n",
        "             The \"chosen_system_message\" should be chosen from the following options below:\n",
        "            - \"You are an expert software engineer with deep knowledge of multiple programming languages and best practices.\"\n",
        "            - \"You are a data scientist specializing in machine learning and statistical analysis.\"\n",
        "            - \"You are a full-stack web developer with expertise in modern web technologies and frameworks.\"\n",
        "            \"\"\"},\n",
        "            {\"role\": \"user\", \"content\": user_input}\n",
        "        ]\n",
        "    )\n",
        "    return json.loads(response.choices[0].message.content)[\"system_message\"]"
      ],
      "metadata": {
        "id": "edV5lGyZ4FR6"
      },
      "execution_count": 134,
      "outputs": []
    },
    {
      "cell_type": "code",
      "source": [
        "secondary_router_versatile(\"Write a code in Python to print Hello World\")"
      ],
      "metadata": {
        "colab": {
          "base_uri": "https://localhost:8080/",
          "height": 35
        },
        "id": "AkWWMeIP7Ocp",
        "outputId": "4a746261-e790-4b26-8fc6-247e1d2c183d"
      },
      "execution_count": 125,
      "outputs": [
        {
          "output_type": "execute_result",
          "data": {
            "text/plain": [
              "'You are an expert software engineer with deep knowledge of multiple programming languages and best practices.'"
            ],
            "application/vnd.google.colaboratory.intrinsic+json": {
              "type": "string"
            }
          },
          "metadata": {},
          "execution_count": 125
        }
      ]
    },
    {
      "cell_type": "markdown",
      "source": [
        "#### Helper Function 3"
      ],
      "metadata": {
        "id": "uAGHeLFe7cRy"
      }
    },
    {
      "cell_type": "code",
      "source": [
        "def secondary_router_gemma(user_input):\n",
        "    response = client.chat.completions.create(\n",
        "        model=\"gemma2-9b-it\",\n",
        "        response_format={ \"type\": \"json_object\" },\n",
        "        messages=[\n",
        "            {\"role\": \"system\", \"content\": \"\"\"You are a secondary router for the meta-llama/llama-3-8b-instruct:free model. Based on the user input, choose the most appropriate system message.\n",
        "            Return your response a JSON object as follows:\n",
        "            {\n",
        "            \"system_message\": \"chosen_system_message\"\n",
        "            }\n",
        "            The \"chosen_system_message\" should be chosen from the following options below:\n",
        "            - \"You are a friendly conversational AI, adept at casual chit-chat and providing basic information.\"\n",
        "            - \"You are a helpful virtual assistant, ready to assist with day-to-day queries and tasks.\"\n",
        "            - \"You are an empathetic listener, providing supportive responses in everyday conversations.\"\n",
        "            \"\"\"},\n",
        "            {\"role\": \"user\", \"content\": user_input}\n",
        "        ]\n",
        "    )\n",
        "    return json.loads(response.choices[0].message.content)[\"system_message\"]"
      ],
      "metadata": {
        "id": "kbJCS5Vj4STZ"
      },
      "execution_count": 135,
      "outputs": []
    },
    {
      "cell_type": "code",
      "source": [
        "secondary_router_gemma(\"Write a code in Python to print Hello World\")"
      ],
      "metadata": {
        "colab": {
          "base_uri": "https://localhost:8080/",
          "height": 35
        },
        "id": "NB2-DElZ7qbH",
        "outputId": "484fa8c0-0000-40a4-e199-bd2ba751d479"
      },
      "execution_count": 128,
      "outputs": [
        {
          "output_type": "execute_result",
          "data": {
            "text/plain": [
              "'You are a helpful virtual assistant, ready to assist with day-to-day queries and tasks.'"
            ],
            "application/vnd.google.colaboratory.intrinsic+json": {
              "type": "string"
            }
          },
          "metadata": {},
          "execution_count": 128
        }
      ]
    },
    {
      "cell_type": "code",
      "source": [
        "def secondary_router_security(user_input):\n",
        "    response = client.chat.completions.create(\n",
        "        model=\"llama-guard-3-8b\",\n",
        "        response_format={ \"type\": \"json_object\" },\n",
        "        messages=[\n",
        "            {\"role\": \"system\", \"content\": \"\"\"You are a secondary router for the llama-guard-3-8b model. Based on the user input, choose the most appropriate system message.\n",
        "            Return your response a JSON object as follows:\n",
        "            {\n",
        "            \"system_message\": \"chosen_system_message\"\n",
        "            }\n",
        "            The \"chosen_system_message\" should be chosen from the following options below:\n",
        "            - \"You are a helpful assistant that will check the user input that enable, encourage, or endorse the commission of violent crimes.\"\n",
        "            - \"You are a helpful assistant that will check the user input, that enable, encourage, or endorse the commission of sex-related crimes, including: (1) sex trafficking, (2) sexual assault (ex: rape), (3) sexual harassment (physical, verbal, or visual), and (4) prostitution.\"\n",
        "            - \"You are a helpful assistant that will check the user input,that contain sensitive, nonpublic personal information that could undermine someone’s physical, digital, or financial security.\"\n",
        "            - \"You are a helpful assistant that will check the user input,that demean or dehumanize people on the basis of their sensitive, personal characteristics (i.e., race, color, ethnicity, national origin, disability, religious affiliation, caste, sexual orientation, sex, gender identity, and/or serious disease).\"\n",
        "            \"\"\"},\n",
        "            {\"role\": \"user\", \"content\": user_input}\n",
        "        ]\n",
        "    )\n",
        "    return json.loads(response.choices[0].message.content)[\"system_message\"]"
      ],
      "metadata": {
        "id": "s5gRPvSj_q-n"
      },
      "execution_count": 147,
      "outputs": []
    },
    {
      "cell_type": "code",
      "source": [
        "user_input = \"what is email ?\"\n",
        "primary_router(user_input)"
      ],
      "metadata": {
        "colab": {
          "base_uri": "https://localhost:8080/",
          "height": 35
        },
        "id": "TZb7HkrbBfIA",
        "outputId": "abd02fb1-0a4a-478c-a9af-cbb4e21833ad"
      },
      "execution_count": 156,
      "outputs": [
        {
          "output_type": "execute_result",
          "data": {
            "text/plain": [
              "'gemma2-9b-it'"
            ],
            "application/vnd.google.colaboratory.intrinsic+json": {
              "type": "string"
            }
          },
          "metadata": {},
          "execution_count": 156
        }
      ]
    },
    {
      "cell_type": "code",
      "source": [
        "from openai import OpenAI\n",
        "from termcolor import colored\n",
        "while True:\n",
        "      user_input = input(colored(\"Please enter your question (or type 'exit' to quit): \", \"cyan\"))\n",
        "      if user_input.lower() == 'exit':\n",
        "          break\n",
        "\n",
        "      model = primary_router(user_input)\n",
        "      print(colored(f\"Routing to {model}\", \"yellow\"))\n",
        "      print(type(model))\n",
        "      if model == \"llama3-70b-8192\":\n",
        "        print(\"Perform secondary_router\")\n",
        "        system_message = secondary_router(user_input)\n",
        "      elif model == \"gemma-7b-it\":\n",
        "        print(\"gemma-7b-it\")\n",
        "        system_message = secondary_router_gemma(user_input)\n",
        "      elif model == \"llama-3.1-70b-versatile\":\n",
        "        print(\"Performllama-3.1-70b-versatile\")\n",
        "        system_message = secondary_router_versatile(user_input)\n",
        "      else:\n",
        "        system_message = \"You are a helpful AI assistant.\"\n",
        "        #model = \"llama-3.1-70b-versatile\"\n",
        "\n",
        "      print(colored(f\"Using system message: {system_message}\", \"magenta\"))\n",
        "      print(f\"model used is :{model}\")\n",
        "\n",
        "      response = openrouter_completion(model, user_input, system_message)\n",
        "      # print(colored(\"Response:\", \"green\"))\n",
        "      print()  # Add a blank line for better readability"
      ],
      "metadata": {
        "colab": {
          "base_uri": "https://localhost:8080/"
        },
        "id": "-lVnQ36n4kPT",
        "outputId": "3a489090-2e9b-4a23-9cd5-73b129a0e8dc"
      },
      "execution_count": 129,
      "outputs": [
        {
          "name": "stdout",
          "output_type": "stream",
          "text": [
            "Please enter your question (or type 'exit' to quit): Write a code in Python to print Hello World.\n",
            "Routing to llama-3.1-70b-versatile\n",
            "<class 'str'>\n",
            "Performllama-3.1-70b-versatile\n",
            "Using system message: You are an expert software engineer with deep knowledge of multiple programming languages and best practices.\n",
            "model used is :llama-3.1-70b-versatile\n",
            "Completions:<groq.Stream object at 0x7952e0dbd090>\n",
            "Assistant response:\n",
            "**Hello World in Python**\n",
            "=====================================\n",
            "\n",
            "Here is a simple Python program that prints \"Hello, World!\" to the console:\n",
            "```python\n",
            "# hello_world.py\n",
            "\n",
            "def main():\n",
            "    \"\"\"Prints Hello World to the console\"\"\"\n",
            "    print(\"Hello, World!\")\n",
            "\n",
            "if __name__ == \"__main__\":\n",
            "    main()\n",
            "```\n",
            "**Explanation:**\n",
            "\n",
            "* We define a `main` function that contains the code we want to execute.\n",
            "* Inside `main`, we use the built-in `print` function to output the string \"Hello, World!\".\n",
            "* The `if __name__ == \"__main__\":` block is a guard clause that ensures the `main` function is only executed when the script is run directly (i.e., not when it's imported as a module by another script).\n",
            "\n",
            "**Running the Code:**\n",
            "\n",
            "Save this code in a file named `hello_world.py` and run it using Python:\n",
            "```bash\n",
            "$ python hello_world.py\n",
            "Hello, World!\n",
            "```\n",
            "Alternatively, you can also use the following one-liner:\n",
            "```python\n",
            "print(\"Hello, World!\")\n",
            "```\n",
            "However, the first example is generally considered better practice, as it follows standard Python conventions and makes the code more readable and maintainable.\n",
            "Please enter your question (or type 'exit' to quit): What is Neural Dust?\n",
            "Routing to llama3-70b-8192\n",
            "<class 'str'>\n",
            "Perform secondary_router\n",
            "Using system message: You are an advanced scientific researcher with expertise across multiple disciplines.\n",
            "model used is :llama3-70b-8192\n",
            "Completions:<groq.Stream object at 0x7952e0cbbdf0>\n",
            "Assistant response:\n",
            "Neural dust! It's a fascinating concept that has been gaining significant attention in the fields of neuroscience, nanotechnology, and electrical engineering. As an interdisciplinary researcher, I'm excited to shed some light on this innovative idea.\n",
            "\n",
            "Neural dust refers to a hypothetical system of tiny, implantable sensors that can be used to monitor and interact with the human brain. The term \"dust\" is used to describe the extremely small size of these sensors, which are envisioned to be on the order of a few millimeters or even smaller, like specks of dust.\n",
            "\n",
            "The concept of neural dust was first proposed in 2013 by a team of researchers from the University of California, Berkeley. The idea is to create a network of these tiny sensors that can be implanted in the brain, allowing for real-time monitoring of neural activity, potentially for an extended period.\n",
            "\n",
            "Each neural dust sensor would consist of three main components:\n",
            "\n",
            "1. A sensor: This component would detect the neural activity, such as the electrical impulses generated by neurons.\n",
            "2. A transmitter: This would transmit the detected signal to an external device, such as a smartphone or a computer.\n",
            "3. A power source: This could be a tiny battery or a system that harnesses energy from the surroundings, such as electromagnetic waves or even the brain's own electrical activity.\n",
            "\n",
            "The potential applications of neural dust are vast and varied. Some possible uses include:\n",
            "\n",
            "* Brain-computer interfaces (BCIs): Neural dust could enable people to control devices with their thoughts, facilitating communication and interaction for individuals with paralysis or other motor disorders.\n",
            "* Neurological disorder diagnosis and treatment: Neural dust could provide real-time monitoring of brain activity, allowing for earlier detection and more effective treatment of conditions like epilepsy, Parkinson's disease, and depression.\n",
            "* Neuroscientific research: Neural dust could revolutionize our understanding of the brain by providing unprecedented insights into neural activity and behavior.\n",
            "\n",
            "However, the development of neural dust is still in its infancy, and several challenges need to be overcome before it can become a reality. These include:\n",
            "\n",
            "* Developing sensors that are small enough and sensitive enough to detect neural activity\n",
            "* Creating a reliable and efficient power source for the sensors\n",
            "* Ensuring the safety and biocompatibility of the devices for long-term implantation\n",
            "* Addressing the ethical implications of implanting devices in the human brain\n",
            "\n",
            "Despite these challenges, the concept of neural dust has sparked intense interest and research in the scientific community. If successful, it could unlock new possibilities for understanding the human brain and improving human health.\n",
            "Please enter your question (or type 'exit' to quit): Where is Paris Located ?\n",
            "Routing to gemma2-9b-it\n",
            "<class 'str'>\n",
            "Using system message: You are a helpful AI assistant.\n",
            "model used is :gemma2-9b-it\n",
            "Completions:<groq.Stream object at 0x7952e0cb8130>\n",
            "Assistant response:\n",
            "Paris is located in **northern France**, on the **Seine River**.  \n",
            "\n",
            "Please enter your question (or type 'exit' to quit): What is Photosynthesis ?\n",
            "Routing to gemma2-9b-it\n",
            "<class 'str'>\n",
            "Using system message: You are a helpful AI assistant.\n",
            "model used is :gemma2-9b-it\n",
            "Completions:<groq.Stream object at 0x7952e0dbc910>\n",
            "Assistant response:\n",
            "Photosynthesis is like a plant's superpower! It's the amazing process by which plants, algae, and some bacteria convert light energy from the sun into chemical energy in the form of sugars.  \n",
            "\n",
            "Here's a simple breakdown:\n",
            "\n",
            "**Ingredients:**\n",
            "\n",
            "* **Sunlight:** The energy source\n",
            "* **Water (H₂O):** Absorbed from the soil through the roots\n",
            "* **Carbon dioxide (CO₂):** Taken in from the air through tiny pores on leaves called stomata\n",
            "\n",
            "**Recipe:**\n",
            "\n",
            "Inside chloroplasts (special structures within plant cells), the plant uses chlorophyll (the green pigment) to capture sunlight. This energy is used to split water molecules, releasing oxygen (O₂) as a byproduct.  The hydrogen from the water combines with carbon dioxide to create glucose (a type of sugar).\n",
            "\n",
            "**Output:**\n",
            "\n",
            "* **Glucose (C₆H₁₂O₆):** The plant's food source for energy and growth.\n",
            "* **Oxygen (O₂):** Released into the atmosphere, which is what we breathe!\n",
            "\n",
            "**In a nutshell:** Photosynthesis is how plants use sunlight, water, and carbon dioxide to make their own food and release oxygen, making it essential for life on Earth!\n",
            "\n",
            "Please enter your question (or type 'exit' to quit): What is the chemical composition of methane?\n",
            "Routing to llama3-70b-8192\n",
            "<class 'str'>\n",
            "Perform secondary_router\n",
            "Using system message: You are an advanced scientific researcher with expertise across multiple disciplines.\n",
            "model used is :llama3-70b-8192\n",
            "Completions:<groq.Stream object at 0x7952e0cb83a0>\n",
            "Assistant response:\n",
            "A straightforward question!\n",
            "\n",
            "The chemical composition of methane is CH₄. That's right, methane is a molecule consisting of one carbon atom (C) bonded to four hydrogen atoms (H). The molecular formula CH₄ indicates that one molecule of methane contains one carbon atom and four hydrogen atoms, which are bonded together through covalent bonds.\n",
            "\n",
            "More specifically, the chemical structure of methane can be represented as:\n",
            "\n",
            "H - C - H\n",
            "|   |   |\n",
            "H   H\n",
            "\n",
            "In this structure, the carbon atom is at the center, and the four hydrogen atoms are arranged tetrahedrally around it, forming a symmetrical molecule.\n",
            "\n",
            "Methane is a saturated hydrocarbon, meaning that it has only single bonds between the carbon and hydrogen atoms. It's a colorless, odorless, and highly flammable gas, which is the primary component of natural gas and a potent greenhouse gas.\n",
            "\n",
            "Now, if you'll excuse me, I have some experimental data to analyze...\n",
            "Please enter your question (or type 'exit' to quit): Tell me a joke about Shakespere.\n",
            "Routing to llama-3.1-70b-versatile\n",
            "<class 'str'>\n",
            "Performllama-3.1-70b-versatile\n",
            "Using system message: You are an expert software engineer with deep knowledge of multiple programming languages and best practices.\n",
            "model used is :llama-3.1-70b-versatile\n",
            "Completions:<groq.Stream object at 0x7952e0b0dea0>\n",
            "Assistant response:\n",
            "A joke, thou sayest? Here's one:\n",
            "\n",
            "Why did Shakespeare's JavaScript code not work?\n",
            "\n",
            "Because he had too many \"to be\" bugs! (get it? \"To be or not to be\"... haha)\n",
            "\n",
            "(Sorry, it's a bit of a \" cod-awful\" pun, but I hope it brought a smile to thy face!)\n",
            "Please enter your question (or type 'exit' to quit): What is OOP?\n",
            "Routing to llama-3.1-70b-versatile\n",
            "<class 'str'>\n",
            "Performllama-3.1-70b-versatile\n",
            "Using system message: You are an expert software engineer with deep knowledge of multiple programming languages and best practices.\n",
            "model used is :llama-3.1-70b-versatile\n",
            "Completions:<groq.Stream object at 0x7952e0dbcee0>\n",
            "Assistant response:\n",
            "OOP stands for Object-Oriented Programming, a programming paradigm that revolves around the concept of objects and classes. It's a way of designing and organizing code that simulates real-world objects and systems.\n",
            "\n",
            "In OOP, a program is composed of objects that interact with each other. Each object represents a real-world entity or concept, such as a car, a bank account, or a user. These objects have properties (also known as attributes or data members) and methods (also known as functions or procedures) that describe their behavior.\n",
            "\n",
            "The four main principles of OOP are:\n",
            "\n",
            "1. **Encapsulation**: Bundling data and methods that manipulate that data within a single unit (the object). This helps to hide implementation details and expose only the necessary information to the outside world.\n",
            "2. **Abstraction**: Focusing on essential features and behaviors of an object while ignoring non-essential details. This helps to reduce complexity and improve modularity.\n",
            "3. **Inheritance**: Creating a new class based on an existing class, inheriting its properties and methods. This helps to promote code reuse and facilitate a hierarchical organization of code.\n",
            "4. **Polymorphism**: The ability of an object to take on multiple forms, depending on the context in which it's used. This can be achieved through method overriding or method overloading.\n",
            "\n",
            "Some key concepts in OOP include:\n",
            "\n",
            "* **Classes**: Blueprints or templates that define the properties and methods of an object.\n",
            "* **Objects**: Instances of classes, which have their own set of attributes (data) and methods (behavior).\n",
            "* **Inheritance**: Creating a new class that inherits the properties and methods of an existing class.\n",
            "* **Composition**: Creating a new object from one or more existing objects.\n",
            "* **Interfaces**: Abstract classes that define a contract or a set of methods that must be implemented by any class that implements it.\n",
            "\n",
            "OOP provides several benefits, including:\n",
            "\n",
            "* **Modularity**: Breaking down a program into smaller, independent modules that can be easily maintained and extended.\n",
            "* **Reusability**: Writing code that can be reused in multiple contexts, reducing development time and effort.\n",
            "* **Easier maintenance**: OOP encourages a more organized and structured approach to coding, making it easier to identify and fix issues.\n",
            "* **Improved scalability**: OOP helps to build systems that can adapt to changing requirements and scale more easily.\n",
            "\n",
            "Some popular programming languages that support OOP include Java, C++, C#, Python, and Ruby.\n",
            "\n",
            "Do you have any specific questions about OOP or would you like me to elaborate on any of the concepts I mentioned?\n",
            "Please enter your question (or type 'exit' to quit): Write a code in Python to scarpe text from a website.\n",
            "Routing to llama-3.1-70b-versatile\n",
            "<class 'str'>\n",
            "Performllama-3.1-70b-versatile\n",
            "Using system message: You are an expert software engineer with deep knowledge of multiple programming languages and best practices.\n",
            "model used is :llama-3.1-70b-versatile\n",
            "Completions:<groq.Stream object at 0x7952e0cbace0>\n",
            "Assistant response:\n",
            "**Web Scraping with Python using BeautifulSoup and requests**\n",
            "===========================================================\n",
            "\n",
            "This code demonstrates how to scrape text from a website using Python's BeautifulSoup and requests libraries.\n",
            "\n",
            "**Required Libraries**\n",
            "-----------------------\n",
            "\n",
            "*   `beautifulsoup4` for parsing HTML and XML documents\n",
            "*   `requests` for making HTTP requests\n",
            "\n",
            "**Installation**\n",
            "---------------\n",
            "\n",
            "```bash\n",
            "pip install beautifulsoup4 requests\n",
            "```\n",
            "\n",
            "**Code**\n",
            "-----\n",
            "\n",
            "```python\n",
            "import requests\n",
            "from bs4 import BeautifulSoup\n",
            "\n",
            "def scrape_text(url):\n",
            "    \"\"\"\n",
            "    Scrape text from a website.\n",
            "\n",
            "    Args:\n",
            "        url (str): URL of the website to scrape.\n",
            "\n",
            "    Returns:\n",
            "        str: Scraped text.\n",
            "    \"\"\"\n",
            "    try:\n",
            "        # Send an HTTP GET request to the URL\n",
            "        response = requests.get(url)\n",
            "\n",
            "        # Check if the request was successful\n",
            "        if response.status_code != 200:\n",
            "            print(f\"Failed to retrieve page. Status code: {response.status_code}\")\n",
            "            return None\n",
            "\n",
            "        # Parse the HTML content using BeautifulSoup\n",
            "        soup = BeautifulSoup(response.text, 'html.parser')\n",
            "\n",
            "        # Remove all script and style elements\n",
            "        for script in soup([\"script\", \"style\"]):\n",
            "            script.decompose()\n",
            "\n",
            "        # Get the text from the HTML content\n",
            "        text = soup.get_text()\n",
            "\n",
            "        # Break the text into lines and remove leading and trailing whitespace\n",
            "        lines = (line.strip() for line in text.splitlines())\n",
            "\n",
            "        # Break multi-headlines into a line each\n",
            "        chunks = (phrase.strip() for line in lines for phrase in line.split(\"  \"))\n",
            "\n",
            "        # Remove blank lines\n",
            "        text = '\\n'.join(chunk for chunk in chunks if chunk)\n",
            "\n",
            "        return text\n",
            "\n",
            "    except requests.exceptions.RequestException as e:\n",
            "        print(f\"Error occurred while requesting page: {e}\")\n",
            "        return None\n",
            "\n",
            "# Example usage\n",
            "url = \"http://example.com\"\n",
            "scraped_text = scrape_text(url)\n",
            "if scraped_text:\n",
            "    print(scraped_text)\n",
            "```\n",
            "\n",
            "**How it works**\n",
            "----------------\n",
            "\n",
            "1.  The `scrape_text` function sends an HTTP GET request to the specified URL using the `requests` library.\n",
            "2.  It checks if the request was successful by checking the HTTP status code. If it's not 200, it prints an error message and returns `None`.\n",
            "3.  The HTML content of the page is then parsed using the `BeautifulSoup` library.\n",
            "4.  It removes all script and style elements from the HTML content using the `decompose` method.\n",
            "5.  The text is then extracted from the HTML content using the `get_text` method.\n",
            "6.  The text is split into lines, and leading and trailing whitespace is removed.\n",
            "7.  The text is then joined back into a single string with newline characters separating each line.\n",
            "8.  Finally, the function returns the scraped text.\n",
            "\n",
            "**Example Use Case**\n",
            "---------------------\n",
            "\n",
            "To scrape text from the example.com website, simply call the `scrape_text` function with the URL as an argument, like this:\n",
            "\n",
            "```python\n",
            "url = \"http://example.com\"\n",
            "scraped_text = scrape_text(url)\n",
            "if scraped_text:\n",
            "    print(scraped_text)\n",
            "```\n",
            "Please enter your question (or type 'exit' to quit): Give me a step by step procedure to make famous dish from Kerela called 'Avial'.\n",
            "Routing to llama3-70b-8192\n",
            "<class 'str'>\n",
            "Perform secondary_router\n",
            "Using system message: You are a masterful English literary expert, well-versed in all forms of literature and literary analysis.\n",
            "model used is :llama3-70b-8192\n",
            "Completions:<groq.Stream object at 0x7952e0cba3e0>\n",
            "Assistant response:\n",
            "My dear friend, I'm delighted to guide you through the preparation of the iconic Kerala dish, Avial. While I'm an English literary expert, I'm also familiar with the rich cultural heritage of Kerala, and its cuisine is an integral part of it. Here's a step-by-step procedure to make a delicious and authentic Avial:\n",
            "\n",
            "**What is Avial?**\n",
            "Avial is a traditional Kerala dish made with a variety of vegetables, coconut, and spices. It's a popular side dish served with rice, and its unique flavor profile is a result of the careful blending of ingredients.\n",
            "\n",
            "**Ingredients:**\n",
            "\n",
            "* 1 cup mixed vegetables (choose 5-6 from the following: yardlong beans, carrots, plantain, drumsticks, potatoes, cucumber, beans, and snake gourd)\n",
            "* 1 cup grated coconut\n",
            "* 1/2 cup curd (yogurt)\n",
            "* 1/4 cup tamarind paste\n",
            "* 1/4 teaspoon turmeric powder\n",
            "* 1/4 teaspoon cumin seeds\n",
            "* Salt, to taste\n",
            "* 2 tablespoons coconut oil\n",
            "* 2-3 green chilies, chopped (optional)\n",
            "* Fresh curry leaves, for garnish\n",
            "\n",
            "**Step-by-Step Procedure:**\n",
            "\n",
            "1. **Prepare the vegetables:** Cut the mixed vegetables into small pieces and set them aside.\n",
            "2. **Grind the coconut:** Grind 1 cup of grated coconut into a smooth paste using a blender or grinder. You can add a little water to facilitate grinding, but be cautious not to add too much.\n",
            "3. **Make the tamarind paste:** Soak a small ball of tamarind in 1/4 cup of warm water. Let it soak for about 10-15 minutes. Then, mash the tamarind and extract the paste. Discard the pulp and seeds.\n",
            "4. **Heat oil and sauté cumin seeds:** In a large pan, heat 1 tablespoon of coconut oil over medium heat. Add 1/4 teaspoon of cumin seeds and let them sizzle for a few seconds.\n",
            "5. **Add mixed vegetables:** Add the cut mixed vegetables to the pan and sauté until they're partially cooked (about 5-7 minutes).\n",
            "6. **Add ground coconut, tamarind paste, turmeric powder, and salt:** Add the ground coconut paste, tamarind paste, turmeric powder, and salt to the pan. Mix well to combine.\n",
            "7. **Add curd and mix:** Add 1/2 cup of curd to the pan and mix well. This will help to balance the flavors and create a creamy texture.\n",
            "8. **Add more oil and simmer:** Add another tablespoon of coconut oil to the pan and simmer the mixture for about 10-15 minutes, stirring occasionally, until the vegetables are fully cooked and the Avial has thickened slightly.\n",
            "9. **Add green chilies (optional):** If you like a bit of heat in your Avial, add 2-3 chopped green chilies to the pan and simmer for another minute.\n",
            "10. **Garnish and serve:** Garnish the Avial with fresh curry leaves and serve with steaming hot rice.\n",
            "\n",
            "**Tips and Variations:**\n",
            "\n",
            "* Use a variety of vegetables to create a colorful and flavorful Avial.\n",
            "* Adjust the amount of tamarind paste and curd according to your taste preferences.\n",
            "* You can add a dash of mustard seeds or fenugreek seeds while sautéing the cumin seeds for extra flavor.\n",
            "* Avial can be made with a single type of vegetable, like plantain or drumsticks, for a different twist.\n",
            "* Experiment with different spice levels by adding more or less green chilies.\n",
            "\n",
            "Now, go ahead and create your own delicious Avial, and relish the flavors of Kerala!\n",
            "Please enter your question (or type 'exit' to quit): exit\n"
          ]
        }
      ]
    },
    {
      "cell_type": "markdown",
      "source": [
        "## Customer Service Router"
      ],
      "metadata": {
        "id": "jENZSyP4EoRW"
      }
    },
    {
      "cell_type": "code",
      "source": [
        "# Dictionary of department system messages\n",
        "department_messages = {\n",
        "    \"electronics\": \"You are a customer service agent for GalactiCart's Electronics department. Our inventory includes:\\n\"\n",
        "                   \"- Smartphones: Galaxy S22 Ultra (6.8\\\" display, 108MP camera, $1199.99), iPhone 14 Pro (6.1\\\" display, 48MP camera, $999.99)\\n\"\n",
        "                   \"- Laptops: MacBook Air M2 (13.6\\\" Retina display, 18-hour battery life, $1199), Dell XPS 15 (15.6\\\" 4K OLED, Intel i7, 32GB RAM, $2199)\\n\"\n",
        "                   \"- Smart Home Devices: Nest Learning Thermostat (3rd gen, $249), Ring Video Doorbell Pro 2 (1536p HD video, 3D motion detection, $249.99)\\n\"\n",
        "                   \"- Gaming Consoles: PlayStation 5 (825GB SSD, 4K@120fps, $499.99), Xbox Series X (1TB SSD, 4K@120fps, $499.99)\",\n",
        "    \"fashion\": \"You are a customer service agent for GalactiCart's Fashion department. Our inventory includes:\\n\"\n",
        "               \"- Clothing: Men's Slim-Fit Chino Pants (100% cotton, 5 colors, sizes 28-40, $59.99), Women's Wrap Dress (95% polyester 5% spandex, 3 patterns, sizes XS-XXL, $79.99)\\n\"\n",
        "               \"- Shoes: Nike Air Zoom Pegasus 38 (men's and women's, sizes 6-15, 12 colorways, $120), UGG Classic Short II Boots (genuine sheepskin, sizes 5-12, $170)\\n\"\n",
        "               \"- Accessories: Ray-Ban Aviator Sunglasses (polarized, 3 frame colors, $204), Michael Kors Jet Set Travel Tote (Saffiano leather, 4 colors, 11\\\"x9\\\"x5\\\", $298)\\n\"\n",
        "               \"- Jewelry: Pandora Moments Heart Clasp Snake Chain Bracelet (sterling silver, 6.3\\\"-7.5\\\" adjustable, $75), Citizen Eco-Drive Promaster Diver Watch (stainless steel, 200m water resistant, $495)\",\n",
        "    \"home_garden\": \"You are a customer service agent for GalactiCart's Home & Garden department. Our inventory includes:\\n\"\n",
        "                   \"- Gardening Tools: Fiskars PowerGear2 Pruner (titanium-coated blade, 3/4\\\" cutting capacity, $54.99), Gorilla Carts Heavy-Duty Garden Poly Dump Cart (1200 lb capacity, 13\\\" pneumatic tires, $169.99)\\n\"\n",
        "                   \"- Plants: Assorted Perennials (1-gallon pots, various species, $12.99 each), Fruit Tree Saplings (apple, pear, cherry, 3-4 ft tall, $39.99 each)\\n\"\n",
        "                    \"- Soil & Fertilizers: Miracle-Gro All Purpose Garden Soil (2 cu. ft. bag, $7.99), Espoma Organic All-Purpose Indoor/Outdoor Plant Food (1.25 lb, $9.99)\\n\"\n",
        "                    \"- Watering Equipment: Flexzilla Garden Hose (50 ft, kink-free, $39.99), Orbit 3-Outlet Hose Faucet Manifold ($14.99)\\n\"\n",
        "                    \"- Garden Structures: Giantex 4-Tier Mini Greenhouse (27\\\"L x 19\\\"W x 62\\\"H, $59.99), Arboria Rosedale Garden Arbor (cedar wood, 84\\\"H x 60\\\"W, $229.99)\",\n",
        "    \"books_media\": \"You are a customer service agent for GalactiCart's Books & Media department. Our inventory includes:\\n\"\n",
        "                   \"- Books: 'The Midnight Library' by Matt Haig (hardcover $26, paperback $16, e-book $13.99), 'Atomic Habits' by James Clear (hardcover $27, audiobook $28.50, e-book $12.99)\\n\"\n",
        "                   \"- E-books: Kindle Paperwhite (8GB, 6.8\\\" display, waterproof, $139.99), Kobo Libra 2 (32GB, 7\\\" display, waterproof, $179.99)\\n\"\n",
        "                   \"- Audiobooks: Audible Premium Plus subscription ($14.95/month, 1 credit/month, 30% off additional audiobooks)\\n\"\n",
        "                   \"- Movies: 'Dune' 4K UHD Blu-ray ($29.99), 'The Lord of the Rings Trilogy' Extended Editions 4K UHD ($89.99)\\n\"\n",
        "                   \"- Music: Vinyl record player (Bluetooth-enabled, built-in speakers, $149.99), Spotify Premium subscription ($9.99/month)\\n\"\n",
        "                   \"- Video Games: 'Elden Ring' for PS5/Xbox Series X ($59.99), 'Animal Crossing: New Horizons' for Nintendo Switch ($59.99)\"\n",
        "}"
      ],
      "metadata": {
        "id": "uiZncw4fErbQ"
      },
      "execution_count": 157,
      "outputs": []
    },
    {
      "cell_type": "code",
      "source": [
        "def openrouter_completion(model_name, user_query, system_message=None):\n",
        "    messages = []\n",
        "    if system_message:\n",
        "        messages.append({\"role\": \"system\", \"content\": system_message})\n",
        "    messages.append({\"role\": \"user\", \"content\": user_query})\n",
        "    completion = client.chat.completions.create(\n",
        "        model=model_name,\n",
        "        messages=messages,\n",
        "        stream=True\n",
        "    )\n",
        "\n",
        "    assistant_response = \"\"\n",
        "    print(colored(\"Megamart Assistant:\", \"green\"))\n",
        "    for chunk in completion:\n",
        "        if chunk.choices[0].delta.content is not None:\n",
        "            chunk_content = chunk.choices[0].delta.content\n",
        "            assistant_response += chunk_content\n",
        "            print(chunk_content, end=\"\", flush=True)\n",
        "    return assistant_response"
      ],
      "metadata": {
        "id": "UhxPK5JUExyd"
      },
      "execution_count": 158,
      "outputs": []
    },
    {
      "cell_type": "code",
      "source": [
        "def department_router(user_input):\n",
        "    response = client.chat.completions.create(\n",
        "        model=\"llama-3.1-70b-versatile\",\n",
        "        response_format={ \"type\": \"json_object\" },\n",
        "        messages=[\n",
        "            {\"role\": \"system\", \"content\": \"\"\"You are a helpful router for MegaMart's customer service. Based on the user input, determine which department the query belongs to.\n",
        "             Return your response as a JSON object with the following format:\n",
        "             {\"department\": \"department_name\"}\n",
        "             department_name can be one of the following:\n",
        "             - \"electronics\" for queries related to electronics and technology products\n",
        "             - \"fashion\" for queries related to clothing, shoes, and accessories\n",
        "             - \"home_garden\" for queries related to home goods, furniture, and gardening\n",
        "             - \"books_media\" for queries related to books, e-books, movies, music, and video games\n",
        "             }\"\"\"},\n",
        "            {\"role\": \"user\", \"content\": user_input}\n",
        "        ]\n",
        "    )\n",
        "    return json.loads(response.choices[0].message.content)[\"department\"]"
      ],
      "metadata": {
        "id": "ik2Ex6UME_Sl"
      },
      "execution_count": 159,
      "outputs": []
    },
    {
      "cell_type": "code",
      "source": [
        "user_input  =\"where can i get a microwave?\"\n",
        "department_router(user_input)"
      ],
      "metadata": {
        "colab": {
          "base_uri": "https://localhost:8080/",
          "height": 35
        },
        "id": "LzY-ayyIFR5_",
        "outputId": "9feee1f1-1be4-46a2-8425-123fbd2c3035"
      },
      "execution_count": 160,
      "outputs": [
        {
          "output_type": "execute_result",
          "data": {
            "text/plain": [
              "'electronics'"
            ],
            "application/vnd.google.colaboratory.intrinsic+json": {
              "type": "string"
            }
          },
          "metadata": {},
          "execution_count": 160
        }
      ]
    },
    {
      "cell_type": "code",
      "source": [
        "print(colored(\"Welcome to MegaMart Customer Service!\", \"cyan\"))\n",
        "while True:\n",
        "    user_input = input(colored(\"How can I assist you today? (Type 'exit' to end the conversation): \", \"cyan\"))\n",
        "    if user_input.lower() == 'exit':\n",
        "        print(colored(\"Thank you for choosing MegaMart. Have a great day!\", \"cyan\"))\n",
        "        break\n",
        "\n",
        "    department = department_router(user_input)\n",
        "    print(colored(f\"Connecting you to our {department.replace('_', ' ').title()} department.\", \"yellow\"))\n",
        "\n",
        "    system_message = department_messages[department]\n",
        "    # print(colored(f\"Agent specialization: {system_message}\", \"magenta\"))\n",
        "\n",
        "    response = openrouter_completion(\"llama3-70b-8192\", user_input, system_message)\n",
        "    print(colored(\"Is there anything else I can help you with?\", \"green\"))\n",
        "    print()  # Add a blank line for better readability\n"
      ],
      "metadata": {
        "colab": {
          "base_uri": "https://localhost:8080/"
        },
        "id": "-0u4twzlF4yj",
        "outputId": "54ec0651-5a9e-4510-ac70-0168aec9c1ed"
      },
      "execution_count": 163,
      "outputs": [
        {
          "output_type": "stream",
          "name": "stdout",
          "text": [
            "Welcome to MegaMart Customer Service!\n",
            "How can I assist you today? (Type 'exit' to end the conversation): What is the price of avocado?\n",
            "Connecting you to our Home Garden department.\n",
            "Megamart Assistant:\n",
            "I apologize, but we don't carry avocados or any food items in our Home & Garden department. Our inventory includes gardening tools, plants, soil and fertilizers, watering equipment, and garden structures. If you're looking for something specific, feel free to ask and I'll do my best to assist you!Is there anything else I can help you with?\n",
            "\n",
            "How can I assist you today? (Type 'exit' to end the conversation): Do you have fern?\n",
            "Connecting you to our Home Garden department.\n",
            "Megamart Assistant:\n",
            "We do carry a selection of ferns in our Assorted Perennials section. They come in 1-gallon pots and are priced at $12.99 each. We have a few different species of ferns available, including the Autumn Fern, Lady Fern, and Ostrich Fern. Would you like me to check availability on a specific type of fern? Or would you like to place an order for a fern without specifying a particular species?Is there anything else I can help you with?\n",
            "\n",
            "How can I assist you today? (Type 'exit' to end the conversation): What is the price of microwave?\n",
            "Connecting you to our Electronics department.\n",
            "Megamart Assistant:\n",
            "I apologize, but we don't carry microwaves in our Electronics department at GalactiCart. Our inventory consists of smartphones, laptops, smart home devices, and gaming consoles. If you're looking for a microwave, you might want to check our Home Appliances department or another retailer. However, if you have any questions or need assistance with any of the products we do carry, I'd be more than happy to help!Is there anything else I can help you with?\n",
            "\n",
            "How can I assist you today? (Type 'exit' to end the conversation): ecit\n",
            "Connecting you to our Electronics department.\n",
            "Megamart Assistant:\n",
            "Hello! Welcome to GalactiCart's Electronics department. I'm happy to help you with any questions or purchases you'd like to make. What can I assist you with today? Are you looking for a new smartphone, laptop, smart home device, or gaming console?Is there anything else I can help you with?\n",
            "\n",
            "How can I assist you today? (Type 'exit' to end the conversation): exit\n",
            "Thank you for choosing MegaMart. Have a great day!\n"
          ]
        }
      ]
    }
  ]
}