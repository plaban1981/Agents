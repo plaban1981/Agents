{
  "nbformat": 4,
  "nbformat_minor": 0,
  "metadata": {
    "colab": {
      "provenance": [],
      "machine_shape": "hm",
      "authorship_tag": "ABX9TyOaBFUBVCFaSpImGedJoULy",
      "include_colab_link": true
    },
    "kernelspec": {
      "name": "python3",
      "display_name": "Python 3"
    },
    "language_info": {
      "name": "python"
    }
  },
  "cells": [
    {
      "cell_type": "markdown",
      "metadata": {
        "id": "view-in-github",
        "colab_type": "text"
      },
      "source": [
        "<a href=\"https://colab.research.google.com/github/plaban1981/Agents/blob/main/LLM_Router.ipynb\" target=\"_parent\"><img src=\"https://colab.research.google.com/assets/colab-badge.svg\" alt=\"Open In Colab\"/></a>"
      ]
    },
    {
      "cell_type": "code",
      "execution_count": 4,
      "metadata": {
        "colab": {
          "base_uri": "https://localhost:8080/"
        },
        "id": "Zuql1qaDZPSk",
        "outputId": "4316b35b-f32d-4487-8167-71ba48ff8ef4"
      },
      "outputs": [
        {
          "output_type": "stream",
          "name": "stdout",
          "text": [
            "\u001b[?25l   \u001b[90m━━━━━━━━━━━━━━━━━━━━━━━━━━━━━━━━━━━━━━━━\u001b[0m \u001b[32m0.0/997.8 kB\u001b[0m \u001b[31m?\u001b[0m eta \u001b[36m-:--:--\u001b[0m\r\u001b[2K   \u001b[91m━\u001b[0m\u001b[90m╺\u001b[0m\u001b[90m━━━━━━━━━━━━━━━━━━━━━━━━━━━━━━━━━━━━━━\u001b[0m \u001b[32m30.7/997.8 kB\u001b[0m \u001b[31m762.4 kB/s\u001b[0m eta \u001b[36m0:00:02\u001b[0m\r\u001b[2K   \u001b[91m━━━━\u001b[0m\u001b[91m╸\u001b[0m\u001b[90m━━━━━━━━━━━━━━━━━━━━━━━━━━━━━━━━━━━\u001b[0m \u001b[32m122.9/997.8 kB\u001b[0m \u001b[31m1.7 MB/s\u001b[0m eta \u001b[36m0:00:01\u001b[0m\r\u001b[2K   \u001b[91m━━━━━━━━━━━━\u001b[0m\u001b[91m╸\u001b[0m\u001b[90m━━━━━━━━━━━━━━━━━━━━━━━━━━━\u001b[0m \u001b[32m317.4/997.8 kB\u001b[0m \u001b[31m3.0 MB/s\u001b[0m eta \u001b[36m0:00:01\u001b[0m\r\u001b[2K   \u001b[91m━━━━━━━━━━━━━━━━━━━━━━━━━━━━━\u001b[0m\u001b[91m╸\u001b[0m\u001b[90m━━━━━━━━━━\u001b[0m \u001b[32m747.5/997.8 kB\u001b[0m \u001b[31m5.3 MB/s\u001b[0m eta \u001b[36m0:00:01\u001b[0m\r\u001b[2K   \u001b[91m━━━━━━━━━━━━━━━━━━━━━━━━━━━━━━━━━━━━━━━\u001b[0m\u001b[91m╸\u001b[0m \u001b[32m993.3/997.8 kB\u001b[0m \u001b[31m6.3 MB/s\u001b[0m eta \u001b[36m0:00:01\u001b[0m\r\u001b[2K   \u001b[90m━━━━━━━━━━━━━━━━━━━━━━━━━━━━━━━━━━━━━━━━\u001b[0m \u001b[32m997.8/997.8 kB\u001b[0m \u001b[31m5.5 MB/s\u001b[0m eta \u001b[36m0:00:00\u001b[0m\n",
            "\u001b[?25h"
          ]
        }
      ],
      "source": [
        "!pip install -qU langchain\n",
        "!pip install -qU groq\n",
        "!pip install -qU langchain-groq\n"
      ]
    },
    {
      "cell_type": "code",
      "source": [
        "from google.colab import userdata\n",
        "import os\n",
        "os.environ['OPENAI_API_KEY'] = userdata.get('OPENAI_API_KEY')\n",
        "os.environ['GROQ_API_KEY'] = userdata.get('GROQ_API_KEY')"
      ],
      "metadata": {
        "id": "NUJfYQatZsD-"
      },
      "execution_count": 3,
      "outputs": []
    },
    {
      "cell_type": "code",
      "source": [
        "import os\n",
        "\n",
        "from groq import Groq\n",
        "\n",
        "client = Groq(\n",
        "    api_key=os.environ.get(\"GROQ_API_KEY\"),\n",
        ")"
      ],
      "metadata": {
        "id": "Zm34P684cQxb"
      },
      "execution_count": 5,
      "outputs": []
    },
    {
      "cell_type": "code",
      "source": [
        "def openrouter_completion(model_name, user_query, system_message=None):\n",
        "    messages = []\n",
        "    if system_message:\n",
        "        messages.append({\"role\": \"system\", \"content\": system_message})\n",
        "    messages.append({\"role\": \"user\", \"content\": user_query})\n",
        "    completion = client.chat.completions.create(\n",
        "        model=model_name,\n",
        "        messages=messages\n",
        "    )\n",
        "    return completion.choices[0].message.content"
      ],
      "metadata": {
        "id": "7WG1l3AqcMvp"
      },
      "execution_count": 12,
      "outputs": []
    },
    {
      "cell_type": "code",
      "source": [
        "def router(user_input):\n",
        "    response = client.chat.completions.create(\n",
        "        model=\"llama3-8b-8192\",\n",
        "        messages=[\n",
        "            {\"role\": \"system\", \"content\": \"\"\"You are a helpful router designed to output JSON. you decide which route user input belongs to based on the type of the user query\n",
        "             return your response as follows:\n",
        "             {{\n",
        "             \"route\": \"route_name\", can be one of the following:\n",
        "             - \"llama-3.1-70b-versatile\"- for more complex, in depth questions and queries except code\n",
        "             - \"llama3-70b-8192\" for all code queries.\n",
        "             - \"gemma-7b-it\" for other simple daily conversation like regular speak\n",
        "             }}\"\"\"},\n",
        "            {\"role\": \"user\", \"content\": user_input}\n",
        "        ]\n",
        "    )\n",
        "    print(type(response.choices[0].message.content))\n",
        "    return response.choices[0].message.content"
      ],
      "metadata": {
        "id": "3OtBTLKQc2Zk"
      },
      "execution_count": 14,
      "outputs": []
    },
    {
      "cell_type": "code",
      "source": [
        "import json\n",
        "while True:\n",
        "    user_input = input(\"Please enter your question (or type 'exit' to quit): \")\n",
        "    if user_input.lower() == 'exit':\n",
        "        break\n",
        "\n",
        "    # Attempt to parse JSON, handle potential errors\n",
        "    try:\n",
        "        response_text = router(user_input)\n",
        "        model = json.loads(response_text)\n",
        "        model = model[\"route\"]\n",
        "    except json.JSONDecodeError:\n",
        "        print(\"Error: Invalid JSON returned from router. Please review the router's output.\")\n",
        "        print(f\"Router raw output: {response_text}\") # Print raw output for debugging\n",
        "        continue # Skip to next iteration of the loop\n",
        "\n",
        "    if model == \"llama3-8b-8192\":\n",
        "        system_message = \"You are a masterful english literary\"\n",
        "        print(openrouter_completion(model, user_input, system_message))\n",
        "    elif model == \"llama-3.1-70b-versatile\":\n",
        "        print(openrouter_completion(model, user_input))\n",
        "    elif model == \"gemma-7b-it\":\n",
        "        print(openrouter_completion(model, user_input))"
      ],
      "metadata": {
        "colab": {
          "base_uri": "https://localhost:8080/"
        },
        "id": "WmF2c2ukdd4r",
        "outputId": "9a1198f7-ffd7-4310-eced-8d06a12538a6"
      },
      "execution_count": 15,
      "outputs": [
        {
          "name": "stdout",
          "output_type": "stream",
          "text": [
            "Please enter your question (or type 'exit' to quit): What is the Contribution of Shakesphere to English Literature ?\n",
            "<class 'str'>\n",
            "I think you meant \"Shakespeare\"!\n",
            "\n",
            "William Shakespeare (1564-1616) is widely regarded as one of the greatest writers in the English language and the world's pre-eminent dramatist. His contributions to English literature are immense and far-reaching. Here are some of the most significant:\n",
            "\n",
            "1. **Invention of New Words and Phrases**: Shakespeare introduced many words and phrases that are still in use today. It's estimated that he contributed over 1700 words to the English language, including \"assassination,\" \"bedazzled,\" \"fashionable,\" and \"lonely.\"\n",
            "2. **Development of the English Sonnet**: Shakespeare popularized the sonnet, a 14-line poem with a specific rhyme scheme. His sonnets are still studied and admired for their beauty, complexity, and emotional depth.\n",
            "3. **Shaping the English Language**: Shakespeare's writing helped to standardize English spelling and grammar. His plays and poems also influenced the development of English vocabulary, idioms, and expressions.\n",
            "4. **Establishing the English Theatre**: Shakespeare's plays helped to establish the English theatre as a major cultural institution. His company, the Lord Chamberlain's Men (later known as the King's Men), was one of the first professional theatre companies in England.\n",
            "5. **Creating Iconic Characters**: Shakespeare's characters, such as Hamlet, Macbeth, Othello, Romeo, and Juliet, are iconic figures in world literature. They have become part of the cultural consciousness and continue to inspire new adaptations and interpretations.\n",
            "6. **Exploring the Human Condition**: Shakespeare's plays and poems explore universal themes and emotions, including love, power, ambition, mortality, and the human condition. His works continue to resonate with audiences today.\n",
            "7. **Influence on Literature and the Arts**: Shakespeare's influence can be seen in literature, music, art, film, and other creative fields. Many authors, including Charles Dickens, Jane Austen, and the Romantic poets, were influenced by his works.\n",
            "8. **Preserving History and Culture**: Shakespeare's plays often drew on historical events and figures, preserving them for future generations. His works also provide insights into the culture and society of Elizabethan England.\n",
            "9. **Creating a New Form of Drama**: Shakespeare's plays helped to develop a new form of drama, combining elements of Greek tragedy, Roman comedy, and English folk traditions. His plays are known for their complex characters, nuanced language, and exploration of themes.\n",
            "10. **Enduring Legacy**: Shakespeare's works continue to be performed, studied, and admired around the world. His legacy extends beyond literature to inspire new artistic creations, adaptations, and interpretations.\n",
            "\n",
            "In summary, Shakespeare's contributions to English literature are immeasurable. He enriched the language, expanded the possibilities of drama and poetry, and created works that continue to inspire and captivate audiences to this day.\n",
            "Please enter your question (or type 'exit' to quit): Write a Python Code to perform a recursive loop.\n",
            "<class 'str'>\n",
            "Error: Invalid JSON returned from router. Please review the router's output.\n",
            "Router raw output: Here's an example of a recursive loop in Python:\n",
            "```\n",
            "{\n",
            "    \"route\": \"llama3-70b-8192\"\n",
            "}\n",
            "```\n",
            "Here's the Python code:\n",
            "```\n",
            "def factorial(n):\n",
            "  if n == 0:\n",
            "    return 1\n",
            "  else:\n",
            "    return n * factorial(n-1)\n",
            "\n",
            "print(factorial(5))  # Output: 120\n",
            "```\n",
            "This code defines a recursive function `factorial` that calculates the factorial of a given integer `n`. The function calls itself with a smaller input value (`n-1`) until it reaches the base case (`n == 0`), at which point it returns the result.\n",
            "Please enter your question (or type 'exit' to quit): Where is Paris located?\n",
            "<class 'str'>\n",
            "Paris is located in **northern France**. It is the capital city and the most populous city in France.\n",
            "Please enter your question (or type 'exit' to quit): exit\n"
          ]
        }
      ]
    }
  ]
}